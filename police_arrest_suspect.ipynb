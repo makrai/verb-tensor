{
 "cells": [
  {
   "cell_type": "code",
   "execution_count": 3,
   "metadata": {},
   "outputs": [
    {
     "name": "stdout",
     "output_type": "stream",
     "text": [
      "Populating the interactive namespace from numpy and matplotlib\n"
     ]
    }
   ],
   "source": [
    "import configparser\n",
    "import os\n",
    "import pickle\n",
    "\n",
    "#from gensim.models import KeyedVectors, TranslationMatrix\n",
    "import numpy as np\n",
    "import pandas as pd\n",
    "#import sktensor\n",
    "import tensorly as tl\n",
    "\n",
    "\n",
    "import matplotlib.pyplot as plt\n",
    "%pylab inline\n",
    "\n",
    "import logging\n",
    "logging.basicConfig(level=logging.INFO, \n",
    "                    format='%(msecs)d %(levelname)-8s [%(lineno)d] %(message)s')"
   ]
  },
  {
   "cell_type": "code",
   "execution_count": 4,
   "metadata": {},
   "outputs": [
    {
     "data": {
      "text/plain": [
       "['config.ini']"
      ]
     },
     "execution_count": 4,
     "metadata": {},
     "output_type": "execute_result"
    }
   ],
   "source": [
    "config = configparser.ConfigParser()                                            \n",
    "config.read('config.ini')                                                       "
   ]
  },
  {
   "cell_type": "markdown",
   "metadata": {},
   "source": [
    "# non-neg Tucker"
   ]
  },
  {
   "cell_type": "code",
   "execution_count": 5,
   "metadata": {},
   "outputs": [],
   "source": [
    "from eval_tensor import VerbTensorEvaluator"
   ]
  },
  {
   "cell_type": "code",
   "execution_count": 6,
   "metadata": {},
   "outputs": [],
   "source": [
    "evalor = VerbTensorEvaluator()"
   ]
  },
  {
   "cell_type": "code",
   "execution_count": 7,
   "metadata": {},
   "outputs": [],
   "source": [
    "evalor.load_embeddings()"
   ]
  },
  {
   "cell_type": "code",
   "execution_count": 8,
   "metadata": {},
   "outputs": [],
   "source": [
    "tensor = evalor.decomped_tns"
   ]
  },
  {
   "cell_type": "code",
   "execution_count": 9,
   "metadata": {},
   "outputs": [
    {
     "ename": "AttributeError",
     "evalue": "'CPTensor' object has no attribute 'core'",
     "output_type": "error",
     "traceback": [
      "\u001b[0;31m---------------------------------------------------------------------------\u001b[0m",
      "\u001b[0;31mAttributeError\u001b[0m                            Traceback (most recent call last)",
      "\u001b[0;32m/tmp/ipykernel_4172/1406696958.py\u001b[0m in \u001b[0;36m<module>\u001b[0;34m\u001b[0m\n\u001b[0;32m----> 1\u001b[0;31m \u001b[0mcore\u001b[0m \u001b[0;34m=\u001b[0m \u001b[0mtensor\u001b[0m\u001b[0;34m.\u001b[0m\u001b[0mcore\u001b[0m\u001b[0;34m\u001b[0m\u001b[0;34m\u001b[0m\u001b[0m\n\u001b[0m",
      "\u001b[0;31mAttributeError\u001b[0m: 'CPTensor' object has no attribute 'core'"
     ]
    }
   ],
   "source": [
    "core = tensor.core"
   ]
  },
  {
   "cell_type": "code",
   "execution_count": null,
   "metadata": {},
   "outputs": [],
   "source": [
    "tensor.shape"
   ]
  },
  {
   "cell_type": "code",
   "execution_count": null,
   "metadata": {},
   "outputs": [],
   "source": [
    "core.shape"
   ]
  },
  {
   "cell_type": "code",
   "execution_count": 10,
   "metadata": {},
   "outputs": [],
   "source": [
    "height = 8\n",
    "#pylab.rcParams['figure.figsize'] = (2*height, height)"
   ]
  },
  {
   "cell_type": "code",
   "execution_count": 12,
   "metadata": {},
   "outputs": [
    {
     "data": {
      "text/plain": [
       "<matplotlib.colorbar.Colorbar at 0x7f29275a3b80>"
      ]
     },
     "execution_count": 12,
     "metadata": {},
     "output_type": "execute_result"
    },
    {
     "data": {
      "image/png": "[encoded data removed]",
      "text/plain": [
       "<Figure size 460.8x288 with 2 Axes>"
      ]
     },
     "metadata": {
      "needs_background": "light"
     },
     "output_type": "display_data"
    }
   ],
   "source": [
    "plt.matshow(tensor.factors[1].todense()[:40])\n",
    "plt.colorbar()\n",
    "#plt.savefig('/home/makrai/repo/paper/Coling2020/verbtensor/img/nonneg-mx.png')"
   ]
  },
  {
   "cell_type": "code",
   "execution_count": 17,
   "metadata": {},
   "outputs": [
    {
     "data": {
      "image/png": "[encoded data removed]",
      "text/plain": [
       "<Figure size 432x288 with 1 Axes>"
      ]
     },
     "metadata": {
      "needs_background": "light"
     },
     "output_type": "display_data"
    }
   ],
   "source": [
    "_ = plt.hist(np.sort(tensor.factors[1].todense().reshape(-1))[:-10], log=True, bins=100)\n",
    "plt.savefig('/home/makrai/repo/paper/MSZNY22/verbtensor/img/nonneg-histg.png')"
   ]
  },
  {
   "cell_type": "code",
   "execution_count": 15,
   "metadata": {},
   "outputs": [],
   "source": [
    "mode_names = ['nsubj', 'ROOT', 'dobj']\n",
    "\n",
    "def show_latent(latent_i, mode_i):\n",
    "    surf_indices = np.argsort(-tensor.factors[mode_i][:,latent_i])\n",
    "    return latent_i, ', '.join([evalor.index[mode_names[mode_i]].inv[surf_i] for surf_i in surf_indices])"
   ]
  },
  {
   "cell_type": "code",
   "execution_count": 16,
   "metadata": {},
   "outputs": [
    {
     "name": "stdout",
     "output_type": "stream",
     "text": [
      "\\begin{tabular}{ll}\n",
      "\\toprule\n",
      "{} &                                           subjects \\\\\n",
      "dim &                                                    \\\\\n",
      "\\midrule\n",
      "6   &  system, device, which, program, project, -rrb-... \\\\\n",
      "7   &  site, page, website, image, report, post, arti... \\\\\n",
      "8   &  Court, court, student, child, Obama, he, membe... \\\\\n",
      "9   &  comment, that, user, which, use, it, person, h... \\\\\n",
      "10  &  user, you, all, customer, I, i, application, d... \\\\\n",
      "11  &  device, system, member, comment, which, post, ... \\\\\n",
      "12  &  program, school, which, project, that, book, s... \\\\\n",
      "13  &  report, author, article, study, result, resear... \\\\\n",
      "14  &  report, article, comment, post, they, we, rese... \\\\\n",
      "15  &  official, leader, member, author, group, -rrb-... \\\\\n",
      "\\bottomrule\n",
      "\\end{tabular}\n",
      "\n"
     ]
    }
   ],
   "source": [
    "records = []\n",
    "for i in range(6,16):\n",
    "    records.append(show_latent(i, 0))\n",
    "print(pd.DataFrame(records, columns=['dim', 'subjects']).set_index('dim').to_latex())"
   ]
  },
  {
   "cell_type": "code",
   "execution_count": 17,
   "metadata": {},
   "outputs": [
    {
     "name": "stdout",
     "output_type": "stream",
     "text": [
      "\\begin{tabular}{ll}\n",
      "\\toprule\n",
      "{} &                                              verbs \\\\\n",
      "dim &                                                    \\\\\n",
      "\\midrule\n",
      "0   &  illustrate, show, represent, provide, present,... \\\\\n",
      "1   &  include, illustrate, show, comprise, utilize, ... \\\\\n",
      "2   &  contain, include, display, use, provide, list,... \\\\\n",
      "3   &  examine, investigate, demonstrate, evaluate, e... \\\\\n",
      "4   &  examine, investigate, demonstrate, assess, eva... \\\\\n",
      "5   &  violate, break, respect, protect, grant, meet,... \\\\\n",
      "6   &  provide, offer, contain, give, reveal, find, m... \\\\\n",
      "7   &  express, reflect, raise, represent, share, pay... \\\\\n",
      "8   &  reflect, represent, contain, post, exceed, mat... \\\\\n",
      "9   &  issue, release, enter, make, grant, deny, sign... \\\\\n",
      "\\bottomrule\n",
      "\\end{tabular}\n",
      "\n"
     ]
    }
   ],
   "source": [
    "records = []\n",
    "for i in range(10):\n",
    "    records.append(show_latent(i, 1))\n",
    "print(pd.DataFrame(records, columns=['dim', 'verbs']).set_index('dim').to_latex())"
   ]
  },
  {
   "cell_type": "code",
   "execution_count": 18,
   "metadata": {},
   "outputs": [
    {
     "name": "stdout",
     "output_type": "stream",
     "text": [
      "\\begin{tabular}{ll}\n",
      "\\toprule\n",
      "{} &                                            objects \\\\\n",
      "dim &                                                    \\\\\n",
      "\\midrule\n",
      "0   &  example, view, structure, method, process, sys... \\\\\n",
      "1   &  percent, \\%, level, value, point, rate, most, r... \\\\\n",
      "2   &  effect, relationship, use, difference, ability... \\\\\n",
      "3   &  content, link, material, image, list, cookie, ... \\\\\n",
      "4   &  standard, rule, law, policy, term, program, re... \\\\\n",
      "5   &  rule, standard, policy, law, term, program, sy... \\\\\n",
      "6   &  I, we, she, he, you, story, truth, child, bit,... \\\\\n",
      "7   &  study, model, effect, relationship, impact, ap... \\\\\n",
      "8   &  opinion, view, concern, those, thought, intere... \\\\\n",
      "9   &  \\$, money, more, percent, much, \\%, nothing, amo... \\\\\n",
      "\\bottomrule\n",
      "\\end{tabular}\n",
      "\n"
     ]
    }
   ],
   "source": [
    "records = []\n",
    "for i in range(10):\n",
    "    records.append(show_latent(i, 2))\n",
    "print(pd.DataFrame(records, columns=['dim', 'objects']).set_index('dim').to_latex())"
   ]
  },
  {
   "cell_type": "code",
   "execution_count": 21,
   "metadata": {},
   "outputs": [
    {
     "name": "stdout",
     "output_type": "stream",
     "text": [
      "                                                 words\n",
      "dim                                                   \n",
      "34   price, rate, number, -rrb-, amount, order, whi...\n",
      "33   rise, drop, increase, fall, exceed, jump, reac...\n",
      "1    percent, %, level, value, point, rate, most, r...\n",
      "7    site, page, website, image, report, post, arti...\n",
      "2    contain, include, display, use, provide, list,...\n",
      "3    content, link, material, image, list, cookie, ...\n",
      "0    who, he, they, student, people, she, you, that...\n",
      "17   earn, receive, complete, pursue, develop, acqu...\n",
      "22   degree, credit, course, training, career, art,...\n",
      "4    post, comment, they, article, information, tha...\n",
      "8    reflect, represent, contain, post, exceed, mat...\n",
      "8    opinion, view, concern, those, thought, intere...\n",
      "28   it, plan, project, service, item, car, event, ...\n",
      "19   cost, raise, save, generate, exceed, receive, ...\n",
      "9    $, money, more, percent, much, %, nothing, amo...\n",
      "3    study, research, researcher, result, we, autho...\n",
      "3    examine, investigate, demonstrate, evaluate, e...\n",
      "2    effect, relationship, use, difference, ability...\n",
      "19   friend, doctor, she, he, someone, father, guy,...\n",
      "16   tell, remind, teach, ask, inform, invite, intr...\n",
      "6    I, we, she, he, you, story, truth, child, bit,...\n",
      "0    who, he, they, student, people, she, you, that...\n",
      "10   attend, host, hold, finish, teach, enter, leav...\n",
      "42   school, meeting, event, class, party, show, co...\n"
     ]
    }
   ],
   "source": [
    "records = []\n",
    "for i, j, k in list(zip(*np.unravel_index(np.argsort(-core.reshape(-1)), core.shape)))[:8]:\n",
    "    records.append(show_latent(i, 0))\n",
    "    records.append(show_latent(j, 1))\n",
    "    records.append(show_latent(k, 2))\n",
    "print(pd.DataFrame(records, columns=['dim', 'words']).set_index('dim'))#.to_latex())"
   ]
  },
  {
   "cell_type": "markdown",
   "metadata": {},
   "source": [
    "## Athlete ... race"
   ]
  },
  {
   "cell_type": "code",
   "execution_count": null,
   "metadata": {},
   "outputs": [],
   "source": [
    "embed = KeyedVectors(64)"
   ]
  },
  {
   "cell_type": "code",
   "execution_count": null,
   "metadata": {},
   "outputs": [],
   "source": [
    "embed.add_vectors(list(evalor.index['ROOT'].inv.values()), tensor.factors[1])"
   ]
  },
  {
   "cell_type": "code",
   "execution_count": null,
   "metadata": {},
   "outputs": [],
   "source": [
    "def predict_verb(subj='athlete', obj='race'):\n",
    "    tensor1 = tensor.core\n",
    "    tensor1 = tl.tenalg.mode_dot(tensor1, evalor.lookup(subj, 0), 0)\n",
    "    tensor1 = tl.tenalg.mode_dot(tensor1, evalor.lookup(obj, 2), 1)\n",
    "    return embed.most_similar([tensor1])"
   ]
  },
  {
   "cell_type": "code",
   "execution_count": null,
   "metadata": {},
   "outputs": [],
   "source": [
    "predict_verb()"
   ]
  },
  {
   "cell_type": "code",
   "execution_count": null,
   "metadata": {},
   "outputs": [],
   "source": [
    "predict_verb(subj='user', obj='command')"
   ]
  },
  {
   "cell_type": "code",
   "execution_count": null,
   "metadata": {},
   "outputs": [],
   "source": [
    "tensor.factors[0].shape"
   ]
  },
  {
   "cell_type": "markdown",
   "metadata": {},
   "source": [
    "# Parafac"
   ]
  },
  {
   "cell_type": "code",
   "execution_count": null,
   "metadata": {},
   "outputs": [],
   "source": [
    "tensor_dir = config['DEFAULT']['ProjectDirectory']+'tensor/'\n",
    "evalor = VerbTensorEvaluator(cutoff=50000, rank=256, weight='npmi', decomp_algo='parafac')\n",
    "modes = ['nsubj', 'ROOT', 'dobj']"
   ]
  },
  {
   "cell_type": "code",
   "execution_count": null,
   "metadata": {},
   "outputs": [],
   "source": [
    "evalor.load_embeddings()"
   ]
  },
  {
   "cell_type": "code",
   "execution_count": null,
   "metadata": {},
   "outputs": [],
   "source": [
    "_ = plt.hist(np.sort(evalor.decomped_tns.factors[1].reshape(-1).todense())[:-10], log=True, bins=100)\n",
    "plt.savefig('/home/makrai/repo/paper/CONLL21//verbtensor/img/posibneg-histg.png')"
   ]
  },
  {
   "cell_type": "code",
   "execution_count": null,
   "metadata": {},
   "outputs": [],
   "source": []
  },
  {
   "cell_type": "code",
   "execution_count": null,
   "metadata": {},
   "outputs": [],
   "source": [
    "evalor.decomped_tns.weights.todense()"
   ]
  },
  {
   "cell_type": "code",
   "execution_count": null,
   "metadata": {},
   "outputs": [],
   "source": [
    "i_word = [{i: w for w, i in evalor.index[j].items()} for j in modes]\n",
    "vocab = [np.array([i_word[j][i] for i in range(len(i_word[j]))]) for j in range(len(i_word))]\n",
    "for k, j in enumerate(\n",
    "        #np.argsort(-ktensor.lmbda)[:4]):#\n",
    "        range(evalor.decomped_tns.rank)):\n",
    "    print(f'\\n{k}')# {j}')\n",
    "    for i, factor in enumerate(evalor.decomped_tns.factors):\n",
    "        ids = np.argsort(factor[:,j].todense())[:7]\n",
    "        print(vocab[i][ids])\n",
    "        #print(['{:.1g}'.format(coord) for coord in ktensor.U[i][ids,j]])"
   ]
  },
  {
   "cell_type": "markdown",
   "metadata": {},
   "source": [
    "|rank|$\\lambda$|e.g.|\n",
    "|----|---------|----|\n",
    "|16|1|topic/example (2) provide/offer (2) assistance/guidance|\n",
    "|32|1|Android (3)  win degree (1)|\n",
    "|64|1|I describe (1) game/story (2)|"
   ]
  }
 ],
 "metadata": {
  "kernelspec": {
   "display_name": "Python 3 (ipykernel)",
   "language": "python",
   "name": "python3"
  },
  "language_info": {
   "codemirror_mode": {
    "name": "ipython",
    "version": 3
   },
   "file_extension": ".py",
   "mimetype": "text/x-python",
   "name": "python",
   "nbconvert_exporter": "python",
   "pygments_lexer": "ipython3",
   "version": "3.8.11"
  }
 },
 "nbformat": 4,
 "nbformat_minor": 2
}
