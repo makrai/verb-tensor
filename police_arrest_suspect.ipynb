{
 "cells": [
  {
   "cell_type": "code",
   "execution_count": 1,
   "metadata": {},
   "outputs": [],
   "source": [
    "import pickle\n",
    "\n",
    "import numpy as np\n",
    "import sktensor\n",
    "\n",
    "import logging\n",
    "logging.basicConfig(level=logging.INFO, \n",
    "                    format='%(msecs)d %(levelname)-8s [%(lineno)d] %(message)s')"
   ]
  },
  {
   "cell_type": "markdown",
   "metadata": {},
   "source": [
    "# Triples by `lmbda`"
   ]
  },
  {
   "cell_type": "code",
   "execution_count": 2,
   "metadata": {},
   "outputs": [],
   "source": [
    "def write_latend_dims(weight, rank, cutoff=2):\n",
    "    modes = ['nsubj', 'ROOT', 'dobj']\n",
    "    sparse_tensor, index = pickle.load(open(\n",
    "        '/mnt/store/home/makrai/project/verb-tensor/just_svo/depCC/sparstensr_{}_{}.pkl'.format(weight, cutoff), mode='rb'))\n",
    "    ktensor, _, _, _ = pickle.load(open(\n",
    "        '/mnt/store/home/makrai/project/verb-tensor/just_svo/depCC/ktensor_{}_{}_{}.pkl'.format(weight, cutoff, rank), \n",
    "        mode='rb'))\n",
    "    i_word = [{i: w for w, i in index[j].items()} for j in modes]\n",
    "    vocab = [np.array([i_word[j][i] for i in range(len(i_word[j]))]) for j in range(len(i_word))]\n",
    "    for k, j in enumerate(np.argsort(-ktensor.lmbda)):#range(ktensor.rank):\n",
    "        #j = k\n",
    "        print('\\n{} {}'.format(k, j))\n",
    "        for i in range(len(ktensor.U)):\n",
    "            ids = np.argsort(ktensor.U[i][:,j])[:8]\n",
    "            print(vocab[i][ids])\n",
    "            #print(['{:.1g}'.format(coord) for coord in ktensor.U[i][ids,j]])"
   ]
  },
  {
   "cell_type": "code",
   "execution_count": 14,
   "metadata": {},
   "outputs": [
    {
     "name": "stdout",
     "output_type": "stream",
     "text": [
      "\n",
      "0 3\n",
      "['we' 'you' 'anyone' 'zzound' 'Expedia' 'Negativity' 'nan' 'east']\n",
      "['love' 'feel' 'take' 'assume' 'offer' 'denote' 'know' 'do']\n",
      "['it' 'feeling' 'Saturday' 'daughter' 'son' 'pair' 'plan' 'relationship']\n",
      "\n",
      "1 5\n",
      "['you' 'it' 'this' 'anyone' 'zzound' 'nan' 'east' 'these']\n",
      "['get' 'love' 'take' 'reserve' 'assume' 'deliver' 'make' 'moderate']\n",
      "['idea' 'experience' 'problem' 'lot' 'opportunity' 'chance' 'time' 'team']\n",
      "\n",
      "2 2\n",
      "['zzound' 'you' 'I' 'it' 'this' 'anyone' 'Negativity' 'nan']\n",
      "['deliver' 'love' 'get' 'feel' 'see' 'take' 'reserve' 'hold']\n",
      "['service' 'review' 'package' 'range' 'feeling' 'it' 'team' 'selection']\n",
      "\n",
      "3 0\n",
      "['I' 'you' 'it' 'this' 'anyone' 'Idakoos' 'he' 'they']\n",
      "['feel' 'assume' 'offer' 'denote' 'know' 'do' 'attract' 'publish']\n",
      "['office' 'responsibility' 'place' 'presence' 'what' 'people' 'job' 'nan']\n",
      "\n",
      "4 1\n",
      "['I' 'we' 'this' 'Idakoos' 'he' 'it' 'they' 'that']\n",
      "['have' 'see' 'spend' 'remember' 'reserve' 'hold' 'take' 'offer']\n",
      "['nothing' 'choice' 'day' 'option' 'right' 'lot' 'opportunity'\n",
      " 'experience']\n",
      "\n",
      "5 7\n",
      "['I' 'you' 'this' 'Idakoos' 'it' 'they' 'he' 'anyone']\n",
      "['have' 'love' 'see' 'get' 'feel' 'reserve' 'hold' 'take']\n",
      "['way' 'book' 'this' 'fact' 'they' 'post' 'you' 'child']\n",
      "\n",
      "6 4\n",
      "['you' 'I' 'it' 'this' 'anyone' 'that' 'Expedia' 'Negativity']\n",
      "['offer' 'deliver' 'love' 'get' 'feel' 'see' 'take' 'reserve']\n",
      "['feeling' 'it' 'team' 'selection' 'room' 'stay' 'part' 'everything']\n",
      "\n",
      "7 6\n",
      "['it' 'that' 'we' 'this' 'Expedia' 'Negativity' 'nan' 'east']\n",
      "['have' 'offer' 'take' 'deliver' 'love' 'get' 'doubt' 'find']\n",
      "['nothing' 'everything' 'choice' 'day' 'option' 'right' 'responsibility'\n",
      " 'airfare']\n"
     ]
    }
   ],
   "source": [
    "write_latend_dims('log_freq', 8, 1024)"
   ]
  },
  {
   "cell_type": "markdown",
   "metadata": {},
   "source": [
    "|rank|$\\lambda$|e.g.|\n",
    "|----|---------|----|\n",
    "|16|1|topic/example (2) provide/offer (2) assistance/guidance|\n",
    "|32|1|Android (3)  win degree (1)|\n",
    "|64|1|I describe (1) game/story (2)|"
   ]
  }
 ],
 "metadata": {
  "kernelspec": {
   "display_name": "Python 3",
   "language": "python",
   "name": "python3"
  },
  "language_info": {
   "codemirror_mode": {
    "name": "ipython",
    "version": 3
   },
   "file_extension": ".py",
   "mimetype": "text/x-python",
   "name": "python",
   "nbconvert_exporter": "python",
   "pygments_lexer": "ipython3",
   "version": "3.7.1"
  }
 },
 "nbformat": 4,
 "nbformat_minor": 2
}
