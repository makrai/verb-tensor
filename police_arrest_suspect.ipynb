{
 "cells": [
  {
   "cell_type": "code",
   "execution_count": 1,
   "metadata": {},
   "outputs": [
    {
     "name": "stdout",
     "output_type": "stream",
     "text": [
      "Populating the interactive namespace from numpy and matplotlib\n"
     ]
    }
   ],
   "source": [
    "import configparser\n",
    "import glob\n",
    "import os\n",
    "import pickle\n",
    "\n",
    "#from gensim.models import KeyedVectors, TranslationMatrix\n",
    "import numpy as np\n",
    "import pandas as pd\n",
    "import sktensor\n",
    "import tensorly as tl\n",
    "\n",
    "import matplotlib.pyplot as plt\n",
    "%pylab inline\n",
    "\n",
    "import logging\n",
    "logging.basicConfig(level=logging.INFO, \n",
    "                    format='%(msecs)d %(levelname)-8s [%(lineno)d] %(message)s')"
   ]
  },
  {
   "cell_type": "code",
   "execution_count": 2,
   "metadata": {},
   "outputs": [
    {
     "data": {
      "text/plain": [
       "['config.ini']"
      ]
     },
     "execution_count": 2,
     "metadata": {},
     "output_type": "execute_result"
    }
   ],
   "source": [
    "config = configparser.ConfigParser()                                            \n",
    "config.read('config.ini')                                                       "
   ]
  },
  {
   "cell_type": "markdown",
   "metadata": {},
   "source": [
    "# Sparsity"
   ]
  },
  {
   "cell_type": "code",
   "execution_count": 3,
   "metadata": {},
   "outputs": [],
   "source": [
    "from eval_tensor import VerbTensorEvaluator"
   ]
  },
  {
   "cell_type": "code",
   "execution_count": 4,
   "metadata": {},
   "outputs": [],
   "source": [
    "evalor = VerbTensorEvaluator(non_negative=True, weight='npmi', include_empty=False, cutoff=1000000, rank=64)"
   ]
  },
  {
   "cell_type": "code",
   "execution_count": 5,
   "metadata": {},
   "outputs": [
    {
     "name": "stderr",
     "output_type": "stream",
     "text": [
      "/home/makrai/.local/lib/python3.6/site-packages/numba/core/errors.py:154: UserWarning: Insufficiently recent colorama version found. Numba requires colorama >= 0.3.9\n",
      "  warnings.warn(msg)\n"
     ]
    }
   ],
   "source": [
    "evalor.load_embeddings()"
   ]
  },
  {
   "cell_type": "code",
   "execution_count": 6,
   "metadata": {},
   "outputs": [],
   "source": [
    "tensor = evalor.decomped_tns"
   ]
  },
  {
   "cell_type": "code",
   "execution_count": 7,
   "metadata": {},
   "outputs": [],
   "source": [
    "core = tensor.core"
   ]
  },
  {
   "cell_type": "code",
   "execution_count": 8,
   "metadata": {},
   "outputs": [
    {
     "data": {
      "text/plain": [
       "(545, 813, 980)"
      ]
     },
     "execution_count": 8,
     "metadata": {},
     "output_type": "execute_result"
    }
   ],
   "source": [
    "tensor.shape"
   ]
  },
  {
   "cell_type": "code",
   "execution_count": 9,
   "metadata": {},
   "outputs": [
    {
     "data": {
      "text/plain": [
       "(64, 64, 64)"
      ]
     },
     "execution_count": 9,
     "metadata": {},
     "output_type": "execute_result"
    }
   ],
   "source": [
    "core.shape"
   ]
  },
  {
   "cell_type": "code",
   "execution_count": 10,
   "metadata": {},
   "outputs": [],
   "source": [
    "height = 8\n",
    "#pylab.rcParams['figure.figsize'] = (2*height, height)"
   ]
  },
  {
   "cell_type": "code",
   "execution_count": 11,
   "metadata": {},
   "outputs": [
    {
     "data": {
      "text/plain": [
       "<matplotlib.colorbar.Colorbar at 0x7f02a320fc50>"
      ]
     },
     "execution_count": 11,
     "metadata": {},
     "output_type": "execute_result"
    },
    {
     "data": {
      "image/png": "[encoded data removed]",
      "text/plain": [
       "<matplotlib.figure.Figure at 0x7f02bb5aaf60>"
      ]
     },
     "metadata": {},
     "output_type": "display_data"
    }
   ],
   "source": [
    "plt.matshow(tensor.factors[1][:40])\n",
    "plt.colorbar()\n",
    "#plt.savefig('/home/makrai/repo/paper/Coling2020/verbtensor/img/nonneg-mx.png')"
   ]
  },
  {
   "cell_type": "code",
   "execution_count": 12,
   "metadata": {},
   "outputs": [
    {
     "data": {
      "image/png": "[encoded data removed]",
      "text/plain": [
       "<matplotlib.figure.Figure at 0x7f0215cbd438>"
      ]
     },
     "metadata": {},
     "output_type": "display_data"
    }
   ],
   "source": [
    "_ = plt.hist(np.sort(tensor.factors[1].reshape(-1))[:-10], log=True, bins=100)\n",
    "#plt.savefig('/home/makrai/repo/paper/MSZNY22/verbtensor/img/nonneg-histg.png')"
   ]
  },
  {
   "cell_type": "markdown",
   "metadata": {},
   "source": [
    "# Shape by cutoff"
   ]
  },
  {
   "cell_type": "code",
   "execution_count": 17,
   "metadata": {},
   "outputs": [],
   "source": [
    "def get_cufott_and_shape():\n",
    "    for filen in glob.glob('/mnt/permanent/home/makrai/project/verb-tensor/nonempty/tensor/sparstensr_*'):\n",
    "        non_empty = 'non-empty' in filen\n",
    "        cutoff = os.path.splitext(os.path.basename(filen))[0].split('_')[-1]\n",
    "        tensor, _ =  pickle.load(open(filen, mode='rb'))\n",
    "        yield non_empty, cutoff, tensor.shape"
   ]
  },
  {
   "cell_type": "code",
   "execution_count": null,
   "metadata": {},
   "outputs": [],
   "source": [
    "df = pd.DataFrame(get_cufott_and_shape())"
   ]
  },
  {
   "cell_type": "code",
   "execution_count": 22,
   "metadata": {},
   "outputs": [],
   "source": [
    "df.columns=['non_empty', 'cutoff', 'shape']"
   ]
  },
  {
   "cell_type": "code",
   "execution_count": 28,
   "metadata": {},
   "outputs": [],
   "source": [
    "df.cutoff = df.cutoff.astype(int)"
   ]
  },
  {
   "cell_type": "code",
   "execution_count": 46,
   "metadata": {},
   "outputs": [],
   "source": [
    "df = df.sort_values(list(df.columns)).drop_duplicates().set_index('cutoff')"
   ]
  },
  {
   "cell_type": "code",
   "execution_count": 53,
   "metadata": {},
   "outputs": [],
   "source": [
    "df = df[df.non_empty==True].join(df[df.non_empty==False], lsuffix=' without emtpy', rsuffix=' with emtpy')"
   ]
  },
  {
   "cell_type": "code",
   "execution_count": 65,
   "metadata": {},
   "outputs": [
    {
     "name": "stdout",
     "output_type": "stream",
     "text": [
      "\\begin{tabular}{lll}\n",
      "\\toprule\n",
      "{} &         shape with emtpy &      shape without emtpy \\\\\n",
      "cutoff   &                          &                          \\\\\n",
      "\\midrule\n",
      "1        &  (324196, 90606, 287967) &  (206488, 41075, 188619) \\\\\n",
      "10       &  (160629, 37427, 129694) &   (109432, 19824, 92635) \\\\\n",
      "100      &    (92999, 20937, 69536) &    (71768, 13907, 57420) \\\\\n",
      "1000     &    (44168, 10444, 32359) &     (40309, 8838, 30280) \\\\\n",
      "10000    &     (13765, 5070, 12313) &     (13610, 4895, 12115) \\\\\n",
      "30000    &       (7395, 3568, 7524) &       (7349, 3526, 7460) \\\\\n",
      "50000    &       (5438, 2994, 5881) &       (5411, 2976, 5843) \\\\\n",
      "100000   &       (3474, 2313, 4120) &       (3463, 2308, 4108) \\\\\n",
      "300000   &       (1515, 1438, 2200) &       (1512, 1438, 2197) \\\\\n",
      "1000000  &          (546, 814, 981) &          (545, 813, 980) \\\\\n",
      "3000000  &          (168, 461, 399) &          (167, 461, 398) \\\\\n",
      "10000000 &            (36, 194, 87) &            (35, 194, 86) \\\\\n",
      "\\bottomrule\n",
      "\\end{tabular}\n",
      "\n"
     ]
    }
   ],
   "source": [
    "print(df.loc[df.isna().sum(axis=1)==0,['shape with emtpy', 'shape without emtpy']].to_latex())"
   ]
  },
  {
   "cell_type": "code",
   "execution_count": null,
   "metadata": {},
   "outputs": [],
   "source": [
    "pd.DataFrame."
   ]
  },
  {
   "cell_type": "code",
   "execution_count": 13,
   "metadata": {},
   "outputs": [],
   "source": [
    "mode_names = ['nsubj', 'ROOT', 'dobj']\n",
    "\n",
    "def show_latent(latent_i, mode_i):\n",
    "    surf_indices = np.argsort(-tensor.factors[mode_i][:,latent_i])\n",
    "    return latent_i, ', '.join([evalor.index[mode_names[mode_i]].inv[surf_i] for surf_i in surf_indices])"
   ]
  },
  {
   "cell_type": "code",
   "execution_count": 14,
   "metadata": {},
   "outputs": [],
   "source": [
    "pd.set_option('lw', 90)"
   ]
  },
  {
   "cell_type": "code",
   "execution_count": 15,
   "metadata": {},
   "outputs": [
    {
     "name": "stdout",
     "output_type": "stream",
     "text": [
      "\\begin{tabular}{ll}\n",
      "\\toprule\n",
      "{} &                                                                                      words \\\\\n",
      "dim &                                                                                            \\\\\n",
      "\\midrule\n",
      "5   &  court, Court, judge, panel, official, we, he, it, authority, government, -rrb-, Board,... \\\\\n",
      "10  &  reject, dismiss, deny, grant, hear, consider, decide, accept, throw, resolve, sustain,... \\\\\n",
      "7   &  motion, appeal, claim, request, argument, case, challenge, application, complaint, att... \\\\\n",
      "4   &  revenue, sale, share, price, stock, production, cost, rate, order, volume, number, fut... \\\\\n",
      "3   &  rise, fall, increase, jump, drop, decline, climb, decrease, grow, gain, slip, represen... \\\\\n",
      "1   &  percent, \\%, \\$, increase, point, most, rate, level, average, less, matter, value, cost,... \\\\\n",
      "11  &  hotel, property, room, restaurant, home, Center, house, location, facility, House, are... \\\\\n",
      "8   &  offer, boast, feature, have, provide, include, enjoy, serve, accommodate, occupy, prep... \\\\\n",
      "9   &  room, pool, accommodation, access, facility, restaurant, variety, service, view, range... \\\\\n",
      "6   &  board, Council, Board, Commission, Committee, member, committee, Congress, Court, cour... \\\\\n",
      "2   &  approve, adopt, reject, pass, consider, review, endorse, propose, award, recommend, ac... \\\\\n",
      "2   &  resolution, request, budget, plan, proposal, contract, change, application, project, i... \\\\\n",
      "9   &  Department, police, Center, official, -rrb-, department, office, agency, who, Board, C... \\\\\n",
      "16  &  conduct, launch, open, initiate, begin, undertake, continue, provide, offer, complete,... \\\\\n",
      "30  &  investigation, survey, study, campaign, research, review, series, search, program, tes... \\\\\n",
      "40  &  that, which, law, this, it, change, story, comment, decision, what, rule, choice, rest... \\\\\n",
      "43  &  affect, impact, influence, improve, prohibit, limit, enhance, govern, threaten, restri... \\\\\n",
      "36  &  performance, health, ability, outcome, life, development, industry, quality, economy, ... \\\\\n",
      "35  &  employee, attorney, party, person, city, lawyer, State, owner, applicant, individual, ... \\\\\n",
      "12  &  file, follow, receive, submit, investigate, deny, wear, handle, bring, initiate, withd... \\\\\n",
      "5   &  suit, complaint, motion, appeal, report, notice, claim, application, statement, reques... \\\\\n",
      "19  &  change, use, this, condition, which, level, water, technology, growth, action, man, at... \\\\\n",
      "14  &  pose, present, increase, reduce, address, represent, overcome, solve, lower, face, dec... \\\\\n",
      "11  &  threat, challenge, risk, problem, crisis, competition, difficulty, pressure, issue, th... \\\\\n",
      "\\bottomrule\n",
      "\\end{tabular}\n",
      "\n"
     ]
    }
   ],
   "source": [
    "records = []\n",
    "for i, j, k in list(zip(*np.unravel_index(np.argsort(-core.reshape(-1)), core.shape)))[:8]:\n",
    "    records.append(show_latent(i, 0))\n",
    "    records.append(show_latent(j, 1))\n",
    "    records.append(show_latent(k, 2))\n",
    "print(pd.DataFrame(records, columns=['dim', 'words']).set_index('dim').to_latex())"
   ]
  },
  {
   "cell_type": "code",
   "execution_count": 16,
   "metadata": {},
   "outputs": [
    {
     "name": "stdout",
     "output_type": "stream",
     "text": [
      "\\begin{tabular}{ll}\n",
      "\\toprule\n",
      "{} &                                           subjects \\\\\n",
      "dim &                                                    \\\\\n",
      "\\midrule\n",
      "6   &  board, Council, Board, Commission, Committee, ... \\\\\n",
      "7   &  study, result, analysis, finding, datum, resea... \\\\\n",
      "8   &  -rsb-, -lsb-, reference, effect, role, cell, e... \\\\\n",
      "9   &  Department, police, Center, official, -rrb-, d... \\\\\n",
      "10  &  article, paper, report, section, study, course... \\\\\n",
      "11  &  hotel, property, room, restaurant, home, Cente... \\\\\n",
      "12  &  factor, condition, comment, activity, choice, ... \\\\\n",
      "13  &  paper, author, course, company, scientist, res... \\\\\n",
      "14  &  course, program, plan, applicant, student, sol... \\\\\n",
      "15  &  event, year, band, show, couple, Inc., Center,... \\\\\n",
      "\\bottomrule\n",
      "\\end{tabular}\n",
      "\n"
     ]
    }
   ],
   "source": [
    "records = []\n",
    "for i in range(6,16):\n",
    "    records.append(show_latent(i, 0))\n",
    "print(pd.DataFrame(records, columns=['dim', 'subjects']).set_index('dim').to_latex())"
   ]
  },
  {
   "cell_type": "code",
   "execution_count": 17,
   "metadata": {},
   "outputs": [
    {
     "name": "stdout",
     "output_type": "stream",
     "text": [
      "\\begin{tabular}{ll}\n",
      "\\toprule\n",
      "{} &                                              verbs \\\\\n",
      "dim &                                                    \\\\\n",
      "\\midrule\n",
      "0   &  include, provide, illustrate, show, feature, c... \\\\\n",
      "1   &  illustrate, show, depict, represent, comprise,... \\\\\n",
      "2   &  approve, adopt, reject, pass, consider, review... \\\\\n",
      "3   &  rise, fall, increase, jump, drop, decline, cli... \\\\\n",
      "4   &  provide, present, give, include, describe, rev... \\\\\n",
      "5   &  -lsb-\\_VBD, -lsb-\\_VBP, quote, -lsb-\\_VB, /, rese... \\\\\n",
      "6   &  issue, release, publish, receive, prepare, sub... \\\\\n",
      "7   &  exceed, represent, reflect, match, reach, aver... \\\\\n",
      "8   &  offer, boast, feature, have, provide, include,... \\\\\n",
      "9   &  present, describe, examine, propose, explore, ... \\\\\n",
      "\\bottomrule\n",
      "\\end{tabular}\n",
      "\n"
     ]
    }
   ],
   "source": [
    "records = []\n",
    "for i in range(10):\n",
    "    records.append(show_latent(i, 1))\n",
    "print(pd.DataFrame(records, columns=['dim', 'verbs']).set_index('dim').to_latex())"
   ]
  },
  {
   "cell_type": "code",
   "execution_count": 18,
   "metadata": {},
   "outputs": [
    {
     "name": "stdout",
     "output_type": "stream",
     "text": [
      "\\begin{tabular}{ll}\n",
      "\\toprule\n",
      "{} &                                            objects \\\\\n",
      "dim &                                                    \\\\\n",
      "\\midrule\n",
      "0   &  example, view, structure, configuration, chart... \\\\\n",
      "1   &  percent, \\%, \\$, increase, point, most, rate, le... \\\\\n",
      "2   &  resolution, request, budget, plan, proposal, c... \\\\\n",
      "3   &  -rsb-, column, 1, 4, 5, 3, debut, 2, detail, r... \\\\\n",
      "4   &  -rsb-, device, module, unit, portion, pluralit... \\\\\n",
      "5   &  suit, complaint, motion, appeal, report, notic... \\\\\n",
      "6   &  \\$, dollar, more, million, less, increase, hund... \\\\\n",
      "7   &  motion, appeal, claim, request, argument, case... \\\\\n",
      "8   &  overview, approach, analysis, method, finding,... \\\\\n",
      "9   &  room, pool, accommodation, access, facility, r... \\\\\n",
      "\\bottomrule\n",
      "\\end{tabular}\n",
      "\n"
     ]
    }
   ],
   "source": [
    "records = []\n",
    "for i in range(10):\n",
    "    records.append(show_latent(i, 2))\n",
    "print(pd.DataFrame(records, columns=['dim', 'objects']).set_index('dim').to_latex())"
   ]
  },
  {
   "cell_type": "markdown",
   "metadata": {},
   "source": [
    "## Athlete ... race"
   ]
  },
  {
   "cell_type": "code",
   "execution_count": null,
   "metadata": {},
   "outputs": [],
   "source": [
    "embed = KeyedVectors(64)"
   ]
  },
  {
   "cell_type": "code",
   "execution_count": null,
   "metadata": {},
   "outputs": [],
   "source": [
    "embed.add_vectors(list(evalor.index['ROOT'].inv.values()), tensor.factors[1])"
   ]
  },
  {
   "cell_type": "code",
   "execution_count": null,
   "metadata": {},
   "outputs": [],
   "source": [
    "def predict_verb(subj='athlete', obj='race'):\n",
    "    tensor1 = tensor.core\n",
    "    tensor1 = tl.tenalg.mode_dot(tensor1, evalor.lookup(subj, 0), 0)\n",
    "    tensor1 = tl.tenalg.mode_dot(tensor1, evalor.lookup(obj, 2), 1)\n",
    "    return embed.most_similar([tensor1])"
   ]
  },
  {
   "cell_type": "code",
   "execution_count": null,
   "metadata": {},
   "outputs": [],
   "source": [
    "predict_verb()"
   ]
  },
  {
   "cell_type": "code",
   "execution_count": null,
   "metadata": {},
   "outputs": [],
   "source": [
    "predict_verb(subj='user', obj='command')"
   ]
  },
  {
   "cell_type": "code",
   "execution_count": null,
   "metadata": {},
   "outputs": [],
   "source": [
    "tensor.factors[0].shape"
   ]
  },
  {
   "cell_type": "markdown",
   "metadata": {},
   "source": [
    "# Parafac"
   ]
  },
  {
   "cell_type": "code",
   "execution_count": null,
   "metadata": {},
   "outputs": [],
   "source": [
    "tensor_dir = config['DEFAULT']['ProjectDirectory']+'tensor/'\n",
    "evalor = VerbTensorEvaluator(cutoff=50000, rank=256, weight='npmi', decomp_algo='parafac')\n",
    "modes = ['nsubj', 'ROOT', 'dobj']"
   ]
  },
  {
   "cell_type": "code",
   "execution_count": null,
   "metadata": {},
   "outputs": [],
   "source": [
    "evalor.load_embeddings()"
   ]
  },
  {
   "cell_type": "code",
   "execution_count": null,
   "metadata": {},
   "outputs": [],
   "source": [
    "_ = plt.hist(np.sort(evalor.decomped_tns.factors[1].reshape(-1).todense())[:-10], log=True, bins=100)\n",
    "plt.savefig('/home/makrai/repo/paper/CONLL21//verbtensor/img/posibneg-histg.png')"
   ]
  },
  {
   "cell_type": "code",
   "execution_count": null,
   "metadata": {},
   "outputs": [],
   "source": []
  },
  {
   "cell_type": "code",
   "execution_count": null,
   "metadata": {},
   "outputs": [],
   "source": [
    "evalor.decomped_tns.weights.todense()"
   ]
  },
  {
   "cell_type": "code",
   "execution_count": null,
   "metadata": {},
   "outputs": [],
   "source": [
    "i_word = [{i: w for w, i in evalor.index[j].items()} for j in modes]\n",
    "vocab = [np.array([i_word[j][i] for i in range(len(i_word[j]))]) for j in range(len(i_word))]\n",
    "for k, j in enumerate(\n",
    "        #np.argsort(-ktensor.lmbda)[:4]):#\n",
    "        range(evalor.decomped_tns.rank)):\n",
    "    print(f'\\n{k}')# {j}')\n",
    "    for i, factor in enumerate(evalor.decomped_tns.factors):\n",
    "        ids = np.argsort(factor[:,j].todense())[:7]\n",
    "        print(vocab[i][ids])\n",
    "        #print(['{:.1g}'.format(coord) for coord in ktensor.U[i][ids,j]])"
   ]
  },
  {
   "cell_type": "markdown",
   "metadata": {},
   "source": [
    "|rank|$\\lambda$|e.g.|\n",
    "|----|---------|----|\n",
    "|16|1|topic/example (2) provide/offer (2) assistance/guidance|\n",
    "|32|1|Android (3)  win degree (1)|\n",
    "|64|1|I describe (1) game/story (2)|"
   ]
  }
 ],
 "metadata": {
  "kernelspec": {
   "display_name": "Python 3",
   "language": "python",
   "name": "python3"
  },
  "language_info": {
   "codemirror_mode": {
    "name": "ipython",
    "version": 3
   },
   "file_extension": ".py",
   "mimetype": "text/x-python",
   "name": "python",
   "nbconvert_exporter": "python",
   "pygments_lexer": "ipython3",
   "version": "3.6.9"
  }
 },
 "nbformat": 4,
 "nbformat_minor": 2
}
