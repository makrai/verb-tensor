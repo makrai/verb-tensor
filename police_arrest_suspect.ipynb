{
 "cells": [
  {
   "cell_type": "code",
   "execution_count": 4,
   "metadata": {},
   "outputs": [],
   "source": [
    "import configparser\n",
    "import os\n",
    "import pickle\n",
    "\n",
    "import numpy as np\n",
    "import sktensor\n",
    "\n",
    "import logging\n",
    "logging.basicConfig(level=logging.INFO, \n",
    "                    format='%(msecs)d %(levelname)-8s [%(lineno)d] %(message)s')"
   ]
  },
  {
   "cell_type": "code",
   "execution_count": 5,
   "metadata": {},
   "outputs": [
    {
     "data": {
      "text/plain": [
       "['config.ini']"
      ]
     },
     "execution_count": 5,
     "metadata": {},
     "output_type": "execute_result"
    }
   ],
   "source": [
    "config = configparser.ConfigParser()                                            \n",
    "config.read('config.ini')                                                       "
   ]
  },
  {
   "cell_type": "markdown",
   "metadata": {},
   "source": [
    "# Triples by `lmbda`"
   ]
  },
  {
   "cell_type": "code",
   "execution_count": 10,
   "metadata": {},
   "outputs": [],
   "source": [
    "tensor_dir = config['DEFAULT']['ProjectDirectory']+'tensor/'\n",
    "def write_latent_dims(weight, rank=256, cutoff=100):\n",
    "    modes = ['nsubj', 'ROOT', 'dobj']\n",
    "    sparse_tensor, index = pickle.load(open(os.path.join(tensor_dir, 'sparstensr_{}_{}.pkl').format(\n",
    "        weight, cutoff), mode='rb'))\n",
    "    ktensor, _, _, _ = pickle.load(open(os.path.join(tensor_dir, 'ktensor_{}_{}_{}.pkl').format(\n",
    "        weight, cutoff, rank), \n",
    "        mode='rb'))\n",
    "    i_word = [{i: w for w, i in index[j].items()} for j in modes]\n",
    "    vocab = [np.array([i_word[j][i] for i in range(len(i_word[j]))]) for j in range(len(i_word))]\n",
    "    for k, j in enumerate(\n",
    "            np.argsort(-ktensor.lmbda)[:4]):#\n",
    "            #range(ktensor.rank)):\n",
    "        print('\\n{} {}'.format(k, j))\n",
    "        for i in range(len(ktensor.U)):\n",
    "            ids = np.argsort(ktensor.U[i][:,j])[:7]\n",
    "            print(vocab[i][ids])\n",
    "            #print(['{:.1g}'.format(coord) for coord in ktensor.U[i][ids,j]])"
   ]
  },
  {
   "cell_type": "code",
   "execution_count": 11,
   "metadata": {},
   "outputs": [
    {
     "name": "stdout",
     "output_type": "stream",
     "text": [
      "\n",
      "0 31\n",
      "['that' 'it' 'this' 'they' 'which' 'book' 'story']\n",
      "['love' 'be' 'write' 'read' 'like' 'do' 'enjoy']\n",
      "['they' 'which' 'this' 'that' 'one' 'email' 'anything']\n",
      "\n",
      "1 71\n",
      "['what' 'number' 'price' 'rate' 'cost' 'time' 'some']\n",
      "['leave' 'wear' 'run' 'join' 'take' 'follow' 'watch']\n",
      "['they' 'I' 'we' 'he' 'she' 'family' 'team']\n",
      "\n",
      "2 232\n",
      "['some' 'this' 'all' 'that' '-rrb-' 'system' 'which']\n",
      "['use' 'make' 'want' 'play' 'know' 'run' 'start']\n",
      "['which' 'they' 'myself' 'she' 'some' 'bunch' 'one']\n",
      "\n",
      "3 81\n",
      "['what' 'she' 'he' 'which' '-rrb-' 'i' 'thing']\n",
      "['have' 'make' 'see' 'love' 'add' 'know' 'need']\n",
      "['that' 'it' 'which' 'blog' 'this' 'himself' 'heart']\n"
     ]
    }
   ],
   "source": [
    "write_latent_dims('log_freq')#, 64, 5)"
   ]
  },
  {
   "cell_type": "code",
   "execution_count": 4,
   "metadata": {},
   "outputs": [
    {
     "name": "stdout",
     "output_type": "stream",
     "text": [
      "\n",
      "0 50\n",
      "['lapan' 'nc-noting' 'deshchytsia' 'markeson' 'mn-marveling' 'nikonov'\n",
      " 'araghchi']\n",
      "['feel' 'seem' 'be' 'sound' 'work' 'go' 'build']\n",
      "['reporter' 'place' 'briefing' 'land' 'same' 'farm' 'leg']\n",
      "\n",
      "1 61\n",
      "['share' 'paper' 'chapter' 'nikkei' 'article' 'shares' 'god']\n",
      "['prevent' 'allow' 'cause' 'enable' 'describe' 'explore' 'cost']\n",
      "['user' 'i' 'you' 'we' 'rule' 'they' 'people']\n",
      "\n",
      "2 22\n",
      "['scorer' 'larkin' 'malone' 'individual' 'americans' 'jack' 'russia']\n",
      "['start' 'enter' 'open' 'lose' 'leave' 'finish' 'play']\n",
      "['game' 'we' 'i' 'advantage' 'record' 'rate' 'population']\n",
      "\n",
      "3 24\n",
      "['suite' 'hotel' 'accommodation' 'disruption' 'variability' 'imbalance'\n",
      " 'inability']\n",
      "['provide' 'be' 'go' 'set' 'include' 'seem' 'visit']\n",
      "['effect' 'game' 'impact' 'consequence' 'season' 'implication' 'place']\n"
     ]
    }
   ],
   "source": [
    "write_latent_dims('pmi', 64, 5)"
   ]
  },
  {
   "cell_type": "code",
   "execution_count": 6,
   "metadata": {},
   "outputs": [
    {
     "name": "stdout",
     "output_type": "stream",
     "text": [
      "\n",
      "0 20\n",
      "['rumor' 'legend' 'version' 'what' 'q.' 'rumour' 'luck']\n",
      "['have' 'hold' 'open' 'hit' 'feature' 'reach' 'be']\n",
      "['office' 'member' 'doctor' 'eye' 'head' 'arm' 'shop']\n",
      "\n",
      "1 14\n",
      "['fig.' 'journey' 'drawback' 'kde' 'travels' 'orbit' 'bought']\n",
      "['take' 'hold' 'teach' 'experience' 'pay' 'learn' 'ask']\n",
      "['attention' 'question' 'photo' 'lesson' 'tax' 'letter' 'message']\n",
      "\n",
      "2 19\n",
      "['room' 'it' 'each' 'property' 'unit' 'model' 'area']\n",
      "['love' 'like' 'see' 'notice' 'enjoy' 'prefer' 'know']\n",
      "['effect' 'it' 'room' 'impact' 'feature' 'area' 'potential']\n",
      "\n",
      "3 12\n",
      "['bedroom' 'q.' 'villa' '´' 'accommodation' 'condo' 'chart']\n",
      "['make' 'raise' 'pay' 'offer' 'say' 'ask' 'give']\n",
      "['question' 'problem' 'chance' 'hand' 'concern' 'idea' 'head']\n"
     ]
    }
   ],
   "source": [
    "write_latent_dims('dice_sali', 32, 5)"
   ]
  },
  {
   "cell_type": "markdown",
   "metadata": {},
   "source": [
    "|rank|$\\lambda$|e.g.|\n",
    "|----|---------|----|\n",
    "|16|1|topic/example (2) provide/offer (2) assistance/guidance|\n",
    "|32|1|Android (3)  win degree (1)|\n",
    "|64|1|I describe (1) game/story (2)|"
   ]
  }
 ],
 "metadata": {
  "kernelspec": {
   "display_name": "Python 3",
   "language": "python",
   "name": "python3"
  },
  "language_info": {
   "codemirror_mode": {
    "name": "ipython",
    "version": 3
   },
   "file_extension": ".py",
   "mimetype": "text/x-python",
   "name": "python",
   "nbconvert_exporter": "python",
   "pygments_lexer": "ipython3",
   "version": "3.7.6"
  }
 },
 "nbformat": 4,
 "nbformat_minor": 2
}
