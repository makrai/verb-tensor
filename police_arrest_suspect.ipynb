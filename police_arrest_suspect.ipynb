{
 "cells": [
  {
   "cell_type": "code",
   "execution_count": 4,
   "metadata": {},
   "outputs": [],
   "source": [
    "import os\n",
    "import pickle\n",
    "\n",
    "import numpy as np\n",
    "import sktensor\n",
    "\n",
    "import logging\n",
    "logging.basicConfig(level=logging.INFO, \n",
    "                    format='%(msecs)d %(levelname)-8s [%(lineno)d] %(message)s')"
   ]
  },
  {
   "cell_type": "markdown",
   "metadata": {},
   "source": [
    "# Triples by `lmbda`"
   ]
  },
  {
   "cell_type": "code",
   "execution_count": 2,
   "metadata": {},
   "outputs": [],
   "source": [
    "tensor_dir = '/mnt/permanent/home/makrai/project/verb-tensor/top_level/tensor/'\n",
    "def write_latend_dims(weight, rank, cutoff=2):\n",
    "    modes = ['nsubj', 'ROOT', 'dobj']\n",
    "    sparse_tensor, index = pickle.load(open(os.path.join(tensor_dir, 'sparstensr_{}_{}.pkl').format(\n",
    "        weight, cutoff), mode='rb'))\n",
    "    ktensor, _, _, _ = pickle.load(open(os.path.join(tensor_dir, 'ktensor_{}_{}_{}.pkl').format(\n",
    "        weight, cutoff, rank), \n",
    "        mode='rb'))\n",
    "    i_word = [{i: w for w, i in index[j].items()} for j in modes]\n",
    "    vocab = [np.array([i_word[j][i] for i in range(len(i_word[j]))]) for j in range(len(i_word))]\n",
    "    for k, j in enumerate(np.argsort(-ktensor.lmbda)):#range(ktensor.rank):\n",
    "        #j = k\n",
    "        print('\\n{} {}'.format(k, j))\n",
    "        for i in range(len(ktensor.U)):\n",
    "            ids = np.argsort(ktensor.U[i][:,j])[:8]\n",
    "            print(vocab[i][ids])\n",
    "            #print(['{:.1g}'.format(coord) for coord in ktensor.U[i][ids,j]])"
   ]
  },
  {
   "cell_type": "code",
   "execution_count": 5,
   "metadata": {},
   "outputs": [
    {
     "name": "stdout",
     "output_type": "stream",
     "text": [
      "\n",
      "0 2\n",
      "['each' 'version' 'city' 'bedroom' 'town' 'top' 'nose' 'house']\n",
      "['love' 'include' 'feature' 'contain' 'sprinkle' 'shun' 'sharpen' 'more']\n",
      "['EDP' 'pimple' 'P500-2' 'catera' '8830we' 'punnet' '8c148_restore' '8900']\n",
      "\n",
      "1 6\n",
      "['we' 'hotel' 'Bank' 'restaurant' 'Center' 'Hotel' 'program' 'company']\n",
      "['know' 'mean' 'show' 'say' 'get' 'leave' 'cause' 'explain']\n",
      "['nothing' 'effect' 'history' 'potential' 'impact' 'idea' 'it' 'name']\n",
      "\n",
      "2 3\n",
      "['it' 'they' 'we' 'he' 'you' 'this' 'she' 'each']\n",
      "['inlclude' 'emomali' 'bought/planted' 'country' 'sprinkle' 'fry'\n",
      " 'hibernate' 'flick']\n",
      "['macromolecule' 'urethane' 'XPS' 'Steam' 'shading' 'dill' 'Outcomes'\n",
      " 'Hilemariam']\n",
      "\n",
      "3 1\n",
      "['these' 'example' 'feature' 'this' 'topic' 'some' 'interest' 'area']\n",
      "['have' 'want' 'need' 'get' 'know' 'do' 'find' 'see']\n",
      "['nothing' 'chance' 'deodorizer' 'Da' 'IHCA' '165' 'monk' 'Jones']\n",
      "\n",
      "4 7\n",
      "['1471-2105-9-523' '1556-276x-9-269' '1556-276x-9-265' '1742-9994-5-13'\n",
      " '1735-2746-10-14' '1687-2770-2013-83' '1687-2770-2013-39'\n",
      " '1687-2770-2012-26']\n",
      "['make' 'need' 'want' 'create' 'mean' 'produce' 'take' 'know']\n",
      "['potential' 'effect' 'nothing' 'access' 'ability' 'opportunity' 'power'\n",
      " 'system']\n",
      "\n",
      "5 4\n",
      "['each' 'area' 'room' 'unit' '11:00' 'Sturmbot' 'topic' 'Women']\n",
      "['include' 'love' 'have' 'provide' 'use' 'share' 'present' 'utilize']\n",
      "['ABOUT' 'DEMOCRACY' 'LIKE' 'NOT' 'that' 'NEW' 'BUKTHI' 'orchestrion']\n",
      "\n",
      "6 0\n",
      "['I' 'we' 'he' 'she' 'you' 'i' 'everyone' 'they']\n",
      "['include' 'feature' 'contain' 'provide' 'comprise' 'involve' 'enable'\n",
      " 'illustrate']\n",
      "['impact' 'potential' 'implication' 'advantage' 'capability' 'access'\n",
      " 'surface' 'disadvantage']\n",
      "\n",
      "7 5\n",
      "['MSU' 'Nick' 'George' 'scientist' 'they' 'pink' 'Whitewasher' 'we']\n",
      "['-lsb-_VBD' '-lsb-_VBP' '-lsb-_VBZ' 'redact' 'delete' 'fall' 'add'\n",
      " 'saa7133']\n",
      "['potential' 'history' 'ability' 'power' 'access' 'opportunity'\n",
      " 'advantage' 'effect']\n"
     ]
    }
   ],
   "source": [
    "write_latend_dims('salience', 8, 1)"
   ]
  },
  {
   "cell_type": "markdown",
   "metadata": {},
   "source": [
    "|rank|$\\lambda$|e.g.|\n",
    "|----|---------|----|\n",
    "|16|1|topic/example (2) provide/offer (2) assistance/guidance|\n",
    "|32|1|Android (3)  win degree (1)|\n",
    "|64|1|I describe (1) game/story (2)|"
   ]
  }
 ],
 "metadata": {
  "kernelspec": {
   "display_name": "Python 3",
   "language": "python",
   "name": "python3"
  },
  "language_info": {
   "codemirror_mode": {
    "name": "ipython",
    "version": 3
   },
   "file_extension": ".py",
   "mimetype": "text/x-python",
   "name": "python",
   "nbconvert_exporter": "python",
   "pygments_lexer": "ipython3",
   "version": "3.7.1"
  }
 },
 "nbformat": 4,
 "nbformat_minor": 2
}
