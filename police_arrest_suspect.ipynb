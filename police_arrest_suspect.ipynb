{
 "cells": [
  {
   "cell_type": "code",
   "execution_count": 1,
   "metadata": {},
   "outputs": [
    {
     "name": "stdout",
     "output_type": "stream",
     "text": [
      "Populating the interactive namespace from numpy and matplotlib\n"
     ]
    },
    {
     "name": "stderr",
     "output_type": "stream",
     "text": [
      "/home/makrai/tool/python/vtensor/lib/python3.7/site-packages/gensim/similarities/__init__.py:15: UserWarning: The gensim.similarities.levenshtein submodule is disabled, because the optional Levenshtein package <https://pypi.org/project/python-Levenshtein/> is unavailable. Install Levenhstein (e.g. `pip install python-Levenshtein`) to suppress this warning.\n",
      "  warnings.warn(msg)\n"
     ]
    }
   ],
   "source": [
    "import configparser\n",
    "import os\n",
    "import pickle\n",
    "\n",
    "import numpy as np\n",
    "import sktensor\n",
    "import tensorly as tl\n",
    "\n",
    "from gensim.models import KeyedVectors, TranslationMatrix\n",
    "\n",
    "import matplotlib.pyplot as plt\n",
    "%pylab inline\n",
    "\n",
    "import logging\n",
    "logging.basicConfig(level=logging.INFO, \n",
    "                    format='%(msecs)d %(levelname)-8s [%(lineno)d] %(message)s')"
   ]
  },
  {
   "cell_type": "code",
   "execution_count": 2,
   "metadata": {},
   "outputs": [
    {
     "data": {
      "text/plain": [
       "['config.ini']"
      ]
     },
     "execution_count": 2,
     "metadata": {},
     "output_type": "execute_result"
    }
   ],
   "source": [
    "config = configparser.ConfigParser()                                            \n",
    "config.read('config.ini')                                                       "
   ]
  },
  {
   "cell_type": "markdown",
   "metadata": {},
   "source": [
    "# non-neg Tucker"
   ]
  },
  {
   "cell_type": "code",
   "execution_count": 3,
   "metadata": {},
   "outputs": [],
   "source": [
    "from eval_tensor import VerbTensorEvaluator"
   ]
  },
  {
   "cell_type": "code",
   "execution_count": 4,
   "metadata": {},
   "outputs": [],
   "source": [
    "evalor = VerbTensorEvaluator(non_negative=True, cutoff=300000)"
   ]
  },
  {
   "cell_type": "code",
   "execution_count": 5,
   "metadata": {},
   "outputs": [],
   "source": [
    "evalor.load_embeddings()"
   ]
  },
  {
   "cell_type": "code",
   "execution_count": 6,
   "metadata": {},
   "outputs": [],
   "source": [
    "tensor = evalor.decomped_tns"
   ]
  },
  {
   "cell_type": "code",
   "execution_count": 7,
   "metadata": {},
   "outputs": [],
   "source": [
    "core = tensor.core"
   ]
  },
  {
   "cell_type": "code",
   "execution_count": 8,
   "metadata": {},
   "outputs": [
    {
     "data": {
      "text/plain": [
       "(1515, 1438, 2200)"
      ]
     },
     "execution_count": 8,
     "metadata": {},
     "output_type": "execute_result"
    }
   ],
   "source": [
    "tensor.shape"
   ]
  },
  {
   "cell_type": "code",
   "execution_count": 9,
   "metadata": {},
   "outputs": [
    {
     "data": {
      "text/plain": [
       "(64, 64, 64)"
      ]
     },
     "execution_count": 9,
     "metadata": {},
     "output_type": "execute_result"
    }
   ],
   "source": [
    "core.shape"
   ]
  },
  {
   "cell_type": "code",
   "execution_count": 10,
   "metadata": {},
   "outputs": [],
   "source": [
    "height = 8\n",
    "#pylab.rcParams['figure.figsize'] = (2*height, height)"
   ]
  },
  {
   "cell_type": "code",
   "execution_count": 11,
   "metadata": {},
   "outputs": [
    {
     "data": {
      "image/png": "[encoded data removed]",
      "text/plain": [
       "<Figure size 460.8x288 with 2 Axes>"
      ]
     },
     "metadata": {
      "needs_background": "light"
     },
     "output_type": "display_data"
    }
   ],
   "source": [
    "plt.matshow(tensor.factors[1][:40])\n",
    "plt.colorbar()\n",
    "plt.savefig('/home/makrai/repo/paper/Coling2020/verbtensor/img/nonneg-mx.png')"
   ]
  },
  {
   "cell_type": "code",
   "execution_count": 12,
   "metadata": {},
   "outputs": [
    {
     "data": {
      "image/png": "[encoded data removed]",
      "text/plain": [
       "<Figure size 432x288 with 1 Axes>"
      ]
     },
     "metadata": {
      "needs_background": "light"
     },
     "output_type": "display_data"
    }
   ],
   "source": [
    "_ = plt.hist(tensor.factors[1].reshape(-1), log=True, bins=100)\n",
    "plt.savefig('/home/makrai/repo/paper/Coling2020/verbtensor/img/nonneg-histg.png')"
   ]
  },
  {
   "cell_type": "code",
   "execution_count": 13,
   "metadata": {},
   "outputs": [],
   "source": [
    "mode_names = ['nsubj', 'ROOT', 'dobj']\n",
    "\n",
    "def show_latent(latent_i, mode_i):\n",
    "    surf_indices = np.argsort(-tensor.factors[mode_i][:,latent_i])[:7]\n",
    "    return latent_i, [evalor.index[mode_names[mode_i]].inv[surf_i] for surf_i in surf_indices]"
   ]
  },
  {
   "cell_type": "code",
   "execution_count": 14,
   "metadata": {},
   "outputs": [
    {
     "name": "stdout",
     "output_type": "stream",
     "text": [
      "(19, ['-rsb-', '-lsb-', 'disease', 'result', '-lsb-_NNS', '-RSB-', '%'])\n",
      "(22, ['-lsb-_VBD', '-lsb-_VBP', '-lsb-_VBZ', '-lsb-_VB', '-lsb-_VBN', 'quote', 'report'])\n",
      "(18, ['-rsb-', '-rsb-_NNS', '-RSB-', '-lsb-', '6', '1', '4'])\n",
      "\n",
      "(0, ['', 'you', 'we', 'that', 'he', 'they', 'who'])\n",
      "(0, ['control', 'utilize', 'modify', 'use', 'manipulate', 'construct', 'create'])\n",
      "(0, ['system', 'structure', 'network', 'object', 'component', 'function', 'element'])\n",
      "\n",
      "(0, ['', 'you', 'we', 'that', 'he', 'they', 'who'])\n",
      "(4, ['educate', 'assist', 'convince', 'persuade', 'kill', 'inform', 'ask'])\n",
      "(3, ['people', 'he', 'I', 'she', 'other', 'you', 'we'])\n",
      "\n",
      "(0, ['', 'you', 'we', 'that', 'he', 'they', 'who'])\n",
      "(3, ['grab', 'pull', 'put', 'throw', 'touch', 'knock', 'shove'])\n",
      "(2, ['head', 'ball', 'ass', 'hand', 'cock', 'face', 'foot'])\n",
      "\n",
      "(8, ['FIG.', 'figure', 'which', '-rrb-', 'we', 'table', 'chart'])\n",
      "(15, ['illustrate', 'show', 'take', 'depict', 'make', 'use', 'receive'])\n",
      "(0, ['system', 'structure', 'network', 'object', 'component', 'function', 'element'])\n",
      "\n",
      "(13, ['area', 'property', 'system', 'site', 'factor', 'device', 'room'])\n",
      "(22, ['-lsb-_VBD', '-lsb-_VBP', '-lsb-_VBZ', '-lsb-_VB', '-lsb-_VBN', 'quote', 'report'])\n",
      "(18, ['-rsb-', '-rsb-_NNS', '-RSB-', '-lsb-', '6', '1', '4'])\n",
      "\n",
      "(8, ['FIG.', 'figure', 'which', '-rrb-', 'we', 'table', 'chart'])\n",
      "(15, ['illustrate', 'show', 'take', 'depict', 'make', 'use', 'receive'])\n",
      "(4, ['amount', 'system', 'income', 'component', 'rate', 'chance', 'revenue'])\n",
      "\n",
      "(38, ['which', 'system', 'program', 'it', 'device', 'each', 'feature'])\n",
      "(1, ['have', 'include', 'provide', 'offer', 'give', 'contain', 'require'])\n",
      "(62, ['access', 'opportunity', 'advantage', 'option', 'number', 'support', 'overview'])\n",
      "\n"
     ]
    }
   ],
   "source": [
    "for i, j, k in list(zip(*np.unravel_index(np.argsort(-core.reshape(-1)), core.shape)))[:8]:\n",
    "    print(show_latent(i, 0))\n",
    "    print(show_latent(j, 1))\n",
    "    print(show_latent(k, 2))\n",
    "    print()"
   ]
  },
  {
   "cell_type": "code",
   "execution_count": 15,
   "metadata": {},
   "outputs": [
    {
     "name": "stdout",
     "output_type": "stream",
     "text": [
      "(6, ['you', '', 'that', 'we', 'I', 'they', 'company'])\n",
      "(7, ['', 'system', '-rrb-', 'we', 'device', 'report', 'study'])\n",
      "(8, ['FIG.', 'figure', 'which', '-rrb-', 'we', 'table', 'chart'])\n",
      "(9, ['stock', 'action', 'condition', 'development', 'sale', 'Jack', 'government'])\n",
      "(10, ['play', 'value', 'day', 'round', 'war', 'number', 'conversation'])\n",
      "(11, ['he', 'who', 'she', 'you', 'that', 'we', 'they'])\n",
      "(12, ['I', 'you', '', 'he', 'who', 'they', 'study'])\n",
      "(13, ['area', 'property', 'system', 'site', 'factor', 'device', 'room'])\n",
      "(14, ['it', 'Council', 'Committee', 'board', 'Board', 'House', 'Commission'])\n",
      "(15, ['we', '', 'that', 'system', 'study', 'site', 'book'])\n"
     ]
    }
   ],
   "source": [
    "for i in range(6,16):\n",
    "    print(show_latent(i, 0))"
   ]
  },
  {
   "cell_type": "code",
   "execution_count": 16,
   "metadata": {},
   "outputs": [
    {
     "name": "stdout",
     "output_type": "stream",
     "text": [
      "(0, ['control', 'utilize', 'modify', 'use', 'manipulate', 'construct', 'create'])\n",
      "(1, ['have', 'include', 'provide', 'offer', 'give', 'contain', 'require'])\n",
      "(2, ['move', 'regard', 'monitor', 'evaluate', 'control', 'optimize', 'measure'])\n",
      "(3, ['grab', 'pull', 'put', 'throw', 'touch', 'knock', 'shove'])\n",
      "(4, ['educate', 'assist', 'convince', 'persuade', 'kill', 'inform', 'ask'])\n",
      "(5, ['include', 'have', 'affect', 'contain', 'take', 'represent', 'make'])\n",
      "(6, ['increase', 'decrease', 'reduce', 'measure', 'lower', 'boost', 'calculate'])\n",
      "(7, ['provide', 'give', 'receive', 'offer', 'increase', 'have', 'require'])\n",
      "(8, ['build', 'expand', 'promote', 'improve', 'develop', 'enhance', 'maintain'])\n",
      "(9, ['provide', 'offer', 'facilitate', 'initiate', 'prevent', 'involve', 'complete'])\n"
     ]
    }
   ],
   "source": [
    "for i in range(10):\n",
    "    print(show_latent(i, 1))"
   ]
  },
  {
   "cell_type": "code",
   "execution_count": 17,
   "metadata": {},
   "outputs": [
    {
     "name": "stdout",
     "output_type": "stream",
     "text": [
      "(0, ['system', 'structure', 'network', 'object', 'component', 'function', 'element'])\n",
      "(1, ['', 'what', 'that', 'way', '%', 'percent', 'I'])\n",
      "(2, ['head', 'ball', 'ass', 'hand', 'cock', 'face', 'foot'])\n",
      "(3, ['people', 'he', 'I', 'she', 'other', 'you', 'we'])\n",
      "(4, ['amount', 'system', 'income', 'component', 'rate', 'chance', 'revenue'])\n",
      "(5, ['frequency', 'concentration', 'density', 'probability', 'resistance', 'intensity', 'sensitivity'])\n",
      "(6, ['infrastructure', 'production', 'supply', 'business', 'operation', 'efficiency', 'sale'])\n",
      "(7, ['value', 'datum', 'information', 'number', 'amount', 'project', 'development'])\n",
      "(8, ['experience', 'ability', 'understanding', 'capability', 'opportunity', 'strength', 'confidence'])\n",
      "(9, ['transmission', 'exposure', 'production', 'spread', 'transfer', 'flow', 'position'])\n"
     ]
    }
   ],
   "source": [
    "for i in range(10):\n",
    "    print(show_latent(i, 2))"
   ]
  },
  {
   "cell_type": "markdown",
   "metadata": {},
   "source": [
    "## Athlete ... race"
   ]
  },
  {
   "cell_type": "code",
   "execution_count": 18,
   "metadata": {},
   "outputs": [],
   "source": [
    "embed = KeyedVectors(64)"
   ]
  },
  {
   "cell_type": "code",
   "execution_count": 19,
   "metadata": {},
   "outputs": [],
   "source": [
    "embed.add_vectors(list(evalor.index['ROOT'].inv.values()), tensor.factors[1])"
   ]
  },
  {
   "cell_type": "code",
   "execution_count": 20,
   "metadata": {},
   "outputs": [],
   "source": [
    "def predict_verb(subj='athlete', obj='race'):\n",
    "    tensor1 = tensor.core\n",
    "    tensor1 = tl.tenalg.mode_dot(tensor1, evalor.lookup(subj, 0), 0)\n",
    "    tensor1 = tl.tenalg.mode_dot(tensor1, evalor.lookup(obj, 2), 1)\n",
    "    return embed.most_similar([tensor1])"
   ]
  },
  {
   "cell_type": "code",
   "execution_count": 21,
   "metadata": {},
   "outputs": [
    {
     "data": {
      "text/plain": [
       "[('have', 0.9841201901435852),\n",
       " ('include', 0.9124106764793396),\n",
       " ('provide', 0.8667762279510498),\n",
       " ('offer', 0.8448187708854675),\n",
       " ('contain', 0.8381587862968445),\n",
       " ('require', 0.7445492148399353),\n",
       " ('give', 0.6424943804740906),\n",
       " ('need', 0.6187449097633362),\n",
       " ('feature', 0.6024946570396423),\n",
       " ('affect', 0.5970800518989563)]"
      ]
     },
     "execution_count": 21,
     "metadata": {},
     "output_type": "execute_result"
    }
   ],
   "source": [
    "predict_verb()"
   ]
  },
  {
   "cell_type": "code",
   "execution_count": 22,
   "metadata": {},
   "outputs": [
    {
     "data": {
      "text/plain": [
       "[('contain', 0.861118733882904),\n",
       " ('provide', 0.8168653845787048),\n",
       " ('represent', 0.8076701760292053),\n",
       " ('require', 0.7967956066131592),\n",
       " ('constitute', 0.7953993082046509),\n",
       " ('feature', 0.7923411130905151),\n",
       " ('offer', 0.7908795475959778),\n",
       " ('have', 0.7721259593963623),\n",
       " ('give', 0.7590991854667664),\n",
       " ('affect', 0.7575748562812805)]"
      ]
     },
     "execution_count": 22,
     "metadata": {},
     "output_type": "execute_result"
    }
   ],
   "source": [
    "predict_verb(subj='user', obj='command')"
   ]
  },
  {
   "cell_type": "code",
   "execution_count": 23,
   "metadata": {},
   "outputs": [
    {
     "data": {
      "text/plain": [
       "(1515, 64)"
      ]
     },
     "execution_count": 23,
     "metadata": {},
     "output_type": "execute_result"
    }
   ],
   "source": [
    "tensor.factors[0].shape"
   ]
  },
  {
   "cell_type": "markdown",
   "metadata": {},
   "source": [
    "# Triples by `lmbda`"
   ]
  },
  {
   "cell_type": "code",
   "execution_count": 24,
   "metadata": {},
   "outputs": [],
   "source": [
    "tensor_dir = config['DEFAULT']['ProjectDirectory']+'tensor/'\n",
    "evalor = VerbTensorEvaluator(cutoff=100000, decomp_algo='parafac')\n",
    "modes = ['nsubj', 'ROOT', 'dobj']"
   ]
  },
  {
   "cell_type": "code",
   "execution_count": 25,
   "metadata": {},
   "outputs": [],
   "source": [
    "evalor.load_embeddings()"
   ]
  },
  {
   "cell_type": "code",
   "execution_count": 26,
   "metadata": {},
   "outputs": [
    {
     "data": {
      "text/plain": [
       "array([1., 1., 1., 1., 1., 1., 1., 1., 1., 1., 1., 1., 1., 1., 1., 1., 1.,\n",
       "       1., 1., 1., 1., 1., 1., 1., 1., 1., 1., 1., 1., 1., 1., 1., 1., 1.,\n",
       "       1., 1., 1., 1., 1., 1., 1., 1., 1., 1., 1., 1., 1., 1., 1., 1., 1.,\n",
       "       1., 1., 1., 1., 1., 1., 1., 1., 1., 1., 1., 1., 1.])"
      ]
     },
     "execution_count": 26,
     "metadata": {},
     "output_type": "execute_result"
    }
   ],
   "source": [
    "evalor.decomped_tns.weights.todense()"
   ]
  },
  {
   "cell_type": "code",
   "execution_count": 27,
   "metadata": {},
   "outputs": [
    {
     "name": "stdout",
     "output_type": "stream",
     "text": [
      "\n",
      "0\n",
      "['' 'that' 'which' 'this' 'it' 'what' 'they']\n",
      "['cause' 'trigger' 'create' 'prevent' 'produce' 'induce' 'mean']\n",
      "['industry' 'life' 'ability' 'productivity' 'health' 'landscape' 'conduct']\n",
      "\n",
      "1\n",
      "['activity' 'work' 'report' 'page' 'volume' 'book' 'these']\n",
      "['install' 'give' 'build' 'show' 'remove' 'pull' 'need']\n",
      "['study' 'work' 'evaluation' 'assessment' 'development' 'review'\n",
      " 'planning']\n",
      "\n",
      "2\n",
      "['area' 'milk' 'water' 'region' 'parameter' 'liquid' 'flavor']\n",
      "['change' 'practice' 'learn' 'advance' 'embrace' 'spend' 'prevent']\n",
      "['life' 'water' 'power' 'moment' 'energy' 'beauty' 'culture']\n",
      "\n",
      "3\n",
      "['car' 'kitchen' 'store' 'door' 'town' 'i' 'park']\n",
      "['have' 'take' 'give' 'offer' 'produce' 'use' 'get']\n",
      "['' 'effect' 'signal' 'value' 'behavior' 'what' 'characteristic']\n",
      "\n",
      "4\n",
      "['i' 'everyone' 'pace' 'browser' 'car' 'mom' 'anyone']\n",
      "['have' 'facilitate' 'promote' 'enhance' 'ensure' 'improve' 'enable']\n",
      "['development' 'growth' 'activity' 'production' 'movement' 'recovery'\n",
      " 'use']\n",
      "\n",
      "5\n",
      "['device' 'unit' 'body' 'each' 'country' 'city' 'community']\n",
      "['have' 'take' 'lose' 'give' 'get' 'need' 'develop']\n",
      "['impact' 'effect' 'consequence' 'implication' 'job' 'object' 'material']\n",
      "\n",
      "6\n",
      "['FIGS.' 'rule' 'statute' 'Act' 'justice' 'founder' 'Reagan']\n",
      "['discuss' 'review' 'outline' 'cause' 'control' 'apply' 'resolve']\n",
      "['appeal' 'flavor' 'word' 'voice' 'yourself' 'logic' 'matter']\n",
      "\n",
      "7\n",
      "['Data' 'Im' 'audience' 'im' 'click' 'public' 'Easy']\n",
      "['use' 'open' 'run' 'increase' 'receive' 'offer' 'reduce']\n",
      "['ourselves' 'yourself' 'faith' 'planet' 'culture' 'oneself' 'America']\n",
      "\n",
      "8\n",
      "['baby' 'i' 'dog' 'daughter' 'car' 'wife' 'son']\n",
      "['avoid' 'eliminate' 'prevent' 'minimize' 'remove' 'write' 'alleviate']\n",
      "['' 'I' 'attack' 'material' 'he' 'problem' 'injury']\n",
      "\n",
      "9\n",
      "['finger' 'hand' 'cock' 'press' 'road' 'head' 'pinch']\n",
      "['have' 'hit' 'take' 'leave' 'face' 'visit' 'reach']\n",
      "['area' 'city' 'country' 'town' 'house' 'room' 'symptom']\n",
      "\n",
      "10\n",
      "['town' 'muscle' 'Japan' 'Texas' 'Korea' 'civilization' 'Data']\n",
      "['have' 'lose' 'get' 'take' 'give' 'develop' 'offer']\n",
      "['cancer' 'symptom' 'disease' 'feeling' 'infection' 'pain' 'reaction']\n",
      "\n",
      "11\n",
      "['amenity' 'user' 'facility' 'you' 'device' 'apparatus' 'interest']\n",
      "['demonstrate' 'select' 'investigate' 'view' 'write' 'evaluate'\n",
      " 'illustrate']\n",
      "['service' 'ability' 'role' 'opportunity' 'assistance' 'removal'\n",
      " 'conditioning']\n",
      "\n",
      "12\n",
      "['singles' 'expectation' 'date' 'deadline' 'self' 'brush' 'easy']\n",
      "['expand' 'limit' 'close' 'open' 'rebuild' 'strengthen' 'bolster']\n",
      "['' 'what' 'resource' 'time' 'skill' 'power' 'ability']\n",
      "\n",
      "13\n",
      "['image' 'object' 'region' 'particle' 'family' 'cloud' 'margin']\n",
      "['create' 'carry' 'maintain' 'explore' 'design' 'build' 'retrieve']\n",
      "['landscape' 'land' 'life' 'future' 'world' 'supplies' 'home']\n",
      "\n",
      "14\n",
      "['book' 'God' 'movie' 'oiler' 'network' 'page' 'site']\n",
      "['watch' 'see' 'meet' 'hear' 'ask' 'remember' 'appreciate']\n",
      "['' 'he' 'I' 'anyone' 'people' 'himself' 'she']\n",
      "\n",
      "15\n",
      "['Series' 'monitoring' 'delegation' 'simulation' 'disorder' 'timer'\n",
      " 'membership']\n",
      "['receive' 'spend' 'meet' 'donate' 'attend' 'raise' 'waste']\n",
      "['time' 'hour' 'minute' 'requirement' 'concern' 'evening' 'month']\n",
      "\n",
      "16\n",
      "['paper' 'book' 'body' 'collection' 'report' 'chapter' 'course']\n",
      "['strengthen' 'reinforce' 'manufacture' 'bolster' 'dismiss' 'underlie'\n",
      " 'hear']\n",
      "['bond' 'himself' 'industry' 'formation' 'economy' 'fiber' 'nation']\n",
      "\n",
      "17\n",
      "['study' 'paper' 'this' 'these' 'method' 'analysis' 'topic']\n",
      "['require' 'visit' 'remove' 'explore' 'conduct' 'drive' 'travel']\n",
      "['insight' 'overview' 'basis' 'framework' 'support' 'evidence' 'edge']\n",
      "\n",
      "18\n",
      "['output' 'traffic' 'Eagles' 'yield' 'enrollment' 'function' 'start']\n",
      "['expand' 'take' 'limit' 'deliver' 'extend' 'pass' 'obtain']\n",
      "['test' 'advantage' 'role' 'knowledge' 'dream' 'permission' 'chance']\n",
      "\n",
      "19\n",
      "['himself' 'information' 'document' 'charge' 'signal' 'petitioner'\n",
      " 'opinion']\n",
      "['state' 'refer' 'apply' 'note' 'differ' 'say' 'point']\n",
      "['desire' 'belief' 'interest' 'power' 'concern' 'emotion' 'faith']\n",
      "\n",
      "20\n",
      "['condition' 'loss' 'action' 'change' 'effect' 'increase' 'growth']\n",
      "['watch' 'kill' 'regard' 'award' 'shoot' 'love' 'visit']\n",
      "['' 'what' 'that' 'effect' 'way' 'impact' 'which']\n",
      "\n",
      "21\n",
      "['robot' 'supervisor' 'table' 'console' 'refund' 'Award' 'shelf']\n",
      "['receive' 'pay' 'make' 'lack' 'provide' 'grant' 'attend']\n",
      "['impact' 'sense' 'ability' 'choice' 'difference' 'potential' 'history']\n",
      "\n",
      "22\n",
      "['gunman' 'herself' 'explosion' 'troops' 'Israel' 'operation' 'Conference']\n",
      "['open' 'murder' 'marry' 'date' 'enter' 'form' 'affect']\n",
      "['place' 'opponent' 'head' 'enemy' 'ass' 'face' 'myself']\n",
      "\n",
      "23\n",
      "['fan' 'guy' 'mom' 'anybody' 'rest' 'chapter' 'writer']\n",
      "['surround' 'protect' 'identify' 'locate' 'celebrate' 'become' 'mark']\n",
      "['' 'theory' 'project' 'plan' 'idea' 'adoption' 'construction']\n",
      "\n",
      "24\n",
      "['parameter' 'nobody' 'wife' 'cat' 'disease' 'proportion' 'FCC']\n",
      "['establish' 'form' 'affect' 'determine' 'maintain' 'damage' 'destroy']\n",
      "['rights' 'integrity' 'relation' 'species' 'sovereignty' 'regulation'\n",
      " 'existence']\n",
      "\n",
      "25\n",
      "['document' 'grant' 'Data' 'datum' 'Plan' 'funding' 'permit']\n",
      "['sell' 'lose' 'own' 'watch' 'play' 'permit' 'meet']\n",
      "['game' 'tax' 'house' 'video' 'movie' 'himself' 'concern']\n",
      "\n",
      "26\n",
      "['surface' 'electrode' 'array' 'molecule' 'testing' 'algorithm' 'module']\n",
      "['complete' 'conduct' 'face' 'undertake' 'finish' 'undergo' 'aid']\n",
      "['attack' 'crisis' 'situation' 'challenge' 'campaign' 'war' 'assault']\n",
      "\n",
      "27\n",
      "['we' 'hotel' 'company' 'electrode' 'array' 'cottage' 'Hotel']\n",
      "['give' 'hurt' 'present' 'regard' 'offer' 'complete' 'create']\n",
      "['plurality' 'I' 'error' 'we' 'you' 'wealth' 'information']\n",
      "\n",
      "28\n",
      "['liquid' 'blood' 'funding' 'Im' 'bit' 'im' 'approval']\n",
      "['increase' 'allow' 'require' 'improve' 'reduce' 'ensure' 'facilitate']\n",
      "['anyone' 'reader' 'public' 'everyone' 'voter' 'fluid' 'employer']\n",
      "\n",
      "29\n",
      "['source' 'spokesman' 'spokesperson' 'change' 'aide' 'insider' 'gut']\n",
      "['enjoy' 'attract' 'garner' 'impact' 'secure' 'affect' 'gain']\n",
      "['interest' 'concern' 'story' 'event' 'interview' 'meal' 'dinner']\n",
      "\n",
      "30\n",
      "['researcher' 'section' 'defendant' 'officer' 'individual' 'operation'\n",
      " 'user']\n",
      "['approve' 'pass' 'consider' 'adopt' 'enact' 'reject' 'propose']\n",
      "['bill' 'legislation' 'resolution' 'measure' 'amendment' 'budget' '']\n",
      "\n",
      "31\n",
      "['crisis' 'conflict' 'violence' 'loss' 'controversy' 'war' 'popularity']\n",
      "['have' 'take' 'lose' 'give' 'get' 'develop' 'suffer']\n",
      "['job' 'yourself' 'myself' 'authority' 'everything' 'idea' 'power']\n",
      "\n",
      "32\n",
      "['town' 'car' 'village' 'phone' 'file' 'disease' 'signal']\n",
      "['identify' 'establish' 'build' 'design' 'install' 'purchase' 'contact']\n",
      "['' 'themselves' 'himself' 'I' 'yourself' 'he' 'myself']\n",
      "\n",
      "33\n",
      "['' 'who' 'he' 'team' 'they' 'she' '-rrb-']\n",
      "['win' 'play' 'lose' 'earn' 'enter' 'have' 'score']\n",
      "['permission' 'treatment' 'education' 'dream' 'training' 'loan' 'degree']\n",
      "\n",
      "34\n",
      "['phone' 'corporation' 'hospital' 'valve' 'door' 'Corporation' 'channel']\n",
      "['have' 'take' 'get' 'give' 'lose' 'develop' 'offer']\n",
      "['' 'what' 'that' 'way' 'time' 'I' '-rrb-']\n",
      "\n",
      "35\n",
      "['' 'he' 'they' 'who' 'we' 'that' 'you']\n",
      "['make' 'take' 'announce' 'issue' 'accept' 'give' 'appeal']\n",
      "['tax' 'fee' 'attention' 'bill' 'requirement' 'price' 'issue']\n",
      "\n",
      "36\n",
      "['' 'that' 'you' 'we' 'he' 'they' 'I']\n",
      "['regard' 'avoid' 'investigate' 'prove' 'eliminate' 'identify' 'concern']\n",
      "['tissue' 'membrane' 'joint' 'seal' 'skin' 'pilot' 'tube']\n",
      "\n",
      "37\n",
      "['beer' 'Report' 'water' 'wine' 'bit' 'cheese' 'egg']\n",
      "['have' 'replace' 'mount' 'take' 'lose' 'install' 'connect']\n",
      "['' 'what' 'that' 'it' 'datum' 'system' 'device']\n",
      "\n",
      "38\n",
      "['each' 'eye' 'node' 'phone' 'model' 'center' 'species']\n",
      "['assess' 'identify' 'evaluate' 'treat' 'detect' 'breed' 'close']\n",
      "['function' 'characteristic' 'gene' 'ability' 'component' 'skill' 'device']\n",
      "\n",
      "39\n",
      "['device' 'food' 'plate' 'rod' 'ball' 'gear' 'camera']\n",
      "['eat' 'enjoy' 'cook' 'write' 'read' 'place' 'play']\n",
      "['meal' 'food' 'dinner' 'breakfast' 'meat' 'fruit' 'place']\n",
      "\n",
      "40\n",
      "['daughter' 'husband' 'patient' 'son' 'wife' 'Australia' 'baby']\n",
      "['ease' 'strengthen' 'reverse' 'break' 'prevent' 'read' 'revise']\n",
      "['' 'law' 'policy' 'patient' 'child' 'growth' 'rule']\n",
      "\n",
      "41\n",
      "['Hotel' 'pulse' 'signal' 'fund' 'hotel' 'bond' 'Democrats']\n",
      "['use' 'represent' 'join' 'become' 'call' 'identify' 'select']\n",
      "['teacher' 'employee' 'official' 'officer' 'executive' 'director' 'lawyer']\n",
      "\n",
      "42\n",
      "['each' 'everyone' 'patient' 'both' 'person' 'guy' 'everybody']\n",
      "['have' 'take' 'offer' 'include' 'use' 'get' 'lose']\n",
      "['animal' 'wildlife' 'citizen' 'terrorist' 'bird' 'bacterium' 'criminal']\n",
      "\n",
      "43\n",
      "['image' 'examination' 'graph' 'photo' 'line' 'picture' 'map']\n",
      "['show' 'indicate' 'match' 'maintain' 'transmit' 'display' 'express']\n",
      "['himself' 'ignorance' 'name' 'message' 'order' 'themselves' 'club']\n",
      "\n",
      "44\n",
      "['beer' 'flavor' 'writing' 'speech' 'paint' 'cream' 'scandal']\n",
      "['strengthen' 'preserve' 'overcome' 'restore' 'undermine' 'violate'\n",
      " 'remove']\n",
      "['law' 'barrier' 'integrity' 'skin' 'Constitution' 'dignity' 'credibility']\n",
      "\n",
      "45\n",
      "['' 'who' 'they' 'he' 'we' 'you' 'that']\n",
      "['have' 'take' 'lose' 'give' 'get' 'offer' 'lack']\n",
      "['' 'what' 'that' 'way' 'which' 'game' 'he']\n",
      "\n",
      "46\n",
      "['which' 'that' 'it' 'paper' 'program' 'study' 'event']\n",
      "['feature' 'hold' 'earn' 'win' 'match' 'retrieve' 'launch']\n",
      "['head' 'hostage' 'ass' 'datum' 'arm' 'captive' 'designation']\n",
      "\n",
      "47\n",
      "['what' 'road' 'breakfast' 'version' 'conference' 'Amendment' 'apple']\n",
      "['have' 'join' 'visit' 'attend' 'eat' 'form' 'grow']\n",
      "['people' 'government' 'system' 'anyone' 'official' 'other' 'member']\n",
      "\n",
      "48\n",
      "['K' 'J.' 'species' 'compound' 'M.' 'population' 'C']\n",
      "['have' 'take' 'give' 'get' 'hold' 'lose' 'offer']\n",
      "['' 'what' 'that' 'I' 'way' 'you' 'time']\n",
      "\n",
      "49\n",
      "['car' 'vehicle' 'blood' 'water' 'truck' 'house' 'engine']\n",
      "['have' 'cut' 'rub' 'extend' 'cover' 'develop' 'form']\n",
      "['' 'what' 'that' 'finger' 'hand' 'head' 'arm']\n",
      "\n",
      "50\n",
      "['head' 'myself' 'eye' 'finger' 'leg' 'foot' 'crowd']\n",
      "['have' 'take' 'give' 'develop' 'lose' 'get' 'offer']\n",
      "['' 'what' 'that' 'way' 'which' 'point' '$']\n",
      "\n",
      "51\n",
      "['' 'that' 'we' 'they' 'which' 'you' 'it']\n",
      "['create' 'build' 'form' 'establish' 'set' 'enter' 'construct']\n",
      "['' 'performance' 'health' 'safety' 'quality' 'loss' 'effectiveness']\n",
      "\n",
      "52\n",
      "['patient' 'guest' 'folder' 'bathroom' 'everyone' 'homeowner' 'attendee']\n",
      "['earn' 'have' 'contain' 'hold' 'involve' 'assess' 'complete']\n"
     ]
    },
    {
     "name": "stdout",
     "output_type": "stream",
     "text": [
      "['kitchen' 'bed' 'fireplace' 'balcony' 'bathroom' 'bedroom' 'impact']\n",
      "\n",
      "53\n",
      "['i' 'change' 'paper' 'everyone' 'disease' 'condition' 'friend']\n",
      "['have' 'need' 'hit' 'visit' 'love' 'cost' 'own']\n",
      "['' 'I' 'which' 'you' 'that' 'we' 'he']\n",
      "\n",
      "54\n",
      "['study' 'finding' 'datum' 'result' 'researcher' 'research' 'survey']\n",
      "['examine' 'comprise' 'investigate' 'change' 'enter' 'conduct' 'evaluate']\n",
      "['presence' 'evidence' 'existence' 'prevalence' 'involvement' 'benefit'\n",
      " 'outcome']\n",
      "\n",
      "55\n",
      "['myself' 'finger' 'license' 'permission' 'yourself' 'contract' 'patent']\n",
      "['produce' 'form' 'pour' 'heat' 'clean' 'contain' 'fill']\n",
      "['' 'what' 'water' 'that' 'fluid' 'air' 'blood']\n",
      "\n",
      "56\n",
      "['book' 'chapter' 'paper' 'article' 'dress' 'price' 'clothes']\n",
      "['change' 'curb' 'fit' 'choose' 'match' 'cut' 'fill']\n",
      "['crime' 'violence' 'corruption' 'fraud' 'act' 'himself' 'top']\n",
      "\n",
      "57\n",
      "['battle' 'payment' 'novel' 'Pakistan' 'US' 'budget' 'war']\n",
      "['seek' 'send' 'hire' 'read' 'file' 'become' 'accelerate']\n",
      "['someone' 'man' 'God' 'loss' 'letter' 'woman' 'injury']\n",
      "\n",
      "58\n",
      "['problem' 'crisis' 'controversy' 'issue' 'idea' 'decision' 'pattern']\n",
      "['exist' 'emerge' 'evolve' 'arise' 'seem' 'occur' 'suggest']\n",
      "['impact' 'field' 'bill' 'mile' 'leg' 'head' 'what']\n",
      "\n",
      "59\n",
      "['researcher' 'client' 'student' 'scientist' 'customer' 'participant'\n",
      " 'guest']\n",
      "['include' 'tell' 'ask' 'establish' 'maintain' 'join' 'develop']\n",
      "['yourself' 'ourselves' 'myself' 'oneself' 'herself' 'yourselves'\n",
      " 'himself']\n",
      "\n",
      "60\n",
      "['cock' 'bit' 'voice' 'Data' 'blood' 'hip' 'pussy']\n",
      "['change' 'control' 'watch' 'alter' 'predict' 'catch' 'explain']\n",
      "['economy' 'society' 'habit' 'story' 'industry' 'crowd' 'thought']\n",
      "\n",
      "61\n",
      "['J.' 'S.' 'C.' 'K' 'J' 'himself' 'B.']\n",
      "['hit' 'score' 'advance' 'reach' 'strike' 'use' 'draw']\n",
      "['opponent' 'string' 'wire' 'tube' 'beam' 'expression' 'strap']\n",
      "\n",
      "62\n",
      "['people' 'everyone' 'woman' 'parent' 'man' 'owner' 'leader']\n",
      "['have' 'take' 'lose' 'give' 'get' 'offer' 'need']\n",
      "['effect' 'impact' 'potential' 'implication' 'consequence' 'value'\n",
      " 'meaning']\n",
      "\n",
      "63\n",
      "['signal' 'datum' 'suite' 'information' 'page' 'Data' 'copy']\n",
      "['preserve' 'record' 'capture' 'restore' 'secure' 'retrieve' 'quantify']\n",
      "['victory' 'status' 'edge' 'win' 'significance' 'nature' 'passage']\n"
     ]
    }
   ],
   "source": [
    "i_word = [{i: w for w, i in evalor.index[j].items()} for j in modes]\n",
    "vocab = [np.array([i_word[j][i] for i in range(len(i_word[j]))]) for j in range(len(i_word))]\n",
    "for k, j in enumerate(\n",
    "        #np.argsort(-ktensor.lmbda)[:4]):#\n",
    "        range(evalor.decomped_tns.rank)):\n",
    "    print(f'\\n{k}')# {j}')\n",
    "    for i, factor in enumerate(evalor.decomped_tns.factors):\n",
    "        ids = np.argsort(factor[:,j].todense())[:7]\n",
    "        print(vocab[i][ids])\n",
    "        #print(['{:.1g}'.format(coord) for coord in ktensor.U[i][ids,j]])"
   ]
  },
  {
   "cell_type": "markdown",
   "metadata": {},
   "source": [
    "|rank|$\\lambda$|e.g.|\n",
    "|----|---------|----|\n",
    "|16|1|topic/example (2) provide/offer (2) assistance/guidance|\n",
    "|32|1|Android (3)  win degree (1)|\n",
    "|64|1|I describe (1) game/story (2)|"
   ]
  }
 ],
 "metadata": {
  "kernelspec": {
   "display_name": "vtens",
   "language": "python",
   "name": "vtens"
  },
  "language_info": {
   "codemirror_mode": {
    "name": "ipython",
    "version": 3
   },
   "file_extension": ".py",
   "mimetype": "text/x-python",
   "name": "python",
   "nbconvert_exporter": "python",
   "pygments_lexer": "ipython3",
   "version": "3.7.6"
  }
 },
 "nbformat": 4,
 "nbformat_minor": 2
}
