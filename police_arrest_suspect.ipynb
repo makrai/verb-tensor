{
 "cells": [
  {
   "cell_type": "code",
   "execution_count": 1,
   "metadata": {},
   "outputs": [
    {
     "name": "stderr",
     "output_type": "stream",
     "text": [
      "DEBUG    [415] CACHEDIR=/home/makrai/.cache/matplotlib\n",
      "DEBUG    [1362] Using fontManager instance from /home/makrai/.cache/matplotlib/fontlist-v300.json\n",
      "DEBUG    [211] Loaded backend module://ipykernel.pylab.backend_inline version unknown.\n",
      "DEBUG    [211] Loaded backend module://ipykernel.pylab.backend_inline version unknown.\n",
      "DEBUG    [211] Loaded backend module://ipykernel.pylab.backend_inline version unknown.\n"
     ]
    },
    {
     "name": "stdout",
     "output_type": "stream",
     "text": [
      "Populating the interactive namespace from numpy and matplotlib\n"
     ]
    }
   ],
   "source": [
    "import os\n",
    "import pandas as pd\n",
    "import pickle\n",
    "\n",
    "from bidict import bidict\n",
    "import numpy as np\n",
    "\n",
    "import decomp_pmi\n",
    "\n",
    "import matplotlib.pyplot as plt\n",
    "%pylab inline\n",
    "pylab.rcParams['figure.figsize'] = (10, 6)\n",
    "\n",
    "import logging\n",
    "logging.basicConfig(level=logging.DEBUG,\n",
    "        format='%(levelname)-8s [%(lineno)d] %(message)s')"
   ]
  },
  {
   "cell_type": "raw",
   "metadata": {},
   "source": [
    "mazsola_df = pd.read_csv(\n",
    "    '/mnt/permanent/Language/Hungarian/Dic/sass15-535k-igei-szerkezet/mazsola_adatbazis_svo_freq.tsv',\n",
    "    sep='\\t')                                                            \n",
    "#mazsola_df, log_total = decomp_pmi.append_pmi(mazsola_df, compute_freq=False)          \n",
    "decomp_pmi.decomp(mazsola_df, cutoff=2**10, rank=4)"
   ]
  },
  {
   "cell_type": "code",
   "execution_count": 2,
   "metadata": {},
   "outputs": [],
   "source": [
    "weights = ['freq', 'pmi', 'iact_info', 'salience', 'iact_sali', 'dice']\n",
    "index = {weight: pickle.load(open(\n",
    "    '/mnt/store/home/makrai/project/verb-tensor/pmi/sparstensr_{}_2.pkl'.format(weight), mode='rb'))[1]\n",
    "         for weight in weights}"
   ]
  },
  {
   "cell_type": "code",
   "execution_count": 3,
   "metadata": {},
   "outputs": [],
   "source": [
    "modes = ['NOM', 'stem', 'ACC']"
   ]
  },
  {
   "cell_type": "markdown",
   "metadata": {},
   "source": [
    "# K-tensor"
   ]
  },
  {
   "cell_type": "code",
   "execution_count": 4,
   "metadata": {},
   "outputs": [],
   "source": [
    "#ktensor, fit, n_iterations, exectimes = \n",
    "ktensor = {weight: pickle.load(open(\n",
    "    '/mnt/store/home/makrai/project/verb-tensor/pmi/ktensor_{}_2_100.pkl'.format(weight), mode='rb'))[0]\n",
    "           for weight in weights}"
   ]
  },
  {
   "cell_type": "code",
   "execution_count": 5,
   "metadata": {},
   "outputs": [],
   "source": [
    "def show_latent_dims(weight, limit=-1):\n",
    "    for k, factor in enumerate(np.argsort(-ktensor[weight].lmbda)):\n",
    "        print(k)\n",
    "        for i, mode in enumerate(modes):\n",
    "            words = [index[weight][mode].inverse[j] for j in np.argsort(-ktensor[weight].U[i][:,factor])][:10]\n",
    "            if words[0] in ['aki', 'ami', 'amely']:\n",
    "                break\n",
    "            print(' '.join(str(elem) for elem in words))                       \n",
    "        if k == limit:\n",
    "            break"
   ]
  },
  {
   "cell_type": "code",
   "execution_count": 6,
   "metadata": {},
   "outputs": [
    {
     "data": {
      "text/plain": [
       "['freq', 'pmi', 'iact_info', 'salience', 'iact_sali', 'dice']"
      ]
     },
     "execution_count": 6,
     "metadata": {},
     "output_type": "execute_result"
    }
   ],
   "source": [
    "weights"
   ]
  },
  {
   "cell_type": "code",
   "execution_count": 7,
   "metadata": {},
   "outputs": [
    {
     "name": "stdout",
     "output_type": "stream",
     "text": [
      "0\n",
      "1\n",
      "2\n",
      "3\n",
      "én úr senki jó vezetőPOSS elnökPOSS képviselő miniszter ön elnök\n",
      "mond tud tart ad tesz kér lát vesz elmond elfogad\n",
      "nan az ez ők ő ami amely semmi aki hír\n",
      "4\n",
      "5\n",
      "6\n",
      "kormány amely állam önkormányzat vezetőPOSS miniszter elnök hatóság párt Magyarország\n",
      "tesz állít megtesz csinál érdekel megenged benyújt mond indokol vállal\n",
      "nan elég javaslat mi feljelentés szer ajánlat több látogatás indítvány\n",
      "7\n",
      "országgyűlés parlament december március június október november közgyűlés bizottságPOSS április\n",
      "tart vesz nan bejelent folytat elfogad veszik hoz érez javasol\n",
      "nan az ez ami ők ülés ülésPOSS ő amely aki\n",
      "8\n",
      "9\n",
      "10\n",
      "11\n",
      "12\n",
      "bizottság bíróság közgyűlés kormány parlament testület amely országgyűlés aki önkormányzat\n",
      "hoz meghoz elfogad helyez indokol nan megváltoztat helybenhagy hagy visz\n",
      "nan döntés az határozat ez amely ítélet ami bizottság döntésPOSS\n",
      "13\n",
      "kormány bizottság közgyűlés parlament országgyűlés önkormányzat elnök miniszter állam mi\n",
      "ad tart tesz vállal elmond veszik akar gondol kap csinál\n",
      "nan az ez ami amely ők mi ő aki annyi\n",
      "14\n",
      "ember úr ön képviselőtársPOSS jó senki kormány igaz es magyar\n",
      "tesz mond ad elmond csinál ír elfogad érez tud akar\n",
      "nan az ami ez amely mi maga aki valami ők\n",
      "15\n",
      "16\n",
      "17\n",
      "vezetőPOSS elnökPOSS elnök miniszter képviselő kormány képviselőPOSS politikus párt miniszterelnök\n",
      "mond állít elmond javasol nan ír szeret közöl válaszol hisz\n",
      "az ami nem ez mi annyi igen beszéd vélemény módosításPOSS\n",
      "18\n",
      "én úr senki ön miniszter képviselő elnökPOSS képviselőtársPOSS elnök vezetőPOSS\n",
      "hoz kér mond meghoz közöl nyilatkozik indokol elfogad megtud érdekel\n",
      "nan az ez ő ők ami amely szó szándékPOSS aki\n",
      "19\n",
      "20\n",
      "ez aki ami az külügyminiszter elnökPOSS kormányfő én Gábor László\n",
      "mond tart megállapít jelent vél hoz elér ért elérik gondol\n",
      "nan az ez ami ők amely ő hír aki hely\n",
      "21\n",
      "ember amely senki forint ami parlament önkormányzat országgyűlés olvasó képes\n",
      "ír tart tud tesz kérdez megtud megír lát vél vesz\n",
      "nan az ez ami annyi mi beszéd ők hír amely\n",
      "22\n",
      "úr aki én vezetőPOSS elnökPOSS elnök miniszter képviselő senki kormány\n",
      "állít elfogad elmond hangsúlyoz vesz veszik hall vezet hallik közöl\n",
      "nan az ez ők amely ami ő aki levél véleményPOSS\n",
      "23\n",
      "24\n",
      "25\n",
      "képviselőtársPOSS dolog fontos ok ördög mindegy ifjúsági kovács igen Kht\n",
      "érez vesz hoz veszik lát szeret akar ér ért csinál\n",
      "nan az ez maga magaPOSS ami ők ő amely aki\n",
      "26\n",
      "27\n",
      "sok mi aki annyi én ember kormány ő ez amely\n",
      "megtesz tud nan mond lát elmond csinál tesz elkövet hall\n",
      "minden jó rossz új más dolog lépés egyéb szép hiba\n",
      "28\n",
      "dolog nép fontos parlament világ mindegy kérdés néző közvélemény szerződés\n",
      "tesz lát vesz veszik hozzátesz eldönt megtud megjegyez kijelent szeret\n",
      "nan az ez ami ők amely mi ő hír levél\n",
      "29\n",
      "30\n",
      "31\n",
      "helyettesPOSS szövetség biztosPOSS szakértőPOSS társaság Balázs bank igazságügy--miniszter|igazságügy-miniszter Markó Judit\n",
      "mond elmond ad kijelent állít vél ír tart hangsúlyoz közöl\n",
      "nan az ez ők ő amely aki hír én ti\n",
      "32\n",
      "33\n",
      "34\n",
      "35\n",
      "36\n"
     ]
    }
   ],
   "source": [
    "show_latent_dims('freq', limit=36)"
   ]
  },
  {
   "cell_type": "code",
   "execution_count": 8,
   "metadata": {},
   "outputs": [
    {
     "name": "stdout",
     "output_type": "stream",
     "text": [
      "0\n",
      "1\n",
      "2\n",
      "3\n",
      "4\n",
      "5\n",
      "6\n",
      "7\n",
      "8\n",
      "kormány bizottság állam önkormányzat párt közgyűlés képviselő parlament úr Fidesz\n",
      "támogat tesz nan benyújt hoz kér vesz folytat megszavaz biztosít\n",
      "nan az ez amely javaslat ami javaslatPOSS indítvány indítványPOSS előterjesztés\n",
      "9\n",
      "10\n",
      "11\n",
      "12\n",
      "13\n",
      "én elnökPOSS vezetőPOSS úr elnök miniszter képviselő miniszterelnök László aki\n",
      "mond hisz állít nan jelent gondol közöl elmond javasol van\n",
      "az ami mi ez annyi nem megoldás igen jelölt lehetőségPOSS\n",
      "14\n",
      "önkormányzat állam Rt cég szervezet minisztérium több további hatóság hivatal\n",
      "tesz csinál elismer benyújt elfogad használ hozzátesz megkap megvesz kiad\n",
      "nan elég javaslat szer lépés mi feljelentés ajánlat különbség erőfeszítés\n",
      "15\n",
      "ember kormány amely ez aki párt ország több én magyar\n",
      "elér elérik hoz meghalad meghoz tervez hozzátesz javasol megmutat ad\n",
      "nan eredmény az célPOSS siker|sikér ez százalék ami szint ők\n",
      "16\n",
      "képviselő bizottság közgyűlés képviselőPOSS párt elnökPOSS miniszter elnök vezetőPOSS többségPOSS\n",
      "mond tart tesz kér ad elmond folytat jelent gondol kijelent\n",
      "nan az ez ők ami ti amely én ő kormány\n",
      "17\n",
      "18\n",
      "képviselő párt bizottság úr ember elnökPOSS senki képviselőPOSS elnök vezetőPOSS\n",
      "ért ér érik megért elvisz gondol okoz akar ismer irányít\n",
      "nan egy az ez ők amely ami ő mi javaslat\n",
      "19\n",
      "20\n",
      "21\n",
      "én ember ez úr jó senki es aki ami az\n",
      "tart közöl elmond hoz kér ismer bejelent megerősít elhisz használ\n",
      "nan ők amely szó ő aki ti pénz kormány igaz\n",
      "22\n",
      "ember én jó es ami te dolog az igaz mi\n",
      "tesz ír tart jelez lát szeret elér kérdez elérik támogat\n",
      "nan az ez ők amely tájékoztatás aki engedély ő hír\n",
      "23\n",
      "24\n",
      "es jó ami én senki te egész ember ez anyaPOSS\n",
      "folytat nan kezd tart kap legyőz hozzátesz kezdeményez megkezd elmond\n",
      "nan az ez eljárás ők vizsgálat ő ti javaslat én\n",
      "25\n",
      "26\n",
      "ember én ez es jó senki ami az mi nehéz\n",
      "mond vesz ír állít vél veszik jelent kijelent elismer elmond\n",
      "nan az ez ők úr ő amely szó aki ti\n",
      "27\n",
      "kormány állam önkormányzat törvény amely hogyan ember kutató hatóság milyen\n",
      "ért megállapít elér érik ér elérik szeret közöl cáfol veszik\n",
      "nan az ez javaslat indítvány amely javaslatPOSS ami indítványPOSS törvényjavaslat\n",
      "28\n",
      "orvos dolog Imre Lajos Anna András gyula év javaslat szerző\n",
      "érez ír állít vall kérdez vezet közöl vesz felel mond\n",
      "nan maga magaPOSS az ez ők ami minden amely ő\n",
      "29\n",
      "ember én úr jó senki es ez ön képviselőtársPOSS az\n",
      "nan van elmond mond lát akar lesz ismer tud megtesz\n",
      "30\n",
      "kormány kormányzat ház törvény év parlament ország Magyarország Washington város\n",
      "lát vesz ad ér érik szeret ért néz hangsúlyoz folytat\n",
      "nan az ez ők ami ti amely ő ország ember\n",
      "31\n",
      "szövetség tárca parlament országgyűlés kabinet szövetségPOSS tanács ház pártPOSS politikai\n",
      "vesz ad veszik tart gondol kap szeret olvas ismer kijelent\n",
      "nan az ez ők ami amely több ti én annyi\n",
      "32\n",
      "33\n",
      "közgyűlés parlament Imre Béla András Péter Sándor Zoltán Lajos Pál\n",
      "ad tesz vezet hangsúlyoz támogat kap állít ismer vár ér\n",
      "nan az ez ők amely aki javaslat én ő rész\n",
      "34\n"
     ]
    }
   ],
   "source": [
    "show_latent_dims('pmi', limit=34)"
   ]
  },
  {
   "cell_type": "code",
   "execution_count": 9,
   "metadata": {},
   "outputs": [
    {
     "name": "stdout",
     "output_type": "stream",
     "text": [
      "0\n",
      "1\n",
      "2\n",
      "3\n",
      "4\n",
      "5\n",
      "6\n",
      "7\n",
      "8\n",
      "9\n",
      "10\n",
      "11\n",
      "ez ami amely az mely további semmi mindez több szó\n",
      "jelent tesz jelez mutat eredményez ad ér hoz gondol sugall\n",
      "az mi elég lépés szer megértésPOSS munka helyzet több eredmény\n",
      "12\n",
      "13\n",
      "14\n",
      "15\n",
      "16\n",
      "17\n",
      "18\n",
      "19\n",
      "elnökPOSS vezetőPOSS képviselő úr elnök László miniszter miniszterelnök képviselőPOSS én\n",
      "mond állít közöl gondol elmond javasol nyilatkozik válaszol jelent tud\n",
      "az mi ez ami annyi beszéd következő nem köszönet semmi\n",
      "20\n",
      "21\n",
      "22\n",
      "ember aki én es senki jó úr mi kormány ő\n",
      "NULL mond tesz tud gondol akar csinál lát szeret ad\n",
      "NULL az ez mi ami valami semmi más ily sok\n",
      "23\n",
      "úr elnökPOSS képviselő László én István József miniszterelnök miniszter elnök\n",
      "NULL van hisz lesz lát gondol hozzátesz ismer kap megerősít\n",
      "az NULL ez mi ami annyi maga nem lehetőségPOSS megoldás\n",
      "24\n",
      "es elnökPOSS december november március január Viktor külügyminiszter László igazgatóPOSS\n",
      "NULL hoz megállapít ad tart folytat bejelent elfogad lát megtud\n",
      "NULL az ez amely mi ők aki ember ti rész\n",
      "25\n",
      "26\n",
      "es részPOSS mi igaz december cikk képviselőtársPOSS ház képviselő probléma\n",
      "okoz hoz kérdez NULL ad elismer vállal bejelent néz jelez\n",
      "NULL az ez gond ők mi ami ő amely ti\n",
      "27\n",
      "28\n",
      "fi|fiúPOSS gyermek öreg apa kis egész politikai francia Kiss kutya\n",
      "tesz NULL mond csinál megtesz tartalmaz ír tud szól vesz\n",
      "NULL ez az ami ők mi amely ő javaslat aki\n",
      "29\n",
      "én jó úr es László István elnökPOSS József Viktor elnök\n",
      "szeret elér elérik kér ért javasol hallik támogat mutat köszön\n",
      "NULL az ez ami ők mi semmi aki ő ember\n",
      "30\n",
      "31\n",
      "én es ember senki jó ami amely mi az ez\n",
      "vesz veszik jelez megerősít elér vállal elérik hallik hisz hall\n",
      "NULL az ez mi ami ők amely aki ő feljelentés\n",
      "32\n",
      "33\n",
      "igaz képviselőtársPOSS tamás igazgató dolog biztos pénzügyminiszter Imre Mihály javaslat\n",
      "tart ad ért szeret állít elfogad tud jelent vezet nevez\n",
      "NULL az ez maga ők ami amely ő magaPOSS mi\n",
      "34\n",
      "ember kormány úr senki ön magyar jó es képes párt\n",
      "megmond remél hangoztat hisz elhisz vár megmutat említ megnéz eldönt\n",
      "NULL az ők ő ti minden kormány lehetőségPOSS forint napvilág\n",
      "35\n",
      "36\n",
      "37\n",
      "én amely úr képviselő vezetőPOSS képviselőPOSS elnökPOSS igazgatóPOSS államtitkár külügyminiszter\n",
      "NULL jelent mond állít ír csinál van lát akar ismer\n",
      "az mi ez létrehozásPOSS maga lehetőségPOSS módosításPOSS több levél megoldás\n",
      "38\n",
      "39\n",
      "kormány ő ön vezetőPOSS minisztérium képviselőPOSS senki elnökPOSS június kft\n",
      "jelent jelez mutat eredményez ér van sugall hoz gondol kér\n",
      "az NULL mi ez ők ami elég ő én szer\n",
      "40\n",
      "november december Pál április március május szeptember január október Miklós\n",
      "mond tesz tud elfogad vár szeret elérik elér megjegyez folytat\n",
      "NULL ez az ami ők amely ő aki mi javaslat\n",
      "41\n",
      "senki évPOSS gyerek bizottság ki mindenki hölgy minisztérium hivatal új\n",
      "okoz jelent tesz megold szenved fordít felvet eredményez NULL kimond\n",
      "NULL az ez ők ő javaslat ti mi aki ember\n",
      "42\n",
      "ember kormány senki úr ön jó magyar es párt képes\n",
      "hisz vár hangoztat megtud állít remél megmond elhisz megnéz elvár\n",
      "NULL ami az amely ez aki mely mi én ők\n",
      "43\n",
      "igazgató polgármester vezető Lajos Mihály Imre vezérigazgatóPOSS pénzügyminiszter Zsolt ház\n",
      "ad tesz szeret állít vállal kérdez ír jelez érez folytat\n",
      "NULL ők ő amely javaslat mi ti aki én kormány\n",
      "44\n",
      "sok aki mi annyi Magyarország parlament amely állam hatóság ez\n",
      "megtesz elkövet tesz tud csinál köszön NULL ír vesz megtanul\n",
      "minden lépés NULL intézkedés hiba út ez erőfeszítés telhető kilométer\n"
     ]
    }
   ],
   "source": [
    "show_latent_dims('iact_info', limit=44)"
   ]
  },
  {
   "cell_type": "code",
   "execution_count": 15,
   "metadata": {},
   "outputs": [
    {
     "name": "stdout",
     "output_type": "stream",
     "text": [
      "0\n",
      "1\n",
      "2\n",
      "3\n",
      "4\n",
      "5\n",
      "6\n",
      "7\n",
      "8\n",
      "9\n",
      "10\n",
      "11\n",
      "12\n",
      "én amely úr ember senki kormány jó vezetőPOSS es képviselő\n",
      "mond NULL elér elérik szeret tartalmaz van ért lesz keres\n",
      "az NULL ez ami amely mi ők levél jó hír\n",
      "13\n",
      "14\n",
      "kormány amely állam önkormányzat párt bizottság cég minisztérium szervezet ország\n",
      "kér elfogad támogat hoz vállal gondol megállapít folytat megjegyez NULL\n",
      "NULL az ez ők ő javaslat én szó ti ami\n",
      "15\n",
      "16\n",
      "17\n",
      "kormány amely én úr állam önkormányzat vezetőPOSS elnök miniszter párt\n",
      "mond ad közöl tud vár jelez szeret ért hozzátesz remél\n",
      "NULL mi ők ő amely aki ez lépés ti én\n",
      "18\n",
      "kormány amely március november december január Rt október június április\n",
      "hoz ír tud állít folytat meghoz jelez érez köszön remél\n",
      "NULL az ők amely előadás ülés igény ülésPOSS ez ő\n",
      "19\n",
      "elnök elnökPOSS miniszter miniszterelnök Viktor képviselőPOSS vezetőPOSS politikus József kormányfő\n",
      "ad tesz tud szeret jelent kap vár ismer néz vállal\n",
      "NULL az ez ők ami amely ő mi ti aki\n",
      "20\n",
      "én képviselő vezetőPOSS miniszter elnökPOSS ez úr elnök László képviselőPOSS\n",
      "elmond hangsúlyoz bejelent megállapít hozzátesz jelez vezet nyilatkozik magyaráz közöl\n",
      "NULL az ez magaPOSS ő ők te javaslat napvilág úr\n",
      "21\n",
      "ez én úr ami elnökPOSS képviselő László elnök miniszter kormányfő\n",
      "közöl jelent vár kérdez néz vél nyilatkozik ír bejelent vall\n",
      "NULL az ez mi ők ami ő amely én javaslat\n",
      "22\n",
      "kormány önkormányzat minisztérium Rt miniszter szervezet elnök bizottság közgyűlés képviselő\n",
      "vállal tart vesz kap lát állít folytat ismer hoz ad\n",
      "NULL az ez ők maga amely munkaPOSS aki mi névPOSS\n",
      "23\n",
      "én es jó anyaPOSS bácsi apa rendőr senki te otthon\n",
      "folytat tart kezd tesz NULL kap vállal elfogad értékel vesz\n",
      "NULL az tárgyalás megbeszélés amely tevékenység politika ez ami ők\n",
      "24\n",
      "kormány én aki vezetőPOSS ő senki képviselőPOSS ön ki önkormányzat\n",
      "jelent NULL jelez mutat gondol eredményez van sugall lesz mond\n",
      "NULL az mi ez ami ők lehetőség én hely bevétel\n",
      "25\n"
     ]
    }
   ],
   "source": [
    "show_latent_dims('salience', limit=25)"
   ]
  },
  {
   "cell_type": "code",
   "execution_count": 16,
   "metadata": {},
   "outputs": [
    {
     "name": "stdout",
     "output_type": "stream",
     "text": [
      "0\n",
      "1\n",
      "2\n",
      "3\n",
      "4\n",
      "5\n",
      "6\n",
      "7\n",
      "8\n",
      "kormány amely úr vezetőPOSS elnök ember bizottság párt miniszter képviselő\n",
      "ad kap biztosít tesz hozzátesz nyújt megad akar támogat teremt\n",
      "NULL az ez lehetőség ők ő ok esély javaslat válasz\n",
      "9\n",
      "10\n",
      "11\n",
      "úr László képviselő elnökPOSS vezetőPOSS miniszterelnök József miniszter István elnök\n",
      "tesz mond NULL ír vesz lát kap vállal elér csinál\n",
      "NULL az ez ami mi ők minden amely aki ő\n",
      "12\n",
      "13\n",
      "14\n",
      "15\n",
      "16\n",
      "ez ami szóvivőPOSS Zoltán Pál Béla alelnök Attila Orbán kapitány\n",
      "ad kér jelent elér elérik közöl kérdez megtud vesz biztosít\n",
      "NULL az ez ők hely ő engedély ami tájékoztatás hír\n",
      "17\n",
      "én úr képviselő képviselőtársPOSS igaz ők ön dolog tamás látogatásPOSS\n",
      "tart tud hoz kér nevez mond kijelent gondol vezet meghoz\n",
      "NULL az ez ami ők amely mi ő aki ti\n",
      "18\n",
      "19\n",
      "20\n",
      "én bizonyos ítélet programPOSS kutatásPOSS három teljes kutatás hív elvPOSS\n",
      "mond tesz elmond kér lát közöl vél állít vesz tud\n",
      "NULL az ők ő annyi amely én napvilág aki úr\n"
     ]
    }
   ],
   "source": [
    "show_latent_dims('iact_sali', limit=20)"
   ]
  },
  {
   "cell_type": "code",
   "execution_count": 12,
   "metadata": {},
   "outputs": [
    {
     "name": "stdout",
     "output_type": "stream",
     "text": [
      "0\n",
      "jegyző László elnökPOSS szó közgyűlés okirat módosításPOSS történő Fővárosi módosítás\n",
      "felkér megkér megkérdez illet feljelent megillet felszólít felhatalmaz mond köszön\n",
      "képviselőtársPOSS Terézia László biztos főpolgármester polgármester bizottság főjegyző külügyminiszter igazgatóPOSS\n",
      "1\n",
      "kombiné feledékenység részletezett bála tárt beépíthető stabilitás pesszimizmusPOSS torz méret\n",
      "felnyom elhalkít éleszt elseper meghág félrevettet felzár feldobál megoperál fölszerkeszt\n",
      "húshalom radikalizmus vitelezésPOSS kintlevőségPOSS proklamáció gallérPOSS nóniusz velő koporsó paralelogramma\n",
      "2\n",
      "foglaló árPOSS körű Rt--t értékesítés adásvétel kiterjedő okirat melléklet B\n",
      "elmarasztal talál megrohamoz elutasít beperel felszólít elbírál tárgyal áttesz felszereltet\n",
      "bank aláírásPOSS Rt. megkötésPOSS aláírás szerzőPOSS teljesítésPOSS polgármester szerződés írásPOSS\n"
     ]
    }
   ],
   "source": [
    "show_latent_dims('dice', limit=2)"
   ]
  },
  {
   "cell_type": "markdown",
   "metadata": {},
   "source": [
    "# Debugging the sparse tensor"
   ]
  },
  {
   "cell_type": "code",
   "execution_count": 13,
   "metadata": {},
   "outputs": [],
   "source": [
    "def top_triples(sparse_tensor1, index1):\n",
    "    dense = sparse_tensor1.toarray()[:200,:200,:200]\n",
    "    for m, ijk in enumerate(zip(*np.unravel_index(np.argsort(-dense.reshape(-1)), sparse_tensor1.shape))):\n",
    "        if m == 5:\n",
    "            break\n",
    "        print(([index1[mode].inverse[index] for mode, index in zip(modes, ijk)], dense[ijk]))\n",
    "    return dense\n"
   ]
  }
 ],
 "metadata": {
  "kernelspec": {
   "display_name": "Python 3",
   "language": "python",
   "name": "python3"
  },
  "language_info": {
   "codemirror_mode": {
    "name": "ipython",
    "version": 3
   },
   "file_extension": ".py",
   "mimetype": "text/x-python",
   "name": "python",
   "nbconvert_exporter": "python",
   "pygments_lexer": "ipython3",
   "version": "3.7.1"
  }
 },
 "nbformat": 4,
 "nbformat_minor": 2
}
