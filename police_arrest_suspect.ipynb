{
 "cells": [
  {
   "cell_type": "code",
   "execution_count": 57,
   "metadata": {},
   "outputs": [
    {
     "name": "stdout",
     "output_type": "stream",
     "text": [
      "Populating the interactive namespace from numpy and matplotlib\n"
     ]
    }
   ],
   "source": [
    "import configparser\n",
    "import os\n",
    "import pickle\n",
    "\n",
    "from gensim.models import KeyedVectors, TranslationMatrix\n",
    "import numpy as np\n",
    "import pandas as pd\n",
    "import sktensor\n",
    "import tensorly as tl\n",
    "\n",
    "\n",
    "import matplotlib.pyplot as plt\n",
    "%pylab inline\n",
    "\n",
    "import logging\n",
    "logging.basicConfig(level=logging.INFO, \n",
    "                    format='%(msecs)d %(levelname)-8s [%(lineno)d] %(message)s')"
   ]
  },
  {
   "cell_type": "code",
   "execution_count": 30,
   "metadata": {},
   "outputs": [
    {
     "data": {
      "text/plain": [
       "['config.ini']"
      ]
     },
     "execution_count": 30,
     "metadata": {},
     "output_type": "execute_result"
    }
   ],
   "source": [
    "config = configparser.ConfigParser()                                            \n",
    "config.read('config.ini')                                                       "
   ]
  },
  {
   "cell_type": "markdown",
   "metadata": {},
   "source": [
    "# non-neg Tucker"
   ]
  },
  {
   "cell_type": "code",
   "execution_count": 31,
   "metadata": {},
   "outputs": [],
   "source": [
    "from eval_tensor import VerbTensorEvaluator"
   ]
  },
  {
   "cell_type": "code",
   "execution_count": 32,
   "metadata": {},
   "outputs": [],
   "source": [
    "evalor = VerbTensorEvaluator(non_negative=True, cutoff=300000)"
   ]
  },
  {
   "cell_type": "code",
   "execution_count": 33,
   "metadata": {},
   "outputs": [],
   "source": [
    "evalor.load_embeddings()"
   ]
  },
  {
   "cell_type": "code",
   "execution_count": 34,
   "metadata": {},
   "outputs": [],
   "source": [
    "tensor = evalor.decomped_tns"
   ]
  },
  {
   "cell_type": "code",
   "execution_count": 35,
   "metadata": {},
   "outputs": [],
   "source": [
    "core = tensor.core"
   ]
  },
  {
   "cell_type": "code",
   "execution_count": 36,
   "metadata": {},
   "outputs": [
    {
     "data": {
      "text/plain": [
       "(1515, 1438, 2200)"
      ]
     },
     "execution_count": 36,
     "metadata": {},
     "output_type": "execute_result"
    }
   ],
   "source": [
    "tensor.shape"
   ]
  },
  {
   "cell_type": "code",
   "execution_count": 37,
   "metadata": {},
   "outputs": [
    {
     "data": {
      "text/plain": [
       "(64, 64, 64)"
      ]
     },
     "execution_count": 37,
     "metadata": {},
     "output_type": "execute_result"
    }
   ],
   "source": [
    "core.shape"
   ]
  },
  {
   "cell_type": "code",
   "execution_count": 38,
   "metadata": {},
   "outputs": [],
   "source": [
    "height = 8\n",
    "#pylab.rcParams['figure.figsize'] = (2*height, height)"
   ]
  },
  {
   "cell_type": "code",
   "execution_count": 39,
   "metadata": {},
   "outputs": [
    {
     "data": {
      "image/png": "[encoded data removed]",
      "text/plain": [
       "<Figure size 460.8x288 with 2 Axes>"
      ]
     },
     "metadata": {
      "needs_background": "light"
     },
     "output_type": "display_data"
    }
   ],
   "source": [
    "plt.matshow(tensor.factors[1][:40])\n",
    "plt.colorbar()\n",
    "plt.savefig('/home/makrai/repo/paper/Coling2020/verbtensor/img/nonneg-mx.png')"
   ]
  },
  {
   "cell_type": "code",
   "execution_count": 40,
   "metadata": {},
   "outputs": [
    {
     "data": {
      "image/png": "[encoded data removed]",
      "text/plain": [
       "<Figure size 432x288 with 1 Axes>"
      ]
     },
     "metadata": {
      "needs_background": "light"
     },
     "output_type": "display_data"
    }
   ],
   "source": [
    "_ = plt.hist(tensor.factors[1].reshape(-1), log=True, bins=100)\n",
    "plt.savefig('/home/makrai/repo/paper/Coling2020/verbtensor/img/nonneg-histg.png')"
   ]
  },
  {
   "cell_type": "code",
   "execution_count": 59,
   "metadata": {},
   "outputs": [],
   "source": [
    "mode_names = ['nsubj', 'ROOT', 'dobj']\n",
    "\n",
    "def show_latent(latent_i, mode_i):\n",
    "    surf_indices = np.argsort(-tensor.factors[mode_i][:,latent_i])\n",
    "    return latent_i, ', '.join([evalor.index[mode_names[mode_i]].inv[surf_i] for surf_i in surf_indices])"
   ]
  },
  {
   "cell_type": "code",
   "execution_count": 67,
   "metadata": {},
   "outputs": [
    {
     "name": "stdout",
     "output_type": "stream",
     "text": [
      "\\begin{tabular}{ll}\n",
      "\\toprule\n",
      "{} &                                           subjects \\\\\n",
      "dim &                                                    \\\\\n",
      "\\midrule\n",
      "6   &  you, , that, we, I, they, company, user, he, -... \\\\\n",
      "7   &  , system, -rrb-, we, device, report, study, he... \\\\\n",
      "8   &  FIG., figure, which, -rrb-, we, table, chart, ... \\\\\n",
      "9   &  stock, action, condition, development, sale, J... \\\\\n",
      "10  &  play, value, day, round, war, number, conversa... \\\\\n",
      "11  &  he, who, she, you, that, we, they, -rrb-, peop... \\\\\n",
      "12  &  I, you, , he, who, they, study, which, user, s... \\\\\n",
      "13  &  area, property, system, site, factor, device, ... \\\\\n",
      "14  &  it, Council, Committee, board, Board, House, C... \\\\\n",
      "15  &  we, , that, system, study, site, book, who, de... \\\\\n",
      "\\bottomrule\n",
      "\\end{tabular}\n",
      "\n"
     ]
    }
   ],
   "source": [
    "records = []\n",
    "for i in range(6,16):\n",
    "    records.append(show_latent(i, 0))\n",
    "print(pd.DataFrame(records, columns=['dim', 'subjects']).set_index('dim').to_latex())"
   ]
  },
  {
   "cell_type": "code",
   "execution_count": 68,
   "metadata": {},
   "outputs": [
    {
     "name": "stdout",
     "output_type": "stream",
     "text": [
      "\\begin{tabular}{ll}\n",
      "\\toprule\n",
      "{} &                                              verbs \\\\\n",
      "dim &                                                    \\\\\n",
      "\\midrule\n",
      "0   &  control, utilize, modify, use, manipulate, con... \\\\\n",
      "1   &  have, include, provide, offer, give, contain, ... \\\\\n",
      "2   &  move, regard, monitor, evaluate, control, opti... \\\\\n",
      "3   &  grab, pull, put, throw, touch, knock, shove, p... \\\\\n",
      "4   &  educate, assist, convince, persuade, kill, inf... \\\\\n",
      "5   &  include, have, affect, contain, take, represen... \\\\\n",
      "6   &  increase, decrease, reduce, measure, lower, bo... \\\\\n",
      "7   &  provide, give, receive, offer, increase, have,... \\\\\n",
      "8   &  build, expand, promote, improve, develop, enha... \\\\\n",
      "9   &  provide, offer, facilitate, initiate, prevent,... \\\\\n",
      "\\bottomrule\n",
      "\\end{tabular}\n",
      "\n"
     ]
    }
   ],
   "source": [
    "records = []\n",
    "for i in range(10):\n",
    "    records.append(show_latent(i, 1))\n",
    "print(pd.DataFrame(records, columns=['dim', 'verbs']).set_index('dim').to_latex())"
   ]
  },
  {
   "cell_type": "code",
   "execution_count": 70,
   "metadata": {},
   "outputs": [
    {
     "name": "stdout",
     "output_type": "stream",
     "text": [
      "\\begin{tabular}{ll}\n",
      "\\toprule\n",
      "{} &                                            objects \\\\\n",
      "dim &                                                    \\\\\n",
      "\\midrule\n",
      "0   &  system, structure, network, object, component,... \\\\\n",
      "1   &  , what, that, way, \\%, percent, I, \\$, which, wh... \\\\\n",
      "2   &  head, ball, ass, hand, cock, face, foot, finge... \\\\\n",
      "3   &  people, he, I, she, other, you, we, woman, the... \\\\\n",
      "4   &  amount, system, income, component, rate, chanc... \\\\\n",
      "5   &  frequency, concentration, density, probability... \\\\\n",
      "6   &  infrastructure, production, supply, business, ... \\\\\n",
      "7   &  value, datum, information, number, amount, pro... \\\\\n",
      "8   &  experience, ability, understanding, capability... \\\\\n",
      "9   &  transmission, exposure, production, spread, tr... \\\\\n",
      "\\bottomrule\n",
      "\\end{tabular}\n",
      "\n"
     ]
    }
   ],
   "source": [
    "records = []\n",
    "for i in range(10):\n",
    "    records.append(show_latent(i, 2))\n",
    "print(pd.DataFrame(records, columns=['dim', 'objects']).set_index('dim').to_latex())"
   ]
  },
  {
   "cell_type": "code",
   "execution_count": 65,
   "metadata": {},
   "outputs": [
    {
     "name": "stdout",
     "output_type": "stream",
     "text": [
      "\\begin{tabular}{ll}\n",
      "\\toprule\n",
      "{} &                                              words \\\\\n",
      "dim &                                                    \\\\\n",
      "\\midrule\n",
      "19  &  -rsb-, -lsb-, disease, result, -lsb-\\_NNS, -RSB... \\\\\n",
      "22  &  -lsb-\\_VBD, -lsb-\\_VBP, -lsb-\\_VBZ, -lsb-\\_VB, -ls... \\\\\n",
      "18  &  -rsb-, -rsb-\\_NNS, -RSB-, -lsb-, 6, 1, 4, Page,... \\\\\n",
      "0   &  , you, we, that, he, they, who, I, it, she, wh... \\\\\n",
      "0   &  control, utilize, modify, use, manipulate, con... \\\\\n",
      "0   &  system, structure, network, object, component,... \\\\\n",
      "0   &  , you, we, that, he, they, who, I, it, she, wh... \\\\\n",
      "4   &  educate, assist, convince, persuade, kill, inf... \\\\\n",
      "3   &  people, he, I, she, other, you, we, woman, the... \\\\\n",
      "0   &  , you, we, that, he, they, who, I, it, she, wh... \\\\\n",
      "3   &  grab, pull, put, throw, touch, knock, shove, p... \\\\\n",
      "2   &  head, ball, ass, hand, cock, face, foot, finge... \\\\\n",
      "8   &  FIG., figure, which, -rrb-, we, table, chart, ... \\\\\n",
      "15  &  illustrate, show, take, depict, make, use, rec... \\\\\n",
      "0   &  system, structure, network, object, component,... \\\\\n",
      "13  &  area, property, system, site, factor, device, ... \\\\\n",
      "22  &  -lsb-\\_VBD, -lsb-\\_VBP, -lsb-\\_VBZ, -lsb-\\_VB, -ls... \\\\\n",
      "18  &  -rsb-, -rsb-\\_NNS, -RSB-, -lsb-, 6, 1, 4, Page,... \\\\\n",
      "8   &  FIG., figure, which, -rrb-, we, table, chart, ... \\\\\n",
      "15  &  illustrate, show, take, depict, make, use, rec... \\\\\n",
      "4   &  amount, system, income, component, rate, chanc... \\\\\n",
      "38  &  which, system, program, it, device, each, feat... \\\\\n",
      "1   &  have, include, provide, offer, give, contain, ... \\\\\n",
      "62  &  access, opportunity, advantage, option, number... \\\\\n",
      "\\bottomrule\n",
      "\\end{tabular}\n",
      "\n"
     ]
    }
   ],
   "source": [
    "records = []\n",
    "for i, j, k in list(zip(*np.unravel_index(np.argsort(-core.reshape(-1)), core.shape)))[:8]:\n",
    "    records.append(show_latent(i, 0))\n",
    "    records.append(show_latent(j, 1))\n",
    "    records.append(show_latent(k, 2))\n",
    "print(pd.DataFrame(records, columns=['dim', 'words']).set_index('dim').to_latex())"
   ]
  },
  {
   "cell_type": "markdown",
   "metadata": {},
   "source": [
    "## Athlete ... race"
   ]
  },
  {
   "cell_type": "code",
   "execution_count": 18,
   "metadata": {},
   "outputs": [],
   "source": [
    "embed = KeyedVectors(64)"
   ]
  },
  {
   "cell_type": "code",
   "execution_count": 19,
   "metadata": {},
   "outputs": [],
   "source": [
    "embed.add_vectors(list(evalor.index['ROOT'].inv.values()), tensor.factors[1])"
   ]
  },
  {
   "cell_type": "code",
   "execution_count": 20,
   "metadata": {},
   "outputs": [],
   "source": [
    "def predict_verb(subj='athlete', obj='race'):\n",
    "    tensor1 = tensor.core\n",
    "    tensor1 = tl.tenalg.mode_dot(tensor1, evalor.lookup(subj, 0), 0)\n",
    "    tensor1 = tl.tenalg.mode_dot(tensor1, evalor.lookup(obj, 2), 1)\n",
    "    return embed.most_similar([tensor1])"
   ]
  },
  {
   "cell_type": "code",
   "execution_count": 21,
   "metadata": {},
   "outputs": [
    {
     "data": {
      "text/plain": [
       "[('have', 0.9841201901435852),\n",
       " ('include', 0.9124106764793396),\n",
       " ('provide', 0.8667762279510498),\n",
       " ('offer', 0.8448187708854675),\n",
       " ('contain', 0.8381587862968445),\n",
       " ('require', 0.7445492148399353),\n",
       " ('give', 0.6424943804740906),\n",
       " ('need', 0.6187449097633362),\n",
       " ('feature', 0.6024946570396423),\n",
       " ('affect', 0.5970800518989563)]"
      ]
     },
     "execution_count": 21,
     "metadata": {},
     "output_type": "execute_result"
    }
   ],
   "source": [
    "predict_verb()"
   ]
  },
  {
   "cell_type": "code",
   "execution_count": 22,
   "metadata": {},
   "outputs": [
    {
     "data": {
      "text/plain": [
       "[('contain', 0.861118733882904),\n",
       " ('provide', 0.8168653845787048),\n",
       " ('represent', 0.8076701760292053),\n",
       " ('require', 0.7967956066131592),\n",
       " ('constitute', 0.7953993082046509),\n",
       " ('feature', 0.7923411130905151),\n",
       " ('offer', 0.7908795475959778),\n",
       " ('have', 0.7721259593963623),\n",
       " ('give', 0.7590991854667664),\n",
       " ('affect', 0.7575748562812805)]"
      ]
     },
     "execution_count": 22,
     "metadata": {},
     "output_type": "execute_result"
    }
   ],
   "source": [
    "predict_verb(subj='user', obj='command')"
   ]
  },
  {
   "cell_type": "code",
   "execution_count": 23,
   "metadata": {},
   "outputs": [
    {
     "data": {
      "text/plain": [
       "(1515, 64)"
      ]
     },
     "execution_count": 23,
     "metadata": {},
     "output_type": "execute_result"
    }
   ],
   "source": [
    "tensor.factors[0].shape"
   ]
  },
  {
   "cell_type": "markdown",
   "metadata": {},
   "source": [
    "# Triples by `lmbda`"
   ]
  },
  {
   "cell_type": "code",
   "execution_count": 24,
   "metadata": {},
   "outputs": [],
   "source": [
    "tensor_dir = config['DEFAULT']['ProjectDirectory']+'tensor/'\n",
    "evalor = VerbTensorEvaluator(cutoff=50000, rank=128, weight='npmi', decomp_algo='parafac')\n",
    "modes = ['nsubj', 'ROOT', 'dobj']"
   ]
  },
  {
   "cell_type": "code",
   "execution_count": 26,
   "metadata": {},
   "outputs": [],
   "source": [
    "evalor.load_embeddings()"
   ]
  },
  {
   "cell_type": "code",
   "execution_count": 27,
   "metadata": {},
   "outputs": [
    {
     "data": {
      "text/plain": [
       "array([1., 1., 1., 1., 1., 1., 1., 1., 1., 1., 1., 1., 1., 1., 1., 1., 1.,\n",
       "       1., 1., 1., 1., 1., 1., 1., 1., 1., 1., 1., 1., 1., 1., 1., 1., 1.,\n",
       "       1., 1., 1., 1., 1., 1., 1., 1., 1., 1., 1., 1., 1., 1., 1., 1., 1.,\n",
       "       1., 1., 1., 1., 1., 1., 1., 1., 1., 1., 1., 1., 1., 1., 1., 1., 1.,\n",
       "       1., 1., 1., 1., 1., 1., 1., 1., 1., 1., 1., 1., 1., 1., 1., 1., 1.,\n",
       "       1., 1., 1., 1., 1., 1., 1., 1., 1., 1., 1., 1., 1., 1., 1., 1., 1.,\n",
       "       1., 1., 1., 1., 1., 1., 1., 1., 1., 1., 1., 1., 1., 1., 1., 1., 1.,\n",
       "       1., 1., 1., 1., 1., 1., 1., 1., 1.])"
      ]
     },
     "execution_count": 27,
     "metadata": {},
     "output_type": "execute_result"
    }
   ],
   "source": [
    "evalor.decomped_tns.weights.todense()"
   ]
  },
  {
   "cell_type": "code",
   "execution_count": 28,
   "metadata": {},
   "outputs": [
    {
     "name": "stdout",
     "output_type": "stream",
     "text": [
      "\n",
      "0\n",
      "['population' 'employment' 'bacterium' 'species' 'tissue' 'pain'\n",
      " 'organism']\n",
      "['indicate' 'apply' 'be' 'suggest' 'show' 'state' 'argue']\n",
      "['' 'what' 'that' 'way' 'he' 'which' '-rrb-']\n",
      "\n",
      "1\n",
      "['value' 'length' 'structure' 'parameter' 'quality' 'requirement' 'size']\n",
      "['exist' 'consist' 'vary' 'differ' 'allow' 'depend' 'evolve']\n",
      "['job' 'statement' 'plant' 'competition' 'genre' 'business' 'audience']\n",
      "\n",
      "2\n",
      "['study' 'we' 'finding' 'researcher' 'course' 'datum' 'research']\n",
      "['comprise' 'examine' 'investigate' 'evaluate' 'require' 'review'\n",
      " 'support']\n",
      "['presence' 'evidence' 'prevalence' 'desire' 'insight' 'origin'\n",
      " 'specificity']\n",
      "\n",
      "3\n",
      "['' 'he' 'who' 'they' 'I' 'you' 'we']\n",
      "['leave' 'enter' 'visit' 'use' 'break' 'join' 'build']\n",
      "['study' 'task' 'investigation' 'research' 'project' 'test' 'survey']\n",
      "\n",
      "4\n",
      "['Foundation' 'Video' 'institution' 'Capital' 'Group' 'Player' 'College']\n",
      "['play' 'watch' 'use' 'release' 'sing' 'study' 'record']\n",
      "['$' 'degree' 'advantage' 'resource' 'power' 'influence' 'music']\n",
      "\n",
      "5\n",
      "['' 'that' 'we' 'you' 'they' 'which' 'it']\n",
      "['preserve' 'target' 'detect' 'attack' 'dine' 'reveal' 'alter']\n",
      "['' 'law' 'rule' 'impact' 'regulation' 'he' 'policy']\n",
      "\n",
      "6\n",
      "['sample' 'file' 'parameter' 'string' 'bag' 'variable' 'package']\n",
      "['pick' 'cut' 'win' 'match' 'determine' 'commit' 'store']\n",
      "['he' 'she' 'crime' 'child' 'I' 'abuse' 'student']\n",
      "\n",
      "7\n",
      "['we' 'hotel' '' 'Hotel' 'that' 'company' 'which']\n",
      "['offer' 'provide' 'have' 'feature' 'boast' 'include' 'serve']\n",
      "['overview' 'insight' 'evidence' 'fireplace' 'basis' 'bathroom' 'balcony']\n",
      "\n",
      "8\n",
      "['officer' 'condition' 'police' 'section' 'license' 'user' 'contract']\n",
      "['follow' 'claim' 'charge' 'await' 'appeal' 'install' 'accuse']\n",
      "['statement' 'warning' 'ruling' 'guidance' 'suit' 'market' 'survey']\n",
      "\n",
      "9\n",
      "['invention' 'processor' 'module' 'program' 'feature' 'this' 'package']\n",
      "['enjoy' 'appreciate' 'visit' 'remember' 'hear' 'feature' 'ask']\n",
      "['he' 'anyone' 'post' 'site' 'comment' 'much' 'scene']\n",
      "\n",
      "10\n",
      "['interest' 'device' 'apparatus' 'activity' 'user' 'experience'\n",
      " 'responsibility']\n",
      "['enable' 'select' 'require' 'demonstrate' 'illustrate' 'conduct'\n",
      " 'construct']\n",
      "['need' 'means' 'housing' 'finish' 'construction' 'lens' 'display']\n",
      "\n",
      "11\n",
      "['' 'team' 'who' 'he' 'they' '-rrb-' 'we']\n",
      "['win' 'lose' 'play' 'have' 'enter' 'finish' 'clinch']\n",
      "['degree' 'bachelor' 'doctorate' 'diploma' 'Ph.D.' 'Degree' 'PhD']\n",
      "\n",
      "12\n",
      "['' 'you' 'I' 'we' 'he' 'who' 'they']\n",
      "['have' 'visit' 'need' 'perform' 'seek' 'get' 'find']\n",
      "['' 'what' 'information' 'that' 'study' 'service' 'program']\n",
      "\n",
      "13\n",
      "['i' 'plate' 'everyone' 'Easy' 'condition' 'guy' 'mother']\n",
      "['have' 'increase' 'promote' 'become' 'meet' 'hire' 'reduce']\n",
      "['' 'what' 'that' 'it' 'way' 'life' 'game']\n",
      "\n",
      "14\n",
      "['' 'that' 'who' 'he' 'you' 'they' 'I']\n",
      "['resolve' 'handle' 'generate' 'address' 'join' 'avoid' 'fix']\n",
      "['' 'power' 'ability' 'effect' 'authority' 'skill' 'disease']\n",
      "\n",
      "15\n",
      "['app' 'economy' 'voice' 'software' 'App' 'email' 'installer']\n",
      "['include' 'have' 'measure' 'set' 'determine' 'adjust' 'announce']\n",
      "['' 'he' 'they' 'that' 'I' 'what' 'she']\n",
      "\n",
      "16\n",
      "['I' 'you' '' 'we' 'who' 'she' 'i']\n",
      "['love' 'enjoy' 'like' 'see' 'hate' 'prefer' 'adore']\n",
      "['himself' 'itself' 'we' 'themselves' 'law' 'opponent' 'order']\n",
      "\n",
      "17\n",
      "['topic' 'interest' 'example' 'invention' 'feature' 'these' 'Topics']\n",
      "['challenge' 'test' 'study' 'measure' 'introduce' 'assess' 'release']\n",
      "['world' 'culture' 'disease' 'design' 'law' 'art' 'audience']\n",
      "\n",
      "18\n",
      "['drum' 'Application' 'tumor' 'head' 'tooth' 'text' 'bone']\n",
      "['have' 'file' 'reject' 'support' 'win' 'lead' 'lose']\n",
      "['claim' 'proposal' 'idea' 'belief' 'theory' 'notion' 'request']\n",
      "\n",
      "19\n",
      "['' 'she' 'I' 'he' 'who' 'you' 'they']\n",
      "['wear' 'don' 'pull' 'have' 'put' 'sport' 'remove']\n",
      "['wood' 'joint' 'bar' 'corner' 'flavor' 'brush' 'advantage']\n",
      "\n",
      "20\n",
      "['' 'that' 'which' 'it' 'they' 'we' 'you']\n",
      "['include' 'create' 'add' 'contain' 'spark' 'boost' 'preserve']\n",
      "['user' 'people' 'customer' 'client' 'student' 'consumer' 'resident']\n",
      "\n",
      "21\n",
      "['Advisory' 'Edge' 'warrant' 'Warning' 'patent' 'offering' 'no.']\n",
      "['pass' 'contain' 'gain' 'earn' 'explain' 'avoid' 'reach']\n",
      "['' 'what' 'way' '-lrb-' '-rrb-' 'sense' 'you']\n",
      "\n",
      "22\n",
      "['goods' 'autopsy' 'press' 'choir' 'prosecution' 'ensemble' 'Complainant']\n",
      "['perform' 'leave' 'open' 'enter' 'play' 'visit' 'own']\n",
      "['house' 'property' 'building' 'home' 'car' 'store' 'restaurant']\n",
      "\n",
      "23\n",
      "['symptom' 'muscle' 'strap' 'finger' 'lane' 'condition' 'pain']\n",
      "['pull' 'cross' 'open' 'close' 'beat' 'visit' 'leave']\n",
      "['ability' 'skill' 'power' 'themselves' 'yourself' 'government'\n",
      " 'ourselves']\n",
      "\n",
      "24\n",
      "['topic' 'Topics' 'researcher' 'segment' 'embodiment' 'advantage'\n",
      " 'criterion']\n",
      "['include' 'contain' 'feature' 'maintain' 'provide' 'explore' 'use']\n",
      "['loading' 'Russia' 'senator' 'Iran' 'restriction' 'fusion' 'Romney']\n",
      "\n",
      "25\n",
      "['pixel' 'pulse' 'polymer' 'Collection' 'symptom' 'Topics' 'Access']\n",
      "['relieve' 'include' 'deliver' 'induce' 'ease' 'cover' 'alleviate']\n",
      "['' 'what' 'company' 'work' '-rrb-' 'settlement' 'study']\n",
      "\n",
      "26\n",
      "['yourfanat' 'Magaldi' 'Great' 'Text' 'Good' 'Andreessen' 'resume']\n",
      "['meet' 'ask' 'see' 'watch' 'call' 'play' 'tell']\n",
      "['' 'he' 'she' 'I' 'you' 'what' 'they']\n",
      "\n",
      "27\n",
      "['Bears' 'Saints' 'Penguins' 'Celtics' 'choir' 'Devils' 'Lions']\n",
      "['raise' 'reach' 'meet' 'express' 'spend' 'donate' 'give']\n",
      "['process' 'operation' 'examination' 'hour' 'function' 'phase' 'time']\n",
      "\n",
      "28\n",
      "['wine' 'fruit' 'blood' 'liquid' 'flavor' 'hair' 'Hand']\n",
      "['collect' 'process' 'extract' 'win' 'store' 'grow' 'obtain']\n",
      "['document' 'material' 'image' 'pattern' 'contents' 'content' 'style']\n",
      "\n",
      "29\n",
      "['' 'that' 'you' 'we' 'they' 'I' 'he']\n",
      "['remove' 'locate' 'place' 'pick' 'clean' 'dump' 'stir']\n",
      "['surface' 'portion' 'skin' 'region' 'side' 'tissue' 'moment']\n",
      "\n",
      "30\n",
      "['each' 'district' 'patient' 'territory' 'attraction' 'University'\n",
      " 'District']\n",
      "['have' 'avoid' 'explore' 'overlook' 'announce' 'perform' 'surround']\n",
      "['' 'land' 'street' 'city' 'island' 'forest' 'town']\n",
      "\n",
      "31\n",
      "['themselves' 'herself' 'himself' 'injury' 'die' 'eight' 'Age']\n",
      "['lose' 'put' 'place' 'hold' 'suffer' 'set' 'add']\n",
      "['themselves' 'himself' 'yourself' 'herself' 'myself' 'ourselves' 'itself']\n",
      "\n",
      "32\n",
      "['example' 'feature' 'range' 'System' 'equipment' 'package' 'item']\n",
      "['include' 'remove' 'leave' 'honor' 'involve' 'insert' 'undermine']\n",
      "['' 'concern' 'emotion' 'anger' 'Constitution' 'Amendment' 'claim']\n",
      "\n",
      "33\n",
      "['' 'that' 'they' 'you' 'he' 'we' 'who']\n",
      "['occur' 'exist' 'open' 'run' 'break' 'close' 'include']\n",
      "['shape' 'surface' 'tone' 'color' 'edge' 'structure' 'height']\n",
      "\n",
      "34\n",
      "['' 'that' 'you' 'we' 'they' 'he' 'I']\n",
      "['remove' 'include' 'please' 'secure' 'expand' 'eliminate' 'collect']\n",
      "['' 'what' 'that' 'it' 'way' 'they' 'bit']\n",
      "\n",
      "35\n",
      "['critic' 'everyone' 'shaft' 'advocate' 'supporter' 'fan' 'proponent']\n",
      "['include' 'reduce' 'increase' 'minimize' 'meet' 'eliminate' 'face']\n",
      "['street' 'space' 'expertise' 'land' 'statement' 'resource' 'neighborhood']\n",
      "\n",
      "36\n",
      "['revenue' 'region' 'r' '7th' 'company' 'income' 'profit']\n",
      "['win' 'exceed' 'spend' 'capture' 'watch' 'accept' 'claim']\n",
      "['access' 'match' 'money' 'life' 'title' 'right' 'what']\n",
      "\n",
      "37\n",
      "['Conference' 'Hamas' 'r' 'assembly' 'stake' 'coalition' 'GAO']\n",
      "['win' 'capture' 'see' 'feed' 'support' 'reach' 'claim']\n",
      "['championship' 'authority' 'prize' 'right' 'medal' 'tax' 'award']\n",
      "\n",
      "38\n",
      "['' 'he' 'they' 'who' 'we' 'you' 'that']\n",
      "['say' 'have' 'write' 'announce' 'single' 'ground' 'explain']\n",
      "['' 'what' 'that' 'way' '-lrb-' 'which' '-rrb-']\n",
      "\n",
      "39\n",
      "['phone' 'nobody' 'price' 'highlight' 'wife' 'list' 'mother']\n",
      "['include' 'generate' 'reveal' 'run' 'increase' 'connect' 'form']\n",
      "['she' 'himself' 'I' 'he' 'dream' 'agenda' 'itself']\n",
      "\n",
      "40\n",
      "['program' 'service' 'activity' 'College' 'Services' 'Program' 'firm']\n",
      "['construct' 'set' 'remove' 'contact' 'generate' 'consult' 'fill']\n",
      "['program' 'variety' 'range' 'class' 'student' 'option' 'product']\n",
      "\n",
      "41\n",
      "['amenity' 'topic' 'area' 'facility' 'suite' 'apartment' 'accommodation']\n",
      "['avoid' 'throw' 'undergo' 'foster' 'raise' 'urge' 'access']\n",
      "['cost' 'impact' 'expense' 'investment' 'development' 'risk' 'bedroom']\n",
      "\n",
      "42\n",
      "['' 'he' 'they' 'you' 'who' 'we' 'I']\n",
      "['face' 'perform' 'conduct' 'handle' 'overcome' 'escape' 'carry']\n",
      "['' 'themselves' 'himself' 'itself' 'yourself' 'ourselves' 'herself']\n",
      "\n",
      "43\n",
      "['that' 'it' 'what' '' 'which' 'this' 'they']\n",
      "['remind' 'bother' 'strike' 'surprise' 'inspire' 'scare' 'bring']\n",
      "['ourselves' 'myself' 'population' 'yourself' 'story' 'tale' 'consumer']\n",
      "\n",
      "44\n",
      "['myself' 'embodiment' 'Sam' 'girl' 'color' 'Draco' 'symptom']\n",
      "['announce' 'win' 'perform' 'change' 'sign' 'minimize' 'name']\n",
      "['aspect' 'practice' 'management' 'role' 'conduct' 'behavior'\n",
      " 'interaction']\n",
      "\n",
      "45\n",
      "['' 'that' 'which' 'this' 'it' 'what' 'they']\n",
      "['cause' 'trigger' 'create' 'prevent' 'reduce' 'mean' 'induce']\n",
      "['region' 'industry' 'country' 'malware' 'capture' 'caffeine' 'pitfall']\n",
      "\n",
      "46\n",
      "['' 'that' 'they' 'we' 'he' 'you' 'it']\n",
      "['build' 'treat' 'cover' 'fix' 'repair' 'regard' 'reveal']\n",
      "['' 'what' 'meaning' 'edge' 'end' 'flavor' 'shape']\n",
      "\n",
      "47\n",
      "['Frozen' 'funeral' 'concert' 'UFC' 'burial' 'wedding' 'hearing']\n",
      "['take' 'have' 'assume' 'hold' 'face' 'spend' 'follow']\n",
      "['advantage' 'step' 'care' 'action' 'part' 'look' 'approach']\n",
      "\n",
      "48\n",
      "['skin' 'shareholder' 'forest' 'URL' 'muscle' 'wound' 'nipple']\n"
     ]
    },
    {
     "name": "stdout",
     "output_type": "stream",
     "text": [
      "['cut' 'serve' 'lose' 'enter' 'receive' 'include' 'finish']\n",
      "['power' 'ourselves' 'battle' 'lip' 'horror' 'supply' 'oneself']\n",
      "\n",
      "49\n",
      "['' 'he' 'who' 'they' 'I' 'you' 'we']\n",
      "['have' 'lose' 'reach' 'leave' 'hit' 'break' 'visit']\n",
      "['challenge' 'pain' 'reality' 'hardship' 'grief' 'shock' 'thrill']\n",
      "\n",
      "50\n",
      "['' 'device' 'system' 'apparatus' 'assembly' 'embodiment' 'unit']\n",
      "['include' 'comprise' 'have' 'provide' 'contain' 'dispose' 'employ']\n",
      "['performance' 'power' 'design' 'desk' 'facility' 'value' 'Wi-Fi']\n",
      "\n",
      "51\n",
      "['' 'he' 'who' 'they' 'you' 'I' 'we']\n",
      "['run' 'sell' 'join' 'form' 'drop' 'report' 'draw']\n",
      "['' 'what' 'that' 'door' 'themselves' 'he' 'way']\n",
      "\n",
      "52\n",
      "['finger' 'hand' 'muscle' 'statement' 'spokesman' 'hair' 'spokesperson']\n",
      "['perform' 'do' 'rub' 'record' 'schedule' 'stick' 'squeeze']\n",
      "['concern' 'belief' 'expectation' 'desire' 'skin' 'symptom' 'requirement']\n",
      "\n",
      "53\n",
      "['yankee' 'Yankees' 'Dallas' 'A' 'Dylan' 'Devils' 'offense']\n",
      "['show' 'meet' 'present' 'report' 'demonstrate' 'represent' 'receive']\n",
      "['title' 'championship' 'Bowl' 'three' 'Series' 'hour' 'two']\n",
      "\n",
      "54\n",
      "['' 'that' 'he' 'they' 'we' 'you' 'who']\n",
      "['advance' 'single' 'ground' 'score' 'strike' 'double' 'lead']\n",
      "['job' 'statement' 'backward' 'ankle' \"''\" 'leg' 'wrist']\n",
      "\n",
      "55\n",
      "['' 'he' 'who' 'they' 'I' 'you' 'we']\n",
      "['teach' 'study' 'learn' 'understand' 'practice' 'accept' 'follow']\n",
      "['afternoon' 'outdoors' 'evening' 'night' 'Challenge' 'France' '12']\n",
      "\n",
      "56\n",
      "['daughter' 'son' 'dollar' 'temp' 'euro' 'meaning' 'husband']\n",
      "['include' 'spark' 'kill' 'trigger' 'fuel' 'secure' 'provoke']\n",
      "['culture' 'society' 'debate' 'world' 'environment' 'career'\n",
      " 'conversation']\n",
      "\n",
      "57\n",
      "['patient' 'daughter' 'cat' 'son' 'baby' 'horse' 'sister']\n",
      "['break' 'change' 'adjust' 'improve' 'feed' 'connect' 'keep']\n",
      "['child' 'daughter' 'son' 'disease' 'baby' 'kid' 'symptom']\n",
      "\n",
      "58\n",
      "['himself' 'list' 'duplicate' 'implant' 'Fiorina' 'stock' 'car']\n",
      "['have' 'eliminate' 'remove' 'promote' 'become' 'avoid' 'prevent']\n",
      "['discrimination' 'terrorism' 'evil' 'company' 'school' 'abortion' 'Obama']\n",
      "\n",
      "59\n",
      "['' 'that' 'they' 'we' 'he' 'you' 'who']\n",
      "['include' 'occur' 'have' 'result' 'lead' 'happen' 'end']\n",
      "['' 'what' 'that' 'way' 'plan' 'which' 'time']\n",
      "\n",
      "60\n",
      "['gunman' 'troops' 'hero' 'Jews' 'terrorist' 'State' 'League']\n",
      "['bother' 'upset' 'irk' 'interest' 'irritate' 'concern' 'frustrate']\n",
      "['' 'Him' 'prostitute' 'myself' 'corporation' 'decision' 'bride']\n",
      "\n",
      "61\n",
      "['feature' 'amenity' 'facility' 'highlight' 'area' 'activity' 'suite']\n",
      "['facilitate' 'support' 'permit' 'enable' 'regard' 'manage' 'ease']\n",
      "['room' 'kitchen' 'facility' 'bedroom' 'pool' 'desk' 'tv']\n",
      "\n",
      "62\n",
      "['voice' 'Video' 'crowd' 'cloud' 'orchestra' 'Senate' 'weight']\n",
      "['play' 'give' 'receive' 'send' 'lose' 'watch' 'gain']\n",
      "['authority' 'power' 'control' 'permission' 'access' 'right' 'football']\n",
      "\n",
      "63\n",
      "['' 'you' 'we' 'he' 'I' 'who' 'that']\n",
      "['reveal' 'maximise' 'counteract' 'minimise' 'win' 'follow' 'maximize']\n",
      "['right' 'access' 'authority' 'opportunity' 'rights' 'choice' 'control']\n",
      "\n",
      "64\n",
      "['door' 'bottle' 'water' 'price' 'lid' 'average' 'rate']\n",
      "['open' 'close' 'leave' 'find' 'teach' 'complete' 'fill']\n",
      "['duty' 'task' 'mission' 'job' 'secret' 'study' 'quest']\n",
      "\n",
      "65\n",
      "['topic' 'activity' 'interest' 'event' 'Topics' 'program' 'course']\n",
      "['have' 'beat' 'offer' 'attack' 'watch' 'take' 'enjoy']\n",
      "['' 'information' 'study' 'datum' 'research' 'development' 'history']\n",
      "\n",
      "66\n",
      "['yourself' 'myself' 'Control' 'bit' 'themselves' 'im' 'page']\n",
      "['build' 'find' 'construct' 'replace' 'identify' 'install' 'run']\n",
      "['' 'what' 'that' 'he' 'relationship' 'I' 'wall']\n",
      "\n",
      "67\n",
      "['controversy' 'face' 'C.' 'Gabrielle' 'N' 'Ginny' 'T.']\n",
      "['show' 'sell' 'reveal' 'buy' 'express' 'face' 'lead']\n",
      "['anger' 'secret' 'interest' 'emotion' 'fear' 'goods' 'contents']\n",
      "\n",
      "68\n",
      "['' 'that' 'you' 'they' 'I' 'we' 'he']\n",
      "['strengthen' 'establish' 'require' 'bolster' 'weaken' 'build' 'undermine']\n",
      "['effect' 'impact' 'experience' 'surface' 'skin' 'access' 'disease']\n",
      "\n",
      "69\n",
      "['' 'we' 'that' 'you' 'they' 'who' 'I']\n",
      "['have' 'gain' 'capture' 'see' 'face' 'place' 'secure']\n",
      "['' 'technology' 'system' 'method' 'technique' 'device' 'model']\n",
      "\n",
      "70\n",
      "['invention' 'equipment' 'product' 'signal' 'kit' 'facility' 'cell']\n",
      "['carry' 'demonstrate' 'model' 'manufacture' 'seal' 'issue' 'reinforce']\n",
      "['industry' 'economy' 'himself' 'victory' 'radiation' 'offense' 'house']\n",
      "\n",
      "71\n",
      "['' 'he' 'who' 'they' 'I' 'you' 'we']\n",
      "['hit' 'reach' 'spend' 'approach' 'break' 'strike' 'turn']\n",
      "['' 'what' 'interest' 'concern' 'that' 'desire' 'love']\n",
      "\n",
      "72\n",
      "['' 'he' 'you' 'we' 'they' 'who' 'that']\n",
      "['claim' 'complain' 'argue' 'insist' 'agree' 'refuse' 'attempt']\n",
      "['statement' 'job' 'flag' 'open' 'concern' 'warning' 'banner']\n",
      "\n",
      "73\n",
      "['' 'which' 'that' 'it' 'process' 'event' '-rrb-']\n",
      "['receive' 'lose' 'lack' 'enter' 'offer' 'gain' 'achieve']\n",
      "['place' 'turn' 'toll' 'minute' 'hour' 'form' 'time']\n",
      "\n",
      "74\n",
      "['cell' 'examination' 'image' 'computer' 'datum' 'server' 'result']\n",
      "['indicate' 'reveal' 'show' 'hold' 'regard' 'deny' 'master']\n",
      "['yourself' 'access' 'support' 'truth' 'service' 'increase' 'lawsuit']\n",
      "\n",
      "75\n",
      "['' 'that' 'you' 'he' 'we' 'they' 'I']\n",
      "['vary' 'differ' 'range' 'focus' 'live' 'change' 'show']\n",
      "['job' 'licens' 'bubble' 'equity' 'balloon' 'glass' 'visas']\n",
      "\n",
      "76\n",
      "['she' 'i' 'man' 'people' 'everyone' 'guy' 'child']\n",
      "['include' 'win' 'run' 'join' 'contain' 'leave' 'enter']\n",
      "['himself' 'myself' 'whom' 'which' 'herself' 'yourself' 'clue']\n",
      "\n",
      "77\n",
      "['' 'he' 'who' 'they' 'you' 'we' 'I']\n",
      "['form' 'urge' 'establish' 'contact' 'persuade' 'ask' 'record']\n",
      "['area' 'ship' 'animal' 'problem' 'issue' 'building' 'vehicle']\n",
      "\n",
      "78\n",
      "['' 'that' 'which' 'it' 'they' 'we' 'this']\n",
      "['have' 'produce' 'require' 'form' 'cover' 'combine' 'add']\n",
      "['' 'economy' 'he' 'I' 'proliferation' 'she' 'you']\n",
      "\n",
      "79\n",
      "['bone' 'tissue' 'bond' 'ice' 'tooth' 'Agreement' 'empire']\n",
      "['break' 'perform' 'violate' 'form' 'join' 'sign' 'demonstrate']\n",
      "['principle' 'law' 'themselves' 'himself' 'skill' 'claim' 'spirit']\n",
      "\n",
      "80\n",
      "['' 'that' 'you' 'we' 'I' 'they' 'it']\n",
      "['clean' 'remove' 'expand' 'transport' 'expose' 'fill' 'absorb']\n",
      "['' 'rate' 'parameter' 'function' 'ratio' 'length' 'size']\n",
      "\n",
      "81\n",
      "['processor' 'everyone' 'circuitry' 'event' 'module' 'server' 'embodiment']\n",
      "['regard' 'set' 'pick' 'select' 'handle' 'discover' 'bring']\n",
      "['official' 'excitement' 'drama' 'incident' 'controversy' 'celebration'\n",
      " 'protest']\n",
      "\n",
      "82\n",
      "['' 'that' 'which' 'it' 'they' 'we' 'you']\n",
      "['require' 'generate' 'facilitate' 'promote' 'obtain' 'support' 'produce']\n",
      "['' 'area' 'region' 'city' 'country' 'he' 'world']\n",
      "\n",
      "83\n",
      "['R.' 'K.' 'S.' 'M.' 'J.' 'soul' 'voice']\n",
      "['include' 'ground' 'single' 'die' 'advance' 'fly' 'walk']\n",
      "['statement' 'job' 'warning' 'mistake' 'river' 'plane' \"''\"]\n",
      "\n",
      "84\n",
      "['' 'that' 'which' '-rrb-' 'it' 'program' 'book']\n",
      "['provide' 'give' 'offer' 'present' 'include' 'yield' 'deliver']\n",
      "['variety' 'some' 'issue' 'selection' 'restaurant' 'need' 'item']\n",
      "\n",
      "85\n",
      "['girl' 'guy' 'i' 's' 'u' 'myself' 'everyone']\n",
      "['have' 'form' 'need' 'move' 'hold' 'lose' 'develop']\n",
      "['' 'what' 'that' 'way' 'it' 'which' 'time']\n",
      "\n",
      "86\n",
      "['' 'that' 'we' 'you' 'they' 'he' 'I']\n",
      "['have' 'fly' 'ground' 'pop' 'advance' 'open' 'single']\n",
      "[',' 'voltage' 'briefly' 'job' 'patch' 'depths' 'fix']\n",
      "\n",
      "87\n",
      "['' 'who' 'he' 'we' 'they' 'I' 'she']\n",
      "['study' 'raise' 'report' 'spread' 'survive' 'fight' 'span']\n",
      "['' 'meeting' 'event' 'conference' 'workshop' 'session' 'ceremony']\n",
      "\n",
      "88\n",
      "['' 'he' 'they' 'who' 'we' 'you' 'I']\n",
      "['have' 'run' 'open' 'win' 'close' 'lose' 'cut']\n",
      "['' 'what' 'that' 'life' 'effort' 'study' 'activity']\n",
      "\n",
      "89\n",
      "['effectiveness' 'vein' 'symptom' 'head' 'momentum' 'jet' 'effect']\n",
      "['pay' 'spend' 'vary' 'owe' 'demonstrate' 'depend' 'rank']\n",
      "['what' 'it' 'which' 'eye' 'use' 'head' 'they']\n",
      "\n",
      "90\n",
      "['finger' 'hand' 'arm' 'strap' 'leg' 'path' 'wire']\n",
      "['turn' 'include' 'issue' 'sell' 'pay' 'provide' 'require']\n",
      "['' 'he' 'I' 'she' 'they' 'what' 'it']\n",
      "\n",
      "91\n",
      "['bacterium' 'organism' 'virus' 'gene' 'strain' 'molecule' 'compound']\n",
      "['open' 'close' 'launch' 'shut' 'sell' 'reopen' 'rise']\n",
      "['' 'what' 'that' 'he' 'eye' 'door' 'it']\n",
      "\n",
      "92\n",
      "['eye' 'convention' 'Convention' 'appeal' 'W' 'tomato' 'road']\n",
      "['have' 'include' 'hold' 'develop' 'open' 'use' 'close']\n",
      "['ability' 'skill' 'disease' 'knowledge' 'infection' 'cancer' 'symptom']\n",
      "\n",
      "93\n",
      "['tradition' 'problem' 'plurality' 'trouble' 'memorial' 'species' 'dozen']\n",
      "['have' 'extend' 'exist' 'open' 'establish' 'be' 'locate']\n",
      "['practice' 'child' 'statement' 'involvement' 'daughter' 'son' 'violence']\n",
      "\n",
      "94\n",
      "['' 'that' 'we' 'you' 'they' 'he' 'I']\n",
      "['extend' 'break' 'grow' 'slide' 'cut' 'fall' 'bend']\n",
      "['water' 'blood' 'liquid' 'juice' 'fluid' 'milk' 'cup']\n",
      "\n",
      "95\n",
      "['van' 'bus' 'lip' 'finger' 'vehicle' 'pussy' 'mile']\n",
      "['teach' 'drive' 'study' 'learn' 'run' 'join' 'leave']\n",
      "['car' 'vehicle' 'truck' 'school' 'business' 'boat' 'bus']\n",
      "\n",
      "96\n"
     ]
    },
    {
     "name": "stdout",
     "output_type": "stream",
     "text": [
      "['building' 'facility' 'shell' 'house' 'amenity' 'Beautifully' 'bridge']\n",
      "['include' 'contain' 'use' 'produce' 'comprise' 'add' 'preserve']\n",
      "['building' 'integrity' 'facility' 'infrastructure' 'aircraft' 'vehicle'\n",
      " 'government']\n",
      "\n",
      "97\n",
      "['muscle' 'health' 'compound' 'jury' 'ball' 'lung' 'margin']\n",
      "['include' 'contain' 'regulate' 'fill' 'control' 'disrupt' 'improve']\n",
      "['land' 'territory' 'planet' 'Iraq' 'transmission' 'activation' 'money']\n",
      "\n",
      "98\n",
      "['' 'you' 'I' 'we' 'he' 'they' 'that']\n",
      "['have' 'cut' 'add' 'chop' 'remove' 'slice' 'place']\n",
      "['' 'what' 'that' '-rsb-' 'belief' 'pool' 'himself']\n",
      "\n",
      "99\n",
      "['plate' 'brain' 'layer' 'material' 'particle' 'area' 'portion']\n",
      "['heat' 'install' 'join' 'form' 'organize' 'manufacture' 'purchase']\n",
      "['meeting' 'material' 'those' 'disk' 'onion' 'panel' 'event']\n",
      "\n",
      "100\n",
      "['amenity' 'example' 'term' 'list' 'Ipso' 'antibody' 'publication']\n",
      "['include' 'provide' 'improve' 'ensure' 'enhance' 'offer' 'require']\n",
      "['' 'quality' 'efficiency' 'safety' 'stability' 'performance' 'security']\n",
      "\n",
      "101\n",
      "['' 'that' 'which' 'it' 'this' 'these' 'they']\n",
      "['include' 'require' 'provide' 'involve' 'comprise' 'feature' 'contain']\n",
      "['surface' 'durability' 'profitability' 'potential' 'yield' 'productivity'\n",
      " 'ROI']\n",
      "\n",
      "102\n",
      "['' 'he' 'you' 'they' 'we' 'that' 'who']\n",
      "['include' 'lead' 'grow' 'occur' 'arise' 'argue' 'add']\n",
      "['job' 'America' 'window' 'frame' 'gate' 'highway' 'voter']\n",
      "\n",
      "103\n",
      "['effect' 'activity' 'symptom' 'plan' 'highlight' 'event' 'course']\n",
      "['avoid' 'build' 'block' 'trigger' 'provoke' 'expand' 'stimulate']\n",
      "['' 'he' 'event' 'she' 'I' 'you' 'attack']\n",
      "\n",
      "104\n",
      "['Mets' 'Bengals' 'goalie' 'Cowboys' 'Pittsburgh' 'viking' 'insurance']\n",
      "['pay' 'put' 'find' 'lose' 'regain' 'throw' 'spend']\n",
      "['game' 'tax' 'price' 'statement' 'hope' 'faith' 'debt']\n",
      "\n",
      "105\n",
      "['demand' 'i' 'everyone' 'passion' 'storm' 'controversy' 'tension']\n",
      "['have' 'detect' 'generate' 'produce' 'transmit' 'identify' 'receive']\n",
      "['' 'signal' 'datum' 'message' 'what' '-lrb-' 'that']\n",
      "\n",
      "106\n",
      "['topic' 'example' 'paper' 'FIG.' 'page' 'disease' 'disorder']\n",
      "['include' 'change' 'adjust' 'determine' 'calculate' 'vary' 'estimate']\n",
      "['severity' 'information' 'burden' 'estimate' 'boat' 'money' 'tax']\n",
      "\n",
      "107\n",
      "['himself' 'myself' 'themselves' 'yourself' 'herself' 'everyone' 'area']\n",
      "['have' 'include' 'prevent' 'combat' 'eliminate' 'reduce' 'feature']\n",
      "['' 'what' 'that' 'disease' 'problem' 'infection' 'pain']\n",
      "\n",
      "108\n",
      "['' 'he' 'who' 'they' 'you' 'I' 'we']\n",
      "['gain' 'lose' 'give' 'express' 'reach' 'seek' 'perform']\n",
      "['' 'fee' 'impact' 'tax' 'she' 'cost' 'people']\n",
      "\n",
      "109\n",
      "['missile' 'path' 'investigation' 'flame' 'road' 'probe' 'face']\n",
      "['have' 'lose' 'hit' 'set' 'break' 'face' 'turn']\n",
      "['themselves' 'itself' 'himself' 'ourselves' 'yourself' 'herself' 'myself']\n",
      "\n",
      "110\n",
      "['' 'that' 'he' 'they' 'you' 'we' 'who']\n",
      "['include' 'have' 'announce' 'say' 'try' 'decide' 'win']\n",
      "['' 'what' 'that' 'way' '-rrb-' '-lrb-' 'time']\n",
      "\n",
      "111\n",
      "['house' 'file' 'symptom' 'himself' 'embodiment' 'building'\n",
      " 'configuration']\n",
      "['include' 'have' 'provide' 'comprise' 'enjoy' 'keep' 'involve']\n",
      "['datum' 'system' 'technology' 'experience' 'memory' 'software'\n",
      " 'performance']\n",
      "\n",
      "112\n",
      "['statute' 'principle' 'constitution' 'shaft' 'license' 'contract' 'term']\n",
      "['run' 'end' 'require' 'extend' 'fail' 'allow' 'continue']\n",
      "['statement' 'cycle' 'streak' 'relationship' 'test' 'water' 'routine']\n",
      "\n",
      "113\n",
      "['kitchen' 'example' 'each' 'kit' 'car' 'container' 'end']\n",
      "['have' 'include' 'use' 'feature' 'provide' 'offer' 'contain']\n",
      "['' 'ability' 'system' 'use' 'effort' 'activity' 'development']\n",
      "\n",
      "114\n",
      "['yourself' 'myself' 'themselves' 'himself' 'bit' 'Im' 'im']\n",
      "['include' 'have' 'age' 's.' 'd' 'bear' 'no.']\n",
      "['' 'what' 'that' 'program' 'development' '-rsb-' 'change']\n",
      "\n",
      "115\n",
      "['score' 'output' 'index' 'start' 'confidence' 'yield' 'frequency']\n",
      "['teach' 'complete' 'maximize' 'deliver' 'overcome' 'experience' 'expand']\n",
      "['power' 'eight' 'wife' 'chance' '13' 'five' 'hit']\n",
      "\n",
      "116\n",
      "['arm' 'debt' 'hip' 'cock' 'herself' 'tension' 'rod']\n",
      "['build' 'extend' 'advance' 'treat' 'visit' 'locate' 'add']\n",
      "['disease' 'patient' 'cancer' 'illness' 'pain' 'symptom' 'infection']\n",
      "\n",
      "117\n",
      "['' 'that' 'which' 'it' 'we' 'they' 'you']\n",
      "['form' 'create' 'draw' 'allow' 'attract' 'kill' 'target']\n",
      "['development' 'history' 'effort' 'progress' 'work' 'career' 'study']\n",
      "\n",
      "118\n",
      "['UN' 'Bureau' 'expense' 'Senate' 'HTML' 'damage' 'Player']\n",
      "['make' 'appeal' 'base' 'regret' 'applaud' 'announce' 'find']\n",
      "['decision' 'difference' 'mistake' 'sense' 'debut' 'effort' 'use']\n",
      "\n",
      "119\n",
      "['father' 'Harry' 'brother' 'Hermione' 'mother' 'gas' 'clinician']\n",
      "['include' 'feature' 'determine' 'regard' 'confirm' 'provide' 'prove']\n",
      "['datum' 'threat' 'information' 'finding' 'impact' 'statement' 'fact']\n",
      "\n",
      "120\n",
      "['' 'that' 'which' 'they' 'it' 'we' 'he']\n",
      "['form' 'require' 'show' 'capture' 'claim' 'enter' 'build']\n",
      "['' 'requirement' 'need' 'standard' 'expectation' 'criterion' 'goal']\n",
      "\n",
      "121\n",
      "['arm' 'strap' 'leg' 'finger' 'im' 'path' 'Im']\n",
      "['shoot' 'show' 'develop' 'install' 'display' 'include' 'set']\n",
      "['' 'what' 'that' 'skill' 'program' 'technique' 'system']\n",
      "\n",
      "122\n",
      "['' 'who' 'they' 'he' 'that' 'we' 'you']\n",
      "['have' 'seek' 'get' 'violate' 'obtain' 'give' 'provide']\n",
      "['themselves' 'money' 'concern' 'life' 'time' 'himself' 'itself']\n",
      "\n",
      "123\n",
      "['anybody' 'everybody' 'public' 'topic' 'amenity' 'Topics' 'donor']\n",
      "['form' 'ensure' 'guarantee' 'reinforce' 'secure' 'cement' 'grow']\n",
      "['' 'that' 'information' 'what' 'experience' 'right' 'need']\n",
      "\n",
      "124\n",
      "['study' 'result' '' 'analysis' 'datum' 'which' 'that']\n",
      "['show' 'demonstrate' 'reveal' 'indicate' 'suggest' 'examine' 'find']\n",
      "['disappointment' 'feeling' 'overview' 'ranking' 'frustration' 'sentiment'\n",
      " 'credibility']\n",
      "\n",
      "125\n",
      "['pussy' 'fish' 'rat' 'EVER' 'ass' 'Punk' 'bite']\n",
      "['include' 'install' 'replace' 'collect' 'match' 'increase' 'discover']\n",
      "['' 'what' 'that' 'it' 'one' 'which' 'plan']\n",
      "\n",
      "126\n",
      "['spectator' 'prices1market' 'blood' 'Fun' 'Punk' 'interested' 'Sad']\n",
      "['eat' 'cook' 'order' 'enjoy' 'serve' 'prepare' 'make']\n",
      "['' 'food' 'meal' 'meat' 'dinner' 'breakfast' 'lunch']\n",
      "\n",
      "127\n",
      "['' 'you' 'we' 'he' 'they' 'that' 'who']\n",
      "['allow' 'work' 'run' 'let' 'come' 'look' 'help']\n",
      "['job' 'statement' 'mistake' 'beam' 'bankruptcy' 'audience' 'allegiance']\n"
     ]
    }
   ],
   "source": [
    "i_word = [{i: w for w, i in evalor.index[j].items()} for j in modes]\n",
    "vocab = [np.array([i_word[j][i] for i in range(len(i_word[j]))]) for j in range(len(i_word))]\n",
    "for k, j in enumerate(\n",
    "        #np.argsort(-ktensor.lmbda)[:4]):#\n",
    "        range(evalor.decomped_tns.rank)):\n",
    "    print(f'\\n{k}')# {j}')\n",
    "    for i, factor in enumerate(evalor.decomped_tns.factors):\n",
    "        ids = np.argsort(factor[:,j].todense())[:7]\n",
    "        print(vocab[i][ids])\n",
    "        #print(['{:.1g}'.format(coord) for coord in ktensor.U[i][ids,j]])"
   ]
  },
  {
   "cell_type": "markdown",
   "metadata": {},
   "source": [
    "|rank|$\\lambda$|e.g.|\n",
    "|----|---------|----|\n",
    "|16|1|topic/example (2) provide/offer (2) assistance/guidance|\n",
    "|32|1|Android (3)  win degree (1)|\n",
    "|64|1|I describe (1) game/story (2)|"
   ]
  }
 ],
 "metadata": {
  "kernelspec": {
   "display_name": "vtens",
   "language": "python",
   "name": "vtens"
  },
  "language_info": {
   "codemirror_mode": {
    "name": "ipython",
    "version": 3
   },
   "file_extension": ".py",
   "mimetype": "text/x-python",
   "name": "python",
   "nbconvert_exporter": "python",
   "pygments_lexer": "ipython3",
   "version": "3.7.6"
  }
 },
 "nbformat": 4,
 "nbformat_minor": 2
}
