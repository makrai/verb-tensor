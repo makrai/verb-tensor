{
 "cells": [
  {
   "cell_type": "code",
   "execution_count": 51,
   "metadata": {},
   "outputs": [
    {
     "name": "stdout",
     "output_type": "stream",
     "text": [
      "Populating the interactive namespace from numpy and matplotlib\n"
     ]
    },
    {
     "data": {
      "text/plain": [
       "['config.ini']"
      ]
     },
     "execution_count": 51,
     "metadata": {},
     "output_type": "execute_result"
    }
   ],
   "source": [
    "import configparser\n",
    "import os\n",
    "import pickle\n",
    "\n",
    "import pandas as pd\n",
    "\n",
    "import matplotlib.pyplot as plt\n",
    "%pylab inline\n",
    "\n",
    "\n",
    "config = configparser.ConfigParser()\n",
    "config.read('config.ini')"
   ]
  },
  {
   "cell_type": "code",
   "execution_count": 12,
   "metadata": {},
   "outputs": [],
   "source": [
    "tensor_dir = os.path.join(config['DEFAULT']['ProjectDirectory'], 'tensor/')"
   ]
  },
  {
   "cell_type": "code",
   "execution_count": 43,
   "metadata": {},
   "outputs": [
    {
     "name": "stdout",
     "output_type": "stream",
     "text": [
      "2\n"
     ]
    }
   ],
   "source": [
    "for i, j, k in zip(*stensor.subs):\n",
    "    print(i)\n",
    "    break"
   ]
  },
  {
   "cell_type": "code",
   "execution_count": 39,
   "metadata": {},
   "outputs": [
    {
     "data": {
      "text/plain": [
       "23.164037465612687"
      ]
     },
     "execution_count": 39,
     "metadata": {},
     "output_type": "execute_result"
    }
   ],
   "source": [
    "stensor.vals[0]"
   ]
  },
  {
   "cell_type": "code",
   "execution_count": 16,
   "metadata": {},
   "outputs": [],
   "source": [
    "stensor, index = pickle.load(open(os.path.join(tensor_dir, 'sparstensr_log_freq_100.pkl'), mode='rb'))\n",
    "ktensor, fit, n_iterations, exectimes = pickle.load(open(os.path.join(tensor_dir, 'ktensor_log_freq_100_256.pkl'), \n",
    "                                                         mode='rb'))"
   ]
  },
  {
   "cell_type": "code",
   "execution_count": 48,
   "metadata": {},
   "outputs": [],
   "source": [
    "diffs = []\n",
    "for (i, j, k), val in zip(zip(*stensor.subs), stensor.vals):\n",
    "    val_krusk = (ktensor.lmbda * ktensor.U[0][i]).dot(ktensor.U[1][j] * ktensor.U[2][k])\n",
    "    diffs.append((i, j, k, val_krusk - val))"
   ]
  },
  {
   "cell_type": "code",
   "execution_count": 52,
   "metadata": {},
   "outputs": [],
   "source": [
    "df = pd.DataFrame(diffs)"
   ]
  },
  {
   "cell_type": "code",
   "execution_count": 64,
   "metadata": {},
   "outputs": [
    {
     "data": {
      "text/plain": [
       "['nsubj', 'ROOT', 'dobj']"
      ]
     },
     "execution_count": 64,
     "metadata": {},
     "output_type": "execute_result"
    }
   ],
   "source": [
    "list(index.keys())"
   ]
  },
  {
   "cell_type": "code",
   "execution_count": 65,
   "metadata": {},
   "outputs": [],
   "source": [
    "for i in range(3):\n",
    "    df[f'{i}_'] = df[i].apply(index[['nsubj', 'ROOT', 'dobj'][i]].inv.get)"
   ]
  },
  {
   "cell_type": "code",
   "execution_count": 66,
   "metadata": {},
   "outputs": [
    {
     "data": {
      "text/html": [
       "<div>\n",
       "<style scoped>\n",
       "    .dataframe tbody tr th:only-of-type {\n",
       "        vertical-align: middle;\n",
       "    }\n",
       "\n",
       "    .dataframe tbody tr th {\n",
       "        vertical-align: top;\n",
       "    }\n",
       "\n",
       "    .dataframe thead th {\n",
       "        text-align: right;\n",
       "    }\n",
       "</style>\n",
       "<table border=\"1\" class=\"dataframe\">\n",
       "  <thead>\n",
       "    <tr style=\"text-align: right;\">\n",
       "      <th></th>\n",
       "      <th>0</th>\n",
       "      <th>1</th>\n",
       "      <th>2</th>\n",
       "      <th>3</th>\n",
       "      <th>0_</th>\n",
       "      <th>1_</th>\n",
       "      <th>2_</th>\n",
       "    </tr>\n",
       "  </thead>\n",
       "  <tbody>\n",
       "    <tr>\n",
       "      <th>56</th>\n",
       "      <td>3</td>\n",
       "      <td>87</td>\n",
       "      <td>18</td>\n",
       "      <td>-17.025609</td>\n",
       "      <td>you</td>\n",
       "      <td>click</td>\n",
       "      <td>post</td>\n",
       "    </tr>\n",
       "    <tr>\n",
       "      <th>542</th>\n",
       "      <td>5</td>\n",
       "      <td>431</td>\n",
       "      <td>204</td>\n",
       "      <td>-16.969414</td>\n",
       "      <td>we</td>\n",
       "      <td>price</td>\n",
       "      <td>match</td>\n",
       "    </tr>\n",
       "    <tr>\n",
       "      <th>793</th>\n",
       "      <td>5</td>\n",
       "      <td>324</td>\n",
       "      <td>97</td>\n",
       "      <td>-16.211906</td>\n",
       "      <td>we</td>\n",
       "      <td>reserve</td>\n",
       "      <td>right</td>\n",
       "    </tr>\n",
       "    <tr>\n",
       "      <th>347</th>\n",
       "      <td>176</td>\n",
       "      <td>324</td>\n",
       "      <td>1</td>\n",
       "      <td>-15.930247</td>\n",
       "      <td>rights</td>\n",
       "      <td>reserve</td>\n",
       "      <td></td>\n",
       "    </tr>\n",
       "    <tr>\n",
       "      <th>772</th>\n",
       "      <td>5</td>\n",
       "      <td>67</td>\n",
       "      <td>306</td>\n",
       "      <td>-15.876411</td>\n",
       "      <td>we</td>\n",
       "      <td>support</td>\n",
       "      <td>browser</td>\n",
       "    </tr>\n",
       "    <tr>\n",
       "      <th>...</th>\n",
       "      <td>...</td>\n",
       "      <td>...</td>\n",
       "      <td>...</td>\n",
       "      <td>...</td>\n",
       "      <td>...</td>\n",
       "      <td>...</td>\n",
       "      <td>...</td>\n",
       "    </tr>\n",
       "    <tr>\n",
       "      <th>13156</th>\n",
       "      <td>5</td>\n",
       "      <td>21</td>\n",
       "      <td>16</td>\n",
       "      <td>10.478879</td>\n",
       "      <td>we</td>\n",
       "      <td>provide</td>\n",
       "      <td>information</td>\n",
       "    </tr>\n",
       "    <tr>\n",
       "      <th>4590</th>\n",
       "      <td>81</td>\n",
       "      <td>469</td>\n",
       "      <td>1</td>\n",
       "      <td>10.566806</td>\n",
       "      <td>name</td>\n",
       "      <td>trademark</td>\n",
       "      <td></td>\n",
       "    </tr>\n",
       "    <tr>\n",
       "      <th>1611</th>\n",
       "      <td>1</td>\n",
       "      <td>149</td>\n",
       "      <td>164</td>\n",
       "      <td>10.701311</td>\n",
       "      <td></td>\n",
       "      <td>eat</td>\n",
       "      <td>food</td>\n",
       "    </tr>\n",
       "    <tr>\n",
       "      <th>279956</th>\n",
       "      <td>6</td>\n",
       "      <td>2</td>\n",
       "      <td>206</td>\n",
       "      <td>11.067103</td>\n",
       "      <td>he</td>\n",
       "      <td>have</td>\n",
       "      <td>himself</td>\n",
       "    </tr>\n",
       "    <tr>\n",
       "      <th>32327</th>\n",
       "      <td>3</td>\n",
       "      <td>5</td>\n",
       "      <td>133</td>\n",
       "      <td>11.596801</td>\n",
       "      <td>you</td>\n",
       "      <td>get</td>\n",
       "      <td>yourself</td>\n",
       "    </tr>\n",
       "  </tbody>\n",
       "</table>\n",
       "<p>955501 rows × 7 columns</p>\n",
       "</div>"
      ],
      "text/plain": [
       "          0    1    2          3      0_         1_           2_\n",
       "56        3   87   18 -17.025609     you      click         post\n",
       "542       5  431  204 -16.969414      we      price        match\n",
       "793       5  324   97 -16.211906      we    reserve        right\n",
       "347     176  324    1 -15.930247  rights    reserve             \n",
       "772       5   67  306 -15.876411      we    support      browser\n",
       "...     ...  ...  ...        ...     ...        ...          ...\n",
       "13156     5   21   16  10.478879      we    provide  information\n",
       "4590     81  469    1  10.566806    name  trademark             \n",
       "1611      1  149  164  10.701311                eat         food\n",
       "279956    6    2  206  11.067103      he       have      himself\n",
       "32327     3    5  133  11.596801     you        get     yourself\n",
       "\n",
       "[955501 rows x 7 columns]"
      ]
     },
     "execution_count": 66,
     "metadata": {},
     "output_type": "execute_result"
    }
   ],
   "source": [
    "df.sort_values(3)"
   ]
  },
  {
   "cell_type": "code",
   "execution_count": 26,
   "metadata": {},
   "outputs": [
    {
     "data": {
      "text/plain": [
       "array([23.16403747, 22.82066766, 22.09347882, ...,  6.64385619,\n",
       "        6.64385619,  6.64385619])"
      ]
     },
     "execution_count": 26,
     "metadata": {},
     "output_type": "execute_result"
    }
   ],
   "source": [
    "stensor.vals"
   ]
  },
  {
   "cell_type": "code",
   "execution_count": 27,
   "metadata": {},
   "outputs": [
    {
     "data": {
      "text/plain": [
       "[(34903, 256), (22661, 256), (21963, 256)]"
      ]
     },
     "execution_count": 27,
     "metadata": {},
     "output_type": "execute_result"
    }
   ],
   "source": [
    "[u.shape for u in ktensor.U]"
   ]
  }
 ],
 "metadata": {
  "kernelspec": {
   "display_name": "Python 3",
   "language": "python",
   "name": "python3"
  },
  "language_info": {
   "codemirror_mode": {
    "name": "ipython",
    "version": 3
   },
   "file_extension": ".py",
   "mimetype": "text/x-python",
   "name": "python",
   "nbconvert_exporter": "python",
   "pygments_lexer": "ipython3",
   "version": "3.7.6"
  }
 },
 "nbformat": 4,
 "nbformat_minor": 4
}
