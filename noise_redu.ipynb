{
 "cells": [
  {
   "cell_type": "code",
   "execution_count": null,
   "metadata": {},
   "outputs": [],
   "source": [
    "import configparser\n",
    "import os\n",
    "import pickle\n",
    "\n",
    "import pandas as pd\n",
    "\n",
    "import matplotlib.pyplot as plt\n",
    "%pylab inline"
   ]
  },
  {
   "cell_type": "code",
   "execution_count": 1,
   "metadata": {},
   "outputs": [
    {
     "name": "stdout",
     "output_type": "stream",
     "text": [
      "Populating the interactive namespace from numpy and matplotlib\n"
     ]
    },
    {
     "data": {
      "text/plain": [
       "['config.ini']"
      ]
     },
     "execution_count": 1,
     "metadata": {},
     "output_type": "execute_result"
    }
   ],
   "source": [
    "config = configparser.ConfigParser()\n",
    "config.read('config.ini')"
   ]
  },
  {
   "cell_type": "code",
   "execution_count": 2,
   "metadata": {},
   "outputs": [],
   "source": [
    "tensor_dir = os.path.join(config['DEFAULT']['ProjectDirectory'], 'tensor/')"
   ]
  },
  {
   "cell_type": "code",
   "execution_count": null,
   "metadata": {},
   "outputs": [],
   "source": [
    "weight = 'log freq'"
   ]
  },
  {
   "cell_type": "code",
   "execution_count": 9,
   "metadata": {},
   "outputs": [],
   "source": [
    "weight = 'pmi'"
   ]
  },
  {
   "cell_type": "code",
   "execution_count": 10,
   "metadata": {},
   "outputs": [],
   "source": [
    "stensor, index = pickle.load(open(os.path.join(tensor_dir, f'sparstensr_{weight}_100.pkl'), mode='rb'))\n",
    "ktensor, fit, n_iterations, exectimes = pickle.load(open(os.path.join(tensor_dir, f'ktensor_{weight}_100_256.pkl'), \n",
    "                                                         mode='rb'))"
   ]
  },
  {
   "cell_type": "code",
   "execution_count": 12,
   "metadata": {},
   "outputs": [],
   "source": [
    "diffs = []\n",
    "for (i, j, k), val in zip(zip(*stensor.subs), stensor.vals):\n",
    "    val_krusk = (ktensor.lmbda * ktensor.U[0][i]).dot(ktensor.U[1][j] * ktensor.U[2][k])\n",
    "    diffs.append((i, j, k, val_krusk - val))"
   ]
  },
  {
   "cell_type": "code",
   "execution_count": 13,
   "metadata": {},
   "outputs": [],
   "source": [
    "df = pd.DataFrame(diffs)"
   ]
  },
  {
   "cell_type": "code",
   "execution_count": 14,
   "metadata": {},
   "outputs": [],
   "source": [
    "for i in range(3):\n",
    "    df[f'{i}_'] = df[i].apply(index[['nsubj', 'ROOT', 'dobj'][i]].inv.get)"
   ]
  },
  {
   "cell_type": "code",
   "execution_count": 15,
   "metadata": {},
   "outputs": [
    {
     "data": {
      "text/html": [
       "<div>\n",
       "<style scoped>\n",
       "    .dataframe tbody tr th:only-of-type {\n",
       "        vertical-align: middle;\n",
       "    }\n",
       "\n",
       "    .dataframe tbody tr th {\n",
       "        vertical-align: top;\n",
       "    }\n",
       "\n",
       "    .dataframe thead th {\n",
       "        text-align: right;\n",
       "    }\n",
       "</style>\n",
       "<table border=\"1\" class=\"dataframe\">\n",
       "  <thead>\n",
       "    <tr style=\"text-align: right;\">\n",
       "      <th></th>\n",
       "      <th>0</th>\n",
       "      <th>1</th>\n",
       "      <th>2</th>\n",
       "      <th>3</th>\n",
       "      <th>0_</th>\n",
       "      <th>1_</th>\n",
       "      <th>2_</th>\n",
       "    </tr>\n",
       "  </thead>\n",
       "  <tbody>\n",
       "    <tr>\n",
       "      <th>942556</th>\n",
       "      <td>34440</td>\n",
       "      <td>22475</td>\n",
       "      <td>21734</td>\n",
       "      <td>-47.027458</td>\n",
       "      <td>по</td>\n",
       "      <td>прошествии</td>\n",
       "      <td>eshopworld</td>\n",
       "    </tr>\n",
       "    <tr>\n",
       "      <th>936799</th>\n",
       "      <td>34325</td>\n",
       "      <td>22317</td>\n",
       "      <td>21615</td>\n",
       "      <td>-46.999308</td>\n",
       "      <td>#eyes</td>\n",
       "      <td>#crease</td>\n",
       "      <td>#lashes</td>\n",
       "    </tr>\n",
       "    <tr>\n",
       "      <th>928797</th>\n",
       "      <td>34162</td>\n",
       "      <td>22287</td>\n",
       "      <td>21561</td>\n",
       "      <td>-46.957624</td>\n",
       "      <td>mundo</td>\n",
       "      <td>aspirante</td>\n",
       "      <td>fundadore</td>\n",
       "    </tr>\n",
       "    <tr>\n",
       "      <th>938596</th>\n",
       "      <td>34309</td>\n",
       "      <td>22369</td>\n",
       "      <td>21606</td>\n",
       "      <td>-46.825173</td>\n",
       "      <td>#nice</td>\n",
       "      <td>#instagood</td>\n",
       "      <td>#igers</td>\n",
       "    </tr>\n",
       "    <tr>\n",
       "      <th>905519</th>\n",
       "      <td>33399</td>\n",
       "      <td>21845</td>\n",
       "      <td>21115</td>\n",
       "      <td>-46.581757</td>\n",
       "      <td>samma</td>\n",
       "      <td>sambuddhassa</td>\n",
       "      <td>sambuddhassa</td>\n",
       "    </tr>\n",
       "    <tr>\n",
       "      <th>...</th>\n",
       "      <td>...</td>\n",
       "      <td>...</td>\n",
       "      <td>...</td>\n",
       "      <td>...</td>\n",
       "      <td>...</td>\n",
       "      <td>...</td>\n",
       "      <td>...</td>\n",
       "    </tr>\n",
       "    <tr>\n",
       "      <th>369593</th>\n",
       "      <td>293</td>\n",
       "      <td>2</td>\n",
       "      <td>89</td>\n",
       "      <td>9.462320</td>\n",
       "      <td>each</td>\n",
       "      <td>have</td>\n",
       "      <td>effect</td>\n",
       "    </tr>\n",
       "    <tr>\n",
       "      <th>54548</th>\n",
       "      <td>20</td>\n",
       "      <td>62</td>\n",
       "      <td>30</td>\n",
       "      <td>9.999940</td>\n",
       "      <td>company</td>\n",
       "      <td>pay</td>\n",
       "      <td>$</td>\n",
       "    </tr>\n",
       "    <tr>\n",
       "      <th>7368</th>\n",
       "      <td>73</td>\n",
       "      <td>220</td>\n",
       "      <td>1</td>\n",
       "      <td>10.411248</td>\n",
       "      <td>item</td>\n",
       "      <td>arrive</td>\n",
       "      <td></td>\n",
       "    </tr>\n",
       "    <tr>\n",
       "      <th>329432</th>\n",
       "      <td>87</td>\n",
       "      <td>2</td>\n",
       "      <td>153</td>\n",
       "      <td>10.590882</td>\n",
       "      <td>room</td>\n",
       "      <td>have</td>\n",
       "      <td>room</td>\n",
       "    </tr>\n",
       "    <tr>\n",
       "      <th>35764</th>\n",
       "      <td>3</td>\n",
       "      <td>2</td>\n",
       "      <td>89</td>\n",
       "      <td>12.801055</td>\n",
       "      <td>you</td>\n",
       "      <td>have</td>\n",
       "      <td>effect</td>\n",
       "    </tr>\n",
       "  </tbody>\n",
       "</table>\n",
       "<p>955501 rows × 7 columns</p>\n",
       "</div>"
      ],
      "text/plain": [
       "            0      1      2          3       0_            1_            2_\n",
       "942556  34440  22475  21734 -47.027458       по    прошествии    eshopworld\n",
       "936799  34325  22317  21615 -46.999308    #eyes       #crease       #lashes\n",
       "928797  34162  22287  21561 -46.957624    mundo     aspirante     fundadore\n",
       "938596  34309  22369  21606 -46.825173    #nice    #instagood        #igers\n",
       "905519  33399  21845  21115 -46.581757    samma  sambuddhassa  sambuddhassa\n",
       "...       ...    ...    ...        ...      ...           ...           ...\n",
       "369593    293      2     89   9.462320     each          have        effect\n",
       "54548      20     62     30   9.999940  company           pay             $\n",
       "7368       73    220      1  10.411248     item        arrive              \n",
       "329432     87      2    153  10.590882     room          have          room\n",
       "35764       3      2     89  12.801055      you          have        effect\n",
       "\n",
       "[955501 rows x 7 columns]"
      ]
     },
     "execution_count": 15,
     "metadata": {},
     "output_type": "execute_result"
    }
   ],
   "source": [
    "df.sort_values(3)"
   ]
  }
 ],
 "metadata": {
  "kernelspec": {
   "display_name": "Python 3",
   "language": "python",
   "name": "python3"
  },
  "language_info": {
   "codemirror_mode": {
    "name": "ipython",
    "version": 3
   },
   "file_extension": ".py",
   "mimetype": "text/x-python",
   "name": "python",
   "nbconvert_exporter": "python",
   "pygments_lexer": "ipython3",
   "version": "3.7.6"
  }
 },
 "nbformat": 4,
 "nbformat_minor": 4
}
