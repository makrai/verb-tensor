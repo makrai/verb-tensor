{
 "cells": [
  {
   "cell_type": "code",
   "execution_count": null,
   "metadata": {},
   "outputs": [],
   "source": [
    "from functools import reduce\n",
    "import os\n",
    "\n",
    "import pandas as pd\n",
    "\n",
    "import logging\n",
    "logging.basicConfig(level=logging.INFO, \n",
    "                    format='%(levelname)-8s [%(lineno)d] %(message)s')"
   ]
  },
  {
   "cell_type": "code",
   "execution_count": null,
   "metadata": {},
   "outputs": [],
   "source": [
    "logging.info('')"
   ]
  },
  {
   "cell_type": "code",
   "execution_count": null,
   "metadata": {},
   "outputs": [],
   "source": [
    "df_dict = config['DEFAULT']['ProjectDirectory']+'dataframe/'\n",
    "\n",
    "def sum_frames(endin_zeros='00'):\n",
    "    dfs = [pd.read_pickle(os.path.join(df_dict, 'freq{}{}.pkl').format(i, endin_zeros)).set_index(\n",
    "        ['nsubj', 'ROOT', 'dobj']) \n",
    "           for i in range(10)]\n",
    "    logging.info('')\n",
    "    df = reduce(lambda x, y: x.add(y, fill_value=0), dfs)\n",
    "    logging.info('')\n",
    "    df = df.astype(int)\n",
    "    df = df.sort_values('freq', ascending=False)\n",
    "    df.to_pickle(os.path.join(df_dict, 'freq{}.pkl').format(endin_zeros))"
   ]
  },
  {
   "cell_type": "code",
   "execution_count": null,
   "metadata": {},
   "outputs": [],
   "source": [
    "sum_frames()"
   ]
  }
 ],
 "metadata": {
  "kernelspec": {
   "display_name": "Python 3",
   "language": "python",
   "name": "python3"
  },
  "language_info": {
   "codemirror_mode": {
    "name": "ipython",
    "version": 3
   },
   "file_extension": ".py",
   "mimetype": "text/x-python",
   "name": "python",
   "nbconvert_exporter": "python",
   "pygments_lexer": "ipython3",
   "version": "3.7.1"
  }
 },
 "nbformat": 4,
 "nbformat_minor": 2
}
