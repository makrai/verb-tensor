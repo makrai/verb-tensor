{
 "cells": [
  {
   "cell_type": "code",
   "execution_count": 20,
   "metadata": {},
   "outputs": [
    {
     "name": "stderr",
     "output_type": "stream",
     "text": [
      "572 DEBUG    [211] Loaded backend module://ipykernel.pylab.backend_inline version unknown.\n"
     ]
    },
    {
     "name": "stdout",
     "output_type": "stream",
     "text": [
      "Populating the interactive namespace from numpy and matplotlib\n"
     ]
    },
    {
     "name": "stderr",
     "output_type": "stream",
     "text": [
      "/home/makrai/tool/python/miniconda3/lib/python3.7/site-packages/IPython/core/magics/pylab.py:160: UserWarning: pylab import has clobbered these variables: ['random']\n",
      "`%matplotlib` prevents importing * from pylab and numpy\n",
      "  \"\\n`%matplotlib` prevents importing * from pylab and numpy\"\n"
     ]
    }
   ],
   "source": [
    "from collections import defaultdict\n",
    "import glob\n",
    "from itertools import groupby\n",
    "import operator\n",
    "import os\n",
    "import re\n",
    "\n",
    "import numpy as np\n",
    "import pandas as pd\n",
    "import pickle\n",
    "import random\n",
    "import sparse\n",
    "#import tensorly as tl\n",
    "#import tensorly.decomposition as decomp\n",
    "import sktensor\n",
    "import urllib3\n",
    "#import wget\n",
    "\n",
    "import matplotlib.pyplot as plt\n",
    "%pylab inline\n",
    "pylab.rcParams['figure.figsize'] = (10, 6)\n",
    "\n",
    "import logging\n",
    "logging.basicConfig(level=logging.DEBUG, \n",
    "                    format='%(levelname)-8s [%(lineno)d] %(message)s')\n",
    "\n",
    "if not os.path.exists('cp_orth.py'):\n",
    "    wget.download('http://web.stanford.edu/~vsharan/cp_orth.py')\n",
    "from cp_orth import orth_als"
   ]
  },
  {
   "cell_type": "code",
   "execution_count": 12,
   "metadata": {},
   "outputs": [
    {
     "data": {
      "text/html": [
       "<div>\n",
       "<style scoped>\n",
       "    .dataframe tbody tr th:only-of-type {\n",
       "        vertical-align: middle;\n",
       "    }\n",
       "\n",
       "    .dataframe tbody tr th {\n",
       "        vertical-align: top;\n",
       "    }\n",
       "\n",
       "    .dataframe thead th {\n",
       "        text-align: right;\n",
       "    }\n",
       "</style>\n",
       "<table border=\"1\" class=\"dataframe\">\n",
       "  <thead>\n",
       "    <tr style=\"text-align: right;\">\n",
       "      <th></th>\n",
       "      <th>lemma</th>\n",
       "      <th>token_freq</th>\n",
       "      <th>pos</th>\n",
       "      <th>doc_freq</th>\n",
       "      <th>normalized</th>\n",
       "    </tr>\n",
       "  </thead>\n",
       "  <tbody>\n",
       "    <tr>\n",
       "      <th>0</th>\n",
       "      <td>abba+hagy</td>\n",
       "      <td>9496</td>\n",
       "      <td>FIN</td>\n",
       "      <td>1258</td>\n",
       "      <td>abba+hagy</td>\n",
       "    </tr>\n",
       "    <tr>\n",
       "      <th>1</th>\n",
       "      <td>abba+marad</td>\n",
       "      <td>1277</td>\n",
       "      <td>FIN</td>\n",
       "      <td>620</td>\n",
       "      <td>abba+marad</td>\n",
       "    </tr>\n",
       "    <tr>\n",
       "      <th>2</th>\n",
       "      <td>abba+hagyat</td>\n",
       "      <td>45</td>\n",
       "      <td>FIN</td>\n",
       "      <td>41</td>\n",
       "      <td>abba+hagyat</td>\n",
       "    </tr>\n",
       "    <tr>\n",
       "      <th>3</th>\n",
       "      <td>abba+fejez</td>\n",
       "      <td>27</td>\n",
       "      <td>UNKNOWN</td>\n",
       "      <td>24</td>\n",
       "      <td>abba+fejez</td>\n",
       "    </tr>\n",
       "    <tr>\n",
       "      <th>4</th>\n",
       "      <td>abba+szakad</td>\n",
       "      <td>3</td>\n",
       "      <td>UNKNOWN</td>\n",
       "      <td>3</td>\n",
       "      <td>abba+szakad</td>\n",
       "    </tr>\n",
       "  </tbody>\n",
       "</table>\n",
       "</div>"
      ],
      "text/plain": [
       "         lemma  token_freq      pos  doc_freq   normalized\n",
       "0    abba+hagy        9496      FIN      1258    abba+hagy\n",
       "1   abba+marad        1277      FIN       620   abba+marad\n",
       "2  abba+hagyat          45      FIN        41  abba+hagyat\n",
       "3   abba+fejez          27  UNKNOWN        24   abba+fejez\n",
       "4  abba+szakad           3  UNKNOWN         3  abba+szakad"
      ]
     },
     "execution_count": 12,
     "metadata": {},
     "output_type": "execute_result"
    }
   ],
   "source": [
    "names = ['lemma', 'token_freq', 'pos', 'doc_freq', 'normalized']\n",
    "prevlex = pd.read_csv('/home/makrai/repo/prevlex/PrevLex.txt', sep='\\t', header=None, names=names)\n",
    "prevlex.head()"
   ]
  },
  {
   "cell_type": "code",
   "execution_count": 14,
   "metadata": {},
   "outputs": [],
   "source": [
    "class keydefault_dict(dict):\n",
    "    def __missing__(self, key):\n",
    "        return ('', key)\n",
    "\n",
    "def get_prev_verb():\n",
    "    prev_verb = keydefault_dict()\n",
    "    for prev_plus_verb in prevlex.lemma:\n",
    "        prev, verb = prev_plus_verb.split('+')\n",
    "        prev_verb[prev+verb] = (prev, verb)\n",
    "    return prev_verb"
   ]
  },
  {
   "cell_type": "code",
   "execution_count": 18,
   "metadata": {},
   "outputs": [],
   "source": [
    "def mazsola_reader():\n",
    "    pickle_path = '/mnt/store/home/makrai/project/verb-tensor/prev_sep/mazsola.pkl'\n",
    "    if os.path.exists(pickle_path):\n",
    "        logging.info('Loading mazsola dict from {}'.format(pickle_path))\n",
    "        return pickle.load(open(pickle_path, mode='rb'))\n",
    "    logging.info('Reading mazsola...'.format(pickle_path))\n",
    "    path = '/mnt/permanent/Language/Hungarian/Dic/sass15-535k-igei-szerkezet/mazsola_adatbazis.txt'\n",
    "    prev_verb = get_prev_verb()\n",
    "    occurrence = defaultdict(int)#lambda: defaultdict(lambda: defaultdict(int)))\n",
    "    margianls = [defaultdict(int) for _ in range(4)]\n",
    "    with open(path) as infile:\n",
    "        for i, line in enumerate(infile):\n",
    "            if not i % 500000:\n",
    "                logging.info('{:.0%}'.format(i/27970403))\n",
    "            record = defaultdict(str)\n",
    "            for token in line.strip().split():\n",
    "                case_stem = re.split('@@', token)\n",
    "                if len(case_stem) == 1:\n",
    "                    continue\n",
    "                try:\n",
    "                    case, stem = case_stem\n",
    "                except:\n",
    "                    logging.warning(line.strip())\n",
    "                record[case] = stem\n",
    "            record['prev'], record['verb'] = prev_verb[record['stem']]\n",
    "            occurrence[record['NOM'], record['prev'], record['verb'], record['ACC']] += 1\n",
    "            for i, mode in enumerate(['NOM', 'prev', 'verb', 'ACC']):\n",
    "                margianls[i][record[mode]] += 1            \n",
    "    result = occurrence, margianls\n",
    "    pickle.dump(result, open(pickle_path, mode='wb'))\n",
    "    return result                "
   ]
  },
  {
   "cell_type": "code",
   "execution_count": 30,
   "metadata": {},
   "outputs": [],
   "source": [
    "def get_tensor(middle_end='sktensor', cutoff=10):\n",
    "    logging.info('Reweighting: log')\n",
    "    verb_tensor_path = '/mnt/store/home/makrai/project/verb-tensor/prev_sep/tensor_{}_{}.pkl'.format(\n",
    "        middle_end, cutoff)\n",
    "    if os.path.exists(verb_tensor_path):\n",
    "        logging.info('Loading tensor from {}'.format(verb_tensor_path))\n",
    "        tensor, indices = pickle.load(open(verb_tensor_path, mode='rb'))\n",
    "        logging.debug(tensor.shape)\n",
    "        return tensor, indices\n",
    "    occurrence, marginals = mazsola_reader()\n",
    "    def get_index(freq_dict):\n",
    "        items = sorted(filter(lambda item: item[1] >= cutoff, freq_dict.items()), key=operator.itemgetter(1), \n",
    "                       reverse=True)\n",
    "        logging.debug(items[-3:])\n",
    "        return dict([(w, i) for i, (w, f) in enumerate(items)])\n",
    "\n",
    "    coords, data = ([], [], [], []), []\n",
    "    indices = [get_index(fd) for fd in marginals]\n",
    "    logging.info('Building tensor...')\n",
    "    logging.info('  Pupulating lists...')\n",
    "    for i, ((svo), freq) in enumerate(occurrence.items()):\n",
    "        if not i % 2000000:\n",
    "            logging.debug('    {:,}'.format(i))#'{} {}'.format(svo[1], freq))\n",
    "        for i, word in enumerate(svo):\n",
    "            if svo[i] not in indices[i]:\n",
    "                break\n",
    "        else:\n",
    "            for i, word in enumerate(svo):\n",
    "                coords[i].append(indices[i][svo[i]])\n",
    "            data.append(np.log(freq))\n",
    "    logging.info('  Creating array')\n",
    "    shape = tuple(map(len, indices))\n",
    "    logging.info(shape)\n",
    "    if middle_end == 'tensorly':\n",
    "        tensor = sparse.COO(coords, data, shape=shape)#, has_duplicates=False)\n",
    "    elif middle_end == 'sktensor':\n",
    "        tensor = sktensor.sptensor(coords, data, shape=shape)\n",
    "    else:\n",
    "        raise NotImplementedError\n",
    "    pickle.dump((tensor, indices), open(verb_tensor_path, mode='wb'))\n",
    "    logging.info(tensor)\n",
    "    return tensor, indices"
   ]
  },
  {
   "cell_type": "code",
   "execution_count": 84,
   "metadata": {},
   "outputs": [],
   "source": [
    "def decomp(cutoff, dim):\n",
    "    logging.info((cutoff, dim))\n",
    "    filen_base = '/mnt/store/home/makrai/project/verb-tensor/prev_sep/decomp_{}_{}'.format(cutoff, dim)\n",
    "    if os.path.isfile('{}.{}'.format(filen_base, 'pkl')):\n",
    "        logging.info('File exists {} {}'.format(cutoff, dim))\n",
    "        return\n",
    "    vtensor, indices = get_tensor(cutoff=cutoff)\n",
    "    try:\n",
    "        result = orth_als(vtensor, dim)\n",
    "        pickle.dump(result, open('{}.{}'.format(filen_base, 'pkl'), mode='wb'))\n",
    "    except Exception as e:\n",
    "        with open('{}.{}'.format(filen_base, 'err'), mode='w') as logfile:\n",
    "            logfile.write('{}'.format(e))\n",
    "        logging.exception(e)"
   ]
  },
  {
   "cell_type": "code",
   "execution_count": 101,
   "metadata": {},
   "outputs": [],
   "source": [
    "def show_expers(feature='exectimes'):\n",
    "    tabular = []\n",
    "    mx = []\n",
    "    for filen in glob.glob('/mnt/store/home/makrai/project/verb-tensor/prev_sep/decomp_*.pkl'):\n",
    "        _, cutoff, dim = os.path.splitext(filen)[0].rsplit('_', 2)\n",
    "        cutoff, dim = map(int, (cutoff, dim))\n",
    "        ktensor, fit, n_iterations, exectimes = pickle.load(open(filen, mode='rb'))\n",
    "        tabular.append((cutoff, dim, ktensor.shape))\n",
    "        mx.append([cutoff, dim, sum(exectimes)/60])\n",
    "    mx = np.array(mx)\n",
    "    print(sorted(tabular))\n",
    "    plt.scatter(np.array(mx).T[0], mx.T[1], c=mx.T[2])\n",
    "    plt.colorbar()\n",
    "    plt.xscale('log')"
   ]
  },
  {
   "cell_type": "code",
   "execution_count": 102,
   "metadata": {},
   "outputs": [
    {
     "data": {
      "text/plain": [
       "[(2048, 2, (1251, 58, 898, 579)),\n",
       " (4096, 2, (622, 48, 616, 243)),\n",
       " (8192, 2, (278, 33, 384, 101)),\n",
       " (16384, 2, (87, 25, 219, 43)),\n",
       " (32768, 2, (24, 16, 120, 16)),\n",
       " (32768, 3, (24, 16, 120, 16)),\n",
       " (32768, 5, (24, 16, 120, 16)),\n",
       " (32768, 10, (24, 16, 120, 16)),\n",
       " (65536, 2, (10, 15, 48, 9)),\n",
       " (65536, 3, (10, 15, 48, 9)),\n",
       " (65536, 4, (10, 15, 48, 9)),\n",
       " (65536, 5, (10, 15, 48, 9)),\n",
       " (131072, 2, (3, 9, 19, 5))]"
      ]
     },
     "execution_count": 102,
     "metadata": {},
     "output_type": "execute_result"
    }
   ],
   "source": [
    "show_expers()"
   ]
  },
  {
   "cell_type": "code",
   "execution_count": 37,
   "metadata": {},
   "outputs": [],
   "source": [
    "def rand_elem(list1):\n",
    "    return list1[np.random.randint(0, len(list1))]"
   ]
  },
  {
   "cell_type": "code",
   "execution_count": null,
   "metadata": {},
   "outputs": [
    {
     "name": "stderr",
     "output_type": "stream",
     "text": [
      "458 INFO     [2] (2048, 3)\n",
      "459 INFO     [2] Reweighting: log\n",
      "460 INFO     [6] Loading tensor from /mnt/store/home/makrai/project/verb-tensor/prev_sep/tensor_sktensor_2048.pkl\n",
      "559 DEBUG    [8] (1251, 58, 898, 579)\n",
      "96 DEBUG    [218] [  0] fit: 0.30606 | delta: 3.1e-01 | secs: 7.36870\n",
      "97 DEBUG    [191] Zero norm, mode 0, count 0\n",
      "98 DEBUG    [191] Zero norm, mode 1, count 0\n",
      "99 DEBUG    [191] Zero norm, mode 2, count 0\n",
      "100 DEBUG    [191] Zero norm, mode 3, count 0\n",
      "47 DEBUG    [218] [  1] fit: 0.31196 | delta: 5.9e-03 | secs: 6.91210\n",
      "48 DEBUG    [191] Zero norm, mode 0, count 0\n",
      "48 DEBUG    [191] Zero norm, mode 1, count 0\n",
      "49 DEBUG    [191] Zero norm, mode 2, count 0\n",
      "50 DEBUG    [191] Zero norm, mode 3, count 0\n",
      "999 DEBUG    [218] [  2] fit: 0.31996 | delta: 8.0e-03 | secs: 6.91431\n",
      "0 DEBUG    [191] Zero norm, mode 0, count 0\n",
      "0 DEBUG    [191] Zero norm, mode 1, count 0\n",
      "1 DEBUG    [191] Zero norm, mode 2, count 0\n",
      "2 DEBUG    [191] Zero norm, mode 3, count 0\n",
      "946 DEBUG    [218] [  3] fit: 0.32432 | delta: 4.4e-03 | secs: 6.90792\n",
      "947 DEBUG    [191] Zero norm, mode 0, count 0\n",
      "948 DEBUG    [191] Zero norm, mode 1, count 0\n",
      "948 DEBUG    [191] Zero norm, mode 2, count 0\n",
      "949 DEBUG    [191] Zero norm, mode 3, count 0\n",
      "867 DEBUG    [218] [  4] fit: 0.32575 | delta: 1.4e-03 | secs: 6.91828\n",
      "815 DEBUG    [218] [  5] fit: 0.34787 | delta: 2.2e-02 | secs: 6.89623\n",
      "777 DEBUG    [218] [  6] fit: 0.35108 | delta: 3.2e-03 | secs: 6.91413\n",
      "718 DEBUG    [218] [  7] fit: 0.35246 | delta: 1.4e-03 | secs: 6.93870\n",
      "631 DEBUG    [218] [  8] fit: 0.35339 | delta: 9.2e-04 | secs: 6.90778\n",
      "558 DEBUG    [218] [  9] fit: 0.35420 | delta: 8.1e-04 | secs: 6.92099\n",
      "487 DEBUG    [218] [ 10] fit: 0.35499 | delta: 7.9e-04 | secs: 6.92566\n",
      "422 DEBUG    [218] [ 11] fit: 0.35575 | delta: 7.6e-04 | secs: 6.90626\n",
      "351 DEBUG    [218] [ 12] fit: 0.35646 | delta: 7.2e-04 | secs: 6.92613\n",
      "280 DEBUG    [218] [ 13] fit: 0.35711 | delta: 6.5e-04 | secs: 6.92610\n",
      "180 DEBUG    [218] [ 14] fit: 0.35767 | delta: 5.6e-04 | secs: 6.89702\n",
      "102 DEBUG    [218] [ 15] fit: 0.35815 | delta: 4.7e-04 | secs: 6.91838\n",
      "61 DEBUG    [218] [ 16] fit: 0.35854 | delta: 3.9e-04 | secs: 6.95684\n",
      "962 DEBUG    [218] [ 17] fit: 0.35885 | delta: 3.1e-04 | secs: 6.89769\n",
      "887 DEBUG    [218] [ 18] fit: 0.35910 | delta: 2.5e-04 | secs: 6.92297\n",
      "816 DEBUG    [218] [ 19] fit: 0.35930 | delta: 2.0e-04 | secs: 6.92593\n",
      "749 DEBUG    [218] [ 20] fit: 0.35946 | delta: 1.6e-04 | secs: 6.92999\n",
      "677 DEBUG    [218] [ 21] fit: 0.35958 | delta: 1.2e-04 | secs: 6.92483\n",
      "598 DEBUG    [218] [ 22] fit: 0.35968 | delta: 1.0e-04 | secs: 6.91845\n",
      "535 DEBUG    [218] [ 23] fit: 0.35976 | delta: 8.1e-05 | secs: 6.93460\n",
      "450 DEBUG    [218] [ 24] fit: 0.35983 | delta: 6.7e-05 | secs: 6.91119\n",
      "379 DEBUG    [218] [ 25] fit: 0.35988 | delta: 5.6e-05 | secs: 6.92632\n",
      "307 DEBUG    [218] [ 26] fit: 0.35993 | delta: 4.8e-05 | secs: 6.92428\n",
      "241 DEBUG    [218] [ 27] fit: 0.35997 | delta: 4.1e-05 | secs: 6.88949\n",
      "170 DEBUG    [218] [ 28] fit: 0.36001 | delta: 3.5e-05 | secs: 6.92538\n",
      "98 DEBUG    [218] [ 29] fit: 0.36004 | delta: 3.1e-05 | secs: 6.92525\n",
      "41 DEBUG    [218] [ 30] fit: 0.36007 | delta: 2.8e-05 | secs: 6.89267\n",
      "979 DEBUG    [218] [ 31] fit: 0.36009 | delta: 2.5e-05 | secs: 6.88324\n",
      "909 DEBUG    [218] [ 32] fit: 0.36011 | delta: 2.2e-05 | secs: 6.92761\n"
     ]
    }
   ],
   "source": [
    "for dim in [3,5,10,25,50]:\n",
    "    decomp(2**11, dim)"
   ]
  }
 ],
 "metadata": {
  "kernelspec": {
   "display_name": "Python 3",
   "language": "python",
   "name": "python3"
  },
  "language_info": {
   "codemirror_mode": {
    "name": "ipython",
    "version": 3
   },
   "file_extension": ".py",
   "mimetype": "text/x-python",
   "name": "python",
   "nbconvert_exporter": "python",
   "pygments_lexer": "ipython3",
   "version": "3.7.1"
  }
 },
 "nbformat": 4,
 "nbformat_minor": 2
}
