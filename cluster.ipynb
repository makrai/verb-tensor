{
 "cells": [
  {
   "cell_type": "code",
   "execution_count": 1,
   "metadata": {},
   "outputs": [
    {
     "name": "stderr",
     "output_type": "stream",
     "text": [
      "/home/makrai/tool/python/miniconda3/lib/python3.7/site-packages/IPython/core/magics/pylab.py:160: UserWarning: pylab import has clobbered these variables: ['random']\n",
      "`%matplotlib` prevents importing * from pylab and numpy\n",
      "  \"\\n`%matplotlib` prevents importing * from pylab and numpy\"\n",
      "DEBUG    [211] Loaded backend module://ipykernel.pylab.backend_inline version unknown.\n"
     ]
    },
    {
     "name": "stdout",
     "output_type": "stream",
     "text": [
      "Populating the interactive namespace from numpy and matplotlib\n"
     ]
    }
   ],
   "source": [
    "from collections import defaultdict\n",
    "from itertools import groupby\n",
    "import operator\n",
    "import os\n",
    "import re\n",
    "\n",
    "import hdbscan\n",
    "import numpy as np\n",
    "import sklearn\n",
    "import pandas as pd\n",
    "import pickle\n",
    "import random\n",
    "import sparse\n",
    "#import tensorly as tl\n",
    "#import tensorly.decomposition as decomp\n",
    "import sktensor\n",
    "import umap\n",
    "import urllib3\n",
    "#import wget\n",
    "\n",
    "import matplotlib.pyplot as plt\n",
    "%pylab inline\n",
    "pylab.rcParams['figure.figsize'] = (12, 8)\n",
    "\n",
    "import logging\n",
    "logging.basicConfig(level=logging.DEBUG, \n",
    "                    format='%(levelname)-8s [%(lineno)d] %(message)s')\n",
    "\n",
    "if not os.path.exists('cp_orth.py'):\n",
    "    wget.download('http://web.stanford.edu/~vsharan/cp_orth.py')\n",
    "from cp_orth import orth_als"
   ]
  },
  {
   "cell_type": "code",
   "execution_count": 11,
   "metadata": {},
   "outputs": [],
   "source": [
    "class ClusterVerbs():\n",
    "    def __init__(self, weight='freq', cutoff=1, rank=100, prev_sep=False, min_cluster_size=5, min_samples=None, \n",
    "                 metric='cosine'):\n",
    "        if prev_sep:\n",
    "            raise NotImplementedError\n",
    "        self.min_cluster_size = min_cluster_size\n",
    "        self.min_samples = min_samples\n",
    "        self.metric = metric\n",
    "        self.verb_i = 1 + prev_sep\n",
    "        tensor_dir = '/mnt/store/home/makrai/project/verb-tensor/pmi/'\n",
    "        self.ktensor, _, _, _ = pickle.load(open(\n",
    "            os.path.join(tensor_dir, 'ktensor_{}_{}_{}.pkl'.format(weight, cutoff, rank)), mode='rb'))\n",
    "        logging.debug(self.ktensor.shape)\n",
    "        _, self.index = pickle.load(open(os.path.join(tensor_dir, 'sparstensr_{}_{}.pkl'.format(weight, cutoff)), \n",
    "                                         mode='rb'))\n",
    "        self.embed2 = self.do_umap(2)\n",
    "        self.embed10 = self.do_umap(10)\n",
    "\n",
    "    def do_umap(self, n_components):\n",
    "        mapping = umap.UMAP(n_components=n_components, metric=self.metric)\n",
    "        if self.ktensor.U[self.verb_i].shape[1] <= n_components:\n",
    "            return self.ktensor.U[self.verb_i]\n",
    "        return mapping.fit_transform(self.ktensor.U[self.verb_i])\n",
    "    \n",
    "    def do_cluster(self):\n",
    "        clusser = hdbscan.HDBSCAN(min_cluster_size=self.min_cluster_size, min_samples=self.min_samples)\n",
    "        # The implementation defaults min_samples to whatever min_cluster_size is set to\n",
    "        logging.debug('')\n",
    "        self.labels = clusser.fit_predict(self.embed10)\n",
    "        plt.scatter(self.embed2.T[0], self.embed2.T[1], c=self.labels, s=2)\n",
    "\n",
    "    def show_clustering(self, n_clust_show=30, show_size_of=60, sort_sizes='ascending', min_shown_size=3):\n",
    "        assert sort_sizes in ['ascending', 'descending', 'rand']\n",
    "        clus_len_l = [(key, len(list(group))) for key, group in groupby(sorted(self.labels))]\n",
    "        if sort_sizes is not 'rand':\n",
    "            clus_len_l = sorted(clus_len_l, key=operator.itemgetter(1), reverse=sort_sizes=='descending')\n",
    "        clusters, lens = zip(*list(clus_len_l))\n",
    "        n_clusters = len(clus_len_l)\n",
    "        #entropy_ = stats.entropy(lens)\n",
    "        header = '{} clusters, entropy={:.2}, sizes: {}{}'.format(\n",
    "            n_clusters, 'entropy_', ' '.join(map(str, lens[:show_size_of])), \n",
    "            '..' if n_clusters>show_size_of else '')\n",
    "        print(header)\n",
    "        verbs = np.array(list(self.index['stem'].keys()))\n",
    "        logging.info(verbs[:10])\n",
    "        for cluster_i, clus_len in zip(clusters[:n_clust_show+1], lens):\n",
    "            if clus_len < min_shown_size:# or cluster_i == -1:\n",
    "                continue\n",
    "            clus_siz = np.sum(self.labels==cluster_i)\n",
    "            #print('\\n{} verbs. id: {}\\n'.format(clus_siz, int(cluster_i)))\n",
    "            print((clus_siz, [self.index['stem'].inverse[i] for i in np.where(self.labels==cluster_i)[0][:9]]))\n",
    "        print('\\n{}'.format(header))\n",
    "    \n",
    "    def main(self):\n",
    "        self.do_cluster()\n",
    "        logging.debug('')\n",
    "        self.show_clustering()"
   ]
  },
  {
   "cell_type": "code",
   "execution_count": 10,
   "metadata": {},
   "outputs": [
    {
     "name": "stderr",
     "output_type": "stream",
     "text": [
      "DEBUG    [13] (34707, 10822, 23925)\n",
      "/home/makrai/tool/python/miniconda3/lib/python3.7/site-packages/umap/spectral.py:229: UserWarning: Embedding a total of 2 separate connected components using meta-embedding (experimental)\n",
      "  n_components\n",
      "/home/makrai/tool/python/miniconda3/lib/python3.7/site-packages/umap/spectral.py:229: UserWarning: Embedding a total of 3 separate connected components using meta-embedding (experimental)\n",
      "  n_components\n",
      "DEBUG    [55] \n",
      "INFO     [44] ['abbabelebotlik' 'abbabeleegyez' 'abbabeleillik' 'abbabelemegy'\n",
      " 'abbaenged' 'abbafejez' 'abbafoglal' 'abbahagy' 'abbahagy--újrakezd'\n",
      " 'abbahagyat']\n",
      "DEBUG    [2515] update_title_pos\n"
     ]
    },
    {
     "name": "stdout",
     "output_type": "stream",
     "text": [
      "303 clusters, entropy=en, sizes: 5 5 5 5 5 5 5 5 5 5 5 5 5 5 5 6 6 6 6 6 6 6 6 6 6 6 6 6 6 6 6 6 6 6 6 6 6 6 6 7 7 7 7 7 7 7 7 7 7 7 7 7 7 7 7 8 8 8 8 8..\n",
      "(5, ['igazít', 'bedug', 'nyel', 'preferál', 'elkiabál'])\n",
      "(5, ['kidolgozik', 'terjeszt', 'bocsát', 'becsatol', 'elutasít'])\n",
      "(5, ['megsért', 'átmásol', 'bealapít', 'elkészít', 'eltárgyal'])\n",
      "(5, ['lekényszerít', 'összekoldul', 'ráhamisít', 'leolvas', 'rápazarol'])\n",
      "(5, ['szponzorál', 'megveszik', 'áttelepít', 'felvásárol', 'lízingel'])\n",
      "(5, ['pihen', 'kivonszol', 'besző', 'beleold', 'felzabál'])\n",
      "(5, ['ósít', 'ered', 'feltámogat', 'letesz', 'átteljesít'])\n",
      "(5, ['összepattogtat', 'bekeretez', 'transzformál', 'elmegold', 'átmotoz'])\n",
      "(5, ['rárivall', 'sóz', 'fejteget', 'parcelláz', 'elszed'])\n",
      "(5, ['összeújrateremt', 'szétfröcsköl', 'bekizár', 'elmeglátogat', 'rátörik'])\n",
      "(5, ['megtapsoltat', 'kikel', 'kiérez', 'összeösszevet', 'eloroz'])\n",
      "(5, ['kiengesztel', 'vigasztalódik', 'vadászgat', 'felhagy', 'feljavul'])\n",
      "(5, ['hazamegír', 'szétszakít', 'összetud', 'visítozik', 'összeszedeget'])\n",
      "(5, ['fölhisz', 'ráhív', 'táviratozik', 'táviratoz', 'elkifizet'])\n",
      "(5, ['sugárzik', 'kifacsar', 'előrehuppan', 'maximalizál', 'visszahurkol'])\n",
      "(6, ['járkál', 'kinevettet', 'kilövet', 'letepertet', 'kikinull', 'eltenget'])\n",
      "(6, ['megszed', 'befelvételiz', 'szakosít', 'vét', 'felköt', 'kiél'])\n",
      "(6, ['földob', 'újracsenget', 'hozzáfelhúz', 'beszállásol', 'kial', 'kiebrudal'])\n",
      "(6, ['túlvállal', 'megbefogad', 'uralkodik', 'megberetvál', 'elszámít', 'szembetalál'])\n",
      "(6, ['leveret', 'retteg--retteg', 'megbűnhődik', 'megvétóz', 'társít', 'ellazsál'])\n",
      "(6, ['duruzsol', 'véset', 'silabizál', 'felültet', 'felültesz', 'tartóztat'])\n",
      "(6, ['igényel', 'indukál', 'forgácsol', 'megcéloz', 'korrigál', 'előirányoz'])\n",
      "(6, ['körvonalaz', 'föltérképez', 'fölháborít', 'helyreállít', 'keresztülnull', 'taglal'])\n",
      "(6, ['megrugdal', 'szokik', 'lelát', 'befog', 'lestrapál', 'elsenyveszt'])\n",
      "(6, ['helyesbít', 'kikövetkeztetet', 'megszok', 'átugor', 'eltűnik', 'összeelönt'])\n",
      "(6, ['fölforral', 'beültet', 'összeügyeskedik', 'becsinál', 'könnyez', 'könnyezik'])\n",
      "(6, ['szignál', 'parafál', 'alánull', 'alához', 'felfelmond', 'előjóváhagy'])\n",
      "(6, ['hosszabbít', 'kiteljesedik', 'felesket', 'odalök', 'figyelmeztetet', 'elveszet'])\n",
      "(6, ['lezárat', 'elbirtokol', 'kodifikál', 'koccint', 'átsorol', 'költöz'])\n",
      "(6, ['megdézsmál', 'csavar', 'megpörköl', 'kipiszkál', 'korcsolyázik', 'korcsolyáz'])\n",
      "(6, ['elenyész', 'átarat', 'megbeismer', 'letegez', 'lemegkezd', 'vél'])\n",
      "\n",
      "303 clusters, entropy=en, sizes: 5 5 5 5 5 5 5 5 5 5 5 5 5 5 5 6 6 6 6 6 6 6 6 6 6 6 6 6 6 6 6 6 6 6 6 6 6 6 6 7 7 7 7 7 7 7 7 7 7 7 7 7 7 7 7 8 8 8 8 8..\n"
     ]
    },
    {
     "name": "stderr",
     "output_type": "stream",
     "text": [
      "DEBUG    [1254] findfont: Matching :family=sans-serif:style=normal:variant=normal:weight=normal:stretch=normal:size=10.0 to DejaVu Sans ('/home/makrai/tool/python/miniconda3/lib/python3.7/site-packages/matplotlib/mpl-data/fonts/ttf/DejaVuSans.ttf') with score of 0.050000.\n",
      "DEBUG    [2515] update_title_pos\n",
      "DEBUG    [2515] update_title_pos\n",
      "DEBUG    [2515] update_title_pos\n",
      "DEBUG    [2515] update_title_pos\n"
     ]
    },
    {
     "data": {
      "image/png": "[encoded data removed]",
      "text/plain": [
       "<Figure size 432x288 with 1 Axes>"
      ]
     },
     "metadata": {
      "needs_background": "light"
     },
     "output_type": "display_data"
    }
   ],
   "source": [
    "ClusterVerbs().main()"
   ]
  }
 ],
 "metadata": {
  "kernelspec": {
   "display_name": "Python 3",
   "language": "python",
   "name": "python3"
  },
  "language_info": {
   "codemirror_mode": {
    "name": "ipython",
    "version": 3
   },
   "file_extension": ".py",
   "mimetype": "text/x-python",
   "name": "python",
   "nbconvert_exporter": "python",
   "pygments_lexer": "ipython3",
   "version": "3.7.1"
  }
 },
 "nbformat": 4,
 "nbformat_minor": 2
}
