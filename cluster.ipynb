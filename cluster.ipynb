{
 "cells": [
  {
   "cell_type": "code",
   "execution_count": 43,
   "metadata": {},
   "outputs": [
    {
     "name": "stderr",
     "output_type": "stream",
     "text": [
      "DEBUG    [211] Loaded backend module://ipykernel.pylab.backend_inline version unknown.\n"
     ]
    },
    {
     "name": "stdout",
     "output_type": "stream",
     "text": [
      "Populating the interactive namespace from numpy and matplotlib\n"
     ]
    },
    {
     "name": "stderr",
     "output_type": "stream",
     "text": [
      "/home/makrai/tool/python/miniconda3/lib/python3.7/site-packages/IPython/core/magics/pylab.py:160: UserWarning: pylab import has clobbered these variables: ['random']\n",
      "`%matplotlib` prevents importing * from pylab and numpy\n",
      "  \"\\n`%matplotlib` prevents importing * from pylab and numpy\"\n"
     ]
    }
   ],
   "source": [
    "from collections import defaultdict\n",
    "from itertools import groupby\n",
    "import operator\n",
    "import os\n",
    "import re\n",
    "\n",
    "import hdbscan\n",
    "import numpy as np\n",
    "import sklearn\n",
    "import pandas as pd\n",
    "import pickle\n",
    "import random\n",
    "import sparse\n",
    "#import tensorly as tl\n",
    "#import tensorly.decomposition as decomp\n",
    "import sktensor\n",
    "import umap\n",
    "import urllib3\n",
    "#import wget\n",
    "\n",
    "import matplotlib.pyplot as plt\n",
    "%pylab inline\n",
    "pylab.rcParams['figure.figsize'] = (12, 8)\n",
    "\n",
    "import logging\n",
    "logging.basicConfig(level=logging.DEBUG, \n",
    "                    format='%(levelname)-8s [%(lineno)d] %(message)s')\n",
    "\n",
    "if not os.path.exists('cp_orth.py'):\n",
    "    wget.download('http://web.stanford.edu/~vsharan/cp_orth.py')\n",
    "from cp_orth import orth_als"
   ]
  },
  {
   "cell_type": "code",
   "execution_count": 57,
   "metadata": {},
   "outputs": [],
   "source": [
    "class ClusterVerbs():\n",
    "    def __init__(self, cutoff=32, rank=100, prev_sep=False, min_cluster_size=5, min_samples=None, \n",
    "                 metric='cosine'):\n",
    "        if prev_sep:\n",
    "            raise NotImplementedError\n",
    "        self.min_cluster_size = min_cluster_size\n",
    "        self.min_samples = min_samples\n",
    "        self.metric = metric\n",
    "        self.verb_i = 1 + prev_sep\n",
    "        tensor_dir = '/mnt/store/home/makrai/project/verb-tensor/pmi/'\n",
    "        self.ktensor, _, _, _ = pickle.load(\n",
    "            open(os.path.join(tensor_dir, 'ktensor_pmi_{}_{}.pkl'.format(cutoff, rank)), mode='rb'))\n",
    "        logging.debug(self.ktensor.shape)\n",
    "        _, self.index = pickle.load(open(os.path.join(tensor_dir, 'sparstensr_pmi_{}.pkl'.format(cutoff)), mode='rb'))\n",
    "        self.embed2 = self.do_umap(2)\n",
    "        self.embed10 = self.do_umap(10)\n",
    "\n",
    "    def do_umap(self, n_components):\n",
    "        mapping = umap.UMAP(n_components=n_components, metric=self.metric)\n",
    "        if self.ktensor.U[self.verb_i].shape[1] <= n_components:\n",
    "            return self.ktensor.U[self.verb_i]\n",
    "        return mapping.fit_transform(self.ktensor.U[self.verb_i])\n",
    "    \n",
    "    def do_cluster(self):\n",
    "        clusser = hdbscan.HDBSCAN(min_cluster_size=self.min_cluster_size, min_samples=self.min_samples)\n",
    "        # The implementation defaults min_samples to whatever min_cluster_size is set to\n",
    "        self.labels = clusser.fit_predict(self.embed10)\n",
    "        plt.scatter(self.embed2.T[0], self.embed2.T[1], c=self.labels, s=2)\n",
    "\n",
    "    def show_clustering(self, n_clust_show=30, show_size_of=60, sort_sizes='ascending', min_shown_size=3):\n",
    "        assert sort_sizes in ['ascending', 'descending', 'rand']\n",
    "        clus_len_l = [(key, len(list(group))) for key, group in groupby(sorted(self.labels))]\n",
    "        if sort_sizes is not 'rand':\n",
    "            clus_len_l = sorted(clus_len_l, key=operator.itemgetter(1), reverse=sort_sizes=='descending')\n",
    "        clusters, lens = zip(*list(clus_len_l))\n",
    "        n_clusters = len(clus_len_l)\n",
    "        #entropy_ = stats.entropy(lens)\n",
    "        header = '{} clusters, entropy={:.2}, sizes: {}{}'.format(\n",
    "            n_clusters, 'entropy_', ' '.join(map(str, lens[:show_size_of])), \n",
    "            '..' if n_clusters>show_size_of else '')\n",
    "        print(header)\n",
    "        verbs = np.array(list(self.index['stem'].keys()))\n",
    "        logging.info(verbs[:10])\n",
    "        for cluster_i, clus_len in zip(clusters[:n_clust_show+1], lens):\n",
    "            if clus_len < min_shown_size:# or cluster_i == -1:\n",
    "                continue\n",
    "            clus_siz = np.sum(self.labels==cluster_i)\n",
    "            #print('\\n{} verbs. id: {}\\n'.format(clus_siz, int(cluster_i)))\n",
    "            print((clus_siz, [self.index['stem'].inverse[i] for i in np.where(self.labels==cluster_i)[0][:9]]))\n",
    "        print('\\n{}'.format(header))\n",
    "    \n",
    "    def main(self):\n",
    "        self.do_cluster()\n",
    "        self.show_clustering()"
   ]
  },
  {
   "cell_type": "code",
   "execution_count": 58,
   "metadata": {},
   "outputs": [
    {
     "name": "stderr",
     "output_type": "stream",
     "text": [
      "DEBUG    [13] (976, 433, 383)\n",
      "INFO     [43] ['ad' 'akar' 'alakít' 'alkalmaz' 'alkot' 'aláhúz' 'alátámaszt' 'aláír'\n",
      " 'arat' 'bebizonyít']\n",
      "DEBUG    [2515] update_title_pos\n",
      "DEBUG    [2515] update_title_pos\n"
     ]
    },
    {
     "name": "stdout",
     "output_type": "stream",
     "text": [
      "20 clusters, entropy=en, sizes: 5 6 6 6 6 8 12 13 13 13 14 15 15 16 23 23 25 27 63 124\n",
      "(5, ['tilt', 'tesz', 'szól', 'megfog', 'javul'])\n",
      "(6, ['megszüntet', 'indít', 'folytat', 'vádol', 'elrendel', 'megkezd'])\n",
      "(6, ['megközelít', 'megszerez', 'elérik', 'meghalad', 'kitesz', 'kerül'])\n",
      "(6, ['kiderít', 'vesz', 'letartóztat', 'vizsgál', 'keres', 'elfog'])\n",
      "(6, ['felkér', 'kér', 'megnyugtat', 'megkérdez', 'megillet', 'kérdez'])\n",
      "(8, ['használ', 'felismer', 'megnéz', 'megszokik', 'elfelejt', 'megért', 'elképzel', 'megérez'])\n",
      "(12, ['hisz', 'megerősít', 'mesél', 'képzel', 'indokol', 'betesz', 'szerez', 'említ', 'visszavon'])\n",
      "(13, ['megítél', 'talál', 'megbocsát', 'teremtetik', 'teremtet', 'áld', 'megáld', 'éltet', 'teremt'])\n",
      "(13, ['tárgyal', 'rögzít', 'megvizsgál', 'megszab', 'tartalmaz', 'megalkot', 'megtárgyal', 'előír', 'meghatároz'])\n",
      "(13, ['felvet', 'jelenik', 'igazol', 'eredményez', 'céloz', 'képez', 'bemond', 'továbbít', 'megtérít'])\n",
      "(14, ['feltesz', 'támogat', 'foglal', 'szavazat', 'bocsát', 'megszavaz', 'véleményez', 'alkot', 'aláír'])\n",
      "(15, ['nevez', 'fog', 'olvas', 'hirdet', 'hoz', 'kíván', 'megváltoztat', 'kezd', 'tart'])\n",
      "(15, ['segél', 'fordul', 'visel', 'alakít', 'megakadályoz', 'átad', 'kifejt', 'elmond', 'megtilt'])\n",
      "(16, ['hagy', 'felel', 'forgalmaz', 'vár', 'köszön', 'csinál', 'szállít', 'befizet', 'veszik'])\n",
      "(23, ['tájékoztat', 'megtud', 'biztosít', 'megráz', 'nyilatkozik', 'állít', 'választ', 'tudat', 'kiad'])\n",
      "(23, ['szolgál', 'bevall', 'kötelez', 'bán', 'bánik', 'bír', 'magyaráz', 'elutasít', 'sért'])\n",
      "(25, ['kipróbál', 'figyel', 'észrevesz', 'megkövetel', 'felfog', 'próbál', 'megművel', 'beér', 'követ'])\n",
      "(27, ['gondol', 'vitat', 'foglalkoztat', 'hall', 'megígér', 'kivesz', 'ismertet', 'sejt', 'hallik'])\n",
      "(63, ['jelez', 'kimutat', 'ismer', 'érik', 'feltár', 'kifogásol', 'fordít', 'megmond', 'fizet'])\n",
      "(124, ['él', 'ismétel', 'esik', 'felhív', 'felemel', 'felajánl', 'kikiált', 'kegyel', 'szervez'])\n",
      "\n",
      "20 clusters, entropy=en, sizes: 5 6 6 6 6 8 12 13 13 13 14 15 15 16 23 23 25 27 63 124\n"
     ]
    },
    {
     "name": "stderr",
     "output_type": "stream",
     "text": [
      "DEBUG    [2515] update_title_pos\n",
      "DEBUG    [2515] update_title_pos\n",
      "DEBUG    [2515] update_title_pos\n"
     ]
    },
    {
     "data": {
      "image/png": "[encoded data removed]",
      "text/plain": [
       "<Figure size 864x576 with 1 Axes>"
      ]
     },
     "metadata": {
      "needs_background": "light"
     },
     "output_type": "display_data"
    }
   ],
   "source": [
    "ClusterVerbs().main()"
   ]
  }
 ],
 "metadata": {
  "kernelspec": {
   "display_name": "Python 3",
   "language": "python",
   "name": "python3"
  },
  "language_info": {
   "codemirror_mode": {
    "name": "ipython",
    "version": 3
   },
   "file_extension": ".py",
   "mimetype": "text/x-python",
   "name": "python",
   "nbconvert_exporter": "python",
   "pygments_lexer": "ipython3",
   "version": "3.7.1"
  }
 },
 "nbformat": 4,
 "nbformat_minor": 2
}
