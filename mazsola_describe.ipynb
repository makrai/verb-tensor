{
 "cells": [
  {
   "cell_type": "code",
   "execution_count": 1,
   "metadata": {},
   "outputs": [
    {
     "name": "stderr",
     "output_type": "stream",
     "text": [
      "/home/makrai/tool/python/miniconda3/lib/python3.7/site-packages/IPython/core/magics/pylab.py:160: UserWarning: pylab import has clobbered these variables: ['entropy', 'random']\n",
      "`%matplotlib` prevents importing * from pylab and numpy\n",
      "  \"\\n`%matplotlib` prevents importing * from pylab and numpy\"\n",
      "DEBUG    [211] Loaded backend module://ipykernel.pylab.backend_inline version unknown.\n"
     ]
    },
    {
     "name": "stdout",
     "output_type": "stream",
     "text": [
      "Populating the interactive namespace from numpy and matplotlib\n"
     ]
    }
   ],
   "source": [
    "import itertools\n",
    "import numbers\n",
    "import os.path\n",
    "import pickle\n",
    "import random\n",
    "\n",
    "import numpy as np\n",
    "from scipy.stats import entropy\n",
    "import pandas as pd\n",
    "\n",
    "import matplotlib.pyplot as plt\n",
    "%pylab inline\n",
    "pylab.rcParams['figure.figsize'] = (10, 6)\n",
    "\n",
    "import logging\n",
    "logging.basicConfig(level=logging.DEBUG, format='%(levelname)-8s [%(lineno)d] %(message)s')"
   ]
  },
  {
   "cell_type": "code",
   "execution_count": 2,
   "metadata": {},
   "outputs": [],
   "source": [
    "mazsola = pickle.load(open(\n",
    "    '/mnt/permanent/Language/Hungarian/Dic/sass15-535k-igei-szerkezet/mazsola_adatbazis-1.0.pkl',\n",
    "    mode='rb'))"
   ]
  },
  {
   "cell_type": "markdown",
   "metadata": {},
   "source": [
    "# Describe"
   ]
  },
  {
   "cell_type": "code",
   "execution_count": 3,
   "metadata": {},
   "outputs": [],
   "source": [
    "def column_entropy(name):\n",
    "    vals = mazsola.groupby(name).size().values\n",
    "    vals += [mazsola[name].isna().sum()]\n",
    "    #logging.debug((name, vals))\n",
    "    return entropy(vals)"
   ]
  },
  {
   "cell_type": "code",
   "execution_count": 4,
   "metadata": {},
   "outputs": [
    {
     "name": "stdout",
     "output_type": "stream",
     "text": [
      "CPU times: user 8min 23s, sys: 1min 24s, total: 9min 48s\n",
      "Wall time: 9min 48s\n"
     ]
    }
   ],
   "source": [
    "%time names = sorted(mazsola.columns, key=column_entropy, reverse=True)"
   ]
  },
  {
   "cell_type": "code",
   "execution_count": 123,
   "metadata": {},
   "outputs": [
    {
     "data": {
      "text/html": [
       "<div>\n",
       "<style scoped>\n",
       "    .dataframe tbody tr th:only-of-type {\n",
       "        vertical-align: middle;\n",
       "    }\n",
       "\n",
       "    .dataframe tbody tr th {\n",
       "        vertical-align: top;\n",
       "    }\n",
       "\n",
       "    .dataframe thead th {\n",
       "        text-align: right;\n",
       "    }\n",
       "</style>\n",
       "<table border=\"1\" class=\"dataframe\">\n",
       "  <thead>\n",
       "    <tr style=\"text-align: right;\">\n",
       "      <th></th>\n",
       "      <th>NOM</th>\n",
       "      <th>ACC</th>\n",
       "      <th>INS</th>\n",
       "      <th>DAT</th>\n",
       "      <th>SUB</th>\n",
       "      <th>INE</th>\n",
       "      <th>SUP</th>\n",
       "      <th>DEL</th>\n",
       "      <th>ELA</th>\n",
       "      <th>ALL</th>\n",
       "      <th>ILL</th>\n",
       "      <th>ABL</th>\n",
       "      <th>ADE</th>\n",
       "      <th>után</th>\n",
       "      <th>FOR</th>\n",
       "    </tr>\n",
       "  </thead>\n",
       "  <tbody>\n",
       "    <tr>\n",
       "      <th>522638</th>\n",
       "      <td>felbecsülhetetlen</td>\n",
       "      <td>NaN</td>\n",
       "      <td>NaN</td>\n",
       "      <td>NaN</td>\n",
       "      <td>NaN</td>\n",
       "      <td>NaN</td>\n",
       "      <td>NaN</td>\n",
       "      <td>NaN</td>\n",
       "      <td>NaN</td>\n",
       "      <td>NaN</td>\n",
       "      <td>NaN</td>\n",
       "      <td>NaN</td>\n",
       "      <td>NaN</td>\n",
       "      <td>NaN</td>\n",
       "      <td>NaN</td>\n",
       "    </tr>\n",
       "  </tbody>\n",
       "</table>\n",
       "</div>"
      ],
      "text/plain": [
       "                      NOM  ACC  INS  DAT  SUB  INE  SUP  DEL  ELA  ALL  ILL  \\\n",
       "522638  felbecsülhetetlen  NaN  NaN  NaN  NaN  NaN  NaN  NaN  NaN  NaN  NaN   \n",
       "\n",
       "        ABL  ADE után  FOR  \n",
       "522638  NaN  NaN  NaN  NaN  "
      ]
     },
     "execution_count": 123,
     "metadata": {},
     "output_type": "execute_result"
    }
   ],
   "source": [
    "mazsola.sample()[names[:15]]"
   ]
  },
  {
   "cell_type": "code",
   "execution_count": 8,
   "metadata": {},
   "outputs": [
    {
     "data": {
      "text/html": [
       "<div>\n",
       "<style scoped>\n",
       "    .dataframe tbody tr th:only-of-type {\n",
       "        vertical-align: middle;\n",
       "    }\n",
       "\n",
       "    .dataframe tbody tr th {\n",
       "        vertical-align: top;\n",
       "    }\n",
       "\n",
       "    .dataframe thead th {\n",
       "        text-align: right;\n",
       "    }\n",
       "</style>\n",
       "<table border=\"1\" class=\"dataframe\">\n",
       "  <thead>\n",
       "    <tr style=\"text-align: right;\">\n",
       "      <th></th>\n",
       "      <th>NOM</th>\n",
       "      <th>ACC</th>\n",
       "      <th>INS</th>\n",
       "      <th>DAT</th>\n",
       "      <th>SUB</th>\n",
       "      <th>INE</th>\n",
       "      <th>SUP</th>\n",
       "      <th>DEL</th>\n",
       "      <th>ELA</th>\n",
       "      <th>ALL</th>\n",
       "      <th>ILL</th>\n",
       "      <th>ABL</th>\n",
       "      <th>ADE</th>\n",
       "      <th>után</th>\n",
       "      <th>FOR</th>\n",
       "    </tr>\n",
       "  </thead>\n",
       "  <tbody>\n",
       "    <tr>\n",
       "      <th>count</th>\n",
       "      <td>16724007</td>\n",
       "      <td>10908900</td>\n",
       "      <td>2139300</td>\n",
       "      <td>1714663</td>\n",
       "      <td>2097838</td>\n",
       "      <td>3030171</td>\n",
       "      <td>2024586</td>\n",
       "      <td>800642</td>\n",
       "      <td>633013</td>\n",
       "      <td>571568</td>\n",
       "      <td>802894</td>\n",
       "      <td>494922</td>\n",
       "      <td>318894</td>\n",
       "      <td>222024</td>\n",
       "      <td>205977</td>\n",
       "    </tr>\n",
       "    <tr>\n",
       "      <th>unique</th>\n",
       "      <td>382994</td>\n",
       "      <td>200337</td>\n",
       "      <td>97785</td>\n",
       "      <td>82058</td>\n",
       "      <td>81529</td>\n",
       "      <td>76808</td>\n",
       "      <td>51417</td>\n",
       "      <td>48231</td>\n",
       "      <td>45017</td>\n",
       "      <td>43833</td>\n",
       "      <td>38144</td>\n",
       "      <td>38098</td>\n",
       "      <td>27810</td>\n",
       "      <td>22711</td>\n",
       "      <td>22128</td>\n",
       "    </tr>\n",
       "    <tr>\n",
       "      <th>top</th>\n",
       "      <td>aki</td>\n",
       "      <td>NULL</td>\n",
       "      <td>ez</td>\n",
       "      <td>az</td>\n",
       "      <td>az</td>\n",
       "      <td>év</td>\n",
       "      <td>alapPOSS</td>\n",
       "      <td>az</td>\n",
       "      <td>ez</td>\n",
       "      <td>az</td>\n",
       "      <td>figyelem</td>\n",
       "      <td>az</td>\n",
       "      <td>mi</td>\n",
       "      <td>ez</td>\n",
       "      <td>eredményPOSS</td>\n",
       "    </tr>\n",
       "    <tr>\n",
       "      <th>freq</th>\n",
       "      <td>227679</td>\n",
       "      <td>2562438</td>\n",
       "      <td>70383</td>\n",
       "      <td>66588</td>\n",
       "      <td>170742</td>\n",
       "      <td>56966</td>\n",
       "      <td>80795</td>\n",
       "      <td>94319</td>\n",
       "      <td>27084</td>\n",
       "      <td>37204</td>\n",
       "      <td>25000</td>\n",
       "      <td>32224</td>\n",
       "      <td>22541</td>\n",
       "      <td>7472</td>\n",
       "      <td>7405</td>\n",
       "    </tr>\n",
       "  </tbody>\n",
       "</table>\n",
       "</div>"
      ],
      "text/plain": [
       "             NOM       ACC      INS      DAT      SUB      INE       SUP  \\\n",
       "count   16724007  10908900  2139300  1714663  2097838  3030171   2024586   \n",
       "unique    382994    200337    97785    82058    81529    76808     51417   \n",
       "top          aki      NULL       ez       az       az       év  alapPOSS   \n",
       "freq      227679   2562438    70383    66588   170742    56966     80795   \n",
       "\n",
       "           DEL     ELA     ALL       ILL     ABL     ADE    után           FOR  \n",
       "count   800642  633013  571568    802894  494922  318894  222024        205977  \n",
       "unique   48231   45017   43833     38144   38098   27810   22711         22128  \n",
       "top         az      ez      az  figyelem      az      mi      ez  eredményPOSS  \n",
       "freq     94319   27084   37204     25000   32224   22541    7472          7405  "
      ]
     },
     "execution_count": 8,
     "metadata": {},
     "output_type": "execute_result"
    }
   ],
   "source": [
    "mazsola[names[:15]].describe()"
   ]
  }
 ],
 "metadata": {
  "kernelspec": {
   "display_name": "Python 3",
   "language": "python",
   "name": "python3"
  },
  "language_info": {
   "codemirror_mode": {
    "name": "ipython",
    "version": 3
   },
   "file_extension": ".py",
   "mimetype": "text/x-python",
   "name": "python",
   "nbconvert_exporter": "python",
   "pygments_lexer": "ipython3",
   "version": "3.7.1"
  }
 },
 "nbformat": 4,
 "nbformat_minor": 2
}
