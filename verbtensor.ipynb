{
 "cells": [
  {
   "cell_type": "code",
   "execution_count": 80,
   "metadata": {},
   "outputs": [],
   "source": [
    "from collections import defaultdict\n",
    "import logging\n",
    "logging.basicConfig(level=logging.DEBUG, \n",
    "                    format='%(asctime)s,%(msecs)d %(levelname)-8s [%(lineno)d] %(message)s')\n",
    "import operator\n",
    "import re\n",
    "\n",
    "import numpy as np\n",
    "import sparse\n",
    "import tensorly as tl\n",
    "import tensorly.decomposition as decomp\n",
    "import pandas as pd"
   ]
  },
  {
   "cell_type": "code",
   "execution_count": 2,
   "metadata": {
    "collapsed": true
   },
   "outputs": [],
   "source": [
    "def mazsola_reader():\n",
    "    path = '/mnt/permanent/Language/Hungarian/Dic/sass15-535k-igei-szerkezet/mazsola_adatbazis.txt'\n",
    "    occurrence = defaultdict(int)#lambda: defaultdict(lambda: defaultdict(int)))\n",
    "    margianl_s, margianl_v, margianl_o = defaultdict(int), defaultdict(int), defaultdict(int)\n",
    "    with open(path) as infile:\n",
    "        for i, line in enumerate(infile):\n",
    "            if not i % 500000:\n",
    "                logging.info('{:.0%}'.format(i/27970403))\n",
    "            record = defaultdict(str)\n",
    "            for token in line.strip().split():\n",
    "                case_stem = re.split('@@', token)\n",
    "                if len(case_stem) == 1:\n",
    "                    continue\n",
    "                try:\n",
    "                    case, stem = case_stem\n",
    "                except:\n",
    "                    logging.warning(line.strip())\n",
    "                    break\n",
    "                record[case] = stem\n",
    "            occurrence[record['NOM'], record['stem'], record['ACC']] += 1\n",
    "            margianl_s[record['NOM']] += 1\n",
    "            margianl_v[record['stem']] += 1\n",
    "            margianl_o[record['ACC']] += 1\n",
    "    return occurrence, [margianl_s, margianl_v, margianl_o]"
   ]
  },
  {
   "cell_type": "code",
   "execution_count": 3,
   "metadata": {},
   "outputs": [
    {
     "name": "stderr",
     "output_type": "stream",
     "text": [
      "2018-10-01 15:28:26,283,283 INFO     [8] 0%\n",
      "2018-10-01 15:28:33,047,47 INFO     [8] 2%\n",
      "2018-10-01 15:28:41,883,883 INFO     [8] 4%\n",
      "2018-10-01 15:28:52,518,518 INFO     [8] 5%\n",
      "2018-10-01 15:28:59,806,806 INFO     [8] 7%\n",
      "2018-10-01 15:29:06,157,157 WARNING  [17] a k ... @@@@@ i ... b ... @@@ meg . stem@@megnull NOM@@B\n",
      "2018-10-01 15:29:09,982,982 INFO     [8] 9%\n",
      "2018-10-01 15:29:19,780,780 INFO     [8] 11%\n",
      "2018-10-01 15:29:28,996,996 INFO     [8] 13%\n",
      "2018-10-01 15:29:36,873,873 INFO     [8] 14%\n",
      "2018-10-01 15:29:45,987,987 INFO     [8] 16%\n",
      "2018-10-01 15:29:54,342,342 INFO     [8] 18%\n",
      "2018-10-01 15:30:01,677,677 INFO     [8] 20%\n",
      "2018-10-01 15:30:08,302,302 INFO     [8] 21%\n",
      "2018-10-01 15:30:15,395,395 INFO     [8] 23%\n",
      "2018-10-01 15:30:21,652,652 INFO     [8] 25%\n",
      "2018-10-01 15:30:26,993,993 INFO     [8] 27%\n",
      "2018-10-01 15:30:32,415,415 INFO     [8] 29%\n",
      "2018-10-01 15:30:36,946,946 INFO     [8] 30%\n",
      "2018-10-01 15:30:42,380,380 INFO     [8] 32%\n",
      "2018-10-01 15:30:48,424,424 INFO     [8] 34%\n",
      "2018-10-01 15:30:52,942,942 INFO     [8] 36%\n",
      "2018-10-01 15:30:58,174,174 INFO     [8] 38%\n",
      "2018-10-01 15:31:03,133,133 INFO     [8] 39%\n",
      "2018-10-01 15:31:08,136,136 INFO     [8] 41%\n",
      "2018-10-01 15:31:14,012,12 INFO     [8] 43%\n",
      "2018-10-01 15:31:20,293,293 INFO     [8] 45%\n",
      "2018-10-01 15:31:21,798,798 WARNING  [17] . . . . . . &gt; ..*@#################### ########################* &raquo; . . . . &gt; ***** &gt; * &gt; ** &gt; . . . . . . . . . . . . . &gt; @#################### ########################* &raquo; . &raquo; . . . . . . &raquo; . . . . . . . . . . &raquo; ...%#################### ########################% . &gt; . . . . . . . &gt; oo%%@@o@%%o &gt; . . . . . . &raquo; . . . . &gt; @################### ########################@ &raquo; . &raquo; *@@@%%%o%%o%* &raquo; . . . . &raquo; . . . . &gt; *@################## ######################### &gt; . . . . &raquo; *%@@@@%@@@@o &gt; . . . . . &raquo; . . . . . .*%@################## stem@@NULL\n",
      "2018-10-01 15:31:21,798,798 WARNING  [17] . . . . . . &gt; ..*@#################### ########################* &raquo; . . . . &gt; ***** &gt; * &gt; ** &gt; . . . . . . . . . . . . . &gt; @#################### ########################* &raquo; . &raquo; . . . . . . &raquo; . . . . . . . . . . &raquo; ...%#################### ########################% . &gt; . . . . . . . &gt; oo%%@@o@%%o &gt; . . . . . . &raquo; . . . . &gt; @################### ########################@ &raquo; . &raquo; *@@@%%%o%%o%* &raquo; . . . . &raquo; . . . . &gt; *@################## ######################### &gt; . . . . &raquo; *%@@@@%@@@@o &gt; . . . . . &raquo; . . . . . .*%@################## stem@@NULL\n",
      "2018-10-01 15:31:25,279,279 INFO     [8] 46%\n",
      "2018-10-01 15:31:30,015,15 INFO     [8] 48%\n",
      "2018-10-01 15:31:31,032,32 WARNING  [17] Hasogat a nicknamem ! meg egyébként is WWKJHHGGDTSKHJJ ! ! ! @@@@ ) ) ) stem@@hasogat\n",
      "2018-10-01 15:31:34,883,883 INFO     [8] 50%\n",
      "2018-10-01 15:31:41,334,334 INFO     [8] 52%\n",
      "2018-10-01 15:31:50,518,518 INFO     [8] 54%\n",
      "2018-10-01 15:31:56,533,533 INFO     [8] 55%\n",
      "2018-10-01 15:32:02,304,304 INFO     [8] 57%\n",
      "2018-10-01 15:32:08,180,180 INFO     [8] 59%\n",
      "2018-10-01 15:32:14,359,359 INFO     [8] 61%\n",
      "2018-10-01 15:32:20,061,61 INFO     [8] 63%\n",
      "2018-10-01 15:32:24,465,465 INFO     [8] 64%\n",
      "2018-10-01 15:32:29,821,821 INFO     [8] 66%\n",
      "2018-10-01 15:32:34,125,125 INFO     [8] 68%\n",
      "2018-10-01 15:32:38,640,640 INFO     [8] 70%\n",
      "2018-10-01 15:32:43,660,660 INFO     [8] 72%\n",
      "2018-10-01 15:32:48,488,488 INFO     [8] 73%\n",
      "2018-10-01 15:32:53,007,7 INFO     [8] 75%\n",
      "2018-10-01 15:32:57,518,518 INFO     [8] 77%\n",
      "2018-10-01 15:33:01,965,965 INFO     [8] 79%\n",
      "2018-10-01 15:33:04,958,958 WARNING  [17] Namegegyszer ************** &raquo; * &gt; ** &raquo; * &raquo; * &raquo; ********************** ************** &raquo; * &raquo; *** &gt; ** &raquo; ** &raquo; *** &raquo; *************** *********** &raquo; * &raquo; * &gt; ********oo%@##@@%oo*** &gt; * &raquo; *** &raquo; **************** ******** &raquo; ** &gt; * &raquo; * &gt; ***o%@####################@@o &raquo; ** &raquo; * &raquo; * &gt; * &raquo; ********** ******* &raquo; **o@@##########################@%o* &gt; ** &raquo; * &gt; * &raquo; ********* **** &gt; ** &raquo; **@#################################@%** &raquo; * &raquo; ******* ** &raquo; *o@####################################@** &raquo; * &raquo; ****** &raquo; *@#######################################@@o &raquo; * &raquo; o##########################################@* &raquo; * &raquo; * &raquo; &raquo; @############################################%** &raquo; &raquo; *@#############################################oo &raquo; * &raquo; &raquo; *o##############################################@@ &raquo; &raquo; *@#########@@@@@@@@@%@#@#######@#@##############@@* &raquo; &raquo; @#########%%oo*** &raquo; *ooo**ooooooooo%@############* &raquo; &raquo; *@#########%oo*** &raquo; . &raquo; ***o%%@@#########@ &raquo; &raquo; o#########@%o**** &raquo; . &raquo; **oo%%@@#########* &raquo; &raquo; *%##########%o*** &raquo; **oo%@@#########* &raquo; &raquo; . &raquo; .. &gt; o#########@o**** &raquo; **oo%@@########%* &raquo; &raquo; . . . . . . . . . &raquo; @########@o*** &raquo; .. &raquo; **oo%%@########%* &raquo; &raquo; . . . . &gt; . . . . . . &gt; %#######@%oo***** &raquo; . . . . . . &raquo; ***oo%%@######@@o** &gt; . &raquo; &raquo; . . . . . . . . . . . &gt; @#######%o%@@@@%@@@@%o* &raquo; *%%%@@@@@@@%@######%%* &raquo; . &raquo; . . . . . . . . . . . . . .o@%@##@@%oo%%%oooo%@%%%o* &raquo; *%@%%@%oo%%@@@@@@###@*o* &raquo; . . . . . . . . &raquo; . . . . . . . . . . . . . . &gt; ooo%@%o%%%o%@@@@#@%%%@%%o%%%@%%%#@@@@@%%@@@#@o*** &raquo; ... &gt; . &raquo; . &raquo; . &raquo; . . . . . . . . . . . . . . . &gt; **ooooo%%%oooooo%%%%%%%*oo@@@%%%%%oo%%%o%%o* &raquo; . . . . . . . . . . . . &raquo; . . . . . . . . . . ' . stem@@NULL\n",
      "2018-10-01 15:33:06,096,96 INFO     [8] 80%\n",
      "2018-10-01 15:33:09,968,968 INFO     [8] 82%\n",
      "2018-10-01 15:33:12,537,537 WARNING  [17] '''''''''''%@#########%***ooooo%%@@@@@@@@%@@%%%%%o* . &raquo; **%############@* &raquo; . &raquo; . &gt; ''''' '.o@############%o &raquo; oo***oo%%%%%%%%%%%oooo &gt; ... &raquo; * &gt; *@###############@%o .. &gt; ''''*##################o &raquo; .. &raquo; ******ooooooo***** . stem@@NULL\n",
      "2018-10-01 15:33:12,538,538 WARNING  [17] '''''''''''%@#########%***ooooo%%@@@@@@@@%@@%%%%%o* . &raquo; **%############@* &raquo; . &raquo; . &gt; ''''' '.o@############%o &raquo; oo***oo%%%%%%%%%%%oooo &gt; ... &raquo; * &gt; *@###############@%o .. &gt; ''''*##################o &raquo; .. &raquo; ******ooooooo***** . stem@@NULL\n",
      "2018-10-01 15:33:14,185,185 INFO     [8] 84%\n",
      "2018-10-01 15:33:14,491,491 WARNING  [17] Összezavarodtam.@@@@@@@@@@@@@@@@@@@@@@@@@@@@@@ewkuchq8tvyzfdlkutyn34czty784ya8o7sdo87v ; stem@@NULL\n",
      "2018-10-01 15:33:18,293,293 WARNING  [17] ************** &raquo; * &gt; ** &raquo; * &raquo; * &raquo; ********************** ************** &raquo; * &raquo; *** &gt; ** &raquo; ** &raquo; *** &raquo; *************** *********** &raquo; * &raquo; * &gt; ********oo%@##@@%oo*** &gt; * &raquo; *** &raquo; **************** ******** &raquo; ** &gt; * &raquo; * &gt; ***o%@####################@@o &raquo; ** &raquo; * &raquo; * &gt; * &raquo; ********** ******* &raquo; **o@@##########################@%o* &gt; ** &raquo; * &gt; * &raquo; ********* **** &gt; ** &raquo; **@#################################@%** &raquo; * &raquo; ******* ** &raquo; *o@####################################@** &raquo; * &raquo; ****** &raquo; *@#######################################@@o &raquo; * &raquo; o##########################################@* &raquo; * &raquo; * &raquo; &raquo; @############################################%** &raquo; &raquo; *@#############################################oo &raquo; * &raquo; &raquo; *o##############################################@@ &raquo; &raquo; *@#########@@@@@@@@@%@#@#######@#@##############@@* &raquo; &raquo; @#########%%oo*** &raquo; *ooo**ooooooooo%@############* &raquo; &raquo; *@#########%oo*** &raquo; . &raquo; ***o%%@@#########@ &raquo; &raquo; o#########@%o**** &raquo; . &raquo; **oo%%@@#########* &raquo; &raquo; *%##########%o*** &raquo; **oo%@@#########* &raquo; &raquo; . &raquo; .. &gt; o#########@o**** &raquo; **oo%@@########%* &raquo; &raquo; . . . . . . . . . &raquo; @########@o*** &raquo; .. &raquo; **oo%%@########%* &raquo; &raquo; . . . . &gt; . . . . . . &gt; %#######@%oo***** &raquo; . . . . . . &raquo; ***oo%%@######@@o** &gt; . &raquo; &raquo; . . . . . . . . . . . &gt; @#######%o%@@@@%@@@@%o* &raquo; *%%%@@@@@@@%@######%%* &raquo; . &raquo; . . . . . . . . . . . . . .o@%@##@@%oo%%%oooo%@%%%o* &raquo; *%@%%@%oo%%@@@@@@###@*o* &raquo; . . . . . . . . &raquo; . . . . . . . . . . . . . . &gt; ooo%@%o%%%o%@@@@#@%%%@%%o%%%@%%%#@@@@@%%@@@#@o*** &raquo; ... &gt; . &raquo; . &raquo; . &raquo; . . . . . . . . . . . . . . . &gt; **ooooo%%%oooooo%%%%%%%*oo@@@%%%%%oo%%%o%%o* &raquo; . . . . . . . . . . . . &raquo; . . . . . . . . . . ' . stem@@NULL\n"
     ]
    },
    {
     "name": "stderr",
     "output_type": "stream",
     "text": [
      "2018-10-01 15:33:18,530,530 INFO     [8] 86%\n",
      "2018-10-01 15:33:23,076,76 INFO     [8] 88%\n",
      "2018-10-01 15:33:27,715,715 INFO     [8] 89%\n",
      "2018-10-01 15:33:28,494,494 WARNING  [17] . . . . . . . . . . . . . . . . . . . @@@@@@@@@@@@@@@@@@@@@@@@@@@@@@@@@@@@@@@@@@@@@ stem@@NULL\n",
      "2018-10-01 15:33:28,711,711 WARNING  [17] @@@@@@@ : stem@@NULL\n",
      "2018-10-01 15:33:28,712,712 WARNING  [17] @@@@@@@ : stem@@NULL\n",
      "2018-10-01 15:33:29,149,149 INFO     [8] 91%\n",
      "2018-10-01 15:33:33,446,446 INFO     [8] 93%\n",
      "2018-10-01 15:33:37,650,650 INFO     [8] 95%\n",
      "2018-10-01 15:33:41,718,718 INFO     [8] 97%\n",
      "2018-10-01 15:33:46,479,479 INFO     [8] 98%\n"
     ]
    }
   ],
   "source": [
    "occurrence, marginals = mazsola_reader()"
   ]
  },
  {
   "cell_type": "code",
   "execution_count": 117,
   "metadata": {},
   "outputs": [],
   "source": [
    "def coords_data(occurrence, cutoff=500):\n",
    "    def get_index(freq_dict):\n",
    "        items = sorted(filter(lambda item: item[1] >= cutoff, freq_dict.items()), key=operator.itemgetter(1), \n",
    "                       reverse=True)\n",
    "        logging.debug(items[-10:])\n",
    "        return dict([(w, i) for i, (w, f) in enumerate(items)])\n",
    "\n",
    "    coords, data = [[], [], []], []\n",
    "    indices = [get_index(fd) for fd in marginals]\n",
    "    logging.info('Pupulating lists...')\n",
    "    for i, ((svo), freq) in enumerate(occurrence.items()):\n",
    "        if not i % 2000000:\n",
    "            logging.debug(i)#'{} {}'.format(svo[1], freq))\n",
    "        for i, word in enumerate(svo):\n",
    "            if svo[i] not in indices[i]:\n",
    "                break\n",
    "        else:\n",
    "            for i, word in enumerate(svo):\n",
    "                coords[i].append(indices[i][svo[i]])\n",
    "            data.append(freq)\n",
    "    logging.info('Creating array')\n",
    "    shape = tuple(map(len, indices))\n",
    "    logging.info(shape)\n",
    "    logging.debug(coords[0][:10])\n",
    "    tensor = sparse.COO(coords, data, shape=shape)#, has_duplicates=False)\n",
    "    logging.info(tensor)\n",
    "    return tensor"
   ]
  },
  {
   "cell_type": "code",
   "execution_count": 118,
   "metadata": {},
   "outputs": [
    {
     "name": "stderr",
     "output_type": "stream",
     "text": [
      "2018-10-01 16:48:16,879,879 DEBUG    [5] [('éj', 501), ('pasas', 501), ('összességPOSS', 501), ('szennyezés', 501), ('zenekarPOSS', 500), ('igazgatóhelyettesPOSS', 500), ('matematikus', 500), ('készlet', 500), ('műsorvezető', 500), ('70.', 500)]\n",
      "2018-10-01 16:48:16,938,938 DEBUG    [5] [('előremegy', 502), ('helytelenít', 502), ('győzköd', 501), ('leselkedik', 501), ('költöztet', 501), ('elég', 500), ('túlszárnyal', 500), ('tudakol', 500), ('megsejt', 500), ('fej', 500)]\n",
      "2018-10-01 16:48:17,010,10 DEBUG    [5] [('végkielégítés', 503), ('működés', 503), ('angol', 502), ('Jugoszlávia', 502), ('kis', 502), ('időszakPOSS', 501), ('integráció', 501), ('lánc', 501), ('ez--az', 500), ('mozi', 500)]\n",
      "2018-10-01 16:48:17,012,12 INFO     [10] Pupulating lists...\n",
      "2018-10-01 16:48:17,013,13 DEBUG    [13] 0\n",
      "2018-10-01 16:48:20,203,203 DEBUG    [13] 2000000\n",
      "2018-10-01 16:48:23,926,926 DEBUG    [13] 4000000\n",
      "2018-10-01 16:48:27,913,913 DEBUG    [13] 6000000\n",
      "2018-10-01 16:48:31,035,35 INFO     [21] Creating array\n",
      "2018-10-01 16:48:31,035,35 INFO     [23] (4706, 3311, 2219)\n",
      "2018-10-01 16:48:31,036,36 DEBUG    [24] [0, 1111, 3512, 718, 206, 466, 3835, 251, 0, 228]\n",
      "2018-10-01 16:48:31,545,545 INFO     [26] <COO: shape=(4706, 3311, 2219), dtype=int64, nnz=3158010, sorted=False, duplicates=True>\n"
     ]
    }
   ],
   "source": [
    "vtensor = coords_data(occurrence)"
   ]
  },
  {
   "cell_type": "code",
   "execution_count": 112,
   "metadata": {},
   "outputs": [
    {
     "data": {
      "text/plain": [
       "<COO: shape=(2552, 2123, 1231), dtype=int64, nnz=2214019, sorted=False, duplicates=False>"
      ]
     },
     "execution_count": 112,
     "metadata": {},
     "output_type": "execute_result"
    }
   ],
   "source": [
    "vtensor"
   ]
  },
  {
   "cell_type": "code",
   "execution_count": 119,
   "metadata": {},
   "outputs": [
    {
     "ename": "MemoryError",
     "evalue": "",
     "output_type": "error",
     "traceback": [
      "\u001b[0;31m---------------------------------------------------------------------------\u001b[0m",
      "\u001b[0;31mTypeError\u001b[0m                                 Traceback (most recent call last)",
      "\u001b[0;32m~/tool/python/venv3/lib/python3.4/site-packages/numpy/core/fromnumeric.py\u001b[0m in \u001b[0;36m_wrapfunc\u001b[0;34m(obj, method, *args, **kwds)\u001b[0m\n\u001b[1;32m     50\u001b[0m     \u001b[0;32mtry\u001b[0m\u001b[0;34m:\u001b[0m\u001b[0;34m\u001b[0m\u001b[0m\n\u001b[0;32m---> 51\u001b[0;31m         \u001b[0;32mreturn\u001b[0m \u001b[0mgetattr\u001b[0m\u001b[0;34m(\u001b[0m\u001b[0mobj\u001b[0m\u001b[0;34m,\u001b[0m \u001b[0mmethod\u001b[0m\u001b[0;34m)\u001b[0m\u001b[0;34m(\u001b[0m\u001b[0;34m*\u001b[0m\u001b[0margs\u001b[0m\u001b[0;34m,\u001b[0m \u001b[0;34m**\u001b[0m\u001b[0mkwds\u001b[0m\u001b[0;34m)\u001b[0m\u001b[0;34m\u001b[0m\u001b[0m\n\u001b[0m\u001b[1;32m     52\u001b[0m \u001b[0;34m\u001b[0m\u001b[0m\n",
      "\u001b[0;31mTypeError\u001b[0m: reshape() got an unexpected keyword argument 'order'",
      "\nDuring handling of the above exception, another exception occurred:\n",
      "\u001b[0;31mMemoryError\u001b[0m                               Traceback (most recent call last)",
      "\u001b[0;32m<ipython-input-119-0c86e627840e>\u001b[0m in \u001b[0;36m<module>\u001b[0;34m()\u001b[0m\n\u001b[0;32m----> 1\u001b[0;31m \u001b[0mfactors\u001b[0m \u001b[0;34m=\u001b[0m \u001b[0mdecomp\u001b[0m\u001b[0;34m.\u001b[0m\u001b[0mparafac\u001b[0m\u001b[0;34m(\u001b[0m\u001b[0mvtensor\u001b[0m\u001b[0;34m,\u001b[0m \u001b[0mrank\u001b[0m\u001b[0;34m=\u001b[0m\u001b[0;36m2\u001b[0m\u001b[0;34m)\u001b[0m\u001b[0;34m\u001b[0m\u001b[0m\n\u001b[0m",
      "\u001b[0;32m~/tool/python/venv3/lib/python3.4/site-packages/tensorly/decomposition/candecomp_parafac.py\u001b[0m in \u001b[0;36mparafac\u001b[0;34m(tensor, rank, n_iter_max, init, tol, random_state, verbose)\u001b[0m\n\u001b[1;32m    140\u001b[0m        \u001b[0mSIAM\u001b[0m \u001b[0mREVIEW\u001b[0m\u001b[0;34m,\u001b[0m \u001b[0mvol\u001b[0m\u001b[0;34m.\u001b[0m \u001b[0;36m51\u001b[0m\u001b[0;34m,\u001b[0m \u001b[0mn\u001b[0m\u001b[0;34m.\u001b[0m \u001b[0;36m3\u001b[0m\u001b[0;34m,\u001b[0m \u001b[0mpp\u001b[0m\u001b[0;34m.\u001b[0m \u001b[0;36m455\u001b[0m\u001b[0;34m-\u001b[0m\u001b[0;36m500\u001b[0m\u001b[0;34m,\u001b[0m \u001b[0;36m2009.\u001b[0m\u001b[0;34m\u001b[0m\u001b[0m\n\u001b[1;32m    141\u001b[0m     \"\"\"\n\u001b[0;32m--> 142\u001b[0;31m     \u001b[0mfactors\u001b[0m \u001b[0;34m=\u001b[0m \u001b[0minitialize_factors\u001b[0m\u001b[0;34m(\u001b[0m\u001b[0mtensor\u001b[0m\u001b[0;34m,\u001b[0m \u001b[0mrank\u001b[0m\u001b[0;34m,\u001b[0m \u001b[0minit\u001b[0m\u001b[0;34m=\u001b[0m\u001b[0minit\u001b[0m\u001b[0;34m,\u001b[0m \u001b[0mrandom_state\u001b[0m\u001b[0;34m=\u001b[0m\u001b[0mrandom_state\u001b[0m\u001b[0;34m)\u001b[0m\u001b[0;34m\u001b[0m\u001b[0m\n\u001b[0m\u001b[1;32m    143\u001b[0m     \u001b[0mrec_errors\u001b[0m \u001b[0;34m=\u001b[0m \u001b[0;34m[\u001b[0m\u001b[0;34m]\u001b[0m\u001b[0;34m\u001b[0m\u001b[0m\n\u001b[1;32m    144\u001b[0m     \u001b[0mnorm_tensor\u001b[0m \u001b[0;34m=\u001b[0m \u001b[0mT\u001b[0m\u001b[0;34m.\u001b[0m\u001b[0mnorm\u001b[0m\u001b[0;34m(\u001b[0m\u001b[0mtensor\u001b[0m\u001b[0;34m,\u001b[0m \u001b[0;36m2\u001b[0m\u001b[0;34m)\u001b[0m\u001b[0;34m\u001b[0m\u001b[0m\n",
      "\u001b[0;32m~/tool/python/venv3/lib/python3.4/site-packages/tensorly/decomposition/candecomp_parafac.py\u001b[0m in \u001b[0;36minitialize_factors\u001b[0;34m(tensor, rank, init, random_state)\u001b[0m\n\u001b[1;32m     83\u001b[0m         \u001b[0mfactors\u001b[0m \u001b[0;34m=\u001b[0m \u001b[0;34m[\u001b[0m\u001b[0;34m]\u001b[0m\u001b[0;34m\u001b[0m\u001b[0m\n\u001b[1;32m     84\u001b[0m         \u001b[0;32mfor\u001b[0m \u001b[0mmode\u001b[0m \u001b[0;32min\u001b[0m \u001b[0mrange\u001b[0m\u001b[0;34m(\u001b[0m\u001b[0mT\u001b[0m\u001b[0;34m.\u001b[0m\u001b[0mndim\u001b[0m\u001b[0;34m(\u001b[0m\u001b[0mtensor\u001b[0m\u001b[0;34m)\u001b[0m\u001b[0;34m)\u001b[0m\u001b[0;34m:\u001b[0m\u001b[0;34m\u001b[0m\u001b[0m\n\u001b[0;32m---> 85\u001b[0;31m             \u001b[0mU\u001b[0m\u001b[0;34m,\u001b[0m \u001b[0m_\u001b[0m\u001b[0;34m,\u001b[0m \u001b[0m_\u001b[0m \u001b[0;34m=\u001b[0m \u001b[0mT\u001b[0m\u001b[0;34m.\u001b[0m\u001b[0mpartial_svd\u001b[0m\u001b[0;34m(\u001b[0m\u001b[0munfold\u001b[0m\u001b[0;34m(\u001b[0m\u001b[0mtensor\u001b[0m\u001b[0;34m,\u001b[0m \u001b[0mmode\u001b[0m\u001b[0;34m)\u001b[0m\u001b[0;34m,\u001b[0m \u001b[0mn_eigenvecs\u001b[0m\u001b[0;34m=\u001b[0m\u001b[0mrank\u001b[0m\u001b[0;34m)\u001b[0m\u001b[0;34m\u001b[0m\u001b[0m\n\u001b[0m\u001b[1;32m     86\u001b[0m \u001b[0;34m\u001b[0m\u001b[0m\n\u001b[1;32m     87\u001b[0m             \u001b[0;32mif\u001b[0m \u001b[0mtensor\u001b[0m\u001b[0;34m.\u001b[0m\u001b[0mshape\u001b[0m\u001b[0;34m[\u001b[0m\u001b[0mmode\u001b[0m\u001b[0;34m]\u001b[0m \u001b[0;34m<\u001b[0m \u001b[0mrank\u001b[0m\u001b[0;34m:\u001b[0m\u001b[0;34m\u001b[0m\u001b[0m\n",
      "\u001b[0;32m~/tool/python/venv3/lib/python3.4/site-packages/tensorly/base.py\u001b[0m in \u001b[0;36munfold\u001b[0;34m(tensor, mode)\u001b[0m\n\u001b[1;32m     49\u001b[0m         \u001b[0munfolded_tensor\u001b[0m \u001b[0mof\u001b[0m \u001b[0mshape\u001b[0m\u001b[0;31m \u001b[0m\u001b[0;31m`\u001b[0m\u001b[0;31m`\u001b[0m\u001b[0;34m(\u001b[0m\u001b[0mtensor\u001b[0m\u001b[0;34m.\u001b[0m\u001b[0mshape\u001b[0m\u001b[0;34m[\u001b[0m\u001b[0mmode\u001b[0m\u001b[0;34m]\u001b[0m\u001b[0;34m,\u001b[0m \u001b[0;34m-\u001b[0m\u001b[0;36m1\u001b[0m\u001b[0;34m)\u001b[0m\u001b[0;31m`\u001b[0m\u001b[0;31m`\u001b[0m\u001b[0;34m\u001b[0m\u001b[0m\n\u001b[1;32m     50\u001b[0m     \"\"\"\n\u001b[0;32m---> 51\u001b[0;31m     \u001b[0;32mreturn\u001b[0m \u001b[0mT\u001b[0m\u001b[0;34m.\u001b[0m\u001b[0mreshape\u001b[0m\u001b[0;34m(\u001b[0m\u001b[0mT\u001b[0m\u001b[0;34m.\u001b[0m\u001b[0mmoveaxis\u001b[0m\u001b[0;34m(\u001b[0m\u001b[0mtensor\u001b[0m\u001b[0;34m,\u001b[0m \u001b[0mmode\u001b[0m\u001b[0;34m,\u001b[0m \u001b[0;36m0\u001b[0m\u001b[0;34m)\u001b[0m\u001b[0;34m,\u001b[0m \u001b[0;34m(\u001b[0m\u001b[0mtensor\u001b[0m\u001b[0;34m.\u001b[0m\u001b[0mshape\u001b[0m\u001b[0;34m[\u001b[0m\u001b[0mmode\u001b[0m\u001b[0;34m]\u001b[0m\u001b[0;34m,\u001b[0m \u001b[0;34m-\u001b[0m\u001b[0;36m1\u001b[0m\u001b[0;34m)\u001b[0m\u001b[0;34m)\u001b[0m\u001b[0;34m\u001b[0m\u001b[0m\n\u001b[0m\u001b[1;32m     52\u001b[0m \u001b[0;34m\u001b[0m\u001b[0m\n\u001b[1;32m     53\u001b[0m \u001b[0;34m\u001b[0m\u001b[0m\n",
      "\u001b[0;32m~/tool/python/venv3/lib/python3.4/site-packages/numpy/core/fromnumeric.py\u001b[0m in \u001b[0;36mreshape\u001b[0;34m(a, newshape, order)\u001b[0m\n\u001b[1;32m    277\u001b[0m            [5, 6]])\n\u001b[1;32m    278\u001b[0m     \"\"\"\n\u001b[0;32m--> 279\u001b[0;31m     \u001b[0;32mreturn\u001b[0m \u001b[0m_wrapfunc\u001b[0m\u001b[0;34m(\u001b[0m\u001b[0ma\u001b[0m\u001b[0;34m,\u001b[0m \u001b[0;34m'reshape'\u001b[0m\u001b[0;34m,\u001b[0m \u001b[0mnewshape\u001b[0m\u001b[0;34m,\u001b[0m \u001b[0morder\u001b[0m\u001b[0;34m=\u001b[0m\u001b[0morder\u001b[0m\u001b[0;34m)\u001b[0m\u001b[0;34m\u001b[0m\u001b[0m\n\u001b[0m\u001b[1;32m    280\u001b[0m \u001b[0;34m\u001b[0m\u001b[0m\n\u001b[1;32m    281\u001b[0m \u001b[0;34m\u001b[0m\u001b[0m\n",
      "\u001b[0;32m~/tool/python/venv3/lib/python3.4/site-packages/numpy/core/fromnumeric.py\u001b[0m in \u001b[0;36m_wrapfunc\u001b[0;34m(obj, method, *args, **kwds)\u001b[0m\n\u001b[1;32m     59\u001b[0m     \u001b[0;31m# a downstream library like 'pandas'.\u001b[0m\u001b[0;34m\u001b[0m\u001b[0;34m\u001b[0m\u001b[0m\n\u001b[1;32m     60\u001b[0m     \u001b[0;32mexcept\u001b[0m \u001b[0;34m(\u001b[0m\u001b[0mAttributeError\u001b[0m\u001b[0;34m,\u001b[0m \u001b[0mTypeError\u001b[0m\u001b[0;34m)\u001b[0m\u001b[0;34m:\u001b[0m\u001b[0;34m\u001b[0m\u001b[0m\n\u001b[0;32m---> 61\u001b[0;31m         \u001b[0;32mreturn\u001b[0m \u001b[0m_wrapit\u001b[0m\u001b[0;34m(\u001b[0m\u001b[0mobj\u001b[0m\u001b[0;34m,\u001b[0m \u001b[0mmethod\u001b[0m\u001b[0;34m,\u001b[0m \u001b[0;34m*\u001b[0m\u001b[0margs\u001b[0m\u001b[0;34m,\u001b[0m \u001b[0;34m**\u001b[0m\u001b[0mkwds\u001b[0m\u001b[0;34m)\u001b[0m\u001b[0;34m\u001b[0m\u001b[0m\n\u001b[0m\u001b[1;32m     62\u001b[0m \u001b[0;34m\u001b[0m\u001b[0m\n\u001b[1;32m     63\u001b[0m \u001b[0;34m\u001b[0m\u001b[0m\n",
      "\u001b[0;32m~/tool/python/venv3/lib/python3.4/site-packages/numpy/core/fromnumeric.py\u001b[0m in \u001b[0;36m_wrapit\u001b[0;34m(obj, method, *args, **kwds)\u001b[0m\n\u001b[1;32m     39\u001b[0m     \u001b[0;32mexcept\u001b[0m \u001b[0mAttributeError\u001b[0m\u001b[0;34m:\u001b[0m\u001b[0;34m\u001b[0m\u001b[0m\n\u001b[1;32m     40\u001b[0m         \u001b[0mwrap\u001b[0m \u001b[0;34m=\u001b[0m \u001b[0;32mNone\u001b[0m\u001b[0;34m\u001b[0m\u001b[0m\n\u001b[0;32m---> 41\u001b[0;31m     \u001b[0mresult\u001b[0m \u001b[0;34m=\u001b[0m \u001b[0mgetattr\u001b[0m\u001b[0;34m(\u001b[0m\u001b[0masarray\u001b[0m\u001b[0;34m(\u001b[0m\u001b[0mobj\u001b[0m\u001b[0;34m)\u001b[0m\u001b[0;34m,\u001b[0m \u001b[0mmethod\u001b[0m\u001b[0;34m)\u001b[0m\u001b[0;34m(\u001b[0m\u001b[0;34m*\u001b[0m\u001b[0margs\u001b[0m\u001b[0;34m,\u001b[0m \u001b[0;34m**\u001b[0m\u001b[0mkwds\u001b[0m\u001b[0;34m)\u001b[0m\u001b[0;34m\u001b[0m\u001b[0m\n\u001b[0m\u001b[1;32m     42\u001b[0m     \u001b[0;32mif\u001b[0m \u001b[0mwrap\u001b[0m\u001b[0;34m:\u001b[0m\u001b[0;34m\u001b[0m\u001b[0m\n\u001b[1;32m     43\u001b[0m         \u001b[0;32mif\u001b[0m \u001b[0;32mnot\u001b[0m \u001b[0misinstance\u001b[0m\u001b[0;34m(\u001b[0m\u001b[0mresult\u001b[0m\u001b[0;34m,\u001b[0m \u001b[0mmu\u001b[0m\u001b[0;34m.\u001b[0m\u001b[0mndarray\u001b[0m\u001b[0;34m)\u001b[0m\u001b[0;34m:\u001b[0m\u001b[0;34m\u001b[0m\u001b[0m\n",
      "\u001b[0;32m~/tool/python/venv3/lib/python3.4/site-packages/numpy/core/numeric.py\u001b[0m in \u001b[0;36masarray\u001b[0;34m(a, dtype, order)\u001b[0m\n\u001b[1;32m    499\u001b[0m \u001b[0;34m\u001b[0m\u001b[0m\n\u001b[1;32m    500\u001b[0m     \"\"\"\n\u001b[0;32m--> 501\u001b[0;31m     \u001b[0;32mreturn\u001b[0m \u001b[0marray\u001b[0m\u001b[0;34m(\u001b[0m\u001b[0ma\u001b[0m\u001b[0;34m,\u001b[0m \u001b[0mdtype\u001b[0m\u001b[0;34m,\u001b[0m \u001b[0mcopy\u001b[0m\u001b[0;34m=\u001b[0m\u001b[0;32mFalse\u001b[0m\u001b[0;34m,\u001b[0m \u001b[0morder\u001b[0m\u001b[0;34m=\u001b[0m\u001b[0morder\u001b[0m\u001b[0;34m)\u001b[0m\u001b[0;34m\u001b[0m\u001b[0m\n\u001b[0m\u001b[1;32m    502\u001b[0m \u001b[0;34m\u001b[0m\u001b[0m\n\u001b[1;32m    503\u001b[0m \u001b[0;34m\u001b[0m\u001b[0m\n",
      "\u001b[0;32m~/tool/python/venv3/lib/python3.4/site-packages/sparse/coo.py\u001b[0m in \u001b[0;36m__array__\u001b[0;34m(self, dtype, **kwargs)\u001b[0m\n\u001b[1;32m   1190\u001b[0m \u001b[0;34m\u001b[0m\u001b[0m\n\u001b[1;32m   1191\u001b[0m     \u001b[0;32mdef\u001b[0m \u001b[0m__array__\u001b[0m\u001b[0;34m(\u001b[0m\u001b[0mself\u001b[0m\u001b[0;34m,\u001b[0m \u001b[0mdtype\u001b[0m\u001b[0;34m=\u001b[0m\u001b[0;32mNone\u001b[0m\u001b[0;34m,\u001b[0m \u001b[0;34m**\u001b[0m\u001b[0mkwargs\u001b[0m\u001b[0;34m)\u001b[0m\u001b[0;34m:\u001b[0m\u001b[0;34m\u001b[0m\u001b[0m\n\u001b[0;32m-> 1192\u001b[0;31m         \u001b[0mx\u001b[0m \u001b[0;34m=\u001b[0m \u001b[0mself\u001b[0m\u001b[0;34m.\u001b[0m\u001b[0mtodense\u001b[0m\u001b[0;34m(\u001b[0m\u001b[0;34m)\u001b[0m\u001b[0;34m\u001b[0m\u001b[0m\n\u001b[0m\u001b[1;32m   1193\u001b[0m         \u001b[0;32mif\u001b[0m \u001b[0mdtype\u001b[0m \u001b[0;32mand\u001b[0m \u001b[0mx\u001b[0m\u001b[0;34m.\u001b[0m\u001b[0mdtype\u001b[0m \u001b[0;34m!=\u001b[0m \u001b[0mdtype\u001b[0m\u001b[0;34m:\u001b[0m\u001b[0;34m\u001b[0m\u001b[0m\n\u001b[1;32m   1194\u001b[0m             \u001b[0mx\u001b[0m \u001b[0;34m=\u001b[0m \u001b[0mx\u001b[0m\u001b[0;34m.\u001b[0m\u001b[0mastype\u001b[0m\u001b[0;34m(\u001b[0m\u001b[0mdtype\u001b[0m\u001b[0;34m)\u001b[0m\u001b[0;34m\u001b[0m\u001b[0m\n",
      "\u001b[0;32m~/tool/python/venv3/lib/python3.4/site-packages/sparse/coo.py\u001b[0m in \u001b[0;36mtodense\u001b[0;34m(self)\u001b[0m\n\u001b[1;32m    342\u001b[0m         \"\"\"\n\u001b[1;32m    343\u001b[0m         \u001b[0mself\u001b[0m\u001b[0;34m.\u001b[0m\u001b[0msum_duplicates\u001b[0m\u001b[0;34m(\u001b[0m\u001b[0;34m)\u001b[0m\u001b[0;34m\u001b[0m\u001b[0m\n\u001b[0;32m--> 344\u001b[0;31m         \u001b[0mx\u001b[0m \u001b[0;34m=\u001b[0m \u001b[0mnp\u001b[0m\u001b[0;34m.\u001b[0m\u001b[0mzeros\u001b[0m\u001b[0;34m(\u001b[0m\u001b[0mshape\u001b[0m\u001b[0;34m=\u001b[0m\u001b[0mself\u001b[0m\u001b[0;34m.\u001b[0m\u001b[0mshape\u001b[0m\u001b[0;34m,\u001b[0m \u001b[0mdtype\u001b[0m\u001b[0;34m=\u001b[0m\u001b[0mself\u001b[0m\u001b[0;34m.\u001b[0m\u001b[0mdtype\u001b[0m\u001b[0;34m)\u001b[0m\u001b[0;34m\u001b[0m\u001b[0m\n\u001b[0m\u001b[1;32m    345\u001b[0m \u001b[0;34m\u001b[0m\u001b[0m\n\u001b[1;32m    346\u001b[0m         \u001b[0mcoords\u001b[0m \u001b[0;34m=\u001b[0m \u001b[0mtuple\u001b[0m\u001b[0;34m(\u001b[0m\u001b[0;34m[\u001b[0m\u001b[0mself\u001b[0m\u001b[0;34m.\u001b[0m\u001b[0mcoords\u001b[0m\u001b[0;34m[\u001b[0m\u001b[0mi\u001b[0m\u001b[0;34m,\u001b[0m \u001b[0;34m:\u001b[0m\u001b[0;34m]\u001b[0m \u001b[0;32mfor\u001b[0m \u001b[0mi\u001b[0m \u001b[0;32min\u001b[0m \u001b[0mrange\u001b[0m\u001b[0;34m(\u001b[0m\u001b[0mself\u001b[0m\u001b[0;34m.\u001b[0m\u001b[0mndim\u001b[0m\u001b[0;34m)\u001b[0m\u001b[0;34m]\u001b[0m\u001b[0;34m)\u001b[0m\u001b[0;34m\u001b[0m\u001b[0m\n",
      "\u001b[0;31mMemoryError\u001b[0m: "
     ]
    }
   ],
   "source": [
    "factors = decomp.parafac(vtensor, rank=2)"
   ]
  }
 ],
 "metadata": {
  "kernelspec": {
   "display_name": "Python 3",
   "language": "python",
   "name": "python3"
  },
  "language_info": {
   "codemirror_mode": {
    "name": "ipython",
    "version": 3
   },
   "file_extension": ".py",
   "mimetype": "text/x-python",
   "name": "python",
   "nbconvert_exporter": "python",
   "pygments_lexer": "ipython3",
   "version": "3.4.2"
  }
 },
 "nbformat": 4,
 "nbformat_minor": 2
}
