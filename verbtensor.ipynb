{
 "cells": [
  {
   "cell_type": "code",
   "execution_count": 2,
   "metadata": {},
   "outputs": [
    {
     "name": "stderr",
     "output_type": "stream",
     "text": [
      "Using numpy backend.\n"
     ]
    }
   ],
   "source": [
    "from collections import defaultdict\n",
    "import logging\n",
    "logging.basicConfig(level=logging.INFO, \n",
    "                    format='%(asctime)s,%(msecs)d %(levelname)-8s [%(lineno)d] %(message)s')\n",
    "import operator\n",
    "import re\n",
    "\n",
    "import numpy as np\n",
    "import tensorly as tl\n",
    "import pandas as pd"
   ]
  },
  {
   "cell_type": "code",
   "execution_count": 5,
   "metadata": {},
   "outputs": [
    {
     "ename": "ImportError",
     "evalue": "No module named 'tensorly.contrib'",
     "output_type": "error",
     "traceback": [
      "\u001b[0;31m---------------------------------------------------------------------------\u001b[0m",
      "\u001b[0;31mImportError\u001b[0m                               Traceback (most recent call last)",
      "\u001b[0;32m<ipython-input-5-97552da624a9>\u001b[0m in \u001b[0;36m<module>\u001b[0;34m()\u001b[0m\n\u001b[0;32m----> 1\u001b[0;31m \u001b[0;32mfrom\u001b[0m \u001b[0mtensorly\u001b[0m\u001b[0;34m.\u001b[0m\u001b[0mcontrib\u001b[0m \u001b[0;32mimport\u001b[0m \u001b[0mfrostt\u001b[0m\u001b[0;34m\u001b[0m\u001b[0m\n\u001b[0m",
      "\u001b[0;31mImportError\u001b[0m: No module named 'tensorly.contrib'"
     ]
    }
   ],
   "source": [
    "from tensorly.contrib import frostt"
   ]
  },
  {
   "cell_type": "code",
   "execution_count": 22,
   "metadata": {
    "collapsed": true
   },
   "outputs": [],
   "source": [
    "def mazsola_reader():\n",
    "    path = '/mnt/permanent/Language/Hungarian/Dic/sass15-535k-igei-szerkezet/mazsola_adatbazis.txt'\n",
    "    occurrence = defaultdict(int)#lambda: defaultdict(lambda: defaultdict(int)))\n",
    "    margianl_s, margianl_v, margianl_o = defaultdict(int), defaultdict(int), defaultdict(int)\n",
    "    with open(path) as infile:\n",
    "        for i, line in enumerate(infile):\n",
    "            if not i % 500000:\n",
    "                logging.info('{:.0%}'.format(i/27970403))\n",
    "            record = defaultdict(str)\n",
    "            for token in line.strip().split():\n",
    "                case_stem = re.split('@@', token)\n",
    "                if len(case_stem) == 1:\n",
    "                    continue\n",
    "                try:\n",
    "                    case, stem = case_stem\n",
    "                except:\n",
    "                    logging.warning(line.strip())\n",
    "                    break\n",
    "                record[case] = stem\n",
    "            occurrence[record['NOM'], record['stem'], record['ACC']] += 1\n",
    "            margianl_s[record['NOM']] += 1\n",
    "            margianl_v[record['stem']] += 1\n",
    "            margianl_o[record['ACC']] += 1\n",
    "    return occurrence, margianl_s, margianl_v, margianl_o"
   ]
  },
  {
   "cell_type": "code",
   "execution_count": 23,
   "metadata": {},
   "outputs": [
    {
     "name": "stderr",
     "output_type": "stream",
     "text": [
      "2018-09-11 15:24:34,062,62 INFO     [10] 0%\n",
      "2018-09-11 15:24:41,634,634 INFO     [10] 2%\n",
      "2018-09-11 15:24:46,111,111 INFO     [10] 4%\n",
      "2018-09-11 15:24:51,490,490 INFO     [10] 5%\n",
      "2018-09-11 15:24:56,590,590 INFO     [10] 7%\n",
      "2018-09-11 15:24:59,746,746 WARNING  [19] a k ... @@@@@ i ... b ... @@@ meg . stem@@megnull NOM@@B\n",
      "2018-09-11 15:25:01,635,635 INFO     [10] 9%\n"
     ]
    }
   ],
   "source": [
    "occurrence, marg_s, marg_v, marg_o = mazsola_reader()"
   ]
  },
  {
   "cell_type": "code",
   "execution_count": 1,
   "metadata": {
    "collapsed": true
   },
   "outputs": [],
   "source": [
    "def get_index(freq_dict):\n",
    "    return dict([(w, i) for i, (w, f) in \n",
    "                enumerate(sorted(freq_dict.items(), key=operator.itemgetter(1), reverse=True))\n",
    "                if f > 1])"
   ]
  },
  {
   "cell_type": "code",
   "execution_count": 37,
   "metadata": {
    "collapsed": true
   },
   "outputs": [],
   "source": [
    "index_s, index_o, index_v = [get_index(fd) for fd in [marg_s, marg_o, marg_v]]"
   ]
  },
  {
   "cell_type": "code",
   "execution_count": 39,
   "metadata": {},
   "outputs": [
    {
     "ename": "MemoryError",
     "evalue": "",
     "output_type": "error",
     "traceback": [
      "\u001b[0;31m---------------------------------------------------------------------------\u001b[0m",
      "\u001b[0;31mMemoryError\u001b[0m                               Traceback (most recent call last)",
      "\u001b[0;32m<ipython-input-39-0aa0fc524b4d>\u001b[0m in \u001b[0;36m<module>\u001b[0;34m()\u001b[0m\n\u001b[0;32m----> 1\u001b[0;31m \u001b[0mtensor\u001b[0m \u001b[0;34m=\u001b[0m \u001b[0mnp\u001b[0m\u001b[0;34m.\u001b[0m\u001b[0mzeros\u001b[0m\u001b[0;34m(\u001b[0m\u001b[0;34m[\u001b[0m\u001b[0mlen\u001b[0m\u001b[0;34m(\u001b[0m\u001b[0mmode\u001b[0m\u001b[0;34m)\u001b[0m \u001b[0;32mfor\u001b[0m \u001b[0mmode\u001b[0m \u001b[0;32min\u001b[0m \u001b[0;34m[\u001b[0m\u001b[0mmarg_s\u001b[0m\u001b[0;34m,\u001b[0m \u001b[0mmarg_o\u001b[0m\u001b[0;34m,\u001b[0m \u001b[0mmarg_v\u001b[0m\u001b[0;34m]\u001b[0m\u001b[0;34m]\u001b[0m\u001b[0;34m)\u001b[0m\u001b[0;34m\u001b[0m\u001b[0m\n\u001b[0m",
      "\u001b[0;31mMemoryError\u001b[0m: "
     ]
    }
   ],
   "source": [
    "tensor = np.zeros([len(mode) for mode in [marg_s, marg_o, marg_v]])"
   ]
  }
 ],
 "metadata": {
  "kernelspec": {
   "display_name": "Python 3",
   "language": "python",
   "name": "python3"
  },
  "language_info": {
   "codemirror_mode": {
    "name": "ipython",
    "version": 3
   },
   "file_extension": ".py",
   "mimetype": "text/x-python",
   "name": "python",
   "nbconvert_exporter": "python",
   "pygments_lexer": "ipython3",
   "version": "3.4.2"
  }
 },
 "nbformat": 4,
 "nbformat_minor": 2
}
