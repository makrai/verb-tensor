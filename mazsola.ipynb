{
 "cells": [
  {
   "cell_type": "code",
   "execution_count": 52,
   "metadata": {},
   "outputs": [
    {
     "name": "stderr",
     "output_type": "stream",
     "text": [
      "47 DEBUG    [211] Loaded backend module://ipykernel.pylab.backend_inline version unknown.\n"
     ]
    },
    {
     "name": "stdout",
     "output_type": "stream",
     "text": [
      "Populating the interactive namespace from numpy and matplotlib\n"
     ]
    },
    {
     "name": "stderr",
     "output_type": "stream",
     "text": [
      "/home/makrai/tool/python/miniconda3/lib/python3.7/site-packages/IPython/core/magics/pylab.py:160: UserWarning: pylab import has clobbered these variables: ['exp', 'random']\n",
      "`%matplotlib` prevents importing * from pylab and numpy\n",
      "  \"\\n`%matplotlib` prevents importing * from pylab and numpy\"\n"
     ]
    }
   ],
   "source": [
    "from collections import defaultdict\n",
    "import glob\n",
    "from itertools import groupby\n",
    "import operator\n",
    "import os\n",
    "import re\n",
    "\n",
    "import numpy as np\n",
    "import pandas as pd\n",
    "import pickle\n",
    "import random\n",
    "import sparse\n",
    "#import tensorly as tl\n",
    "#import tensorly.decomposition as decomp\n",
    "import sktensor\n",
    "import urllib3\n",
    "#import wget\n",
    "\n",
    "import matplotlib.pyplot as plt\n",
    "%pylab inline\n",
    "pylab.rcParams['figure.figsize'] = (10, 6)\n",
    "\n",
    "import logging\n",
    "logging.basicConfig(level=logging.DEBUG, \n",
    "                    format='%(msecs)d %(levelname)-8s [%(lineno)d] %(message)s')\n",
    "\n",
    "if not os.path.exists('cp_orth.py'):\n",
    "    wget.download('http://web.stanford.edu/~vsharan/cp_orth.py')\n",
    "from cp_orth import orth_als"
   ]
  },
  {
   "cell_type": "code",
   "execution_count": 2,
   "metadata": {},
   "outputs": [],
   "source": [
    "def mazsola_reader():\n",
    "    pickle_path = '/mnt/store/home/makrai/project/verb-tensor/mazsola.pkl'\n",
    "    if os.path.exists(pickle_path):\n",
    "        logging.info('Loading mazsola dict from {}'.format(pickle_path))\n",
    "        return pickle.load(open(pickle_path, mode='rb'))\n",
    "    logging.info('Reading mazsola...'.format(pickle_path))\n",
    "    path = '/mnt/permanent/Language/Hungarian/Dic/sass15-535k-igei-szerkezet/mazsola_adatbazis.txt'\n",
    "    occurrence = defaultdict(int)#lambda: defaultdict(lambda: defaultdict(int)))\n",
    "    margianls = [defaultdict(int) for _ in range(3)]\n",
    "    with open(path) as infile:\n",
    "        for i, line in enumerate(infile):\n",
    "            if not i % 500000:\n",
    "                logging.info('{:.0%}'.format(i/27970403))\n",
    "            record = defaultdict(str)\n",
    "            for token in line.strip().split():\n",
    "                case_stem = re.split('@@', token)\n",
    "                if len(case_stem) == 1:\n",
    "                    continue\n",
    "                try:\n",
    "                    case, stem = case_stem\n",
    "                except:\n",
    "                    logging.warning(line.strip())\n",
    "                record[case] = stem\n",
    "            occurrence[record['NOM'], record['stem'], record['ACC']] += 1\n",
    "            for i, mode in enumerate(['NOM', 'stem', 'ACC']):\n",
    "                margianls[i][record[mode]] += 1            \n",
    "    result = occurrence, margianls\n",
    "    pickle.dump(result, open(pickle_path, mode='wb'))\n",
    "    return result                "
   ]
  },
  {
   "cell_type": "code",
   "execution_count": 3,
   "metadata": {},
   "outputs": [],
   "source": [
    "def get_tensor(middle_end='sktensor', cutoff=10):\n",
    "    logging.info('Reweighting: log')\n",
    "    verb_tensor_path = '/mnt/store/home/makrai/project/verb-tensor/{}/tensor_{}.pkl'.format(middle_end, cutoff)\n",
    "    if os.path.exists(verb_tensor_path):\n",
    "        logging.info('Loading tensor from {}'.format(verb_tensor_path))\n",
    "        tensor, indices = pickle.load(open(verb_tensor_path, mode='rb'))\n",
    "        logging.debug(tensor.shape)\n",
    "        return tensor, indices\n",
    "    occurrence, marginals = mazsola_reader()\n",
    "    def get_index(freq_dict):\n",
    "        items = sorted(filter(lambda item: item[1] >= cutoff, freq_dict.items()), key=operator.itemgetter(1), \n",
    "                       reverse=True)\n",
    "        logging.debug(items[-3:])\n",
    "        return dict([(w, i) for i, (w, f) in enumerate(items)])\n",
    "\n",
    "    coords, data = ([], [], []), []\n",
    "    indices = [get_index(fd) for fd in marginals]\n",
    "    logging.info('Building tensor...')\n",
    "    logging.info('  Pupulating lists...')\n",
    "    for i, ((svo), freq) in enumerate(occurrence.items()):\n",
    "        if not i % 2000000:\n",
    "            logging.debug('    {:,}'.format(i))#'{} {}'.format(svo[1], freq))\n",
    "        for i, word in enumerate(svo):\n",
    "            if svo[i] not in indices[i]:\n",
    "                break\n",
    "        else:\n",
    "            for i, word in enumerate(svo):\n",
    "                coords[i].append(indices[i][svo[i]])\n",
    "            data.append(np.log(freq))\n",
    "    logging.info('  Creating array')\n",
    "    shape = tuple(map(len, indices))\n",
    "    logging.info(shape)\n",
    "    if middle_end == 'tensorly':\n",
    "        tensor = sparse.COO(coords, data, shape=shape)#, has_duplicates=False)\n",
    "    elif middle_end == 'sktensor':\n",
    "        tensor = sktensor.sptensor(coords, data, shape=shape)\n",
    "    else:\n",
    "        raise NotImplementedError\n",
    "    pickle.dump((tensor, indices), open(verb_tensor_path, mode='wb'))\n",
    "    logging.info(tensor)\n",
    "    return tensor, indices"
   ]
  },
  {
   "cell_type": "markdown",
   "metadata": {},
   "source": [
    "|cutoff|         shape         | d=2  | d=4  | d=5 | d=6 | d=7 | d=10|\n",
    "|------|-----------------------|------|------|-----|-----|-----|-----|\n",
    "|     1| 383 k, 110 k, 200 k   |      \n",
    "|     2| 186 k,  60 k,  99 k   |\n",
    "|     5|  97 k,  33 k,  50 k   |\n",
    "|    10|  64 k,  23 k,  32 k   |\n",
    "|    16|  49 k,  19 k,  24 k   |\n",
    "|    32|  32 708 13 951 15 740 |14 min|\n",
    "|    64|  21 033 10 294  9 874 | 6 min|\n",
    "|   128|  13 093  7 345  6 116 | 2 min|\n",
    "|------|-----------------------|------|------|-----|-----|-----|-----|\n",
    "|   256|   7 957  5 054  3 740 | 2 min|\n",
    "|   512|   4 598  3 269  2 183 | 1 min|\n",
    "|  1024|   2 489  2 084  1 196 |  51 s|\n",
    "|  2048|   1 251  1 293    579 |  27 s| 2 min|14 min|  \n",
    "|  4096|     622    773    243 |  12 s| 1 min| 2 min|  m  |   s|15 min|\n",
    "|  8192|     278    414    101 |     s|  55 s| 1 min|1 min|   s|4  min|\n",
    "| 16384|      87    185     43 |     s|     s|  17 s| 29 s| 27s| 50 s |\n",
    "\n",
    "10-es gyakorisági cutoffal a ginnyn még lefut, 5-össel már nem."
   ]
  },
  {
   "cell_type": "code",
   "execution_count": 33,
   "metadata": {},
   "outputs": [],
   "source": [
    "def decomp(cutoff, dim):\n",
    "    logging.info((cutoff, dim))\n",
    "    filen_base = '/mnt/store/home/makrai/project/verb-tensor/sktensor/decomp_{}_{}'.format(cutoff, dim)\n",
    "    if os.path.isfile('{}.{}'.format(filen_base, 'pkl')):\n",
    "        logging.info('File exists {} {}'.format(cutoff, dim))\n",
    "        return\n",
    "    vtensor, indices = get_tensor(cutoff=cutoff)\n",
    "    try:\n",
    "        result = orth_als(vtensor, dim)\n",
    "        pickle.dump(result, open('{}.{}'.format(filen_base, 'pkl'), mode='wb'))\n",
    "    except Exception as e:\n",
    "        with open('{}.{}'.format(filen_base, 'err'), mode='w') as logfile:\n",
    "            logging.error(e)\n",
    "            logfile.write(e)"
   ]
  },
  {
   "cell_type": "code",
   "execution_count": 94,
   "metadata": {},
   "outputs": [],
   "source": [
    "def show_expers(feature='exectimes'):\n",
    "    mx = []\n",
    "    for filen in glob.glob('/mnt/store/home/makrai/project/verb-tensor/sktensor/decomp_*.pkl'):\n",
    "        _, cutoff, dim = os.path.splitext(filen)[0].split('_')\n",
    "        ktensor, fit, n_iterations, exectimes = pickle.load(open(filen, mode='rb'))\n",
    "        mx.append([int(cutoff), int(dim), sum(exectimes)/60])\n",
    "    mx = np.array(mx)\n",
    "    plt.scatter(np.array(mx).T[0], mx.T[1], c=mx.T[2])\n",
    "    plt.colorbar()\n",
    "    plt.xscale('log')"
   ]
  },
  {
   "cell_type": "code",
   "execution_count": 101,
   "metadata": {},
   "outputs": [
    {
     "name": "stderr",
     "output_type": "stream",
     "text": [
      "766 DEBUG    [507] locator: <matplotlib.colorbar._ColorbarAutoLocator object at 0x7f00ed04f198>\n",
      "766 DEBUG    [536] Using auto colorbar locator on colorbar\n",
      "766 DEBUG    [537] locator: <matplotlib.colorbar._ColorbarAutoLocator object at 0x7f00ed04f198>\n",
      "767 DEBUG    [693] Setting pcolormesh\n",
      "769 DEBUG    [2515] update_title_pos\n",
      "772 DEBUG    [2157] vmin 6.902934678518222 vmax 23722.07986012423\n",
      "772 DEBUG    [2212] ticklocs array([1.e-01, 1.e+00, 1.e+01, 1.e+02, 1.e+03, 1.e+04, 1.e+05, 1.e+06])\n",
      "815 DEBUG    [2157] vmin 6.902934678518222 vmax 23722.07986012423\n",
      "815 DEBUG    [2212] ticklocs [0.2, 0.30000000000000004, 0.4, 0.5, 0.6000000000000001, 0.7000000000000001, 0.8, 0.9, 2.0, 3.0, 4.0, 5.0, 6.0, 7.0, 8.0, 9.0, 20.0, 30.0, 40.0, 50.0, 60.0, 70.0, 80.0, 90.0, 200.0, 300.0, 400.0, 500.0, 600.0, 700.0, 800.0, 900.0, 2000.0, 3000.0, 4000.0, 5000.0, 6000.0, 7000.0, 8000.0, 9000.0, 20000.0, 30000.0, 40000.0, 50000.0, 60000.0, 70000.0, 80000.0, 90000.0, 200000.0, 300000.0, 400000.0, 500000.0, 600000.0, 700000.0, 800000.0, 900000.0, 2000000.0, 3000000.0, 4000000.0, 5000000.0, 6000000.0, 7000000.0, 8000000.0, 9000000.0]\n",
      "884 DEBUG    [2157] vmin 6.902934678518222 vmax 23722.07986012423\n",
      "885 DEBUG    [2212] ticklocs array([1.e-01, 1.e+00, 1.e+01, 1.e+02, 1.e+03, 1.e+04, 1.e+05, 1.e+06])\n",
      "886 DEBUG    [2157] vmin 6.902934678518222 vmax 23722.07986012423\n",
      "887 DEBUG    [2212] ticklocs [0.2, 0.30000000000000004, 0.4, 0.5, 0.6000000000000001, 0.7000000000000001, 0.8, 0.9, 2.0, 3.0, 4.0, 5.0, 6.0, 7.0, 8.0, 9.0, 20.0, 30.0, 40.0, 50.0, 60.0, 70.0, 80.0, 90.0, 200.0, 300.0, 400.0, 500.0, 600.0, 700.0, 800.0, 900.0, 2000.0, 3000.0, 4000.0, 5000.0, 6000.0, 7000.0, 8000.0, 9000.0, 20000.0, 30000.0, 40000.0, 50000.0, 60000.0, 70000.0, 80000.0, 90000.0, 200000.0, 300000.0, 400000.0, 500000.0, 600000.0, 700000.0, 800000.0, 900000.0, 2000000.0, 3000000.0, 4000000.0, 5000000.0, 6000000.0, 7000000.0, 8000000.0, 9000000.0]\n",
      "902 DEBUG    [2515] update_title_pos\n",
      "914 DEBUG    [2157] vmin 6.902934678518222 vmax 23722.07986012423\n",
      "914 DEBUG    [2212] ticklocs array([1.e-01, 1.e+00, 1.e+01, 1.e+02, 1.e+03, 1.e+04, 1.e+05, 1.e+06])\n",
      "917 DEBUG    [2515] update_title_pos\n",
      "919 DEBUG    [2157] vmin 6.902934678518222 vmax 23722.07986012423\n",
      "919 DEBUG    [2212] ticklocs array([1.e-01, 1.e+00, 1.e+01, 1.e+02, 1.e+03, 1.e+04, 1.e+05, 1.e+06])\n",
      "920 DEBUG    [2157] vmin 6.902934678518222 vmax 23722.07986012423\n",
      "921 DEBUG    [2212] ticklocs [0.2, 0.30000000000000004, 0.4, 0.5, 0.6000000000000001, 0.7000000000000001, 0.8, 0.9, 2.0, 3.0, 4.0, 5.0, 6.0, 7.0, 8.0, 9.0, 20.0, 30.0, 40.0, 50.0, 60.0, 70.0, 80.0, 90.0, 200.0, 300.0, 400.0, 500.0, 600.0, 700.0, 800.0, 900.0, 2000.0, 3000.0, 4000.0, 5000.0, 6000.0, 7000.0, 8000.0, 9000.0, 20000.0, 30000.0, 40000.0, 50000.0, 60000.0, 70000.0, 80000.0, 90000.0, 200000.0, 300000.0, 400000.0, 500000.0, 600000.0, 700000.0, 800000.0, 900000.0, 2000000.0, 3000000.0, 4000000.0, 5000000.0, 6000000.0, 7000000.0, 8000000.0, 9000000.0]\n",
      "933 DEBUG    [2157] vmin 6.902934678518222 vmax 23722.07986012423\n",
      "933 DEBUG    [2212] ticklocs array([1.e-01, 1.e+00, 1.e+01, 1.e+02, 1.e+03, 1.e+04, 1.e+05, 1.e+06])\n",
      "934 DEBUG    [2157] vmin 6.902934678518222 vmax 23722.07986012423\n",
      "935 DEBUG    [2212] ticklocs [0.2, 0.30000000000000004, 0.4, 0.5, 0.6000000000000001, 0.7000000000000001, 0.8, 0.9, 2.0, 3.0, 4.0, 5.0, 6.0, 7.0, 8.0, 9.0, 20.0, 30.0, 40.0, 50.0, 60.0, 70.0, 80.0, 90.0, 200.0, 300.0, 400.0, 500.0, 600.0, 700.0, 800.0, 900.0, 2000.0, 3000.0, 4000.0, 5000.0, 6000.0, 7000.0, 8000.0, 9000.0, 20000.0, 30000.0, 40000.0, 50000.0, 60000.0, 70000.0, 80000.0, 90000.0, 200000.0, 300000.0, 400000.0, 500000.0, 600000.0, 700000.0, 800000.0, 900000.0, 2000000.0, 3000000.0, 4000000.0, 5000000.0, 6000000.0, 7000000.0, 8000000.0, 9000000.0]\n",
      "948 DEBUG    [2515] update_title_pos\n",
      "984 DEBUG    [2157] vmin 6.902934678518222 vmax 23722.07986012423\n",
      "985 DEBUG    [2212] ticklocs array([1.e-01, 1.e+00, 1.e+01, 1.e+02, 1.e+03, 1.e+04, 1.e+05, 1.e+06])\n",
      "986 DEBUG    [2157] vmin 6.902934678518222 vmax 23722.07986012423\n",
      "986 DEBUG    [2212] ticklocs [0.2, 0.30000000000000004, 0.4, 0.5, 0.6000000000000001, 0.7000000000000001, 0.8, 0.9, 2.0, 3.0, 4.0, 5.0, 6.0, 7.0, 8.0, 9.0, 20.0, 30.0, 40.0, 50.0, 60.0, 70.0, 80.0, 90.0, 200.0, 300.0, 400.0, 500.0, 600.0, 700.0, 800.0, 900.0, 2000.0, 3000.0, 4000.0, 5000.0, 6000.0, 7000.0, 8000.0, 9000.0, 20000.0, 30000.0, 40000.0, 50000.0, 60000.0, 70000.0, 80000.0, 90000.0, 200000.0, 300000.0, 400000.0, 500000.0, 600000.0, 700000.0, 800000.0, 900000.0, 2000000.0, 3000000.0, 4000000.0, 5000000.0, 6000000.0, 7000000.0, 8000000.0, 9000000.0]\n",
      "989 DEBUG    [2157] vmin 6.902934678518222 vmax 23722.07986012423\n",
      "989 DEBUG    [2212] ticklocs array([1.e-01, 1.e+00, 1.e+01, 1.e+02, 1.e+03, 1.e+04, 1.e+05, 1.e+06])\n",
      "990 DEBUG    [2157] vmin 6.902934678518222 vmax 23722.07986012423\n",
      "990 DEBUG    [2212] ticklocs [0.2, 0.30000000000000004, 0.4, 0.5, 0.6000000000000001, 0.7000000000000001, 0.8, 0.9, 2.0, 3.0, 4.0, 5.0, 6.0, 7.0, 8.0, 9.0, 20.0, 30.0, 40.0, 50.0, 60.0, 70.0, 80.0, 90.0, 200.0, 300.0, 400.0, 500.0, 600.0, 700.0, 800.0, 900.0, 2000.0, 3000.0, 4000.0, 5000.0, 6000.0, 7000.0, 8000.0, 9000.0, 20000.0, 30000.0, 40000.0, 50000.0, 60000.0, 70000.0, 80000.0, 90000.0, 200000.0, 300000.0, 400000.0, 500000.0, 600000.0, 700000.0, 800000.0, 900000.0, 2000000.0, 3000000.0, 4000000.0, 5000000.0, 6000000.0, 7000000.0, 8000000.0, 9000000.0]\n",
      "998 DEBUG    [2515] update_title_pos\n",
      "4 DEBUG    [2157] vmin 6.902934678518222 vmax 23722.07986012423\n",
      "4 DEBUG    [2212] ticklocs array([1.e-01, 1.e+00, 1.e+01, 1.e+02, 1.e+03, 1.e+04, 1.e+05, 1.e+06])\n",
      "5 DEBUG    [2157] vmin 6.902934678518222 vmax 23722.07986012423\n",
      "5 DEBUG    [2212] ticklocs [0.2, 0.30000000000000004, 0.4, 0.5, 0.6000000000000001, 0.7000000000000001, 0.8, 0.9, 2.0, 3.0, 4.0, 5.0, 6.0, 7.0, 8.0, 9.0, 20.0, 30.0, 40.0, 50.0, 60.0, 70.0, 80.0, 90.0, 200.0, 300.0, 400.0, 500.0, 600.0, 700.0, 800.0, 900.0, 2000.0, 3000.0, 4000.0, 5000.0, 6000.0, 7000.0, 8000.0, 9000.0, 20000.0, 30000.0, 40000.0, 50000.0, 60000.0, 70000.0, 80000.0, 90000.0, 200000.0, 300000.0, 400000.0, 500000.0, 600000.0, 700000.0, 800000.0, 900000.0, 2000000.0, 3000000.0, 4000000.0, 5000000.0, 6000000.0, 7000000.0, 8000000.0, 9000000.0]\n",
      "7 DEBUG    [2157] vmin 6.902934678518222 vmax 23722.07986012423\n",
      "8 DEBUG    [2212] ticklocs array([1.e-01, 1.e+00, 1.e+01, 1.e+02, 1.e+03, 1.e+04, 1.e+05, 1.e+06])\n",
      "9 DEBUG    [2157] vmin 6.902934678518222 vmax 23722.07986012423\n",
      "9 DEBUG    [2212] ticklocs [0.2, 0.30000000000000004, 0.4, 0.5, 0.6000000000000001, 0.7000000000000001, 0.8, 0.9, 2.0, 3.0, 4.0, 5.0, 6.0, 7.0, 8.0, 9.0, 20.0, 30.0, 40.0, 50.0, 60.0, 70.0, 80.0, 90.0, 200.0, 300.0, 400.0, 500.0, 600.0, 700.0, 800.0, 900.0, 2000.0, 3000.0, 4000.0, 5000.0, 6000.0, 7000.0, 8000.0, 9000.0, 20000.0, 30000.0, 40000.0, 50000.0, 60000.0, 70000.0, 80000.0, 90000.0, 200000.0, 300000.0, 400000.0, 500000.0, 600000.0, 700000.0, 800000.0, 900000.0, 2000000.0, 3000000.0, 4000000.0, 5000000.0, 6000000.0, 7000000.0, 8000000.0, 9000000.0]\n",
      "21 DEBUG    [2515] update_title_pos\n",
      "29 DEBUG    [2157] vmin 6.902934678518222 vmax 23722.07986012423\n",
      "30 DEBUG    [2212] ticklocs array([1.e-01, 1.e+00, 1.e+01, 1.e+02, 1.e+03, 1.e+04, 1.e+05, 1.e+06])\n",
      "31 DEBUG    [2157] vmin 6.902934678518222 vmax 23722.07986012423\n",
      "31 DEBUG    [2212] ticklocs [0.2, 0.30000000000000004, 0.4, 0.5, 0.6000000000000001, 0.7000000000000001, 0.8, 0.9, 2.0, 3.0, 4.0, 5.0, 6.0, 7.0, 8.0, 9.0, 20.0, 30.0, 40.0, 50.0, 60.0, 70.0, 80.0, 90.0, 200.0, 300.0, 400.0, 500.0, 600.0, 700.0, 800.0, 900.0, 2000.0, 3000.0, 4000.0, 5000.0, 6000.0, 7000.0, 8000.0, 9000.0, 20000.0, 30000.0, 40000.0, 50000.0, 60000.0, 70000.0, 80000.0, 90000.0, 200000.0, 300000.0, 400000.0, 500000.0, 600000.0, 700000.0, 800000.0, 900000.0, 2000000.0, 3000000.0, 4000000.0, 5000000.0, 6000000.0, 7000000.0, 8000000.0, 9000000.0]\n",
      "34 DEBUG    [2157] vmin 6.902934678518222 vmax 23722.07986012423\n",
      "34 DEBUG    [2212] ticklocs array([1.e-01, 1.e+00, 1.e+01, 1.e+02, 1.e+03, 1.e+04, 1.e+05, 1.e+06])\n",
      "35 DEBUG    [2157] vmin 6.902934678518222 vmax 23722.07986012423\n",
      "36 DEBUG    [2212] ticklocs [0.2, 0.30000000000000004, 0.4, 0.5, 0.6000000000000001, 0.7000000000000001, 0.8, 0.9, 2.0, 3.0, 4.0, 5.0, 6.0, 7.0, 8.0, 9.0, 20.0, 30.0, 40.0, 50.0, 60.0, 70.0, 80.0, 90.0, 200.0, 300.0, 400.0, 500.0, 600.0, 700.0, 800.0, 900.0, 2000.0, 3000.0, 4000.0, 5000.0, 6000.0, 7000.0, 8000.0, 9000.0, 20000.0, 30000.0, 40000.0, 50000.0, 60000.0, 70000.0, 80000.0, 90000.0, 200000.0, 300000.0, 400000.0, 500000.0, 600000.0, 700000.0, 800000.0, 900000.0, 2000000.0, 3000000.0, 4000000.0, 5000000.0, 6000000.0, 7000000.0, 8000000.0, 9000000.0]\n"
     ]
    },
    {
     "name": "stderr",
     "output_type": "stream",
     "text": [
      "53 DEBUG    [2157] vmin 6.902934678518222 vmax 23722.07986012423\n",
      "53 DEBUG    [2212] ticklocs array([1.e-01, 1.e+00, 1.e+01, 1.e+02, 1.e+03, 1.e+04, 1.e+05, 1.e+06])\n",
      "54 DEBUG    [2157] vmin 6.902934678518222 vmax 23722.07986012423\n",
      "55 DEBUG    [2212] ticklocs [0.2, 0.30000000000000004, 0.4, 0.5, 0.6000000000000001, 0.7000000000000001, 0.8, 0.9, 2.0, 3.0, 4.0, 5.0, 6.0, 7.0, 8.0, 9.0, 20.0, 30.0, 40.0, 50.0, 60.0, 70.0, 80.0, 90.0, 200.0, 300.0, 400.0, 500.0, 600.0, 700.0, 800.0, 900.0, 2000.0, 3000.0, 4000.0, 5000.0, 6000.0, 7000.0, 8000.0, 9000.0, 20000.0, 30000.0, 40000.0, 50000.0, 60000.0, 70000.0, 80000.0, 90000.0, 200000.0, 300000.0, 400000.0, 500000.0, 600000.0, 700000.0, 800000.0, 900000.0, 2000000.0, 3000000.0, 4000000.0, 5000000.0, 6000000.0, 7000000.0, 8000000.0, 9000000.0]\n",
      "57 DEBUG    [2157] vmin 6.902934678518222 vmax 23722.07986012423\n",
      "57 DEBUG    [2212] ticklocs array([1.e-01, 1.e+00, 1.e+01, 1.e+02, 1.e+03, 1.e+04, 1.e+05, 1.e+06])\n",
      "59 DEBUG    [2157] vmin 6.902934678518222 vmax 23722.07986012423\n",
      "59 DEBUG    [2212] ticklocs [0.2, 0.30000000000000004, 0.4, 0.5, 0.6000000000000001, 0.7000000000000001, 0.8, 0.9, 2.0, 3.0, 4.0, 5.0, 6.0, 7.0, 8.0, 9.0, 20.0, 30.0, 40.0, 50.0, 60.0, 70.0, 80.0, 90.0, 200.0, 300.0, 400.0, 500.0, 600.0, 700.0, 800.0, 900.0, 2000.0, 3000.0, 4000.0, 5000.0, 6000.0, 7000.0, 8000.0, 9000.0, 20000.0, 30000.0, 40000.0, 50000.0, 60000.0, 70000.0, 80000.0, 90000.0, 200000.0, 300000.0, 400000.0, 500000.0, 600000.0, 700000.0, 800000.0, 900000.0, 2000000.0, 3000000.0, 4000000.0, 5000000.0, 6000000.0, 7000000.0, 8000000.0, 9000000.0]\n",
      "66 DEBUG    [2515] update_title_pos\n",
      "72 DEBUG    [2157] vmin 6.902934678518222 vmax 23722.07986012423\n",
      "72 DEBUG    [2212] ticklocs array([1.e-01, 1.e+00, 1.e+01, 1.e+02, 1.e+03, 1.e+04, 1.e+05, 1.e+06])\n",
      "74 DEBUG    [2157] vmin 6.902934678518222 vmax 23722.07986012423\n",
      "74 DEBUG    [2212] ticklocs [0.2, 0.30000000000000004, 0.4, 0.5, 0.6000000000000001, 0.7000000000000001, 0.8, 0.9, 2.0, 3.0, 4.0, 5.0, 6.0, 7.0, 8.0, 9.0, 20.0, 30.0, 40.0, 50.0, 60.0, 70.0, 80.0, 90.0, 200.0, 300.0, 400.0, 500.0, 600.0, 700.0, 800.0, 900.0, 2000.0, 3000.0, 4000.0, 5000.0, 6000.0, 7000.0, 8000.0, 9000.0, 20000.0, 30000.0, 40000.0, 50000.0, 60000.0, 70000.0, 80000.0, 90000.0, 200000.0, 300000.0, 400000.0, 500000.0, 600000.0, 700000.0, 800000.0, 900000.0, 2000000.0, 3000000.0, 4000000.0, 5000000.0, 6000000.0, 7000000.0, 8000000.0, 9000000.0]\n",
      "76 DEBUG    [2157] vmin 6.902934678518222 vmax 23722.07986012423\n",
      "76 DEBUG    [2212] ticklocs array([1.e-01, 1.e+00, 1.e+01, 1.e+02, 1.e+03, 1.e+04, 1.e+05, 1.e+06])\n",
      "77 DEBUG    [2157] vmin 6.902934678518222 vmax 23722.07986012423\n",
      "78 DEBUG    [2212] ticklocs [0.2, 0.30000000000000004, 0.4, 0.5, 0.6000000000000001, 0.7000000000000001, 0.8, 0.9, 2.0, 3.0, 4.0, 5.0, 6.0, 7.0, 8.0, 9.0, 20.0, 30.0, 40.0, 50.0, 60.0, 70.0, 80.0, 90.0, 200.0, 300.0, 400.0, 500.0, 600.0, 700.0, 800.0, 900.0, 2000.0, 3000.0, 4000.0, 5000.0, 6000.0, 7000.0, 8000.0, 9000.0, 20000.0, 30000.0, 40000.0, 50000.0, 60000.0, 70000.0, 80000.0, 90000.0, 200000.0, 300000.0, 400000.0, 500000.0, 600000.0, 700000.0, 800000.0, 900000.0, 2000000.0, 3000000.0, 4000000.0, 5000000.0, 6000000.0, 7000000.0, 8000000.0, 9000000.0]\n",
      "90 DEBUG    [2515] update_title_pos\n",
      "98 DEBUG    [2515] update_title_pos\n",
      "101 DEBUG    [2157] vmin 6.902934678518222 vmax 23722.07986012423\n",
      "102 DEBUG    [2212] ticklocs array([1.e-01, 1.e+00, 1.e+01, 1.e+02, 1.e+03, 1.e+04, 1.e+05, 1.e+06])\n",
      "103 DEBUG    [2157] vmin 6.902934678518222 vmax 23722.07986012423\n",
      "103 DEBUG    [2212] ticklocs [0.2, 0.30000000000000004, 0.4, 0.5, 0.6000000000000001, 0.7000000000000001, 0.8, 0.9, 2.0, 3.0, 4.0, 5.0, 6.0, 7.0, 8.0, 9.0, 20.0, 30.0, 40.0, 50.0, 60.0, 70.0, 80.0, 90.0, 200.0, 300.0, 400.0, 500.0, 600.0, 700.0, 800.0, 900.0, 2000.0, 3000.0, 4000.0, 5000.0, 6000.0, 7000.0, 8000.0, 9000.0, 20000.0, 30000.0, 40000.0, 50000.0, 60000.0, 70000.0, 80000.0, 90000.0, 200000.0, 300000.0, 400000.0, 500000.0, 600000.0, 700000.0, 800000.0, 900000.0, 2000000.0, 3000000.0, 4000000.0, 5000000.0, 6000000.0, 7000000.0, 8000000.0, 9000000.0]\n",
      "130 DEBUG    [2157] vmin 6.902934678518222 vmax 23722.07986012423\n",
      "130 DEBUG    [2212] ticklocs array([1.e-01, 1.e+00, 1.e+01, 1.e+02, 1.e+03, 1.e+04, 1.e+05, 1.e+06])\n",
      "131 DEBUG    [2157] vmin 6.902934678518222 vmax 23722.07986012423\n",
      "132 DEBUG    [2212] ticklocs [0.2, 0.30000000000000004, 0.4, 0.5, 0.6000000000000001, 0.7000000000000001, 0.8, 0.9, 2.0, 3.0, 4.0, 5.0, 6.0, 7.0, 8.0, 9.0, 20.0, 30.0, 40.0, 50.0, 60.0, 70.0, 80.0, 90.0, 200.0, 300.0, 400.0, 500.0, 600.0, 700.0, 800.0, 900.0, 2000.0, 3000.0, 4000.0, 5000.0, 6000.0, 7000.0, 8000.0, 9000.0, 20000.0, 30000.0, 40000.0, 50000.0, 60000.0, 70000.0, 80000.0, 90000.0, 200000.0, 300000.0, 400000.0, 500000.0, 600000.0, 700000.0, 800000.0, 900000.0, 2000000.0, 3000000.0, 4000000.0, 5000000.0, 6000000.0, 7000000.0, 8000000.0, 9000000.0]\n",
      "144 DEBUG    [2515] update_title_pos\n"
     ]
    },
    {
     "data": {
      "image/png": "[encoded data removed]",
      "text/plain": [
       "<Figure size 720x432 with 2 Axes>"
      ]
     },
     "metadata": {
      "needs_background": "light"
     },
     "output_type": "display_data"
    }
   ],
   "source": [
    "show_expers()"
   ]
  },
  {
   "cell_type": "code",
   "execution_count": 97,
   "metadata": {},
   "outputs": [],
   "source": [
    "def rand_elem(list1):\n",
    "    return list1[np.random.randint(0, len(list1))]"
   ]
  },
  {
   "cell_type": "code",
   "execution_count": null,
   "metadata": {},
   "outputs": [
    {
     "name": "stderr",
     "output_type": "stream",
     "text": [
      "796 INFO     [2] (256, 25)\n",
      "798 INFO     [2] Reweighting: log\n",
      "798 INFO     [5] Loading tensor from /mnt/store/home/makrai/project/verb-tensor/sktensor/tensor_256.pkl\n",
      "52 DEBUG    [7] (7957, 5054, 3740)\n",
      "463 DEBUG    [218] [  0] fit: 0.38376 | delta: 3.8e-01 | secs: 103.01304\n",
      "489 DEBUG    [191] Zero norm, mode 0, count 0\n",
      "506 DEBUG    [191] Zero norm, mode 1, count 0\n",
      "520 DEBUG    [191] Zero norm, mode 2, count 0\n",
      "313 DEBUG    [218] [  1] fit: 0.42198 | delta: 3.8e-02 | secs: 102.95067\n",
      "341 DEBUG    [191] Zero norm, mode 0, count 0\n",
      "361 DEBUG    [191] Zero norm, mode 1, count 0\n",
      "375 DEBUG    [191] Zero norm, mode 2, count 0\n",
      "760 DEBUG    [218] [  2] fit: 0.42646 | delta: 4.5e-03 | secs: 102.56609\n",
      "786 DEBUG    [191] Zero norm, mode 0, count 0\n",
      "804 DEBUG    [191] Zero norm, mode 1, count 0\n",
      "817 DEBUG    [191] Zero norm, mode 2, count 0\n"
     ]
    }
   ],
   "source": [
    "while True:\n",
    "    decomp(2**rand_elem(range(14, 3, -1)), 25)"
   ]
  },
  {
   "cell_type": "code",
   "execution_count": 102,
   "metadata": {},
   "outputs": [],
   "source": [
    "ktensor, fit, n_iterations, exectimes = pickle.load(open('/mnt/store/home/makrai/project/verb-tensor/sktensor/decomp_2048_10.pkl', mode='rb'))"
   ]
  },
  {
   "cell_type": "code",
   "execution_count": 103,
   "metadata": {},
   "outputs": [
    {
     "data": {
      "text/plain": [
       "26.912866300000164"
      ]
     },
     "execution_count": 103,
     "metadata": {},
     "output_type": "execute_result"
    }
   ],
   "source": [
    "sum(exectimes)/60"
   ]
  }
 ],
 "metadata": {
  "kernelspec": {
   "display_name": "Python 3",
   "language": "python",
   "name": "python3"
  },
  "language_info": {
   "codemirror_mode": {
    "name": "ipython",
    "version": 3
   },
   "file_extension": ".py",
   "mimetype": "text/x-python",
   "name": "python",
   "nbconvert_exporter": "python",
   "pygments_lexer": "ipython3",
   "version": "3.7.1"
  }
 },
 "nbformat": 4,
 "nbformat_minor": 2
}
