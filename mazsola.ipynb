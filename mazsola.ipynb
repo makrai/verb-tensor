{
 "cells": [
  {
   "cell_type": "code",
   "execution_count": 45,
   "metadata": {},
   "outputs": [
    {
     "name": "stderr",
     "output_type": "stream",
     "text": [
      "2019-03-03 17:43:54,663,663 DEBUG    [211] Loaded backend module://ipykernel.pylab.backend_inline version unknown.\n"
     ]
    },
    {
     "name": "stdout",
     "output_type": "stream",
     "text": [
      "Populating the interactive namespace from numpy and matplotlib\n"
     ]
    },
    {
     "name": "stderr",
     "output_type": "stream",
     "text": [
      "/home/makrai/tool/python/miniconda3/lib/python3.7/site-packages/IPython/core/magics/pylab.py:160: UserWarning: pylab import has clobbered these variables: ['random']\n",
      "`%matplotlib` prevents importing * from pylab and numpy\n",
      "  \"\\n`%matplotlib` prevents importing * from pylab and numpy\"\n"
     ]
    }
   ],
   "source": [
    "from collections import defaultdict\n",
    "import operator\n",
    "import os\n",
    "import re\n",
    "\n",
    "import numpy as np\n",
    "import pandas as pd\n",
    "import pickle\n",
    "import random\n",
    "import sparse\n",
    "#import tensorly as tl\n",
    "#import tensorly.decomposition as decomp\n",
    "import sktensor\n",
    "import urllib3\n",
    "#import wget\n",
    "\n",
    "import matplotlib.pyplot as plt\n",
    "%pylab inline\n",
    "pylab.rcParams['figure.figsize'] = (10, 6)\n",
    "\n",
    "import logging\n",
    "logging.basicConfig(level=logging.DEBUG, \n",
    "                    format='%(msecs)d %(levelname)-8s [%(lineno)d] %(message)s')\n",
    "\n",
    "if not os.path.exists('cp_orth.py'):\n",
    "    wget.download('http://web.stanford.edu/~vsharan/cp_orth.py')\n",
    "from cp_orth import orth_als"
   ]
  },
  {
   "cell_type": "code",
   "execution_count": 6,
   "metadata": {},
   "outputs": [],
   "source": [
    "def mazsola_reader():\n",
    "    pickle_path = '/mnt/store/home/makrai/project/verb-tensor/mazsola.pkl'\n",
    "    if os.path.exists(pickle_path):\n",
    "        logging.info('Loading mazsola dict from {}'.format(pickle_path))\n",
    "        return pickle.load(open(pickle_path, mode='rb'))\n",
    "    logging.info('Reading mazsola...'.format(pickle_path))\n",
    "    path = '/mnt/permanent/Language/Hungarian/Dic/sass15-535k-igei-szerkezet/mazsola_adatbazis.txt'\n",
    "    occurrence = defaultdict(int)#lambda: defaultdict(lambda: defaultdict(int)))\n",
    "    margianls = [defaultdict(int) for _ in range(3)]\n",
    "    with open(path) as infile:\n",
    "        for i, line in enumerate(infile):\n",
    "            if not i % 500000:\n",
    "                logging.info('{:.0%}'.format(i/27970403))\n",
    "            record = defaultdict(str)\n",
    "            for token in line.strip().split():\n",
    "                case_stem = re.split('@@', token)\n",
    "                if len(case_stem) == 1:\n",
    "                    continue\n",
    "                try:\n",
    "                    case, stem = case_stem\n",
    "                except:\n",
    "                    logging.warning(line.strip())\n",
    "                record[case] = stem\n",
    "            occurrence[record['NOM'], record['stem'], record['ACC']] += 1\n",
    "            for i, mode in enumerate(['NOM', 'stem', 'ACC']):\n",
    "                margianls[i][record[mode]] += 1            \n",
    "    result = occurrence, margianls\n",
    "    pickle.dump(result, open(pickle_path, mode='wb'))\n",
    "    return result                "
   ]
  },
  {
   "cell_type": "code",
   "execution_count": 82,
   "metadata": {},
   "outputs": [],
   "source": [
    "def get_tensor(middle_end='sktensor', cutoff=10):\n",
    "    logging.info('Reweighting: log')\n",
    "    verb_tensor_path = '/mnt/store/home/makrai/project/verb-tensor/exper/{}/tensor_{}.pkl'.format(middle_end, cutoff)\n",
    "    if os.path.exists(verb_tensor_path):\n",
    "        logging.info('Loading {}'.format(verb_tensor_path))\n",
    "        tensor = pickle.load(open(verb_tensor_path, mode='rb'))\n",
    "        logging.debug(tensor)\n",
    "        return tensor\n",
    "    occurrence, marginals = mazsola_reader()\n",
    "    def get_index(freq_dict):\n",
    "        items = sorted(filter(lambda item: item[1] >= cutoff, freq_dict.items()), key=operator.itemgetter(1), \n",
    "                       reverse=True)\n",
    "        logging.debug(items[-3:])\n",
    "        return dict([(w, i) for i, (w, f) in enumerate(items)])\n",
    "\n",
    "    coords, data = ([], [], []), []\n",
    "    indices = [get_index(fd) for fd in marginals]\n",
    "    logging.info('Building tensor...')\n",
    "    logging.info('  Pupulating lists...')\n",
    "    for i, ((svo), freq) in enumerate(occurrence.items()):\n",
    "        if not i % 2000000:\n",
    "            logging.debug('    {:,}'.format(i))#'{} {}'.format(svo[1], freq))\n",
    "        for i, word in enumerate(svo):\n",
    "            if svo[i] not in indices[i]:\n",
    "                break\n",
    "        else:\n",
    "            for i, word in enumerate(svo):\n",
    "                coords[i].append(indices[i][svo[i]])\n",
    "            data.append(np.log(freq))\n",
    "    logging.info('  Creating array')\n",
    "    shape = tuple(map(len, indices))\n",
    "    logging.info(shape)\n",
    "    if middle_end == 'tensorly':\n",
    "        tensor = sparse.COO(coords, data, shape=shape)#, has_duplicates=False)\n",
    "    elif middle_end == 'sktensor':\n",
    "        tensor = sktensor.sptensor(coords, data, shape=shape)\n",
    "    else:\n",
    "        raise NotImplementedError\n",
    "    pickle.dump(tensor, open(verb_tensor_path, mode='wb'))\n",
    "    logging.info(tensor)\n",
    "    return tensor"
   ]
  },
  {
   "cell_type": "markdown",
   "metadata": {},
   "source": [
    "|cutoff|         shape         | d=2  | d=4  | d=5 | d=6 | d=7 | d=10|\n",
    "|------|-----------------------|------|------|-----|-----|-----|-----|\n",
    "|     1| 383 k, 110 k, 200 k   |      \n",
    "|     2| 186 k,  60 k,  99 k   |\n",
    "|     5|  97 k,  33 k,  50 k   |\n",
    "|    10|  64 k,  23 k,  32 k   |\n",
    "|    16|  49 k,  19 k,  24 k   |\n",
    "|    32|  32 708 13 951 15 740 |14 min|\n",
    "|    64|  21 033 10 294  9 874 | 6 min|\n",
    "|   128|  13 093  7 345  6 116 | 2 min|\n",
    "|   256|   7 957  5 054  3 740 | 2 min|\n",
    "|   512|   4 598  3 269  2 183 | 1 min|\n",
    "|  1024|   2 489  2 084  1 196 |  51 s|\n",
    "|  2048|   1 251  1 293    579 |  27 s| 2 min|14 min|  \n",
    "|  4096|     622    773    243 |  12 s| 1 min| 2 min|  m  |   s|15 min|\n",
    "|  8192|     278    414    101 |     s|  55 s| 1 min|1 min|   s|4  min|\n",
    "| 16384|      87    185     43 |     s|     s|  17 s| 29 s| 27s| 50 s |\n",
    "\n",
    "10-es gyakorisági cutoffal a ginnyn még lefut, 5-össel már nem."
   ]
  },
  {
   "cell_type": "code",
   "execution_count": 125,
   "metadata": {},
   "outputs": [],
   "source": [
    "def decomp(cutoff, dim):\n",
    "    vtensor = get_tensor(cutoff=cutoff)\n",
    "    logging.info(vtensor.shape)\n",
    "    result = orth_als(vtensor, dim)\n",
    "    pickle.dump(result, open(\n",
    "        '/mnt/store/home/makrai/project/verb-tensor/exper/sktensor/decomp_{}_{}.pkl'.format(cutoff, dim), \n",
    "        mode='wb'))"
   ]
  },
  {
   "cell_type": "code",
   "execution_count": 130,
   "metadata": {},
   "outputs": [
    {
     "name": "stderr",
     "output_type": "stream",
     "text": [
      "2019-03-03 21:34:39,178,178 INFO     [2] Reweighting: log\n",
      "2019-03-03 21:34:39,182,182 INFO     [5] Loading /mnt/store/home/makrai/project/verb-tensor/exper/sktensor/tensor_2048.pkl\n",
      "2019-03-03 21:34:39,331,331 DEBUG    [7] <sktensor.sptensor.sptensor object at 0x7fdfdd6faf28>\n",
      "2019-03-03 21:34:39,332,332 INFO     [3] (1251, 1293, 579)\n",
      "2019-03-03 21:34:47,798,798 DEBUG    [218] [  0] fit: 0.41862 | delta: 4.2e-01 | secs: 7.70923\n",
      "2019-03-03 21:34:47,799,799 DEBUG    [191] Zero norm, mode 0, count 0\n",
      "2019-03-03 21:34:47,800,800 DEBUG    [191] Zero norm, mode 1, count 0\n",
      "2019-03-03 21:34:47,801,801 DEBUG    [191] Zero norm, mode 2, count 0\n",
      "2019-03-03 21:34:55,015,15 DEBUG    [218] [  1] fit: 0.43960 | delta: 2.1e-02 | secs: 7.21347\n",
      "2019-03-03 21:34:55,016,16 DEBUG    [191] Zero norm, mode 0, count 0\n",
      "2019-03-03 21:34:55,017,17 DEBUG    [191] Zero norm, mode 1, count 0\n",
      "2019-03-03 21:34:55,018,18 DEBUG    [191] Zero norm, mode 2, count 0\n",
      "2019-03-03 21:35:02,232,232 DEBUG    [218] [  2] fit: 0.45387 | delta: 1.4e-02 | secs: 7.21406\n",
      "2019-03-03 21:35:02,233,233 DEBUG    [191] Zero norm, mode 0, count 0\n",
      "2019-03-03 21:35:02,234,234 DEBUG    [191] Zero norm, mode 1, count 0\n",
      "2019-03-03 21:35:02,235,235 DEBUG    [191] Zero norm, mode 2, count 0\n",
      "2019-03-03 21:35:09,448,448 DEBUG    [218] [  3] fit: 0.46075 | delta: 6.9e-03 | secs: 7.21292\n",
      "2019-03-03 21:35:09,449,449 DEBUG    [191] Zero norm, mode 0, count 0\n",
      "2019-03-03 21:35:09,450,450 DEBUG    [191] Zero norm, mode 1, count 0\n",
      "2019-03-03 21:35:09,450,450 DEBUG    [191] Zero norm, mode 2, count 0\n",
      "2019-03-03 21:35:16,665,665 DEBUG    [218] [  4] fit: 0.46176 | delta: 1.0e-03 | secs: 7.21487\n",
      "2019-03-03 21:35:23,881,881 DEBUG    [218] [  5] fit: 0.48459 | delta: 2.3e-02 | secs: 7.21281\n",
      "2019-03-03 21:35:31,097,97 DEBUG    [218] [  6] fit: 0.49192 | delta: 7.3e-03 | secs: 7.21201\n",
      "2019-03-03 21:35:38,313,313 DEBUG    [218] [  7] fit: 0.49466 | delta: 2.7e-03 | secs: 7.21282\n",
      "2019-03-03 21:35:45,527,527 DEBUG    [218] [  8] fit: 0.49684 | delta: 2.2e-03 | secs: 7.21124\n",
      "2019-03-03 21:35:52,742,742 DEBUG    [218] [  9] fit: 0.49902 | delta: 2.2e-03 | secs: 7.21149\n",
      "2019-03-03 21:35:59,960,960 DEBUG    [218] [ 10] fit: 0.50140 | delta: 2.4e-03 | secs: 7.21492\n",
      "2019-03-03 21:36:07,176,176 DEBUG    [218] [ 11] fit: 0.50370 | delta: 2.3e-03 | secs: 7.21286\n",
      "2019-03-03 21:36:14,391,391 DEBUG    [218] [ 12] fit: 0.50540 | delta: 1.7e-03 | secs: 7.21142\n",
      "2019-03-03 21:36:21,607,607 DEBUG    [218] [ 13] fit: 0.50654 | delta: 1.1e-03 | secs: 7.21312\n",
      "2019-03-03 21:36:28,838,838 DEBUG    [218] [ 14] fit: 0.50734 | delta: 8.0e-04 | secs: 7.21375\n",
      "2019-03-03 21:36:36,053,53 DEBUG    [218] [ 15] fit: 0.50796 | delta: 6.1e-04 | secs: 7.21185\n",
      "2019-03-03 21:36:43,268,268 DEBUG    [218] [ 16] fit: 0.50845 | delta: 4.9e-04 | secs: 7.21173\n",
      "2019-03-03 21:36:50,481,481 DEBUG    [218] [ 17] fit: 0.50885 | delta: 4.0e-04 | secs: 7.21001\n",
      "2019-03-03 21:36:57,697,697 DEBUG    [218] [ 18] fit: 0.50918 | delta: 3.3e-04 | secs: 7.21264\n",
      "2019-03-03 21:37:04,913,913 DEBUG    [218] [ 19] fit: 0.50946 | delta: 2.8e-04 | secs: 7.21247\n",
      "2019-03-03 21:37:12,127,127 DEBUG    [218] [ 20] fit: 0.50969 | delta: 2.3e-04 | secs: 7.21107\n",
      "2019-03-03 21:37:19,342,342 DEBUG    [218] [ 21] fit: 0.50988 | delta: 1.9e-04 | secs: 7.21124\n",
      "2019-03-03 21:37:26,555,555 DEBUG    [218] [ 22] fit: 0.51004 | delta: 1.6e-04 | secs: 7.21024\n",
      "2019-03-03 21:37:33,769,769 DEBUG    [218] [ 23] fit: 0.51018 | delta: 1.4e-04 | secs: 7.21034\n",
      "2019-03-03 21:37:40,983,983 DEBUG    [218] [ 24] fit: 0.51030 | delta: 1.2e-04 | secs: 7.21034\n",
      "2019-03-03 21:37:48,196,196 DEBUG    [218] [ 25] fit: 0.51039 | delta: 9.8e-05 | secs: 7.21053\n",
      "2019-03-03 21:37:55,411,411 DEBUG    [218] [ 26] fit: 0.51048 | delta: 8.4e-05 | secs: 7.21169\n",
      "2019-03-03 21:38:02,628,628 DEBUG    [218] [ 27] fit: 0.51055 | delta: 7.3e-05 | secs: 7.21377\n",
      "2019-03-03 21:38:09,842,842 DEBUG    [218] [ 28] fit: 0.51061 | delta: 6.3e-05 | secs: 7.21036\n",
      "2019-03-03 21:38:17,058,58 DEBUG    [218] [ 29] fit: 0.51067 | delta: 5.5e-05 | secs: 7.21296\n",
      "2019-03-03 21:38:24,275,275 DEBUG    [218] [ 30] fit: 0.51072 | delta: 4.8e-05 | secs: 7.21278\n",
      "2019-03-03 21:38:31,493,493 DEBUG    [218] [ 31] fit: 0.51076 | delta: 4.3e-05 | secs: 7.21484\n",
      "2019-03-03 21:38:38,709,709 DEBUG    [218] [ 32] fit: 0.51080 | delta: 3.8e-05 | secs: 7.21238\n",
      "2019-03-03 21:38:45,924,924 DEBUG    [218] [ 33] fit: 0.51083 | delta: 3.4e-05 | secs: 7.21162\n",
      "2019-03-03 21:38:53,137,137 DEBUG    [218] [ 34] fit: 0.51086 | delta: 3.1e-05 | secs: 7.21007\n",
      "2019-03-03 21:39:00,350,350 DEBUG    [218] [ 35] fit: 0.51089 | delta: 2.8e-05 | secs: 7.21005\n",
      "2019-03-03 21:39:07,564,564 DEBUG    [218] [ 36] fit: 0.51092 | delta: 2.6e-05 | secs: 7.21009\n",
      "2019-03-03 21:39:14,781,781 DEBUG    [218] [ 37] fit: 0.51094 | delta: 2.4e-05 | secs: 7.21438\n",
      "2019-03-03 21:39:21,996,996 DEBUG    [218] [ 38] fit: 0.51097 | delta: 2.3e-05 | secs: 7.21179\n",
      "2019-03-03 21:39:29,210,210 DEBUG    [218] [ 39] fit: 0.51099 | delta: 2.1e-05 | secs: 7.21002\n",
      "2019-03-03 21:39:36,425,425 DEBUG    [218] [ 40] fit: 0.51101 | delta: 2.0e-05 | secs: 7.21233\n",
      "2019-03-03 21:39:43,640,640 DEBUG    [218] [ 41] fit: 0.51103 | delta: 1.9e-05 | secs: 7.21089\n",
      "2019-03-03 21:39:50,854,854 DEBUG    [218] [ 42] fit: 0.51104 | delta: 1.9e-05 | secs: 7.21149\n",
      "2019-03-03 21:39:58,071,71 DEBUG    [218] [ 43] fit: 0.51106 | delta: 1.8e-05 | secs: 7.21367\n",
      "2019-03-03 21:40:05,291,291 DEBUG    [218] [ 44] fit: 0.51108 | delta: 1.8e-05 | secs: 7.21664\n",
      "2019-03-03 21:40:12,524,524 DEBUG    [218] [ 45] fit: 0.51110 | delta: 1.7e-05 | secs: 7.22960\n",
      "2019-03-03 21:40:19,734,734 DEBUG    [218] [ 46] fit: 0.51111 | delta: 1.7e-05 | secs: 7.20643\n",
      "2019-03-03 21:40:26,945,945 DEBUG    [218] [ 47] fit: 0.51113 | delta: 1.7e-05 | secs: 7.20740\n",
      "2019-03-03 21:40:34,153,153 DEBUG    [218] [ 48] fit: 0.51115 | delta: 1.7e-05 | secs: 7.20448\n",
      "2019-03-03 21:40:41,362,362 DEBUG    [218] [ 49] fit: 0.51117 | delta: 1.7e-05 | secs: 7.20562\n",
      "2019-03-03 21:40:48,570,570 DEBUG    [218] [ 50] fit: 0.51118 | delta: 1.7e-05 | secs: 7.20481\n",
      "2019-03-03 21:40:55,821,821 DEBUG    [218] [ 51] fit: 0.51120 | delta: 1.7e-05 | secs: 7.24690\n",
      "2019-03-03 21:41:03,036,36 DEBUG    [218] [ 52] fit: 0.51122 | delta: 1.7e-05 | secs: 7.21210\n",
      "2019-03-03 21:41:10,250,250 DEBUG    [218] [ 53] fit: 0.51123 | delta: 1.8e-05 | secs: 7.21112\n",
      "2019-03-03 21:41:17,465,465 DEBUG    [218] [ 54] fit: 0.51125 | delta: 1.8e-05 | secs: 7.21096\n",
      "2019-03-03 21:41:24,680,680 DEBUG    [218] [ 55] fit: 0.51127 | delta: 1.8e-05 | secs: 7.21160\n",
      "2019-03-03 21:41:31,894,894 DEBUG    [218] [ 56] fit: 0.51129 | delta: 1.9e-05 | secs: 7.21074\n",
      "2019-03-03 21:41:39,108,108 DEBUG    [218] [ 57] fit: 0.51131 | delta: 1.9e-05 | secs: 7.21140\n",
      "2019-03-03 21:41:46,325,325 DEBUG    [218] [ 58] fit: 0.51133 | delta: 2.0e-05 | secs: 7.21311\n",
      "2019-03-03 21:41:53,538,538 DEBUG    [218] [ 59] fit: 0.51135 | delta: 2.0e-05 | secs: 7.21037\n",
      "2019-03-03 21:42:00,754,754 DEBUG    [218] [ 60] fit: 0.51137 | delta: 2.1e-05 | secs: 7.21260\n",
      "2019-03-03 21:42:07,988,988 DEBUG    [218] [ 61] fit: 0.51139 | delta: 2.2e-05 | secs: 7.23036\n",
      "2019-03-03 21:42:15,200,200 DEBUG    [218] [ 62] fit: 0.51141 | delta: 2.3e-05 | secs: 7.20799\n",
      "2019-03-03 21:42:22,410,410 DEBUG    [218] [ 63] fit: 0.51144 | delta: 2.4e-05 | secs: 7.20630\n",
      "2019-03-03 21:42:29,619,619 DEBUG    [218] [ 64] fit: 0.51146 | delta: 2.5e-05 | secs: 7.20559\n",
      "2019-03-03 21:42:36,828,828 DEBUG    [218] [ 65] fit: 0.51149 | delta: 2.6e-05 | secs: 7.20562\n",
      "2019-03-03 21:42:44,045,45 DEBUG    [218] [ 66] fit: 0.51152 | delta: 2.7e-05 | secs: 7.21241\n",
      "2019-03-03 21:42:51,260,260 DEBUG    [218] [ 67] fit: 0.51154 | delta: 2.9e-05 | secs: 7.21241\n",
      "2019-03-03 21:42:58,473,473 DEBUG    [218] [ 68] fit: 0.51158 | delta: 3.1e-05 | secs: 7.20940\n",
      "2019-03-03 21:43:05,687,687 DEBUG    [218] [ 69] fit: 0.51161 | delta: 3.3e-05 | secs: 7.21082\n",
      "2019-03-03 21:43:12,900,900 DEBUG    [218] [ 70] fit: 0.51164 | delta: 3.6e-05 | secs: 7.20945\n",
      "2019-03-03 21:43:20,114,114 DEBUG    [218] [ 71] fit: 0.51168 | delta: 3.9e-05 | secs: 7.21033\n",
      "2019-03-03 21:43:27,329,329 DEBUG    [218] [ 72] fit: 0.51173 | delta: 4.3e-05 | secs: 7.21183\n",
      "2019-03-03 21:43:34,545,545 DEBUG    [218] [ 73] fit: 0.51178 | delta: 4.8e-05 | secs: 7.21285\n"
     ]
    },
    {
     "name": "stderr",
     "output_type": "stream",
     "text": [
      "2019-03-03 21:43:41,758,758 DEBUG    [218] [ 74] fit: 0.51183 | delta: 5.4e-05 | secs: 7.20975\n",
      "2019-03-03 21:43:48,973,973 DEBUG    [218] [ 75] fit: 0.51189 | delta: 6.1e-05 | secs: 7.21128\n",
      "2019-03-03 21:43:56,189,189 DEBUG    [218] [ 76] fit: 0.51196 | delta: 7.0e-05 | secs: 7.21308\n",
      "2019-03-03 21:44:03,407,407 DEBUG    [218] [ 77] fit: 0.51204 | delta: 8.1e-05 | secs: 7.21463\n",
      "2019-03-03 21:44:10,620,620 DEBUG    [218] [ 78] fit: 0.51214 | delta: 9.5e-05 | secs: 7.21021\n",
      "2019-03-03 21:44:17,834,834 DEBUG    [218] [ 79] fit: 0.51225 | delta: 1.1e-04 | secs: 7.21050\n",
      "2019-03-03 21:44:25,048,48 DEBUG    [218] [ 80] fit: 0.51238 | delta: 1.3e-04 | secs: 7.20995\n",
      "2019-03-03 21:44:32,261,261 DEBUG    [218] [ 81] fit: 0.51254 | delta: 1.6e-04 | secs: 7.21071\n",
      "2019-03-03 21:44:39,475,475 DEBUG    [218] [ 82] fit: 0.51273 | delta: 1.9e-04 | secs: 7.20962\n",
      "2019-03-03 21:44:46,690,690 DEBUG    [218] [ 83] fit: 0.51295 | delta: 2.2e-04 | secs: 7.21259\n",
      "2019-03-03 21:44:53,940,940 DEBUG    [218] [ 84] fit: 0.51319 | delta: 2.4e-04 | secs: 7.24629\n",
      "2019-03-03 21:45:01,151,151 DEBUG    [218] [ 85] fit: 0.51345 | delta: 2.6e-04 | secs: 7.20755\n",
      "2019-03-03 21:45:08,360,360 DEBUG    [218] [ 86] fit: 0.51370 | delta: 2.5e-04 | secs: 7.20560\n",
      "2019-03-03 21:45:15,567,567 DEBUG    [218] [ 87] fit: 0.51392 | delta: 2.2e-04 | secs: 7.20323\n",
      "2019-03-03 21:45:22,774,774 DEBUG    [218] [ 88] fit: 0.51410 | delta: 1.8e-04 | secs: 7.20372\n",
      "2019-03-03 21:45:29,983,983 DEBUG    [218] [ 89] fit: 0.51424 | delta: 1.4e-04 | secs: 7.20526\n",
      "2019-03-03 21:45:37,189,189 DEBUG    [218] [ 90] fit: 0.51435 | delta: 1.1e-04 | secs: 7.20283\n",
      "2019-03-03 21:45:44,397,397 DEBUG    [218] [ 91] fit: 0.51444 | delta: 8.5e-05 | secs: 7.20375\n",
      "2019-03-03 21:45:51,608,608 DEBUG    [218] [ 92] fit: 0.51451 | delta: 6.9e-05 | secs: 7.20764\n",
      "2019-03-03 21:45:58,816,816 DEBUG    [218] [ 93] fit: 0.51456 | delta: 5.7e-05 | secs: 7.20479\n",
      "2019-03-03 21:46:06,029,29 DEBUG    [218] [ 94] fit: 0.51461 | delta: 4.9e-05 | secs: 7.20968\n",
      "2019-03-03 21:46:13,236,236 DEBUG    [218] [ 95] fit: 0.51466 | delta: 4.3e-05 | secs: 7.20413\n",
      "2019-03-03 21:46:20,468,468 DEBUG    [218] [ 96] fit: 0.51469 | delta: 3.9e-05 | secs: 7.22897\n",
      "2019-03-03 21:46:27,685,685 DEBUG    [218] [ 97] fit: 0.51473 | delta: 3.5e-05 | secs: 7.21353\n",
      "2019-03-03 21:46:34,898,898 DEBUG    [218] [ 98] fit: 0.51476 | delta: 3.1e-05 | secs: 7.20969\n",
      "2019-03-03 21:46:42,114,114 DEBUG    [218] [ 99] fit: 0.51479 | delta: 2.9e-05 | secs: 7.21218\n",
      "2019-03-03 21:46:49,329,329 DEBUG    [218] [100] fit: 0.51481 | delta: 2.6e-05 | secs: 7.21165\n",
      "2019-03-03 21:46:56,542,542 DEBUG    [218] [101] fit: 0.51484 | delta: 2.4e-05 | secs: 7.21030\n",
      "2019-03-03 21:47:03,757,757 DEBUG    [218] [102] fit: 0.51486 | delta: 2.2e-05 | secs: 7.21140\n",
      "2019-03-03 21:47:10,971,971 DEBUG    [218] [103] fit: 0.51488 | delta: 2.0e-05 | secs: 7.21091\n",
      "2019-03-03 21:47:18,184,184 DEBUG    [218] [104] fit: 0.51490 | delta: 1.9e-05 | secs: 7.20963\n",
      "2019-03-03 21:47:25,400,400 DEBUG    [218] [105] fit: 0.51492 | delta: 1.7e-05 | secs: 7.21205\n",
      "2019-03-03 21:47:32,613,613 DEBUG    [218] [106] fit: 0.51493 | delta: 1.6e-05 | secs: 7.21049\n",
      "2019-03-03 21:47:39,828,828 DEBUG    [218] [107] fit: 0.51495 | delta: 1.5e-05 | secs: 7.21098\n",
      "2019-03-03 21:47:47,043,43 DEBUG    [218] [108] fit: 0.51496 | delta: 1.4e-05 | secs: 7.21205\n",
      "2019-03-03 21:47:54,257,257 DEBUG    [218] [109] fit: 0.51497 | delta: 1.3e-05 | secs: 7.21135\n",
      "2019-03-03 21:48:01,476,476 DEBUG    [218] [110] fit: 0.51499 | delta: 1.2e-05 | secs: 7.21544\n",
      "2019-03-03 21:48:08,692,692 DEBUG    [218] [111] fit: 0.51500 | delta: 1.1e-05 | secs: 7.21226\n",
      "2019-03-03 21:48:15,901,901 DEBUG    [218] [112] fit: 0.51501 | delta: 1.1e-05 | secs: 7.20562\n",
      "2019-03-03 21:48:23,107,107 DEBUG    [218] [113] fit: 0.51502 | delta: 1.0e-05 | secs: 7.20283\n",
      "2019-03-03 21:48:30,316,316 DEBUG    [218] [114] fit: 0.51503 | delta: 9.5e-06 | secs: 7.20550\n"
     ]
    }
   ],
   "source": [
    "decomp(2048, 6)"
   ]
  },
  {
   "cell_type": "code",
   "execution_count": null,
   "metadata": {},
   "outputs": [
    {
     "name": "stderr",
     "output_type": "stream",
     "text": [
      "2019-03-03 21:51:13,929,929 INFO     [2] Reweighting: log\n",
      "2019-03-03 21:51:13,932,932 INFO     [5] Loading /mnt/store/home/makrai/project/verb-tensor/exper/sktensor/tensor_16.pkl\n",
      "2019-03-03 21:51:14,507,507 DEBUG    [7] <sktensor.sptensor.sptensor object at 0x7fe011543518>\n",
      "2019-03-03 21:51:14,508,508 INFO     [3] (49356, 19026, 24551)\n",
      "2019-03-03 21:51:58,161,161 DEBUG    [218] [  0] fit: 0.32377 | delta: 3.2e-01 | secs: 13.91326\n",
      "2019-03-03 21:51:58,163,163 DEBUG    [191] Zero norm, mode 0, count 1\n",
      "2019-03-03 21:51:58,165,165 DEBUG    [191] Zero norm, mode 1, count 1\n",
      "2019-03-03 21:51:58,166,166 DEBUG    [191] Zero norm, mode 2, count 1\n"
     ]
    }
   ],
   "source": [
    "decomp(16, 2)\n",
    "decomp(15, 2)\n",
    "decomp(10, 2)\n",
    "for dim in rangee(3,11):\n",
    "    for exp in range(14, 4, -1):\n",
    "        decomp(2**exp, dim)"
   ]
  },
  {
   "cell_type": "code",
   "execution_count": 131,
   "metadata": {},
   "outputs": [],
   "source": [
    "ktensor, fit, n_iterations, exectimes = pickle.load(open(\n",
    "    '/mnt/store/home/makrai/project/verb-tensor/exper/sktensor/decomp_2048_6.pkl', mode='rb'))"
   ]
  },
  {
   "cell_type": "code",
   "execution_count": 132,
   "metadata": {},
   "outputs": [
    {
     "data": {
      "text/plain": [
       "13.830557099999988"
      ]
     },
     "execution_count": 132,
     "metadata": {},
     "output_type": "execute_result"
    }
   ],
   "source": [
    "sum(exectimes)/60"
   ]
  },
  {
   "cell_type": "code",
   "execution_count": 124,
   "metadata": {},
   "outputs": [
    {
     "data": {
      "text/plain": [
       "(1251, 10)"
      ]
     },
     "execution_count": 124,
     "metadata": {},
     "output_type": "execute_result"
    }
   ],
   "source": [
    "ktensor.U[0].shape"
   ]
  },
  {
   "cell_type": "code",
   "execution_count": 102,
   "metadata": {},
   "outputs": [
    {
     "data": {
      "text/plain": [
       "3"
      ]
     },
     "execution_count": 102,
     "metadata": {},
     "output_type": "execute_result"
    }
   ],
   "source": [
    "len(ktensor.U)"
   ]
  },
  {
   "cell_type": "code",
   "execution_count": 103,
   "metadata": {},
   "outputs": [
    {
     "data": {
      "text/plain": [
       "(622, 10)"
      ]
     },
     "execution_count": 103,
     "metadata": {},
     "output_type": "execute_result"
    }
   ],
   "source": [
    "ktensor.U[0].shape"
   ]
  },
  {
   "cell_type": "code",
   "execution_count": 56,
   "metadata": {},
   "outputs": [
    {
     "data": {
      "text/plain": [
       "3"
      ]
     },
     "execution_count": 56,
     "metadata": {},
     "output_type": "execute_result"
    }
   ],
   "source": [
    "ktensor.ndim"
   ]
  },
  {
   "cell_type": "code",
   "execution_count": null,
   "metadata": {},
   "outputs": [],
   "source": [
    "def plot_factor(factor=0, add_smooth=0):\n",
    "    plt.scatter(ktensor.U[factor][1:,0]+add_smooth, ktensor.U[factor][1:,1]+add_smooth, c=ktensor.U[factor][1:,2])\n",
    "    if add_smooth:\n",
    "        plt.xscale('log')\n",
    "        plt.yscale('log')\n",
    "\n",
    "plot_factor(2)"
   ]
  }
 ],
 "metadata": {
  "kernelspec": {
   "display_name": "Python 3",
   "language": "python",
   "name": "python3"
  },
  "language_info": {
   "codemirror_mode": {
    "name": "ipython",
    "version": 3
   },
   "file_extension": ".py",
   "mimetype": "text/x-python",
   "name": "python",
   "nbconvert_exporter": "python",
   "pygments_lexer": "ipython3",
   "version": "3.7.1"
  }
 },
 "nbformat": 4,
 "nbformat_minor": 2
}
