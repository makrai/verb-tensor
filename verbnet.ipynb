{
 "cells": [
  {
   "cell_type": "code",
   "execution_count": 54,
   "metadata": {},
   "outputs": [],
   "source": [
    "import nltk\n",
    "import pickle\n",
    "import pandas as pd"
   ]
  },
  {
   "cell_type": "code",
   "execution_count": 5,
   "metadata": {},
   "outputs": [],
   "source": [
    "from nltk.corpus import verbnet as vn"
   ]
  },
  {
   "cell_type": "code",
   "execution_count": 24,
   "metadata": {},
   "outputs": [
    {
     "data": {
      "text/plain": [
       "['give-13.1-1']"
      ]
     },
     "execution_count": 24,
     "metadata": {},
     "output_type": "execute_result"
    }
   ],
   "source": [
    "vn.classids(lemma='give')"
   ]
  },
  {
   "cell_type": "code",
   "execution_count": 25,
   "metadata": {},
   "outputs": [
    {
     "data": {
      "text/plain": [
       "['give', 'hock', 'rent', 'sell', 'lease', 'pawn']"
      ]
     },
     "execution_count": 25,
     "metadata": {},
     "output_type": "execute_result"
    }
   ],
   "source": [
    "vn.lemmas('give-13.1-1')"
   ]
  },
  {
   "cell_type": "code",
   "execution_count": 26,
   "metadata": {},
   "outputs": [
    {
     "data": {
      "text/plain": [
       "['lend', 'loan', 'pass', 'peddle', 'refund', 'render', 'volunteer']"
      ]
     },
     "execution_count": 26,
     "metadata": {},
     "output_type": "execute_result"
    }
   ],
   "source": [
    "vn.lemmas('give-13.1')"
   ]
  },
  {
   "cell_type": "code",
   "execution_count": 43,
   "metadata": {},
   "outputs": [
    {
     "data": {
      "text/plain": [
       "{'example': 'He leased the car for $200 a week.',\n",
       " 'description': {'primary': 'NP-PP', 'secondary': 'Asset-PP'},\n",
       " 'syntax': [{'pos_tag': 'NP',\n",
       "   'modifiers': {'value': 'Agent', 'selrestrs': [], 'synrestrs': []}},\n",
       "  {'pos_tag': 'VERB',\n",
       "   'modifiers': {'value': '', 'selrestrs': [], 'synrestrs': []}},\n",
       "  {'pos_tag': 'NP',\n",
       "   'modifiers': {'value': 'Theme', 'selrestrs': [], 'synrestrs': []}},\n",
       "  {'pos_tag': 'PREP',\n",
       "   'modifiers': {'value': 'for at', 'selrestrs': [], 'synrestrs': []}},\n",
       "  {'pos_tag': 'NP',\n",
       "   'modifiers': {'value': 'Asset', 'selrestrs': [], 'synrestrs': []}}],\n",
       " 'semantics': [{'predicate_value': 'has_possession',\n",
       "   'arguments': [{'type': 'Event', 'value': 'start(E)'},\n",
       "    {'type': 'ThemRole', 'value': 'Agent'},\n",
       "    {'type': 'ThemRole', 'value': 'Theme'}]},\n",
       "  {'predicate_value': 'has_possession',\n",
       "   'arguments': [{'type': 'Event', 'value': 'end(E)'},\n",
       "    {'type': 'ThemRole', 'value': '?Recipient'},\n",
       "    {'type': 'ThemRole', 'value': 'Theme'}]},\n",
       "  {'predicate_value': 'has_possession',\n",
       "   'arguments': [{'type': 'Event', 'value': 'start(E)'},\n",
       "    {'type': 'ThemRole', 'value': '?Recipient'},\n",
       "    {'type': 'ThemRole', 'value': 'Asset'}]},\n",
       "  {'predicate_value': 'has_possession',\n",
       "   'arguments': [{'type': 'Event', 'value': 'end(E)'},\n",
       "    {'type': 'ThemRole', 'value': 'Agent'},\n",
       "    {'type': 'ThemRole', 'value': 'Asset'}]},\n",
       "  {'predicate_value': 'transfer',\n",
       "   'arguments': [{'type': 'Event', 'value': 'during(E)'},\n",
       "    {'type': 'ThemRole', 'value': 'Theme'}]}]}"
      ]
     },
     "execution_count": 43,
     "metadata": {},
     "output_type": "execute_result"
    }
   ],
   "source": [
    "vn.frames('give-13.1-1')[0]#['semantics']#[0]"
   ]
  },
  {
   "cell_type": "code",
   "execution_count": 50,
   "metadata": {},
   "outputs": [],
   "source": [
    "coo, index = pickle.load(open('/mnt/permanent/home/makrai/project/verb-tensor/tensorly/tensor/sparstensr_log_freq_2000.pkl',\n",
    "                    mode='rb'))"
   ]
  },
  {
   "cell_type": "code",
   "execution_count": 79,
   "metadata": {},
   "outputs": [],
   "source": [
    "df = pd.DataFrame(index['ROOT'], columns=['verb'])"
   ]
  },
  {
   "cell_type": "code",
   "execution_count": 80,
   "metadata": {},
   "outputs": [],
   "source": [
    "df['vnclass'] = df.verb.apply(lambda lemma: ' '.join(sorted(vn.classids(lemma=lemma))))"
   ]
  },
  {
   "cell_type": "code",
   "execution_count": 81,
   "metadata": {},
   "outputs": [
    {
     "data": {
      "text/plain": [
       "vnclass\n",
       "                             3229\n",
       "other_cos-45.4                 80\n",
       "amuse-31.1                     61\n",
       "judgement-33                   24\n",
       "run-51.3.2                     23\n",
       "admire-31.2                    18\n",
       "butter-9.9                     15\n",
       "captain-29.8-1                 14\n",
       "tape-22.4                      13\n",
       "fill-9.8                       12\n",
       "characterize-29.2              12\n",
       "force-59                       11\n",
       "get-13.5.1                     10\n",
       "nonverbal_expression-40.2      10\n",
       "future_having-13.3              9\n",
       "pocket-9.10                     9\n",
       "say-37.7                        8\n",
       "obtain-13.5.2                   8\n",
       "search-35.2                     7\n",
       "correspond-36.1                 7\n",
       "dtype: int64"
      ]
     },
     "execution_count": 81,
     "metadata": {},
     "output_type": "execute_result"
    }
   ],
   "source": [
    "df.groupby('vnclass').size().sort_values(ascending=False).head(20)"
   ]
  },
  {
   "cell_type": "code",
   "execution_count": 82,
   "metadata": {},
   "outputs": [
    {
     "data": {
      "text/plain": [
       "(4757, 2)"
      ]
     },
     "execution_count": 82,
     "metadata": {},
     "output_type": "execute_result"
    }
   ],
   "source": [
    "df.shape"
   ]
  },
  {
   "cell_type": "code",
   "execution_count": 93,
   "metadata": {},
   "outputs": [
    {
     "data": {
      "text/html": [
       "<div>\n",
       "<style scoped>\n",
       "    .dataframe tbody tr th:only-of-type {\n",
       "        vertical-align: middle;\n",
       "    }\n",
       "\n",
       "    .dataframe tbody tr th {\n",
       "        vertical-align: top;\n",
       "    }\n",
       "\n",
       "    .dataframe thead th {\n",
       "        text-align: right;\n",
       "    }\n",
       "</style>\n",
       "<table border=\"1\" class=\"dataframe\">\n",
       "  <thead>\n",
       "    <tr style=\"text-align: right;\">\n",
       "      <th></th>\n",
       "      <th>verb</th>\n",
       "      <th>vnclass</th>\n",
       "    </tr>\n",
       "  </thead>\n",
       "  <tbody>\n",
       "    <tr>\n",
       "      <th>0</th>\n",
       "      <td>be</td>\n",
       "      <td></td>\n",
       "    </tr>\n",
       "    <tr>\n",
       "      <th>1</th>\n",
       "      <td>have</td>\n",
       "      <td></td>\n",
       "    </tr>\n",
       "    <tr>\n",
       "      <th>3</th>\n",
       "      <td>do</td>\n",
       "      <td></td>\n",
       "    </tr>\n",
       "    <tr>\n",
       "      <th>10</th>\n",
       "      <td>-rrb-</td>\n",
       "      <td></td>\n",
       "    </tr>\n",
       "    <tr>\n",
       "      <th>27</th>\n",
       "      <td>-lrb-</td>\n",
       "      <td></td>\n",
       "    </tr>\n",
       "    <tr>\n",
       "      <th>28</th>\n",
       "      <td>it</td>\n",
       "      <td></td>\n",
       "    </tr>\n",
       "    <tr>\n",
       "      <th>37</th>\n",
       "      <td>seem</td>\n",
       "      <td></td>\n",
       "    </tr>\n",
       "    <tr>\n",
       "      <th>41</th>\n",
       "      <td>,</td>\n",
       "      <td></td>\n",
       "    </tr>\n",
       "    <tr>\n",
       "      <th>42</th>\n",
       "      <td>able</td>\n",
       "      <td></td>\n",
       "    </tr>\n",
       "    <tr>\n",
       "      <th>44</th>\n",
       "      <td>one</td>\n",
       "      <td></td>\n",
       "    </tr>\n",
       "  </tbody>\n",
       "</table>\n",
       "</div>"
      ],
      "text/plain": [
       "     verb vnclass\n",
       "0      be        \n",
       "1    have        \n",
       "3      do        \n",
       "10  -rrb-        \n",
       "27  -lrb-        \n",
       "28     it        \n",
       "37   seem        \n",
       "41      ,        \n",
       "42   able        \n",
       "44    one        "
      ]
     },
     "execution_count": 93,
     "metadata": {},
     "output_type": "execute_result"
    }
   ],
   "source": [
    "df[df.vnclass==''].head(10)"
   ]
  },
  {
   "cell_type": "code",
   "execution_count": 87,
   "metadata": {},
   "outputs": [
    {
     "data": {
      "text/html": [
       "<div>\n",
       "<style scoped>\n",
       "    .dataframe tbody tr th:only-of-type {\n",
       "        vertical-align: middle;\n",
       "    }\n",
       "\n",
       "    .dataframe tbody tr th {\n",
       "        vertical-align: top;\n",
       "    }\n",
       "\n",
       "    .dataframe thead th {\n",
       "        text-align: right;\n",
       "    }\n",
       "</style>\n",
       "<table border=\"1\" class=\"dataframe\">\n",
       "  <thead>\n",
       "    <tr style=\"text-align: right;\">\n",
       "      <th></th>\n",
       "      <th>verb</th>\n",
       "      <th>vnclass</th>\n",
       "    </tr>\n",
       "  </thead>\n",
       "  <tbody>\n",
       "    <tr>\n",
       "      <th>115</th>\n",
       "      <td>improve</td>\n",
       "      <td>other_cos-45.4</td>\n",
       "    </tr>\n",
       "    <tr>\n",
       "      <th>361</th>\n",
       "      <td>perfect</td>\n",
       "      <td>other_cos-45.4</td>\n",
       "    </tr>\n",
       "    <tr>\n",
       "      <th>398</th>\n",
       "      <td>correct</td>\n",
       "      <td>other_cos-45.4</td>\n",
       "    </tr>\n",
       "    <tr>\n",
       "      <th>402</th>\n",
       "      <td>cool</td>\n",
       "      <td>other_cos-45.4</td>\n",
       "    </tr>\n",
       "    <tr>\n",
       "      <th>416</th>\n",
       "      <td>expand</td>\n",
       "      <td>other_cos-45.4</td>\n",
       "    </tr>\n",
       "  </tbody>\n",
       "</table>\n",
       "</div>"
      ],
      "text/plain": [
       "        verb         vnclass\n",
       "115  improve  other_cos-45.4\n",
       "361  perfect  other_cos-45.4\n",
       "398  correct  other_cos-45.4\n",
       "402     cool  other_cos-45.4\n",
       "416   expand  other_cos-45.4"
      ]
     },
     "execution_count": 87,
     "metadata": {},
     "output_type": "execute_result"
    }
   ],
   "source": [
    "df[df.vnclass=='other_cos-45.4'].head()"
   ]
  },
  {
   "cell_type": "code",
   "execution_count": 88,
   "metadata": {},
   "outputs": [
    {
     "data": {
      "text/html": [
       "<div>\n",
       "<style scoped>\n",
       "    .dataframe tbody tr th:only-of-type {\n",
       "        vertical-align: middle;\n",
       "    }\n",
       "\n",
       "    .dataframe tbody tr th {\n",
       "        vertical-align: top;\n",
       "    }\n",
       "\n",
       "    .dataframe thead th {\n",
       "        text-align: right;\n",
       "    }\n",
       "</style>\n",
       "<table border=\"1\" class=\"dataframe\">\n",
       "  <thead>\n",
       "    <tr style=\"text-align: right;\">\n",
       "      <th></th>\n",
       "      <th>verb</th>\n",
       "      <th>vnclass</th>\n",
       "    </tr>\n",
       "  </thead>\n",
       "  <tbody>\n",
       "    <tr>\n",
       "      <th>59</th>\n",
       "      <td>thank</td>\n",
       "      <td>judgement-33</td>\n",
       "    </tr>\n",
       "    <tr>\n",
       "      <th>461</th>\n",
       "      <td>celebrate</td>\n",
       "      <td>judgement-33</td>\n",
       "    </tr>\n",
       "    <tr>\n",
       "      <th>607</th>\n",
       "      <td>attack</td>\n",
       "      <td>judgement-33</td>\n",
       "    </tr>\n",
       "    <tr>\n",
       "      <th>664</th>\n",
       "      <td>fault</td>\n",
       "      <td>judgement-33</td>\n",
       "    </tr>\n",
       "    <tr>\n",
       "      <th>829</th>\n",
       "      <td>honor</td>\n",
       "      <td>judgement-33</td>\n",
       "    </tr>\n",
       "  </tbody>\n",
       "</table>\n",
       "</div>"
      ],
      "text/plain": [
       "          verb       vnclass\n",
       "59       thank  judgement-33\n",
       "461  celebrate  judgement-33\n",
       "607     attack  judgement-33\n",
       "664      fault  judgement-33\n",
       "829      honor  judgement-33"
      ]
     },
     "execution_count": 88,
     "metadata": {},
     "output_type": "execute_result"
    }
   ],
   "source": [
    "df[df.vnclass=='judgement-33'].head()"
   ]
  }
 ],
 "metadata": {
  "kernelspec": {
   "display_name": "vtens",
   "language": "python",
   "name": "vtens"
  },
  "language_info": {
   "codemirror_mode": {
    "name": "ipython",
    "version": 3
   },
   "file_extension": ".py",
   "mimetype": "text/x-python",
   "name": "python",
   "nbconvert_exporter": "python",
   "pygments_lexer": "ipython3",
   "version": "3.7.6"
  }
 },
 "nbformat": 4,
 "nbformat_minor": 2
}
