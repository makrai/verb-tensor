{
 "cells": [
  {
   "cell_type": "code",
   "execution_count": 8,
   "metadata": {},
   "outputs": [],
   "source": [
    "import pickle\n",
    "\n",
    "import numpy as np\n",
    "import sktensor\n",
    "\n",
    "import logging\n",
    "logging.basicConfig(level=logging.INFO, \n",
    "                    format='%(msecs)d %(levelname)-8s [%(lineno)d] %(message)s')"
   ]
  },
  {
   "cell_type": "markdown",
   "metadata": {},
   "source": [
    "# Triples by `lmbda`"
   ]
  },
  {
   "cell_type": "code",
   "execution_count": 9,
   "metadata": {},
   "outputs": [],
   "source": [
    "weight = 'salience'\n",
    "rank = 2\n",
    "sparse_tensor, index = pickle.load(open(\n",
    "    '/mnt/store/home/makrai/project/verb-tensor/depCC/sparstensr_{}_2.pkl'.format(weight), mode='rb'))"
   ]
  },
  {
   "cell_type": "code",
   "execution_count": 10,
   "metadata": {},
   "outputs": [],
   "source": [
    "ktensor, fit, n_iterations, exectimes = pickle.load(open(\n",
    "    '/mnt/store/home/makrai/project/verb-tensor/depCC/ktensor_{}_2_{}.pkl'.format(weight, rank), mode='rb'))"
   ]
  },
  {
   "cell_type": "code",
   "execution_count": 11,
   "metadata": {},
   "outputs": [],
   "source": [
    "modes = ['nsubj', 'ROOT', 'dobj']"
   ]
  },
  {
   "cell_type": "code",
   "execution_count": 12,
   "metadata": {},
   "outputs": [],
   "source": [
    "i_word = [{i: w for w, i in index[j].items()} for j in modes]"
   ]
  },
  {
   "cell_type": "code",
   "execution_count": 13,
   "metadata": {},
   "outputs": [],
   "source": [
    "vocab = [np.array([i_word[j][i] for i in range(len(i_word[j]))]) for j in range(len(i_word))]"
   ]
  },
  {
   "cell_type": "markdown",
   "metadata": {},
   "source": [
    "|rank|$\\lambda$|e.g.|\n",
    "|----|---------|----|\n",
    "|16|1|topic/example (2) provide/offer (2) assistance/guidance|\n",
    "|32|1|Android (3)  win degree (1)|\n",
    "|64|1|I describe (1) game/story (2)|"
   ]
  },
  {
   "cell_type": "code",
   "execution_count": 14,
   "metadata": {},
   "outputs": [
    {
     "name": "stdout",
     "output_type": "stream",
     "text": [
      "\n",
      "0 0\n",
      "['I' 'we' 'he' 'they' 'it' 'you' 'she' 'this']\n",
      "['-6e+01', '-3e+01', '-2e+01', '-2e+01', '-2e+01', '-1e+01', '-1e+01', '-4']\n",
      "['realize' 'imagine' 'doubt' 'suppose' 'figure' 'wonder' 'suspect'\n",
      " 'assume']\n",
      "['-0.01', '-0.01', '-0.01', '-0.01', '-0.01', '-0.01', '-0.01', '-0.01']\n",
      "['it' 'they' 'one' 'lot' 'time' 'he' 'thing' 'this']\n",
      "['-2e+01', '-2e+01', '-2e+01', '-2e+01', '-2e+01', '-1e+01', '-1e+01', '-1e+01']\n",
      "\n",
      "1 1\n",
      "['WalMart' 'Brownells' 'NAPA' 'Ebay' 'JFK' 'legend' 'EBay' 'kc']\n",
      "['-0.0002', '-0.0001', '-0.0001', '-0.0001', '-0.0001', '-9e-05', '-9e-05', '-9e-05']\n",
      "['have' 'use' 'get' 'love' 'take' 'see' 'need' 'make']\n",
      "['-8e+03', '-4e+03', '-4e+03', '-4e+03', '-3e+03', '-3e+03', '-3e+03', '-3e+03']\n",
      "['matt' 'frother' 'squid' 'Lamp' 'Sticks' 'Pocket' 'Excalibur' 'Moby']\n",
      "['-0.01', '-0.01', '-0.01', '-0.01', '-0.01', '-0.01', '-0.01', '-0.01']\n"
     ]
    }
   ],
   "source": [
    "for k, j in enumerate(np.argsort(-ktensor.lmbda)):#range(ktensor.rank):\n",
    "    j = k\n",
    "    print('\\n{} {}'.format(k, j))\n",
    "    for i in range(len(ktensor.U)):\n",
    "        ids = np.argsort(ktensor.U[i][:,j])[:8]\n",
    "        print(vocab[i][ids])\n",
    "        print(['{:.1g}'.format(coord) for coord in ktensor.U[i][ids,j]])"
   ]
  }
 ],
 "metadata": {
  "kernelspec": {
   "display_name": "Python 3",
   "language": "python",
   "name": "python3"
  },
  "language_info": {
   "codemirror_mode": {
    "name": "ipython",
    "version": 3
   },
   "file_extension": ".py",
   "mimetype": "text/x-python",
   "name": "python",
   "nbconvert_exporter": "python",
   "pygments_lexer": "ipython3",
   "version": "3.7.1"
  }
 },
 "nbformat": 4,
 "nbformat_minor": 2
}
