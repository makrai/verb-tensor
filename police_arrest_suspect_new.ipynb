{
 "cells": [
  {
   "cell_type": "code",
   "execution_count": 2,
   "metadata": {},
   "outputs": [],
   "source": [
    "import pickle\n",
    "\n",
    "import numpy as np\n",
    "import sktensor\n",
    "\n",
    "import logging\n",
    "logging.basicConfig(level=logging.INFO, \n",
    "                    format='%(msecs)d %(levelname)-8s [%(lineno)d] %(message)s')"
   ]
  },
  {
   "cell_type": "markdown",
   "metadata": {},
   "source": [
    "# Triples by `lmbda`"
   ]
  },
  {
   "cell_type": "code",
   "execution_count": 3,
   "metadata": {},
   "outputs": [],
   "source": [
    "def write_latend_dims(weight, rank, cutoff=2):\n",
    "    modes = ['nsubj', 'ROOT', 'dobj']\n",
    "    sparse_tensor, index = pickle.load(open(\n",
    "        '/mnt/store/home/makrai/project/verb-tensor/depCC/sparstensr_{}_{}.pkl'.format(weight, cutoff), mode='rb'))\n",
    "    ktensor, _, _, _ = pickle.load(open(\n",
    "        '/mnt/store/home/makrai/project/verb-tensor/depCC/ktensor_{}_{}_{}.pkl'.format(weight, cutoff, rank), \n",
    "        mode='rb'))\n",
    "    i_word = [{i: w for w, i in index[j].items()} for j in modes]\n",
    "    vocab = [np.array([i_word[j][i] for i in range(len(i_word[j]))]) for j in range(len(i_word))]\n",
    "    for k, j in enumerate(np.argsort(-ktensor.lmbda)):#range(ktensor.rank):\n",
    "        #j = k\n",
    "        print('\\n{} {}'.format(k, j))\n",
    "        for i in range(len(ktensor.U)):\n",
    "            ids = np.argsort(ktensor.U[i][:,j])[:8]\n",
    "            print(vocab[i][ids])\n",
    "            #print(['{:.1g}'.format(coord) for coord in ktensor.U[i][ids,j]])"
   ]
  },
  {
   "cell_type": "code",
   "execution_count": 9,
   "metadata": {},
   "outputs": [
    {
     "name": "stdout",
     "output_type": "stream",
     "text": [
      "\n",
      "0 0\n",
      "['I' 'we' 'he' 'they' 'it' 'you' 'she' 'this']\n",
      "['realize' 'imagine' 'doubt' 'suppose' 'figure' 'wonder' 'suspect'\n",
      " 'assume']\n",
      "['it' 'they' 'one' 'lot' 'time' 'he' 'thing' 'this']\n",
      "\n",
      "1 1\n",
      "['WalMart' 'Brownells' 'NAPA' 'Ebay' 'JFK' 'legend' 'EBay' 'kc']\n",
      "['have' 'use' 'get' 'love' 'take' 'see' 'need' 'make']\n",
      "['matt' 'frother' 'squid' 'Lamp' 'Sticks' 'Pocket' 'Excalibur' 'Moby']\n"
     ]
    }
   ],
   "source": [
    "write_latend_dims('log_freq', 3, 2)"
   ]
  },
  {
   "cell_type": "markdown",
   "metadata": {},
   "source": [
    "|rank|$\\lambda$|e.g.|\n",
    "|----|---------|----|\n",
    "|16|1|topic/example (2) provide/offer (2) assistance/guidance|\n",
    "|32|1|Android (3)  win degree (1)|\n",
    "|64|1|I describe (1) game/story (2)|"
   ]
  }
 ],
 "metadata": {
  "kernelspec": {
   "display_name": "Python 3",
   "language": "python",
   "name": "python3"
  },
  "language_info": {
   "codemirror_mode": {
    "name": "ipython",
    "version": 3
   },
   "file_extension": ".py",
   "mimetype": "text/x-python",
   "name": "python",
   "nbconvert_exporter": "python",
   "pygments_lexer": "ipython3",
   "version": "3.7.1"
  }
 },
 "nbformat": 4,
 "nbformat_minor": 2
}
