{
 "cells": [
  {
   "cell_type": "code",
   "execution_count": 34,
   "metadata": {},
   "outputs": [
    {
     "name": "stdout",
     "output_type": "stream",
     "text": [
      "Populating the interactive namespace from numpy and matplotlib\n"
     ]
    },
    {
     "name": "stderr",
     "output_type": "stream",
     "text": [
      "/home/makrai/tool/python/venv3/lib/python3.4/site-packages/IPython/core/magics/pylab.py:160: UserWarning: pylab import has clobbered these variables: ['rank']\n",
      "`%matplotlib` prevents importing * from pylab and numpy\n",
      "  \"\\n`%matplotlib` prevents importing * from pylab and numpy\"\n"
     ]
    }
   ],
   "source": [
    "from itertools import groupby\n",
    "from operator import itemgetter\n",
    "import os\n",
    "\n",
    "import pandas as pd\n",
    "import pickle\n",
    "from sklearn.decomposition import PCA\n",
    "import sparse\n",
    "\n",
    "import sktensor\n",
    "#from tensorly import decomposition\n",
    "from cp_orth import orth_als\n",
    "\n",
    "import logging\n",
    "logging.basicConfig(\n",
    "    format=\"%(asctime)s %(module)s (%(lineno)s) %(levelname)s %(message)s\",\n",
    "    level=logging.DEBUG)\n",
    "\n",
    "from matplotlib import pyplot as plt\n",
    "%matplotlib inline\n",
    "%pylab inline\n",
    "pylab.rcParams['figure.figsize'] = (15, 6)"
   ]
  },
  {
   "cell_type": "code",
   "execution_count": 12,
   "metadata": {},
   "outputs": [],
   "source": [
    "names = ['verb', 'args', 'mazsola1', 'mazsola_.5m', 'tade', 'prev', 'prev_inf', 'MetaMorpho', \n",
    "         'sum_rel_freq']\n",
    "manocska = pd.read_csv('/home/makrai/repo/manocska/manocska.sorted.txt', sep='\\t', names=names, index_col=[0,1], \n",
    "                       na_values='None')"
   ]
  },
  {
   "cell_type": "markdown",
   "metadata": {},
   "source": [
    "1. verb lemma (the verbal particle is separated by pipe, |)\n",
    "2. arguments, separated by space\n",
    "3. frequency based on the Hungarian verbal structures (dictionary)\n",
    "4. frequency based on the 500000 verbal structures (list)\n",
    "5. frequency based on Tádé\n",
    "6. frequency based on Ágnes Kalivoda's MA thesis (in the case no particle, this field in None)\n",
    "7. frequency based on Ágnes Kalivoda's collection _Infinitival constructions in Hungarian_; \n",
    "    in case of no infinitival argument, this field is None\n",
    "8. frequency based on MetaMorpho\n",
    "9. sum of the relative frequencies of the freame in each resource"
   ]
  },
  {
   "cell_type": "code",
   "execution_count": 13,
   "metadata": {},
   "outputs": [],
   "source": [
    "manocska = manocska.fillna(0)"
   ]
  },
  {
   "cell_type": "code",
   "execution_count": 14,
   "metadata": {},
   "outputs": [
    {
     "data": {
      "text/html": [
       "<div>\n",
       "<style scoped>\n",
       "    .dataframe tbody tr th:only-of-type {\n",
       "        vertical-align: middle;\n",
       "    }\n",
       "\n",
       "    .dataframe tbody tr th {\n",
       "        vertical-align: top;\n",
       "    }\n",
       "\n",
       "    .dataframe thead th {\n",
       "        text-align: right;\n",
       "    }\n",
       "</style>\n",
       "<table border=\"1\" class=\"dataframe\">\n",
       "  <thead>\n",
       "    <tr style=\"text-align: right;\">\n",
       "      <th></th>\n",
       "      <th></th>\n",
       "      <th>mazsola1</th>\n",
       "      <th>mazsola_.5m</th>\n",
       "      <th>tade</th>\n",
       "      <th>prev</th>\n",
       "      <th>prev_inf</th>\n",
       "      <th>MetaMorpho</th>\n",
       "      <th>sum_rel_freq</th>\n",
       "    </tr>\n",
       "    <tr>\n",
       "      <th>verb</th>\n",
       "      <th>args</th>\n",
       "      <th></th>\n",
       "      <th></th>\n",
       "      <th></th>\n",
       "      <th></th>\n",
       "      <th></th>\n",
       "      <th></th>\n",
       "      <th></th>\n",
       "    </tr>\n",
       "  </thead>\n",
       "  <tbody>\n",
       "    <tr>\n",
       "      <th>kell</th>\n",
       "      <th>INF</th>\n",
       "      <td>0</td>\n",
       "      <td>0</td>\n",
       "      <td>365197</td>\n",
       "      <td>0.0</td>\n",
       "      <td>1512519.0</td>\n",
       "      <td>0</td>\n",
       "      <td>0.219617</td>\n",
       "    </tr>\n",
       "    <tr>\n",
       "      <th>tud</th>\n",
       "      <th>INF</th>\n",
       "      <td>0</td>\n",
       "      <td>0</td>\n",
       "      <td>85760</td>\n",
       "      <td>0.0</td>\n",
       "      <td>1388057.0</td>\n",
       "      <td>0</td>\n",
       "      <td>0.173420</td>\n",
       "    </tr>\n",
       "    <tr>\n",
       "      <th>lehet</th>\n",
       "      <th>INF</th>\n",
       "      <td>0</td>\n",
       "      <td>0</td>\n",
       "      <td>110822</td>\n",
       "      <td>0.0</td>\n",
       "      <td>1139548.0</td>\n",
       "      <td>0</td>\n",
       "      <td>0.146930</td>\n",
       "    </tr>\n",
       "    <tr>\n",
       "      <th>fog</th>\n",
       "      <th>INF</th>\n",
       "      <td>0</td>\n",
       "      <td>0</td>\n",
       "      <td>47494</td>\n",
       "      <td>0.0</td>\n",
       "      <td>840888.0</td>\n",
       "      <td>0</td>\n",
       "      <td>0.104555</td>\n",
       "    </tr>\n",
       "    <tr>\n",
       "      <th>akar</th>\n",
       "      <th>INF</th>\n",
       "      <td>0</td>\n",
       "      <td>0</td>\n",
       "      <td>27731</td>\n",
       "      <td>0.0</td>\n",
       "      <td>612623.0</td>\n",
       "      <td>0</td>\n",
       "      <td>0.075398</td>\n",
       "    </tr>\n",
       "  </tbody>\n",
       "</table>\n",
       "</div>"
      ],
      "text/plain": [
       "            mazsola1  mazsola_.5m    tade  prev   prev_inf  MetaMorpho  \\\n",
       "verb  args                                                               \n",
       "kell  INF          0            0  365197   0.0  1512519.0           0   \n",
       "tud   INF          0            0   85760   0.0  1388057.0           0   \n",
       "lehet INF          0            0  110822   0.0  1139548.0           0   \n",
       "fog   INF          0            0   47494   0.0   840888.0           0   \n",
       "akar  INF          0            0   27731   0.0   612623.0           0   \n",
       "\n",
       "            sum_rel_freq  \n",
       "verb  args                \n",
       "kell  INF       0.219617  \n",
       "tud   INF       0.173420  \n",
       "lehet INF       0.146930  \n",
       "fog   INF       0.104555  \n",
       "akar  INF       0.075398  "
      ]
     },
     "execution_count": 14,
     "metadata": {},
     "output_type": "execute_result"
    }
   ],
   "source": [
    "manocska.head()"
   ]
  },
  {
   "cell_type": "markdown",
   "metadata": {},
   "source": [
    "# A preverb--verb--case tensor"
   ]
  },
  {
   "cell_type": "code",
   "execution_count": 15,
   "metadata": {},
   "outputs": [],
   "source": [
    "prevs, verbs = zip(*[verb.split('|') for verb, frame in manocska.index if '|' in verb])\n",
    "cases = [case for verb, frame in manocska.index for case in frame.split(' ')]"
   ]
  },
  {
   "cell_type": "code",
   "execution_count": 16,
   "metadata": {},
   "outputs": [],
   "source": [
    "def marginal(prevs):\n",
    "    ans = sorted([(key, len(list(group))) for key, group in groupby(sorted(prevs))], \n",
    "                  key=itemgetter(1), reverse=True)\n",
    "    print(ans[:6])\n",
    "    return dict(ans), {w: i for (i, (w, freq)) in enumerate(ans)}"
   ]
  },
  {
   "cell_type": "code",
   "execution_count": 17,
   "metadata": {},
   "outputs": [
    {
     "name": "stdout",
     "output_type": "stream",
     "text": [
      "[('meg', 91070), ('el', 60531), ('ki', 48548), ('be', 32611), ('fel', 31793), ('le', 21611)]\n",
      "[('ad', 6561), ('vesz', 5041), ('tesz', 4734), ('mond', 3917), ('megy', 3717), ('ír', 3672)]\n",
      "[('[Acc]', 362663), ('[Ine]', 140067), ('[Ins]', 97720), ('[Supe]', 96529), ('[Dat]', 96330), ('[Subl]', 94479)]\n"
     ]
    }
   ],
   "source": [
    "freqs, dicts = zip(*[marginal(list_) for list_ in [prevs, verbs, cases]])"
   ]
  },
  {
   "cell_type": "code",
   "execution_count": 20,
   "metadata": {},
   "outputs": [],
   "source": [
    "def get_tensor(resource='mazsola1', middle_end='sktensor', add_smooth=1):\n",
    "    coords, data = [[], [], []], []\n",
    "    for i, ((verb, frame), row) in enumerate(manocska.iterrows()):\n",
    "        if not i % 100000:\n",
    "            logging.info('{} {} {}'.format(i, verb, frame))\n",
    "        try:\n",
    "            prev, verb = verb.split('|')\n",
    "        except:\n",
    "            continue\n",
    "        val = np.log(row[resource] + add_smooth)\n",
    "        for case in frame.split(' '):\n",
    "            marg_prev_verb = np.log(freqs[0][prev]) + np.log(freqs[1][verb])\n",
    "            for i, item in enumerate([prev, verb, case]):\n",
    "                coords[i].append(dicts[i][item])\n",
    "                if add_smooth:\n",
    "                    val -= marg_prev_verb + np.log(freqs[2][case])\n",
    "            data.append(val)\n",
    "    shape = tuple(map(len, freqs))\n",
    "    logging.debug(([len(mode) for mode in coords], len(data)))\n",
    "    if middle_end == 'tensorly':\n",
    "        tensor = sparse.COO(coords, data, shape=shape)#, has_duplicates=False)\n",
    "    elif middle_end == 'sktensor':\n",
    "        tensor = sktensor.sptensor(tuple(coords), data, shape=shape)\n",
    "    logging.info(tensor)\n",
    "    return tensor"
   ]
  },
  {
   "cell_type": "code",
   "execution_count": 21,
   "metadata": {},
   "outputs": [
    {
     "name": "stderr",
     "output_type": "stream",
     "text": [
      "2018-10-09 15:34:09,510 <ipython-input-20-a46141067ffd> (5) INFO 0 kell INF\n",
      "2018-10-09 15:34:13,537 <ipython-input-20-a46141067ffd> (5) INFO 100000 fenn|áll =alapján [Temp]\n",
      "2018-10-09 15:34:17,525 <ipython-input-20-a46141067ffd> (5) INFO 200000 el|terel [Supe] forgalom[Acc]\n",
      "2018-10-09 15:34:20,849 <ipython-input-20-a46141067ffd> (5) INFO 300000 el|hangzik =előtt [Supe]\n",
      "2018-10-09 15:34:23,791 <ipython-input-20-a46141067ffd> (5) INFO 400000 el|tör váll[Poss][Nom]\n",
      "2018-10-09 15:34:25,250 <ipython-input-20-a46141067ffd> (5) INFO 500000 rúg százalékár[Poss][Nom]\n",
      "2018-10-09 15:34:26,522 <ipython-input-20-a46141067ffd> (5) INFO 600000 kifogásol [Acc] [Ill]\n",
      "2018-10-09 15:34:27,727 <ipython-input-20-a46141067ffd> (5) INFO 700000 követ árnyék[Poss][Nom]\n",
      "2018-10-09 15:34:28,910 <ipython-input-20-a46141067ffd> (5) INFO 800000 keres =óta [Acc] [Dat]\n",
      "2018-10-09 15:34:30,198 <ipython-input-20-a46141067ffd> (5) INFO 900000 lehet =felé [All]\n",
      "2018-10-09 15:34:31,071 <ipython-input-20-a46141067ffd> (19) DEBUG ([771720, 771720, 771720], 771720)\n",
      "2018-10-09 15:34:31,210 <ipython-input-20-a46141067ffd> (24) INFO <sktensor.sptensor.sptensor object at 0x7f5c03a3d2b0>\n"
     ]
    }
   ],
   "source": [
    "tensor = get_tensor()"
   ]
  },
  {
   "cell_type": "code",
   "execution_count": 22,
   "metadata": {},
   "outputs": [],
   "source": [
    "rank = 3"
   ]
  },
  {
   "cell_type": "code",
   "execution_count": 38,
   "metadata": {},
   "outputs": [],
   "source": [
    "filen = '/mnt/permanent/home/makrai/project/prev/prev-verb-cas-ktensor.pkl'\n",
    "if os.path.exists(filen):\n",
    "    ktensor = pickle.load(open(filen, mode='rb'))\n",
    "else:\n",
    "    ktensor, fit, itr, exectimes = orth_als(tensor, rank)\n",
    "    pickle.dump(ktensor, open(filen, mode='wb'))"
   ]
  },
  {
   "cell_type": "code",
   "execution_count": 28,
   "metadata": {},
   "outputs": [
    {
     "data": {
      "text/plain": [
       "array([ 6471.51409875, 16173.02368539,    71.79852599])"
      ]
     },
     "execution_count": 28,
     "metadata": {},
     "output_type": "execute_result"
    }
   ],
   "source": [
    "ktensor.lmbda"
   ]
  },
  {
   "cell_type": "code",
   "execution_count": 29,
   "metadata": {},
   "outputs": [],
   "source": [
    "def scatter_sorted(ktensor, mode=0):\n",
    "    order = np.argsort(-ktensor.lmbda)\n",
    "    plt.scatter(ktensor.U[mode][:,order[0]], ktensor.U[mode][:,order[1]], c=ktensor.U[mode][:,order[2]])"
   ]
  },
  {
   "cell_type": "code",
   "execution_count": 33,
   "metadata": {},
   "outputs": [
    {
     "name": "stdout",
     "output_type": "stream",
     "text": [
      "1\n"
     ]
    },
    {
     "data": {
      "image/png": "[encoded data removed]",
      "text/plain": [
       "<matplotlib.figure.Figure at 0x7f5c057944e0>"
      ]
     },
     "metadata": {},
     "output_type": "display_data"
    }
   ],
   "source": [
    "scatter_sorted(ktensor, mode=2)"
   ]
  }
 ],
 "metadata": {
  "kernelspec": {
   "display_name": "Python 3",
   "language": "python",
   "name": "python3"
  },
  "language_info": {
   "codemirror_mode": {
    "name": "ipython",
    "version": 3
   },
   "file_extension": ".py",
   "mimetype": "text/x-python",
   "name": "python",
   "nbconvert_exporter": "python",
   "pygments_lexer": "ipython3",
   "version": "3.4.2"
  }
 },
 "nbformat": 4,
 "nbformat_minor": 2
}
