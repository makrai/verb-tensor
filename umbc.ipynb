{
 "cells": [
  {
   "cell_type": "code",
   "execution_count": 6,
   "metadata": {},
   "outputs": [],
   "source": [
    "from collections import defaultdict\n",
    "import os\n",
    "import pandas as pd\n",
    "import pickle\n",
    "import lzma\n",
    "\n",
    "from conllu import parse, parse_incr\n",
    "\n",
    "import logging\n",
    "logging.basicConfig(level=logging.DEBUG, format='%(levelname)-8s [%(lineno)d] %(message)s')"
   ]
  },
  {
   "cell_type": "code",
   "execution_count": 87,
   "metadata": {},
   "outputs": [],
   "source": [
    "def get_freq():\n",
    "    umbc_dir = '/mnt/store/home/makrai/data/language/english/corp/umbc_WebBase/English/'\n",
    "    freq = defaultdict(int)\n",
    "    for filen in os.listdir(umbc_dir):\n",
    "        logging.info(filen)\n",
    "        for i, sentence in  enumerate(parse_incr(lzma.open(os.path.join(umbc_dir, filen), mode='rt',\n",
    "                                                           encoding=\"utf-8\"))):\n",
    "            if not i % 100000:\n",
    "                logging.debug(i)\n",
    "            root = sentence.to_tree()\n",
    "            subj, obj = '', ''\n",
    "            for child in root.children:\n",
    "                if 'subj' in child.token['deprel']:\n",
    "                    if subj:\n",
    "                        #logging.warn('subj: {}'.format((subj, child.token['lemma'], sentence)))\n",
    "                        continue\n",
    "                    subj = child.token['lemma']\n",
    "                elif child.token['deprel'] == 'obj':\n",
    "                    if obj:\n",
    "                        #logging.warn('obj: {}'.format((obj, child.token['lemma'], sentence)))\n",
    "                        continue            \n",
    "                    obj = child.token['lemma']\n",
    "            #if bool(obj) and bool(subj):\n",
    "            freq[(subj, root.token['lemma'], obj)] += 1\n",
    "        #pickle.dump(freq, open('/mnt/store/home/makrai/project/verb-tensor/umbc_freq.pkl', mode='wb'))\n",
    "    return freq"
   ]
  },
  {
   "cell_type": "code",
   "execution_count": 96,
   "metadata": {},
   "outputs": [],
   "source": [
    "freq = pickle.load(open('/mnt/store/home/makrai/project/verb-tensor/umbc_freq.pkl', mode='rb'))\n"
   ]
  },
  {
   "cell_type": "code",
   "execution_count": 97,
   "metadata": {},
   "outputs": [],
   "source": [
    "freq_df = pd.DataFrame.from_records(list(freq.items()), columns=['svo', 'freq'])"
   ]
  },
  {
   "cell_type": "code",
   "execution_count": 98,
   "metadata": {},
   "outputs": [],
   "source": [
    "freq_df[['subj', 'verb', 'obj']] = pd.DataFrame(freq_df.svo.tolist(), index=freq_df.index)                                                                                                                       "
   ]
  },
  {
   "cell_type": "code",
   "execution_count": 99,
   "metadata": {},
   "outputs": [],
   "source": [
    "del freq_df['svo']"
   ]
  },
  {
   "cell_type": "code",
   "execution_count": 100,
   "metadata": {},
   "outputs": [
    {
     "data": {
      "text/html": [
       "<div>\n",
       "<style scoped>\n",
       "    .dataframe tbody tr th:only-of-type {\n",
       "        vertical-align: middle;\n",
       "    }\n",
       "\n",
       "    .dataframe tbody tr th {\n",
       "        vertical-align: top;\n",
       "    }\n",
       "\n",
       "    .dataframe thead th {\n",
       "        text-align: right;\n",
       "    }\n",
       "</style>\n",
       "<table border=\"1\" class=\"dataframe\">\n",
       "  <thead>\n",
       "    <tr style=\"text-align: right;\">\n",
       "      <th></th>\n",
       "      <th>freq</th>\n",
       "      <th>subj</th>\n",
       "      <th>verb</th>\n",
       "      <th>obj</th>\n",
       "    </tr>\n",
       "  </thead>\n",
       "  <tbody>\n",
       "    <tr>\n",
       "      <th>408024</th>\n",
       "      <td>1</td>\n",
       "      <td>misinformation</td>\n",
       "      <td>be</td>\n",
       "      <td></td>\n",
       "    </tr>\n",
       "    <tr>\n",
       "      <th>440520</th>\n",
       "      <td>1</td>\n",
       "      <td></td>\n",
       "      <td>read</td>\n",
       "      <td>Clob</td>\n",
       "    </tr>\n",
       "    <tr>\n",
       "      <th>350885</th>\n",
       "      <td>1</td>\n",
       "      <td></td>\n",
       "      <td>sen</td>\n",
       "      <td>causative</td>\n",
       "    </tr>\n",
       "    <tr>\n",
       "      <th>176786</th>\n",
       "      <td>1</td>\n",
       "      <td>they</td>\n",
       "      <td>crowded</td>\n",
       "      <td></td>\n",
       "    </tr>\n",
       "    <tr>\n",
       "      <th>517871</th>\n",
       "      <td>1</td>\n",
       "      <td>Ministry</td>\n",
       "      <td>report</td>\n",
       "      <td></td>\n",
       "    </tr>\n",
       "  </tbody>\n",
       "</table>\n",
       "</div>"
      ],
      "text/plain": [
       "        freq            subj     verb        obj\n",
       "408024     1  misinformation       be           \n",
       "440520     1                     read       Clob\n",
       "350885     1                      sen  causative\n",
       "176786     1            they  crowded           \n",
       "517871     1        Ministry   report           "
      ]
     },
     "execution_count": 100,
     "metadata": {},
     "output_type": "execute_result"
    }
   ],
   "source": [
    "freq_df.sample(5)"
   ]
  }
 ],
 "metadata": {
  "kernelspec": {
   "display_name": "Python 3",
   "language": "python",
   "name": "python3"
  },
  "language_info": {
   "codemirror_mode": {
    "name": "ipython",
    "version": 3
   },
   "file_extension": ".py",
   "mimetype": "text/x-python",
   "name": "python",
   "nbconvert_exporter": "python",
   "pygments_lexer": "ipython3",
   "version": "3.7.1"
  }
 },
 "nbformat": 4,
 "nbformat_minor": 2
}
