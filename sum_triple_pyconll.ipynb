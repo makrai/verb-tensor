{
 "cells": [
  {
   "cell_type": "code",
   "execution_count": 1,
   "metadata": {},
   "outputs": [],
   "source": [
    "from functools import reduce\n",
    "import os\n",
    "import sys\n",
    "\n",
    "import pandas as pd"
   ]
  },
  {
   "cell_type": "code",
   "execution_count": 2,
   "metadata": {},
   "outputs": [],
   "source": [
    "import logging\n",
    "logging.basicConfig(level=logging.DEBUG, \n",
    "                    format='%(levelname)-8s [%(lineno)d] %(message)s')"
   ]
  },
  {
   "cell_type": "code",
   "execution_count": 3,
   "metadata": {},
   "outputs": [],
   "source": [
    "df_dir = '/mnt/permanent/home/makrai/project/verb-tensor/pyconll/dataframe/'"
   ]
  },
  {
   "cell_type": "code",
   "execution_count": 4,
   "metadata": {},
   "outputs": [],
   "source": [
    "def read_seires_of_df(filen):\n",
    "    logging.info('Reading {}..'.format(filen))\n",
    "    data = pd.read_pickle(filen)\n",
    "    if isinstance(data, pd.Series):\n",
    "        return data.to_frame(name='freq')\n",
    "    elif isinstance(data, pd.DataFrame):\n",
    "        return data.reset_index().set_index(['nsubj', 'ROOT', 'dobj'])\n",
    "    else:\n",
    "        raise NotImplementedError\n",
    "\n",
    "\n",
    "\n",
    "def sum_frames(common_suff):\n",
    "    filen = os.path.join(df_dir, 'freq0{}.pkl').format(common_suff)\n",
    "    df = read_seires_of_df(filen)\n",
    "    for i in range(1, 10):\n",
    "        filen = os.path.join(df_dir, 'freq{}{}.pkl').format(i, common_suff)\n",
    "        if not os.path.isfile(filen):\n",
    "            logging.warning('File {} not exists.'.format(filen))\n",
    "            continue\n",
    "        df0 = read_seires_of_df(filen)\n",
    "        df += df0.reindex(df.index, fill_value=0)\n",
    "    logging.info('Pickling dataframe..')\n",
    "    df = df.astype(int)\n",
    "    df = df.sort_values('freq', ascending=False)\n",
    "    df.to_pickle(os.path.join(df_dir, 'freq{}.pkl').format(common_suff))\n",
    "    return df"
   ]
  },
  {
   "cell_type": "code",
   "execution_count": 7,
   "metadata": {},
   "outputs": [
    {
     "name": "stderr",
     "output_type": "stream",
     "text": [
      "INFO     [2] Reading /mnt/permanent/home/makrai/project/verb-tensor/pyconll/dataframe/freq000.pkl..\n",
      "INFO     [2] Reading /mnt/permanent/home/makrai/project/verb-tensor/pyconll/dataframe/freq100.pkl..\n",
      "INFO     [2] Reading /mnt/permanent/home/makrai/project/verb-tensor/pyconll/dataframe/freq200.pkl..\n",
      "INFO     [2] Reading /mnt/permanent/home/makrai/project/verb-tensor/pyconll/dataframe/freq300.pkl..\n",
      "INFO     [2] Reading /mnt/permanent/home/makrai/project/verb-tensor/pyconll/dataframe/freq400.pkl..\n",
      "INFO     [2] Reading /mnt/permanent/home/makrai/project/verb-tensor/pyconll/dataframe/freq500.pkl..\n",
      "INFO     [2] Reading /mnt/permanent/home/makrai/project/verb-tensor/pyconll/dataframe/freq600.pkl..\n",
      "INFO     [2] Reading /mnt/permanent/home/makrai/project/verb-tensor/pyconll/dataframe/freq700.pkl..\n",
      "INFO     [2] Reading /mnt/permanent/home/makrai/project/verb-tensor/pyconll/dataframe/freq800.pkl..\n",
      "INFO     [2] Reading /mnt/permanent/home/makrai/project/verb-tensor/pyconll/dataframe/freq900.pkl..\n",
      "INFO     [23] Pickling dataframe..\n"
     ]
    }
   ],
   "source": [
    "df = sum_frames(common_suff='00')"
   ]
  },
  {
   "cell_type": "code",
   "execution_count": 11,
   "metadata": {},
   "outputs": [
    {
     "data": {
      "text/html": [
       "<div>\n",
       "<style scoped>\n",
       "    .dataframe tbody tr th:only-of-type {\n",
       "        vertical-align: middle;\n",
       "    }\n",
       "\n",
       "    .dataframe tbody tr th {\n",
       "        vertical-align: top;\n",
       "    }\n",
       "\n",
       "    .dataframe thead th {\n",
       "        text-align: right;\n",
       "    }\n",
       "</style>\n",
       "<table border=\"1\" class=\"dataframe\">\n",
       "  <thead>\n",
       "    <tr style=\"text-align: right;\">\n",
       "      <th></th>\n",
       "      <th>nsubj</th>\n",
       "      <th>ROOT</th>\n",
       "      <th>dobj</th>\n",
       "      <th>freq</th>\n",
       "    </tr>\n",
       "  </thead>\n",
       "  <tbody>\n",
       "    <tr>\n",
       "      <th>174</th>\n",
       "      <td>I</td>\n",
       "      <td>tell</td>\n",
       "      <td>you</td>\n",
       "      <td>47953</td>\n",
       "    </tr>\n",
       "    <tr>\n",
       "      <th>176</th>\n",
       "      <td>it</td>\n",
       "      <td>be</td>\n",
       "      <td>what</td>\n",
       "      <td>47764</td>\n",
       "    </tr>\n",
       "    <tr>\n",
       "      <th>181</th>\n",
       "      <td>I</td>\n",
       "      <td>do</td>\n",
       "      <td>what</td>\n",
       "      <td>46799</td>\n",
       "    </tr>\n",
       "    <tr>\n",
       "      <th>200</th>\n",
       "      <td>you</td>\n",
       "      <td>do</td>\n",
       "      <td>what</td>\n",
       "      <td>43862</td>\n",
       "    </tr>\n",
       "    <tr>\n",
       "      <th>253</th>\n",
       "      <td>you</td>\n",
       "      <td>have</td>\n",
       "      <td>question</td>\n",
       "      <td>35396</td>\n",
       "    </tr>\n",
       "    <tr>\n",
       "      <th>...</th>\n",
       "      <td>...</td>\n",
       "      <td>...</td>\n",
       "      <td>...</td>\n",
       "      <td>...</td>\n",
       "    </tr>\n",
       "    <tr>\n",
       "      <th>7238032</th>\n",
       "      <td>3.0</td>\n",
       "      <td>include</td>\n",
       "      <td>addition</td>\n",
       "      <td>1</td>\n",
       "    </tr>\n",
       "    <tr>\n",
       "      <th>7238033</th>\n",
       "      <td>3.0</td>\n",
       "      <td>track</td>\n",
       "      <td>configuration</td>\n",
       "      <td>1</td>\n",
       "    </tr>\n",
       "    <tr>\n",
       "      <th>7238034</th>\n",
       "      <td>3.0</td>\n",
       "      <td>improve</td>\n",
       "      <td>deal</td>\n",
       "      <td>1</td>\n",
       "    </tr>\n",
       "    <tr>\n",
       "      <th>7238035</th>\n",
       "      <td>3.0</td>\n",
       "      <td>overwrite</td>\n",
       "      <td>file</td>\n",
       "      <td>1</td>\n",
       "    </tr>\n",
       "    <tr>\n",
       "      <th>7238036</th>\n",
       "      <td>3.0</td>\n",
       "      <td>have</td>\n",
       "      <td>optima</td>\n",
       "      <td>1</td>\n",
       "    </tr>\n",
       "  </tbody>\n",
       "</table>\n",
       "<p>3186388 rows × 4 columns</p>\n",
       "</div>"
      ],
      "text/plain": [
       "        nsubj       ROOT           dobj   freq\n",
       "174         I       tell            you  47953\n",
       "176        it         be           what  47764\n",
       "181         I         do           what  46799\n",
       "200       you         do           what  43862\n",
       "253       you       have       question  35396\n",
       "...       ...        ...            ...    ...\n",
       "7238032   3.0    include       addition      1\n",
       "7238033   3.0      track  configuration      1\n",
       "7238034   3.0    improve           deal      1\n",
       "7238035   3.0  overwrite           file      1\n",
       "7238036   3.0       have         optima      1\n",
       "\n",
       "[3186388 rows x 4 columns]"
      ]
     },
     "execution_count": 11,
     "metadata": {},
     "output_type": "execute_result"
    }
   ],
   "source": [
    "df.reset_index(inplace=True)\n",
    "df[(df.dobj!='')&(df.nsubj!='')][['nsubj', 'ROOT', 'dobj', 'freq']]"
   ]
  }
 ],
 "metadata": {
  "kernelspec": {
   "display_name": "Python 3",
   "language": "python",
   "name": "python3"
  },
  "language_info": {
   "codemirror_mode": {
    "name": "ipython",
    "version": 3
   },
   "file_extension": ".py",
   "mimetype": "text/x-python",
   "name": "python",
   "nbconvert_exporter": "python",
   "pygments_lexer": "ipython3",
   "version": "3.7.6"
  }
 },
 "nbformat": 4,
 "nbformat_minor": 4
}
