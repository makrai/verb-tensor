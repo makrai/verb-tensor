{
 "cells": [
  {
   "cell_type": "code",
   "execution_count": 1,
   "metadata": {},
   "outputs": [],
   "source": [
    "import configparser\n",
    "from functools import reduce\n",
    "import os\n",
    "import sys\n",
    "\n",
    "import pandas as pd"
   ]
  },
  {
   "cell_type": "code",
   "execution_count": 2,
   "metadata": {},
   "outputs": [],
   "source": [
    "import logging\n",
    "logging.basicConfig(level=logging.DEBUG, \n",
    "                    format='%(levelname)-8s [%(lineno)d] %(message)s')"
   ]
  },
  {
   "cell_type": "code",
   "execution_count": 4,
   "metadata": {},
   "outputs": [],
   "source": [
    "config = configparser.ConfigParser()\n",
    "config.read('config.ini')\n",
    "df_dir = config['DEFAULT']['ProjectDirectory']+'dataframe/'"
   ]
  },
  {
   "cell_type": "code",
   "execution_count": 6,
   "metadata": {},
   "outputs": [],
   "source": [
    "def read_series_or_df(filen):\n",
    "    data = pd.read_pickle(filen)\n",
    "    if isinstance(data, pd.Series):\n",
    "        return data.to_frame(name='freq')\n",
    "    elif isinstance(data, pd.DataFrame):\n",
    "        return data.reset_index().set_index(['nsubj', 'ROOT', 'dobj'])\n",
    "    else:\n",
    "        raise NotImplementedError"
   ]
  },
  {
   "cell_type": "code",
   "execution_count": 27,
   "metadata": {},
   "outputs": [],
   "source": [
    "def sum_hunderd_files(i=0):\n",
    "    \"\"\"\n",
    "    13 min\n",
    "    \"\"\"\n",
    "    df = None\n",
    "    for j in range(10):\n",
    "        logging.info(f'Adding freqx{j}{i}')\n",
    "        for k in range(10):\n",
    "            filen = os.path.join(df_dir, f'freq{k}{j}{i}.pkl')\n",
    "            if not os.path.isfile(filen):\n",
    "                logging.warning('File {} not exists.'.format(filen))\n",
    "                continue\n",
    "            df0 = read_series_or_df(filen)\n",
    "            if df is None:\n",
    "                df = df0\n",
    "            else:\n",
    "                df += df0.reindex(df.index, fill_value=0)\n",
    "    logging.info('Pickling dataframe..')\n",
    "    df = df.astype(int)\n",
    "    df = df.sort_values('freq', ascending=False)\n",
    "    df.to_pickle(os.path.join(df_dir, f'freq{i}.pkl'))\n",
    "    return df"
   ]
  },
  {
   "cell_type": "code",
   "execution_count": 31,
   "metadata": {},
   "outputs": [],
   "source": [
    "def sum_second_half():\n",
    "    df = None\n",
    "    for i in range(5, 10):\n",
    "        basen = f'freq{i}.pkl'\n",
    "        logging.info(f'Adding {basen}..')\n",
    "        filen = os.path.join(df_dir, basen)\n",
    "        if not os.path.isfile(filen):\n",
    "            logging.warning('File {} not exists.'.format(filen))\n",
    "            continue\n",
    "        df0 = read_series_or_df(filen)\n",
    "        if df is None:\n",
    "            df = df0\n",
    "        else:\n",
    "            df += df0.reindex(df.index, fill_value=0)\n",
    "    logging.info('Pickling dataframe..')\n",
    "    df = df.astype(int)\n",
    "    df = df.sort_values('freq', ascending=False)\n",
    "    df.to_pickle(os.path.join(df_dir, f'freq5to9.pkl'))\n",
    "    return df"
   ]
  },
  {
   "cell_type": "code",
   "execution_count": 5,
   "metadata": {},
   "outputs": [],
   "source": [
    "def sum_ten_files(common_suff):\n",
    "    filen = os.path.join(df_dir, 'freq0{}.pkl').format(common_suff)\n",
    "    df = read_series_or_df(filen)\n",
    "    for i in range(1, 10):\n",
    "        filen = os.path.join(df_dir, 'freq{}{}.pkl').format(i, common_suff)\n",
    "        if not os.path.isfile(filen):\n",
    "            logging.warning('File {} not exists.'.format(filen))\n",
    "            continue\n",
    "        df0 = read_series_or_df(filen)\n",
    "        df += df0.reindex(df.index, fill_value=0)\n",
    "    logging.info('Pickling dataframe..')\n",
    "    df = df.astype(int)\n",
    "    df = df.sort_values('freq', ascending=False)\n",
    "    df.to_pickle(os.path.join(df_dir, 'freq{}.pkl').format(common_suff))\n",
    "    return df"
   ]
  }
 ],
 "metadata": {
  "kernelspec": {
   "display_name": "Python 3",
   "language": "python",
   "name": "python3"
  },
  "language_info": {
   "codemirror_mode": {
    "name": "ipython",
    "version": 3
   },
   "file_extension": ".py",
   "mimetype": "text/x-python",
   "name": "python",
   "nbconvert_exporter": "python",
   "pygments_lexer": "ipython3",
   "version": "3.7.6"
  }
 },
 "nbformat": 4,
 "nbformat_minor": 4
}
