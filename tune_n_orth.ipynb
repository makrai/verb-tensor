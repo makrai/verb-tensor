{
 "cells": [
  {
   "cell_type": "code",
   "execution_count": 1,
   "metadata": {},
   "outputs": [
    {
     "name": "stdout",
     "output_type": "stream",
     "text": [
      "Populating the interactive namespace from numpy and matplotlib\n"
     ]
    }
   ],
   "source": [
    "from cp_orth import orth_als\n",
    "import pandas as pd\n",
    "import pickle\n",
    "\n",
    "import matplotlib.pyplot as plt\n",
    "%pylab inline\n",
    "matplotlib.rcParams.update({'font.size': 14})\n",
    "\n",
    "\n",
    "import logging\n",
    "logging.basicConfig(level=logging.INFO,\n",
    "        format='%(levelname)-8s [%(lineno)d] %(message)s')"
   ]
  },
  {
   "cell_type": "code",
   "execution_count": 21,
   "metadata": {},
   "outputs": [],
   "source": [
    "max_n_iterations = 200"
   ]
  },
  {
   "cell_type": "code",
   "execution_count": 22,
   "metadata": {},
   "outputs": [
    {
     "name": "stderr",
     "output_type": "stream",
     "text": [
      "INFO     [152] \n",
      "INFO     [154] \n",
      "INFO     [10] (10000, 8, 0, (128, 171, 290), 0.412510715239518, 104, 2.851867000000084)\n",
      "INFO     [152] \n",
      "INFO     [154] \n",
      "INFO     [10] (10000, 8, 20, (128, 171, 290), 0.41213687884862005, 153, 4.184414999999717)\n",
      "INFO     [152] \n",
      "INFO     [154] \n",
      "INFO     [10] (10000, 8, 40, (128, 171, 290), 0.38359860864566375, 14, 0.44360100000005787)\n",
      "INFO     [152] \n",
      "INFO     [154] \n",
      "INFO     [10] (10000, 8, 60, (128, 171, 290), 0.4122270070780386, 239, 6.522519000000102)\n",
      "INFO     [152] \n",
      "INFO     [154] \n",
      "INFO     [10] (10000, 8, 80, (128, 171, 290), 0.4121697933619225, 239, 6.634933000000274)\n",
      "INFO     [152] \n",
      "INFO     [154] \n",
      "INFO     [10] (10000, 8, 100, (128, 171, 290), 0.3846831026461641, 93, 2.7145559999991065)\n",
      "INFO     [152] \n",
      "INFO     [154] \n",
      "INFO     [10] (10000, 8, 120, (128, 171, 290), 0.41321787210018646, 319, 8.921577999999954)\n",
      "INFO     [152] \n",
      "INFO     [154] \n",
      "INFO     [10] (10000, 8, 140, (128, 171, 290), 0.3823130778473802, 6, 0.20522299999993265)\n",
      "INFO     [152] \n",
      "INFO     [154] \n",
      "INFO     [10] (10000, 8, 160, (128, 171, 290), 0.3845630797884284, 37, 1.1378720000000158)\n",
      "INFO     [152] \n",
      "INFO     [154] \n",
      "INFO     [10] (10000, 8, 180, (128, 171, 290), 0.3840402958869533, 114, 3.3856080000008433)\n"
     ]
    }
   ],
   "source": [
    "tuples = []\n",
    "for stop_orth in range(0, max_n_iterations, int(max_n_iterations/10)):\n",
    "    cutoff = 10000\n",
    "    rank = 8\n",
    "    filen = '/mnt/permanent/home/makrai/project/verb-tensor/verb/tensor/0/sparstensr_log_freq_{}.pkl'.format(cutoff)\n",
    "    stensor, index = pickle.load(open(filen, mode='rb'))\n",
    "    ktensor, fit, n_iterations, exectimes = orth_als(stensor, rank, stop_orth=stop_orth)\n",
    "    tuple_ = (cutoff, rank, stop_orth, ktensor.shape, fit, n_iterations, sum(exectimes))\n",
    "    tuples.append(tuple_)\n",
    "    logging.info(tuple_)"
   ]
  },
  {
   "cell_type": "code",
   "execution_count": 23,
   "metadata": {},
   "outputs": [
    {
     "data": {
      "image/png": "[encoded data removed]",
      "text/plain": [
       "<Figure size 432x288 with 1 Axes>"
      ]
     },
     "metadata": {
      "needs_background": "light"
     },
     "output_type": "display_data"
    }
   ],
   "source": [
    "df = pd.DataFrame(tuples, columns=['cutoff', 'rank_', 'stop_orth', 'shape', 'fit', 'n_iterations', 'time'])\n",
    "plt.scatter(df.stop_orth, df.time)\n",
    "plt.yscale('log')"
   ]
  },
  {
   "cell_type": "markdown",
   "metadata": {},
   "source": [
    "|cutoff|rank|best n orth|n_iter|\n",
    "|------|----|-----------|------|\n",
    "|  100K|   8|          1|\n",
    "|   10K|   2|          1|\n",
    "|   10K|   4|    30--80+|\n",
    "|   10K|   8|          0|\n",
    "|   10K|  16|         39|\n"
   ]
  }
 ],
 "metadata": {
  "kernelspec": {
   "display_name": "Python 3",
   "language": "python",
   "name": "python3"
  },
  "language_info": {
   "codemirror_mode": {
    "name": "ipython",
    "version": 3
   },
   "file_extension": ".py",
   "mimetype": "text/x-python",
   "name": "python",
   "nbconvert_exporter": "python",
   "pygments_lexer": "ipython3",
   "version": "3.7.1"
  }
 },
 "nbformat": 4,
 "nbformat_minor": 2
}
