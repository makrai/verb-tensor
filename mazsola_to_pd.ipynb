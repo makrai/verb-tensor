{
 "cells": [
  {
   "cell_type": "code",
   "execution_count": 21,
   "metadata": {},
   "outputs": [
    {
     "ename": "ModuleNotFoundError",
     "evalue": "No module named 'dask'",
     "output_type": "error",
     "traceback": [
      "\u001b[0;31m---------------------------------------------------------------------------\u001b[0m",
      "\u001b[0;31mModuleNotFoundError\u001b[0m                       Traceback (most recent call last)",
      "\u001b[0;32m<ipython-input-21-b3eb6dc0a9f6>\u001b[0m in \u001b[0;36m<module>\u001b[0;34m\u001b[0m\n\u001b[0;32m----> 1\u001b[0;31m \u001b[0;32mimport\u001b[0m \u001b[0mdask\u001b[0m\u001b[0;34m.\u001b[0m\u001b[0mdataframe\u001b[0m \u001b[0;32mas\u001b[0m \u001b[0mddf\u001b[0m\u001b[0;34m\u001b[0m\u001b[0;34m\u001b[0m\u001b[0m\n\u001b[0m\u001b[1;32m      2\u001b[0m \u001b[0;32mimport\u001b[0m \u001b[0mpandas\u001b[0m \u001b[0;32mas\u001b[0m \u001b[0mpd\u001b[0m\u001b[0;34m\u001b[0m\u001b[0;34m\u001b[0m\u001b[0m\n\u001b[1;32m      3\u001b[0m \u001b[0;32mimport\u001b[0m \u001b[0mpic\u001b[0m\u001b[0;34m\u001b[0m\u001b[0;34m\u001b[0m\u001b[0m\n\u001b[1;32m      4\u001b[0m \u001b[0;34m\u001b[0m\u001b[0m\n\u001b[1;32m      5\u001b[0m \u001b[0;34m\u001b[0m\u001b[0m\n",
      "\u001b[0;31mModuleNotFoundError\u001b[0m: No module named 'dask'"
     ]
    }
   ],
   "source": [
    "import pandas as pd\n",
    "import pic\n",
    "\n",
    "import dask.dataframe as ddf\n",
    "\n",
    "import logging\n",
    "logging.basicConfig(level=logging.DEBUG, format='%(levelname)-8s [%(lineno)d] %(message)s')"
   ]
  },
  {
   "cell_type": "code",
   "execution_count": 17,
   "metadata": {},
   "outputs": [],
   "source": [
    "def read_mazsola():\n",
    "    with open('/mnt/permanent/Language/Hungarian/Dic/sass15-535k-igei-szerkezet/mazsola_adatbazis.txt') as infile:\n",
    "        for i, line in enumerate(infile):\n",
    "            if i == 100000:\n",
    "                break\n",
    "            if not i % 1000000:\n",
    "                logging.info('{:.0%}'.format(i/27970403))\n",
    "            line = line.strip()\n",
    "            if not line:\n",
    "                continue\n",
    "            sep = '@@'\n",
    "            yield(dict(tuple(token.split(sep, maxsplit=1)) \n",
    "                       for token in filter(lambda token: '@@' in token, line.split())))"
   ]
  },
  {
   "cell_type": "code",
   "execution_count": null,
   "metadata": {},
   "outputs": [],
   "source": [
    "\n",
    "data = ddf.read_csv('test.csv')\n",
    "\n",
    "This data object hasn't actually done anything at this point; it just contains a \"recipe\" of sorts to read the dataframe from disk in manageable chunks. If you want to materialize the data, you can call compute():\n",
    "\n",
    "df = data.compute().reset_index(drop=True)\n",
    "\n",
    "At this point, you have a standard pandas dataframe (we call reset_index because by default each partition is independently indexed). The result is equivalent to what you get by calling pd.read_csv directly:\n",
    "\n",
    "df.equals(pd.read_csv('test.csv'))\n",
    "# True\n",
    "\n",
    "The benefit of dask is you can add instructions to this \"recipe\" for constructing your dataframe; for example, you could make each partition of the data sparse as follows:\n",
    "\n",
    "data = data.map_partitions(lambda part: part.to_sparse(fill_value=0))\n",
    "\n",
    "At this point, calling compute() will construct a sparse array:\n",
    "\n",
    "df = data.compute().reset_index(drop=True)\n",
    "type(df)"
   ]
  },
  {
   "cell_type": "code",
   "execution_count": 18,
   "metadata": {},
   "outputs": [
    {
     "name": "stderr",
     "output_type": "stream",
     "text": [
      "INFO     [7] 0%\n"
     ]
    }
   ],
   "source": [
    "mazsola = pd.DataFrame.from_records(read_mazsola())"
   ]
  },
  {
   "cell_type": "code",
   "execution_count": 20,
   "metadata": {},
   "outputs": [
    {
     "data": {
      "text/plain": [
       "Index(['', 'ABL', 'ACC', 'ADE', 'ALL', 'CAU', 'DAT', 'DEL', 'ELA', 'ESS',\n",
       "       'FAC', 'FOR', 'ILL', 'INE', 'INS', 'KÖZÖTT', 'Közel', 'Mellett', 'NOM',\n",
       "       'Pe3', 'SUB', 'SUP', 'TEM', 'TER', 'alatt', 'alá', 'alól', 'belül',\n",
       "       'belől', 'dacára', 'együtt', 'ellen', 'ellenére', 'elé', 'elébe',\n",
       "       'elől', 'előtt', 'fele', 'felett', 'felé', 'felül', 'felől', 'fogva',\n",
       "       'folytán', 'fölé', 'fölött', 'gyanánt', 'helyett', 'iránt', 'keresztül',\n",
       "       'képest', 'kívül', 'köré', 'körül', 'körülött', 'következtében',\n",
       "       'közben', 'közel', 'közelében', 'közt', 'közé', 'között', 'közül',\n",
       "       'mellett', 'mellé', 'mellől', 'mentén', 'miatt', 'mögé', 'mögött',\n",
       "       'múlva', 'nélkül', 'rajta', 'részére', 'révén', 'stem', 'szemben',\n",
       "       'szerint', 'számára', 'túl', 'után', 'végett', 'Útján', 'által', 'óta',\n",
       "       'útján'],\n",
       "      dtype='object')"
      ]
     },
     "execution_count": 20,
     "metadata": {},
     "output_type": "execute_result"
    }
   ],
   "source": [
    "mazsola.columns"
   ]
  }
 ],
 "metadata": {
  "kernelspec": {
   "display_name": "Python 3",
   "language": "python",
   "name": "python3"
  },
  "language_info": {
   "codemirror_mode": {
    "name": "ipython",
    "version": 3
   },
   "file_extension": ".py",
   "mimetype": "text/x-python",
   "name": "python",
   "nbconvert_exporter": "python",
   "pygments_lexer": "ipython3",
   "version": "3.7.1"
  }
 },
 "nbformat": 4,
 "nbformat_minor": 2
}
