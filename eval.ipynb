{
 "cells": [
  {
   "cell_type": "code",
   "execution_count": 1,
   "metadata": {},
   "outputs": [],
   "source": [
    "from collections import defaultdict\n",
    "import numpy as np\n",
    "import operator\n",
    "import os\n",
    "import pandas as pd\n",
    "import pickle\n",
    "\n",
    "import logging\n",
    "logging.basicConfig(level=logging.DEBUG,\n",
    "        format='%(levelname)-8s [%(lineno)d] %(message)s')"
   ]
  },
  {
   "cell_type": "markdown",
   "metadata": {},
   "source": [
    "# Task 1: One-mode similarity\n",
    "\n",
    "## Data: SimLex-999"
   ]
  },
  {
   "cell_type": "code",
   "execution_count": 2,
   "metadata": {},
   "outputs": [],
   "source": [
    "simlex = pd.read_csv('/mnt/permanent/Language/English/Data/SimLex-999/SimLex-999.txt', sep='\\t')"
   ]
  },
  {
   "cell_type": "code",
   "execution_count": 3,
   "metadata": {},
   "outputs": [
    {
     "data": {
      "text/html": [
       "<div>\n",
       "<style scoped>\n",
       "    .dataframe tbody tr th:only-of-type {\n",
       "        vertical-align: middle;\n",
       "    }\n",
       "\n",
       "    .dataframe tbody tr th {\n",
       "        vertical-align: top;\n",
       "    }\n",
       "\n",
       "    .dataframe thead th {\n",
       "        text-align: right;\n",
       "    }\n",
       "</style>\n",
       "<table border=\"1\" class=\"dataframe\">\n",
       "  <thead>\n",
       "    <tr style=\"text-align: right;\">\n",
       "      <th></th>\n",
       "      <th>word1</th>\n",
       "      <th>word2</th>\n",
       "      <th>POS</th>\n",
       "      <th>SimLex999</th>\n",
       "      <th>conc(w1)</th>\n",
       "      <th>conc(w2)</th>\n",
       "      <th>concQ</th>\n",
       "      <th>Assoc(USF)</th>\n",
       "      <th>SimAssoc333</th>\n",
       "      <th>SD(SimLex)</th>\n",
       "    </tr>\n",
       "  </thead>\n",
       "  <tbody>\n",
       "    <tr>\n",
       "      <th>0</th>\n",
       "      <td>old</td>\n",
       "      <td>new</td>\n",
       "      <td>A</td>\n",
       "      <td>1.58</td>\n",
       "      <td>2.72</td>\n",
       "      <td>2.81</td>\n",
       "      <td>2</td>\n",
       "      <td>7.25</td>\n",
       "      <td>1</td>\n",
       "      <td>0.41</td>\n",
       "    </tr>\n",
       "    <tr>\n",
       "      <th>1</th>\n",
       "      <td>smart</td>\n",
       "      <td>intelligent</td>\n",
       "      <td>A</td>\n",
       "      <td>9.20</td>\n",
       "      <td>1.75</td>\n",
       "      <td>2.46</td>\n",
       "      <td>1</td>\n",
       "      <td>7.11</td>\n",
       "      <td>1</td>\n",
       "      <td>0.67</td>\n",
       "    </tr>\n",
       "    <tr>\n",
       "      <th>2</th>\n",
       "      <td>hard</td>\n",
       "      <td>difficult</td>\n",
       "      <td>A</td>\n",
       "      <td>8.77</td>\n",
       "      <td>3.76</td>\n",
       "      <td>2.21</td>\n",
       "      <td>2</td>\n",
       "      <td>5.94</td>\n",
       "      <td>1</td>\n",
       "      <td>1.19</td>\n",
       "    </tr>\n",
       "    <tr>\n",
       "      <th>3</th>\n",
       "      <td>happy</td>\n",
       "      <td>cheerful</td>\n",
       "      <td>A</td>\n",
       "      <td>9.55</td>\n",
       "      <td>2.56</td>\n",
       "      <td>2.34</td>\n",
       "      <td>1</td>\n",
       "      <td>5.85</td>\n",
       "      <td>1</td>\n",
       "      <td>2.18</td>\n",
       "    </tr>\n",
       "    <tr>\n",
       "      <th>4</th>\n",
       "      <td>hard</td>\n",
       "      <td>easy</td>\n",
       "      <td>A</td>\n",
       "      <td>0.95</td>\n",
       "      <td>3.76</td>\n",
       "      <td>2.07</td>\n",
       "      <td>2</td>\n",
       "      <td>5.82</td>\n",
       "      <td>1</td>\n",
       "      <td>0.93</td>\n",
       "    </tr>\n",
       "  </tbody>\n",
       "</table>\n",
       "</div>"
      ],
      "text/plain": [
       "   word1        word2 POS  SimLex999  conc(w1)  conc(w2)  concQ  Assoc(USF)  \\\n",
       "0    old          new   A       1.58      2.72      2.81      2        7.25   \n",
       "1  smart  intelligent   A       9.20      1.75      2.46      1        7.11   \n",
       "2   hard    difficult   A       8.77      3.76      2.21      2        5.94   \n",
       "3  happy     cheerful   A       9.55      2.56      2.34      1        5.85   \n",
       "4   hard         easy   A       0.95      3.76      2.07      2        5.82   \n",
       "\n",
       "   SimAssoc333  SD(SimLex)  \n",
       "0            1        0.41  \n",
       "1            1        0.67  \n",
       "2            1        1.19  \n",
       "3            1        2.18  \n",
       "4            1        0.93  "
      ]
     },
     "execution_count": 3,
     "metadata": {},
     "output_type": "execute_result"
    }
   ],
   "source": [
    "simlex.head()"
   ]
  },
  {
   "cell_type": "markdown",
   "metadata": {},
   "source": [
    "* conc(w1): The concreteness rating of word1 on a scale of 1-7. Taken from the University of South Florida Free Association Norms database. \n",
    "\n",
    "* conc(w2): The concreteness rating of word2 on a scale of 1-7. Taken from the University of South Florida Free Association Norms database. \n",
    "\n",
    "* concQ: The quartile the pair occupies based on the two concreteness ratings. Used for some analyses in the above paper. \n",
    "\n",
    "* Assoc(USF): The strength of free association from word1 to word2. Values are taken from the University of South Florida Free Association Dataset. \n",
    "\n",
    "* SimAssoc333: Binary indicator of whether the pair is one of the 333 most associated in the dataset (according to Assoc(USF)). This subset of SimLex999 is often the hardest for computational models to capture because the noise from high association can confound the similarity rating. See the paper for more details. \n",
    "\n",
    "* SD(SimLex): The standard deviation of annotator scores when rating this pair. Low values indicate good agreement between the 15+ annotators on the similarity value SimLex999. Higher scores indicate less certainty. \n"
   ]
  },
  {
   "cell_type": "code",
   "execution_count": 5,
   "metadata": {},
   "outputs": [
    {
     "data": {
      "text/html": [
       "<div>\n",
       "<style scoped>\n",
       "    .dataframe tbody tr th:only-of-type {\n",
       "        vertical-align: middle;\n",
       "    }\n",
       "\n",
       "    .dataframe tbody tr th {\n",
       "        vertical-align: top;\n",
       "    }\n",
       "\n",
       "    .dataframe thead th {\n",
       "        text-align: right;\n",
       "    }\n",
       "</style>\n",
       "<table border=\"1\" class=\"dataframe\">\n",
       "  <thead>\n",
       "    <tr style=\"text-align: right;\">\n",
       "      <th></th>\n",
       "      <th>SimLex999</th>\n",
       "      <th>conc(w1)</th>\n",
       "      <th>conc(w2)</th>\n",
       "      <th>concQ</th>\n",
       "      <th>Assoc(USF)</th>\n",
       "      <th>SimAssoc333</th>\n",
       "      <th>SD(SimLex)</th>\n",
       "    </tr>\n",
       "  </thead>\n",
       "  <tbody>\n",
       "    <tr>\n",
       "      <th>count</th>\n",
       "      <td>999.000000</td>\n",
       "      <td>999.000000</td>\n",
       "      <td>999.000000</td>\n",
       "      <td>999.000000</td>\n",
       "      <td>999.000000</td>\n",
       "      <td>999.000000</td>\n",
       "      <td>999.000000</td>\n",
       "    </tr>\n",
       "    <tr>\n",
       "      <th>mean</th>\n",
       "      <td>4.561572</td>\n",
       "      <td>3.657087</td>\n",
       "      <td>3.568629</td>\n",
       "      <td>2.501502</td>\n",
       "      <td>0.751512</td>\n",
       "      <td>0.333333</td>\n",
       "      <td>1.274505</td>\n",
       "    </tr>\n",
       "    <tr>\n",
       "      <th>std</th>\n",
       "      <td>2.614663</td>\n",
       "      <td>1.131050</td>\n",
       "      <td>1.159572</td>\n",
       "      <td>1.118145</td>\n",
       "      <td>1.344569</td>\n",
       "      <td>0.471641</td>\n",
       "      <td>0.366278</td>\n",
       "    </tr>\n",
       "    <tr>\n",
       "      <th>min</th>\n",
       "      <td>0.230000</td>\n",
       "      <td>1.190000</td>\n",
       "      <td>1.190000</td>\n",
       "      <td>1.000000</td>\n",
       "      <td>0.000000</td>\n",
       "      <td>0.000000</td>\n",
       "      <td>0.340000</td>\n",
       "    </tr>\n",
       "    <tr>\n",
       "      <th>50%</th>\n",
       "      <td>4.670000</td>\n",
       "      <td>3.830000</td>\n",
       "      <td>3.660000</td>\n",
       "      <td>3.000000</td>\n",
       "      <td>0.250000</td>\n",
       "      <td>0.000000</td>\n",
       "      <td>1.310000</td>\n",
       "    </tr>\n",
       "    <tr>\n",
       "      <th>max</th>\n",
       "      <td>9.800000</td>\n",
       "      <td>5.000000</td>\n",
       "      <td>5.000000</td>\n",
       "      <td>4.000000</td>\n",
       "      <td>8.850000</td>\n",
       "      <td>1.000000</td>\n",
       "      <td>2.180000</td>\n",
       "    </tr>\n",
       "  </tbody>\n",
       "</table>\n",
       "</div>"
      ],
      "text/plain": [
       "        SimLex999    conc(w1)    conc(w2)       concQ  Assoc(USF)  \\\n",
       "count  999.000000  999.000000  999.000000  999.000000  999.000000   \n",
       "mean     4.561572    3.657087    3.568629    2.501502    0.751512   \n",
       "std      2.614663    1.131050    1.159572    1.118145    1.344569   \n",
       "min      0.230000    1.190000    1.190000    1.000000    0.000000   \n",
       "50%      4.670000    3.830000    3.660000    3.000000    0.250000   \n",
       "max      9.800000    5.000000    5.000000    4.000000    8.850000   \n",
       "\n",
       "       SimAssoc333  SD(SimLex)  \n",
       "count   999.000000  999.000000  \n",
       "mean      0.333333    1.274505  \n",
       "std       0.471641    0.366278  \n",
       "min       0.000000    0.340000  \n",
       "50%       0.000000    1.310000  \n",
       "max       1.000000    2.180000  "
      ]
     },
     "execution_count": 5,
     "metadata": {},
     "output_type": "execute_result"
    }
   ],
   "source": [
    "simlex.describe(percentiles=[])"
   ]
  },
  {
   "cell_type": "code",
   "execution_count": 6,
   "metadata": {},
   "outputs": [
    {
     "data": {
      "text/plain": [
       "POS\n",
       "A    111\n",
       "N    666\n",
       "V    222\n",
       "dtype: int64"
      ]
     },
     "execution_count": 6,
     "metadata": {},
     "output_type": "execute_result"
    }
   ],
   "source": [
    "simlex.groupby('POS').size()"
   ]
  },
  {
   "cell_type": "markdown",
   "metadata": {},
   "source": [
    "## Data: [SimVerb](http://people.ds.cam.ac.uk/dsg40/simverb.html) (Gerz+ EMNLP 2016)"
   ]
  },
  {
   "cell_type": "code",
   "execution_count": 20,
   "metadata": {},
   "outputs": [],
   "source": [
    "simverb = pd.read_csv('/mnt/permanent/Language/English/Data/verb-similarity/simverb-3500/SimVerb-3500.txt', sep='\\t',\n",
    "                      header=None, names=['verb1', 'verb2', 'pos', 'sim', 'rel'])"
   ]
  },
  {
   "cell_type": "code",
   "execution_count": 3,
   "metadata": {},
   "outputs": [
    {
     "data": {
      "text/html": [
       "<div>\n",
       "<style scoped>\n",
       "    .dataframe tbody tr th:only-of-type {\n",
       "        vertical-align: middle;\n",
       "    }\n",
       "\n",
       "    .dataframe tbody tr th {\n",
       "        vertical-align: top;\n",
       "    }\n",
       "\n",
       "    .dataframe thead th {\n",
       "        text-align: right;\n",
       "    }\n",
       "</style>\n",
       "<table border=\"1\" class=\"dataframe\">\n",
       "  <thead>\n",
       "    <tr style=\"text-align: right;\">\n",
       "      <th></th>\n",
       "      <th>sim</th>\n",
       "    </tr>\n",
       "  </thead>\n",
       "  <tbody>\n",
       "    <tr>\n",
       "      <th>count</th>\n",
       "      <td>3500.000000</td>\n",
       "    </tr>\n",
       "    <tr>\n",
       "      <th>mean</th>\n",
       "      <td>4.291554</td>\n",
       "    </tr>\n",
       "    <tr>\n",
       "      <th>std</th>\n",
       "      <td>2.652621</td>\n",
       "    </tr>\n",
       "    <tr>\n",
       "      <th>min</th>\n",
       "      <td>0.000000</td>\n",
       "    </tr>\n",
       "    <tr>\n",
       "      <th>50%</th>\n",
       "      <td>4.320000</td>\n",
       "    </tr>\n",
       "    <tr>\n",
       "      <th>max</th>\n",
       "      <td>9.960000</td>\n",
       "    </tr>\n",
       "  </tbody>\n",
       "</table>\n",
       "</div>"
      ],
      "text/plain": [
       "               sim\n",
       "count  3500.000000\n",
       "mean      4.291554\n",
       "std       2.652621\n",
       "min       0.000000\n",
       "50%       4.320000\n",
       "max       9.960000"
      ]
     },
     "execution_count": 3,
     "metadata": {},
     "output_type": "execute_result"
    }
   ],
   "source": [
    "simverb.describe(percentiles=[])"
   ]
  },
  {
   "cell_type": "code",
   "execution_count": 4,
   "metadata": {},
   "outputs": [
    {
     "data": {
      "text/html": [
       "<div>\n",
       "<style scoped>\n",
       "    .dataframe tbody tr th:only-of-type {\n",
       "        vertical-align: middle;\n",
       "    }\n",
       "\n",
       "    .dataframe tbody tr th {\n",
       "        vertical-align: top;\n",
       "    }\n",
       "\n",
       "    .dataframe thead th {\n",
       "        text-align: right;\n",
       "    }\n",
       "</style>\n",
       "<table border=\"1\" class=\"dataframe\">\n",
       "  <thead>\n",
       "    <tr style=\"text-align: right;\">\n",
       "      <th></th>\n",
       "      <th>verb1</th>\n",
       "      <th>verb2</th>\n",
       "      <th>pos</th>\n",
       "      <th>sim</th>\n",
       "      <th>rel</th>\n",
       "    </tr>\n",
       "  </thead>\n",
       "  <tbody>\n",
       "    <tr>\n",
       "      <th>0</th>\n",
       "      <td>take</td>\n",
       "      <td>remove</td>\n",
       "      <td>V</td>\n",
       "      <td>6.81</td>\n",
       "      <td>SYNONYMS</td>\n",
       "    </tr>\n",
       "    <tr>\n",
       "      <th>1</th>\n",
       "      <td>walk</td>\n",
       "      <td>trail</td>\n",
       "      <td>V</td>\n",
       "      <td>4.81</td>\n",
       "      <td>COHYPONYMS</td>\n",
       "    </tr>\n",
       "    <tr>\n",
       "      <th>2</th>\n",
       "      <td>feed</td>\n",
       "      <td>starve</td>\n",
       "      <td>V</td>\n",
       "      <td>1.49</td>\n",
       "      <td>ANTONYMS</td>\n",
       "    </tr>\n",
       "    <tr>\n",
       "      <th>3</th>\n",
       "      <td>shine</td>\n",
       "      <td>polish</td>\n",
       "      <td>V</td>\n",
       "      <td>7.80</td>\n",
       "      <td>SYNONYMS</td>\n",
       "    </tr>\n",
       "    <tr>\n",
       "      <th>4</th>\n",
       "      <td>calculate</td>\n",
       "      <td>add</td>\n",
       "      <td>V</td>\n",
       "      <td>5.98</td>\n",
       "      <td>HYPER/HYPONYMS</td>\n",
       "    </tr>\n",
       "  </tbody>\n",
       "</table>\n",
       "</div>"
      ],
      "text/plain": [
       "       verb1   verb2 pos   sim             rel\n",
       "0       take  remove   V  6.81        SYNONYMS\n",
       "1       walk   trail   V  4.81      COHYPONYMS\n",
       "2       feed  starve   V  1.49        ANTONYMS\n",
       "3      shine  polish   V  7.80        SYNONYMS\n",
       "4  calculate     add   V  5.98  HYPER/HYPONYMS"
      ]
     },
     "execution_count": 4,
     "metadata": {},
     "output_type": "execute_result"
    }
   ],
   "source": [
    "simverb.head()"
   ]
  },
  {
   "cell_type": "code",
   "execution_count": 5,
   "metadata": {},
   "outputs": [
    {
     "data": {
      "text/html": [
       "<div>\n",
       "<style scoped>\n",
       "    .dataframe tbody tr th:only-of-type {\n",
       "        vertical-align: middle;\n",
       "    }\n",
       "\n",
       "    .dataframe tbody tr th {\n",
       "        vertical-align: top;\n",
       "    }\n",
       "\n",
       "    .dataframe thead th {\n",
       "        text-align: right;\n",
       "    }\n",
       "</style>\n",
       "<table border=\"1\" class=\"dataframe\">\n",
       "  <thead>\n",
       "    <tr style=\"text-align: right;\">\n",
       "      <th></th>\n",
       "      <th>count</th>\n",
       "      <th>mean</th>\n",
       "      <th>std</th>\n",
       "      <th>min</th>\n",
       "      <th>50%</th>\n",
       "      <th>max</th>\n",
       "    </tr>\n",
       "    <tr>\n",
       "      <th>rel</th>\n",
       "      <th></th>\n",
       "      <th></th>\n",
       "      <th></th>\n",
       "      <th></th>\n",
       "      <th></th>\n",
       "      <th></th>\n",
       "    </tr>\n",
       "  </thead>\n",
       "  <tbody>\n",
       "    <tr>\n",
       "      <th>NONE</th>\n",
       "      <td>2093.0</td>\n",
       "      <td>3.431276</td>\n",
       "      <td>2.342695</td>\n",
       "      <td>0.0</td>\n",
       "      <td>3.150</td>\n",
       "      <td>9.79</td>\n",
       "    </tr>\n",
       "    <tr>\n",
       "      <th>HYPER/HYPONYMS</th>\n",
       "      <td>800.0</td>\n",
       "      <td>6.012525</td>\n",
       "      <td>2.104537</td>\n",
       "      <td>0.5</td>\n",
       "      <td>6.310</td>\n",
       "      <td>9.96</td>\n",
       "    </tr>\n",
       "    <tr>\n",
       "      <th>SYNONYMS</th>\n",
       "      <td>306.0</td>\n",
       "      <td>6.789150</td>\n",
       "      <td>2.104490</td>\n",
       "      <td>0.5</td>\n",
       "      <td>7.140</td>\n",
       "      <td>9.96</td>\n",
       "    </tr>\n",
       "    <tr>\n",
       "      <th>COHYPONYMS</th>\n",
       "      <td>190.0</td>\n",
       "      <td>4.435526</td>\n",
       "      <td>2.381992</td>\n",
       "      <td>0.0</td>\n",
       "      <td>4.665</td>\n",
       "      <td>9.30</td>\n",
       "    </tr>\n",
       "    <tr>\n",
       "      <th>ANTONYMS</th>\n",
       "      <td>111.0</td>\n",
       "      <td>0.977748</td>\n",
       "      <td>1.074232</td>\n",
       "      <td>0.0</td>\n",
       "      <td>0.660</td>\n",
       "      <td>6.04</td>\n",
       "    </tr>\n",
       "  </tbody>\n",
       "</table>\n",
       "</div>"
      ],
      "text/plain": [
       "                 count      mean       std  min    50%   max\n",
       "rel                                                         \n",
       "NONE            2093.0  3.431276  2.342695  0.0  3.150  9.79\n",
       "HYPER/HYPONYMS   800.0  6.012525  2.104537  0.5  6.310  9.96\n",
       "SYNONYMS         306.0  6.789150  2.104490  0.5  7.140  9.96\n",
       "COHYPONYMS       190.0  4.435526  2.381992  0.0  4.665  9.30\n",
       "ANTONYMS         111.0  0.977748  1.074232  0.0  0.660  6.04"
      ]
     },
     "execution_count": 5,
     "metadata": {},
     "output_type": "execute_result"
    }
   ],
   "source": [
    "simverb.groupby('rel').sim.describe(percentiles=[]).sort_values('count', ascending=False)"
   ]
  },
  {
   "cell_type": "markdown",
   "metadata": {},
   "source": [
    "## Testing the verb tensor"
   ]
  },
  {
   "cell_type": "code",
   "execution_count": 103,
   "metadata": {},
   "outputs": [],
   "source": [
    "def sim_verb(weight, max_rank=256, cutoff=2, verb=True, normalize=True):\n",
    "    # TODO verb=False debug\n",
    "    _, index = pickle.load(open(\n",
    "        '/mnt/store/home/makrai/project/verb-tensor/just_svo/depCC/sparstensr_{}_{}.pkl'.format(weight, cutoff),\n",
    "        mode='rb'))\n",
    "    oov = defaultdict(int)\n",
    "    target_df = simverb if verb else simlex\n",
    "    target_cols = ['verb1', 'verb2'] if verb else ['word1', 'word2']\n",
    "    relation = 'ROOT' if verb else 'nsubj'\n",
    "    mode = 1 if verb else 0\n",
    "    def tensor_based_sim(rank):\n",
    "        ktensor, fit, n_iterations, exectimes = pickle.load(open(\n",
    "            '/mnt/store/home/makrai/project/verb-tensor/just_svo/depCC/ktensor_{}_{}_{}.pkl'.format(\n",
    "                weight, cutoff, rank),\n",
    "            mode='rb'))\n",
    "        #modes = ['nsubj', 'ROOT', 'dobj']\n",
    "        if normalize:\n",
    "            ktensor.U[mode] /= np.apply_along_axis(np.linalg.norm, 1, ktensor.U[mode]).reshape((-1,1))\n",
    "        def pointwise_prod_more(ser):\n",
    "            try:\n",
    "                return ktensor.lmbda.dot(\n",
    "                    ktensor.U[mode][index[relation][ser[0]]] * ktensor.U[mode][index[relation][ser[1]]])\n",
    "            except KeyError as e:\n",
    "                oov[e.args] += 1\n",
    "                return 0\n",
    "        target_df['tensor_sim_{}'.format(rank)] = target_df[target_cols].apply(pointwise_prod_more, axis=1)\n",
    "    #logging.debug(sorted(oov.items(), key=operator.itemgetter(1), reverse=True))\n",
    "    for exp in range(1, int(np.log2(max_rank))+1):\n",
    "        rank = 2**exp\n",
    "        try:\n",
    "            tensor_based_sim(rank=rank)\n",
    "        except Exception as e:\n",
    "            logging.warning(e)\n",
    "            target_df['tensor_sim_{}'.format(rank)] = 0\n",
    "    sim_col = 'sim' if verb else 'SimLex999'\n",
    "    return target_df.corr().loc[sim_col][0 if verb else 7 :]"
   ]
  },
  {
   "cell_type": "code",
   "execution_count": 89,
   "metadata": {},
   "outputs": [
    {
     "data": {
      "text/html": [
       "<div>\n",
       "<style scoped>\n",
       "    .dataframe tbody tr th:only-of-type {\n",
       "        vertical-align: middle;\n",
       "    }\n",
       "\n",
       "    .dataframe tbody tr th {\n",
       "        vertical-align: top;\n",
       "    }\n",
       "\n",
       "    .dataframe thead th {\n",
       "        text-align: right;\n",
       "    }\n",
       "</style>\n",
       "<table border=\"1\" class=\"dataframe\">\n",
       "  <thead>\n",
       "    <tr style=\"text-align: right;\">\n",
       "      <th></th>\n",
       "      <th>sim</th>\n",
       "      <th>tensor_sim_2</th>\n",
       "      <th>tensor_sim_4</th>\n",
       "      <th>tensor_sim_8</th>\n",
       "    </tr>\n",
       "  </thead>\n",
       "  <tbody>\n",
       "    <tr>\n",
       "      <th>count</th>\n",
       "      <td>3500.000000</td>\n",
       "      <td>16.000000</td>\n",
       "      <td>14.000000</td>\n",
       "      <td>10.000000</td>\n",
       "    </tr>\n",
       "    <tr>\n",
       "      <th>mean</th>\n",
       "      <td>4.291554</td>\n",
       "      <td>0.279735</td>\n",
       "      <td>-inf</td>\n",
       "      <td>inf</td>\n",
       "    </tr>\n",
       "    <tr>\n",
       "      <th>std</th>\n",
       "      <td>2.652621</td>\n",
       "      <td>0.815630</td>\n",
       "      <td>NaN</td>\n",
       "      <td>NaN</td>\n",
       "    </tr>\n",
       "    <tr>\n",
       "      <th>min</th>\n",
       "      <td>0.000000</td>\n",
       "      <td>-0.941677</td>\n",
       "      <td>-inf</td>\n",
       "      <td>-1.062772</td>\n",
       "    </tr>\n",
       "    <tr>\n",
       "      <th>50%</th>\n",
       "      <td>4.320000</td>\n",
       "      <td>0.592328</td>\n",
       "      <td>0.036219</td>\n",
       "      <td>0.740908</td>\n",
       "    </tr>\n",
       "    <tr>\n",
       "      <th>max</th>\n",
       "      <td>9.960000</td>\n",
       "      <td>1.000461</td>\n",
       "      <td>5.231803</td>\n",
       "      <td>inf</td>\n",
       "    </tr>\n",
       "  </tbody>\n",
       "</table>\n",
       "</div>"
      ],
      "text/plain": [
       "               sim  tensor_sim_2  tensor_sim_4  tensor_sim_8\n",
       "count  3500.000000     16.000000     14.000000     10.000000\n",
       "mean      4.291554      0.279735          -inf           inf\n",
       "std       2.652621      0.815630           NaN           NaN\n",
       "min       0.000000     -0.941677          -inf     -1.062772\n",
       "50%       4.320000      0.592328      0.036219      0.740908\n",
       "max       9.960000      1.000461      5.231803           inf"
      ]
     },
     "execution_count": 89,
     "metadata": {},
     "output_type": "execute_result"
    }
   ],
   "source": [
    "simverb.describe(percentiles=[])"
   ]
  },
  {
   "cell_type": "code",
   "execution_count": 104,
   "metadata": {},
   "outputs": [
    {
     "name": "stdout",
     "output_type": "stream",
     "text": [
      "\n",
      "log_freq\n"
     ]
    },
    {
     "name": "stderr",
     "output_type": "stream",
     "text": [
      "/home/makrai/tool/python/miniconda3/lib/python3.7/site-packages/ipykernel_launcher.py:18: RuntimeWarning: divide by zero encountered in true_divide\n",
      "/home/makrai/tool/python/miniconda3/lib/python3.7/site-packages/ipykernel_launcher.py:18: RuntimeWarning: invalid value encountered in true_divide\n",
      "WARNING  [33] [Errno 2] No such file or directory: '/mnt/store/home/makrai/project/verb-tensor/just_svo/depCC/ktensor_log_freq_256_256.pkl'\n"
     ]
    },
    {
     "name": "stdout",
     "output_type": "stream",
     "text": [
      "sim               1.000000\n",
      "tensor_sim_2      0.007131\n",
      "tensor_sim_4     -0.026577\n",
      "tensor_sim_8     -0.013559\n",
      "tensor_sim_16    -0.006757\n",
      "tensor_sim_32    -0.013412\n",
      "tensor_sim_64     0.018288\n",
      "tensor_sim_128   -0.007687\n",
      "tensor_sim_256         NaN\n",
      "Name: sim, dtype: float64\n",
      "\n",
      "pmi\n"
     ]
    },
    {
     "name": "stderr",
     "output_type": "stream",
     "text": [
      "WARNING  [33] [Errno 2] No such file or directory: '/mnt/store/home/makrai/project/verb-tensor/just_svo/depCC/ktensor_pmi_256_256.pkl'\n"
     ]
    },
    {
     "name": "stdout",
     "output_type": "stream",
     "text": [
      "sim               1.000000\n",
      "tensor_sim_2     -0.047096\n",
      "tensor_sim_4     -0.047096\n",
      "tensor_sim_8     -0.032358\n",
      "tensor_sim_16    -0.013130\n",
      "tensor_sim_32    -0.009400\n",
      "tensor_sim_64     0.011003\n",
      "tensor_sim_128    0.011259\n",
      "tensor_sim_256         NaN\n",
      "Name: sim, dtype: float64\n",
      "\n",
      "iact_info\n"
     ]
    },
    {
     "name": "stderr",
     "output_type": "stream",
     "text": [
      "WARNING  [33] [Errno 2] No such file or directory: '/mnt/store/home/makrai/project/verb-tensor/just_svo/depCC/ktensor_iact_info_256_128.pkl'\n",
      "WARNING  [33] [Errno 2] No such file or directory: '/mnt/store/home/makrai/project/verb-tensor/just_svo/depCC/ktensor_iact_info_256_256.pkl'\n"
     ]
    },
    {
     "name": "stdout",
     "output_type": "stream",
     "text": [
      "sim               1.000000\n",
      "tensor_sim_2     -0.000324\n",
      "tensor_sim_4      0.006681\n",
      "tensor_sim_8      0.023976\n",
      "tensor_sim_16     0.024267\n",
      "tensor_sim_32     0.001221\n",
      "tensor_sim_64    -0.017982\n",
      "tensor_sim_128         NaN\n",
      "tensor_sim_256         NaN\n",
      "Name: sim, dtype: float64\n",
      "\n",
      "salience\n"
     ]
    },
    {
     "name": "stderr",
     "output_type": "stream",
     "text": [
      "WARNING  [33] [Errno 2] No such file or directory: '/mnt/store/home/makrai/project/verb-tensor/just_svo/depCC/ktensor_salience_256_128.pkl'\n",
      "WARNING  [33] [Errno 2] No such file or directory: '/mnt/store/home/makrai/project/verb-tensor/just_svo/depCC/ktensor_salience_256_256.pkl'\n"
     ]
    },
    {
     "name": "stdout",
     "output_type": "stream",
     "text": [
      "sim               1.000000\n",
      "tensor_sim_2     -0.047096\n",
      "tensor_sim_4     -0.047096\n",
      "tensor_sim_8     -0.026716\n",
      "tensor_sim_16    -0.022698\n",
      "tensor_sim_32    -0.034623\n",
      "tensor_sim_64    -0.015194\n",
      "tensor_sim_128         NaN\n",
      "tensor_sim_256         NaN\n",
      "Name: sim, dtype: float64\n",
      "\n",
      "iact_sali\n"
     ]
    },
    {
     "name": "stderr",
     "output_type": "stream",
     "text": [
      "WARNING  [33] [Errno 2] No such file or directory: '/mnt/store/home/makrai/project/verb-tensor/just_svo/depCC/ktensor_iact_sali_256_128.pkl'\n",
      "WARNING  [33] [Errno 2] No such file or directory: '/mnt/store/home/makrai/project/verb-tensor/just_svo/depCC/ktensor_iact_sali_256_256.pkl'\n"
     ]
    },
    {
     "name": "stdout",
     "output_type": "stream",
     "text": [
      "sim               1.000000\n",
      "tensor_sim_2     -0.005636\n",
      "tensor_sim_4     -0.027604\n",
      "tensor_sim_8      0.026368\n",
      "tensor_sim_16    -0.012160\n",
      "tensor_sim_32     0.005492\n",
      "tensor_sim_64    -0.008530\n",
      "tensor_sim_128         NaN\n",
      "tensor_sim_256         NaN\n",
      "Name: sim, dtype: float64\n",
      "\n",
      "log_dice\n"
     ]
    },
    {
     "name": "stderr",
     "output_type": "stream",
     "text": [
      "WARNING  [33] [Errno 2] No such file or directory: '/mnt/store/home/makrai/project/verb-tensor/just_svo/depCC/ktensor_log_dice_256_128.pkl'\n",
      "WARNING  [33] [Errno 2] No such file or directory: '/mnt/store/home/makrai/project/verb-tensor/just_svo/depCC/ktensor_log_dice_256_256.pkl'\n"
     ]
    },
    {
     "name": "stdout",
     "output_type": "stream",
     "text": [
      "sim               1.000000\n",
      "tensor_sim_2      0.001052\n",
      "tensor_sim_4     -0.000467\n",
      "tensor_sim_8      0.007178\n",
      "tensor_sim_16     0.022545\n",
      "tensor_sim_32    -0.005034\n",
      "tensor_sim_64     0.000570\n",
      "tensor_sim_128         NaN\n",
      "tensor_sim_256         NaN\n",
      "Name: sim, dtype: float64\n"
     ]
    }
   ],
   "source": [
    "simverb = pd.read_csv('/mnt/permanent/Language/English/Data/verb-similarity/simverb-3500/SimVerb-3500.txt', \n",
    "                      sep='\\t', header=None, names=['verb1', 'verb2', 'pos', 'sim', 'rel'])\n",
    "for weight in ['log_freq', 'pmi', 'iact_info', 'salience', 'iact_sali', 'log_dice']:\n",
    "    print('\\n{}'.format(weight))\n",
    "    print(sim_verb(weight, cutoff=256))"
   ]
  },
  {
   "cell_type": "markdown",
   "metadata": {},
   "source": [
    "|weight |rank |sim |\n",
    "|--|--|--|\n",
    "|log(freq)|16|0.107064|\n",
    "|pmi|8|0.107581|\n",
    "|iact info|16|0.108490|\n",
    "|salience|16|0.125190|"
   ]
  },
  {
   "cell_type": "code",
   "execution_count": 8,
   "metadata": {},
   "outputs": [
    {
     "data": {
      "text/plain": [
       "rel                          \n",
       "ANTONYMS        sim              1.000000\n",
       "                tensor_sim_2     0.017516\n",
       "                tensor_sim_4    -0.197749\n",
       "                tensor_sim_8    -0.020607\n",
       "                tensor_sim_16   -0.084390\n",
       "                tensor_sim_32    0.037074\n",
       "                tensor_sim_64         NaN\n",
       "COHYPONYMS      sim              1.000000\n",
       "                tensor_sim_2     0.043319\n",
       "                tensor_sim_4     0.079444\n",
       "                tensor_sim_8    -0.032908\n",
       "                tensor_sim_16   -0.063021\n",
       "                tensor_sim_32   -0.016319\n",
       "                tensor_sim_64         NaN\n",
       "HYPER/HYPONYMS  sim              1.000000\n",
       "                tensor_sim_2    -0.007254\n",
       "                tensor_sim_4    -0.002763\n",
       "                tensor_sim_8    -0.043962\n",
       "                tensor_sim_16    0.067686\n",
       "                tensor_sim_32    0.026375\n",
       "                tensor_sim_64         NaN\n",
       "NONE            sim              1.000000\n",
       "                tensor_sim_2     0.020203\n",
       "                tensor_sim_4     0.067586\n",
       "                tensor_sim_8    -0.033773\n",
       "                tensor_sim_16    0.029902\n",
       "                tensor_sim_32    0.048155\n",
       "                tensor_sim_64         NaN\n",
       "SYNONYMS        sim              1.000000\n",
       "                tensor_sim_2    -0.030147\n",
       "                tensor_sim_4    -0.075950\n",
       "                tensor_sim_8    -0.063703\n",
       "                tensor_sim_16    0.090023\n",
       "                tensor_sim_32    0.075652\n",
       "                tensor_sim_64         NaN\n",
       "Name: sim, dtype: float64"
      ]
     },
     "execution_count": 8,
     "metadata": {},
     "output_type": "execute_result"
    }
   ],
   "source": [
    "simverb.groupby('rel').corr().sim"
   ]
  },
  {
   "cell_type": "markdown",
   "metadata": {},
   "source": [
    "# [Transitive sentence similarity](http://www.cs.ox.ac.uk/activities/compdistmeaning/GS2011data.txt) (Grefenstette and Sadrzadeh, EMNLP 2011)"
   ]
  },
  {
   "cell_type": "markdown",
   "metadata": {},
   "source": [
    "## The dataset"
   ]
  },
  {
   "cell_type": "code",
   "execution_count": 9,
   "metadata": {},
   "outputs": [],
   "source": [
    "svo_sim = pd.read_csv('/mnt/permanent/Language/English/Data/verb-similarity/GS2011data.txt', sep=' ', \n",
    "                 true_values=['HIGH'], false_values=['LOW'])"
   ]
  },
  {
   "cell_type": "code",
   "execution_count": 10,
   "metadata": {},
   "outputs": [],
   "source": [
    "cols_ordered = [\"subject\", \"verb\", \"landmark\", \"object\", \"input\", \"hilo\", \"participant\"]"
   ]
  },
  {
   "cell_type": "code",
   "execution_count": 11,
   "metadata": {},
   "outputs": [
    {
     "data": {
      "text/html": [
       "<div>\n",
       "<style scoped>\n",
       "    .dataframe tbody tr th:only-of-type {\n",
       "        vertical-align: middle;\n",
       "    }\n",
       "\n",
       "    .dataframe tbody tr th {\n",
       "        vertical-align: top;\n",
       "    }\n",
       "\n",
       "    .dataframe thead th {\n",
       "        text-align: right;\n",
       "    }\n",
       "</style>\n",
       "<table border=\"1\" class=\"dataframe\">\n",
       "  <thead>\n",
       "    <tr style=\"text-align: right;\">\n",
       "      <th></th>\n",
       "      <th>subject</th>\n",
       "      <th>verb</th>\n",
       "      <th>landmark</th>\n",
       "      <th>object</th>\n",
       "      <th>input</th>\n",
       "      <th>hilo</th>\n",
       "      <th>participant</th>\n",
       "    </tr>\n",
       "  </thead>\n",
       "  <tbody>\n",
       "    <tr>\n",
       "      <th>0</th>\n",
       "      <td>family</td>\n",
       "      <td>provide</td>\n",
       "      <td>supply</td>\n",
       "      <td>home</td>\n",
       "      <td>4</td>\n",
       "      <td>True</td>\n",
       "      <td>participant20</td>\n",
       "    </tr>\n",
       "    <tr>\n",
       "      <th>1</th>\n",
       "      <td>government</td>\n",
       "      <td>provide</td>\n",
       "      <td>leave</td>\n",
       "      <td>cash</td>\n",
       "      <td>3</td>\n",
       "      <td>False</td>\n",
       "      <td>participant20</td>\n",
       "    </tr>\n",
       "    <tr>\n",
       "      <th>2</th>\n",
       "      <td>government</td>\n",
       "      <td>provide</td>\n",
       "      <td>supply</td>\n",
       "      <td>cash</td>\n",
       "      <td>7</td>\n",
       "      <td>True</td>\n",
       "      <td>participant20</td>\n",
       "    </tr>\n",
       "    <tr>\n",
       "      <th>3</th>\n",
       "      <td>man</td>\n",
       "      <td>provide</td>\n",
       "      <td>leave</td>\n",
       "      <td>money</td>\n",
       "      <td>6</td>\n",
       "      <td>True</td>\n",
       "      <td>participant20</td>\n",
       "    </tr>\n",
       "    <tr>\n",
       "      <th>4</th>\n",
       "      <td>man</td>\n",
       "      <td>provide</td>\n",
       "      <td>supply</td>\n",
       "      <td>money</td>\n",
       "      <td>7</td>\n",
       "      <td>True</td>\n",
       "      <td>participant20</td>\n",
       "    </tr>\n",
       "  </tbody>\n",
       "</table>\n",
       "</div>"
      ],
      "text/plain": [
       "      subject     verb landmark object  input   hilo    participant\n",
       "0      family  provide   supply   home      4   True  participant20\n",
       "1  government  provide    leave   cash      3  False  participant20\n",
       "2  government  provide   supply   cash      7   True  participant20\n",
       "3         man  provide    leave  money      6   True  participant20\n",
       "4         man  provide   supply  money      7   True  participant20"
      ]
     },
     "execution_count": 11,
     "metadata": {},
     "output_type": "execute_result"
    }
   ],
   "source": [
    "svo_sim[cols_ordered].head()"
   ]
  },
  {
   "cell_type": "code",
   "execution_count": 12,
   "metadata": {},
   "outputs": [
    {
     "data": {
      "text/html": [
       "<div>\n",
       "<style scoped>\n",
       "    .dataframe tbody tr th:only-of-type {\n",
       "        vertical-align: middle;\n",
       "    }\n",
       "\n",
       "    .dataframe tbody tr th {\n",
       "        vertical-align: top;\n",
       "    }\n",
       "\n",
       "    .dataframe thead th {\n",
       "        text-align: right;\n",
       "    }\n",
       "</style>\n",
       "<table border=\"1\" class=\"dataframe\">\n",
       "  <thead>\n",
       "    <tr style=\"text-align: right;\">\n",
       "      <th></th>\n",
       "      <th>input</th>\n",
       "    </tr>\n",
       "  </thead>\n",
       "  <tbody>\n",
       "    <tr>\n",
       "      <th>count</th>\n",
       "      <td>2500.000000</td>\n",
       "    </tr>\n",
       "    <tr>\n",
       "      <th>mean</th>\n",
       "      <td>3.570800</td>\n",
       "    </tr>\n",
       "    <tr>\n",
       "      <th>std</th>\n",
       "      <td>2.193561</td>\n",
       "    </tr>\n",
       "    <tr>\n",
       "      <th>min</th>\n",
       "      <td>0.000000</td>\n",
       "    </tr>\n",
       "    <tr>\n",
       "      <th>50%</th>\n",
       "      <td>3.000000</td>\n",
       "    </tr>\n",
       "    <tr>\n",
       "      <th>max</th>\n",
       "      <td>7.000000</td>\n",
       "    </tr>\n",
       "  </tbody>\n",
       "</table>\n",
       "</div>"
      ],
      "text/plain": [
       "             input\n",
       "count  2500.000000\n",
       "mean      3.570800\n",
       "std       2.193561\n",
       "min       0.000000\n",
       "50%       3.000000\n",
       "max       7.000000"
      ]
     },
     "execution_count": 12,
     "metadata": {},
     "output_type": "execute_result"
    }
   ],
   "source": [
    "svo_sim.describe(percentiles=[])"
   ]
  },
  {
   "cell_type": "code",
   "execution_count": 13,
   "metadata": {},
   "outputs": [
    {
     "data": {
      "text/html": [
       "<div>\n",
       "<style scoped>\n",
       "    .dataframe tbody tr th:only-of-type {\n",
       "        vertical-align: middle;\n",
       "    }\n",
       "\n",
       "    .dataframe tbody tr th {\n",
       "        vertical-align: top;\n",
       "    }\n",
       "\n",
       "    .dataframe thead th {\n",
       "        text-align: right;\n",
       "    }\n",
       "</style>\n",
       "<table border=\"1\" class=\"dataframe\">\n",
       "  <thead>\n",
       "    <tr style=\"text-align: right;\">\n",
       "      <th></th>\n",
       "      <th>input</th>\n",
       "      <th>hilo</th>\n",
       "    </tr>\n",
       "  </thead>\n",
       "  <tbody>\n",
       "    <tr>\n",
       "      <th>input</th>\n",
       "      <td>1.00000</td>\n",
       "      <td>0.51689</td>\n",
       "    </tr>\n",
       "    <tr>\n",
       "      <th>hilo</th>\n",
       "      <td>0.51689</td>\n",
       "      <td>1.00000</td>\n",
       "    </tr>\n",
       "  </tbody>\n",
       "</table>\n",
       "</div>"
      ],
      "text/plain": [
       "         input     hilo\n",
       "input  1.00000  0.51689\n",
       "hilo   0.51689  1.00000"
      ]
     },
     "execution_count": 13,
     "metadata": {},
     "output_type": "execute_result"
    }
   ],
   "source": [
    "svo_sim.corr(method='spearman')"
   ]
  },
  {
   "cell_type": "markdown",
   "metadata": {},
   "source": [
    "## Testing the verb tensor"
   ]
  },
  {
   "cell_type": "code",
   "execution_count": 28,
   "metadata": {},
   "outputs": [],
   "source": [
    "def predict_verb(weight, rank, cutoff=2, prec_at=5):\n",
    "    _, index = pickle.load(open(\n",
    "        '/mnt/store/home/makrai/project/verb-tensor/depCC/sparstensr_{}_{}.pkl'.format(weight, cutoff), mode='rb'))\n",
    "    ktensor, fit, n_iterations, exectimes = pickle.load(open(\n",
    "        '/mnt/store/home/makrai/project/verb-tensor/depCC/ktensor_{}_{}_{}.pkl'.format(weight, cutoff, rank), \n",
    "        mode='rb'))\n",
    "    #modes = ['nsubj', 'ROOT', 'dobj']\n",
    "    #ktensor.U[1] /= np.apply_along_axis(np.linalg.norm, 1, ktensor.U[1]).reshape((-1,1))\n",
    "    oov = defaultdict(int)\n",
    "    def verb_pred(ser):\n",
    "        try:\n",
    "            predicted_ids = np.argsort((\n",
    "                -ktensor.lmbda * ktensor.U[0][index['nsubj'][ser[0]]]) .dot(\n",
    "                (ktensor.U[1] * ktensor.U[2][index['dobj'][ser[0]]]).T))#] # \n",
    "            return [index['ROOT'].inverse[i] for i in predicted_ids[:prec_at]]\n",
    "        except KeyError as e:\n",
    "            oov[e.args] += 1\n",
    "            return []\n",
    "    svo_sim['predicted_{}_{}'.format(weight, rank)] = svo_sim[['subject', 'object']].apply(verb_pred, axis=1)\n",
    "    #logging.debug(sorted(oov.items(), key=operator.itemgetter(1), reverse=True))\n",
    "    for target in ['landmark', 'verb']:\n",
    "        def is_good(ser):\n",
    "            return ser[target] in ser['predicted_{}_{}'.format(weight, rank)]\n",
    "        svo_sim['good_{}_{}_{}'.format(target, weight, rank)] = svo_sim.apply(is_good, axis=1)\n",
    "        logging.debug((target, weight, rank, svo_sim['good_{}_{}_{}'.format(target, weight, rank)].sum()))"
   ]
  },
  {
   "cell_type": "code",
   "execution_count": 29,
   "metadata": {},
   "outputs": [],
   "source": [
    "def for_weight(max_exp_plus_one=7):\n",
    "    for weight in ['log_freq', 'pmi', 'iact_info', 'salience', 'log_dice']: # iact_sali\n",
    "        #logging.info(weight)\n",
    "        for exp in range(1, max_exp_plus_one):\n",
    "            rank = 2 ** exp\n",
    "            #logging.info(rank)\n",
    "            predict_verb(weight, rank)"
   ]
  },
  {
   "cell_type": "code",
   "execution_count": 30,
   "metadata": {},
   "outputs": [
    {
     "name": "stderr",
     "output_type": "stream",
     "text": [
      "INFO     [3] log_freq\n",
      "INFO     [6] 2\n",
      "DEBUG    [25] 24\n",
      "DEBUG    [25] 0\n",
      "INFO     [6] 4\n",
      "DEBUG    [25] 0\n",
      "DEBUG    [25] 0\n",
      "INFO     [6] 8\n",
      "DEBUG    [25] 51\n",
      "DEBUG    [25] 117\n",
      "INFO     [6] 16\n",
      "DEBUG    [25] 13\n",
      "DEBUG    [25] 52\n",
      "INFO     [6] 32\n",
      "DEBUG    [25] 51\n",
      "DEBUG    [25] 78\n",
      "INFO     [6] 64\n",
      "DEBUG    [25] 51\n",
      "DEBUG    [25] 26\n",
      "INFO     [3] pmi\n",
      "INFO     [6] 2\n",
      "DEBUG    [25] 0\n",
      "DEBUG    [25] 0\n",
      "INFO     [6] 4\n",
      "DEBUG    [25] 0\n",
      "DEBUG    [25] 74\n",
      "INFO     [6] 8\n",
      "DEBUG    [25] 13\n",
      "DEBUG    [25] 48\n",
      "INFO     [6] 16\n",
      "DEBUG    [25] 0\n",
      "DEBUG    [25] 74\n",
      "INFO     [6] 32\n",
      "DEBUG    [25] 0\n",
      "DEBUG    [25] 144\n",
      "INFO     [6] 64\n",
      "DEBUG    [25] 26\n",
      "DEBUG    [25] 168\n",
      "INFO     [3] iact_info\n",
      "INFO     [6] 2\n",
      "DEBUG    [25] 0\n",
      "DEBUG    [25] 0\n",
      "INFO     [6] 4\n",
      "DEBUG    [25] 0\n",
      "DEBUG    [25] 74\n",
      "INFO     [6] 8\n",
      "DEBUG    [25] 0\n",
      "DEBUG    [25] 96\n",
      "INFO     [6] 16\n",
      "DEBUG    [25] 25\n",
      "DEBUG    [25] 148\n",
      "INFO     [6] 32\n",
      "DEBUG    [25] 12\n",
      "DEBUG    [25] 168\n",
      "INFO     [6] 64\n",
      "DEBUG    [25] 13\n",
      "DEBUG    [25] 144\n",
      "INFO     [3] salience\n",
      "INFO     [6] 2\n",
      "DEBUG    [25] 24\n",
      "DEBUG    [25] 0\n",
      "INFO     [6] 4\n",
      "DEBUG    [25] 0\n",
      "DEBUG    [25] 0\n",
      "INFO     [6] 8\n",
      "DEBUG    [25] 51\n",
      "DEBUG    [25] 117\n",
      "INFO     [6] 16\n",
      "DEBUG    [25] 0\n",
      "DEBUG    [25] 78\n",
      "INFO     [6] 32\n",
      "DEBUG    [25] 48\n",
      "DEBUG    [25] 26\n",
      "INFO     [6] 64\n",
      "DEBUG    [25] 0\n",
      "DEBUG    [25] 128\n",
      "INFO     [3] log_dice\n",
      "INFO     [6] 2\n",
      "DEBUG    [25] 0\n",
      "DEBUG    [25] 0\n",
      "INFO     [6] 4\n",
      "DEBUG    [25] 0\n",
      "DEBUG    [25] 0\n",
      "INFO     [6] 8\n",
      "DEBUG    [25] 12\n",
      "DEBUG    [25] 50\n",
      "INFO     [6] 16\n",
      "DEBUG    [25] 13\n",
      "DEBUG    [25] 76\n",
      "INFO     [6] 32\n",
      "DEBUG    [25] 48\n",
      "DEBUG    [25] 78\n",
      "INFO     [6] 64\n",
      "DEBUG    [25] 0\n",
      "DEBUG    [25] 104\n"
     ]
    },
    {
     "name": "stdout",
     "output_type": "stream",
     "text": [
      "CPU times: user 25min 36s, sys: 1h 37s, total: 1h 26min 13s\n",
      "Wall time: 8min 3s\n"
     ]
    }
   ],
   "source": [
    "%time for_weight()"
   ]
  },
  {
   "cell_type": "code",
   "execution_count": 17,
   "metadata": {},
   "outputs": [],
   "source": [
    "cols_ordered = [\"subject\", \"verb\", \"landmark\", \"object\", \"input\", \"hilo\", \"participant\", 'predicted', 'good']"
   ]
  },
  {
   "cell_type": "code",
   "execution_count": 31,
   "metadata": {},
   "outputs": [
    {
     "name": "stdout",
     "output_type": "stream",
     "text": [
      "landmark\n",
      "count     20.000000\n",
      "mean     125.000000\n",
      "std        4.588315\n",
      "min      120.000000\n",
      "50%      125.000000\n",
      "max      130.000000\n",
      "dtype: float64\n",
      "verb\n",
      "count     10.00000\n",
      "mean     250.00000\n",
      "std        9.42809\n",
      "min      240.00000\n",
      "50%      250.00000\n",
      "max      260.00000\n",
      "dtype: float64\n"
     ]
    }
   ],
   "source": [
    "for target in ['landmark', 'verb']:\n",
    "    print(target)\n",
    "    print(svo_sim.groupby(target).size().describe(percentiles=[]))"
   ]
  },
  {
   "cell_type": "code",
   "execution_count": 34,
   "metadata": {},
   "outputs": [
    {
     "data": {
      "text/plain": [
       "input                         3.5708\n",
       "hilo                          0.4652\n",
       "good_verb_pmi_64              0.0672\n",
       "good_verb_iact_info_32        0.0672\n",
       "good_verb_iact_info_16        0.0592\n",
       "good_verb_pmi_32              0.0576\n",
       "good_verb_iact_info_64        0.0576\n",
       "good_verb_salience_64         0.0512\n",
       "good_verb_log_freq_8          0.0468\n",
       "good_verb_salience_8          0.0468\n",
       "good_verb_log_dice_64         0.0416\n",
       "good_verb_iact_info_8         0.0384\n",
       "good_verb_log_dice_32         0.0312\n",
       "good_verb_salience_16         0.0312\n",
       "good_verb_log_freq_32         0.0312\n",
       "good_verb_log_dice_16         0.0304\n",
       "good_verb_pmi_4               0.0296\n",
       "good_verb_pmi_16              0.0296\n",
       "good_verb_iact_info_4         0.0296\n",
       "good_verb_log_freq_16         0.0208\n",
       "good_landmark_log_freq_64     0.0204\n",
       "good_landmark_salience_8      0.0204\n",
       "good_landmark_log_freq_32     0.0204\n",
       "good_landmark_log_freq_8      0.0204\n",
       "good_verb_log_dice_8          0.0200\n",
       "good_verb_pmi_8               0.0192\n",
       "good_landmark_log_dice_32     0.0192\n",
       "good_landmark_salience_32     0.0192\n",
       "good_verb_salience_32         0.0104\n",
       "good_verb_log_freq_64         0.0104\n",
       "                               ...  \n",
       "good_landmark_log_freq_2      0.0096\n",
       "good_landmark_salience_2      0.0096\n",
       "good_landmark_iact_info_64    0.0052\n",
       "good_landmark_pmi_8           0.0052\n",
       "good_landmark_log_dice_16     0.0052\n",
       "good_landmark_log_freq_16     0.0052\n",
       "good_landmark_log_dice_8      0.0048\n",
       "good_landmark_iact_info_32    0.0048\n",
       "good_landmark_log_freq_4      0.0000\n",
       "good_verb_log_freq_4          0.0000\n",
       "good_landmark_pmi_2           0.0000\n",
       "good_verb_pmi_2               0.0000\n",
       "good_verb_log_freq_2          0.0000\n",
       "good_landmark_log_dice_2      0.0000\n",
       "good_landmark_pmi_4           0.0000\n",
       "good_landmark_pmi_16          0.0000\n",
       "good_landmark_pmi_32          0.0000\n",
       "good_verb_log_dice_2          0.0000\n",
       "good_landmark_iact_info_2     0.0000\n",
       "good_verb_iact_info_2         0.0000\n",
       "good_landmark_iact_info_4     0.0000\n",
       "good_landmark_log_dice_64     0.0000\n",
       "good_verb_log_dice_4          0.0000\n",
       "good_verb_salience_2          0.0000\n",
       "good_landmark_salience_4      0.0000\n",
       "good_verb_salience_4          0.0000\n",
       "good_landmark_log_dice_4      0.0000\n",
       "good_landmark_salience_16     0.0000\n",
       "good_landmark_salience_64     0.0000\n",
       "good_landmark_iact_info_8     0.0000\n",
       "Length: 62, dtype: float64"
      ]
     },
     "execution_count": 34,
     "metadata": {},
     "output_type": "execute_result"
    }
   ],
   "source": [
    "svo_sim.sum(numeric_only=True).sort_values(ascending=False)/svo_sim.shape[0]"
   ]
  },
  {
   "cell_type": "markdown",
   "metadata": {},
   "source": [
    "|verb|`* 1`|`* lmbda`|\n",
    "|----|--|------|\n",
    "|unnorm|130|**272**|\n",
    "|norm|0|24|"
   ]
  },
  {
   "cell_type": "markdown",
   "metadata": {},
   "source": [
    "Majoroty baseline..."
   ]
  },
  {
   "cell_type": "code",
   "execution_count": 38,
   "metadata": {},
   "outputs": [
    {
     "data": {
      "text/plain": [
       "landmark\n",
       "allege      6.00\n",
       "attract     6.00\n",
       "bear        6.00\n",
       "depict      6.00\n",
       "express     6.00\n",
       "state       6.00\n",
       "picture     6.00\n",
       "receive     6.00\n",
       "bribe       6.25\n",
       "supply      6.25\n",
       "leave       6.25\n",
       "purchase    6.25\n",
       "spell       6.50\n",
       "satisfy     6.50\n",
       "operate     6.50\n",
       "test        6.50\n",
       "move        6.50\n",
       "judge       6.50\n",
       "publish     6.50\n",
       "visit       6.50\n",
       "dtype: float64"
      ]
     },
     "execution_count": 38,
     "metadata": {},
     "output_type": "execute_result"
    }
   ],
   "source": [
    "target = 'landmark'\n",
    "svo_sim.groupby(target).size().sort_values()/len(svo_sim[target].unique())"
   ]
  },
  {
   "cell_type": "markdown",
   "metadata": {},
   "source": [
    "# [Verb prediction (tensor)](https://everest.hds.utc.fr/doku.php?id=en:lfmnips12) (Jenatton+ NIPS 2012)"
   ]
  },
  {
   "cell_type": "code",
   "execution_count": null,
   "metadata": {},
   "outputs": [],
   "source": [
    "dataset_dir = '/mnt/permanent/Language/English/Data/verb-similarity/SVO-tensor-dataset/'\n",
    "def get_index(pos):\n",
    "    with open(os.path.join(dataset_dir, 'svo-{}s.lst'.format(pos))) as infile:\n",
    "        return {i+1: ' '.join(line.strip().split('_')[2:-1]) for i, line in enumerate(infile)}"
   ]
  },
  {
   "cell_type": "code",
   "execution_count": null,
   "metadata": {},
   "outputs": [],
   "source": [
    "svo_df = pd.read_csv(os.path.join(dataset_dir, 'svo_data_train_1000000.dat'), sep='\\t', header=None, \n",
    "                     names=['subject', 'verb', 'object'])"
   ]
  },
  {
   "cell_type": "code",
   "execution_count": null,
   "metadata": {},
   "outputs": [],
   "source": [
    "index_verb = get_index('verb')\n",
    "index_noun = get_index('noun')"
   ]
  },
  {
   "cell_type": "code",
   "execution_count": null,
   "metadata": {},
   "outputs": [],
   "source": [
    "svo_df.subject = svo_df.subject.apply(index_noun.get)\n",
    "svo_df.verb = svo_df.verb.apply(index_verb.get)\n",
    "svo_df.object = svo_df.object.apply(index_noun.get)"
   ]
  },
  {
   "cell_type": "code",
   "execution_count": null,
   "metadata": {},
   "outputs": [],
   "source": [
    "svo_df.head(10)"
   ]
  }
 ],
 "metadata": {
  "kernelspec": {
   "display_name": "Python 3",
   "language": "python",
   "name": "python3"
  },
  "language_info": {
   "codemirror_mode": {
    "name": "ipython",
    "version": 3
   },
   "file_extension": ".py",
   "mimetype": "text/x-python",
   "name": "python",
   "nbconvert_exporter": "python",
   "pygments_lexer": "ipython3",
   "version": "3.7.1"
  }
 },
 "nbformat": 4,
 "nbformat_minor": 2
}
