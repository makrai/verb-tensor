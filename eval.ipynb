{
 "cells": [
  {
   "cell_type": "code",
   "execution_count": 41,
   "metadata": {},
   "outputs": [],
   "source": [
    "from collections import defaultdict\n",
    "import numpy as np\n",
    "import operator\n",
    "import os\n",
    "import pandas as pd\n",
    "import pickle\n",
    "\n",
    "import logging\n",
    "logging.basicConfig(level=logging.DEBUG,\n",
    "        format='%(levelname)-8s [%(lineno)d] %(message)s')"
   ]
  },
  {
   "cell_type": "markdown",
   "metadata": {},
   "source": [
    "# [SimVerb](http://people.ds.cam.ac.uk/dsg40/simverb.html) (Gerz+ EMNLP 2016)"
   ]
  },
  {
   "cell_type": "code",
   "execution_count": 42,
   "metadata": {},
   "outputs": [],
   "source": [
    "simverb = pd.read_csv('/mnt/permanent/Language/English/Data/verb-similarity/simverb-3500/SimVerb-3500.txt', sep='\\t',\n",
    "                      header=None, names=['verb1', 'verb2', 'pos', 'sim', 'rel'])"
   ]
  },
  {
   "cell_type": "code",
   "execution_count": 43,
   "metadata": {},
   "outputs": [
    {
     "data": {
      "text/html": [
       "<div>\n",
       "<style scoped>\n",
       "    .dataframe tbody tr th:only-of-type {\n",
       "        vertical-align: middle;\n",
       "    }\n",
       "\n",
       "    .dataframe tbody tr th {\n",
       "        vertical-align: top;\n",
       "    }\n",
       "\n",
       "    .dataframe thead th {\n",
       "        text-align: right;\n",
       "    }\n",
       "</style>\n",
       "<table border=\"1\" class=\"dataframe\">\n",
       "  <thead>\n",
       "    <tr style=\"text-align: right;\">\n",
       "      <th></th>\n",
       "      <th>verb1</th>\n",
       "      <th>verb2</th>\n",
       "      <th>pos</th>\n",
       "      <th>sim</th>\n",
       "      <th>rel</th>\n",
       "    </tr>\n",
       "  </thead>\n",
       "  <tbody>\n",
       "    <tr>\n",
       "      <th>0</th>\n",
       "      <td>take</td>\n",
       "      <td>remove</td>\n",
       "      <td>V</td>\n",
       "      <td>6.81</td>\n",
       "      <td>SYNONYMS</td>\n",
       "    </tr>\n",
       "    <tr>\n",
       "      <th>1</th>\n",
       "      <td>walk</td>\n",
       "      <td>trail</td>\n",
       "      <td>V</td>\n",
       "      <td>4.81</td>\n",
       "      <td>COHYPONYMS</td>\n",
       "    </tr>\n",
       "    <tr>\n",
       "      <th>2</th>\n",
       "      <td>feed</td>\n",
       "      <td>starve</td>\n",
       "      <td>V</td>\n",
       "      <td>1.49</td>\n",
       "      <td>ANTONYMS</td>\n",
       "    </tr>\n",
       "    <tr>\n",
       "      <th>3</th>\n",
       "      <td>shine</td>\n",
       "      <td>polish</td>\n",
       "      <td>V</td>\n",
       "      <td>7.80</td>\n",
       "      <td>SYNONYMS</td>\n",
       "    </tr>\n",
       "    <tr>\n",
       "      <th>4</th>\n",
       "      <td>calculate</td>\n",
       "      <td>add</td>\n",
       "      <td>V</td>\n",
       "      <td>5.98</td>\n",
       "      <td>HYPER/HYPONYMS</td>\n",
       "    </tr>\n",
       "  </tbody>\n",
       "</table>\n",
       "</div>"
      ],
      "text/plain": [
       "       verb1   verb2 pos   sim             rel\n",
       "0       take  remove   V  6.81        SYNONYMS\n",
       "1       walk   trail   V  4.81      COHYPONYMS\n",
       "2       feed  starve   V  1.49        ANTONYMS\n",
       "3      shine  polish   V  7.80        SYNONYMS\n",
       "4  calculate     add   V  5.98  HYPER/HYPONYMS"
      ]
     },
     "execution_count": 43,
     "metadata": {},
     "output_type": "execute_result"
    }
   ],
   "source": [
    "simverb.head()"
   ]
  },
  {
   "cell_type": "code",
   "execution_count": 44,
   "metadata": {},
   "outputs": [
    {
     "data": {
      "text/plain": [
       "(3500, 5)"
      ]
     },
     "execution_count": 44,
     "metadata": {},
     "output_type": "execute_result"
    }
   ],
   "source": [
    "simverb.shape"
   ]
  },
  {
   "cell_type": "code",
   "execution_count": 45,
   "metadata": {},
   "outputs": [
    {
     "data": {
      "text/html": [
       "<div>\n",
       "<style scoped>\n",
       "    .dataframe tbody tr th:only-of-type {\n",
       "        vertical-align: middle;\n",
       "    }\n",
       "\n",
       "    .dataframe tbody tr th {\n",
       "        vertical-align: top;\n",
       "    }\n",
       "\n",
       "    .dataframe thead th {\n",
       "        text-align: right;\n",
       "    }\n",
       "</style>\n",
       "<table border=\"1\" class=\"dataframe\">\n",
       "  <thead>\n",
       "    <tr style=\"text-align: right;\">\n",
       "      <th></th>\n",
       "      <th>count</th>\n",
       "      <th>mean</th>\n",
       "      <th>std</th>\n",
       "      <th>min</th>\n",
       "      <th>50%</th>\n",
       "      <th>max</th>\n",
       "    </tr>\n",
       "    <tr>\n",
       "      <th>rel</th>\n",
       "      <th></th>\n",
       "      <th></th>\n",
       "      <th></th>\n",
       "      <th></th>\n",
       "      <th></th>\n",
       "      <th></th>\n",
       "    </tr>\n",
       "  </thead>\n",
       "  <tbody>\n",
       "    <tr>\n",
       "      <th>NONE</th>\n",
       "      <td>2093.0</td>\n",
       "      <td>3.431276</td>\n",
       "      <td>2.342695</td>\n",
       "      <td>0.0</td>\n",
       "      <td>3.150</td>\n",
       "      <td>9.79</td>\n",
       "    </tr>\n",
       "    <tr>\n",
       "      <th>HYPER/HYPONYMS</th>\n",
       "      <td>800.0</td>\n",
       "      <td>6.012525</td>\n",
       "      <td>2.104537</td>\n",
       "      <td>0.5</td>\n",
       "      <td>6.310</td>\n",
       "      <td>9.96</td>\n",
       "    </tr>\n",
       "    <tr>\n",
       "      <th>SYNONYMS</th>\n",
       "      <td>306.0</td>\n",
       "      <td>6.789150</td>\n",
       "      <td>2.104490</td>\n",
       "      <td>0.5</td>\n",
       "      <td>7.140</td>\n",
       "      <td>9.96</td>\n",
       "    </tr>\n",
       "    <tr>\n",
       "      <th>COHYPONYMS</th>\n",
       "      <td>190.0</td>\n",
       "      <td>4.435526</td>\n",
       "      <td>2.381992</td>\n",
       "      <td>0.0</td>\n",
       "      <td>4.665</td>\n",
       "      <td>9.30</td>\n",
       "    </tr>\n",
       "    <tr>\n",
       "      <th>ANTONYMS</th>\n",
       "      <td>111.0</td>\n",
       "      <td>0.977748</td>\n",
       "      <td>1.074232</td>\n",
       "      <td>0.0</td>\n",
       "      <td>0.660</td>\n",
       "      <td>6.04</td>\n",
       "    </tr>\n",
       "  </tbody>\n",
       "</table>\n",
       "</div>"
      ],
      "text/plain": [
       "                 count      mean       std  min    50%   max\n",
       "rel                                                         \n",
       "NONE            2093.0  3.431276  2.342695  0.0  3.150  9.79\n",
       "HYPER/HYPONYMS   800.0  6.012525  2.104537  0.5  6.310  9.96\n",
       "SYNONYMS         306.0  6.789150  2.104490  0.5  7.140  9.96\n",
       "COHYPONYMS       190.0  4.435526  2.381992  0.0  4.665  9.30\n",
       "ANTONYMS         111.0  0.977748  1.074232  0.0  0.660  6.04"
      ]
     },
     "execution_count": 45,
     "metadata": {},
     "output_type": "execute_result"
    }
   ],
   "source": [
    "simverb.groupby('rel').sim.describe(percentiles=[]).sort_values('count', ascending=False)"
   ]
  },
  {
   "cell_type": "markdown",
   "metadata": {},
   "source": [
    "## Tensor"
   ]
  },
  {
   "cell_type": "code",
   "execution_count": 46,
   "metadata": {},
   "outputs": [],
   "source": [
    "def sim_verb(weight, rank):\n",
    "    logging.info(weight)\n",
    "    _, index = pickle.load(open(\n",
    "        '/mnt/store/home/makrai/project/verb-tensor/depCC/sparstensr_{}_2.pkl'.format(weight), mode='rb'))\n",
    "    oov = defaultdict(int)\n",
    "    def tensor_based_sim(rank):\n",
    "        ktensor, fit, n_iterations, exectimes = pickle.load(open(\n",
    "            '/mnt/store/home/makrai/project/verb-tensor/depCC/ktensor_{}_2_{}.pkl'.format(weight, rank), mode='rb'))\n",
    "        #modes = ['nsubj', 'ROOT', 'dobj']\n",
    "        ktensor.U[1] /= np.apply_along_axis(np.linalg.norm, 1, ktensor.U[1]).reshape((-1,1))\n",
    "        def pointwise_prod_more(ser):\n",
    "            try:\n",
    "                #return ktensor.lmbda .dot( \n",
    "                return ktensor.U[1][index['ROOT'][ser[0]]] .dot( ktensor.U[1][index['ROOT'][ser[1]]])\n",
    "            except KeyError as e:\n",
    "                oov[e.args] += 1\n",
    "                return np.nan\n",
    "        simverb['tensor_sim_{}'.format(rank)] = simverb[['verb1', 'verb2']].apply(pointwise_prod_more, axis=1)\n",
    "    #logging.debug(sorted(oov.items(), key=operator.itemgetter(1), reverse=True))\n",
    "    for exp in range(1, int(np.log2(rank))+1):\n",
    "        tensor_based_sim(rank=2**exp)\n",
    "    return simverb.corr()[simverb.columns[-4:]].loc['sim']"
   ]
  },
  {
   "cell_type": "code",
   "execution_count": 47,
   "metadata": {},
   "outputs": [
    {
     "name": "stderr",
     "output_type": "stream",
     "text": [
      "INFO     [2] log_freq\n",
      "DEBUG    [19] []\n",
      "/home/makrai/tool/python/miniconda3/lib/python3.7/site-packages/ipykernel_launcher.py:10: RuntimeWarning: divide by zero encountered in true_divide\n",
      "  # Remove the CWD from sys.path while we load stuff.\n",
      "/home/makrai/tool/python/miniconda3/lib/python3.7/site-packages/ipykernel_launcher.py:10: RuntimeWarning: invalid value encountered in true_divide\n",
      "  # Remove the CWD from sys.path while we load stuff.\n",
      "INFO     [2] pmi\n"
     ]
    },
    {
     "name": "stdout",
     "output_type": "stream",
     "text": [
      "tensor_sim_2     0.005956\n",
      "tensor_sim_4     0.000051\n",
      "tensor_sim_8    -0.048176\n",
      "tensor_sim_16    0.107064\n",
      "Name: sim, dtype: float64\n"
     ]
    },
    {
     "name": "stderr",
     "output_type": "stream",
     "text": [
      "DEBUG    [19] []\n",
      "INFO     [2] iact_info\n"
     ]
    },
    {
     "name": "stdout",
     "output_type": "stream",
     "text": [
      "tensor_sim_2     0.006581\n",
      "tensor_sim_4     0.003413\n",
      "tensor_sim_8     0.107581\n",
      "tensor_sim_16    0.088540\n",
      "Name: sim, dtype: float64\n"
     ]
    },
    {
     "name": "stderr",
     "output_type": "stream",
     "text": [
      "DEBUG    [19] []\n",
      "INFO     [2] salience\n"
     ]
    },
    {
     "name": "stdout",
     "output_type": "stream",
     "text": [
      "tensor_sim_2     0.003671\n",
      "tensor_sim_4    -0.006376\n",
      "tensor_sim_8     0.054211\n",
      "tensor_sim_16    0.108490\n",
      "Name: sim, dtype: float64\n"
     ]
    },
    {
     "name": "stderr",
     "output_type": "stream",
     "text": [
      "DEBUG    [19] []\n",
      "INFO     [2] log_dice\n"
     ]
    },
    {
     "name": "stdout",
     "output_type": "stream",
     "text": [
      "tensor_sim_2     0.005952\n",
      "tensor_sim_4    -0.001152\n",
      "tensor_sim_8    -0.045214\n",
      "tensor_sim_16    0.125190\n",
      "Name: sim, dtype: float64\n"
     ]
    },
    {
     "name": "stderr",
     "output_type": "stream",
     "text": [
      "DEBUG    [19] []\n"
     ]
    },
    {
     "name": "stdout",
     "output_type": "stream",
     "text": [
      "tensor_sim_2     0.023153\n",
      "tensor_sim_4     0.073738\n",
      "tensor_sim_8    -0.022537\n",
      "tensor_sim_16    0.050693\n",
      "Name: sim, dtype: float64\n"
     ]
    }
   ],
   "source": [
    "for weight in ['log_freq', 'pmi', 'iact_info', 'salience', 'log_dice']: # iact_sali\n",
    "    print(sim_verb(weight, 16))"
   ]
  },
  {
   "cell_type": "code",
   "execution_count": 48,
   "metadata": {},
   "outputs": [
    {
     "data": {
      "text/plain": [
       "rel                          \n",
       "ANTONYMS        sim              1.000000\n",
       "                tensor_sim_2     0.017516\n",
       "                tensor_sim_4    -0.197749\n",
       "                tensor_sim_8    -0.020607\n",
       "                tensor_sim_16   -0.084390\n",
       "COHYPONYMS      sim              1.000000\n",
       "                tensor_sim_2     0.043319\n",
       "                tensor_sim_4     0.079444\n",
       "                tensor_sim_8    -0.032908\n",
       "                tensor_sim_16   -0.063021\n",
       "HYPER/HYPONYMS  sim              1.000000\n",
       "                tensor_sim_2    -0.007254\n",
       "                tensor_sim_4    -0.002763\n",
       "                tensor_sim_8    -0.043962\n",
       "                tensor_sim_16    0.067686\n",
       "NONE            sim              1.000000\n",
       "                tensor_sim_2     0.020203\n",
       "                tensor_sim_4     0.067586\n",
       "                tensor_sim_8    -0.033773\n",
       "                tensor_sim_16    0.029902\n",
       "SYNONYMS        sim              1.000000\n",
       "                tensor_sim_2    -0.030147\n",
       "                tensor_sim_4    -0.075950\n",
       "                tensor_sim_8    -0.063703\n",
       "                tensor_sim_16    0.090023\n",
       "Name: sim, dtype: float64"
      ]
     },
     "execution_count": 48,
     "metadata": {},
     "output_type": "execute_result"
    }
   ],
   "source": [
    "simverb.groupby('rel').corr().sim"
   ]
  },
  {
   "cell_type": "markdown",
   "metadata": {},
   "source": [
    "# [Transitive sentence similarity](http://www.cs.ox.ac.uk/activities/compdistmeaning/GS2011data.txt) (Grefenstette and Sadrzadeh, EMNLP 2011)"
   ]
  },
  {
   "cell_type": "code",
   "execution_count": 2,
   "metadata": {},
   "outputs": [],
   "source": [
    "svo_sim = pd.read_csv('/mnt/permanent/Language/English/Data/verb-similarity/GS2011data.txt', sep=' ', \n",
    "                 true_values=['HIGH'], false_values=['LOW'])"
   ]
  },
  {
   "cell_type": "code",
   "execution_count": 3,
   "metadata": {},
   "outputs": [],
   "source": [
    "cols_ordered = [\"subject\", \"verb\", \"landmark\", \"object\", \"input\", \"hilo\", \"participant\"]"
   ]
  },
  {
   "cell_type": "code",
   "execution_count": 4,
   "metadata": {},
   "outputs": [
    {
     "data": {
      "text/html": [
       "<div>\n",
       "<style scoped>\n",
       "    .dataframe tbody tr th:only-of-type {\n",
       "        vertical-align: middle;\n",
       "    }\n",
       "\n",
       "    .dataframe tbody tr th {\n",
       "        vertical-align: top;\n",
       "    }\n",
       "\n",
       "    .dataframe thead th {\n",
       "        text-align: right;\n",
       "    }\n",
       "</style>\n",
       "<table border=\"1\" class=\"dataframe\">\n",
       "  <thead>\n",
       "    <tr style=\"text-align: right;\">\n",
       "      <th></th>\n",
       "      <th>subject</th>\n",
       "      <th>verb</th>\n",
       "      <th>landmark</th>\n",
       "      <th>object</th>\n",
       "      <th>input</th>\n",
       "      <th>hilo</th>\n",
       "      <th>participant</th>\n",
       "    </tr>\n",
       "  </thead>\n",
       "  <tbody>\n",
       "    <tr>\n",
       "      <th>0</th>\n",
       "      <td>family</td>\n",
       "      <td>provide</td>\n",
       "      <td>supply</td>\n",
       "      <td>home</td>\n",
       "      <td>4</td>\n",
       "      <td>True</td>\n",
       "      <td>participant20</td>\n",
       "    </tr>\n",
       "    <tr>\n",
       "      <th>1</th>\n",
       "      <td>government</td>\n",
       "      <td>provide</td>\n",
       "      <td>leave</td>\n",
       "      <td>cash</td>\n",
       "      <td>3</td>\n",
       "      <td>False</td>\n",
       "      <td>participant20</td>\n",
       "    </tr>\n",
       "    <tr>\n",
       "      <th>2</th>\n",
       "      <td>government</td>\n",
       "      <td>provide</td>\n",
       "      <td>supply</td>\n",
       "      <td>cash</td>\n",
       "      <td>7</td>\n",
       "      <td>True</td>\n",
       "      <td>participant20</td>\n",
       "    </tr>\n",
       "    <tr>\n",
       "      <th>3</th>\n",
       "      <td>man</td>\n",
       "      <td>provide</td>\n",
       "      <td>leave</td>\n",
       "      <td>money</td>\n",
       "      <td>6</td>\n",
       "      <td>True</td>\n",
       "      <td>participant20</td>\n",
       "    </tr>\n",
       "    <tr>\n",
       "      <th>4</th>\n",
       "      <td>man</td>\n",
       "      <td>provide</td>\n",
       "      <td>supply</td>\n",
       "      <td>money</td>\n",
       "      <td>7</td>\n",
       "      <td>True</td>\n",
       "      <td>participant20</td>\n",
       "    </tr>\n",
       "  </tbody>\n",
       "</table>\n",
       "</div>"
      ],
      "text/plain": [
       "      subject     verb landmark object  input   hilo    participant\n",
       "0      family  provide   supply   home      4   True  participant20\n",
       "1  government  provide    leave   cash      3  False  participant20\n",
       "2  government  provide   supply   cash      7   True  participant20\n",
       "3         man  provide    leave  money      6   True  participant20\n",
       "4         man  provide   supply  money      7   True  participant20"
      ]
     },
     "execution_count": 4,
     "metadata": {},
     "output_type": "execute_result"
    }
   ],
   "source": [
    "svo_sim[cols_ordered].head()"
   ]
  },
  {
   "cell_type": "code",
   "execution_count": 5,
   "metadata": {},
   "outputs": [
    {
     "data": {
      "text/html": [
       "<div>\n",
       "<style scoped>\n",
       "    .dataframe tbody tr th:only-of-type {\n",
       "        vertical-align: middle;\n",
       "    }\n",
       "\n",
       "    .dataframe tbody tr th {\n",
       "        vertical-align: top;\n",
       "    }\n",
       "\n",
       "    .dataframe thead th {\n",
       "        text-align: right;\n",
       "    }\n",
       "</style>\n",
       "<table border=\"1\" class=\"dataframe\">\n",
       "  <thead>\n",
       "    <tr style=\"text-align: right;\">\n",
       "      <th></th>\n",
       "      <th>input</th>\n",
       "    </tr>\n",
       "  </thead>\n",
       "  <tbody>\n",
       "    <tr>\n",
       "      <th>count</th>\n",
       "      <td>2500.000000</td>\n",
       "    </tr>\n",
       "    <tr>\n",
       "      <th>mean</th>\n",
       "      <td>3.570800</td>\n",
       "    </tr>\n",
       "    <tr>\n",
       "      <th>std</th>\n",
       "      <td>2.193561</td>\n",
       "    </tr>\n",
       "    <tr>\n",
       "      <th>min</th>\n",
       "      <td>0.000000</td>\n",
       "    </tr>\n",
       "    <tr>\n",
       "      <th>50%</th>\n",
       "      <td>3.000000</td>\n",
       "    </tr>\n",
       "    <tr>\n",
       "      <th>max</th>\n",
       "      <td>7.000000</td>\n",
       "    </tr>\n",
       "  </tbody>\n",
       "</table>\n",
       "</div>"
      ],
      "text/plain": [
       "             input\n",
       "count  2500.000000\n",
       "mean      3.570800\n",
       "std       2.193561\n",
       "min       0.000000\n",
       "50%       3.000000\n",
       "max       7.000000"
      ]
     },
     "execution_count": 5,
     "metadata": {},
     "output_type": "execute_result"
    }
   ],
   "source": [
    "svo_sim.describe(percentiles=[])"
   ]
  },
  {
   "cell_type": "code",
   "execution_count": 6,
   "metadata": {},
   "outputs": [
    {
     "data": {
      "text/html": [
       "<div>\n",
       "<style scoped>\n",
       "    .dataframe tbody tr th:only-of-type {\n",
       "        vertical-align: middle;\n",
       "    }\n",
       "\n",
       "    .dataframe tbody tr th {\n",
       "        vertical-align: top;\n",
       "    }\n",
       "\n",
       "    .dataframe thead th {\n",
       "        text-align: right;\n",
       "    }\n",
       "</style>\n",
       "<table border=\"1\" class=\"dataframe\">\n",
       "  <thead>\n",
       "    <tr style=\"text-align: right;\">\n",
       "      <th></th>\n",
       "      <th>input</th>\n",
       "      <th>hilo</th>\n",
       "    </tr>\n",
       "  </thead>\n",
       "  <tbody>\n",
       "    <tr>\n",
       "      <th>input</th>\n",
       "      <td>1.00000</td>\n",
       "      <td>0.51689</td>\n",
       "    </tr>\n",
       "    <tr>\n",
       "      <th>hilo</th>\n",
       "      <td>0.51689</td>\n",
       "      <td>1.00000</td>\n",
       "    </tr>\n",
       "  </tbody>\n",
       "</table>\n",
       "</div>"
      ],
      "text/plain": [
       "         input     hilo\n",
       "input  1.00000  0.51689\n",
       "hilo   0.51689  1.00000"
      ]
     },
     "execution_count": 6,
     "metadata": {},
     "output_type": "execute_result"
    }
   ],
   "source": [
    "svo_sim.corr(method='spearman')"
   ]
  },
  {
   "cell_type": "markdown",
   "metadata": {},
   "source": [
    "## Tensor"
   ]
  },
  {
   "cell_type": "code",
   "execution_count": 36,
   "metadata": {},
   "outputs": [],
   "source": [
    "def predict_verb(weight, rank):\n",
    "    _, index = pickle.load(open(\n",
    "        '/mnt/store/home/makrai/project/verb-tensor/depCC/sparstensr_{}_2.pkl'.format(weight), mode='rb'))\n",
    "    ktensor, fit, n_iterations, exectimes = pickle.load(open(\n",
    "        '/mnt/store/home/makrai/project/verb-tensor/depCC/ktensor_{}_2_{}.pkl'.format(weight, rank), mode='rb'))\n",
    "    #modes = ['nsubj', 'ROOT', 'dobj']\n",
    "    #ktensor.U[1] /= np.apply_along_axis(np.linalg.norm, 1, ktensor.U[1]).reshape((-1,1))\n",
    "    oov = defaultdict(int)\n",
    "    def verb_pred(ser, prec_at=10):\n",
    "        try:\n",
    "            predicted_ids = np.argsort((\n",
    "                -ktensor.lmbda * ktensor.U[0][index['nsubj'][ser[0]]]) .dot(\n",
    "                (ktensor.U[1] * ktensor.U[2][index['dobj'][ser[0]]]).T))#] # \n",
    "            return [index['ROOT'].inverse[i] for i in predicted_ids[:prec_at]]\n",
    "        except KeyError as e:\n",
    "            oov[e.args] += 1\n",
    "            return []\n",
    "    svo_sim['predicted_{}_{}'.format(weight, rank)] = svo_sim[['subject', 'object']].apply(verb_pred, axis=1)\n",
    "    #logging.debug(sorted(oov.items(), key=operator.itemgetter(1), reverse=True))\n",
    "    for target in ['landmark', 'verb']:\n",
    "        def is_good(ser):\n",
    "            return ser[target] in ser['predicted_{}_{}'.format(weight, rank)]\n",
    "        svo_sim['good_{}_{}_{}'.format(target, weight, rank)] = svo_sim.apply(is_good, axis=1)"
   ]
  },
  {
   "cell_type": "code",
   "execution_count": 37,
   "metadata": {},
   "outputs": [],
   "source": [
    "def for_weight():\n",
    "    for weight in ['log_freq', 'pmi', 'iact_info', 'salience', 'log_dice']: # iact_sali\n",
    "        logging.info(weight)\n",
    "        for exp in range(1, 5):\n",
    "            rank = 2 ** exp\n",
    "            logging.info(rank)\n",
    "            predict_verb(weight, rank)"
   ]
  },
  {
   "cell_type": "code",
   "execution_count": 38,
   "metadata": {},
   "outputs": [
    {
     "name": "stderr",
     "output_type": "stream",
     "text": [
      "INFO     [3] log_freq\n",
      "INFO     [6] 2\n",
      "INFO     [6] 4\n",
      "INFO     [6] 8\n",
      "INFO     [6] 16\n",
      "INFO     [3] pmi\n",
      "INFO     [6] 2\n",
      "INFO     [6] 4\n",
      "INFO     [6] 8\n",
      "INFO     [6] 16\n",
      "INFO     [3] iact_info\n",
      "INFO     [6] 2\n",
      "INFO     [6] 4\n",
      "INFO     [6] 8\n",
      "INFO     [6] 16\n",
      "INFO     [3] salience\n",
      "INFO     [6] 2\n",
      "INFO     [6] 4\n",
      "INFO     [6] 8\n",
      "INFO     [6] 16\n",
      "INFO     [3] log_dice\n",
      "INFO     [6] 2\n",
      "INFO     [6] 4\n",
      "INFO     [6] 8\n",
      "INFO     [6] 16\n"
     ]
    },
    {
     "name": "stdout",
     "output_type": "stream",
     "text": [
      "CPU times: user 13min 44s, sys: 39min 48s, total: 53min 33s\n",
      "Wall time: 5min 11s\n"
     ]
    }
   ],
   "source": [
    "%time for_weight()"
   ]
  },
  {
   "cell_type": "code",
   "execution_count": null,
   "metadata": {},
   "outputs": [],
   "source": [
    "cols_ordered = [\"subject\", \"verb\", \"landmark\", \"object\", \"input\", \"hilo\", \"participant\", 'predicted', 'good']"
   ]
  },
  {
   "cell_type": "code",
   "execution_count": 39,
   "metadata": {},
   "outputs": [
    {
     "name": "stdout",
     "output_type": "stream",
     "text": [
      "landmark\n",
      "count     20.000000\n",
      "mean     125.000000\n",
      "std        4.588315\n",
      "min      120.000000\n",
      "50%      125.000000\n",
      "max      130.000000\n",
      "dtype: float64\n",
      "verb\n",
      "count     10.00000\n",
      "mean     250.00000\n",
      "std        9.42809\n",
      "min      240.00000\n",
      "50%      250.00000\n",
      "max      260.00000\n",
      "dtype: float64\n"
     ]
    }
   ],
   "source": [
    "for target in ['landmark', 'verb']:\n",
    "    print(target)\n",
    "    print(svo_sim.groupby(target).size().describe(percentiles=[]))"
   ]
  },
  {
   "cell_type": "code",
   "execution_count": 40,
   "metadata": {},
   "outputs": [
    {
     "data": {
      "text/plain": [
       "input                         8927.0\n",
       "hilo                          1163.0\n",
       "good_verb_pmi_16               246.0\n",
       "good_verb_iact_info_16         246.0\n",
       "good_verb_iact_info_4          242.0\n",
       "good_verb_pmi_4                194.0\n",
       "good_verb_pmi_8                170.0\n",
       "good_verb_log_freq_8           167.0\n",
       "good_verb_salience_8           167.0\n",
       "good_verb_iact_info_8          120.0\n",
       "good_verb_log_freq_16          102.0\n",
       "good_verb_log_dice_16          102.0\n",
       "good_verb_salience_16          102.0\n",
       "good_verb_log_dice_4            78.0\n",
       "good_landmark_iact_info_16      75.0\n",
       "good_landmark_pmi_16            62.0\n",
       "good_landmark_log_freq_8        51.0\n",
       "good_landmark_salience_8        51.0\n",
       "good_verb_log_dice_8            50.0\n",
       "good_landmark_log_dice_4        38.0\n",
       "good_landmark_pmi_8             37.0\n",
       "good_landmark_salience_16       37.0\n",
       "good_landmark_log_dice_2        36.0\n",
       "good_landmark_log_freq_16       26.0\n",
       "good_landmark_salience_2        24.0\n",
       "good_landmark_log_freq_2        24.0\n",
       "good_landmark_log_dice_8        24.0\n",
       "good_verb_salience_4            24.0\n",
       "good_landmark_salience_4        13.0\n",
       "good_landmark_log_dice_16       13.0\n",
       "good_landmark_log_freq_4        13.0\n",
       "good_verb_salience_2             0.0\n",
       "good_landmark_iact_info_8        0.0\n",
       "good_landmark_iact_info_4        0.0\n",
       "good_landmark_iact_info_2        0.0\n",
       "good_verb_log_freq_2             0.0\n",
       "good_landmark_pmi_4              0.0\n",
       "good_landmark_pmi_2              0.0\n",
       "good_verb_log_freq_4             0.0\n",
       "good_verb_log_dice_2             0.0\n",
       "good_verb_pmi_2                  0.0\n",
       "good_verb_iact_info_2            0.0\n",
       "dtype: float64"
      ]
     },
     "execution_count": 40,
     "metadata": {},
     "output_type": "execute_result"
    }
   ],
   "source": [
    "svo_sim.sum(numeric_only=True).sort_values(ascending=False)"
   ]
  },
  {
   "cell_type": "markdown",
   "metadata": {},
   "source": [
    "|verb|`* 1`|`* lmbda`|\n",
    "|----|--|------|\n",
    "|unnorm|130|**272**|\n",
    "|norm|0|24|"
   ]
  },
  {
   "cell_type": "markdown",
   "metadata": {},
   "source": [
    "Majoroty baseline..."
   ]
  },
  {
   "cell_type": "code",
   "execution_count": null,
   "metadata": {},
   "outputs": [],
   "source": [
    "svo_sim[cols_ordered].sample()"
   ]
  },
  {
   "cell_type": "markdown",
   "metadata": {},
   "source": [
    "# [Verb prediction (tensor)](https://everest.hds.utc.fr/doku.php?id=en:lfmnips12) (Jenatton+ NIPS 2012)"
   ]
  },
  {
   "cell_type": "code",
   "execution_count": null,
   "metadata": {},
   "outputs": [],
   "source": [
    "dataset_dir = '/mnt/permanent/Language/English/Data/verb-similarity/SVO-tensor-dataset/'\n",
    "def get_index(pos):\n",
    "    with open(os.path.join(dataset_dir, 'svo-{}s.lst'.format(pos))) as infile:\n",
    "        return {i+1: ' '.join(line.strip().split('_')[2:-1]) for i, line in enumerate(infile)}"
   ]
  },
  {
   "cell_type": "code",
   "execution_count": null,
   "metadata": {},
   "outputs": [],
   "source": [
    "svo_df = pd.read_csv(os.path.join(dataset_dir, 'svo_data_train_1000000.dat'), sep='\\t', header=None, \n",
    "                     names=['subject', 'verb', 'object'])"
   ]
  },
  {
   "cell_type": "code",
   "execution_count": null,
   "metadata": {},
   "outputs": [],
   "source": [
    "index_verb = get_index('verb')\n",
    "index_noun = get_index('noun')"
   ]
  },
  {
   "cell_type": "code",
   "execution_count": null,
   "metadata": {},
   "outputs": [],
   "source": [
    "svo_df.subject = svo_df.subject.apply(index_noun.get)\n",
    "svo_df.verb = svo_df.verb.apply(index_verb.get)\n",
    "svo_df.object = svo_df.object.apply(index_noun.get)"
   ]
  },
  {
   "cell_type": "code",
   "execution_count": null,
   "metadata": {},
   "outputs": [],
   "source": [
    "svo_df.head(10)"
   ]
  }
 ],
 "metadata": {
  "kernelspec": {
   "display_name": "Python 3",
   "language": "python",
   "name": "python3"
  },
  "language_info": {
   "codemirror_mode": {
    "name": "ipython",
    "version": 3
   },
   "file_extension": ".py",
   "mimetype": "text/x-python",
   "name": "python",
   "nbconvert_exporter": "python",
   "pygments_lexer": "ipython3",
   "version": "3.7.1"
  }
 },
 "nbformat": 4,
 "nbformat_minor": 2
}
