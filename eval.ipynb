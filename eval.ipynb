{
 "cells": [
  {
   "cell_type": "code",
   "execution_count": 1,
   "metadata": {},
   "outputs": [
    {
     "name": "stdout",
     "output_type": "stream",
     "text": [
      "Populating the interactive namespace from numpy and matplotlib\n"
     ]
    },
    {
     "name": "stderr",
     "output_type": "stream",
     "text": [
      "/home/makrai/tool/python/miniconda3/lib/python3.7/site-packages/IPython/core/magics/pylab.py:160: UserWarning: pylab import has clobbered these variables: ['copy']\n",
      "`%matplotlib` prevents importing * from pylab and numpy\n",
      "  \"\\n`%matplotlib` prevents importing * from pylab and numpy\"\n"
     ]
    }
   ],
   "source": [
    "from collections import defaultdict\n",
    "from copy import copy\n",
    "import numpy as np\n",
    "import operator\n",
    "import os\n",
    "import pandas as pd\n",
    "import pickle\n",
    "\n",
    "import matplotlib.pyplot as plt\n",
    "%pylab inline\n",
    "matplotlib.rcParams.update({'font.size': 14})\n",
    "\n",
    "\n",
    "import logging\n",
    "logging.basicConfig(level=logging.INFO,\n",
    "        format='%(levelname)-8s [%(lineno)d] %(message)s')"
   ]
  },
  {
   "cell_type": "code",
   "execution_count": 2,
   "metadata": {},
   "outputs": [],
   "source": [
    "pylab.rcParams['figure.figsize'] = (20, 10)"
   ]
  },
  {
   "cell_type": "code",
   "execution_count": 3,
   "metadata": {},
   "outputs": [],
   "source": [
    "tensor_dir = '/mnt/permanent/home/makrai/project/verb-tensor/verb/tensor/0/'"
   ]
  },
  {
   "cell_type": "markdown",
   "metadata": {},
   "source": [
    "# Task 1: One-mode similarity"
   ]
  },
  {
   "cell_type": "markdown",
   "metadata": {},
   "source": [
    "## Data: [SimVerb](http://people.ds.cam.ac.uk/dsg40/simverb.html) (Gerz+ EMNLP 2016)"
   ]
  },
  {
   "cell_type": "code",
   "execution_count": 4,
   "metadata": {},
   "outputs": [],
   "source": [
    "simverb = pd.read_csv('/mnt/permanent/Language/English/Data/verb-similarity/simverb-3500/SimVerb-3500.txt', sep='\\t',\n",
    "                      header=None, names=['verb1', 'verb2', 'pos', 'sim', 'rel'])"
   ]
  },
  {
   "cell_type": "code",
   "execution_count": 5,
   "metadata": {},
   "outputs": [
    {
     "data": {
      "text/html": [
       "<div>\n",
       "<style scoped>\n",
       "    .dataframe tbody tr th:only-of-type {\n",
       "        vertical-align: middle;\n",
       "    }\n",
       "\n",
       "    .dataframe tbody tr th {\n",
       "        vertical-align: top;\n",
       "    }\n",
       "\n",
       "    .dataframe thead th {\n",
       "        text-align: right;\n",
       "    }\n",
       "</style>\n",
       "<table border=\"1\" class=\"dataframe\">\n",
       "  <thead>\n",
       "    <tr style=\"text-align: right;\">\n",
       "      <th></th>\n",
       "      <th>sim</th>\n",
       "    </tr>\n",
       "  </thead>\n",
       "  <tbody>\n",
       "    <tr>\n",
       "      <th>count</th>\n",
       "      <td>3500.000000</td>\n",
       "    </tr>\n",
       "    <tr>\n",
       "      <th>mean</th>\n",
       "      <td>4.291554</td>\n",
       "    </tr>\n",
       "    <tr>\n",
       "      <th>std</th>\n",
       "      <td>2.652621</td>\n",
       "    </tr>\n",
       "    <tr>\n",
       "      <th>min</th>\n",
       "      <td>0.000000</td>\n",
       "    </tr>\n",
       "    <tr>\n",
       "      <th>50%</th>\n",
       "      <td>4.320000</td>\n",
       "    </tr>\n",
       "    <tr>\n",
       "      <th>max</th>\n",
       "      <td>9.960000</td>\n",
       "    </tr>\n",
       "  </tbody>\n",
       "</table>\n",
       "</div>"
      ],
      "text/plain": [
       "               sim\n",
       "count  3500.000000\n",
       "mean      4.291554\n",
       "std       2.652621\n",
       "min       0.000000\n",
       "50%       4.320000\n",
       "max       9.960000"
      ]
     },
     "execution_count": 5,
     "metadata": {},
     "output_type": "execute_result"
    }
   ],
   "source": [
    "simverb.describe(percentiles=[])"
   ]
  },
  {
   "cell_type": "code",
   "execution_count": 6,
   "metadata": {},
   "outputs": [
    {
     "data": {
      "text/html": [
       "<div>\n",
       "<style scoped>\n",
       "    .dataframe tbody tr th:only-of-type {\n",
       "        vertical-align: middle;\n",
       "    }\n",
       "\n",
       "    .dataframe tbody tr th {\n",
       "        vertical-align: top;\n",
       "    }\n",
       "\n",
       "    .dataframe thead th {\n",
       "        text-align: right;\n",
       "    }\n",
       "</style>\n",
       "<table border=\"1\" class=\"dataframe\">\n",
       "  <thead>\n",
       "    <tr style=\"text-align: right;\">\n",
       "      <th></th>\n",
       "      <th>verb1</th>\n",
       "      <th>verb2</th>\n",
       "      <th>pos</th>\n",
       "      <th>sim</th>\n",
       "      <th>rel</th>\n",
       "    </tr>\n",
       "  </thead>\n",
       "  <tbody>\n",
       "    <tr>\n",
       "      <th>0</th>\n",
       "      <td>take</td>\n",
       "      <td>remove</td>\n",
       "      <td>V</td>\n",
       "      <td>6.81</td>\n",
       "      <td>SYNONYMS</td>\n",
       "    </tr>\n",
       "    <tr>\n",
       "      <th>1</th>\n",
       "      <td>walk</td>\n",
       "      <td>trail</td>\n",
       "      <td>V</td>\n",
       "      <td>4.81</td>\n",
       "      <td>COHYPONYMS</td>\n",
       "    </tr>\n",
       "    <tr>\n",
       "      <th>2</th>\n",
       "      <td>feed</td>\n",
       "      <td>starve</td>\n",
       "      <td>V</td>\n",
       "      <td>1.49</td>\n",
       "      <td>ANTONYMS</td>\n",
       "    </tr>\n",
       "    <tr>\n",
       "      <th>3</th>\n",
       "      <td>shine</td>\n",
       "      <td>polish</td>\n",
       "      <td>V</td>\n",
       "      <td>7.80</td>\n",
       "      <td>SYNONYMS</td>\n",
       "    </tr>\n",
       "    <tr>\n",
       "      <th>4</th>\n",
       "      <td>calculate</td>\n",
       "      <td>add</td>\n",
       "      <td>V</td>\n",
       "      <td>5.98</td>\n",
       "      <td>HYPER/HYPONYMS</td>\n",
       "    </tr>\n",
       "  </tbody>\n",
       "</table>\n",
       "</div>"
      ],
      "text/plain": [
       "       verb1   verb2 pos   sim             rel\n",
       "0       take  remove   V  6.81        SYNONYMS\n",
       "1       walk   trail   V  4.81      COHYPONYMS\n",
       "2       feed  starve   V  1.49        ANTONYMS\n",
       "3      shine  polish   V  7.80        SYNONYMS\n",
       "4  calculate     add   V  5.98  HYPER/HYPONYMS"
      ]
     },
     "execution_count": 6,
     "metadata": {},
     "output_type": "execute_result"
    }
   ],
   "source": [
    "simverb.head()"
   ]
  },
  {
   "cell_type": "code",
   "execution_count": 7,
   "metadata": {},
   "outputs": [
    {
     "data": {
      "text/html": [
       "<div>\n",
       "<style scoped>\n",
       "    .dataframe tbody tr th:only-of-type {\n",
       "        vertical-align: middle;\n",
       "    }\n",
       "\n",
       "    .dataframe tbody tr th {\n",
       "        vertical-align: top;\n",
       "    }\n",
       "\n",
       "    .dataframe thead th {\n",
       "        text-align: right;\n",
       "    }\n",
       "</style>\n",
       "<table border=\"1\" class=\"dataframe\">\n",
       "  <thead>\n",
       "    <tr style=\"text-align: right;\">\n",
       "      <th></th>\n",
       "      <th>count</th>\n",
       "      <th>mean</th>\n",
       "      <th>std</th>\n",
       "      <th>min</th>\n",
       "      <th>50%</th>\n",
       "      <th>max</th>\n",
       "    </tr>\n",
       "    <tr>\n",
       "      <th>rel</th>\n",
       "      <th></th>\n",
       "      <th></th>\n",
       "      <th></th>\n",
       "      <th></th>\n",
       "      <th></th>\n",
       "      <th></th>\n",
       "    </tr>\n",
       "  </thead>\n",
       "  <tbody>\n",
       "    <tr>\n",
       "      <th>NONE</th>\n",
       "      <td>2093.0</td>\n",
       "      <td>3.431276</td>\n",
       "      <td>2.342695</td>\n",
       "      <td>0.0</td>\n",
       "      <td>3.150</td>\n",
       "      <td>9.79</td>\n",
       "    </tr>\n",
       "    <tr>\n",
       "      <th>HYPER/HYPONYMS</th>\n",
       "      <td>800.0</td>\n",
       "      <td>6.012525</td>\n",
       "      <td>2.104537</td>\n",
       "      <td>0.5</td>\n",
       "      <td>6.310</td>\n",
       "      <td>9.96</td>\n",
       "    </tr>\n",
       "    <tr>\n",
       "      <th>SYNONYMS</th>\n",
       "      <td>306.0</td>\n",
       "      <td>6.789150</td>\n",
       "      <td>2.104490</td>\n",
       "      <td>0.5</td>\n",
       "      <td>7.140</td>\n",
       "      <td>9.96</td>\n",
       "    </tr>\n",
       "    <tr>\n",
       "      <th>COHYPONYMS</th>\n",
       "      <td>190.0</td>\n",
       "      <td>4.435526</td>\n",
       "      <td>2.381992</td>\n",
       "      <td>0.0</td>\n",
       "      <td>4.665</td>\n",
       "      <td>9.30</td>\n",
       "    </tr>\n",
       "    <tr>\n",
       "      <th>ANTONYMS</th>\n",
       "      <td>111.0</td>\n",
       "      <td>0.977748</td>\n",
       "      <td>1.074232</td>\n",
       "      <td>0.0</td>\n",
       "      <td>0.660</td>\n",
       "      <td>6.04</td>\n",
       "    </tr>\n",
       "  </tbody>\n",
       "</table>\n",
       "</div>"
      ],
      "text/plain": [
       "                 count      mean       std  min    50%   max\n",
       "rel                                                         \n",
       "NONE            2093.0  3.431276  2.342695  0.0  3.150  9.79\n",
       "HYPER/HYPONYMS   800.0  6.012525  2.104537  0.5  6.310  9.96\n",
       "SYNONYMS         306.0  6.789150  2.104490  0.5  7.140  9.96\n",
       "COHYPONYMS       190.0  4.435526  2.381992  0.0  4.665  9.30\n",
       "ANTONYMS         111.0  0.977748  1.074232  0.0  0.660  6.04"
      ]
     },
     "execution_count": 7,
     "metadata": {},
     "output_type": "execute_result"
    }
   ],
   "source": [
    "simverb.groupby('rel').sim.describe(percentiles=[]).sort_values('count', ascending=False)"
   ]
  },
  {
   "cell_type": "markdown",
   "metadata": {},
   "source": [
    "## Data: SimLex-999"
   ]
  },
  {
   "cell_type": "code",
   "execution_count": 8,
   "metadata": {},
   "outputs": [],
   "source": [
    "simlex = pd.read_csv('/mnt/permanent/Language/English/Data/SimLex-999/SimLex-999.txt', sep='\\t')"
   ]
  },
  {
   "cell_type": "code",
   "execution_count": 9,
   "metadata": {},
   "outputs": [
    {
     "data": {
      "text/html": [
       "<div>\n",
       "<style scoped>\n",
       "    .dataframe tbody tr th:only-of-type {\n",
       "        vertical-align: middle;\n",
       "    }\n",
       "\n",
       "    .dataframe tbody tr th {\n",
       "        vertical-align: top;\n",
       "    }\n",
       "\n",
       "    .dataframe thead th {\n",
       "        text-align: right;\n",
       "    }\n",
       "</style>\n",
       "<table border=\"1\" class=\"dataframe\">\n",
       "  <thead>\n",
       "    <tr style=\"text-align: right;\">\n",
       "      <th></th>\n",
       "      <th>word1</th>\n",
       "      <th>word2</th>\n",
       "      <th>POS</th>\n",
       "      <th>SimLex999</th>\n",
       "      <th>conc(w1)</th>\n",
       "      <th>conc(w2)</th>\n",
       "      <th>concQ</th>\n",
       "      <th>Assoc(USF)</th>\n",
       "      <th>SimAssoc333</th>\n",
       "      <th>SD(SimLex)</th>\n",
       "    </tr>\n",
       "  </thead>\n",
       "  <tbody>\n",
       "    <tr>\n",
       "      <th>0</th>\n",
       "      <td>old</td>\n",
       "      <td>new</td>\n",
       "      <td>A</td>\n",
       "      <td>1.58</td>\n",
       "      <td>2.72</td>\n",
       "      <td>2.81</td>\n",
       "      <td>2</td>\n",
       "      <td>7.25</td>\n",
       "      <td>1</td>\n",
       "      <td>0.41</td>\n",
       "    </tr>\n",
       "    <tr>\n",
       "      <th>1</th>\n",
       "      <td>smart</td>\n",
       "      <td>intelligent</td>\n",
       "      <td>A</td>\n",
       "      <td>9.20</td>\n",
       "      <td>1.75</td>\n",
       "      <td>2.46</td>\n",
       "      <td>1</td>\n",
       "      <td>7.11</td>\n",
       "      <td>1</td>\n",
       "      <td>0.67</td>\n",
       "    </tr>\n",
       "    <tr>\n",
       "      <th>2</th>\n",
       "      <td>hard</td>\n",
       "      <td>difficult</td>\n",
       "      <td>A</td>\n",
       "      <td>8.77</td>\n",
       "      <td>3.76</td>\n",
       "      <td>2.21</td>\n",
       "      <td>2</td>\n",
       "      <td>5.94</td>\n",
       "      <td>1</td>\n",
       "      <td>1.19</td>\n",
       "    </tr>\n",
       "    <tr>\n",
       "      <th>3</th>\n",
       "      <td>happy</td>\n",
       "      <td>cheerful</td>\n",
       "      <td>A</td>\n",
       "      <td>9.55</td>\n",
       "      <td>2.56</td>\n",
       "      <td>2.34</td>\n",
       "      <td>1</td>\n",
       "      <td>5.85</td>\n",
       "      <td>1</td>\n",
       "      <td>2.18</td>\n",
       "    </tr>\n",
       "    <tr>\n",
       "      <th>4</th>\n",
       "      <td>hard</td>\n",
       "      <td>easy</td>\n",
       "      <td>A</td>\n",
       "      <td>0.95</td>\n",
       "      <td>3.76</td>\n",
       "      <td>2.07</td>\n",
       "      <td>2</td>\n",
       "      <td>5.82</td>\n",
       "      <td>1</td>\n",
       "      <td>0.93</td>\n",
       "    </tr>\n",
       "  </tbody>\n",
       "</table>\n",
       "</div>"
      ],
      "text/plain": [
       "   word1        word2 POS  SimLex999  conc(w1)  conc(w2)  concQ  Assoc(USF)  \\\n",
       "0    old          new   A       1.58      2.72      2.81      2        7.25   \n",
       "1  smart  intelligent   A       9.20      1.75      2.46      1        7.11   \n",
       "2   hard    difficult   A       8.77      3.76      2.21      2        5.94   \n",
       "3  happy     cheerful   A       9.55      2.56      2.34      1        5.85   \n",
       "4   hard         easy   A       0.95      3.76      2.07      2        5.82   \n",
       "\n",
       "   SimAssoc333  SD(SimLex)  \n",
       "0            1        0.41  \n",
       "1            1        0.67  \n",
       "2            1        1.19  \n",
       "3            1        2.18  \n",
       "4            1        0.93  "
      ]
     },
     "execution_count": 9,
     "metadata": {},
     "output_type": "execute_result"
    }
   ],
   "source": [
    "simlex.head()"
   ]
  },
  {
   "cell_type": "markdown",
   "metadata": {},
   "source": [
    "* conc(w1): The concreteness rating of word1 on a scale of 1-7. Taken from the University of South Florida Free Association Norms database. \n",
    "\n",
    "* conc(w2): The concreteness rating of word2 on a scale of 1-7. Taken from the University of South Florida Free Association Norms database. \n",
    "\n",
    "* concQ: The quartile the pair occupies based on the two concreteness ratings. Used for some analyses in the above paper. \n",
    "\n",
    "* Assoc(USF): The strength of free association from word1 to word2. Values are taken from the University of South Florida Free Association Dataset. \n",
    "\n",
    "* SimAssoc333: Binary indicator of whether the pair is one of the 333 most associated in the dataset (according to Assoc(USF)). This subset of SimLex999 is often the hardest for computational models to capture because the noise from high association can confound the similarity rating. See the paper for more details. \n",
    "\n",
    "* SD(SimLex): The standard deviation of annotator scores when rating this pair. Low values indicate good agreement between the 15+ annotators on the similarity value SimLex999. Higher scores indicate less certainty. \n"
   ]
  },
  {
   "cell_type": "code",
   "execution_count": 10,
   "metadata": {},
   "outputs": [
    {
     "data": {
      "text/html": [
       "<div>\n",
       "<style scoped>\n",
       "    .dataframe tbody tr th:only-of-type {\n",
       "        vertical-align: middle;\n",
       "    }\n",
       "\n",
       "    .dataframe tbody tr th {\n",
       "        vertical-align: top;\n",
       "    }\n",
       "\n",
       "    .dataframe thead th {\n",
       "        text-align: right;\n",
       "    }\n",
       "</style>\n",
       "<table border=\"1\" class=\"dataframe\">\n",
       "  <thead>\n",
       "    <tr style=\"text-align: right;\">\n",
       "      <th></th>\n",
       "      <th>SimLex999</th>\n",
       "      <th>conc(w1)</th>\n",
       "      <th>conc(w2)</th>\n",
       "      <th>concQ</th>\n",
       "      <th>Assoc(USF)</th>\n",
       "      <th>SimAssoc333</th>\n",
       "      <th>SD(SimLex)</th>\n",
       "    </tr>\n",
       "  </thead>\n",
       "  <tbody>\n",
       "    <tr>\n",
       "      <th>count</th>\n",
       "      <td>999.000000</td>\n",
       "      <td>999.000000</td>\n",
       "      <td>999.000000</td>\n",
       "      <td>999.000000</td>\n",
       "      <td>999.000000</td>\n",
       "      <td>999.000000</td>\n",
       "      <td>999.000000</td>\n",
       "    </tr>\n",
       "    <tr>\n",
       "      <th>mean</th>\n",
       "      <td>4.561572</td>\n",
       "      <td>3.657087</td>\n",
       "      <td>3.568629</td>\n",
       "      <td>2.501502</td>\n",
       "      <td>0.751512</td>\n",
       "      <td>0.333333</td>\n",
       "      <td>1.274505</td>\n",
       "    </tr>\n",
       "    <tr>\n",
       "      <th>std</th>\n",
       "      <td>2.614663</td>\n",
       "      <td>1.131050</td>\n",
       "      <td>1.159572</td>\n",
       "      <td>1.118145</td>\n",
       "      <td>1.344569</td>\n",
       "      <td>0.471641</td>\n",
       "      <td>0.366278</td>\n",
       "    </tr>\n",
       "    <tr>\n",
       "      <th>min</th>\n",
       "      <td>0.230000</td>\n",
       "      <td>1.190000</td>\n",
       "      <td>1.190000</td>\n",
       "      <td>1.000000</td>\n",
       "      <td>0.000000</td>\n",
       "      <td>0.000000</td>\n",
       "      <td>0.340000</td>\n",
       "    </tr>\n",
       "    <tr>\n",
       "      <th>50%</th>\n",
       "      <td>4.670000</td>\n",
       "      <td>3.830000</td>\n",
       "      <td>3.660000</td>\n",
       "      <td>3.000000</td>\n",
       "      <td>0.250000</td>\n",
       "      <td>0.000000</td>\n",
       "      <td>1.310000</td>\n",
       "    </tr>\n",
       "    <tr>\n",
       "      <th>max</th>\n",
       "      <td>9.800000</td>\n",
       "      <td>5.000000</td>\n",
       "      <td>5.000000</td>\n",
       "      <td>4.000000</td>\n",
       "      <td>8.850000</td>\n",
       "      <td>1.000000</td>\n",
       "      <td>2.180000</td>\n",
       "    </tr>\n",
       "  </tbody>\n",
       "</table>\n",
       "</div>"
      ],
      "text/plain": [
       "        SimLex999    conc(w1)    conc(w2)       concQ  Assoc(USF)  \\\n",
       "count  999.000000  999.000000  999.000000  999.000000  999.000000   \n",
       "mean     4.561572    3.657087    3.568629    2.501502    0.751512   \n",
       "std      2.614663    1.131050    1.159572    1.118145    1.344569   \n",
       "min      0.230000    1.190000    1.190000    1.000000    0.000000   \n",
       "50%      4.670000    3.830000    3.660000    3.000000    0.250000   \n",
       "max      9.800000    5.000000    5.000000    4.000000    8.850000   \n",
       "\n",
       "       SimAssoc333  SD(SimLex)  \n",
       "count   999.000000  999.000000  \n",
       "mean      0.333333    1.274505  \n",
       "std       0.471641    0.366278  \n",
       "min       0.000000    0.340000  \n",
       "50%       0.000000    1.310000  \n",
       "max       1.000000    2.180000  "
      ]
     },
     "execution_count": 10,
     "metadata": {},
     "output_type": "execute_result"
    }
   ],
   "source": [
    "simlex.describe(percentiles=[])"
   ]
  },
  {
   "cell_type": "code",
   "execution_count": 11,
   "metadata": {},
   "outputs": [
    {
     "data": {
      "text/plain": [
       "POS\n",
       "A    111\n",
       "N    666\n",
       "V    222\n",
       "dtype: int64"
      ]
     },
     "execution_count": 11,
     "metadata": {},
     "output_type": "execute_result"
    }
   ],
   "source": [
    "simlex.groupby('POS').size()"
   ]
  },
  {
   "cell_type": "markdown",
   "metadata": {},
   "source": [
    "## Testing the verb tensor"
   ]
  },
  {
   "cell_type": "code",
   "execution_count": 12,
   "metadata": {},
   "outputs": [],
   "source": [
    "def test_sim(cutoff=5, max_rank=64, verb=True, normalize=True, lmbda=False):\n",
    "    for weight in ['log_freq', 'pmi', 'iact_info', 'salience', 'iact_sali', 'log_dice', 'dice_sali']:\n",
    "        stensor, index = pickle.load(open(\n",
    "            os.path.join(tensor_dir, 'sparstensr_{}_{}.pkl').format(weight, cutoff),\n",
    "            mode='rb'))\n",
    "        logging.info('{} {}'.format(weight, stensor.shape))\n",
    "        target_df = simverb if verb else simlex\n",
    "        target_cols = ['verb1', 'verb2'] if verb else ['word1', 'word2']\n",
    "        relation = 'ROOT' if verb else 'nsubj'\n",
    "        mode = 1 if verb else 0\n",
    "        def tensor_based_sim(rank):\n",
    "            oov = defaultdict(int)\n",
    "            ktensor, fit, n_iterations, exectimes = pickle.load(open(\n",
    "                os.path.join(tensor_dir, 'ktensor_{}_{}_{}.pkl').format(weight, cutoff, rank), mode='rb'))\n",
    "            #modes = ['nsubj', 'ROOT', 'dobj']\n",
    "            if lmbda:\n",
    "                sq_lam = np.sqrt(np.apply_along_axis(np.linalg.norm, 0, ktensor.lmbda))\n",
    "                ktensor.U[mode] *= sq_lam\n",
    "            if normalize:\n",
    "                ktensor.U[mode] /= np.apply_along_axis(np.linalg.norm, 1, ktensor.U[mode]).reshape((-1,1))\n",
    "            def pointwise_prod_more(ser):\n",
    "                try:\n",
    "                    return ktensor.U[mode][index[relation][ser[0]]] .dot( ktensor.U[mode][index[relation][ser[1]]])\n",
    "                except KeyError as e:\n",
    "                    oov[e.args] += 1\n",
    "                    # TODO 0?\n",
    "                    return 0\n",
    "            col_name = 'tensor_sim_{}_{}'.format(weight, rank)\n",
    "            target_df[col_name] = target_df[target_cols].apply(pointwise_prod_more, axis=1)\n",
    "            if rank == max_rank:\n",
    "                logging.debug(sorted(oov.items(), key=operator.itemgetter(1), reverse=True)[:5])\n",
    "        for exp in range(int(np.log2(max_rank))+1):\n",
    "            rank = 2**exp\n",
    "            try:\n",
    "                tensor_based_sim(rank=rank)\n",
    "            except FileNotFoundError as e:\n",
    "                logging.warning(e)\n",
    "                target_df['tensor_sim_{}_{}'.format(weight, rank)] = 0\n",
    "        sim_col = 'sim' if verb else 'SimLex999'\n",
    "    sim_df = target_df.corr(method='spearman').loc[sim_col][0 if verb else 7 :]\n",
    "    print(sim_df.sort_values(ascending=False).head())\n",
    "    return sim_df"
   ]
  },
  {
   "cell_type": "code",
   "execution_count": 13,
   "metadata": {},
   "outputs": [
    {
     "name": "stderr",
     "output_type": "stream",
     "text": [
      "INFO     [6] log_freq (83681, 16706, 77883)\n",
      "/home/makrai/tool/python/miniconda3/lib/python3.7/site-packages/ipykernel_launcher.py:20: RuntimeWarning: divide by zero encountered in true_divide\n",
      "/home/makrai/tool/python/miniconda3/lib/python3.7/site-packages/ipykernel_launcher.py:20: RuntimeWarning: invalid value encountered in true_divide\n",
      "INFO     [6] pmi (83681, 16706, 77883)\n",
      "INFO     [6] iact_info (83681, 16706, 77883)\n",
      "INFO     [6] salience (83681, 16706, 77883)\n",
      "INFO     [6] iact_sali (83681, 16706, 77883)\n",
      "INFO     [6] log_dice (83681, 16706, 77883)\n",
      "INFO     [6] dice_sali (83681, 16706, 77883)\n",
      "WARNING  [36] [Errno 2] No such file or directory: '/mnt/permanent/home/makrai/project/verb-tensor/verb/tensor/0/ktensor_dice_sali_5_64.pkl'\n"
     ]
    },
    {
     "name": "stdout",
     "output_type": "stream",
     "text": [
      "sim                        1.000000\n",
      "tensor_sim_dice_sali_32    0.181016\n",
      "tensor_sim_pmi_64          0.147285\n",
      "tensor_sim_dice_sali_16    0.128505\n",
      "tensor_sim_log_freq_64     0.128120\n",
      "Name: sim, dtype: float64\n"
     ]
    }
   ],
   "source": [
    "sim_df = test_sim()"
   ]
  },
  {
   "cell_type": "code",
   "execution_count": 14,
   "metadata": {},
   "outputs": [],
   "source": [
    "sim_df = sim_df.drop('sim')"
   ]
  },
  {
   "cell_type": "code",
   "execution_count": 15,
   "metadata": {},
   "outputs": [],
   "source": [
    "sim_df = sim_df.to_frame().reset_index()"
   ]
  },
  {
   "cell_type": "code",
   "execution_count": 16,
   "metadata": {},
   "outputs": [],
   "source": [
    "sim_df [['weight', 'rank_']] = pd.DataFrame(sim_df['index'].str.rsplit('_', 1).values.tolist())"
   ]
  },
  {
   "cell_type": "code",
   "execution_count": 17,
   "metadata": {},
   "outputs": [],
   "source": [
    "sim_df.rank_ = sim_df.rank_.astype(int)"
   ]
  },
  {
   "cell_type": "code",
   "execution_count": 18,
   "metadata": {},
   "outputs": [],
   "source": [
    "sim_df['weight'] = pd.DataFrame(sim_df['weight'].str.split('_', 2).values.tolist())[2]"
   ]
  },
  {
   "cell_type": "code",
   "execution_count": 19,
   "metadata": {},
   "outputs": [],
   "source": [
    "sim_df = sim_df.drop(columns='index')"
   ]
  },
  {
   "cell_type": "code",
   "execution_count": 20,
   "metadata": {},
   "outputs": [],
   "source": [
    "sim_df = sim_df.drop(labels=[0])"
   ]
  },
  {
   "cell_type": "code",
   "execution_count": 21,
   "metadata": {},
   "outputs": [],
   "source": [
    "sim_df =sim_df[sim_df.isna().sum(axis=1)==0]"
   ]
  },
  {
   "cell_type": "code",
   "execution_count": 22,
   "metadata": {},
   "outputs": [
    {
     "data": {
      "text/html": [
       "<div>\n",
       "<style scoped>\n",
       "    .dataframe tbody tr th:only-of-type {\n",
       "        vertical-align: middle;\n",
       "    }\n",
       "\n",
       "    .dataframe tbody tr th {\n",
       "        vertical-align: top;\n",
       "    }\n",
       "\n",
       "    .dataframe thead th {\n",
       "        text-align: right;\n",
       "    }\n",
       "</style>\n",
       "<table border=\"1\" class=\"dataframe\">\n",
       "  <thead>\n",
       "    <tr style=\"text-align: right;\">\n",
       "      <th></th>\n",
       "      <th>sim</th>\n",
       "      <th>weight</th>\n",
       "      <th>rank_</th>\n",
       "    </tr>\n",
       "  </thead>\n",
       "  <tbody>\n",
       "    <tr>\n",
       "      <th>47</th>\n",
       "      <td>0.181016</td>\n",
       "      <td>dice_sali</td>\n",
       "      <td>32</td>\n",
       "    </tr>\n",
       "    <tr>\n",
       "      <th>13</th>\n",
       "      <td>0.147285</td>\n",
       "      <td>pmi</td>\n",
       "      <td>64</td>\n",
       "    </tr>\n",
       "    <tr>\n",
       "      <th>46</th>\n",
       "      <td>0.128505</td>\n",
       "      <td>dice_sali</td>\n",
       "      <td>16</td>\n",
       "    </tr>\n",
       "    <tr>\n",
       "      <th>6</th>\n",
       "      <td>0.128120</td>\n",
       "      <td>log_freq</td>\n",
       "      <td>64</td>\n",
       "    </tr>\n",
       "    <tr>\n",
       "      <th>24</th>\n",
       "      <td>0.118528</td>\n",
       "      <td>salience</td>\n",
       "      <td>8</td>\n",
       "    </tr>\n",
       "  </tbody>\n",
       "</table>\n",
       "</div>"
      ],
      "text/plain": [
       "         sim     weight  rank_\n",
       "47  0.181016  dice_sali     32\n",
       "13  0.147285        pmi     64\n",
       "46  0.128505  dice_sali     16\n",
       "6   0.128120   log_freq     64\n",
       "24  0.118528   salience      8"
      ]
     },
     "execution_count": 22,
     "metadata": {},
     "output_type": "execute_result"
    }
   ],
   "source": [
    "sim_df.sort_values('sim', ascending=False).head()"
   ]
  },
  {
   "cell_type": "code",
   "execution_count": 25,
   "metadata": {},
   "outputs": [
    {
     "data": {
      "image/png": "[encoded data removed]",
      "text/plain": [
       "<Figure size 1440x720 with 1 Axes>"
      ]
     },
     "metadata": {
      "needs_background": "light"
     },
     "output_type": "display_data"
    }
   ],
   "source": [
    "weights = sim_df[sim_df.rank_==32].sort_values('sim', ascending=False).weight\n",
    "for weight in weights:\n",
    "    df = sim_df[sim_df.weight==weight].sort_values('rank_')\n",
    "    plt.plot(df.rank_, df.sim)#, c=color)\n",
    "plt.xscale('log')\n",
    "_ = plt.legend(weights)"
   ]
  },
  {
   "cell_type": "markdown",
   "metadata": {},
   "source": [
    "# Transitive constructions (_al et_ Sadrzadeh)\n",
    "\n",
    "## Datasets\n",
    "\n",
    "Irrespective of the original task, we use the datasets as verb prediction\n",
    "\n",
    "### Transitive verb disambiguation\n",
    "\n",
    "The first dataset [GS’11](http://www.cs.ox.ac.uk/activities/compdistmeaning/GS2011data.txt) is provided by Grefenstette and Sadrzadeh (EMNLP 2011)\n",
    "  * each verb pair takes the same subject and object\n",
    "  * the task has an aspect of a verb sense disambiguation \n",
    "  * As discussed in previous work\n",
    "    (Kartsaklis and Sadrzadeh, 2013; Milajevs+ 2014; Polajnar+ 2014), GS’11\n",
    "  * For example, the transitive verb “run” is known as polysemous: operate/move\n",
    "    * “run” and “operate” are similar when subj = “people” and obj = “company”\n",
    "    * In the same [context, not similar to] “move”\n",
    "\n",
    "### Transitive verb phrase similarity\n",
    "\n",
    "The other datasets are\n",
    "  * ML’10 provided by Mitchell and Lapata (2010),\n",
    "    * pairs of verb-object phrases and\n",
    "  * KS’13 provided by Kartsaklis and Sadrzadeh (2013)\n",
    "    * complements ML’10 by incorporating an appropriate subject for each VO\n",
    "  * KS’14 provided by [Kartsaklis and Sadrzadeh (2014)](https://arxiv.org/abs/1405.2874)\n",
    "    * reannotated version of KS’13 using a cloud sourcing service\n",
    "* require one to capture the topical similarity\n",
    "  rather than the disambiguation aspect (Polajnar+ 2014)\n",
    "\n",
    "\n"
   ]
  },
  {
   "cell_type": "code",
   "execution_count": 26,
   "metadata": {},
   "outputs": [],
   "source": [
    "verb_sim_data_dir = '/mnt/permanent/Language/English/Data/verb-similarity/Sadrzadeh/'"
   ]
  },
  {
   "cell_type": "code",
   "execution_count": 27,
   "metadata": {},
   "outputs": [],
   "source": [
    "def read_sim_data(filen):\n",
    "    return pd.read_csv(os.path.join(verb_sim_data_dir, filen), sep=' ')"
   ]
  },
  {
   "cell_type": "code",
   "execution_count": 30,
   "metadata": {},
   "outputs": [
    {
     "data": {
      "text/html": [
       "<div>\n",
       "<style scoped>\n",
       "    .dataframe tbody tr th:only-of-type {\n",
       "        vertical-align: middle;\n",
       "    }\n",
       "\n",
       "    .dataframe tbody tr th {\n",
       "        vertical-align: top;\n",
       "    }\n",
       "\n",
       "    .dataframe thead th {\n",
       "        text-align: right;\n",
       "    }\n",
       "</style>\n",
       "<table border=\"1\" class=\"dataframe\">\n",
       "  <thead>\n",
       "    <tr style=\"text-align: right;\">\n",
       "      <th></th>\n",
       "      <th></th>\n",
       "      <th></th>\n",
       "      <th></th>\n",
       "      <th></th>\n",
       "      <th>input</th>\n",
       "    </tr>\n",
       "    <tr>\n",
       "      <th>verb</th>\n",
       "      <th>subject</th>\n",
       "      <th>object</th>\n",
       "      <th>landmark</th>\n",
       "      <th>hilo</th>\n",
       "      <th></th>\n",
       "    </tr>\n",
       "  </thead>\n",
       "  <tbody>\n",
       "    <tr>\n",
       "      <th rowspan=\"5\" valign=\"top\">accept</th>\n",
       "      <th rowspan=\"4\" valign=\"top\">government</th>\n",
       "      <th rowspan=\"2\" valign=\"top\">proposal</th>\n",
       "      <th>bear</th>\n",
       "      <th>LOW</th>\n",
       "      <td>2.666667</td>\n",
       "    </tr>\n",
       "    <tr>\n",
       "      <th>receive</th>\n",
       "      <th>HIGH</th>\n",
       "      <td>2.583333</td>\n",
       "    </tr>\n",
       "    <tr>\n",
       "      <th rowspan=\"2\" valign=\"top\">recommendation</th>\n",
       "      <th>bear</th>\n",
       "      <th>LOW</th>\n",
       "      <td>3.500000</td>\n",
       "    </tr>\n",
       "    <tr>\n",
       "      <th>receive</th>\n",
       "      <th>HIGH</th>\n",
       "      <td>3.333333</td>\n",
       "    </tr>\n",
       "    <tr>\n",
       "      <th>lawyer</th>\n",
       "      <th>conviction</th>\n",
       "      <th>bear</th>\n",
       "      <th>LOW</th>\n",
       "      <td>3.333333</td>\n",
       "    </tr>\n",
       "  </tbody>\n",
       "</table>\n",
       "</div>"
      ],
      "text/plain": [
       "                                                   input\n",
       "verb   subject    object         landmark hilo          \n",
       "accept government proposal       bear     LOW   2.666667\n",
       "                                 receive  HIGH  2.583333\n",
       "                  recommendation bear     LOW   3.500000\n",
       "                                 receive  HIGH  3.333333\n",
       "       lawyer     conviction     bear     LOW   3.333333"
      ]
     },
     "execution_count": 30,
     "metadata": {},
     "output_type": "execute_result"
    }
   ],
   "source": [
    "gs11 = read_sim_data('GS2011data.txt').groupby(['verb', 'subject', 'object', 'landmark', 'hilo']).mean()\n",
    "print(gs11.shape)\n",
    "gs11.head()"
   ]
  },
  {
   "cell_type": "code",
   "execution_count": 32,
   "metadata": {},
   "outputs": [
    {
     "data": {
      "text/html": [
       "<div>\n",
       "<style scoped>\n",
       "    .dataframe tbody tr th:only-of-type {\n",
       "        vertical-align: middle;\n",
       "    }\n",
       "\n",
       "    .dataframe tbody tr th {\n",
       "        vertical-align: top;\n",
       "    }\n",
       "\n",
       "    .dataframe thead th {\n",
       "        text-align: right;\n",
       "    }\n",
       "</style>\n",
       "<table border=\"1\" class=\"dataframe\">\n",
       "  <thead>\n",
       "    <tr style=\"text-align: right;\">\n",
       "      <th></th>\n",
       "      <th></th>\n",
       "      <th></th>\n",
       "      <th></th>\n",
       "      <th></th>\n",
       "      <th></th>\n",
       "      <th></th>\n",
       "      <th>annotator_score</th>\n",
       "    </tr>\n",
       "    <tr>\n",
       "      <th>sentence_id</th>\n",
       "      <th>adj_subj</th>\n",
       "      <th>subj</th>\n",
       "      <th>landmark</th>\n",
       "      <th>verb</th>\n",
       "      <th>adj_obj</th>\n",
       "      <th>obj</th>\n",
       "      <th></th>\n",
       "    </tr>\n",
       "  </thead>\n",
       "  <tbody>\n",
       "    <tr>\n",
       "      <th>1</th>\n",
       "      <th>statistical</th>\n",
       "      <th>table</th>\n",
       "      <th>show</th>\n",
       "      <th>express</th>\n",
       "      <th>good</th>\n",
       "      <th>result</th>\n",
       "      <td>6.06</td>\n",
       "    </tr>\n",
       "    <tr>\n",
       "      <th>2</th>\n",
       "      <th>statistical</th>\n",
       "      <th>table</th>\n",
       "      <th>show</th>\n",
       "      <th>depict</th>\n",
       "      <th>good</th>\n",
       "      <th>result</th>\n",
       "      <td>5.90</td>\n",
       "    </tr>\n",
       "    <tr>\n",
       "      <th>3</th>\n",
       "      <th>recent</th>\n",
       "      <th>study</th>\n",
       "      <th>show</th>\n",
       "      <th>express</th>\n",
       "      <th>significant</th>\n",
       "      <th>correlation</th>\n",
       "      <td>5.72</td>\n",
       "    </tr>\n",
       "    <tr>\n",
       "      <th>4</th>\n",
       "      <th>recent</th>\n",
       "      <th>study</th>\n",
       "      <th>show</th>\n",
       "      <th>depict</th>\n",
       "      <th>significant</th>\n",
       "      <th>correlation</th>\n",
       "      <td>5.92</td>\n",
       "    </tr>\n",
       "    <tr>\n",
       "      <th>5</th>\n",
       "      <th>annual</th>\n",
       "      <th>figure</th>\n",
       "      <th>show</th>\n",
       "      <th>express</th>\n",
       "      <th>substantial</th>\n",
       "      <th>increase</th>\n",
       "      <td>5.74</td>\n",
       "    </tr>\n",
       "  </tbody>\n",
       "</table>\n",
       "</div>"
      ],
      "text/plain": [
       "                                                                         annotator_score\n",
       "sentence_id adj_subj    subj   landmark verb    adj_obj     obj                         \n",
       "1           statistical table  show     express good        result                  6.06\n",
       "2           statistical table  show     depict  good        result                  5.90\n",
       "3           recent      study  show     express significant correlation             5.72\n",
       "4           recent      study  show     depict  significant correlation             5.92\n",
       "5           annual      figure show     express substantial increase                5.74"
      ]
     },
     "execution_count": 32,
     "metadata": {},
     "output_type": "execute_result"
    }
   ],
   "source": [
    "cols = ['sentence_id', 'adj_subj', 'subj', 'landmark', 'verb', 'adj_obj', 'obj']\n",
    "gs12 = read_sim_data('GS2012data.txt').groupby(cols).mean().drop(columns=['annotator_id'])\n",
    "gs12.head()"
   ]
  },
  {
   "cell_type": "code",
   "execution_count": 33,
   "metadata": {},
   "outputs": [
    {
     "data": {
      "text/html": [
       "<div>\n",
       "<style scoped>\n",
       "    .dataframe tbody tr th:only-of-type {\n",
       "        vertical-align: middle;\n",
       "    }\n",
       "\n",
       "    .dataframe tbody tr th {\n",
       "        vertical-align: top;\n",
       "    }\n",
       "\n",
       "    .dataframe thead th {\n",
       "        text-align: right;\n",
       "    }\n",
       "</style>\n",
       "<table border=\"1\" class=\"dataframe\">\n",
       "  <thead>\n",
       "    <tr style=\"text-align: right;\">\n",
       "      <th></th>\n",
       "      <th></th>\n",
       "      <th></th>\n",
       "      <th></th>\n",
       "      <th></th>\n",
       "      <th></th>\n",
       "      <th></th>\n",
       "      <th>annotator_score</th>\n",
       "    </tr>\n",
       "    <tr>\n",
       "      <th>sentence_id</th>\n",
       "      <th>adj_subj</th>\n",
       "      <th>subj</th>\n",
       "      <th>landmark</th>\n",
       "      <th>verb</th>\n",
       "      <th>adj_obj</th>\n",
       "      <th>obj</th>\n",
       "      <th></th>\n",
       "    </tr>\n",
       "  </thead>\n",
       "  <tbody>\n",
       "    <tr>\n",
       "      <th>1</th>\n",
       "      <th>private</th>\n",
       "      <th>company</th>\n",
       "      <th>file</th>\n",
       "      <th>register</th>\n",
       "      <th>annual</th>\n",
       "      <th>account</th>\n",
       "      <td>5.441860</td>\n",
       "    </tr>\n",
       "    <tr>\n",
       "      <th>2</th>\n",
       "      <th>private</th>\n",
       "      <th>company</th>\n",
       "      <th>file</th>\n",
       "      <th>smooth</th>\n",
       "      <th>annual</th>\n",
       "      <th>account</th>\n",
       "      <td>2.302326</td>\n",
       "    </tr>\n",
       "    <tr>\n",
       "      <th>3</th>\n",
       "      <th>young</th>\n",
       "      <th>woman</th>\n",
       "      <th>file</th>\n",
       "      <th>register</th>\n",
       "      <th>long</th>\n",
       "      <th>nail</th>\n",
       "      <td>2.069767</td>\n",
       "    </tr>\n",
       "    <tr>\n",
       "      <th>4</th>\n",
       "      <th>young</th>\n",
       "      <th>woman</th>\n",
       "      <th>file</th>\n",
       "      <th>smooth</th>\n",
       "      <th>long</th>\n",
       "      <th>nail</th>\n",
       "      <td>5.023256</td>\n",
       "    </tr>\n",
       "    <tr>\n",
       "      <th>5</th>\n",
       "      <th>local</th>\n",
       "      <th>government</th>\n",
       "      <th>file</th>\n",
       "      <th>register</th>\n",
       "      <th>criminal</th>\n",
       "      <th>charge</th>\n",
       "      <td>5.441860</td>\n",
       "    </tr>\n",
       "  </tbody>\n",
       "</table>\n",
       "</div>"
      ],
      "text/plain": [
       "                                                                    annotator_score\n",
       "sentence_id adj_subj subj       landmark verb     adj_obj  obj                     \n",
       "1           private  company    file     register annual   account         5.441860\n",
       "2           private  company    file     smooth   annual   account         2.302326\n",
       "3           young    woman      file     register long     nail            2.069767\n",
       "4           young    woman      file     smooth   long     nail            5.023256\n",
       "5           local    government file     register criminal charge          5.441860"
      ]
     },
     "execution_count": 33,
     "metadata": {},
     "output_type": "execute_result"
    }
   ],
   "source": [
    "cols = ['sentence_id', 'adj_subj', 'subj', 'landmark', 'verb', 'adj_obj', 'obj']\n",
    "gsk13 = read_sim_data('pickering-judgements.txt').groupby(cols).mean().drop(columns=['annotator_id'])\n",
    "gsk13.head()"
   ]
  },
  {
   "cell_type": "code",
   "execution_count": 34,
   "metadata": {},
   "outputs": [
    {
     "data": {
      "text/html": [
       "<div>\n",
       "<style scoped>\n",
       "    .dataframe tbody tr th:only-of-type {\n",
       "        vertical-align: middle;\n",
       "    }\n",
       "\n",
       "    .dataframe tbody tr th {\n",
       "        vertical-align: top;\n",
       "    }\n",
       "\n",
       "    .dataframe thead th {\n",
       "        text-align: right;\n",
       "    }\n",
       "</style>\n",
       "<table border=\"1\" class=\"dataframe\">\n",
       "  <thead>\n",
       "    <tr style=\"text-align: right;\">\n",
       "      <th></th>\n",
       "      <th></th>\n",
       "      <th></th>\n",
       "      <th></th>\n",
       "      <th></th>\n",
       "      <th></th>\n",
       "      <th>score</th>\n",
       "    </tr>\n",
       "    <tr>\n",
       "      <th>subject1</th>\n",
       "      <th>verb1</th>\n",
       "      <th>object1</th>\n",
       "      <th>subject2</th>\n",
       "      <th>verb2</th>\n",
       "      <th>object2</th>\n",
       "      <th></th>\n",
       "    </tr>\n",
       "  </thead>\n",
       "  <tbody>\n",
       "    <tr>\n",
       "      <th rowspan=\"2\" valign=\"top\">agent</th>\n",
       "      <th rowspan=\"2\" valign=\"top\">sell</th>\n",
       "      <th rowspan=\"2\" valign=\"top\">property</th>\n",
       "      <th>family</th>\n",
       "      <th>buy</th>\n",
       "      <th>home</th>\n",
       "      <td>2.777778</td>\n",
       "    </tr>\n",
       "    <tr>\n",
       "      <th>group</th>\n",
       "      <th>hold</th>\n",
       "      <th>meeting</th>\n",
       "      <td>1.666667</td>\n",
       "    </tr>\n",
       "    <tr>\n",
       "      <th rowspan=\"3\" valign=\"top\">author</th>\n",
       "      <th rowspan=\"3\" valign=\"top\">write</th>\n",
       "      <th rowspan=\"3\" valign=\"top\">book</th>\n",
       "      <th>delegate</th>\n",
       "      <th>buy</th>\n",
       "      <th>land</th>\n",
       "      <td>1.500000</td>\n",
       "    </tr>\n",
       "    <tr>\n",
       "      <th>man</th>\n",
       "      <th>hear</th>\n",
       "      <th>word</th>\n",
       "      <td>2.055556</td>\n",
       "    </tr>\n",
       "    <tr>\n",
       "      <th>writer</th>\n",
       "      <th>read</th>\n",
       "      <th>word</th>\n",
       "      <td>2.777778</td>\n",
       "    </tr>\n",
       "  </tbody>\n",
       "</table>\n",
       "</div>"
      ],
      "text/plain": [
       "                                                   score\n",
       "subject1 verb1 object1  subject2 verb2 object2          \n",
       "agent    sell  property family   buy   home     2.777778\n",
       "                        group    hold  meeting  1.666667\n",
       "author   write book     delegate buy   land     1.500000\n",
       "                        man      hear  word     2.055556\n",
       "                        writer   read  word     2.777778"
      ]
     },
     "execution_count": 34,
     "metadata": {},
     "output_type": "execute_result"
    }
   ],
   "source": [
    "cols = ['subject1', 'verb1', 'object1', 'subject2', 'verb2', 'object2']\n",
    "ks13_mitchell = read_sim_data('emnlp2013_ml.txt').groupby(cols).mean()\n",
    "print(ks13_mitchell.shape)\n",
    "ks13_mitchell.head()"
   ]
  },
  {
   "cell_type": "code",
   "execution_count": 36,
   "metadata": {},
   "outputs": [
    {
     "data": {
      "text/html": [
       "<div>\n",
       "<style scoped>\n",
       "    .dataframe tbody tr th:only-of-type {\n",
       "        vertical-align: middle;\n",
       "    }\n",
       "\n",
       "    .dataframe tbody tr th {\n",
       "        vertical-align: top;\n",
       "    }\n",
       "\n",
       "    .dataframe thead th {\n",
       "        text-align: right;\n",
       "    }\n",
       "</style>\n",
       "<table border=\"1\" class=\"dataframe\">\n",
       "  <thead>\n",
       "    <tr style=\"text-align: right;\">\n",
       "      <th></th>\n",
       "      <th></th>\n",
       "      <th></th>\n",
       "      <th></th>\n",
       "      <th></th>\n",
       "      <th></th>\n",
       "      <th>score</th>\n",
       "    </tr>\n",
       "    <tr>\n",
       "      <th>subject1</th>\n",
       "      <th>verb1</th>\n",
       "      <th>object1</th>\n",
       "      <th>subject2</th>\n",
       "      <th>verb2</th>\n",
       "      <th>object2</th>\n",
       "      <th></th>\n",
       "    </tr>\n",
       "  </thead>\n",
       "  <tbody>\n",
       "    <tr>\n",
       "      <th rowspan=\"2\" valign=\"top\">agent</th>\n",
       "      <th rowspan=\"2\" valign=\"top\">sell</th>\n",
       "      <th rowspan=\"2\" valign=\"top\">property</th>\n",
       "      <th>family</th>\n",
       "      <th>buy</th>\n",
       "      <th>home</th>\n",
       "      <td>3.125000</td>\n",
       "    </tr>\n",
       "    <tr>\n",
       "      <th>group</th>\n",
       "      <th>hold</th>\n",
       "      <th>meeting</th>\n",
       "      <td>1.166667</td>\n",
       "    </tr>\n",
       "    <tr>\n",
       "      <th rowspan=\"3\" valign=\"top\">author</th>\n",
       "      <th rowspan=\"3\" valign=\"top\">write</th>\n",
       "      <th rowspan=\"3\" valign=\"top\">book</th>\n",
       "      <th>delegate</th>\n",
       "      <th>buy</th>\n",
       "      <th>land</th>\n",
       "      <td>1.130435</td>\n",
       "    </tr>\n",
       "    <tr>\n",
       "      <th>man</th>\n",
       "      <th>hear</th>\n",
       "      <th>word</th>\n",
       "      <td>1.640000</td>\n",
       "    </tr>\n",
       "    <tr>\n",
       "      <th>writer</th>\n",
       "      <th>read</th>\n",
       "      <th>word</th>\n",
       "      <td>3.166667</td>\n",
       "    </tr>\n",
       "  </tbody>\n",
       "</table>\n",
       "</div>"
      ],
      "text/plain": [
       "                                                   score\n",
       "subject1 verb1 object1  subject2 verb2 object2          \n",
       "agent    sell  property family   buy   home     3.125000\n",
       "                        group    hold  meeting  1.166667\n",
       "author   write book     delegate buy   land     1.130435\n",
       "                        man      hear  word     1.640000\n",
       "                        writer   read  word     3.166667"
      ]
     },
     "execution_count": 36,
     "metadata": {},
     "output_type": "execute_result"
    }
   ],
   "source": [
    "cols = ['subject1', 'verb1', 'object1', 'subject2', 'verb2', 'object2']\n",
    "ks13_turk = read_sim_data('emnlp2013_turk.txt').groupby(cols).mean().drop(columns=['annotator'])\n",
    "ks13_turk.head()"
   ]
  },
  {
   "cell_type": "code",
   "execution_count": 37,
   "metadata": {},
   "outputs": [],
   "source": [
    "get_cols = lambda i: ['subject{}'.format(i), 'verb{}'.format(i), 'object{}'.format(i)]\n",
    "def get_one_sent_from_pair(i):\n",
    "    df = ks13_mitchell.reset_index()[get_cols(i)]\n",
    "    df.columns = get_cols('')\n",
    "    return df\n",
    "ks13_long = pd.concat(get_one_sent_from_pair(i) for i in [1, 2])\n",
    "ks13_long = ks13_long.drop_duplicates()"
   ]
  },
  {
   "cell_type": "markdown",
   "metadata": {},
   "source": [
    "## The dataset"
   ]
  },
  {
   "cell_type": "code",
   "execution_count": 38,
   "metadata": {},
   "outputs": [],
   "source": [
    "svo_sim = gs11.reset_index()"
   ]
  },
  {
   "cell_type": "code",
   "execution_count": 39,
   "metadata": {},
   "outputs": [
    {
     "name": "stderr",
     "output_type": "stream",
     "text": [
      "/home/makrai/tool/python/miniconda3/lib/python3.7/site-packages/pandas/core/ops.py:1649: FutureWarning: elementwise comparison failed; returning scalar instead, but in the future will perform elementwise comparison\n",
      "  result = method(y)\n"
     ]
    }
   ],
   "source": [
    "svo_sim.hilo = (svo_sim=='HIGH').astype(int)"
   ]
  },
  {
   "cell_type": "code",
   "execution_count": 40,
   "metadata": {},
   "outputs": [],
   "source": [
    "cols_ordered = [\"subject\", \"verb\", \"landmark\", \"object\", \"input\", \"hilo\"]"
   ]
  },
  {
   "cell_type": "code",
   "execution_count": 41,
   "metadata": {},
   "outputs": [
    {
     "data": {
      "text/html": [
       "<div>\n",
       "<style scoped>\n",
       "    .dataframe tbody tr th:only-of-type {\n",
       "        vertical-align: middle;\n",
       "    }\n",
       "\n",
       "    .dataframe tbody tr th {\n",
       "        vertical-align: top;\n",
       "    }\n",
       "\n",
       "    .dataframe thead th {\n",
       "        text-align: right;\n",
       "    }\n",
       "</style>\n",
       "<table border=\"1\" class=\"dataframe\">\n",
       "  <thead>\n",
       "    <tr style=\"text-align: right;\">\n",
       "      <th></th>\n",
       "      <th>subject</th>\n",
       "      <th>verb</th>\n",
       "      <th>landmark</th>\n",
       "      <th>object</th>\n",
       "      <th>input</th>\n",
       "      <th>hilo</th>\n",
       "    </tr>\n",
       "  </thead>\n",
       "  <tbody>\n",
       "    <tr>\n",
       "      <th>0</th>\n",
       "      <td>government</td>\n",
       "      <td>accept</td>\n",
       "      <td>bear</td>\n",
       "      <td>proposal</td>\n",
       "      <td>2.666667</td>\n",
       "      <td>0</td>\n",
       "    </tr>\n",
       "    <tr>\n",
       "      <th>1</th>\n",
       "      <td>government</td>\n",
       "      <td>accept</td>\n",
       "      <td>receive</td>\n",
       "      <td>proposal</td>\n",
       "      <td>2.583333</td>\n",
       "      <td>0</td>\n",
       "    </tr>\n",
       "    <tr>\n",
       "      <th>2</th>\n",
       "      <td>government</td>\n",
       "      <td>accept</td>\n",
       "      <td>bear</td>\n",
       "      <td>recommendation</td>\n",
       "      <td>3.500000</td>\n",
       "      <td>0</td>\n",
       "    </tr>\n",
       "    <tr>\n",
       "      <th>3</th>\n",
       "      <td>government</td>\n",
       "      <td>accept</td>\n",
       "      <td>receive</td>\n",
       "      <td>recommendation</td>\n",
       "      <td>3.333333</td>\n",
       "      <td>0</td>\n",
       "    </tr>\n",
       "    <tr>\n",
       "      <th>4</th>\n",
       "      <td>lawyer</td>\n",
       "      <td>accept</td>\n",
       "      <td>bear</td>\n",
       "      <td>conviction</td>\n",
       "      <td>3.333333</td>\n",
       "      <td>0</td>\n",
       "    </tr>\n",
       "  </tbody>\n",
       "</table>\n",
       "</div>"
      ],
      "text/plain": [
       "      subject    verb landmark          object     input  hilo\n",
       "0  government  accept     bear        proposal  2.666667     0\n",
       "1  government  accept  receive        proposal  2.583333     0\n",
       "2  government  accept     bear  recommendation  3.500000     0\n",
       "3  government  accept  receive  recommendation  3.333333     0\n",
       "4      lawyer  accept     bear      conviction  3.333333     0"
      ]
     },
     "execution_count": 41,
     "metadata": {},
     "output_type": "execute_result"
    }
   ],
   "source": [
    "svo_sim[cols_ordered].head()"
   ]
  },
  {
   "cell_type": "code",
   "execution_count": 42,
   "metadata": {},
   "outputs": [
    {
     "data": {
      "text/plain": [
       "landmark\n",
       "visit       10\n",
       "test        10\n",
       "attract     10\n",
       "bear        10\n",
       "bribe       10\n",
       "depict      10\n",
       "express     10\n",
       "judge       10\n",
       "leave       10\n",
       "move        10\n",
       "operate     10\n",
       "picture     10\n",
       "publish     10\n",
       "purchase    10\n",
       "receive     10\n",
       "satisfy     10\n",
       "spell       10\n",
       "state       10\n",
       "supply      10\n",
       "allege      10\n",
       "dtype: int64"
      ]
     },
     "execution_count": 42,
     "metadata": {},
     "output_type": "execute_result"
    }
   ],
   "source": [
    "svo_sim.groupby('landmark').size().sort_values(ascending=False)"
   ]
  },
  {
   "cell_type": "code",
   "execution_count": 43,
   "metadata": {},
   "outputs": [
    {
     "data": {
      "text/plain": [
       "verb\n",
       "write      20\n",
       "try        20\n",
       "show       20\n",
       "say        20\n",
       "run        20\n",
       "provide    20\n",
       "meet       20\n",
       "draw       20\n",
       "buy        20\n",
       "accept     20\n",
       "dtype: int64"
      ]
     },
     "execution_count": 43,
     "metadata": {},
     "output_type": "execute_result"
    }
   ],
   "source": [
    "svo_sim.groupby('verb').size().sort_values(ascending=False)"
   ]
  },
  {
   "cell_type": "code",
   "execution_count": 44,
   "metadata": {},
   "outputs": [
    {
     "data": {
      "text/html": [
       "<div>\n",
       "<style scoped>\n",
       "    .dataframe tbody tr th:only-of-type {\n",
       "        vertical-align: middle;\n",
       "    }\n",
       "\n",
       "    .dataframe tbody tr th {\n",
       "        vertical-align: top;\n",
       "    }\n",
       "\n",
       "    .dataframe thead th {\n",
       "        text-align: right;\n",
       "    }\n",
       "</style>\n",
       "<table border=\"1\" class=\"dataframe\">\n",
       "  <thead>\n",
       "    <tr style=\"text-align: right;\">\n",
       "      <th></th>\n",
       "      <th>hilo</th>\n",
       "      <th>input</th>\n",
       "    </tr>\n",
       "  </thead>\n",
       "  <tbody>\n",
       "    <tr>\n",
       "      <th>count</th>\n",
       "      <td>200.0</td>\n",
       "      <td>200.000000</td>\n",
       "    </tr>\n",
       "    <tr>\n",
       "      <th>mean</th>\n",
       "      <td>0.0</td>\n",
       "      <td>3.572660</td>\n",
       "    </tr>\n",
       "    <tr>\n",
       "      <th>std</th>\n",
       "      <td>0.0</td>\n",
       "      <td>1.713468</td>\n",
       "    </tr>\n",
       "    <tr>\n",
       "      <th>min</th>\n",
       "      <td>0.0</td>\n",
       "      <td>1.076923</td>\n",
       "    </tr>\n",
       "    <tr>\n",
       "      <th>50%</th>\n",
       "      <td>0.0</td>\n",
       "      <td>3.278846</td>\n",
       "    </tr>\n",
       "    <tr>\n",
       "      <th>max</th>\n",
       "      <td>0.0</td>\n",
       "      <td>7.000000</td>\n",
       "    </tr>\n",
       "  </tbody>\n",
       "</table>\n",
       "</div>"
      ],
      "text/plain": [
       "        hilo       input\n",
       "count  200.0  200.000000\n",
       "mean     0.0    3.572660\n",
       "std      0.0    1.713468\n",
       "min      0.0    1.076923\n",
       "50%      0.0    3.278846\n",
       "max      0.0    7.000000"
      ]
     },
     "execution_count": 44,
     "metadata": {},
     "output_type": "execute_result"
    }
   ],
   "source": [
    "svo_sim.describe(percentiles=[])"
   ]
  },
  {
   "cell_type": "code",
   "execution_count": 45,
   "metadata": {},
   "outputs": [
    {
     "data": {
      "text/html": [
       "<div>\n",
       "<style scoped>\n",
       "    .dataframe tbody tr th:only-of-type {\n",
       "        vertical-align: middle;\n",
       "    }\n",
       "\n",
       "    .dataframe tbody tr th {\n",
       "        vertical-align: top;\n",
       "    }\n",
       "\n",
       "    .dataframe thead th {\n",
       "        text-align: right;\n",
       "    }\n",
       "</style>\n",
       "<table border=\"1\" class=\"dataframe\">\n",
       "  <thead>\n",
       "    <tr style=\"text-align: right;\">\n",
       "      <th></th>\n",
       "      <th>hilo</th>\n",
       "      <th>input</th>\n",
       "    </tr>\n",
       "  </thead>\n",
       "  <tbody>\n",
       "    <tr>\n",
       "      <th>hilo</th>\n",
       "      <td>NaN</td>\n",
       "      <td>NaN</td>\n",
       "    </tr>\n",
       "    <tr>\n",
       "      <th>input</th>\n",
       "      <td>NaN</td>\n",
       "      <td>1.0</td>\n",
       "    </tr>\n",
       "  </tbody>\n",
       "</table>\n",
       "</div>"
      ],
      "text/plain": [
       "       hilo  input\n",
       "hilo    NaN    NaN\n",
       "input   NaN    1.0"
      ]
     },
     "execution_count": 45,
     "metadata": {},
     "output_type": "execute_result"
    }
   ],
   "source": [
    "svo_sim.corr(method='spearman')"
   ]
  },
  {
   "cell_type": "markdown",
   "metadata": {},
   "source": [
    "## Testing the verb tensor"
   ]
  },
  {
   "cell_type": "code",
   "execution_count": 46,
   "metadata": {},
   "outputs": [],
   "source": [
    "def predict_verb(weight, rank, cutoff=5, prec_at=1, log_oov=False):\n",
    "    _, index = pickle.load(open(os.path.join(tensor_dir, 'sparstensr_{}_{}.pkl').format(weight, cutoff), \n",
    "                                mode='rb'))\n",
    "    ktensor, fit, n_iterations, exectimes = pickle.load(open(os.path.join(\n",
    "        tensor_dir, 'ktensor_{}_{}_{}.pkl').format(weight, cutoff, rank), mode='rb'))\n",
    "    # modes are ['nsubj', 'ROOT', 'dobj'].\n",
    "    logging.debug('Making predictions..')\n",
    "    oov = defaultdict(int)\n",
    "    def verb_pred(ser):\n",
    "        i = '' # or '1'\n",
    "        ser = ser[['subject{}'.format(i), 'object{}'.format(i)]]\n",
    "        try:\n",
    "            predicted_ids = np.argsort((\n",
    "                -ktensor.lmbda * ktensor.U[0][index['nsubj'][ser[0]]]) .dot(\n",
    "                (ktensor.U[1] * ktensor.U[2][index['dobj'][ser[1]]]).T))\n",
    "            return [index['ROOT'].inverse[i] for i in predicted_ids[:prec_at]]\n",
    "        except KeyError as e:\n",
    "            oov[e.args] += 1\n",
    "            return []\n",
    "    svo_sim['predicted_{}_{}'.format(weight, rank)] = svo_sim.apply(verb_pred, axis=1)\n",
    "    if log_oov:\n",
    "        logging.debug(sorted(oov.items(), key=operator.itemgetter(1), reverse=True))\n",
    "    logging.debug('Evaluating predictions..')\n",
    "    for target in ['landmark', 'verb']:\n",
    "        def is_good(ser):\n",
    "            return ser[target] in ser['predicted_{}_{}'.format(weight, rank)]\n",
    "        svo_sim['good_{}_{}_{}'.format(target, weight, rank)] = svo_sim.apply(is_good, axis=1)\n",
    "        n_good = svo_sim['good_{}_{}_{}'.format(target, weight, rank)].sum()\n",
    "        major_baseline = 130 if target == 'landmark' else 260\n",
    "        if n_good > major_baseline:\n",
    "            logging.info('{}\\t{}\\t{}\\t{}'.format(target, weight, rank, n_good))"
   ]
  },
  {
   "cell_type": "code",
   "execution_count": 59,
   "metadata": {},
   "outputs": [],
   "source": [
    "def for_weight_and_rank(max_exp_plus_one=7):\n",
    "    for weight in ['log_freq', 'pmi', 'iact_info', 'salience', 'iact_sali', 'log_dice', 'dice_sali']:\n",
    "        logging.info(weight)\n",
    "        for exp in range(3, max_exp_plus_one):\n",
    "            rank = 2 ** exp\n",
    "            logging.info('\\t{}'.format(rank))\n",
    "            try:\n",
    "                predict_verb(weight, rank)\n",
    "            except FileNotFoundError as e:\n",
    "                logging.warning(e)"
   ]
  },
  {
   "cell_type": "code",
   "execution_count": 60,
   "metadata": {},
   "outputs": [
    {
     "name": "stderr",
     "output_type": "stream",
     "text": [
      "INFO     [3] log_freq\n",
      "INFO     [6] \t8\n",
      "INFO     [6] \t16\n",
      "INFO     [6] \t32\n",
      "INFO     [6] \t64\n",
      "INFO     [3] pmi\n",
      "INFO     [6] \t8\n",
      "INFO     [6] \t16\n",
      "INFO     [6] \t32\n",
      "INFO     [6] \t64\n",
      "INFO     [3] iact_info\n",
      "INFO     [6] \t8\n",
      "INFO     [6] \t16\n",
      "INFO     [6] \t32\n",
      "INFO     [6] \t64\n",
      "INFO     [3] salience\n",
      "INFO     [6] \t8\n",
      "INFO     [6] \t16\n",
      "INFO     [6] \t32\n",
      "INFO     [6] \t64\n",
      "INFO     [3] iact_sali\n",
      "INFO     [6] \t8\n",
      "INFO     [6] \t16\n",
      "INFO     [6] \t32\n",
      "INFO     [6] \t64\n",
      "INFO     [3] log_dice\n",
      "INFO     [6] \t8\n",
      "INFO     [6] \t16\n",
      "INFO     [6] \t32\n",
      "INFO     [6] \t64\n",
      "INFO     [3] dice_sali\n",
      "INFO     [6] \t8\n",
      "INFO     [6] \t16\n",
      "INFO     [6] \t32\n",
      "INFO     [6] \t64\n",
      "WARNING  [10] [Errno 2] No such file or directory: '/mnt/permanent/home/makrai/project/verb-tensor/verb/tensor/0/ktensor_dice_sali_5_64.pkl'\n"
     ]
    },
    {
     "name": "stdout",
     "output_type": "stream",
     "text": [
      "CPU times: user 4min 38s, sys: 8min, total: 12min 38s\n",
      "Wall time: 3min 9s\n"
     ]
    }
   ],
   "source": [
    "%time for_weight_and_rank()"
   ]
  },
  {
   "cell_type": "markdown",
   "metadata": {},
   "source": [
    "With 44 k $\\times$ 9 k $\\times$ 39 k-s tenosor:\n",
    "\n",
    "|assoc measure|rank|verb|\n",
    "|-|-|-|\n",
    "|pmi|256|318|\n",
    "|salience|128|318|\n",
    "|log-Dice|128|270|"
   ]
  },
  {
   "cell_type": "code",
   "execution_count": 61,
   "metadata": {},
   "outputs": [
    {
     "data": {
      "text/plain": [
       "input                    3.57266\n",
       "good_verb_salience_64    0.19500\n",
       "good_verb_pmi_32         0.12000\n",
       "good_verb_log_dice_64    0.11000\n",
       "good_verb_log_freq_64    0.09000\n",
       "dtype: float64"
      ]
     },
     "execution_count": 61,
     "metadata": {},
     "output_type": "execute_result"
    }
   ],
   "source": [
    "svo_sim.sum(numeric_only=True).sort_values(ascending=False).head()/svo_sim.shape[0]"
   ]
  },
  {
   "cell_type": "markdown",
   "metadata": {},
   "source": [
    "|verb|`* 1`|`* lmbda`|\n",
    "|----|--|------|\n",
    "|unnorm|130|**272**|\n",
    "|norm|0|24|"
   ]
  },
  {
   "cell_type": "markdown",
   "metadata": {},
   "source": [
    "Majoroty baseline..."
   ]
  },
  {
   "cell_type": "code",
   "execution_count": 62,
   "metadata": {},
   "outputs": [
    {
     "data": {
      "text/plain": [
       "verb\n",
       "accept     0.1\n",
       "buy        0.1\n",
       "draw       0.1\n",
       "meet       0.1\n",
       "provide    0.1\n",
       "run        0.1\n",
       "say        0.1\n",
       "show       0.1\n",
       "try        0.1\n",
       "write      0.1\n",
       "dtype: float64"
      ]
     },
     "execution_count": 62,
     "metadata": {},
     "output_type": "execute_result"
    }
   ],
   "source": [
    "target = 'verb'\n",
    "svo_sim.groupby(target).size().sort_values()/svo_sim.shape[0]"
   ]
  },
  {
   "cell_type": "markdown",
   "metadata": {},
   "source": [
    "# [Verb prediction (tensor)](https://everest.hds.utc.fr/doku.php?id=en:lfmnips12) (Jenatton+ NIPS 2012)"
   ]
  },
  {
   "cell_type": "code",
   "execution_count": 52,
   "metadata": {},
   "outputs": [],
   "source": [
    "dataset_dir = '/mnt/permanent/Language/English/Data/verb-similarity/SVO-tensor-dataset/'\n",
    "def get_index(pos):\n",
    "    with open(os.path.join(dataset_dir, 'svo-{}s.lst'.format(pos))) as infile:\n",
    "        return {i+1: ' '.join(line.strip().split('_')[2:-1]) for i, line in enumerate(infile)}"
   ]
  },
  {
   "cell_type": "code",
   "execution_count": 53,
   "metadata": {},
   "outputs": [],
   "source": [
    "svo_df = pd.read_csv(os.path.join(dataset_dir, 'svo_data_train_1000000.dat'), sep='\\t', header=None, \n",
    "                     names=['subject', 'verb', 'object'])"
   ]
  },
  {
   "cell_type": "code",
   "execution_count": 54,
   "metadata": {},
   "outputs": [],
   "source": [
    "index_verb = get_index('verb')\n",
    "index_noun = get_index('noun')"
   ]
  },
  {
   "cell_type": "code",
   "execution_count": 55,
   "metadata": {},
   "outputs": [],
   "source": [
    "svo_df.subject = svo_df.subject.apply(index_noun.get)\n",
    "svo_df.verb = svo_df.verb.apply(index_verb.get)\n",
    "svo_df.object = svo_df.object.apply(index_noun.get)"
   ]
  },
  {
   "cell_type": "code",
   "execution_count": 56,
   "metadata": {},
   "outputs": [
    {
     "data": {
      "text/html": [
       "<div>\n",
       "<style scoped>\n",
       "    .dataframe tbody tr th:only-of-type {\n",
       "        vertical-align: middle;\n",
       "    }\n",
       "\n",
       "    .dataframe tbody tr th {\n",
       "        vertical-align: top;\n",
       "    }\n",
       "\n",
       "    .dataframe thead th {\n",
       "        text-align: right;\n",
       "    }\n",
       "</style>\n",
       "<table border=\"1\" class=\"dataframe\">\n",
       "  <thead>\n",
       "    <tr style=\"text-align: right;\">\n",
       "      <th></th>\n",
       "      <th>subject</th>\n",
       "      <th>verb</th>\n",
       "      <th>object</th>\n",
       "    </tr>\n",
       "  </thead>\n",
       "  <tbody>\n",
       "    <tr>\n",
       "      <th>0</th>\n",
       "      <td>man</td>\n",
       "      <td>swipe</td>\n",
       "      <td>credit card</td>\n",
       "    </tr>\n",
       "    <tr>\n",
       "      <th>1</th>\n",
       "      <td>george westinghouse</td>\n",
       "      <td>illuminate</td>\n",
       "      <td>exposition</td>\n",
       "    </tr>\n",
       "    <tr>\n",
       "      <th>2</th>\n",
       "      <td>personality</td>\n",
       "      <td>vanish</td>\n",
       "      <td>moment</td>\n",
       "    </tr>\n",
       "    <tr>\n",
       "      <th>3</th>\n",
       "      <td>fable</td>\n",
       "      <td>highlight</td>\n",
       "      <td>role</td>\n",
       "    </tr>\n",
       "    <tr>\n",
       "      <th>4</th>\n",
       "      <td>secretion</td>\n",
       "      <td>call</td>\n",
       "      <td>surfactant</td>\n",
       "    </tr>\n",
       "    <tr>\n",
       "      <th>5</th>\n",
       "      <td>device</td>\n",
       "      <td>store</td>\n",
       "      <td>multimedia</td>\n",
       "    </tr>\n",
       "    <tr>\n",
       "      <th>6</th>\n",
       "      <td>diversity</td>\n",
       "      <td>base</td>\n",
       "      <td>engineering</td>\n",
       "    </tr>\n",
       "    <tr>\n",
       "      <th>7</th>\n",
       "      <td>troop</td>\n",
       "      <td>destroy</td>\n",
       "      <td>weather station</td>\n",
       "    </tr>\n",
       "    <tr>\n",
       "      <th>8</th>\n",
       "      <td>flute</td>\n",
       "      <td>include</td>\n",
       "      <td>vein</td>\n",
       "    </tr>\n",
       "    <tr>\n",
       "      <th>9</th>\n",
       "      <td>complication</td>\n",
       "      <td>relate</td>\n",
       "      <td>emphysema</td>\n",
       "    </tr>\n",
       "  </tbody>\n",
       "</table>\n",
       "</div>"
      ],
      "text/plain": [
       "               subject        verb           object\n",
       "0                  man       swipe      credit card\n",
       "1  george westinghouse  illuminate       exposition\n",
       "2          personality      vanish           moment\n",
       "3                fable   highlight             role\n",
       "4            secretion        call       surfactant\n",
       "5               device       store       multimedia\n",
       "6            diversity        base      engineering\n",
       "7                troop     destroy  weather station\n",
       "8                flute     include             vein\n",
       "9         complication      relate        emphysema"
      ]
     },
     "execution_count": 56,
     "metadata": {},
     "output_type": "execute_result"
    }
   ],
   "source": [
    "svo_df.head(10)"
   ]
  }
 ],
 "metadata": {
  "kernelspec": {
   "display_name": "Python 3",
   "language": "python",
   "name": "python3"
  },
  "language_info": {
   "codemirror_mode": {
    "name": "ipython",
    "version": 3
   },
   "file_extension": ".py",
   "mimetype": "text/x-python",
   "name": "python",
   "nbconvert_exporter": "python",
   "pygments_lexer": "ipython3",
   "version": "3.7.1"
  }
 },
 "nbformat": 4,
 "nbformat_minor": 2
}
