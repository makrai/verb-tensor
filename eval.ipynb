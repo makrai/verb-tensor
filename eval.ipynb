{
 "cells": [
  {
   "cell_type": "code",
   "execution_count": 7,
   "metadata": {},
   "outputs": [
    {
     "name": "stdout",
     "output_type": "stream",
     "text": [
      "Populating the interactive namespace from numpy and matplotlib\n"
     ]
    },
    {
     "name": "stderr",
     "output_type": "stream",
     "text": [
      "/home/makrai/tool/python/miniconda3/lib/python3.7/site-packages/IPython/core/magics/pylab.py:160: UserWarning: pylab import has clobbered these variables: ['copy']\n",
      "`%matplotlib` prevents importing * from pylab and numpy\n",
      "  \"\\n`%matplotlib` prevents importing * from pylab and numpy\"\n"
     ]
    }
   ],
   "source": [
    "from collections import defaultdict\n",
    "from copy import copy\n",
    "import numpy as np\n",
    "import operator\n",
    "import os\n",
    "import pandas as pd\n",
    "import pickle\n",
    "\n",
    "import matplotlib.pyplot as plt\n",
    "%pylab inline\n",
    "\n",
    "from eval_tensor import test_sim\n",
    "\n",
    "import logging\n",
    "logging.basicConfig(level=logging.INFO,\n",
    "        format='%(levelname)-8s [%(lineno)d] %(message)s')"
   ]
  },
  {
   "cell_type": "code",
   "execution_count": 8,
   "metadata": {},
   "outputs": [],
   "source": [
    "pylab.rcParams['figure.figsize'] = (20, 10)"
   ]
  },
  {
   "cell_type": "code",
   "execution_count": 9,
   "metadata": {},
   "outputs": [],
   "source": [
    "#matplotlib.rcParams.update({'font.size': 14})"
   ]
  },
  {
   "cell_type": "code",
   "execution_count": 30,
   "metadata": {},
   "outputs": [],
   "source": [
    "cutoff = 1000"
   ]
  },
  {
   "cell_type": "markdown",
   "metadata": {},
   "source": [
    "# 1 One-mode similarity"
   ]
  },
  {
   "cell_type": "markdown",
   "metadata": {},
   "source": [
    "## 1.1 Data\n",
    "\n",
    "### 1.1.1 [SimVerb](http://people.ds.cam.ac.uk/dsg40/simverb.html) (Gerz+ EMNLP 2016)"
   ]
  },
  {
   "cell_type": "code",
   "execution_count": 10,
   "metadata": {},
   "outputs": [],
   "source": [
    "simverb = pd.read_csv('/mnt/permanent/Language/English/Data/verb-similarity/simverb-3500/SimVerb-3500.txt', \n",
    "                      sep='\\t', header=None, names=['verb1', 'verb2', 'pos', 'sim', 'rel'])"
   ]
  },
  {
   "cell_type": "code",
   "execution_count": 11,
   "metadata": {},
   "outputs": [
    {
     "data": {
      "text/html": [
       "<div>\n",
       "<style scoped>\n",
       "    .dataframe tbody tr th:only-of-type {\n",
       "        vertical-align: middle;\n",
       "    }\n",
       "\n",
       "    .dataframe tbody tr th {\n",
       "        vertical-align: top;\n",
       "    }\n",
       "\n",
       "    .dataframe thead th {\n",
       "        text-align: right;\n",
       "    }\n",
       "</style>\n",
       "<table border=\"1\" class=\"dataframe\">\n",
       "  <thead>\n",
       "    <tr style=\"text-align: right;\">\n",
       "      <th></th>\n",
       "      <th>verb1</th>\n",
       "      <th>verb2</th>\n",
       "      <th>pos</th>\n",
       "      <th>sim</th>\n",
       "      <th>rel</th>\n",
       "    </tr>\n",
       "  </thead>\n",
       "  <tbody>\n",
       "    <tr>\n",
       "      <th>0</th>\n",
       "      <td>take</td>\n",
       "      <td>remove</td>\n",
       "      <td>V</td>\n",
       "      <td>6.81</td>\n",
       "      <td>SYNONYMS</td>\n",
       "    </tr>\n",
       "    <tr>\n",
       "      <th>1</th>\n",
       "      <td>walk</td>\n",
       "      <td>trail</td>\n",
       "      <td>V</td>\n",
       "      <td>4.81</td>\n",
       "      <td>COHYPONYMS</td>\n",
       "    </tr>\n",
       "    <tr>\n",
       "      <th>2</th>\n",
       "      <td>feed</td>\n",
       "      <td>starve</td>\n",
       "      <td>V</td>\n",
       "      <td>1.49</td>\n",
       "      <td>ANTONYMS</td>\n",
       "    </tr>\n",
       "    <tr>\n",
       "      <th>3</th>\n",
       "      <td>shine</td>\n",
       "      <td>polish</td>\n",
       "      <td>V</td>\n",
       "      <td>7.80</td>\n",
       "      <td>SYNONYMS</td>\n",
       "    </tr>\n",
       "    <tr>\n",
       "      <th>4</th>\n",
       "      <td>calculate</td>\n",
       "      <td>add</td>\n",
       "      <td>V</td>\n",
       "      <td>5.98</td>\n",
       "      <td>HYPER/HYPONYMS</td>\n",
       "    </tr>\n",
       "  </tbody>\n",
       "</table>\n",
       "</div>"
      ],
      "text/plain": [
       "       verb1   verb2 pos   sim             rel\n",
       "0       take  remove   V  6.81        SYNONYMS\n",
       "1       walk   trail   V  4.81      COHYPONYMS\n",
       "2       feed  starve   V  1.49        ANTONYMS\n",
       "3      shine  polish   V  7.80        SYNONYMS\n",
       "4  calculate     add   V  5.98  HYPER/HYPONYMS"
      ]
     },
     "execution_count": 11,
     "metadata": {},
     "output_type": "execute_result"
    }
   ],
   "source": [
    "simverb.head()"
   ]
  },
  {
   "cell_type": "code",
   "execution_count": 12,
   "metadata": {},
   "outputs": [
    {
     "data": {
      "text/html": [
       "<div>\n",
       "<style scoped>\n",
       "    .dataframe tbody tr th:only-of-type {\n",
       "        vertical-align: middle;\n",
       "    }\n",
       "\n",
       "    .dataframe tbody tr th {\n",
       "        vertical-align: top;\n",
       "    }\n",
       "\n",
       "    .dataframe thead th {\n",
       "        text-align: right;\n",
       "    }\n",
       "</style>\n",
       "<table border=\"1\" class=\"dataframe\">\n",
       "  <thead>\n",
       "    <tr style=\"text-align: right;\">\n",
       "      <th></th>\n",
       "      <th>sim</th>\n",
       "    </tr>\n",
       "  </thead>\n",
       "  <tbody>\n",
       "    <tr>\n",
       "      <th>count</th>\n",
       "      <td>3500.000000</td>\n",
       "    </tr>\n",
       "    <tr>\n",
       "      <th>mean</th>\n",
       "      <td>4.291554</td>\n",
       "    </tr>\n",
       "    <tr>\n",
       "      <th>std</th>\n",
       "      <td>2.652621</td>\n",
       "    </tr>\n",
       "    <tr>\n",
       "      <th>min</th>\n",
       "      <td>0.000000</td>\n",
       "    </tr>\n",
       "    <tr>\n",
       "      <th>50%</th>\n",
       "      <td>4.320000</td>\n",
       "    </tr>\n",
       "    <tr>\n",
       "      <th>max</th>\n",
       "      <td>9.960000</td>\n",
       "    </tr>\n",
       "  </tbody>\n",
       "</table>\n",
       "</div>"
      ],
      "text/plain": [
       "               sim\n",
       "count  3500.000000\n",
       "mean      4.291554\n",
       "std       2.652621\n",
       "min       0.000000\n",
       "50%       4.320000\n",
       "max       9.960000"
      ]
     },
     "execution_count": 12,
     "metadata": {},
     "output_type": "execute_result"
    }
   ],
   "source": [
    "simverb.describe(percentiles=[])"
   ]
  },
  {
   "cell_type": "code",
   "execution_count": 13,
   "metadata": {},
   "outputs": [
    {
     "data": {
      "text/html": [
       "<div>\n",
       "<style scoped>\n",
       "    .dataframe tbody tr th:only-of-type {\n",
       "        vertical-align: middle;\n",
       "    }\n",
       "\n",
       "    .dataframe tbody tr th {\n",
       "        vertical-align: top;\n",
       "    }\n",
       "\n",
       "    .dataframe thead th {\n",
       "        text-align: right;\n",
       "    }\n",
       "</style>\n",
       "<table border=\"1\" class=\"dataframe\">\n",
       "  <thead>\n",
       "    <tr style=\"text-align: right;\">\n",
       "      <th></th>\n",
       "      <th>count</th>\n",
       "      <th>mean</th>\n",
       "      <th>std</th>\n",
       "      <th>min</th>\n",
       "      <th>50%</th>\n",
       "      <th>max</th>\n",
       "    </tr>\n",
       "    <tr>\n",
       "      <th>rel</th>\n",
       "      <th></th>\n",
       "      <th></th>\n",
       "      <th></th>\n",
       "      <th></th>\n",
       "      <th></th>\n",
       "      <th></th>\n",
       "    </tr>\n",
       "  </thead>\n",
       "  <tbody>\n",
       "    <tr>\n",
       "      <th>NONE</th>\n",
       "      <td>2093.0</td>\n",
       "      <td>3.431276</td>\n",
       "      <td>2.342695</td>\n",
       "      <td>0.0</td>\n",
       "      <td>3.150</td>\n",
       "      <td>9.79</td>\n",
       "    </tr>\n",
       "    <tr>\n",
       "      <th>HYPER/HYPONYMS</th>\n",
       "      <td>800.0</td>\n",
       "      <td>6.012525</td>\n",
       "      <td>2.104537</td>\n",
       "      <td>0.5</td>\n",
       "      <td>6.310</td>\n",
       "      <td>9.96</td>\n",
       "    </tr>\n",
       "    <tr>\n",
       "      <th>SYNONYMS</th>\n",
       "      <td>306.0</td>\n",
       "      <td>6.789150</td>\n",
       "      <td>2.104490</td>\n",
       "      <td>0.5</td>\n",
       "      <td>7.140</td>\n",
       "      <td>9.96</td>\n",
       "    </tr>\n",
       "    <tr>\n",
       "      <th>COHYPONYMS</th>\n",
       "      <td>190.0</td>\n",
       "      <td>4.435526</td>\n",
       "      <td>2.381992</td>\n",
       "      <td>0.0</td>\n",
       "      <td>4.665</td>\n",
       "      <td>9.30</td>\n",
       "    </tr>\n",
       "    <tr>\n",
       "      <th>ANTONYMS</th>\n",
       "      <td>111.0</td>\n",
       "      <td>0.977748</td>\n",
       "      <td>1.074232</td>\n",
       "      <td>0.0</td>\n",
       "      <td>0.660</td>\n",
       "      <td>6.04</td>\n",
       "    </tr>\n",
       "  </tbody>\n",
       "</table>\n",
       "</div>"
      ],
      "text/plain": [
       "                 count      mean       std  min    50%   max\n",
       "rel                                                         \n",
       "NONE            2093.0  3.431276  2.342695  0.0  3.150  9.79\n",
       "HYPER/HYPONYMS   800.0  6.012525  2.104537  0.5  6.310  9.96\n",
       "SYNONYMS         306.0  6.789150  2.104490  0.5  7.140  9.96\n",
       "COHYPONYMS       190.0  4.435526  2.381992  0.0  4.665  9.30\n",
       "ANTONYMS         111.0  0.977748  1.074232  0.0  0.660  6.04"
      ]
     },
     "execution_count": 13,
     "metadata": {},
     "output_type": "execute_result"
    }
   ],
   "source": [
    "simverb.groupby('rel').sim.describe(percentiles=[]).sort_values('count', ascending=False)"
   ]
  },
  {
   "cell_type": "markdown",
   "metadata": {},
   "source": [
    "### 1.1.2 SimLex-999"
   ]
  },
  {
   "cell_type": "code",
   "execution_count": 14,
   "metadata": {},
   "outputs": [],
   "source": [
    "simlex = pd.read_csv('/mnt/permanent/Language/English/Data/SimLex-999/SimLex-999.txt', sep='\\t')"
   ]
  },
  {
   "cell_type": "code",
   "execution_count": 15,
   "metadata": {},
   "outputs": [
    {
     "data": {
      "text/html": [
       "<div>\n",
       "<style scoped>\n",
       "    .dataframe tbody tr th:only-of-type {\n",
       "        vertical-align: middle;\n",
       "    }\n",
       "\n",
       "    .dataframe tbody tr th {\n",
       "        vertical-align: top;\n",
       "    }\n",
       "\n",
       "    .dataframe thead th {\n",
       "        text-align: right;\n",
       "    }\n",
       "</style>\n",
       "<table border=\"1\" class=\"dataframe\">\n",
       "  <thead>\n",
       "    <tr style=\"text-align: right;\">\n",
       "      <th></th>\n",
       "      <th>word1</th>\n",
       "      <th>word2</th>\n",
       "      <th>POS</th>\n",
       "      <th>SimLex999</th>\n",
       "      <th>conc(w1)</th>\n",
       "      <th>conc(w2)</th>\n",
       "      <th>concQ</th>\n",
       "      <th>Assoc(USF)</th>\n",
       "      <th>SimAssoc333</th>\n",
       "      <th>SD(SimLex)</th>\n",
       "    </tr>\n",
       "  </thead>\n",
       "  <tbody>\n",
       "    <tr>\n",
       "      <th>0</th>\n",
       "      <td>old</td>\n",
       "      <td>new</td>\n",
       "      <td>A</td>\n",
       "      <td>1.58</td>\n",
       "      <td>2.72</td>\n",
       "      <td>2.81</td>\n",
       "      <td>2</td>\n",
       "      <td>7.25</td>\n",
       "      <td>1</td>\n",
       "      <td>0.41</td>\n",
       "    </tr>\n",
       "    <tr>\n",
       "      <th>1</th>\n",
       "      <td>smart</td>\n",
       "      <td>intelligent</td>\n",
       "      <td>A</td>\n",
       "      <td>9.20</td>\n",
       "      <td>1.75</td>\n",
       "      <td>2.46</td>\n",
       "      <td>1</td>\n",
       "      <td>7.11</td>\n",
       "      <td>1</td>\n",
       "      <td>0.67</td>\n",
       "    </tr>\n",
       "    <tr>\n",
       "      <th>2</th>\n",
       "      <td>hard</td>\n",
       "      <td>difficult</td>\n",
       "      <td>A</td>\n",
       "      <td>8.77</td>\n",
       "      <td>3.76</td>\n",
       "      <td>2.21</td>\n",
       "      <td>2</td>\n",
       "      <td>5.94</td>\n",
       "      <td>1</td>\n",
       "      <td>1.19</td>\n",
       "    </tr>\n",
       "    <tr>\n",
       "      <th>3</th>\n",
       "      <td>happy</td>\n",
       "      <td>cheerful</td>\n",
       "      <td>A</td>\n",
       "      <td>9.55</td>\n",
       "      <td>2.56</td>\n",
       "      <td>2.34</td>\n",
       "      <td>1</td>\n",
       "      <td>5.85</td>\n",
       "      <td>1</td>\n",
       "      <td>2.18</td>\n",
       "    </tr>\n",
       "    <tr>\n",
       "      <th>4</th>\n",
       "      <td>hard</td>\n",
       "      <td>easy</td>\n",
       "      <td>A</td>\n",
       "      <td>0.95</td>\n",
       "      <td>3.76</td>\n",
       "      <td>2.07</td>\n",
       "      <td>2</td>\n",
       "      <td>5.82</td>\n",
       "      <td>1</td>\n",
       "      <td>0.93</td>\n",
       "    </tr>\n",
       "  </tbody>\n",
       "</table>\n",
       "</div>"
      ],
      "text/plain": [
       "   word1        word2 POS  SimLex999  conc(w1)  conc(w2)  concQ  Assoc(USF)  \\\n",
       "0    old          new   A       1.58      2.72      2.81      2        7.25   \n",
       "1  smart  intelligent   A       9.20      1.75      2.46      1        7.11   \n",
       "2   hard    difficult   A       8.77      3.76      2.21      2        5.94   \n",
       "3  happy     cheerful   A       9.55      2.56      2.34      1        5.85   \n",
       "4   hard         easy   A       0.95      3.76      2.07      2        5.82   \n",
       "\n",
       "   SimAssoc333  SD(SimLex)  \n",
       "0            1        0.41  \n",
       "1            1        0.67  \n",
       "2            1        1.19  \n",
       "3            1        2.18  \n",
       "4            1        0.93  "
      ]
     },
     "execution_count": 15,
     "metadata": {},
     "output_type": "execute_result"
    }
   ],
   "source": [
    "simlex.head()"
   ]
  },
  {
   "cell_type": "markdown",
   "metadata": {},
   "source": [
    "* conc(w1): The concreteness rating of word1 on a scale of 1-7. Taken from the University of South Florida Free Association Norms database. \n",
    "\n",
    "* conc(w2): The concreteness rating of word2 on a scale of 1-7. Taken from the University of South Florida Free Association Norms database. \n",
    "\n",
    "* concQ: The quartile the pair occupies based on the two concreteness ratings. Used for some analyses in the above paper. \n",
    "\n",
    "* Assoc(USF): The strength of free association from word1 to word2. Values are taken from the University of South Florida Free Association Dataset. \n",
    "\n",
    "* SimAssoc333: Binary indicator of whether the pair is one of the 333 most associated in the dataset (according to Assoc(USF)). This subset of SimLex999 is often the hardest for computational models to capture because the noise from high association can confound the similarity rating. See the paper for more details. \n",
    "\n",
    "* SD(SimLex): The standard deviation of annotator scores when rating this pair. Low values indicate good agreement between the 15+ annotators on the similarity value SimLex999. Higher scores indicate less certainty. \n"
   ]
  },
  {
   "cell_type": "code",
   "execution_count": 16,
   "metadata": {},
   "outputs": [
    {
     "data": {
      "text/html": [
       "<div>\n",
       "<style scoped>\n",
       "    .dataframe tbody tr th:only-of-type {\n",
       "        vertical-align: middle;\n",
       "    }\n",
       "\n",
       "    .dataframe tbody tr th {\n",
       "        vertical-align: top;\n",
       "    }\n",
       "\n",
       "    .dataframe thead th {\n",
       "        text-align: right;\n",
       "    }\n",
       "</style>\n",
       "<table border=\"1\" class=\"dataframe\">\n",
       "  <thead>\n",
       "    <tr style=\"text-align: right;\">\n",
       "      <th></th>\n",
       "      <th>SimLex999</th>\n",
       "      <th>conc(w1)</th>\n",
       "      <th>conc(w2)</th>\n",
       "      <th>concQ</th>\n",
       "      <th>Assoc(USF)</th>\n",
       "      <th>SimAssoc333</th>\n",
       "      <th>SD(SimLex)</th>\n",
       "    </tr>\n",
       "  </thead>\n",
       "  <tbody>\n",
       "    <tr>\n",
       "      <th>count</th>\n",
       "      <td>999.000000</td>\n",
       "      <td>999.000000</td>\n",
       "      <td>999.000000</td>\n",
       "      <td>999.000000</td>\n",
       "      <td>999.000000</td>\n",
       "      <td>999.000000</td>\n",
       "      <td>999.000000</td>\n",
       "    </tr>\n",
       "    <tr>\n",
       "      <th>mean</th>\n",
       "      <td>4.561572</td>\n",
       "      <td>3.657087</td>\n",
       "      <td>3.568629</td>\n",
       "      <td>2.501502</td>\n",
       "      <td>0.751512</td>\n",
       "      <td>0.333333</td>\n",
       "      <td>1.274505</td>\n",
       "    </tr>\n",
       "    <tr>\n",
       "      <th>std</th>\n",
       "      <td>2.614663</td>\n",
       "      <td>1.131050</td>\n",
       "      <td>1.159572</td>\n",
       "      <td>1.118145</td>\n",
       "      <td>1.344569</td>\n",
       "      <td>0.471641</td>\n",
       "      <td>0.366278</td>\n",
       "    </tr>\n",
       "    <tr>\n",
       "      <th>min</th>\n",
       "      <td>0.230000</td>\n",
       "      <td>1.190000</td>\n",
       "      <td>1.190000</td>\n",
       "      <td>1.000000</td>\n",
       "      <td>0.000000</td>\n",
       "      <td>0.000000</td>\n",
       "      <td>0.340000</td>\n",
       "    </tr>\n",
       "    <tr>\n",
       "      <th>50%</th>\n",
       "      <td>4.670000</td>\n",
       "      <td>3.830000</td>\n",
       "      <td>3.660000</td>\n",
       "      <td>3.000000</td>\n",
       "      <td>0.250000</td>\n",
       "      <td>0.000000</td>\n",
       "      <td>1.310000</td>\n",
       "    </tr>\n",
       "    <tr>\n",
       "      <th>max</th>\n",
       "      <td>9.800000</td>\n",
       "      <td>5.000000</td>\n",
       "      <td>5.000000</td>\n",
       "      <td>4.000000</td>\n",
       "      <td>8.850000</td>\n",
       "      <td>1.000000</td>\n",
       "      <td>2.180000</td>\n",
       "    </tr>\n",
       "  </tbody>\n",
       "</table>\n",
       "</div>"
      ],
      "text/plain": [
       "        SimLex999    conc(w1)    conc(w2)       concQ  Assoc(USF)  \\\n",
       "count  999.000000  999.000000  999.000000  999.000000  999.000000   \n",
       "mean     4.561572    3.657087    3.568629    2.501502    0.751512   \n",
       "std      2.614663    1.131050    1.159572    1.118145    1.344569   \n",
       "min      0.230000    1.190000    1.190000    1.000000    0.000000   \n",
       "50%      4.670000    3.830000    3.660000    3.000000    0.250000   \n",
       "max      9.800000    5.000000    5.000000    4.000000    8.850000   \n",
       "\n",
       "       SimAssoc333  SD(SimLex)  \n",
       "count   999.000000  999.000000  \n",
       "mean      0.333333    1.274505  \n",
       "std       0.471641    0.366278  \n",
       "min       0.000000    0.340000  \n",
       "50%       0.000000    1.310000  \n",
       "max       1.000000    2.180000  "
      ]
     },
     "execution_count": 16,
     "metadata": {},
     "output_type": "execute_result"
    }
   ],
   "source": [
    "simlex.describe(percentiles=[])"
   ]
  },
  {
   "cell_type": "code",
   "execution_count": 17,
   "metadata": {},
   "outputs": [
    {
     "data": {
      "text/plain": [
       "POS\n",
       "A    111\n",
       "N    666\n",
       "V    222\n",
       "dtype: int64"
      ]
     },
     "execution_count": 17,
     "metadata": {},
     "output_type": "execute_result"
    }
   ],
   "source": [
    "simlex.groupby('POS').size()"
   ]
  },
  {
   "cell_type": "markdown",
   "metadata": {},
   "source": [
    "## 1.2 Testing the verb tensor"
   ]
  },
  {
   "cell_type": "code",
   "execution_count": 27,
   "metadata": {},
   "outputs": [],
   "source": [
    "def df_columns_from_filen(sim_df, col='sim'):\n",
    "    sim_df = sim_df.drop(col)\n",
    "    sim_df = sim_df.to_frame().reset_index()\n",
    "    sim_df[['_t', '_s', 'w1', 'w2', 'rank_']] = pd.DataFrame(sim_df['index'].str.rsplit('_').values.tolist())\n",
    "    sim_df['-'] = '-'\n",
    "    sim_df['weight'] = sim_df['w1'] + sim_df['-'] + sim_df['w2']\n",
    "    sim_df = sim_df[sim_df.weight.isna()==0]\n",
    "    sim_df.rank_ = sim_df.rank_.astype(int)\n",
    "    #sim_df['weight'] = pd.DataFrame(sim_df['weight'].str.split('_', 2).values.tolist())[2]\n",
    "    sim_df = sim_df.drop(columns='index')\n",
    "    #sim_df = sim_df.drop(labels=[0])\n",
    "    sim_df =sim_df[sim_df.isna().sum(axis=1)==0]\n",
    "    return sim_df.sort_values(col, ascending=False)"
   ]
  },
  {
   "cell_type": "code",
   "execution_count": 19,
   "metadata": {},
   "outputs": [
    {
     "name": "stderr",
     "output_type": "stream",
     "text": [
      "INFO     [36] Assuming df is SimVerb\n",
      "INFO     [56] Testing log_freq..\n",
      "/home/makrai/repo/verb-tensor/eval_tensor.py:79: RuntimeWarning: divide by zero encountered in true_divide\n",
      "  np.linalg.norm, 1, ktensor.U[mode_i]).reshape((-1,1))\n",
      "/home/makrai/repo/verb-tensor/eval_tensor.py:79: RuntimeWarning: invalid value encountered in true_divide\n",
      "  np.linalg.norm, 1, ktensor.U[mode_i]).reshape((-1,1))\n",
      "WARNING  [69] [Errno 2] No such file or directory: '/mnt/permanent/home/makrai/project/verb-tensor/pyconll/tensor/0to4/ktensor_log_freq_1000_16.pkl'\n",
      "WARNING  [69] [Errno 2] No such file or directory: '/mnt/permanent/home/makrai/project/verb-tensor/pyconll/tensor/0to4/ktensor_log_freq_1000_32.pkl'\n",
      "WARNING  [69] [Errno 2] No such file or directory: '/mnt/permanent/home/makrai/project/verb-tensor/pyconll/tensor/0to4/ktensor_log_freq_1000_256.pkl'\n",
      "INFO     [56] Testing pmi_vanl..\n",
      "WARNING  [69] [Errno 2] No such file or directory: '/mnt/permanent/home/makrai/project/verb-tensor/pyconll/tensor/0to4/ktensor_pmi_1000_2.pkl'\n",
      "WARNING  [69] [Errno 2] No such file or directory: '/mnt/permanent/home/makrai/project/verb-tensor/pyconll/tensor/0to4/ktensor_pmi_1000_4.pkl'\n",
      "WARNING  [69] [Errno 2] No such file or directory: '/mnt/permanent/home/makrai/project/verb-tensor/pyconll/tensor/0to4/ktensor_pmi_1000_8.pkl'\n",
      "WARNING  [69] [Errno 2] No such file or directory: '/mnt/permanent/home/makrai/project/verb-tensor/pyconll/tensor/0to4/ktensor_pmi_1000_16.pkl'\n",
      "WARNING  [69] [Errno 2] No such file or directory: '/mnt/permanent/home/makrai/project/verb-tensor/pyconll/tensor/0to4/ktensor_pmi_1000_32.pkl'\n",
      "WARNING  [69] [Errno 2] No such file or directory: '/mnt/permanent/home/makrai/project/verb-tensor/pyconll/tensor/0to4/ktensor_pmi_1000_256.pkl'\n",
      "INFO     [56] Testing iact_vanl..\n",
      "WARNING  [69] [Errno 2] No such file or directory: '/mnt/permanent/home/makrai/project/verb-tensor/pyconll/tensor/0to4/ktensor_iact_info_1000_2.pkl'\n",
      "WARNING  [69] [Errno 2] No such file or directory: '/mnt/permanent/home/makrai/project/verb-tensor/pyconll/tensor/0to4/ktensor_iact_info_1000_4.pkl'\n",
      "WARNING  [69] [Errno 2] No such file or directory: '/mnt/permanent/home/makrai/project/verb-tensor/pyconll/tensor/0to4/ktensor_iact_info_1000_8.pkl'\n",
      "WARNING  [69] [Errno 2] No such file or directory: '/mnt/permanent/home/makrai/project/verb-tensor/pyconll/tensor/0to4/ktensor_iact_info_1000_16.pkl'\n",
      "WARNING  [69] [Errno 2] No such file or directory: '/mnt/permanent/home/makrai/project/verb-tensor/pyconll/tensor/0to4/ktensor_iact_info_1000_32.pkl'\n",
      "WARNING  [69] [Errno 2] No such file or directory: '/mnt/permanent/home/makrai/project/verb-tensor/pyconll/tensor/0to4/ktensor_iact_info_1000_256.pkl'\n",
      "INFO     [56] Testing dice_vanl..\n",
      "WARNING  [69] [Errno 2] No such file or directory: '/mnt/permanent/home/makrai/project/verb-tensor/pyconll/tensor/0to4/ktensor_log_dice_1000_2.pkl'\n",
      "WARNING  [69] [Errno 2] No such file or directory: '/mnt/permanent/home/makrai/project/verb-tensor/pyconll/tensor/0to4/ktensor_log_dice_1000_4.pkl'\n",
      "WARNING  [69] [Errno 2] No such file or directory: '/mnt/permanent/home/makrai/project/verb-tensor/pyconll/tensor/0to4/ktensor_log_dice_1000_8.pkl'\n",
      "WARNING  [69] [Errno 2] No such file or directory: '/mnt/permanent/home/makrai/project/verb-tensor/pyconll/tensor/0to4/ktensor_log_dice_1000_16.pkl'\n",
      "WARNING  [69] [Errno 2] No such file or directory: '/mnt/permanent/home/makrai/project/verb-tensor/pyconll/tensor/0to4/ktensor_log_dice_1000_32.pkl'\n",
      "WARNING  [69] [Errno 2] No such file or directory: '/mnt/permanent/home/makrai/project/verb-tensor/pyconll/tensor/0to4/ktensor_log_dice_1000_256.pkl'\n",
      "INFO     [56] Testing pmi_norm..\n",
      "WARNING  [69] [Errno 2] No such file or directory: '/mnt/permanent/home/makrai/project/verb-tensor/pyconll/tensor/0to4/ktensor_npmi_1000_2.pkl'\n",
      "WARNING  [69] [Errno 2] No such file or directory: '/mnt/permanent/home/makrai/project/verb-tensor/pyconll/tensor/0to4/ktensor_npmi_1000_4.pkl'\n",
      "WARNING  [69] [Errno 2] No such file or directory: '/mnt/permanent/home/makrai/project/verb-tensor/pyconll/tensor/0to4/ktensor_npmi_1000_8.pkl'\n",
      "WARNING  [69] [Errno 2] No such file or directory: '/mnt/permanent/home/makrai/project/verb-tensor/pyconll/tensor/0to4/ktensor_npmi_1000_16.pkl'\n",
      "WARNING  [69] [Errno 2] No such file or directory: '/mnt/permanent/home/makrai/project/verb-tensor/pyconll/tensor/0to4/ktensor_npmi_1000_32.pkl'\n",
      "WARNING  [69] [Errno 2] No such file or directory: '/mnt/permanent/home/makrai/project/verb-tensor/pyconll/tensor/0to4/ktensor_npmi_1000_256.pkl'\n",
      "INFO     [56] Testing iact_norm..\n",
      "WARNING  [69] [Errno 2] No such file or directory: '/mnt/permanent/home/makrai/project/verb-tensor/pyconll/tensor/0to4/ktensor_niact_1000_2.pkl'\n",
      "WARNING  [69] [Errno 2] No such file or directory: '/mnt/permanent/home/makrai/project/verb-tensor/pyconll/tensor/0to4/ktensor_niact_1000_4.pkl'\n",
      "WARNING  [69] [Errno 2] No such file or directory: '/mnt/permanent/home/makrai/project/verb-tensor/pyconll/tensor/0to4/ktensor_niact_1000_8.pkl'\n",
      "WARNING  [69] [Errno 2] No such file or directory: '/mnt/permanent/home/makrai/project/verb-tensor/pyconll/tensor/0to4/ktensor_niact_1000_16.pkl'\n",
      "WARNING  [69] [Errno 2] No such file or directory: '/mnt/permanent/home/makrai/project/verb-tensor/pyconll/tensor/0to4/ktensor_niact_1000_32.pkl'\n",
      "WARNING  [69] [Errno 2] No such file or directory: '/mnt/permanent/home/makrai/project/verb-tensor/pyconll/tensor/0to4/ktensor_niact_1000_128.pkl'\n",
      "WARNING  [69] [Errno 2] No such file or directory: '/mnt/permanent/home/makrai/project/verb-tensor/pyconll/tensor/0to4/ktensor_niact_1000_256.pkl'\n",
      "INFO     [56] Testing pmi_sali..\n",
      "WARNING  [69] [Errno 2] No such file or directory: '/mnt/permanent/home/makrai/project/verb-tensor/pyconll/tensor/0to4/ktensor_salience_1000_2.pkl'\n",
      "WARNING  [69] [Errno 2] No such file or directory: '/mnt/permanent/home/makrai/project/verb-tensor/pyconll/tensor/0to4/ktensor_salience_1000_4.pkl'\n",
      "WARNING  [69] [Errno 2] No such file or directory: '/mnt/permanent/home/makrai/project/verb-tensor/pyconll/tensor/0to4/ktensor_salience_1000_8.pkl'\n",
      "WARNING  [69] [Errno 2] No such file or directory: '/mnt/permanent/home/makrai/project/verb-tensor/pyconll/tensor/0to4/ktensor_salience_1000_16.pkl'\n",
      "WARNING  [69] [Errno 2] No such file or directory: '/mnt/permanent/home/makrai/project/verb-tensor/pyconll/tensor/0to4/ktensor_salience_1000_32.pkl'\n",
      "WARNING  [69] [Errno 2] No such file or directory: '/mnt/permanent/home/makrai/project/verb-tensor/pyconll/tensor/0to4/ktensor_salience_1000_256.pkl'\n",
      "INFO     [56] Testing iact_sali..\n",
      "WARNING  [69] [Errno 2] No such file or directory: '/mnt/permanent/home/makrai/project/verb-tensor/pyconll/tensor/0to4/ktensor_iact_sali_1000_2.pkl'\n",
      "WARNING  [69] [Errno 2] No such file or directory: '/mnt/permanent/home/makrai/project/verb-tensor/pyconll/tensor/0to4/ktensor_iact_sali_1000_4.pkl'\n",
      "WARNING  [69] [Errno 2] No such file or directory: '/mnt/permanent/home/makrai/project/verb-tensor/pyconll/tensor/0to4/ktensor_iact_sali_1000_8.pkl'\n",
      "WARNING  [69] [Errno 2] No such file or directory: '/mnt/permanent/home/makrai/project/verb-tensor/pyconll/tensor/0to4/ktensor_iact_sali_1000_16.pkl'\n",
      "WARNING  [69] [Errno 2] No such file or directory: '/mnt/permanent/home/makrai/project/verb-tensor/pyconll/tensor/0to4/ktensor_iact_sali_1000_32.pkl'\n",
      "WARNING  [69] [Errno 2] No such file or directory: '/mnt/permanent/home/makrai/project/verb-tensor/pyconll/tensor/0to4/ktensor_iact_sali_1000_256.pkl'\n",
      "INFO     [56] Testing dice_sali..\n",
      "WARNING  [69] [Errno 2] No such file or directory: '/mnt/permanent/home/makrai/project/verb-tensor/pyconll/tensor/0to4/ktensor_dice_sali_1000_2.pkl'\n",
      "WARNING  [69] [Errno 2] No such file or directory: '/mnt/permanent/home/makrai/project/verb-tensor/pyconll/tensor/0to4/ktensor_dice_sali_1000_4.pkl'\n",
      "WARNING  [69] [Errno 2] No such file or directory: '/mnt/permanent/home/makrai/project/verb-tensor/pyconll/tensor/0to4/ktensor_dice_sali_1000_8.pkl'\n",
      "WARNING  [69] [Errno 2] No such file or directory: '/mnt/permanent/home/makrai/project/verb-tensor/pyconll/tensor/0to4/ktensor_dice_sali_1000_16.pkl'\n",
      "WARNING  [69] [Errno 2] No such file or directory: '/mnt/permanent/home/makrai/project/verb-tensor/pyconll/tensor/0to4/ktensor_dice_sali_1000_32.pkl'\n",
      "WARNING  [69] [Errno 2] No such file or directory: '/mnt/permanent/home/makrai/project/verb-tensor/pyconll/tensor/0to4/ktensor_dice_sali_1000_256.pkl'\n"
     ]
    }
   ],
   "source": [
    "simverb_res = test_sim(simverb, mode_to_test='ROOT', cutoff=cutoff)"
   ]
  },
  {
   "cell_type": "code",
   "execution_count": 28,
   "metadata": {},
   "outputs": [],
   "source": [
    "simverb_res = df_columns_from_filen(simverb_res)"
   ]
  },
  {
   "cell_type": "code",
   "execution_count": 31,
   "metadata": {},
   "outputs": [
    {
     "name": "stderr",
     "output_type": "stream",
     "text": [
      "INFO     [41] Assuming df is SimLex\n",
      "INFO     [56] Testing log_freq..\n",
      "/home/makrai/repo/verb-tensor/eval_tensor.py:79: RuntimeWarning: divide by zero encountered in true_divide\n",
      "  np.linalg.norm, 1, ktensor.U[mode_i]).reshape((-1,1))\n",
      "/home/makrai/repo/verb-tensor/eval_tensor.py:79: RuntimeWarning: invalid value encountered in true_divide\n",
      "  np.linalg.norm, 1, ktensor.U[mode_i]).reshape((-1,1))\n",
      "WARNING  [69] [Errno 2] No such file or directory: '/mnt/permanent/home/makrai/project/verb-tensor/pyconll/tensor/0to4/ktensor_log_freq_1000_16.pkl'\n",
      "WARNING  [69] [Errno 2] No such file or directory: '/mnt/permanent/home/makrai/project/verb-tensor/pyconll/tensor/0to4/ktensor_log_freq_1000_32.pkl'\n",
      "WARNING  [69] [Errno 2] No such file or directory: '/mnt/permanent/home/makrai/project/verb-tensor/pyconll/tensor/0to4/ktensor_log_freq_1000_256.pkl'\n",
      "INFO     [56] Testing pmi_vanl..\n",
      "WARNING  [69] [Errno 2] No such file or directory: '/mnt/permanent/home/makrai/project/verb-tensor/pyconll/tensor/0to4/ktensor_pmi_1000_2.pkl'\n",
      "WARNING  [69] [Errno 2] No such file or directory: '/mnt/permanent/home/makrai/project/verb-tensor/pyconll/tensor/0to4/ktensor_pmi_1000_4.pkl'\n",
      "WARNING  [69] [Errno 2] No such file or directory: '/mnt/permanent/home/makrai/project/verb-tensor/pyconll/tensor/0to4/ktensor_pmi_1000_8.pkl'\n",
      "WARNING  [69] [Errno 2] No such file or directory: '/mnt/permanent/home/makrai/project/verb-tensor/pyconll/tensor/0to4/ktensor_pmi_1000_16.pkl'\n",
      "WARNING  [69] [Errno 2] No such file or directory: '/mnt/permanent/home/makrai/project/verb-tensor/pyconll/tensor/0to4/ktensor_pmi_1000_32.pkl'\n",
      "WARNING  [69] [Errno 2] No such file or directory: '/mnt/permanent/home/makrai/project/verb-tensor/pyconll/tensor/0to4/ktensor_pmi_1000_256.pkl'\n",
      "INFO     [56] Testing iact_vanl..\n",
      "WARNING  [69] [Errno 2] No such file or directory: '/mnt/permanent/home/makrai/project/verb-tensor/pyconll/tensor/0to4/ktensor_iact_info_1000_2.pkl'\n",
      "WARNING  [69] [Errno 2] No such file or directory: '/mnt/permanent/home/makrai/project/verb-tensor/pyconll/tensor/0to4/ktensor_iact_info_1000_4.pkl'\n",
      "WARNING  [69] [Errno 2] No such file or directory: '/mnt/permanent/home/makrai/project/verb-tensor/pyconll/tensor/0to4/ktensor_iact_info_1000_8.pkl'\n",
      "WARNING  [69] [Errno 2] No such file or directory: '/mnt/permanent/home/makrai/project/verb-tensor/pyconll/tensor/0to4/ktensor_iact_info_1000_16.pkl'\n",
      "WARNING  [69] [Errno 2] No such file or directory: '/mnt/permanent/home/makrai/project/verb-tensor/pyconll/tensor/0to4/ktensor_iact_info_1000_32.pkl'\n",
      "WARNING  [69] [Errno 2] No such file or directory: '/mnt/permanent/home/makrai/project/verb-tensor/pyconll/tensor/0to4/ktensor_iact_info_1000_256.pkl'\n",
      "INFO     [56] Testing dice_vanl..\n",
      "WARNING  [69] [Errno 2] No such file or directory: '/mnt/permanent/home/makrai/project/verb-tensor/pyconll/tensor/0to4/ktensor_log_dice_1000_2.pkl'\n",
      "WARNING  [69] [Errno 2] No such file or directory: '/mnt/permanent/home/makrai/project/verb-tensor/pyconll/tensor/0to4/ktensor_log_dice_1000_4.pkl'\n",
      "WARNING  [69] [Errno 2] No such file or directory: '/mnt/permanent/home/makrai/project/verb-tensor/pyconll/tensor/0to4/ktensor_log_dice_1000_8.pkl'\n",
      "WARNING  [69] [Errno 2] No such file or directory: '/mnt/permanent/home/makrai/project/verb-tensor/pyconll/tensor/0to4/ktensor_log_dice_1000_16.pkl'\n",
      "WARNING  [69] [Errno 2] No such file or directory: '/mnt/permanent/home/makrai/project/verb-tensor/pyconll/tensor/0to4/ktensor_log_dice_1000_32.pkl'\n",
      "WARNING  [69] [Errno 2] No such file or directory: '/mnt/permanent/home/makrai/project/verb-tensor/pyconll/tensor/0to4/ktensor_log_dice_1000_256.pkl'\n",
      "INFO     [56] Testing pmi_norm..\n",
      "WARNING  [69] [Errno 2] No such file or directory: '/mnt/permanent/home/makrai/project/verb-tensor/pyconll/tensor/0to4/ktensor_npmi_1000_2.pkl'\n",
      "WARNING  [69] [Errno 2] No such file or directory: '/mnt/permanent/home/makrai/project/verb-tensor/pyconll/tensor/0to4/ktensor_npmi_1000_4.pkl'\n",
      "WARNING  [69] [Errno 2] No such file or directory: '/mnt/permanent/home/makrai/project/verb-tensor/pyconll/tensor/0to4/ktensor_npmi_1000_8.pkl'\n",
      "WARNING  [69] [Errno 2] No such file or directory: '/mnt/permanent/home/makrai/project/verb-tensor/pyconll/tensor/0to4/ktensor_npmi_1000_16.pkl'\n",
      "WARNING  [69] [Errno 2] No such file or directory: '/mnt/permanent/home/makrai/project/verb-tensor/pyconll/tensor/0to4/ktensor_npmi_1000_32.pkl'\n",
      "WARNING  [69] [Errno 2] No such file or directory: '/mnt/permanent/home/makrai/project/verb-tensor/pyconll/tensor/0to4/ktensor_npmi_1000_256.pkl'\n",
      "INFO     [56] Testing iact_norm..\n",
      "WARNING  [69] [Errno 2] No such file or directory: '/mnt/permanent/home/makrai/project/verb-tensor/pyconll/tensor/0to4/ktensor_niact_1000_2.pkl'\n",
      "WARNING  [69] [Errno 2] No such file or directory: '/mnt/permanent/home/makrai/project/verb-tensor/pyconll/tensor/0to4/ktensor_niact_1000_4.pkl'\n",
      "WARNING  [69] [Errno 2] No such file or directory: '/mnt/permanent/home/makrai/project/verb-tensor/pyconll/tensor/0to4/ktensor_niact_1000_8.pkl'\n",
      "WARNING  [69] [Errno 2] No such file or directory: '/mnt/permanent/home/makrai/project/verb-tensor/pyconll/tensor/0to4/ktensor_niact_1000_16.pkl'\n",
      "WARNING  [69] [Errno 2] No such file or directory: '/mnt/permanent/home/makrai/project/verb-tensor/pyconll/tensor/0to4/ktensor_niact_1000_32.pkl'\n",
      "WARNING  [69] [Errno 2] No such file or directory: '/mnt/permanent/home/makrai/project/verb-tensor/pyconll/tensor/0to4/ktensor_niact_1000_128.pkl'\n",
      "WARNING  [69] [Errno 2] No such file or directory: '/mnt/permanent/home/makrai/project/verb-tensor/pyconll/tensor/0to4/ktensor_niact_1000_256.pkl'\n",
      "INFO     [56] Testing pmi_sali..\n",
      "WARNING  [69] [Errno 2] No such file or directory: '/mnt/permanent/home/makrai/project/verb-tensor/pyconll/tensor/0to4/ktensor_salience_1000_2.pkl'\n",
      "WARNING  [69] [Errno 2] No such file or directory: '/mnt/permanent/home/makrai/project/verb-tensor/pyconll/tensor/0to4/ktensor_salience_1000_4.pkl'\n",
      "WARNING  [69] [Errno 2] No such file or directory: '/mnt/permanent/home/makrai/project/verb-tensor/pyconll/tensor/0to4/ktensor_salience_1000_8.pkl'\n",
      "WARNING  [69] [Errno 2] No such file or directory: '/mnt/permanent/home/makrai/project/verb-tensor/pyconll/tensor/0to4/ktensor_salience_1000_16.pkl'\n",
      "WARNING  [69] [Errno 2] No such file or directory: '/mnt/permanent/home/makrai/project/verb-tensor/pyconll/tensor/0to4/ktensor_salience_1000_32.pkl'\n",
      "WARNING  [69] [Errno 2] No such file or directory: '/mnt/permanent/home/makrai/project/verb-tensor/pyconll/tensor/0to4/ktensor_salience_1000_256.pkl'\n",
      "INFO     [56] Testing iact_sali..\n",
      "WARNING  [69] [Errno 2] No such file or directory: '/mnt/permanent/home/makrai/project/verb-tensor/pyconll/tensor/0to4/ktensor_iact_sali_1000_2.pkl'\n",
      "WARNING  [69] [Errno 2] No such file or directory: '/mnt/permanent/home/makrai/project/verb-tensor/pyconll/tensor/0to4/ktensor_iact_sali_1000_4.pkl'\n",
      "WARNING  [69] [Errno 2] No such file or directory: '/mnt/permanent/home/makrai/project/verb-tensor/pyconll/tensor/0to4/ktensor_iact_sali_1000_8.pkl'\n",
      "WARNING  [69] [Errno 2] No such file or directory: '/mnt/permanent/home/makrai/project/verb-tensor/pyconll/tensor/0to4/ktensor_iact_sali_1000_16.pkl'\n",
      "WARNING  [69] [Errno 2] No such file or directory: '/mnt/permanent/home/makrai/project/verb-tensor/pyconll/tensor/0to4/ktensor_iact_sali_1000_32.pkl'\n",
      "WARNING  [69] [Errno 2] No such file or directory: '/mnt/permanent/home/makrai/project/verb-tensor/pyconll/tensor/0to4/ktensor_iact_sali_1000_256.pkl'\n",
      "INFO     [56] Testing dice_sali..\n",
      "WARNING  [69] [Errno 2] No such file or directory: '/mnt/permanent/home/makrai/project/verb-tensor/pyconll/tensor/0to4/ktensor_dice_sali_1000_2.pkl'\n",
      "WARNING  [69] [Errno 2] No such file or directory: '/mnt/permanent/home/makrai/project/verb-tensor/pyconll/tensor/0to4/ktensor_dice_sali_1000_4.pkl'\n",
      "WARNING  [69] [Errno 2] No such file or directory: '/mnt/permanent/home/makrai/project/verb-tensor/pyconll/tensor/0to4/ktensor_dice_sali_1000_8.pkl'\n",
      "WARNING  [69] [Errno 2] No such file or directory: '/mnt/permanent/home/makrai/project/verb-tensor/pyconll/tensor/0to4/ktensor_dice_sali_1000_16.pkl'\n",
      "WARNING  [69] [Errno 2] No such file or directory: '/mnt/permanent/home/makrai/project/verb-tensor/pyconll/tensor/0to4/ktensor_dice_sali_1000_32.pkl'\n",
      "WARNING  [69] [Errno 2] No such file or directory: '/mnt/permanent/home/makrai/project/verb-tensor/pyconll/tensor/0to4/ktensor_dice_sali_1000_256.pkl'\n"
     ]
    }
   ],
   "source": [
    "simlex_subj = test_sim(simlex, mode_to_test='nsubj', cutoff=cutoff)"
   ]
  },
  {
   "cell_type": "code",
   "execution_count": 32,
   "metadata": {},
   "outputs": [],
   "source": [
    "simlex_subj = df_columns_from_filen(simlex_subj, col='SimLex999')"
   ]
  },
  {
   "cell_type": "code",
   "execution_count": 33,
   "metadata": {},
   "outputs": [
    {
     "name": "stderr",
     "output_type": "stream",
     "text": [
      "INFO     [46] Assuming df is SimLex\n",
      "INFO     [56] Testing log_freq..\n",
      "WARNING  [69] [Errno 2] No such file or directory: '/mnt/permanent/home/makrai/project/verb-tensor/pyconll/tensor/0to4/ktensor_log_freq_1000_16.pkl'\n",
      "WARNING  [69] [Errno 2] No such file or directory: '/mnt/permanent/home/makrai/project/verb-tensor/pyconll/tensor/0to4/ktensor_log_freq_1000_32.pkl'\n",
      "WARNING  [69] [Errno 2] No such file or directory: '/mnt/permanent/home/makrai/project/verb-tensor/pyconll/tensor/0to4/ktensor_log_freq_1000_256.pkl'\n",
      "INFO     [56] Testing pmi_vanl..\n",
      "WARNING  [69] [Errno 2] No such file or directory: '/mnt/permanent/home/makrai/project/verb-tensor/pyconll/tensor/0to4/ktensor_pmi_1000_2.pkl'\n",
      "WARNING  [69] [Errno 2] No such file or directory: '/mnt/permanent/home/makrai/project/verb-tensor/pyconll/tensor/0to4/ktensor_pmi_1000_4.pkl'\n",
      "WARNING  [69] [Errno 2] No such file or directory: '/mnt/permanent/home/makrai/project/verb-tensor/pyconll/tensor/0to4/ktensor_pmi_1000_8.pkl'\n",
      "WARNING  [69] [Errno 2] No such file or directory: '/mnt/permanent/home/makrai/project/verb-tensor/pyconll/tensor/0to4/ktensor_pmi_1000_16.pkl'\n",
      "WARNING  [69] [Errno 2] No such file or directory: '/mnt/permanent/home/makrai/project/verb-tensor/pyconll/tensor/0to4/ktensor_pmi_1000_32.pkl'\n",
      "WARNING  [69] [Errno 2] No such file or directory: '/mnt/permanent/home/makrai/project/verb-tensor/pyconll/tensor/0to4/ktensor_pmi_1000_256.pkl'\n",
      "INFO     [56] Testing iact_vanl..\n",
      "WARNING  [69] [Errno 2] No such file or directory: '/mnt/permanent/home/makrai/project/verb-tensor/pyconll/tensor/0to4/ktensor_iact_info_1000_2.pkl'\n",
      "WARNING  [69] [Errno 2] No such file or directory: '/mnt/permanent/home/makrai/project/verb-tensor/pyconll/tensor/0to4/ktensor_iact_info_1000_4.pkl'\n",
      "WARNING  [69] [Errno 2] No such file or directory: '/mnt/permanent/home/makrai/project/verb-tensor/pyconll/tensor/0to4/ktensor_iact_info_1000_8.pkl'\n",
      "WARNING  [69] [Errno 2] No such file or directory: '/mnt/permanent/home/makrai/project/verb-tensor/pyconll/tensor/0to4/ktensor_iact_info_1000_16.pkl'\n",
      "WARNING  [69] [Errno 2] No such file or directory: '/mnt/permanent/home/makrai/project/verb-tensor/pyconll/tensor/0to4/ktensor_iact_info_1000_32.pkl'\n",
      "WARNING  [69] [Errno 2] No such file or directory: '/mnt/permanent/home/makrai/project/verb-tensor/pyconll/tensor/0to4/ktensor_iact_info_1000_256.pkl'\n",
      "INFO     [56] Testing dice_vanl..\n",
      "WARNING  [69] [Errno 2] No such file or directory: '/mnt/permanent/home/makrai/project/verb-tensor/pyconll/tensor/0to4/ktensor_log_dice_1000_2.pkl'\n",
      "WARNING  [69] [Errno 2] No such file or directory: '/mnt/permanent/home/makrai/project/verb-tensor/pyconll/tensor/0to4/ktensor_log_dice_1000_4.pkl'\n",
      "WARNING  [69] [Errno 2] No such file or directory: '/mnt/permanent/home/makrai/project/verb-tensor/pyconll/tensor/0to4/ktensor_log_dice_1000_8.pkl'\n",
      "WARNING  [69] [Errno 2] No such file or directory: '/mnt/permanent/home/makrai/project/verb-tensor/pyconll/tensor/0to4/ktensor_log_dice_1000_16.pkl'\n",
      "WARNING  [69] [Errno 2] No such file or directory: '/mnt/permanent/home/makrai/project/verb-tensor/pyconll/tensor/0to4/ktensor_log_dice_1000_32.pkl'\n",
      "WARNING  [69] [Errno 2] No such file or directory: '/mnt/permanent/home/makrai/project/verb-tensor/pyconll/tensor/0to4/ktensor_log_dice_1000_256.pkl'\n",
      "INFO     [56] Testing pmi_norm..\n",
      "WARNING  [69] [Errno 2] No such file or directory: '/mnt/permanent/home/makrai/project/verb-tensor/pyconll/tensor/0to4/ktensor_npmi_1000_2.pkl'\n",
      "WARNING  [69] [Errno 2] No such file or directory: '/mnt/permanent/home/makrai/project/verb-tensor/pyconll/tensor/0to4/ktensor_npmi_1000_4.pkl'\n",
      "WARNING  [69] [Errno 2] No such file or directory: '/mnt/permanent/home/makrai/project/verb-tensor/pyconll/tensor/0to4/ktensor_npmi_1000_8.pkl'\n",
      "WARNING  [69] [Errno 2] No such file or directory: '/mnt/permanent/home/makrai/project/verb-tensor/pyconll/tensor/0to4/ktensor_npmi_1000_16.pkl'\n",
      "WARNING  [69] [Errno 2] No such file or directory: '/mnt/permanent/home/makrai/project/verb-tensor/pyconll/tensor/0to4/ktensor_npmi_1000_32.pkl'\n",
      "WARNING  [69] [Errno 2] No such file or directory: '/mnt/permanent/home/makrai/project/verb-tensor/pyconll/tensor/0to4/ktensor_npmi_1000_256.pkl'\n",
      "INFO     [56] Testing iact_norm..\n",
      "WARNING  [69] [Errno 2] No such file or directory: '/mnt/permanent/home/makrai/project/verb-tensor/pyconll/tensor/0to4/ktensor_niact_1000_2.pkl'\n",
      "WARNING  [69] [Errno 2] No such file or directory: '/mnt/permanent/home/makrai/project/verb-tensor/pyconll/tensor/0to4/ktensor_niact_1000_4.pkl'\n",
      "WARNING  [69] [Errno 2] No such file or directory: '/mnt/permanent/home/makrai/project/verb-tensor/pyconll/tensor/0to4/ktensor_niact_1000_8.pkl'\n",
      "WARNING  [69] [Errno 2] No such file or directory: '/mnt/permanent/home/makrai/project/verb-tensor/pyconll/tensor/0to4/ktensor_niact_1000_16.pkl'\n",
      "WARNING  [69] [Errno 2] No such file or directory: '/mnt/permanent/home/makrai/project/verb-tensor/pyconll/tensor/0to4/ktensor_niact_1000_32.pkl'\n",
      "WARNING  [69] [Errno 2] No such file or directory: '/mnt/permanent/home/makrai/project/verb-tensor/pyconll/tensor/0to4/ktensor_niact_1000_128.pkl'\n",
      "WARNING  [69] [Errno 2] No such file or directory: '/mnt/permanent/home/makrai/project/verb-tensor/pyconll/tensor/0to4/ktensor_niact_1000_256.pkl'\n",
      "INFO     [56] Testing pmi_sali..\n",
      "WARNING  [69] [Errno 2] No such file or directory: '/mnt/permanent/home/makrai/project/verb-tensor/pyconll/tensor/0to4/ktensor_salience_1000_2.pkl'\n",
      "WARNING  [69] [Errno 2] No such file or directory: '/mnt/permanent/home/makrai/project/verb-tensor/pyconll/tensor/0to4/ktensor_salience_1000_4.pkl'\n",
      "WARNING  [69] [Errno 2] No such file or directory: '/mnt/permanent/home/makrai/project/verb-tensor/pyconll/tensor/0to4/ktensor_salience_1000_8.pkl'\n",
      "WARNING  [69] [Errno 2] No such file or directory: '/mnt/permanent/home/makrai/project/verb-tensor/pyconll/tensor/0to4/ktensor_salience_1000_16.pkl'\n",
      "WARNING  [69] [Errno 2] No such file or directory: '/mnt/permanent/home/makrai/project/verb-tensor/pyconll/tensor/0to4/ktensor_salience_1000_32.pkl'\n",
      "WARNING  [69] [Errno 2] No such file or directory: '/mnt/permanent/home/makrai/project/verb-tensor/pyconll/tensor/0to4/ktensor_salience_1000_256.pkl'\n",
      "INFO     [56] Testing iact_sali..\n",
      "WARNING  [69] [Errno 2] No such file or directory: '/mnt/permanent/home/makrai/project/verb-tensor/pyconll/tensor/0to4/ktensor_iact_sali_1000_2.pkl'\n",
      "WARNING  [69] [Errno 2] No such file or directory: '/mnt/permanent/home/makrai/project/verb-tensor/pyconll/tensor/0to4/ktensor_iact_sali_1000_4.pkl'\n",
      "WARNING  [69] [Errno 2] No such file or directory: '/mnt/permanent/home/makrai/project/verb-tensor/pyconll/tensor/0to4/ktensor_iact_sali_1000_8.pkl'\n",
      "WARNING  [69] [Errno 2] No such file or directory: '/mnt/permanent/home/makrai/project/verb-tensor/pyconll/tensor/0to4/ktensor_iact_sali_1000_16.pkl'\n",
      "WARNING  [69] [Errno 2] No such file or directory: '/mnt/permanent/home/makrai/project/verb-tensor/pyconll/tensor/0to4/ktensor_iact_sali_1000_32.pkl'\n",
      "WARNING  [69] [Errno 2] No such file or directory: '/mnt/permanent/home/makrai/project/verb-tensor/pyconll/tensor/0to4/ktensor_iact_sali_1000_256.pkl'\n",
      "INFO     [56] Testing dice_sali..\n",
      "WARNING  [69] [Errno 2] No such file or directory: '/mnt/permanent/home/makrai/project/verb-tensor/pyconll/tensor/0to4/ktensor_dice_sali_1000_2.pkl'\n",
      "WARNING  [69] [Errno 2] No such file or directory: '/mnt/permanent/home/makrai/project/verb-tensor/pyconll/tensor/0to4/ktensor_dice_sali_1000_4.pkl'\n",
      "WARNING  [69] [Errno 2] No such file or directory: '/mnt/permanent/home/makrai/project/verb-tensor/pyconll/tensor/0to4/ktensor_dice_sali_1000_8.pkl'\n",
      "WARNING  [69] [Errno 2] No such file or directory: '/mnt/permanent/home/makrai/project/verb-tensor/pyconll/tensor/0to4/ktensor_dice_sali_1000_16.pkl'\n",
      "WARNING  [69] [Errno 2] No such file or directory: '/mnt/permanent/home/makrai/project/verb-tensor/pyconll/tensor/0to4/ktensor_dice_sali_1000_32.pkl'\n",
      "WARNING  [69] [Errno 2] No such file or directory: '/mnt/permanent/home/makrai/project/verb-tensor/pyconll/tensor/0to4/ktensor_dice_sali_1000_256.pkl'\n"
     ]
    }
   ],
   "source": [
    "simlex_obj = test_sim(simlex, mode_to_test='dobj', cutoff=cutoff)"
   ]
  },
  {
   "cell_type": "code",
   "execution_count": 34,
   "metadata": {},
   "outputs": [],
   "source": [
    "simlex_obj = df_columns_from_filen(simlex_obj, col='SimLex999')"
   ]
  },
  {
   "cell_type": "code",
   "execution_count": 35,
   "metadata": {},
   "outputs": [],
   "source": [
    "# weights = pd.unique(simverb_res.weight)\n",
    "\n",
    "def plot_results(df0, col='sim', save_filen=''):#else ''\n",
    "    \n",
    "    #df0 = df0[df0.rank_ ==128]            \n",
    "    weights = pd.unique(df0.sort_values(col, ascending=False).weight)\n",
    "    for weight in weights:\n",
    "        df = df0[df0.weight==weight].sort_values('rank_')\n",
    "        plt.plot(df.rank_, df[col])#, c=color)\n",
    "    #plt.xscale('log')\n",
    "    _ = plt.legend(weights)\n",
    "    if save_filen:\n",
    "        #plt.rc('text', usetex = True)\n",
    "        #plt.figure(1, figsize = (3, 2))#6, 4))\n",
    "        #plt.savefig('/home/makrai/repo/paper/LREC20/verbtensor/img/{}'.format(save_filen))\n",
    "        filen = '/home/makrai/repo/paper/Coling2020/verbtensor/img/{}.png'.format(save_filen)\n",
    "        plt.savefig(filen)"
   ]
  },
  {
   "cell_type": "code",
   "execution_count": 37,
   "metadata": {},
   "outputs": [
    {
     "data": {
      "image/png": "[encoded data removed]",
      "text/plain": [
       "<Figure size 1440x720 with 1 Axes>"
      ]
     },
     "metadata": {
      "needs_background": "light"
     },
     "output_type": "display_data"
    }
   ],
   "source": [
    "plot_results(simverb_res)#, save_filen='SimVerb')"
   ]
  },
  {
   "cell_type": "code",
   "execution_count": 38,
   "metadata": {},
   "outputs": [
    {
     "data": {
      "image/png": "[encoded data removed]",
      "text/plain": [
       "<Figure size 1440x720 with 1 Axes>"
      ]
     },
     "metadata": {
      "needs_background": "light"
     },
     "output_type": "display_data"
    }
   ],
   "source": [
    "plot_results(simlex_subj, col='SimLex999')#, save_filen='simLex-subj')"
   ]
  },
  {
   "cell_type": "code",
   "execution_count": 39,
   "metadata": {},
   "outputs": [
    {
     "data": {
      "image/png": "[encoded data removed]",
      "text/plain": [
       "<Figure size 1440x720 with 1 Axes>"
      ]
     },
     "metadata": {
      "needs_background": "light"
     },
     "output_type": "display_data"
    }
   ],
   "source": [
    "plot_results(simlex_obj, col='SimLex999')#, save_filen='simLex-obj')"
   ]
  },
  {
   "cell_type": "markdown",
   "metadata": {},
   "source": [
    "# 2 SVO triples (_al et_ Sadrzadeh 2011--2014)\n",
    "\n",
    "## 2.1 Datasets\n",
    "\n",
    "  * [GS’11](http://www.cs.ox.ac.uk/activities/compdistmeaning/GS2011data.txt) provided by Grefenstette and Sadrzadeh (EMNLP 2011)\n",
    "      * each verb pair takes the same subject and object\n",
    "      * the task has an aspect of a verb sense disambiguation \n",
    "          * As discussed in previous work\n",
    "            (Kartsaklis and Sadrzadeh, 2013; Milajevs+ 2014; Polajnar+ 2014), GS’11\n",
    "      * For example, the transitive verb “run” is known as polysemous: operate/move\n",
    "        * “run” and “operate” are similar when subj = “people” and obj = “company”\n",
    "        * In the same [context, not similar to] “move”\n",
    "  * ML’10 provided by Mitchell and Lapata (2010),\n",
    "    * pairs of verb-object phrases and\n",
    "  * KS’13 provided by Kartsaklis and Sadrzadeh (2013)\n",
    "    * complements ML’10 by incorporating an appropriate subject for each VO\n",
    "  * KS’14 provided by [Kartsaklis and Sadrzadeh (2014)](https://arxiv.org/abs/1405.2874)\n",
    "    * reannotated version of KS’13 using a cloud sourcing service\n",
    "  * the latter three require one to capture the topical similarity\n",
    "    rather than the disambiguation aspect (Polajnar+ 2014)"
   ]
  },
  {
   "cell_type": "code",
   "execution_count": 40,
   "metadata": {},
   "outputs": [],
   "source": [
    "verb_sim_data_dir = '/mnt/permanent/Language/English/Data/verb-similarity/Sadrzadeh/'"
   ]
  },
  {
   "cell_type": "code",
   "execution_count": 41,
   "metadata": {},
   "outputs": [],
   "source": [
    "def read_sim_data(filen):\n",
    "    return pd.read_csv(os.path.join(verb_sim_data_dir, filen), sep=' ')"
   ]
  },
  {
   "cell_type": "markdown",
   "metadata": {},
   "source": [
    "### 2.1.1 Pairs of SVO triples with the same but ambiguous verb (GS11)"
   ]
  },
  {
   "cell_type": "code",
   "execution_count": 42,
   "metadata": {},
   "outputs": [
    {
     "name": "stdout",
     "output_type": "stream",
     "text": [
      "(200, 1)\n"
     ]
    },
    {
     "data": {
      "text/html": [
       "<div>\n",
       "<style scoped>\n",
       "    .dataframe tbody tr th:only-of-type {\n",
       "        vertical-align: middle;\n",
       "    }\n",
       "\n",
       "    .dataframe tbody tr th {\n",
       "        vertical-align: top;\n",
       "    }\n",
       "\n",
       "    .dataframe thead th {\n",
       "        text-align: right;\n",
       "    }\n",
       "</style>\n",
       "<table border=\"1\" class=\"dataframe\">\n",
       "  <thead>\n",
       "    <tr style=\"text-align: right;\">\n",
       "      <th></th>\n",
       "      <th></th>\n",
       "      <th></th>\n",
       "      <th></th>\n",
       "      <th></th>\n",
       "      <th>input</th>\n",
       "    </tr>\n",
       "    <tr>\n",
       "      <th>verb</th>\n",
       "      <th>subject</th>\n",
       "      <th>object</th>\n",
       "      <th>landmark</th>\n",
       "      <th>hilo</th>\n",
       "      <th></th>\n",
       "    </tr>\n",
       "  </thead>\n",
       "  <tbody>\n",
       "    <tr>\n",
       "      <th rowspan=\"5\" valign=\"top\">accept</th>\n",
       "      <th rowspan=\"4\" valign=\"top\">government</th>\n",
       "      <th rowspan=\"2\" valign=\"top\">proposal</th>\n",
       "      <th>bear</th>\n",
       "      <th>LOW</th>\n",
       "      <td>2.666667</td>\n",
       "    </tr>\n",
       "    <tr>\n",
       "      <th>receive</th>\n",
       "      <th>HIGH</th>\n",
       "      <td>2.583333</td>\n",
       "    </tr>\n",
       "    <tr>\n",
       "      <th rowspan=\"2\" valign=\"top\">recommendation</th>\n",
       "      <th>bear</th>\n",
       "      <th>LOW</th>\n",
       "      <td>3.500000</td>\n",
       "    </tr>\n",
       "    <tr>\n",
       "      <th>receive</th>\n",
       "      <th>HIGH</th>\n",
       "      <td>3.333333</td>\n",
       "    </tr>\n",
       "    <tr>\n",
       "      <th>lawyer</th>\n",
       "      <th>conviction</th>\n",
       "      <th>bear</th>\n",
       "      <th>LOW</th>\n",
       "      <td>3.333333</td>\n",
       "    </tr>\n",
       "  </tbody>\n",
       "</table>\n",
       "</div>"
      ],
      "text/plain": [
       "                                                   input\n",
       "verb   subject    object         landmark hilo          \n",
       "accept government proposal       bear     LOW   2.666667\n",
       "                                 receive  HIGH  2.583333\n",
       "                  recommendation bear     LOW   3.500000\n",
       "                                 receive  HIGH  3.333333\n",
       "       lawyer     conviction     bear     LOW   3.333333"
      ]
     },
     "execution_count": 42,
     "metadata": {},
     "output_type": "execute_result"
    }
   ],
   "source": [
    "gs11 = read_sim_data('GS2011data.txt').groupby(['verb', 'subject', 'object', 'landmark', 'hilo']).mean()\n",
    "print(gs11.shape)\n",
    "gs11.head()"
   ]
  },
  {
   "cell_type": "code",
   "execution_count": 43,
   "metadata": {},
   "outputs": [
    {
     "data": {
      "text/html": [
       "<div>\n",
       "<style scoped>\n",
       "    .dataframe tbody tr th:only-of-type {\n",
       "        vertical-align: middle;\n",
       "    }\n",
       "\n",
       "    .dataframe tbody tr th {\n",
       "        vertical-align: top;\n",
       "    }\n",
       "\n",
       "    .dataframe thead th {\n",
       "        text-align: right;\n",
       "    }\n",
       "</style>\n",
       "<table border=\"1\" class=\"dataframe\">\n",
       "  <thead>\n",
       "    <tr style=\"text-align: right;\">\n",
       "      <th></th>\n",
       "      <th></th>\n",
       "      <th></th>\n",
       "      <th></th>\n",
       "      <th></th>\n",
       "      <th></th>\n",
       "      <th></th>\n",
       "      <th>annotator_score</th>\n",
       "    </tr>\n",
       "    <tr>\n",
       "      <th>sentence_id</th>\n",
       "      <th>adj_subj</th>\n",
       "      <th>subj</th>\n",
       "      <th>landmark</th>\n",
       "      <th>verb</th>\n",
       "      <th>adj_obj</th>\n",
       "      <th>obj</th>\n",
       "      <th></th>\n",
       "    </tr>\n",
       "  </thead>\n",
       "  <tbody>\n",
       "    <tr>\n",
       "      <th>1</th>\n",
       "      <th>statistical</th>\n",
       "      <th>table</th>\n",
       "      <th>show</th>\n",
       "      <th>express</th>\n",
       "      <th>good</th>\n",
       "      <th>result</th>\n",
       "      <td>6.06</td>\n",
       "    </tr>\n",
       "    <tr>\n",
       "      <th>2</th>\n",
       "      <th>statistical</th>\n",
       "      <th>table</th>\n",
       "      <th>show</th>\n",
       "      <th>depict</th>\n",
       "      <th>good</th>\n",
       "      <th>result</th>\n",
       "      <td>5.90</td>\n",
       "    </tr>\n",
       "    <tr>\n",
       "      <th>3</th>\n",
       "      <th>recent</th>\n",
       "      <th>study</th>\n",
       "      <th>show</th>\n",
       "      <th>express</th>\n",
       "      <th>significant</th>\n",
       "      <th>correlation</th>\n",
       "      <td>5.72</td>\n",
       "    </tr>\n",
       "    <tr>\n",
       "      <th>4</th>\n",
       "      <th>recent</th>\n",
       "      <th>study</th>\n",
       "      <th>show</th>\n",
       "      <th>depict</th>\n",
       "      <th>significant</th>\n",
       "      <th>correlation</th>\n",
       "      <td>5.92</td>\n",
       "    </tr>\n",
       "    <tr>\n",
       "      <th>5</th>\n",
       "      <th>annual</th>\n",
       "      <th>figure</th>\n",
       "      <th>show</th>\n",
       "      <th>express</th>\n",
       "      <th>substantial</th>\n",
       "      <th>increase</th>\n",
       "      <td>5.74</td>\n",
       "    </tr>\n",
       "  </tbody>\n",
       "</table>\n",
       "</div>"
      ],
      "text/plain": [
       "                                                                         annotator_score\n",
       "sentence_id adj_subj    subj   landmark verb    adj_obj     obj                         \n",
       "1           statistical table  show     express good        result                  6.06\n",
       "2           statistical table  show     depict  good        result                  5.90\n",
       "3           recent      study  show     express significant correlation             5.72\n",
       "4           recent      study  show     depict  significant correlation             5.92\n",
       "5           annual      figure show     express substantial increase                5.74"
      ]
     },
     "execution_count": 43,
     "metadata": {},
     "output_type": "execute_result"
    }
   ],
   "source": [
    "cols = ['sentence_id', 'adj_subj', 'subj', 'landmark', 'verb', 'adj_obj', 'obj']\n",
    "gs12 = read_sim_data('GS2012data.txt').groupby(cols).mean().drop(columns=['annotator_id'])\n",
    "gs12.head()"
   ]
  },
  {
   "cell_type": "code",
   "execution_count": 44,
   "metadata": {},
   "outputs": [
    {
     "data": {
      "text/html": [
       "<div>\n",
       "<style scoped>\n",
       "    .dataframe tbody tr th:only-of-type {\n",
       "        vertical-align: middle;\n",
       "    }\n",
       "\n",
       "    .dataframe tbody tr th {\n",
       "        vertical-align: top;\n",
       "    }\n",
       "\n",
       "    .dataframe thead th {\n",
       "        text-align: right;\n",
       "    }\n",
       "</style>\n",
       "<table border=\"1\" class=\"dataframe\">\n",
       "  <thead>\n",
       "    <tr style=\"text-align: right;\">\n",
       "      <th></th>\n",
       "      <th></th>\n",
       "      <th></th>\n",
       "      <th></th>\n",
       "      <th></th>\n",
       "      <th></th>\n",
       "      <th></th>\n",
       "      <th>annotator_score</th>\n",
       "    </tr>\n",
       "    <tr>\n",
       "      <th>sentence_id</th>\n",
       "      <th>adj_subj</th>\n",
       "      <th>subj</th>\n",
       "      <th>landmark</th>\n",
       "      <th>verb</th>\n",
       "      <th>adj_obj</th>\n",
       "      <th>obj</th>\n",
       "      <th></th>\n",
       "    </tr>\n",
       "  </thead>\n",
       "  <tbody>\n",
       "    <tr>\n",
       "      <th>1</th>\n",
       "      <th>private</th>\n",
       "      <th>company</th>\n",
       "      <th>file</th>\n",
       "      <th>register</th>\n",
       "      <th>annual</th>\n",
       "      <th>account</th>\n",
       "      <td>5.441860</td>\n",
       "    </tr>\n",
       "    <tr>\n",
       "      <th>2</th>\n",
       "      <th>private</th>\n",
       "      <th>company</th>\n",
       "      <th>file</th>\n",
       "      <th>smooth</th>\n",
       "      <th>annual</th>\n",
       "      <th>account</th>\n",
       "      <td>2.302326</td>\n",
       "    </tr>\n",
       "    <tr>\n",
       "      <th>3</th>\n",
       "      <th>young</th>\n",
       "      <th>woman</th>\n",
       "      <th>file</th>\n",
       "      <th>register</th>\n",
       "      <th>long</th>\n",
       "      <th>nail</th>\n",
       "      <td>2.069767</td>\n",
       "    </tr>\n",
       "    <tr>\n",
       "      <th>4</th>\n",
       "      <th>young</th>\n",
       "      <th>woman</th>\n",
       "      <th>file</th>\n",
       "      <th>smooth</th>\n",
       "      <th>long</th>\n",
       "      <th>nail</th>\n",
       "      <td>5.023256</td>\n",
       "    </tr>\n",
       "    <tr>\n",
       "      <th>5</th>\n",
       "      <th>local</th>\n",
       "      <th>government</th>\n",
       "      <th>file</th>\n",
       "      <th>register</th>\n",
       "      <th>criminal</th>\n",
       "      <th>charge</th>\n",
       "      <td>5.441860</td>\n",
       "    </tr>\n",
       "  </tbody>\n",
       "</table>\n",
       "</div>"
      ],
      "text/plain": [
       "                                                                    annotator_score\n",
       "sentence_id adj_subj subj       landmark verb     adj_obj  obj                     \n",
       "1           private  company    file     register annual   account         5.441860\n",
       "2           private  company    file     smooth   annual   account         2.302326\n",
       "3           young    woman      file     register long     nail            2.069767\n",
       "4           young    woman      file     smooth   long     nail            5.023256\n",
       "5           local    government file     register criminal charge          5.441860"
      ]
     },
     "execution_count": 44,
     "metadata": {},
     "output_type": "execute_result"
    }
   ],
   "source": [
    "cols = ['sentence_id', 'adj_subj', 'subj', 'landmark', 'verb', 'adj_obj', 'obj']\n",
    "gsk13 = read_sim_data('pickering-judgements.txt').groupby(cols).mean().drop(columns=['annotator_id'])\n",
    "gsk13.head()"
   ]
  },
  {
   "cell_type": "code",
   "execution_count": 45,
   "metadata": {},
   "outputs": [
    {
     "name": "stdout",
     "output_type": "stream",
     "text": [
      "(108, 1)\n"
     ]
    },
    {
     "data": {
      "text/html": [
       "<div>\n",
       "<style scoped>\n",
       "    .dataframe tbody tr th:only-of-type {\n",
       "        vertical-align: middle;\n",
       "    }\n",
       "\n",
       "    .dataframe tbody tr th {\n",
       "        vertical-align: top;\n",
       "    }\n",
       "\n",
       "    .dataframe thead th {\n",
       "        text-align: right;\n",
       "    }\n",
       "</style>\n",
       "<table border=\"1\" class=\"dataframe\">\n",
       "  <thead>\n",
       "    <tr style=\"text-align: right;\">\n",
       "      <th></th>\n",
       "      <th></th>\n",
       "      <th></th>\n",
       "      <th></th>\n",
       "      <th></th>\n",
       "      <th></th>\n",
       "      <th>score</th>\n",
       "    </tr>\n",
       "    <tr>\n",
       "      <th>subject1</th>\n",
       "      <th>verb1</th>\n",
       "      <th>object1</th>\n",
       "      <th>subject2</th>\n",
       "      <th>verb2</th>\n",
       "      <th>object2</th>\n",
       "      <th></th>\n",
       "    </tr>\n",
       "  </thead>\n",
       "  <tbody>\n",
       "    <tr>\n",
       "      <th rowspan=\"2\" valign=\"top\">agent</th>\n",
       "      <th rowspan=\"2\" valign=\"top\">sell</th>\n",
       "      <th rowspan=\"2\" valign=\"top\">property</th>\n",
       "      <th>family</th>\n",
       "      <th>buy</th>\n",
       "      <th>home</th>\n",
       "      <td>2.777778</td>\n",
       "    </tr>\n",
       "    <tr>\n",
       "      <th>group</th>\n",
       "      <th>hold</th>\n",
       "      <th>meeting</th>\n",
       "      <td>1.666667</td>\n",
       "    </tr>\n",
       "    <tr>\n",
       "      <th rowspan=\"3\" valign=\"top\">author</th>\n",
       "      <th rowspan=\"3\" valign=\"top\">write</th>\n",
       "      <th rowspan=\"3\" valign=\"top\">book</th>\n",
       "      <th>delegate</th>\n",
       "      <th>buy</th>\n",
       "      <th>land</th>\n",
       "      <td>1.500000</td>\n",
       "    </tr>\n",
       "    <tr>\n",
       "      <th>man</th>\n",
       "      <th>hear</th>\n",
       "      <th>word</th>\n",
       "      <td>2.055556</td>\n",
       "    </tr>\n",
       "    <tr>\n",
       "      <th>writer</th>\n",
       "      <th>read</th>\n",
       "      <th>word</th>\n",
       "      <td>2.777778</td>\n",
       "    </tr>\n",
       "  </tbody>\n",
       "</table>\n",
       "</div>"
      ],
      "text/plain": [
       "                                                   score\n",
       "subject1 verb1 object1  subject2 verb2 object2          \n",
       "agent    sell  property family   buy   home     2.777778\n",
       "                        group    hold  meeting  1.666667\n",
       "author   write book     delegate buy   land     1.500000\n",
       "                        man      hear  word     2.055556\n",
       "                        writer   read  word     2.777778"
      ]
     },
     "execution_count": 45,
     "metadata": {},
     "output_type": "execute_result"
    }
   ],
   "source": [
    "cols = ['subject1', 'verb1', 'object1', 'subject2', 'verb2', 'object2']\n",
    "ks13_mitchell = read_sim_data('emnlp2013_ml.txt').groupby(cols).mean()\n",
    "print(ks13_mitchell.shape)\n",
    "ks13_mitchell.head()"
   ]
  },
  {
   "cell_type": "code",
   "execution_count": 46,
   "metadata": {},
   "outputs": [],
   "source": [
    "def get_cols(i):\n",
    "    return ['subject{}'.format(i), 'verb{}'.format(i), 'object{}'.format(i)]\n",
    "\n",
    "def get_one_sent_from_pair(i):\n",
    "    df = ks13_mitchell.reset_index()[get_cols(i)]\n",
    "    df.columns = get_cols('')\n",
    "    return df\n",
    "\n",
    "ks13_long = pd.concat(get_one_sent_from_pair(i) for i in [1, 2])\n",
    "ks13_long = ks13_long.drop_duplicates()"
   ]
  },
  {
   "cell_type": "markdown",
   "metadata": {},
   "source": [
    "### 2.1.2 Kartsaklis and Sadrzadeh, Turk"
   ]
  },
  {
   "cell_type": "code",
   "execution_count": 47,
   "metadata": {},
   "outputs": [
    {
     "data": {
      "text/html": [
       "<div>\n",
       "<style scoped>\n",
       "    .dataframe tbody tr th:only-of-type {\n",
       "        vertical-align: middle;\n",
       "    }\n",
       "\n",
       "    .dataframe tbody tr th {\n",
       "        vertical-align: top;\n",
       "    }\n",
       "\n",
       "    .dataframe thead th {\n",
       "        text-align: right;\n",
       "    }\n",
       "</style>\n",
       "<table border=\"1\" class=\"dataframe\">\n",
       "  <thead>\n",
       "    <tr style=\"text-align: right;\">\n",
       "      <th></th>\n",
       "      <th>subject1</th>\n",
       "      <th>verb1</th>\n",
       "      <th>object1</th>\n",
       "      <th>subject2</th>\n",
       "      <th>verb2</th>\n",
       "      <th>object2</th>\n",
       "      <th>score</th>\n",
       "    </tr>\n",
       "  </thead>\n",
       "  <tbody>\n",
       "    <tr>\n",
       "      <th>0</th>\n",
       "      <td>agent</td>\n",
       "      <td>sell</td>\n",
       "      <td>property</td>\n",
       "      <td>family</td>\n",
       "      <td>buy</td>\n",
       "      <td>home</td>\n",
       "      <td>3.125000</td>\n",
       "    </tr>\n",
       "    <tr>\n",
       "      <th>1</th>\n",
       "      <td>agent</td>\n",
       "      <td>sell</td>\n",
       "      <td>property</td>\n",
       "      <td>group</td>\n",
       "      <td>hold</td>\n",
       "      <td>meeting</td>\n",
       "      <td>1.166667</td>\n",
       "    </tr>\n",
       "    <tr>\n",
       "      <th>2</th>\n",
       "      <td>author</td>\n",
       "      <td>write</td>\n",
       "      <td>book</td>\n",
       "      <td>delegate</td>\n",
       "      <td>buy</td>\n",
       "      <td>land</td>\n",
       "      <td>1.130435</td>\n",
       "    </tr>\n",
       "    <tr>\n",
       "      <th>3</th>\n",
       "      <td>author</td>\n",
       "      <td>write</td>\n",
       "      <td>book</td>\n",
       "      <td>man</td>\n",
       "      <td>hear</td>\n",
       "      <td>word</td>\n",
       "      <td>1.640000</td>\n",
       "    </tr>\n",
       "    <tr>\n",
       "      <th>4</th>\n",
       "      <td>author</td>\n",
       "      <td>write</td>\n",
       "      <td>book</td>\n",
       "      <td>writer</td>\n",
       "      <td>read</td>\n",
       "      <td>word</td>\n",
       "      <td>3.166667</td>\n",
       "    </tr>\n",
       "  </tbody>\n",
       "</table>\n",
       "</div>"
      ],
      "text/plain": [
       "  subject1  verb1   object1  subject2 verb2  object2     score\n",
       "0    agent   sell  property    family   buy     home  3.125000\n",
       "1    agent   sell  property     group  hold  meeting  1.166667\n",
       "2   author  write      book  delegate   buy     land  1.130435\n",
       "3   author  write      book       man  hear     word  1.640000\n",
       "4   author  write      book    writer  read     word  3.166667"
      ]
     },
     "execution_count": 47,
     "metadata": {},
     "output_type": "execute_result"
    }
   ],
   "source": [
    "cols = ['subject1', 'verb1', 'object1', 'subject2', 'verb2', 'object2']\n",
    "ks13_turk = read_sim_data('emnlp2013_turk.txt').groupby(cols).mean().drop(columns=['annotator']).reset_index()\n",
    "ks13_turk.head()"
   ]
  },
  {
   "cell_type": "markdown",
   "metadata": {},
   "source": [
    "### 2.1.3 [Verb prediction task by Jenatton+ (NIPS 2012)](https://everest.hds.utc.fr/doku.php?id=en:lfmnips12)"
   ]
  },
  {
   "cell_type": "code",
   "execution_count": 48,
   "metadata": {},
   "outputs": [],
   "source": [
    "dataset_dir = '/mnt/permanent/Language/English/Data/verb-similarity/SVO-tensor-dataset/'\n",
    "def get_index(pos):\n",
    "    with open(os.path.join(dataset_dir, 'svo-{}s.lst'.format(pos))) as infile:\n",
    "        return {i+1: ' '.join(line.strip().split('_')[2:-1]) for i, line in enumerate(infile)}"
   ]
  },
  {
   "cell_type": "code",
   "execution_count": 49,
   "metadata": {},
   "outputs": [],
   "source": [
    "svo_df = pd.read_csv(os.path.join(dataset_dir, 'svo_data_train_1000000.dat'), sep='\\t', header=None, \n",
    "                     names=['subject', 'verb', 'object'])"
   ]
  },
  {
   "cell_type": "code",
   "execution_count": 50,
   "metadata": {},
   "outputs": [],
   "source": [
    "index_verb = get_index('verb')\n",
    "index_noun = get_index('noun')"
   ]
  },
  {
   "cell_type": "code",
   "execution_count": 51,
   "metadata": {},
   "outputs": [],
   "source": [
    "svo_df.subject = svo_df.subject.apply(index_noun.get)\n",
    "svo_df.verb = svo_df.verb.apply(index_verb.get)\n",
    "svo_df.object = svo_df.object.apply(index_noun.get)"
   ]
  },
  {
   "cell_type": "code",
   "execution_count": 52,
   "metadata": {},
   "outputs": [
    {
     "data": {
      "text/html": [
       "<div>\n",
       "<style scoped>\n",
       "    .dataframe tbody tr th:only-of-type {\n",
       "        vertical-align: middle;\n",
       "    }\n",
       "\n",
       "    .dataframe tbody tr th {\n",
       "        vertical-align: top;\n",
       "    }\n",
       "\n",
       "    .dataframe thead th {\n",
       "        text-align: right;\n",
       "    }\n",
       "</style>\n",
       "<table border=\"1\" class=\"dataframe\">\n",
       "  <thead>\n",
       "    <tr style=\"text-align: right;\">\n",
       "      <th></th>\n",
       "      <th>subject</th>\n",
       "      <th>verb</th>\n",
       "      <th>object</th>\n",
       "    </tr>\n",
       "  </thead>\n",
       "  <tbody>\n",
       "    <tr>\n",
       "      <th>0</th>\n",
       "      <td>man</td>\n",
       "      <td>swipe</td>\n",
       "      <td>credit card</td>\n",
       "    </tr>\n",
       "    <tr>\n",
       "      <th>1</th>\n",
       "      <td>george westinghouse</td>\n",
       "      <td>illuminate</td>\n",
       "      <td>exposition</td>\n",
       "    </tr>\n",
       "    <tr>\n",
       "      <th>2</th>\n",
       "      <td>personality</td>\n",
       "      <td>vanish</td>\n",
       "      <td>moment</td>\n",
       "    </tr>\n",
       "    <tr>\n",
       "      <th>3</th>\n",
       "      <td>fable</td>\n",
       "      <td>highlight</td>\n",
       "      <td>role</td>\n",
       "    </tr>\n",
       "    <tr>\n",
       "      <th>4</th>\n",
       "      <td>secretion</td>\n",
       "      <td>call</td>\n",
       "      <td>surfactant</td>\n",
       "    </tr>\n",
       "    <tr>\n",
       "      <th>5</th>\n",
       "      <td>device</td>\n",
       "      <td>store</td>\n",
       "      <td>multimedia</td>\n",
       "    </tr>\n",
       "    <tr>\n",
       "      <th>6</th>\n",
       "      <td>diversity</td>\n",
       "      <td>base</td>\n",
       "      <td>engineering</td>\n",
       "    </tr>\n",
       "    <tr>\n",
       "      <th>7</th>\n",
       "      <td>troop</td>\n",
       "      <td>destroy</td>\n",
       "      <td>weather station</td>\n",
       "    </tr>\n",
       "    <tr>\n",
       "      <th>8</th>\n",
       "      <td>flute</td>\n",
       "      <td>include</td>\n",
       "      <td>vein</td>\n",
       "    </tr>\n",
       "    <tr>\n",
       "      <th>9</th>\n",
       "      <td>complication</td>\n",
       "      <td>relate</td>\n",
       "      <td>emphysema</td>\n",
       "    </tr>\n",
       "  </tbody>\n",
       "</table>\n",
       "</div>"
      ],
      "text/plain": [
       "               subject        verb           object\n",
       "0                  man       swipe      credit card\n",
       "1  george westinghouse  illuminate       exposition\n",
       "2          personality      vanish           moment\n",
       "3                fable   highlight             role\n",
       "4            secretion        call       surfactant\n",
       "5               device       store       multimedia\n",
       "6            diversity        base      engineering\n",
       "7                troop     destroy  weather station\n",
       "8                flute     include             vein\n",
       "9         complication      relate        emphysema"
      ]
     },
     "execution_count": 52,
     "metadata": {},
     "output_type": "execute_result"
    }
   ],
   "source": [
    "svo_df.head(10)"
   ]
  },
  {
   "cell_type": "markdown",
   "metadata": {},
   "source": [
    "## 2.2 Similarity (KS Turk)"
   ]
  },
  {
   "cell_type": "code",
   "execution_count": 54,
   "metadata": {},
   "outputs": [
    {
     "name": "stderr",
     "output_type": "stream",
     "text": [
      "INFO     [31] Assuming df is Kartsaklis and Sadrzadeh Turk\n",
      "INFO     [56] Testing log_freq..\n",
      "WARNING  [69] [Errno 2] No such file or directory: '/mnt/permanent/home/makrai/project/verb-tensor/pyconll/tensor/0to4/ktensor_log_freq_1000_16.pkl'\n",
      "WARNING  [69] [Errno 2] No such file or directory: '/mnt/permanent/home/makrai/project/verb-tensor/pyconll/tensor/0to4/ktensor_log_freq_1000_32.pkl'\n",
      "WARNING  [69] [Errno 2] No such file or directory: '/mnt/permanent/home/makrai/project/verb-tensor/pyconll/tensor/0to4/ktensor_log_freq_1000_256.pkl'\n",
      "INFO     [56] Testing pmi_vanl..\n",
      "WARNING  [69] [Errno 2] No such file or directory: '/mnt/permanent/home/makrai/project/verb-tensor/pyconll/tensor/0to4/ktensor_pmi_1000_2.pkl'\n",
      "WARNING  [69] [Errno 2] No such file or directory: '/mnt/permanent/home/makrai/project/verb-tensor/pyconll/tensor/0to4/ktensor_pmi_1000_4.pkl'\n",
      "WARNING  [69] [Errno 2] No such file or directory: '/mnt/permanent/home/makrai/project/verb-tensor/pyconll/tensor/0to4/ktensor_pmi_1000_8.pkl'\n",
      "WARNING  [69] [Errno 2] No such file or directory: '/mnt/permanent/home/makrai/project/verb-tensor/pyconll/tensor/0to4/ktensor_pmi_1000_16.pkl'\n",
      "WARNING  [69] [Errno 2] No such file or directory: '/mnt/permanent/home/makrai/project/verb-tensor/pyconll/tensor/0to4/ktensor_pmi_1000_32.pkl'\n",
      "WARNING  [69] [Errno 2] No such file or directory: '/mnt/permanent/home/makrai/project/verb-tensor/pyconll/tensor/0to4/ktensor_pmi_1000_256.pkl'\n",
      "INFO     [56] Testing iact_vanl..\n",
      "WARNING  [69] [Errno 2] No such file or directory: '/mnt/permanent/home/makrai/project/verb-tensor/pyconll/tensor/0to4/ktensor_iact_info_1000_2.pkl'\n",
      "WARNING  [69] [Errno 2] No such file or directory: '/mnt/permanent/home/makrai/project/verb-tensor/pyconll/tensor/0to4/ktensor_iact_info_1000_4.pkl'\n",
      "WARNING  [69] [Errno 2] No such file or directory: '/mnt/permanent/home/makrai/project/verb-tensor/pyconll/tensor/0to4/ktensor_iact_info_1000_8.pkl'\n",
      "WARNING  [69] [Errno 2] No such file or directory: '/mnt/permanent/home/makrai/project/verb-tensor/pyconll/tensor/0to4/ktensor_iact_info_1000_16.pkl'\n",
      "WARNING  [69] [Errno 2] No such file or directory: '/mnt/permanent/home/makrai/project/verb-tensor/pyconll/tensor/0to4/ktensor_iact_info_1000_32.pkl'\n",
      "WARNING  [69] [Errno 2] No such file or directory: '/mnt/permanent/home/makrai/project/verb-tensor/pyconll/tensor/0to4/ktensor_iact_info_1000_256.pkl'\n",
      "INFO     [56] Testing dice_vanl..\n",
      "WARNING  [69] [Errno 2] No such file or directory: '/mnt/permanent/home/makrai/project/verb-tensor/pyconll/tensor/0to4/ktensor_log_dice_1000_2.pkl'\n",
      "WARNING  [69] [Errno 2] No such file or directory: '/mnt/permanent/home/makrai/project/verb-tensor/pyconll/tensor/0to4/ktensor_log_dice_1000_4.pkl'\n",
      "WARNING  [69] [Errno 2] No such file or directory: '/mnt/permanent/home/makrai/project/verb-tensor/pyconll/tensor/0to4/ktensor_log_dice_1000_8.pkl'\n",
      "WARNING  [69] [Errno 2] No such file or directory: '/mnt/permanent/home/makrai/project/verb-tensor/pyconll/tensor/0to4/ktensor_log_dice_1000_16.pkl'\n",
      "WARNING  [69] [Errno 2] No such file or directory: '/mnt/permanent/home/makrai/project/verb-tensor/pyconll/tensor/0to4/ktensor_log_dice_1000_32.pkl'\n",
      "WARNING  [69] [Errno 2] No such file or directory: '/mnt/permanent/home/makrai/project/verb-tensor/pyconll/tensor/0to4/ktensor_log_dice_1000_256.pkl'\n",
      "INFO     [56] Testing pmi_norm..\n",
      "WARNING  [69] [Errno 2] No such file or directory: '/mnt/permanent/home/makrai/project/verb-tensor/pyconll/tensor/0to4/ktensor_npmi_1000_2.pkl'\n",
      "WARNING  [69] [Errno 2] No such file or directory: '/mnt/permanent/home/makrai/project/verb-tensor/pyconll/tensor/0to4/ktensor_npmi_1000_4.pkl'\n",
      "WARNING  [69] [Errno 2] No such file or directory: '/mnt/permanent/home/makrai/project/verb-tensor/pyconll/tensor/0to4/ktensor_npmi_1000_8.pkl'\n",
      "WARNING  [69] [Errno 2] No such file or directory: '/mnt/permanent/home/makrai/project/verb-tensor/pyconll/tensor/0to4/ktensor_npmi_1000_16.pkl'\n",
      "WARNING  [69] [Errno 2] No such file or directory: '/mnt/permanent/home/makrai/project/verb-tensor/pyconll/tensor/0to4/ktensor_npmi_1000_32.pkl'\n",
      "WARNING  [69] [Errno 2] No such file or directory: '/mnt/permanent/home/makrai/project/verb-tensor/pyconll/tensor/0to4/ktensor_npmi_1000_256.pkl'\n",
      "INFO     [56] Testing iact_norm..\n",
      "WARNING  [69] [Errno 2] No such file or directory: '/mnt/permanent/home/makrai/project/verb-tensor/pyconll/tensor/0to4/ktensor_niact_1000_2.pkl'\n",
      "WARNING  [69] [Errno 2] No such file or directory: '/mnt/permanent/home/makrai/project/verb-tensor/pyconll/tensor/0to4/ktensor_niact_1000_4.pkl'\n",
      "WARNING  [69] [Errno 2] No such file or directory: '/mnt/permanent/home/makrai/project/verb-tensor/pyconll/tensor/0to4/ktensor_niact_1000_8.pkl'\n",
      "WARNING  [69] [Errno 2] No such file or directory: '/mnt/permanent/home/makrai/project/verb-tensor/pyconll/tensor/0to4/ktensor_niact_1000_16.pkl'\n",
      "WARNING  [69] [Errno 2] No such file or directory: '/mnt/permanent/home/makrai/project/verb-tensor/pyconll/tensor/0to4/ktensor_niact_1000_32.pkl'\n",
      "WARNING  [69] [Errno 2] No such file or directory: '/mnt/permanent/home/makrai/project/verb-tensor/pyconll/tensor/0to4/ktensor_niact_1000_128.pkl'\n",
      "WARNING  [69] [Errno 2] No such file or directory: '/mnt/permanent/home/makrai/project/verb-tensor/pyconll/tensor/0to4/ktensor_niact_1000_256.pkl'\n",
      "INFO     [56] Testing pmi_sali..\n",
      "WARNING  [69] [Errno 2] No such file or directory: '/mnt/permanent/home/makrai/project/verb-tensor/pyconll/tensor/0to4/ktensor_salience_1000_2.pkl'\n",
      "WARNING  [69] [Errno 2] No such file or directory: '/mnt/permanent/home/makrai/project/verb-tensor/pyconll/tensor/0to4/ktensor_salience_1000_4.pkl'\n",
      "WARNING  [69] [Errno 2] No such file or directory: '/mnt/permanent/home/makrai/project/verb-tensor/pyconll/tensor/0to4/ktensor_salience_1000_8.pkl'\n",
      "WARNING  [69] [Errno 2] No such file or directory: '/mnt/permanent/home/makrai/project/verb-tensor/pyconll/tensor/0to4/ktensor_salience_1000_16.pkl'\n",
      "WARNING  [69] [Errno 2] No such file or directory: '/mnt/permanent/home/makrai/project/verb-tensor/pyconll/tensor/0to4/ktensor_salience_1000_32.pkl'\n",
      "WARNING  [69] [Errno 2] No such file or directory: '/mnt/permanent/home/makrai/project/verb-tensor/pyconll/tensor/0to4/ktensor_salience_1000_256.pkl'\n",
      "INFO     [56] Testing iact_sali..\n",
      "WARNING  [69] [Errno 2] No such file or directory: '/mnt/permanent/home/makrai/project/verb-tensor/pyconll/tensor/0to4/ktensor_iact_sali_1000_2.pkl'\n",
      "WARNING  [69] [Errno 2] No such file or directory: '/mnt/permanent/home/makrai/project/verb-tensor/pyconll/tensor/0to4/ktensor_iact_sali_1000_4.pkl'\n",
      "WARNING  [69] [Errno 2] No such file or directory: '/mnt/permanent/home/makrai/project/verb-tensor/pyconll/tensor/0to4/ktensor_iact_sali_1000_8.pkl'\n",
      "WARNING  [69] [Errno 2] No such file or directory: '/mnt/permanent/home/makrai/project/verb-tensor/pyconll/tensor/0to4/ktensor_iact_sali_1000_16.pkl'\n",
      "WARNING  [69] [Errno 2] No such file or directory: '/mnt/permanent/home/makrai/project/verb-tensor/pyconll/tensor/0to4/ktensor_iact_sali_1000_32.pkl'\n",
      "WARNING  [69] [Errno 2] No such file or directory: '/mnt/permanent/home/makrai/project/verb-tensor/pyconll/tensor/0to4/ktensor_iact_sali_1000_256.pkl'\n",
      "INFO     [56] Testing dice_sali..\n",
      "WARNING  [69] [Errno 2] No such file or directory: '/mnt/permanent/home/makrai/project/verb-tensor/pyconll/tensor/0to4/ktensor_dice_sali_1000_2.pkl'\n",
      "WARNING  [69] [Errno 2] No such file or directory: '/mnt/permanent/home/makrai/project/verb-tensor/pyconll/tensor/0to4/ktensor_dice_sali_1000_4.pkl'\n",
      "WARNING  [69] [Errno 2] No such file or directory: '/mnt/permanent/home/makrai/project/verb-tensor/pyconll/tensor/0to4/ktensor_dice_sali_1000_8.pkl'\n",
      "WARNING  [69] [Errno 2] No such file or directory: '/mnt/permanent/home/makrai/project/verb-tensor/pyconll/tensor/0to4/ktensor_dice_sali_1000_16.pkl'\n",
      "WARNING  [69] [Errno 2] No such file or directory: '/mnt/permanent/home/makrai/project/verb-tensor/pyconll/tensor/0to4/ktensor_dice_sali_1000_32.pkl'\n",
      "WARNING  [69] [Errno 2] No such file or directory: '/mnt/permanent/home/makrai/project/verb-tensor/pyconll/tensor/0to4/ktensor_dice_sali_1000_256.pkl'\n"
     ]
    }
   ],
   "source": [
    "df = test_sim(ks13_turk, mode_to_test='svo', cutoff=cutoff)"
   ]
  },
  {
   "cell_type": "code",
   "execution_count": 55,
   "metadata": {},
   "outputs": [],
   "source": [
    "df = df_columns_from_filen(df, col='score')"
   ]
  },
  {
   "cell_type": "code",
   "execution_count": 57,
   "metadata": {},
   "outputs": [
    {
     "data": {
      "image/png": "[encoded data removed]",
      "text/plain": [
       "<Figure size 1440x720 with 1 Axes>"
      ]
     },
     "metadata": {
      "needs_background": "light"
     },
     "output_type": "display_data"
    }
   ],
   "source": [
    "plot_results(df, col='score')#, save_filen='svo')"
   ]
  },
  {
   "cell_type": "markdown",
   "metadata": {},
   "source": [
    "## 2.3 Verb prediction"
   ]
  },
  {
   "cell_type": "code",
   "execution_count": null,
   "metadata": {},
   "outputs": [],
   "source": [
    "from eval_tensor import predict_verb"
   ]
  },
  {
   "cell_type": "code",
   "execution_count": null,
   "metadata": {},
   "outputs": [],
   "source": [
    "def for_weight_and_rank(max_exp_plus_one=7):\n",
    "    for weight in ['log_freq', 'pmi', 'iact_info', 'salience', 'iact_sali', 'log_dice', 'dice_sali']:\n",
    "        logging.info(weight)\n",
    "        for exp in range(3, max_exp_plus_one):\n",
    "            rank = 2 ** exp\n",
    "            logging.info('\\t{}'.format(rank))\n",
    "            try:\n",
    "                predict_verb(svo_df, weight, rank)\n",
    "            except FileNotFoundError as e:\n",
    "                logging.warning(e)"
   ]
  },
  {
   "cell_type": "code",
   "execution_count": null,
   "metadata": {},
   "outputs": [],
   "source": [
    "%time for_weight_and_rank()"
   ]
  },
  {
   "cell_type": "markdown",
   "metadata": {},
   "source": [
    "With 44 k $\\times$ 9 k $\\times$ 39 k-s tenosor:\n",
    "\n",
    "|assoc measure|rank|verb|\n",
    "|-|-|-|\n",
    "|pmi|256|318|\n",
    "|salience|128|318|\n",
    "|log-Dice|128|270|"
   ]
  },
  {
   "cell_type": "code",
   "execution_count": null,
   "metadata": {},
   "outputs": [],
   "source": [
    "svo_sim.sum(numeric_only=True).sort_values(ascending=False).head()/svo_sim.shape[0]"
   ]
  },
  {
   "cell_type": "markdown",
   "metadata": {},
   "source": [
    "|verb|`* 1`|`* lmbda`|\n",
    "|----|--|------|\n",
    "|unnorm|130|**272**|\n",
    "|norm|0|24|"
   ]
  },
  {
   "cell_type": "markdown",
   "metadata": {},
   "source": [
    "Majoroty baseline..."
   ]
  },
  {
   "cell_type": "code",
   "execution_count": null,
   "metadata": {},
   "outputs": [],
   "source": [
    "target = 'verb'\n",
    "svo_sim.groupby(target).size().sort_values()/svo_sim.shape[0]"
   ]
  },
  {
   "cell_type": "markdown",
   "metadata": {},
   "source": [
    "## Attic: Exploring GS11"
   ]
  },
  {
   "cell_type": "code",
   "execution_count": null,
   "metadata": {},
   "outputs": [],
   "source": [
    "svo_sim = gs11.reset_index()"
   ]
  },
  {
   "cell_type": "code",
   "execution_count": null,
   "metadata": {},
   "outputs": [],
   "source": [
    "svo_sim.hilo = (svo_sim=='HIGH').astype(int)"
   ]
  },
  {
   "cell_type": "code",
   "execution_count": null,
   "metadata": {},
   "outputs": [],
   "source": [
    "cols_ordered = [\"subject\", \"verb\", \"landmark\", \"object\", \"input\", \"hilo\"]"
   ]
  },
  {
   "cell_type": "code",
   "execution_count": null,
   "metadata": {},
   "outputs": [],
   "source": [
    "svo_sim[cols_ordered].head()"
   ]
  },
  {
   "cell_type": "code",
   "execution_count": null,
   "metadata": {},
   "outputs": [],
   "source": [
    "svo_sim.groupby('landmark').size().sort_values(ascending=False)"
   ]
  },
  {
   "cell_type": "code",
   "execution_count": null,
   "metadata": {},
   "outputs": [],
   "source": [
    "svo_sim.groupby('verb').size().sort_values(ascending=False)"
   ]
  },
  {
   "cell_type": "code",
   "execution_count": null,
   "metadata": {},
   "outputs": [],
   "source": [
    "svo_sim.describe(percentiles=[])"
   ]
  },
  {
   "cell_type": "code",
   "execution_count": null,
   "metadata": {},
   "outputs": [],
   "source": [
    "svo_sim.corr(method='spearman')"
   ]
  }
 ],
 "metadata": {
  "kernelspec": {
   "display_name": "Python 3",
   "language": "python",
   "name": "python3"
  },
  "language_info": {
   "codemirror_mode": {
    "name": "ipython",
    "version": 3
   },
   "file_extension": ".py",
   "mimetype": "text/x-python",
   "name": "python",
   "nbconvert_exporter": "python",
   "pygments_lexer": "ipython3",
   "version": "3.7.6"
  }
 },
 "nbformat": 4,
 "nbformat_minor": 2
}
