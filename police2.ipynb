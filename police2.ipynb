{
 "cells": [
  {
   "cell_type": "code",
   "execution_count": 1,
   "metadata": {},
   "outputs": [
    {
     "name": "stderr",
     "output_type": "stream",
     "text": [
      "DEBUG    [211] Loaded backend module://ipykernel.pylab.backend_inline version unknown.\n"
     ]
    }
   ],
   "source": [
    "import pickle\n",
    "\n",
    "import numpy as np\n",
    "import sktensor\n",
    "\n",
    "from verbtensor import VerbTensorDecomposition\n",
    "\n",
    "import logging\n",
    "logging.basicConfig(level=logging.INFO, \n",
    "                    format='%(msecs)d %(levelname)-8s [%(lineno)d] %(message)s')"
   ]
  },
  {
   "cell_type": "code",
   "execution_count": 2,
   "metadata": {},
   "outputs": [],
   "source": [
    "comp = VerbTensorDecomposition(False, 2**15, 100)"
   ]
  },
  {
   "cell_type": "markdown",
   "metadata": {},
   "source": [
    "# Sparse"
   ]
  },
  {
   "cell_type": "code",
   "execution_count": 3,
   "metadata": {},
   "outputs": [
    {
     "name": "stderr",
     "output_type": "stream",
     "text": [
      "INFO     [65] Reading mazsola...\n",
      "INFO     [76] 0%\n",
      "INFO     [76] 2%\n",
      "INFO     [76] 4%\n",
      "INFO     [76] 5%\n",
      "INFO     [76] 7%\n",
      "WARNING  [85] a k ... @@@@@ i ... b ... @@@ meg . stem@@megnull NOM@@B\n",
      "INFO     [76] 9%\n",
      "INFO     [76] 11%\n",
      "INFO     [76] 13%\n",
      "INFO     [76] 14%\n",
      "INFO     [76] 16%\n",
      "INFO     [76] 18%\n",
      "INFO     [76] 20%\n",
      "INFO     [76] 21%\n",
      "INFO     [76] 23%\n",
      "INFO     [76] 25%\n",
      "INFO     [76] 27%\n",
      "INFO     [76] 29%\n",
      "INFO     [76] 30%\n",
      "INFO     [76] 32%\n",
      "INFO     [76] 34%\n",
      "INFO     [76] 36%\n",
      "INFO     [76] 38%\n",
      "INFO     [76] 39%\n",
      "INFO     [76] 41%\n",
      "INFO     [76] 43%\n",
      "INFO     [76] 45%\n",
      "WARNING  [85] . . . . . . &gt; ..*@#################### ########################* &raquo; . . . . &gt; ***** &gt; * &gt; ** &gt; . . . . . . . . . . . . . &gt; @#################### ########################* &raquo; . &raquo; . . . . . . &raquo; . . . . . . . . . . &raquo; ...%#################### ########################% . &gt; . . . . . . . &gt; oo%%@@o@%%o &gt; . . . . . . &raquo; . . . . &gt; @################### ########################@ &raquo; . &raquo; *@@@%%%o%%o%* &raquo; . . . . &raquo; . . . . &gt; *@################## ######################### &gt; . . . . &raquo; *%@@@@%@@@@o &gt; . . . . . &raquo; . . . . . .*%@################## stem@@NULL\n",
      "WARNING  [85] . . . . . . &gt; ..*@#################### ########################* &raquo; . . . . &gt; ***** &gt; * &gt; ** &gt; . . . . . . . . . . . . . &gt; @#################### ########################* &raquo; . &raquo; . . . . . . &raquo; . . . . . . . . . . &raquo; ...%#################### ########################% . &gt; . . . . . . . &gt; oo%%@@o@%%o &gt; . . . . . . &raquo; . . . . &gt; @################### ########################@ &raquo; . &raquo; *@@@%%%o%%o%* &raquo; . . . . &raquo; . . . . &gt; *@################## ######################### &gt; . . . . &raquo; *%@@@@%@@@@o &gt; . . . . . &raquo; . . . . . .*%@################## stem@@NULL\n",
      "INFO     [76] 46%\n",
      "INFO     [76] 48%\n",
      "WARNING  [85] Hasogat a nicknamem ! meg egyébként is WWKJHHGGDTSKHJJ ! ! ! @@@@ ) ) ) stem@@hasogat\n",
      "INFO     [76] 50%\n",
      "INFO     [76] 52%\n",
      "INFO     [76] 54%\n",
      "INFO     [76] 55%\n",
      "INFO     [76] 57%\n",
      "INFO     [76] 59%\n",
      "INFO     [76] 61%\n",
      "INFO     [76] 63%\n",
      "INFO     [76] 64%\n",
      "INFO     [76] 66%\n",
      "INFO     [76] 68%\n",
      "INFO     [76] 70%\n",
      "INFO     [76] 72%\n",
      "INFO     [76] 73%\n",
      "INFO     [76] 75%\n",
      "INFO     [76] 77%\n",
      "INFO     [76] 79%\n",
      "WARNING  [85] Namegegyszer ************** &raquo; * &gt; ** &raquo; * &raquo; * &raquo; ********************** ************** &raquo; * &raquo; *** &gt; ** &raquo; ** &raquo; *** &raquo; *************** *********** &raquo; * &raquo; * &gt; ********oo%@##@@%oo*** &gt; * &raquo; *** &raquo; **************** ******** &raquo; ** &gt; * &raquo; * &gt; ***o%@####################@@o &raquo; ** &raquo; * &raquo; * &gt; * &raquo; ********** ******* &raquo; **o@@##########################@%o* &gt; ** &raquo; * &gt; * &raquo; ********* **** &gt; ** &raquo; **@#################################@%** &raquo; * &raquo; ******* ** &raquo; *o@####################################@** &raquo; * &raquo; ****** &raquo; *@#######################################@@o &raquo; * &raquo; o##########################################@* &raquo; * &raquo; * &raquo; &raquo; @############################################%** &raquo; &raquo; *@#############################################oo &raquo; * &raquo; &raquo; *o##############################################@@ &raquo; &raquo; *@#########@@@@@@@@@%@#@#######@#@##############@@* &raquo; &raquo; @#########%%oo*** &raquo; *ooo**ooooooooo%@############* &raquo; &raquo; *@#########%oo*** &raquo; . &raquo; ***o%%@@#########@ &raquo; &raquo; o#########@%o**** &raquo; . &raquo; **oo%%@@#########* &raquo; &raquo; *%##########%o*** &raquo; **oo%@@#########* &raquo; &raquo; . &raquo; .. &gt; o#########@o**** &raquo; **oo%@@########%* &raquo; &raquo; . . . . . . . . . &raquo; @########@o*** &raquo; .. &raquo; **oo%%@########%* &raquo; &raquo; . . . . &gt; . . . . . . &gt; %#######@%oo***** &raquo; . . . . . . &raquo; ***oo%%@######@@o** &gt; . &raquo; &raquo; . . . . . . . . . . . &gt; @#######%o%@@@@%@@@@%o* &raquo; *%%%@@@@@@@%@######%%* &raquo; . &raquo; . . . . . . . . . . . . . .o@%@##@@%oo%%%oooo%@%%%o* &raquo; *%@%%@%oo%%@@@@@@###@*o* &raquo; . . . . . . . . &raquo; . . . . . . . . . . . . . . &gt; ooo%@%o%%%o%@@@@#@%%%@%%o%%%@%%%#@@@@@%%@@@#@o*** &raquo; ... &gt; . &raquo; . &raquo; . &raquo; . . . . . . . . . . . . . . . &gt; **ooooo%%%oooooo%%%%%%%*oo@@@%%%%%oo%%%o%%o* &raquo; . . . . . . . . . . . . &raquo; . . . . . . . . . . ' . stem@@NULL\n",
      "WARNING  [85] Namegegyszer ************** &raquo; * &gt; ** &raquo; * &raquo; * &raquo; ********************** ************** &raquo; * &raquo; *** &gt; ** &raquo; ** &raquo; *** &raquo; *************** *********** &raquo; * &raquo; * &gt; ********oo%@##@@%oo*** &gt; * &raquo; *** &raquo; **************** ******** &raquo; ** &gt; * &raquo; * &gt; ***o%@####################@@o &raquo; ** &raquo; * &raquo; * &gt; * &raquo; ********** ******* &raquo; **o@@##########################@%o* &gt; ** &raquo; * &gt; * &raquo; ********* **** &gt; ** &raquo; **@#################################@%** &raquo; * &raquo; ******* ** &raquo; *o@####################################@** &raquo; * &raquo; ****** &raquo; *@#######################################@@o &raquo; * &raquo; o##########################################@* &raquo; * &raquo; * &raquo; &raquo; @############################################%** &raquo; &raquo; *@#############################################oo &raquo; * &raquo; &raquo; *o##############################################@@ &raquo; &raquo; *@#########@@@@@@@@@%@#@#######@#@##############@@* &raquo; &raquo; @#########%%oo*** &raquo; *ooo**ooooooooo%@############* &raquo; &raquo; *@#########%oo*** &raquo; . &raquo; ***o%%@@#########@ &raquo; &raquo; o#########@%o**** &raquo; . &raquo; **oo%%@@#########* &raquo; &raquo; *%##########%o*** &raquo; **oo%@@#########* &raquo; &raquo; . &raquo; .. &gt; o#########@o**** &raquo; **oo%@@########%* &raquo; &raquo; . . . . . . . . . &raquo; @########@o*** &raquo; .. &raquo; **oo%%@########%* &raquo; &raquo; . . . . &gt; . . . . . . &gt; %#######@%oo***** &raquo; . . . . . . &raquo; ***oo%%@######@@o** &gt; . &raquo; &raquo; . . . . . . . . . . . &gt; @#######%o%@@@@%@@@@%o* &raquo; *%%%@@@@@@@%@######%%* &raquo; . &raquo; . . . . . . . . . . . . . .o@%@##@@%oo%%%oooo%@%%%o* &raquo; *%@%%@%oo%%@@@@@@###@*o* &raquo; . . . . . . . . &raquo; . . . . . . . . . . . . . . &gt; ooo%@%o%%%o%@@@@#@%%%@%%o%%%@%%%#@@@@@%%@@@#@o*** &raquo; ... &gt; . &raquo; . &raquo; . &raquo; . . . . . . . . . . . . . . . &gt; **ooooo%%%oooooo%%%%%%%*oo@@@%%%%%oo%%%o%%o* &raquo; . . . . . . . . . . . . &raquo; . . . . . . . . . . ' . stem@@NULL\n",
      "WARNING  [85] Namegegyszer ************** &raquo; * &gt; ** &raquo; * &raquo; * &raquo; ********************** ************** &raquo; * &raquo; *** &gt; ** &raquo; ** &raquo; *** &raquo; *************** *********** &raquo; * &raquo; * &gt; ********oo%@##@@%oo*** &gt; * &raquo; *** &raquo; **************** ******** &raquo; ** &gt; * &raquo; * &gt; ***o%@####################@@o &raquo; ** &raquo; * &raquo; * &gt; * &raquo; ********** ******* &raquo; **o@@##########################@%o* &gt; ** &raquo; * &gt; * &raquo; ********* **** &gt; ** &raquo; **@#################################@%** &raquo; * &raquo; ******* ** &raquo; *o@####################################@** &raquo; * &raquo; ****** &raquo; *@#######################################@@o &raquo; * &raquo; o##########################################@* &raquo; * &raquo; * &raquo; &raquo; @############################################%** &raquo; &raquo; *@#############################################oo &raquo; * &raquo; &raquo; *o##############################################@@ &raquo; &raquo; *@#########@@@@@@@@@%@#@#######@#@##############@@* &raquo; &raquo; @#########%%oo*** &raquo; *ooo**ooooooooo%@############* &raquo; &raquo; *@#########%oo*** &raquo; . &raquo; ***o%%@@#########@ &raquo; &raquo; o#########@%o**** &raquo; . &raquo; **oo%%@@#########* &raquo; &raquo; *%##########%o*** &raquo; **oo%@@#########* &raquo; &raquo; . &raquo; .. &gt; o#########@o**** &raquo; **oo%@@########%* &raquo; &raquo; . . . . . . . . . &raquo; @########@o*** &raquo; .. &raquo; **oo%%@########%* &raquo; &raquo; . . . . &gt; . . . . . . &gt; %#######@%oo***** &raquo; . . . . . . &raquo; ***oo%%@######@@o** &gt; . &raquo; &raquo; . . . . . . . . . . . &gt; @#######%o%@@@@%@@@@%o* &raquo; *%%%@@@@@@@%@######%%* &raquo; . &raquo; . . . . . . . . . . . . . .o@%@##@@%oo%%%oooo%@%%%o* &raquo; *%@%%@%oo%%@@@@@@###@*o* &raquo; . . . . . . . . &raquo; . . . . . . . . . . . . . . &gt; ooo%@%o%%%o%@@@@#@%%%@%%o%%%@%%%#@@@@@%%@@@#@o*** &raquo; ... &gt; . &raquo; . &raquo; . &raquo; . . . . . . . . . . . . . . . &gt; **ooooo%%%oooooo%%%%%%%*oo@@@%%%%%oo%%%o%%o* &raquo; . . . . . . . . . . . . &raquo; . . . . . . . . . . ' . stem@@NULL\n"
     ]
    },
    {
     "name": "stderr",
     "output_type": "stream",
     "text": [
      "WARNING  [85] Namegegyszer ************** &raquo; * &gt; ** &raquo; * &raquo; * &raquo; ********************** ************** &raquo; * &raquo; *** &gt; ** &raquo; ** &raquo; *** &raquo; *************** *********** &raquo; * &raquo; * &gt; ********oo%@##@@%oo*** &gt; * &raquo; *** &raquo; **************** ******** &raquo; ** &gt; * &raquo; * &gt; ***o%@####################@@o &raquo; ** &raquo; * &raquo; * &gt; * &raquo; ********** ******* &raquo; **o@@##########################@%o* &gt; ** &raquo; * &gt; * &raquo; ********* **** &gt; ** &raquo; **@#################################@%** &raquo; * &raquo; ******* ** &raquo; *o@####################################@** &raquo; * &raquo; ****** &raquo; *@#######################################@@o &raquo; * &raquo; o##########################################@* &raquo; * &raquo; * &raquo; &raquo; @############################################%** &raquo; &raquo; *@#############################################oo &raquo; * &raquo; &raquo; *o##############################################@@ &raquo; &raquo; *@#########@@@@@@@@@%@#@#######@#@##############@@* &raquo; &raquo; @#########%%oo*** &raquo; *ooo**ooooooooo%@############* &raquo; &raquo; *@#########%oo*** &raquo; . &raquo; ***o%%@@#########@ &raquo; &raquo; o#########@%o**** &raquo; . &raquo; **oo%%@@#########* &raquo; &raquo; *%##########%o*** &raquo; **oo%@@#########* &raquo; &raquo; . &raquo; .. &gt; o#########@o**** &raquo; **oo%@@########%* &raquo; &raquo; . . . . . . . . . &raquo; @########@o*** &raquo; .. &raquo; **oo%%@########%* &raquo; &raquo; . . . . &gt; . . . . . . &gt; %#######@%oo***** &raquo; . . . . . . &raquo; ***oo%%@######@@o** &gt; . &raquo; &raquo; . . . . . . . . . . . &gt; @#######%o%@@@@%@@@@%o* &raquo; *%%%@@@@@@@%@######%%* &raquo; . &raquo; . . . . . . . . . . . . . .o@%@##@@%oo%%%oooo%@%%%o* &raquo; *%@%%@%oo%%@@@@@@###@*o* &raquo; . . . . . . . . &raquo; . . . . . . . . . . . . . . &gt; ooo%@%o%%%o%@@@@#@%%%@%%o%%%@%%%#@@@@@%%@@@#@o*** &raquo; ... &gt; . &raquo; . &raquo; . &raquo; . . . . . . . . . . . . . . . &gt; **ooooo%%%oooooo%%%%%%%*oo@@@%%%%%oo%%%o%%o* &raquo; . . . . . . . . . . . . &raquo; . . . . . . . . . . ' . stem@@NULL\n",
      "WARNING  [85] Namegegyszer ************** &raquo; * &gt; ** &raquo; * &raquo; * &raquo; ********************** ************** &raquo; * &raquo; *** &gt; ** &raquo; ** &raquo; *** &raquo; *************** *********** &raquo; * &raquo; * &gt; ********oo%@##@@%oo*** &gt; * &raquo; *** &raquo; **************** ******** &raquo; ** &gt; * &raquo; * &gt; ***o%@####################@@o &raquo; ** &raquo; * &raquo; * &gt; * &raquo; ********** ******* &raquo; **o@@##########################@%o* &gt; ** &raquo; * &gt; * &raquo; ********* **** &gt; ** &raquo; **@#################################@%** &raquo; * &raquo; ******* ** &raquo; *o@####################################@** &raquo; * &raquo; ****** &raquo; *@#######################################@@o &raquo; * &raquo; o##########################################@* &raquo; * &raquo; * &raquo; &raquo; @############################################%** &raquo; &raquo; *@#############################################oo &raquo; * &raquo; &raquo; *o##############################################@@ &raquo; &raquo; *@#########@@@@@@@@@%@#@#######@#@##############@@* &raquo; &raquo; @#########%%oo*** &raquo; *ooo**ooooooooo%@############* &raquo; &raquo; *@#########%oo*** &raquo; . &raquo; ***o%%@@#########@ &raquo; &raquo; o#########@%o**** &raquo; . &raquo; **oo%%@@#########* &raquo; &raquo; *%##########%o*** &raquo; **oo%@@#########* &raquo; &raquo; . &raquo; .. &gt; o#########@o**** &raquo; **oo%@@########%* &raquo; &raquo; . . . . . . . . . &raquo; @########@o*** &raquo; .. &raquo; **oo%%@########%* &raquo; &raquo; . . . . &gt; . . . . . . &gt; %#######@%oo***** &raquo; . . . . . . &raquo; ***oo%%@######@@o** &gt; . &raquo; &raquo; . . . . . . . . . . . &gt; @#######%o%@@@@%@@@@%o* &raquo; *%%%@@@@@@@%@######%%* &raquo; . &raquo; . . . . . . . . . . . . . .o@%@##@@%oo%%%oooo%@%%%o* &raquo; *%@%%@%oo%%@@@@@@###@*o* &raquo; . . . . . . . . &raquo; . . . . . . . . . . . . . . &gt; ooo%@%o%%%o%@@@@#@%%%@%%o%%%@%%%#@@@@@%%@@@#@o*** &raquo; ... &gt; . &raquo; . &raquo; . &raquo; . . . . . . . . . . . . . . . &gt; **ooooo%%%oooooo%%%%%%%*oo@@@%%%%%oo%%%o%%o* &raquo; . . . . . . . . . . . . &raquo; . . . . . . . . . . ' . stem@@NULL\n",
      "INFO     [76] 80%\n",
      "INFO     [76] 82%\n",
      "WARNING  [85] '''''''''''%@#########%***ooooo%%@@@@@@@@%@@%%%%%o* . &raquo; **%############@* &raquo; . &raquo; . &gt; ''''' '.o@############%o &raquo; oo***oo%%%%%%%%%%%oooo &gt; ... &raquo; * &gt; *@###############@%o .. &gt; ''''*##################o &raquo; .. &raquo; ******ooooooo***** . stem@@NULL\n",
      "WARNING  [85] '''''''''''%@#########%***ooooo%%@@@@@@@@%@@%%%%%o* . &raquo; **%############@* &raquo; . &raquo; . &gt; ''''' '.o@############%o &raquo; oo***oo%%%%%%%%%%%oooo &gt; ... &raquo; * &gt; *@###############@%o .. &gt; ''''*##################o &raquo; .. &raquo; ******ooooooo***** . stem@@NULL\n",
      "INFO     [76] 84%\n",
      "WARNING  [85] Összezavarodtam.@@@@@@@@@@@@@@@@@@@@@@@@@@@@@@ewkuchq8tvyzfdlkutyn34czty784ya8o7sdo87v ; stem@@NULL\n",
      "WARNING  [85] ************** &raquo; * &gt; ** &raquo; * &raquo; * &raquo; ********************** ************** &raquo; * &raquo; *** &gt; ** &raquo; ** &raquo; *** &raquo; *************** *********** &raquo; * &raquo; * &gt; ********oo%@##@@%oo*** &gt; * &raquo; *** &raquo; **************** ******** &raquo; ** &gt; * &raquo; * &gt; ***o%@####################@@o &raquo; ** &raquo; * &raquo; * &gt; * &raquo; ********** ******* &raquo; **o@@##########################@%o* &gt; ** &raquo; * &gt; * &raquo; ********* **** &gt; ** &raquo; **@#################################@%** &raquo; * &raquo; ******* ** &raquo; *o@####################################@** &raquo; * &raquo; ****** &raquo; *@#######################################@@o &raquo; * &raquo; o##########################################@* &raquo; * &raquo; * &raquo; &raquo; @############################################%** &raquo; &raquo; *@#############################################oo &raquo; * &raquo; &raquo; *o##############################################@@ &raquo; &raquo; *@#########@@@@@@@@@%@#@#######@#@##############@@* &raquo; &raquo; @#########%%oo*** &raquo; *ooo**ooooooooo%@############* &raquo; &raquo; *@#########%oo*** &raquo; . &raquo; ***o%%@@#########@ &raquo; &raquo; o#########@%o**** &raquo; . &raquo; **oo%%@@#########* &raquo; &raquo; *%##########%o*** &raquo; **oo%@@#########* &raquo; &raquo; . &raquo; .. &gt; o#########@o**** &raquo; **oo%@@########%* &raquo; &raquo; . . . . . . . . . &raquo; @########@o*** &raquo; .. &raquo; **oo%%@########%* &raquo; &raquo; . . . . &gt; . . . . . . &gt; %#######@%oo***** &raquo; . . . . . . &raquo; ***oo%%@######@@o** &gt; . &raquo; &raquo; . . . . . . . . . . . &gt; @#######%o%@@@@%@@@@%o* &raquo; *%%%@@@@@@@%@######%%* &raquo; . &raquo; . . . . . . . . . . . . . .o@%@##@@%oo%%%oooo%@%%%o* &raquo; *%@%%@%oo%%@@@@@@###@*o* &raquo; . . . . . . . . &raquo; . . . . . . . . . . . . . . &gt; ooo%@%o%%%o%@@@@#@%%%@%%o%%%@%%%#@@@@@%%@@@#@o*** &raquo; ... &gt; . &raquo; . &raquo; . &raquo; . . . . . . . . . . . . . . . &gt; **ooooo%%%oooooo%%%%%%%*oo@@@%%%%%oo%%%o%%o* &raquo; . . . . . . . . . . . . &raquo; . . . . . . . . . . ' . stem@@NULL\n",
      "WARNING  [85] ************** &raquo; * &gt; ** &raquo; * &raquo; * &raquo; ********************** ************** &raquo; * &raquo; *** &gt; ** &raquo; ** &raquo; *** &raquo; *************** *********** &raquo; * &raquo; * &gt; ********oo%@##@@%oo*** &gt; * &raquo; *** &raquo; **************** ******** &raquo; ** &gt; * &raquo; * &gt; ***o%@####################@@o &raquo; ** &raquo; * &raquo; * &gt; * &raquo; ********** ******* &raquo; **o@@##########################@%o* &gt; ** &raquo; * &gt; * &raquo; ********* **** &gt; ** &raquo; **@#################################@%** &raquo; * &raquo; ******* ** &raquo; *o@####################################@** &raquo; * &raquo; ****** &raquo; *@#######################################@@o &raquo; * &raquo; o##########################################@* &raquo; * &raquo; * &raquo; &raquo; @############################################%** &raquo; &raquo; *@#############################################oo &raquo; * &raquo; &raquo; *o##############################################@@ &raquo; &raquo; *@#########@@@@@@@@@%@#@#######@#@##############@@* &raquo; &raquo; @#########%%oo*** &raquo; *ooo**ooooooooo%@############* &raquo; &raquo; *@#########%oo*** &raquo; . &raquo; ***o%%@@#########@ &raquo; &raquo; o#########@%o**** &raquo; . &raquo; **oo%%@@#########* &raquo; &raquo; *%##########%o*** &raquo; **oo%@@#########* &raquo; &raquo; . &raquo; .. &gt; o#########@o**** &raquo; **oo%@@########%* &raquo; &raquo; . . . . . . . . . &raquo; @########@o*** &raquo; .. &raquo; **oo%%@########%* &raquo; &raquo; . . . . &gt; . . . . . . &gt; %#######@%oo***** &raquo; . . . . . . &raquo; ***oo%%@######@@o** &gt; . &raquo; &raquo; . . . . . . . . . . . &gt; @#######%o%@@@@%@@@@%o* &raquo; *%%%@@@@@@@%@######%%* &raquo; . &raquo; . . . . . . . . . . . . . .o@%@##@@%oo%%%oooo%@%%%o* &raquo; *%@%%@%oo%%@@@@@@###@*o* &raquo; . . . . . . . . &raquo; . . . . . . . . . . . . . . &gt; ooo%@%o%%%o%@@@@#@%%%@%%o%%%@%%%#@@@@@%%@@@#@o*** &raquo; ... &gt; . &raquo; . &raquo; . &raquo; . . . . . . . . . . . . . . . &gt; **ooooo%%%oooooo%%%%%%%*oo@@@%%%%%oo%%%o%%o* &raquo; . . . . . . . . . . . . &raquo; . . . . . . . . . . ' . stem@@NULL\n"
     ]
    },
    {
     "name": "stderr",
     "output_type": "stream",
     "text": [
      "WARNING  [85] ************** &raquo; * &gt; ** &raquo; * &raquo; * &raquo; ********************** ************** &raquo; * &raquo; *** &gt; ** &raquo; ** &raquo; *** &raquo; *************** *********** &raquo; * &raquo; * &gt; ********oo%@##@@%oo*** &gt; * &raquo; *** &raquo; **************** ******** &raquo; ** &gt; * &raquo; * &gt; ***o%@####################@@o &raquo; ** &raquo; * &raquo; * &gt; * &raquo; ********** ******* &raquo; **o@@##########################@%o* &gt; ** &raquo; * &gt; * &raquo; ********* **** &gt; ** &raquo; **@#################################@%** &raquo; * &raquo; ******* ** &raquo; *o@####################################@** &raquo; * &raquo; ****** &raquo; *@#######################################@@o &raquo; * &raquo; o##########################################@* &raquo; * &raquo; * &raquo; &raquo; @############################################%** &raquo; &raquo; *@#############################################oo &raquo; * &raquo; &raquo; *o##############################################@@ &raquo; &raquo; *@#########@@@@@@@@@%@#@#######@#@##############@@* &raquo; &raquo; @#########%%oo*** &raquo; *ooo**ooooooooo%@############* &raquo; &raquo; *@#########%oo*** &raquo; . &raquo; ***o%%@@#########@ &raquo; &raquo; o#########@%o**** &raquo; . &raquo; **oo%%@@#########* &raquo; &raquo; *%##########%o*** &raquo; **oo%@@#########* &raquo; &raquo; . &raquo; .. &gt; o#########@o**** &raquo; **oo%@@########%* &raquo; &raquo; . . . . . . . . . &raquo; @########@o*** &raquo; .. &raquo; **oo%%@########%* &raquo; &raquo; . . . . &gt; . . . . . . &gt; %#######@%oo***** &raquo; . . . . . . &raquo; ***oo%%@######@@o** &gt; . &raquo; &raquo; . . . . . . . . . . . &gt; @#######%o%@@@@%@@@@%o* &raquo; *%%%@@@@@@@%@######%%* &raquo; . &raquo; . . . . . . . . . . . . . .o@%@##@@%oo%%%oooo%@%%%o* &raquo; *%@%%@%oo%%@@@@@@###@*o* &raquo; . . . . . . . . &raquo; . . . . . . . . . . . . . . &gt; ooo%@%o%%%o%@@@@#@%%%@%%o%%%@%%%#@@@@@%%@@@#@o*** &raquo; ... &gt; . &raquo; . &raquo; . &raquo; . . . . . . . . . . . . . . . &gt; **ooooo%%%oooooo%%%%%%%*oo@@@%%%%%oo%%%o%%o* &raquo; . . . . . . . . . . . . &raquo; . . . . . . . . . . ' . stem@@NULL\n",
      "WARNING  [85] ************** &raquo; * &gt; ** &raquo; * &raquo; * &raquo; ********************** ************** &raquo; * &raquo; *** &gt; ** &raquo; ** &raquo; *** &raquo; *************** *********** &raquo; * &raquo; * &gt; ********oo%@##@@%oo*** &gt; * &raquo; *** &raquo; **************** ******** &raquo; ** &gt; * &raquo; * &gt; ***o%@####################@@o &raquo; ** &raquo; * &raquo; * &gt; * &raquo; ********** ******* &raquo; **o@@##########################@%o* &gt; ** &raquo; * &gt; * &raquo; ********* **** &gt; ** &raquo; **@#################################@%** &raquo; * &raquo; ******* ** &raquo; *o@####################################@** &raquo; * &raquo; ****** &raquo; *@#######################################@@o &raquo; * &raquo; o##########################################@* &raquo; * &raquo; * &raquo; &raquo; @############################################%** &raquo; &raquo; *@#############################################oo &raquo; * &raquo; &raquo; *o##############################################@@ &raquo; &raquo; *@#########@@@@@@@@@%@#@#######@#@##############@@* &raquo; &raquo; @#########%%oo*** &raquo; *ooo**ooooooooo%@############* &raquo; &raquo; *@#########%oo*** &raquo; . &raquo; ***o%%@@#########@ &raquo; &raquo; o#########@%o**** &raquo; . &raquo; **oo%%@@#########* &raquo; &raquo; *%##########%o*** &raquo; **oo%@@#########* &raquo; &raquo; . &raquo; .. &gt; o#########@o**** &raquo; **oo%@@########%* &raquo; &raquo; . . . . . . . . . &raquo; @########@o*** &raquo; .. &raquo; **oo%%@########%* &raquo; &raquo; . . . . &gt; . . . . . . &gt; %#######@%oo***** &raquo; . . . . . . &raquo; ***oo%%@######@@o** &gt; . &raquo; &raquo; . . . . . . . . . . . &gt; @#######%o%@@@@%@@@@%o* &raquo; *%%%@@@@@@@%@######%%* &raquo; . &raquo; . . . . . . . . . . . . . .o@%@##@@%oo%%%oooo%@%%%o* &raquo; *%@%%@%oo%%@@@@@@###@*o* &raquo; . . . . . . . . &raquo; . . . . . . . . . . . . . . &gt; ooo%@%o%%%o%@@@@#@%%%@%%o%%%@%%%#@@@@@%%@@@#@o*** &raquo; ... &gt; . &raquo; . &raquo; . &raquo; . . . . . . . . . . . . . . . &gt; **ooooo%%%oooooo%%%%%%%*oo@@@%%%%%oo%%%o%%o* &raquo; . . . . . . . . . . . . &raquo; . . . . . . . . . . ' . stem@@NULL\n",
      "WARNING  [85] ************** &raquo; * &gt; ** &raquo; * &raquo; * &raquo; ********************** ************** &raquo; * &raquo; *** &gt; ** &raquo; ** &raquo; *** &raquo; *************** *********** &raquo; * &raquo; * &gt; ********oo%@##@@%oo*** &gt; * &raquo; *** &raquo; **************** ******** &raquo; ** &gt; * &raquo; * &gt; ***o%@####################@@o &raquo; ** &raquo; * &raquo; * &gt; * &raquo; ********** ******* &raquo; **o@@##########################@%o* &gt; ** &raquo; * &gt; * &raquo; ********* **** &gt; ** &raquo; **@#################################@%** &raquo; * &raquo; ******* ** &raquo; *o@####################################@** &raquo; * &raquo; ****** &raquo; *@#######################################@@o &raquo; * &raquo; o##########################################@* &raquo; * &raquo; * &raquo; &raquo; @############################################%** &raquo; &raquo; *@#############################################oo &raquo; * &raquo; &raquo; *o##############################################@@ &raquo; &raquo; *@#########@@@@@@@@@%@#@#######@#@##############@@* &raquo; &raquo; @#########%%oo*** &raquo; *ooo**ooooooooo%@############* &raquo; &raquo; *@#########%oo*** &raquo; . &raquo; ***o%%@@#########@ &raquo; &raquo; o#########@%o**** &raquo; . &raquo; **oo%%@@#########* &raquo; &raquo; *%##########%o*** &raquo; **oo%@@#########* &raquo; &raquo; . &raquo; .. &gt; o#########@o**** &raquo; **oo%@@########%* &raquo; &raquo; . . . . . . . . . &raquo; @########@o*** &raquo; .. &raquo; **oo%%@########%* &raquo; &raquo; . . . . &gt; . . . . . . &gt; %#######@%oo***** &raquo; . . . . . . &raquo; ***oo%%@######@@o** &gt; . &raquo; &raquo; . . . . . . . . . . . &gt; @#######%o%@@@@%@@@@%o* &raquo; *%%%@@@@@@@%@######%%* &raquo; . &raquo; . . . . . . . . . . . . . .o@%@##@@%oo%%%oooo%@%%%o* &raquo; *%@%%@%oo%%@@@@@@###@*o* &raquo; . . . . . . . . &raquo; . . . . . . . . . . . . . . &gt; ooo%@%o%%%o%@@@@#@%%%@%%o%%%@%%%#@@@@@%%@@@#@o*** &raquo; ... &gt; . &raquo; . &raquo; . &raquo; . . . . . . . . . . . . . . . &gt; **ooooo%%%oooooo%%%%%%%*oo@@@%%%%%oo%%%o%%o* &raquo; . . . . . . . . . . . . &raquo; . . . . . . . . . . ' . stem@@NULL\n",
      "INFO     [76] 86%\n",
      "INFO     [76] 88%\n",
      "INFO     [76] 89%\n",
      "WARNING  [85] . . . . . . . . . . . . . . . . . . . @@@@@@@@@@@@@@@@@@@@@@@@@@@@@@@@@@@@@@@@@@@@@ stem@@NULL\n",
      "WARNING  [85] @@@@@@@ : stem@@NULL\n",
      "WARNING  [85] @@@@@@@ : stem@@NULL\n",
      "INFO     [76] 91%\n",
      "INFO     [76] 93%\n",
      "INFO     [76] 95%\n",
      "INFO     [76] 97%\n",
      "INFO     [76] 98%\n"
     ]
    },
    {
     "ename": "TypeError",
     "evalue": "enumerate() takes at most 2 arguments (3 given)",
     "output_type": "error",
     "traceback": [
      "\u001b[0;31m---------------------------------------------------------------------------\u001b[0m",
      "\u001b[0;31mTypeError\u001b[0m                                 Traceback (most recent call last)",
      "\u001b[0;32m<ipython-input-3-e091026b862c>\u001b[0m in \u001b[0;36m<module>\u001b[0;34m\u001b[0m\n\u001b[0;32m----> 1\u001b[0;31m \u001b[0mpmi_tensor\u001b[0m\u001b[0;34m,\u001b[0m \u001b[0mindices\u001b[0m \u001b[0;34m=\u001b[0m \u001b[0mcomp\u001b[0m\u001b[0;34m.\u001b[0m\u001b[0mget_tensor\u001b[0m\u001b[0;34m(\u001b[0m\u001b[0mdivide_by_marginal\u001b[0m\u001b[0;34m=\u001b[0m\u001b[0;32mTrue\u001b[0m\u001b[0;34m,\u001b[0m \u001b[0mlog\u001b[0m\u001b[0;34m=\u001b[0m\u001b[0;32mFalse\u001b[0m\u001b[0;34m)\u001b[0m\u001b[0;34m\u001b[0m\u001b[0;34m\u001b[0m\u001b[0m\n\u001b[0m",
      "\u001b[0;32m~/repo/verb-tensor/verbtensor.py\u001b[0m in \u001b[0;36mget_tensor\u001b[0;34m(self, log, divide_by_marginal)\u001b[0m\n\u001b[1;32m    114\u001b[0m             \u001b[0mlogging\u001b[0m\u001b[0;34m.\u001b[0m\u001b[0mdebug\u001b[0m\u001b[0;34m(\u001b[0m\u001b[0mtensor\u001b[0m\u001b[0;34m.\u001b[0m\u001b[0mshape\u001b[0m\u001b[0;34m)\u001b[0m\u001b[0;34m\u001b[0m\u001b[0;34m\u001b[0m\u001b[0m\n\u001b[1;32m    115\u001b[0m             \u001b[0;32mreturn\u001b[0m \u001b[0mtensor\u001b[0m\u001b[0;34m,\u001b[0m \u001b[0mindices\u001b[0m\u001b[0;34m\u001b[0m\u001b[0;34m\u001b[0m\u001b[0m\n\u001b[0;32m--> 116\u001b[0;31m         \u001b[0moccurrence\u001b[0m\u001b[0;34m,\u001b[0m \u001b[0mmarginals\u001b[0m \u001b[0;34m=\u001b[0m \u001b[0mself\u001b[0m\u001b[0;34m.\u001b[0m\u001b[0mmazsola_reader\u001b[0m\u001b[0;34m(\u001b[0m\u001b[0;34m)\u001b[0m\u001b[0;34m\u001b[0m\u001b[0;34m\u001b[0m\u001b[0m\n\u001b[0m\u001b[1;32m    117\u001b[0m         \u001b[0mcoords\u001b[0m\u001b[0;34m,\u001b[0m \u001b[0mdata\u001b[0m \u001b[0;34m=\u001b[0m \u001b[0mtuple\u001b[0m\u001b[0;34m(\u001b[0m\u001b[0;34m[\u001b[0m\u001b[0;34m]\u001b[0m \u001b[0;32mfor\u001b[0m \u001b[0m_\u001b[0m \u001b[0;32min\u001b[0m \u001b[0mrange\u001b[0m\u001b[0;34m(\u001b[0m\u001b[0mself\u001b[0m\u001b[0;34m.\u001b[0m\u001b[0mndim\u001b[0m\u001b[0;34m)\u001b[0m\u001b[0;34m)\u001b[0m\u001b[0;34m,\u001b[0m \u001b[0;34m[\u001b[0m\u001b[0;34m]\u001b[0m\u001b[0;34m\u001b[0m\u001b[0;34m\u001b[0m\u001b[0m\n\u001b[1;32m    118\u001b[0m         \u001b[0mindices\u001b[0m \u001b[0;34m=\u001b[0m \u001b[0;34m[\u001b[0m\u001b[0mget_index\u001b[0m\u001b[0;34m(\u001b[0m\u001b[0mfd\u001b[0m\u001b[0;34m)\u001b[0m \u001b[0;32mfor\u001b[0m \u001b[0mfd\u001b[0m \u001b[0;32min\u001b[0m \u001b[0mmarginals\u001b[0m\u001b[0;34m]\u001b[0m\u001b[0;34m\u001b[0m\u001b[0;34m\u001b[0m\u001b[0m\n",
      "\u001b[0;32m~/repo/verb-tensor/verbtensor.py\u001b[0m in \u001b[0;36mmazsola_reader\u001b[0;34m(self)\u001b[0m\n\u001b[1;32m     91\u001b[0m                 \u001b[0;32mfor\u001b[0m \u001b[0mj\u001b[0m\u001b[0;34m,\u001b[0m \u001b[0mmode\u001b[0m \u001b[0;32min\u001b[0m \u001b[0menumerate\u001b[0m\u001b[0;34m(\u001b[0m\u001b[0max_names\u001b[0m\u001b[0;34m)\u001b[0m\u001b[0;34m:\u001b[0m\u001b[0;34m\u001b[0m\u001b[0;34m\u001b[0m\u001b[0m\n\u001b[1;32m     92\u001b[0m                     \u001b[0mmargianls\u001b[0m\u001b[0;34m[\u001b[0m\u001b[0mj\u001b[0m\u001b[0;34m]\u001b[0m\u001b[0;34m[\u001b[0m\u001b[0mrecord\u001b[0m\u001b[0;34m[\u001b[0m\u001b[0mmode\u001b[0m\u001b[0;34m]\u001b[0m\u001b[0;34m]\u001b[0m \u001b[0;34m+=\u001b[0m \u001b[0;36m1\u001b[0m\u001b[0;34m\u001b[0m\u001b[0;34m\u001b[0m\u001b[0m\n\u001b[0;32m---> 93\u001b[0;31m         \u001b[0;32mfor\u001b[0m \u001b[0max\u001b[0m\u001b[0;34m,\u001b[0m \u001b[0mword\u001b[0m \u001b[0;32min\u001b[0m \u001b[0menumerate\u001b[0m\u001b[0;34m(\u001b[0m\u001b[0;34m'aki'\u001b[0m\u001b[0;34m,\u001b[0m \u001b[0;34m'van'\u001b[0m\u001b[0;34m,\u001b[0m \u001b[0;34m''\u001b[0m\u001b[0;34m)\u001b[0m\u001b[0;34m:\u001b[0m\u001b[0;34m\u001b[0m\u001b[0;34m\u001b[0m\u001b[0m\n\u001b[0m\u001b[1;32m     94\u001b[0m             \u001b[0mlogging\u001b[0m\u001b[0;34m.\u001b[0m\u001b[0mdebug\u001b[0m\u001b[0;34m(\u001b[0m\u001b[0;34m(\u001b[0m\u001b[0mmargianls\u001b[0m\u001b[0;34m[\u001b[0m\u001b[0mi\u001b[0m\u001b[0;34m]\u001b[0m\u001b[0;34m[\u001b[0m\u001b[0mword\u001b[0m\u001b[0;34m]\u001b[0m\u001b[0;34m)\u001b[0m\u001b[0;34m)\u001b[0m\u001b[0;34m\u001b[0m\u001b[0;34m\u001b[0m\u001b[0m\n\u001b[1;32m     95\u001b[0m         \u001b[0mresult\u001b[0m \u001b[0;34m=\u001b[0m \u001b[0moccurrence\u001b[0m\u001b[0;34m,\u001b[0m \u001b[0mmargianls\u001b[0m\u001b[0;34m\u001b[0m\u001b[0;34m\u001b[0m\u001b[0m\n",
      "\u001b[0;31mTypeError\u001b[0m: enumerate() takes at most 2 arguments (3 given)"
     ]
    }
   ],
   "source": [
    "pmi_tensor, indices = comp.get_tensor(divide_by_marginal=True, log=False)"
   ]
  },
  {
   "cell_type": "code",
   "execution_count": 5,
   "metadata": {},
   "outputs": [
    {
     "data": {
      "text/plain": [
       "{'': 0,\n",
       " 'aki': 1,\n",
       " 'amely': 2,\n",
       " 'ember': 3,\n",
       " 'ami': 4,\n",
       " 'ez': 5,\n",
       " 'jó': 6,\n",
       " 'én': 7,\n",
       " 'szó': 8,\n",
       " 'úr': 9,\n",
       " 'kormány': 10,\n",
       " 'az': 11,\n",
       " 'mi': 12,\n",
       " 'elnök': 13,\n",
       " 'több': 14,\n",
       " 'elnökPOSS': 15,\n",
       " 'igaz': 16,\n",
       " 'kérdés': 17,\n",
       " 'senki': 18,\n",
       " 'forint': 19,\n",
       " 'vezetőPOSS': 20,\n",
       " 'dolog': 21,\n",
       " 'szükség': 22,\n",
       " 'biztos': 23}"
      ]
     },
     "execution_count": 5,
     "metadata": {},
     "output_type": "execute_result"
    }
   ],
   "source": [
    "indices[0]"
   ]
  },
  {
   "cell_type": "code",
   "execution_count": null,
   "metadata": {},
   "outputs": [],
   "source": [
    "pmi_tensor.toarray()[:3,:3,:3]"
   ]
  },
  {
   "cell_type": "code",
   "execution_count": null,
   "metadata": {},
   "outputs": [],
   "source": [
    "np.log(2.54223926e-02)"
   ]
  },
  {
   "cell_type": "code",
   "execution_count": null,
   "metadata": {},
   "outputs": [],
   "source": [
    "vocab = [dict((i, w) for w, i in indices[j].items()) for j in range(len(indices))]"
   ]
  },
  {
   "cell_type": "code",
   "execution_count": null,
   "metadata": {},
   "outputs": [],
   "source": [
    "for svo_i in zip(*np.unravel_index(np.argsort(pmi_tensor.toarray().reshape(-1)), pmi_tensor.shape)):\n",
    "    s, v, o = (vocab[ax_i][word_i] for ax_i, word_i in enumerate(svo_i))\n",
    "    if s and v and o and 'NULL' not in set([s, v, o]):\n",
    "        print(' '.join([s, v, o]))"
   ]
  },
  {
   "cell_type": "code",
   "execution_count": null,
   "metadata": {},
   "outputs": [],
   "source": [
    "sparse_tensor, index = pickle.load(open(\n",
    "    '/mnt/permanent/home/makrai/project/verb-tensor/sktensor/tensor_8.pkl', mode='rb'))"
   ]
  },
  {
   "cell_type": "code",
   "execution_count": null,
   "metadata": {},
   "outputs": [],
   "source": [
    "ktensor, fit, n_iterations, exectimes = pickle.load(open(\n",
    "    '/mnt/permanent/home/makrai/project/verb-tensor/sktensor/decomp_4_50.pkl', mode='rb'))"
   ]
  },
  {
   "cell_type": "code",
   "execution_count": null,
   "metadata": {},
   "outputs": [],
   "source": [
    "sparse_tensor.ttv(1/np.asarray(marginals[0]).reshape(-1), modes=[0])"
   ]
  },
  {
   "cell_type": "code",
   "execution_count": null,
   "metadata": {},
   "outputs": [],
   "source": [
    "i_word = [{i: w for w, i in index[j].items()} for j in range(len(index))]"
   ]
  },
  {
   "cell_type": "code",
   "execution_count": null,
   "metadata": {},
   "outputs": [],
   "source": [
    "i_word[2][0]"
   ]
  },
  {
   "cell_type": "code",
   "execution_count": null,
   "metadata": {},
   "outputs": [],
   "source": [
    "vocab = [np.array([i_word[j][i] for i in range(len(i_word[j]))]) for j in range(len(i_word))]"
   ]
  },
  {
   "cell_type": "code",
   "execution_count": null,
   "metadata": {},
   "outputs": [],
   "source": [
    "for k, j in enumerate(np.argsort(-ktensor.lmbda)):#range(ktensor.rank):#\n",
    "    print('\\n{} {}'.format(k, j))\n",
    "    for i in range(len(ktensor.U)):\n",
    "        print(vocab[i][np.argsort(ktensor.U[i][:,j])[:7]])"
   ]
  },
  {
   "cell_type": "markdown",
   "metadata": {},
   "source": [
    "# Dense"
   ]
  },
  {
   "cell_type": "code",
   "execution_count": 4,
   "metadata": {},
   "outputs": [
    {
     "name": "stderr",
     "output_type": "stream",
     "text": [
      "INFO     [63] Loading mazsola dict from /mnt/store/home/makrai/project/verb-tensor/smooth/holis/mazsola.pkl\n",
      "DEBUG    [103] [('dolog', 34161), ('szükség', 33994), ('biztos', 33689)]\n",
      "DEBUG    [103] [('készül', 33588), ('születik', 32913), ('kijelent', 32805)]\n",
      "DEBUG    [103] [('aki', 38235), ('forint', 37476), ('ő', 33640)]\n",
      "INFO     [117] Building tensor...\n",
      "INFO     [118]   Pupulating lists...\n",
      "DEBUG    [122]     0\n",
      "DEBUG    [134] 5047\n",
      "DEBUG    [137] 5047\n",
      "DEBUG    [147] 5047\n",
      "DEBUG    [122]     2,000,000\n",
      "DEBUG    [122]     4,000,000\n",
      "DEBUG    [122]     6,000,000\n",
      "INFO     [149]   Total: 5430523\n",
      "INFO     [150]   Creating array\n",
      "INFO     [152] (24, 85, 16)\n",
      "INFO     [161] <sktensor.sptensor.sptensor object at 0x7f147ccbceb8>\n"
     ]
    }
   ],
   "source": [
    "freq_tensor, indices = comp.get_tensor(log=False)"
   ]
  },
  {
   "cell_type": "code",
   "execution_count": 5,
   "metadata": {},
   "outputs": [],
   "source": [
    "dense = freq_tensor.toarray()"
   ]
  },
  {
   "cell_type": "code",
   "execution_count": 6,
   "metadata": {},
   "outputs": [
    {
     "data": {
      "text/plain": [
       "5430523.0"
      ]
     },
     "execution_count": 6,
     "metadata": {},
     "output_type": "execute_result"
    }
   ],
   "source": [
    "np.sum(dense)"
   ]
  },
  {
   "cell_type": "code",
   "execution_count": 7,
   "metadata": {},
   "outputs": [
    {
     "data": {
      "text/plain": [
       "5047.0"
      ]
     },
     "execution_count": 7,
     "metadata": {},
     "output_type": "execute_result"
    }
   ],
   "source": [
    "dense[1,1,0]"
   ]
  },
  {
   "cell_type": "code",
   "execution_count": 8,
   "metadata": {},
   "outputs": [],
   "source": [
    "def get_marginal(tensor, i):\n",
    "    shape = [1] * tensor.ndim\n",
    "    shape[i] = -1\n",
    "    return tensor.reshape((tensor.shape[i], -1)).sum(axis=1).reshape(shape)"
   ]
  },
  {
   "cell_type": "code",
   "execution_count": 9,
   "metadata": {},
   "outputs": [
    {
     "name": "stderr",
     "output_type": "stream",
     "text": [
      "DEBUG    [2] 5047.0\n",
      "DEBUG    [4] 0.0831918505942275\n",
      "DEBUG    [2] 0.0831918505942275\n",
      "DEBUG    [4] 1.715773474971951e-07\n",
      "DEBUG    [2] 1.715773474971951e-07\n",
      "DEBUG    [4] 3.601116314983862e-14\n"
     ]
    }
   ],
   "source": [
    "for marginal in [get_marginal(dense, i) for i in range(dense.ndim)]:\n",
    "    logging.debug(dense[1,1,0])\n",
    "    dense /= marginal\n",
    "    logging.debug(dense[1,1,0])"
   ]
  },
  {
   "cell_type": "code",
   "execution_count": 10,
   "metadata": {},
   "outputs": [],
   "source": [
    "dense[dense < 1] = 1\n",
    "if True:\n",
    "    dense = np.log(dense)\n",
    "    dense += 2 * np.log(5439762)\n",
    "else:\n",
    "    dense *= 5439762**2\n",
    "    dense = np.log(dense)"
   ]
  }
 ],
 "metadata": {
  "kernelspec": {
   "display_name": "Python 3",
   "language": "python",
   "name": "python3"
  },
  "language_info": {
   "codemirror_mode": {
    "name": "ipython",
    "version": 3
   },
   "file_extension": ".py",
   "mimetype": "text/x-python",
   "name": "python",
   "nbconvert_exporter": "python",
   "pygments_lexer": "ipython3",
   "version": "3.7.1"
  }
 },
 "nbformat": 4,
 "nbformat_minor": 2
}
