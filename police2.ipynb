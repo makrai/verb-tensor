{
 "cells": [
  {
   "cell_type": "code",
   "execution_count": null,
   "metadata": {},
   "outputs": [],
   "source": [
    "import pickle\n",
    "\n",
    "import numpy as np\n",
    "import sktensor\n",
    "\n",
    "from verbtensor import VerbTensorDecomposition\n",
    "\n",
    "import logging\n",
    "logging.basicConfig(level=logging.INFO, \n",
    "                    format='%(msecs)d %(levelname)-8s [%(lineno)d] %(message)s')"
   ]
  },
  {
   "cell_type": "code",
   "execution_count": null,
   "metadata": {},
   "outputs": [],
   "source": [
    "comp = VerbTensorDecomposition(False, 2**15, 100)"
   ]
  },
  {
   "cell_type": "markdown",
   "metadata": {},
   "source": [
    "# Sparse"
   ]
  },
  {
   "cell_type": "code",
   "execution_count": null,
   "metadata": {},
   "outputs": [],
   "source": [
    "pmi_tensor, indices = comp.get_tensor(divide_by_marginal=True, log=False)"
   ]
  },
  {
   "cell_type": "code",
   "execution_count": null,
   "metadata": {},
   "outputs": [],
   "source": [
    "indices[0]"
   ]
  },
  {
   "cell_type": "code",
   "execution_count": null,
   "metadata": {},
   "outputs": [],
   "source": [
    "pmi_tensor.toarray()[:3,:3,:3]"
   ]
  },
  {
   "cell_type": "code",
   "execution_count": null,
   "metadata": {},
   "outputs": [],
   "source": [
    "np.log(2.54223926e-02)"
   ]
  },
  {
   "cell_type": "code",
   "execution_count": null,
   "metadata": {},
   "outputs": [],
   "source": [
    "vocab = [dict((i, w) for w, i in indices[j].items()) for j in range(len(indices))]"
   ]
  },
  {
   "cell_type": "code",
   "execution_count": null,
   "metadata": {},
   "outputs": [],
   "source": [
    "for svo_i in zip(*np.unravel_index(np.argsort(pmi_tensor.toarray().reshape(-1)), pmi_tensor.shape)):\n",
    "    s, v, o = (vocab[ax_i][word_i] for ax_i, word_i in enumerate(svo_i))\n",
    "    if s and v and o and 'NULL' not in set([s, v, o]):\n",
    "        print(' '.join([s, v, o]))"
   ]
  },
  {
   "cell_type": "code",
   "execution_count": null,
   "metadata": {},
   "outputs": [],
   "source": [
    "sparse_tensor, index = pickle.load(open(\n",
    "    '/mnt/permanent/home/makrai/project/verb-tensor/sktensor/tensor_8.pkl', mode='rb'))"
   ]
  },
  {
   "cell_type": "code",
   "execution_count": null,
   "metadata": {},
   "outputs": [],
   "source": [
    "ktensor, fit, n_iterations, exectimes = pickle.load(open(\n",
    "    '/mnt/permanent/home/makrai/project/verb-tensor/sktensor/decomp_4_50.pkl', mode='rb'))"
   ]
  },
  {
   "cell_type": "code",
   "execution_count": null,
   "metadata": {},
   "outputs": [],
   "source": [
    "sparse_tensor.ttv(1/np.asarray(marginals[0]).reshape(-1), modes=[0])"
   ]
  },
  {
   "cell_type": "code",
   "execution_count": null,
   "metadata": {},
   "outputs": [],
   "source": [
    "i_word = [{i: w for w, i in index[j].items()} for j in range(len(index))]"
   ]
  },
  {
   "cell_type": "code",
   "execution_count": null,
   "metadata": {},
   "outputs": [],
   "source": [
    "i_word[2][0]"
   ]
  },
  {
   "cell_type": "code",
   "execution_count": null,
   "metadata": {},
   "outputs": [],
   "source": [
    "vocab = [np.array([i_word[j][i] for i in range(len(i_word[j]))]) for j in range(len(i_word))]"
   ]
  },
  {
   "cell_type": "code",
   "execution_count": null,
   "metadata": {},
   "outputs": [],
   "source": [
    "for k, j in enumerate(np.argsort(-ktensor.lmbda)):#range(ktensor.rank):#\n",
    "    print('\\n{} {}'.format(k, j))\n",
    "    for i in range(len(ktensor.U)):\n",
    "        print(vocab[i][np.argsort(ktensor.U[i][:,j])[:7]])"
   ]
  },
  {
   "cell_type": "markdown",
   "metadata": {},
   "source": [
    "# Dense"
   ]
  },
  {
   "cell_type": "code",
   "execution_count": null,
   "metadata": {},
   "outputs": [],
   "source": [
    "freq_tensor, indices = comp.get_tensor(log=False)"
   ]
  },
  {
   "cell_type": "code",
   "execution_count": null,
   "metadata": {},
   "outputs": [],
   "source": [
    "dense = freq_tensor.toarray()"
   ]
  },
  {
   "cell_type": "code",
   "execution_count": null,
   "metadata": {},
   "outputs": [],
   "source": [
    "np.sum(dense)"
   ]
  },
  {
   "cell_type": "code",
   "execution_count": null,
   "metadata": {},
   "outputs": [],
   "source": [
    "dense[1,1,0]"
   ]
  },
  {
   "cell_type": "code",
   "execution_count": null,
   "metadata": {},
   "outputs": [],
   "source": [
    "def get_marginal(tensor, i):\n",
    "    shape = [1] * tensor.ndim\n",
    "    shape[i] = -1\n",
    "    return tensor.reshape((tensor.shape[i], -1)).sum(axis=1).reshape(shape)"
   ]
  },
  {
   "cell_type": "code",
   "execution_count": null,
   "metadata": {},
   "outputs": [],
   "source": [
    "for marginal in [get_marginal(dense, i) for i in range(dense.ndim)]:\n",
    "    logging.debug(dense[1,1,0])\n",
    "    dense /= marginal\n",
    "    logging.debug(dense[1,1,0])"
   ]
  },
  {
   "cell_type": "code",
   "execution_count": null,
   "metadata": {},
   "outputs": [],
   "source": [
    "dense[dense < 1] = 1\n",
    "if True:\n",
    "    dense = np.log(dense)\n",
    "    dense += 2 * np.log(5439762)\n",
    "else:\n",
    "    dense *= 5439762**2\n",
    "    dense = np.log(dense)"
   ]
  }
 ],
 "metadata": {
  "kernelspec": {
   "display_name": "Python 3",
   "language": "python",
   "name": "python3"
  },
  "language_info": {
   "codemirror_mode": {
    "name": "ipython",
    "version": 3
   },
   "file_extension": ".py",
   "mimetype": "text/x-python",
   "name": "python",
   "nbconvert_exporter": "python",
   "pygments_lexer": "ipython3",
   "version": "3.7.1"
  }
 },
 "nbformat": 4,
 "nbformat_minor": 2
}
