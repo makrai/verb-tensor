{
 "cells": [
  {
   "cell_type": "code",
   "execution_count": 1,
   "metadata": {},
   "outputs": [],
   "source": [
    "import configparser\n",
    "import os\n",
    "import pickle\n",
    "\n",
    "import numpy as np\n",
    "import pandas as pd\n",
    "from sklearn.linear_model import LinearRegression\n",
    "from scipy.spatial.distance import cosine\n",
    "from eval_tensor import VerbTensorEvaluator"
   ]
  },
  {
   "cell_type": "code",
   "execution_count": 2,
   "metadata": {},
   "outputs": [
    {
     "name": "stdout",
     "output_type": "stream",
     "text": [
      "Populating the interactive namespace from numpy and matplotlib\n"
     ]
    }
   ],
   "source": [
    "import matplotlib.pyplot as plt\n",
    "%pylab inline\n",
    "pylab.rcParams['figure.figsize'] = (20, 10)"
   ]
  },
  {
   "cell_type": "code",
   "execution_count": 3,
   "metadata": {},
   "outputs": [],
   "source": [
    "config = configparser.ConfigParser()\n",
    "config.read('config.ini')\n",
    "tensor_dir = os.path.join(config['DEFAULT']['ProjectDirectory'], 'tensor/')"
   ]
  },
  {
   "cell_type": "code",
   "execution_count": 4,
   "metadata": {},
   "outputs": [],
   "source": [
    "evalor = VerbTensorEvaluator(cutoff=50000, decomp_algo='parafac', rank=256)"
   ]
  },
  {
   "cell_type": "code",
   "execution_count": 5,
   "metadata": {},
   "outputs": [],
   "source": [
    "evalor.load_embeddings()"
   ]
  },
  {
   "cell_type": "code",
   "execution_count": 6,
   "metadata": {},
   "outputs": [],
   "source": [
    "subj = pd.Series(evalor.index['nsubj'])"
   ]
  },
  {
   "cell_type": "code",
   "execution_count": 7,
   "metadata": {},
   "outputs": [],
   "source": [
    "obj = pd.Series(evalor.index['dobj'])"
   ]
  },
  {
   "cell_type": "code",
   "execution_count": 8,
   "metadata": {},
   "outputs": [],
   "source": [
    "cutoff=80000"
   ]
  },
  {
   "cell_type": "code",
   "execution_count": 9,
   "metadata": {},
   "outputs": [
    {
     "name": "stderr",
     "output_type": "stream",
     "text": [
      "/home/makrai/tool/python/vtensor/lib/python3.7/site-packages/ipykernel_launcher.py:1: FutureWarning: Index.__and__ operating as a set operation is deprecated, in the future this will be a logical operation matching Series.__and__.  Use index.intersection(other) instead\n",
      "  \"\"\"Entry point for launching an IPython kernel.\n"
     ]
    }
   ],
   "source": [
    "vocab = list(subj.head(cutoff).index & obj.head(cutoff).index)"
   ]
  },
  {
   "cell_type": "code",
   "execution_count": 10,
   "metadata": {},
   "outputs": [],
   "source": [
    "subj_embed = evalor.decomped_tns.factors[0][np.array([subj.loc[w] for w in vocab])]"
   ]
  },
  {
   "cell_type": "code",
   "execution_count": 11,
   "metadata": {},
   "outputs": [],
   "source": [
    "obj_embed = evalor.decomped_tns.factors[2][np.array([obj.loc[w] for w in vocab])]"
   ]
  },
  {
   "cell_type": "code",
   "execution_count": 12,
   "metadata": {},
   "outputs": [],
   "source": [
    "#regression = LinearRegression(n_jobs=-1)"
   ]
  },
  {
   "cell_type": "code",
   "execution_count": 13,
   "metadata": {},
   "outputs": [],
   "source": [
    "#regression.fit(subj_embed, obj_embed)"
   ]
  },
  {
   "cell_type": "code",
   "execution_count": 14,
   "metadata": {},
   "outputs": [],
   "source": [
    "sim = np.sum(subj_embed*(obj_embed), axis=1)"
   ]
  },
  {
   "cell_type": "code",
   "execution_count": 15,
   "metadata": {},
   "outputs": [],
   "source": [
    "#diff_norm = np.apply_along_axis(np.linalg.norm, 1, diff.todense())"
   ]
  },
  {
   "cell_type": "code",
   "execution_count": 16,
   "metadata": {},
   "outputs": [
    {
     "data": {
      "text/plain": [
       "'analysis, decision, diagram, insight, example, summary, show, overview, guide, introduction'"
      ]
     },
     "execution_count": 16,
     "metadata": {},
     "output_type": "execute_result"
    }
   ],
   "source": [
    "', '.join([vocab[i] for i in np.argsort(sim.todense())[:10]])"
   ]
  },
  {
   "cell_type": "code",
   "execution_count": 22,
   "metadata": {},
   "outputs": [
    {
     "data": {
      "text/plain": [
       "', he, she, they, -rsb-, that, $, -rsb-_NNS, we, I'"
      ]
     },
     "execution_count": 22,
     "metadata": {},
     "output_type": "execute_result"
    }
   ],
   "source": [
    "', '.join([vocab[i] for i in np.argsort(-sim.todense())[:10]])"
   ]
  },
  {
   "cell_type": "code",
   "execution_count": 18,
   "metadata": {},
   "outputs": [],
   "source": [
    "noun = 'room'"
   ]
  },
  {
   "cell_type": "code",
   "execution_count": 19,
   "metadata": {},
   "outputs": [],
   "source": [
    "df = pd.read_pickle(os.path.join(config['DEFAULT']['ProjectDirectory'], 'dataframe/assoc.pkl')).reset_index()"
   ]
  },
  {
   "cell_type": "code",
   "execution_count": 20,
   "metadata": {},
   "outputs": [
    {
     "data": {
      "text/html": [
       "<div>\n",
       "<style scoped>\n",
       "    .dataframe tbody tr th:only-of-type {\n",
       "        vertical-align: middle;\n",
       "    }\n",
       "\n",
       "    .dataframe tbody tr th {\n",
       "        vertical-align: top;\n",
       "    }\n",
       "\n",
       "    .dataframe thead th {\n",
       "        text-align: right;\n",
       "    }\n",
       "</style>\n",
       "<table border=\"1\" class=\"dataframe\">\n",
       "  <thead>\n",
       "    <tr style=\"text-align: right;\">\n",
       "      <th></th>\n",
       "      <th>nsubj</th>\n",
       "      <th>ROOT</th>\n",
       "      <th>dobj</th>\n",
       "      <th>freq</th>\n",
       "      <th>freq_nsubj</th>\n",
       "      <th>freq_ROOT</th>\n",
       "      <th>freq_dobj</th>\n",
       "      <th>freq_('nsubj', 'ROOT')</th>\n",
       "      <th>freq_('nsubj', 'dobj')</th>\n",
       "      <th>freq_('ROOT', 'dobj')</th>\n",
       "      <th>...</th>\n",
       "      <th>log_freq</th>\n",
       "      <th>log_prob</th>\n",
       "      <th>pmi</th>\n",
       "      <th>iact</th>\n",
       "      <th>npmi</th>\n",
       "      <th>niact</th>\n",
       "      <th>pmi_sali</th>\n",
       "      <th>iact_sali</th>\n",
       "      <th>ldice</th>\n",
       "      <th>ldice_sali</th>\n",
       "    </tr>\n",
       "  </thead>\n",
       "  <tbody>\n",
       "    <tr>\n",
       "      <th>4052</th>\n",
       "      <td>we</td>\n",
       "      <td>have</td>\n",
       "      <td>room</td>\n",
       "      <td>267570</td>\n",
       "      <td>631539931</td>\n",
       "      <td>759840025</td>\n",
       "      <td>8169644</td>\n",
       "      <td>75910466</td>\n",
       "      <td>569581</td>\n",
       "      <td>1542706</td>\n",
       "      <td>...</td>\n",
       "      <td>18.029557</td>\n",
       "      <td>-15.537170</td>\n",
       "      <td>3.465750</td>\n",
       "      <td>0.000000</td>\n",
       "      <td>0.223062</td>\n",
       "      <td>0.000000</td>\n",
       "      <td>62.485945</td>\n",
       "      <td>0.000000</td>\n",
       "      <td>20.547688</td>\n",
       "      <td>370.465703</td>\n",
       "    </tr>\n",
       "    <tr>\n",
       "      <th>6312</th>\n",
       "      <td>I</td>\n",
       "      <td>have</td>\n",
       "      <td>room</td>\n",
       "      <td>178670</td>\n",
       "      <td>1669086425</td>\n",
       "      <td>759840025</td>\n",
       "      <td>8169644</td>\n",
       "      <td>138262188</td>\n",
       "      <td>512408</td>\n",
       "      <td>1542706</td>\n",
       "      <td>...</td>\n",
       "      <td>17.446938</td>\n",
       "      <td>-16.119789</td>\n",
       "      <td>1.481019</td>\n",
       "      <td>0.000000</td>\n",
       "      <td>0.091876</td>\n",
       "      <td>0.000000</td>\n",
       "      <td>25.839242</td>\n",
       "      <td>0.000000</td>\n",
       "      <td>19.164868</td>\n",
       "      <td>334.368265</td>\n",
       "    </tr>\n",
       "    <tr>\n",
       "      <th>7001</th>\n",
       "      <td>you</td>\n",
       "      <td>have</td>\n",
       "      <td>room</td>\n",
       "      <td>163517</td>\n",
       "      <td>1035768758</td>\n",
       "      <td>759840025</td>\n",
       "      <td>8169644</td>\n",
       "      <td>108966044</td>\n",
       "      <td>600674</td>\n",
       "      <td>1542706</td>\n",
       "      <td>...</td>\n",
       "      <td>17.319081</td>\n",
       "      <td>-16.247646</td>\n",
       "      <td>2.041519</td>\n",
       "      <td>0.289187</td>\n",
       "      <td>0.125650</td>\n",
       "      <td>0.017799</td>\n",
       "      <td>35.357227</td>\n",
       "      <td>5.008452</td>\n",
       "      <td>19.471152</td>\n",
       "      <td>337.222468</td>\n",
       "    </tr>\n",
       "    <tr>\n",
       "      <th>12257</th>\n",
       "      <td>they</td>\n",
       "      <td>have</td>\n",
       "      <td>room</td>\n",
       "      <td>99944</td>\n",
       "      <td>446678560</td>\n",
       "      <td>759840025</td>\n",
       "      <td>8169644</td>\n",
       "      <td>42480004</td>\n",
       "      <td>257583</td>\n",
       "      <td>1542706</td>\n",
       "      <td>...</td>\n",
       "      <td>16.608832</td>\n",
       "      <td>-16.957895</td>\n",
       "      <td>2.544663</td>\n",
       "      <td>0.000000</td>\n",
       "      <td>0.150058</td>\n",
       "      <td>0.000000</td>\n",
       "      <td>42.263880</td>\n",
       "      <td>0.000000</td>\n",
       "      <td>19.331340</td>\n",
       "      <td>321.070981</td>\n",
       "    </tr>\n",
       "    <tr>\n",
       "      <th>15232</th>\n",
       "      <td>it</td>\n",
       "      <td>have</td>\n",
       "      <td>room</td>\n",
       "      <td>82308</td>\n",
       "      <td>549081903</td>\n",
       "      <td>759840025</td>\n",
       "      <td>8169644</td>\n",
       "      <td>27477261</td>\n",
       "      <td>248687</td>\n",
       "      <td>1542706</td>\n",
       "      <td>...</td>\n",
       "      <td>16.328745</td>\n",
       "      <td>-17.237982</td>\n",
       "      <td>1.966791</td>\n",
       "      <td>0.000000</td>\n",
       "      <td>0.114096</td>\n",
       "      <td>0.000000</td>\n",
       "      <td>32.115233</td>\n",
       "      <td>0.000000</td>\n",
       "      <td>18.934483</td>\n",
       "      <td>309.176343</td>\n",
       "    </tr>\n",
       "    <tr>\n",
       "      <th>15584</th>\n",
       "      <td>you</td>\n",
       "      <td>reserve</td>\n",
       "      <td>room</td>\n",
       "      <td>80594</td>\n",
       "      <td>1035768758</td>\n",
       "      <td>6715100</td>\n",
       "      <td>8169644</td>\n",
       "      <td>184864</td>\n",
       "      <td>600674</td>\n",
       "      <td>199990</td>\n",
       "      <td>...</td>\n",
       "      <td>16.298385</td>\n",
       "      <td>-17.268342</td>\n",
       "      <td>7.842965</td>\n",
       "      <td>0.000000</td>\n",
       "      <td>0.454182</td>\n",
       "      <td>0.000000</td>\n",
       "      <td>127.827668</td>\n",
       "      <td>0.000000</td>\n",
       "      <td>19.230191</td>\n",
       "      <td>313.421058</td>\n",
       "    </tr>\n",
       "    <tr>\n",
       "      <th>21737</th>\n",
       "      <td>room</td>\n",
       "      <td>have</td>\n",
       "      <td>view</td>\n",
       "      <td>58900</td>\n",
       "      <td>4157889</td>\n",
       "      <td>759840025</td>\n",
       "      <td>9008517</td>\n",
       "      <td>786042</td>\n",
       "      <td>93286</td>\n",
       "      <td>1394671</td>\n",
       "      <td>...</td>\n",
       "      <td>15.845980</td>\n",
       "      <td>-17.720747</td>\n",
       "      <td>8.388036</td>\n",
       "      <td>0.000000</td>\n",
       "      <td>0.473346</td>\n",
       "      <td>0.000000</td>\n",
       "      <td>132.916653</td>\n",
       "      <td>0.000000</td>\n",
       "      <td>19.220521</td>\n",
       "      <td>304.567994</td>\n",
       "    </tr>\n",
       "    <tr>\n",
       "      <th>23160</th>\n",
       "      <td>room</td>\n",
       "      <td>have</td>\n",
       "      <td>bed</td>\n",
       "      <td>55617</td>\n",
       "      <td>4157889</td>\n",
       "      <td>759840025</td>\n",
       "      <td>1615143</td>\n",
       "      <td>786042</td>\n",
       "      <td>89718</td>\n",
       "      <td>560001</td>\n",
       "      <td>...</td>\n",
       "      <td>15.763238</td>\n",
       "      <td>-17.803489</td>\n",
       "      <td>10.784922</td>\n",
       "      <td>0.824145</td>\n",
       "      <td>0.605776</td>\n",
       "      <td>0.046291</td>\n",
       "      <td>170.005298</td>\n",
       "      <td>12.991191</td>\n",
       "      <td>19.151644</td>\n",
       "      <td>301.891935</td>\n",
       "    </tr>\n",
       "    <tr>\n",
       "      <th>24740</th>\n",
       "      <td>hotel</td>\n",
       "      <td>have</td>\n",
       "      <td>room</td>\n",
       "      <td>52261</td>\n",
       "      <td>2701996</td>\n",
       "      <td>759840025</td>\n",
       "      <td>8169644</td>\n",
       "      <td>345170</td>\n",
       "      <td>125226</td>\n",
       "      <td>1542706</td>\n",
       "      <td>...</td>\n",
       "      <td>15.673447</td>\n",
       "      <td>-17.893280</td>\n",
       "      <td>8.978345</td>\n",
       "      <td>0.000000</td>\n",
       "      <td>0.501772</td>\n",
       "      <td>0.000000</td>\n",
       "      <td>140.721621</td>\n",
       "      <td>0.000000</td>\n",
       "      <td>19.052277</td>\n",
       "      <td>298.614863</td>\n",
       "    </tr>\n",
       "    <tr>\n",
       "      <th>25603</th>\n",
       "      <td>room</td>\n",
       "      <td>have</td>\n",
       "      <td>bathroom</td>\n",
       "      <td>50581</td>\n",
       "      <td>4157889</td>\n",
       "      <td>759840025</td>\n",
       "      <td>635216</td>\n",
       "      <td>786042</td>\n",
       "      <td>88835</td>\n",
       "      <td>203506</td>\n",
       "      <td>...</td>\n",
       "      <td>15.626308</td>\n",
       "      <td>-17.940419</td>\n",
       "      <td>11.994335</td>\n",
       "      <td>0.832791</td>\n",
       "      <td>0.668565</td>\n",
       "      <td>0.046420</td>\n",
       "      <td>187.427165</td>\n",
       "      <td>13.013443</td>\n",
       "      <td>19.016562</td>\n",
       "      <td>297.158650</td>\n",
       "    </tr>\n",
       "  </tbody>\n",
       "</table>\n",
       "<p>10 rows × 26 columns</p>\n",
       "</div>"
      ],
      "text/plain": [
       "       nsubj     ROOT      dobj    freq  freq_nsubj  freq_ROOT  freq_dobj  \\\n",
       "4052      we     have      room  267570   631539931  759840025    8169644   \n",
       "6312       I     have      room  178670  1669086425  759840025    8169644   \n",
       "7001     you     have      room  163517  1035768758  759840025    8169644   \n",
       "12257   they     have      room   99944   446678560  759840025    8169644   \n",
       "15232     it     have      room   82308   549081903  759840025    8169644   \n",
       "15584    you  reserve      room   80594  1035768758    6715100    8169644   \n",
       "21737   room     have      view   58900     4157889  759840025    9008517   \n",
       "23160   room     have       bed   55617     4157889  759840025    1615143   \n",
       "24740  hotel     have      room   52261     2701996  759840025    8169644   \n",
       "25603   room     have  bathroom   50581     4157889  759840025     635216   \n",
       "\n",
       "       freq_('nsubj', 'ROOT')  freq_('nsubj', 'dobj')  freq_('ROOT', 'dobj')  \\\n",
       "4052                 75910466                  569581                1542706   \n",
       "6312                138262188                  512408                1542706   \n",
       "7001                108966044                  600674                1542706   \n",
       "12257                42480004                  257583                1542706   \n",
       "15232                27477261                  248687                1542706   \n",
       "15584                  184864                  600674                 199990   \n",
       "21737                  786042                   93286                1394671   \n",
       "23160                  786042                   89718                 560001   \n",
       "24740                  345170                  125226                1542706   \n",
       "25603                  786042                   88835                 203506   \n",
       "\n",
       "       ...   log_freq   log_prob        pmi      iact      npmi     niact  \\\n",
       "4052   ...  18.029557 -15.537170   3.465750  0.000000  0.223062  0.000000   \n",
       "6312   ...  17.446938 -16.119789   1.481019  0.000000  0.091876  0.000000   \n",
       "7001   ...  17.319081 -16.247646   2.041519  0.289187  0.125650  0.017799   \n",
       "12257  ...  16.608832 -16.957895   2.544663  0.000000  0.150058  0.000000   \n",
       "15232  ...  16.328745 -17.237982   1.966791  0.000000  0.114096  0.000000   \n",
       "15584  ...  16.298385 -17.268342   7.842965  0.000000  0.454182  0.000000   \n",
       "21737  ...  15.845980 -17.720747   8.388036  0.000000  0.473346  0.000000   \n",
       "23160  ...  15.763238 -17.803489  10.784922  0.824145  0.605776  0.046291   \n",
       "24740  ...  15.673447 -17.893280   8.978345  0.000000  0.501772  0.000000   \n",
       "25603  ...  15.626308 -17.940419  11.994335  0.832791  0.668565  0.046420   \n",
       "\n",
       "         pmi_sali  iact_sali      ldice  ldice_sali  \n",
       "4052    62.485945   0.000000  20.547688  370.465703  \n",
       "6312    25.839242   0.000000  19.164868  334.368265  \n",
       "7001    35.357227   5.008452  19.471152  337.222468  \n",
       "12257   42.263880   0.000000  19.331340  321.070981  \n",
       "15232   32.115233   0.000000  18.934483  309.176343  \n",
       "15584  127.827668   0.000000  19.230191  313.421058  \n",
       "21737  132.916653   0.000000  19.220521  304.567994  \n",
       "23160  170.005298  12.991191  19.151644  301.891935  \n",
       "24740  140.721621   0.000000  19.052277  298.614863  \n",
       "25603  187.427165  13.013443  19.016562  297.158650  \n",
       "\n",
       "[10 rows x 26 columns]"
      ]
     },
     "execution_count": 20,
     "metadata": {},
     "output_type": "execute_result"
    }
   ],
   "source": [
    "df[(df.nsubj!='')&(df.dobj!='')&((df.nsubj==noun)|(df.dobj==noun))].head(10)"
   ]
  },
  {
   "cell_type": "code",
   "execution_count": 21,
   "metadata": {},
   "outputs": [
    {
     "ename": "IndexingError",
     "evalue": "Too many indexers",
     "output_type": "error",
     "traceback": [
      "\u001b[0;31m---------------------------------------------------------------------------\u001b[0m",
      "\u001b[0;31mIndexingError\u001b[0m                             Traceback (most recent call last)",
      "\u001b[0;32m<ipython-input-21-bfdf871e74ad>\u001b[0m in \u001b[0;36m<module>\u001b[0;34m\u001b[0m\n\u001b[0;32m----> 1\u001b[0;31m \u001b[0mdf\u001b[0m\u001b[0;34m.\u001b[0m\u001b[0mloc\u001b[0m\u001b[0;34m[\u001b[0m\u001b[0;34m:\u001b[0m\u001b[0;34m,\u001b[0m\u001b[0;34m:\u001b[0m\u001b[0;34m,\u001b[0m\u001b[0;34m'excellence'\u001b[0m\u001b[0;34m]\u001b[0m\u001b[0;34m.\u001b[0m\u001b[0mhead\u001b[0m\u001b[0;34m(\u001b[0m\u001b[0;34m)\u001b[0m\u001b[0;34m\u001b[0m\u001b[0;34m\u001b[0m\u001b[0m\n\u001b[0m",
      "\u001b[0;32m~/tool/python/vtensor/lib/python3.7/site-packages/pandas/core/indexing.py\u001b[0m in \u001b[0;36m__getitem__\u001b[0;34m(self, key)\u001b[0m\n\u001b[1;32m    887\u001b[0m                     \u001b[0;31m# AttributeError for IntervalTree get_value\u001b[0m\u001b[0;34m\u001b[0m\u001b[0;34m\u001b[0m\u001b[0;34m\u001b[0m\u001b[0m\n\u001b[1;32m    888\u001b[0m                     \u001b[0;32mreturn\u001b[0m \u001b[0mself\u001b[0m\u001b[0;34m.\u001b[0m\u001b[0mobj\u001b[0m\u001b[0;34m.\u001b[0m\u001b[0m_get_value\u001b[0m\u001b[0;34m(\u001b[0m\u001b[0;34m*\u001b[0m\u001b[0mkey\u001b[0m\u001b[0;34m,\u001b[0m \u001b[0mtakeable\u001b[0m\u001b[0;34m=\u001b[0m\u001b[0mself\u001b[0m\u001b[0;34m.\u001b[0m\u001b[0m_takeable\u001b[0m\u001b[0;34m)\u001b[0m\u001b[0;34m\u001b[0m\u001b[0;34m\u001b[0m\u001b[0m\n\u001b[0;32m--> 889\u001b[0;31m             \u001b[0;32mreturn\u001b[0m \u001b[0mself\u001b[0m\u001b[0;34m.\u001b[0m\u001b[0m_getitem_tuple\u001b[0m\u001b[0;34m(\u001b[0m\u001b[0mkey\u001b[0m\u001b[0;34m)\u001b[0m\u001b[0;34m\u001b[0m\u001b[0;34m\u001b[0m\u001b[0m\n\u001b[0m\u001b[1;32m    890\u001b[0m         \u001b[0;32melse\u001b[0m\u001b[0;34m:\u001b[0m\u001b[0;34m\u001b[0m\u001b[0;34m\u001b[0m\u001b[0m\n\u001b[1;32m    891\u001b[0m             \u001b[0;31m# we by definition only have the 0th axis\u001b[0m\u001b[0;34m\u001b[0m\u001b[0;34m\u001b[0m\u001b[0;34m\u001b[0m\u001b[0m\n",
      "\u001b[0;32m~/tool/python/vtensor/lib/python3.7/site-packages/pandas/core/indexing.py\u001b[0m in \u001b[0;36m_getitem_tuple\u001b[0;34m(self, tup)\u001b[0m\n\u001b[1;32m   1061\u001b[0m \u001b[0;34m\u001b[0m\u001b[0m\n\u001b[1;32m   1062\u001b[0m         \u001b[0;31m# no multi-index, so validate all of the indexers\u001b[0m\u001b[0;34m\u001b[0m\u001b[0;34m\u001b[0m\u001b[0;34m\u001b[0m\u001b[0m\n\u001b[0;32m-> 1063\u001b[0;31m         \u001b[0mself\u001b[0m\u001b[0;34m.\u001b[0m\u001b[0m_has_valid_tuple\u001b[0m\u001b[0;34m(\u001b[0m\u001b[0mtup\u001b[0m\u001b[0;34m)\u001b[0m\u001b[0;34m\u001b[0m\u001b[0;34m\u001b[0m\u001b[0m\n\u001b[0m\u001b[1;32m   1064\u001b[0m \u001b[0;34m\u001b[0m\u001b[0m\n\u001b[1;32m   1065\u001b[0m         \u001b[0;31m# ugly hack for GH #836\u001b[0m\u001b[0;34m\u001b[0m\u001b[0;34m\u001b[0m\u001b[0;34m\u001b[0m\u001b[0m\n",
      "\u001b[0;32m~/tool/python/vtensor/lib/python3.7/site-packages/pandas/core/indexing.py\u001b[0m in \u001b[0;36m_has_valid_tuple\u001b[0;34m(self, key)\u001b[0m\n\u001b[1;32m    718\u001b[0m         \u001b[0mCheck\u001b[0m \u001b[0mthe\u001b[0m \u001b[0mkey\u001b[0m \u001b[0;32mfor\u001b[0m \u001b[0mvalid\u001b[0m \u001b[0mkeys\u001b[0m \u001b[0macross\u001b[0m \u001b[0mmy\u001b[0m \u001b[0mindexer\u001b[0m\u001b[0;34m.\u001b[0m\u001b[0;34m\u001b[0m\u001b[0;34m\u001b[0m\u001b[0m\n\u001b[1;32m    719\u001b[0m         \"\"\"\n\u001b[0;32m--> 720\u001b[0;31m         \u001b[0mself\u001b[0m\u001b[0;34m.\u001b[0m\u001b[0m_validate_key_length\u001b[0m\u001b[0;34m(\u001b[0m\u001b[0mkey\u001b[0m\u001b[0;34m)\u001b[0m\u001b[0;34m\u001b[0m\u001b[0;34m\u001b[0m\u001b[0m\n\u001b[0m\u001b[1;32m    721\u001b[0m         \u001b[0;32mfor\u001b[0m \u001b[0mi\u001b[0m\u001b[0;34m,\u001b[0m \u001b[0mk\u001b[0m \u001b[0;32min\u001b[0m \u001b[0menumerate\u001b[0m\u001b[0;34m(\u001b[0m\u001b[0mkey\u001b[0m\u001b[0;34m)\u001b[0m\u001b[0;34m:\u001b[0m\u001b[0;34m\u001b[0m\u001b[0;34m\u001b[0m\u001b[0m\n\u001b[1;32m    722\u001b[0m             \u001b[0;32mtry\u001b[0m\u001b[0;34m:\u001b[0m\u001b[0;34m\u001b[0m\u001b[0;34m\u001b[0m\u001b[0m\n",
      "\u001b[0;32m~/tool/python/vtensor/lib/python3.7/site-packages/pandas/core/indexing.py\u001b[0m in \u001b[0;36m_validate_key_length\u001b[0;34m(self, key)\u001b[0m\n\u001b[1;32m    759\u001b[0m     \u001b[0;32mdef\u001b[0m \u001b[0m_validate_key_length\u001b[0m\u001b[0;34m(\u001b[0m\u001b[0mself\u001b[0m\u001b[0;34m,\u001b[0m \u001b[0mkey\u001b[0m\u001b[0;34m:\u001b[0m \u001b[0mSequence\u001b[0m\u001b[0;34m[\u001b[0m\u001b[0mAny\u001b[0m\u001b[0;34m]\u001b[0m\u001b[0;34m)\u001b[0m \u001b[0;34m->\u001b[0m \u001b[0;32mNone\u001b[0m\u001b[0;34m:\u001b[0m\u001b[0;34m\u001b[0m\u001b[0;34m\u001b[0m\u001b[0m\n\u001b[1;32m    760\u001b[0m         \u001b[0;32mif\u001b[0m \u001b[0mlen\u001b[0m\u001b[0;34m(\u001b[0m\u001b[0mkey\u001b[0m\u001b[0;34m)\u001b[0m \u001b[0;34m>\u001b[0m \u001b[0mself\u001b[0m\u001b[0;34m.\u001b[0m\u001b[0mndim\u001b[0m\u001b[0;34m:\u001b[0m\u001b[0;34m\u001b[0m\u001b[0;34m\u001b[0m\u001b[0m\n\u001b[0;32m--> 761\u001b[0;31m             \u001b[0;32mraise\u001b[0m \u001b[0mIndexingError\u001b[0m\u001b[0;34m(\u001b[0m\u001b[0;34m\"Too many indexers\"\u001b[0m\u001b[0;34m)\u001b[0m\u001b[0;34m\u001b[0m\u001b[0;34m\u001b[0m\u001b[0m\n\u001b[0m\u001b[1;32m    762\u001b[0m \u001b[0;34m\u001b[0m\u001b[0m\n\u001b[1;32m    763\u001b[0m     \u001b[0;32mdef\u001b[0m \u001b[0m_getitem_tuple_same_dim\u001b[0m\u001b[0;34m(\u001b[0m\u001b[0mself\u001b[0m\u001b[0;34m,\u001b[0m \u001b[0mtup\u001b[0m\u001b[0;34m:\u001b[0m \u001b[0mTuple\u001b[0m\u001b[0;34m)\u001b[0m\u001b[0;34m:\u001b[0m\u001b[0;34m\u001b[0m\u001b[0;34m\u001b[0m\u001b[0m\n",
      "\u001b[0;31mIndexingError\u001b[0m: Too many indexers"
     ]
    }
   ],
   "source": [
    "df.loc[:,:,'excellence'].head()"
   ]
  },
  {
   "cell_type": "code",
   "execution_count": null,
   "metadata": {},
   "outputs": [],
   "source": [
    "asymm = pd.Series(np.apply_along_axis(np.linalg.norm, 1, subj_embed - obj_embed),\n",
    "                 index=vocab)"
   ]
  },
  {
   "cell_type": "code",
   "execution_count": null,
   "metadata": {},
   "outputs": [],
   "source": [
    "#asymm.drop(np.nan, inplace=True)"
   ]
  },
  {
   "cell_type": "code",
   "execution_count": null,
   "metadata": {},
   "outputs": [],
   "source": [
    "asymm.plot()#linewidth=1)\n",
    "plt.yscale('log')"
   ]
  },
  {
   "cell_type": "code",
   "execution_count": null,
   "metadata": {},
   "outputs": [],
   "source": [
    "asymm.head(1000).plot()#linewidth=1)\n",
    "plt.yscale('log')"
   ]
  },
  {
   "cell_type": "code",
   "execution_count": null,
   "metadata": {},
   "outputs": [],
   "source": [
    "asymm.head(200).plot()#linewidth=1)\n",
    "plt.yscale('log')"
   ]
  },
  {
   "cell_type": "code",
   "execution_count": null,
   "metadata": {},
   "outputs": [],
   "source": [
    "np.where(asymm>.5)"
   ]
  },
  {
   "cell_type": "code",
   "execution_count": null,
   "metadata": {},
   "outputs": [],
   "source": [
    "asymm[132:142]"
   ]
  },
  {
   "cell_type": "code",
   "execution_count": null,
   "metadata": {},
   "outputs": [],
   "source": [
    "index['nsubj']['year']"
   ]
  },
  {
   "cell_type": "code",
   "execution_count": null,
   "metadata": {},
   "outputs": [],
   "source": [
    "index['nsubj']['place']"
   ]
  },
  {
   "cell_type": "code",
   "execution_count": null,
   "metadata": {},
   "outputs": [],
   "source": [
    "index['nsubj']['staff']"
   ]
  },
  {
   "cell_type": "code",
   "execution_count": null,
   "metadata": {},
   "outputs": [],
   "source": [
    "index['dobj']['year']"
   ]
  },
  {
   "cell_type": "code",
   "execution_count": null,
   "metadata": {},
   "outputs": [],
   "source": [
    "index['dobj']['place']"
   ]
  },
  {
   "cell_type": "code",
   "execution_count": null,
   "metadata": {},
   "outputs": [],
   "source": [
    "index['dobj']['staff']"
   ]
  },
  {
   "cell_type": "code",
   "execution_count": null,
   "metadata": {},
   "outputs": [],
   "source": [
    "asymm[138]"
   ]
  },
  {
   "cell_type": "code",
   "execution_count": null,
   "metadata": {},
   "outputs": [],
   "source": [
    "asymm.index[138]"
   ]
  }
 ],
 "metadata": {
  "kernelspec": {
   "display_name": "vtens",
   "language": "python",
   "name": "vtens"
  },
  "language_info": {
   "codemirror_mode": {
    "name": "ipython",
    "version": 3
   },
   "file_extension": ".py",
   "mimetype": "text/x-python",
   "name": "python",
   "nbconvert_exporter": "python",
   "pygments_lexer": "ipython3",
   "version": "3.7.6"
  }
 },
 "nbformat": 4,
 "nbformat_minor": 4
}
