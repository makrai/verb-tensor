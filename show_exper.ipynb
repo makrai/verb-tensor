{
 "cells": [
  {
   "cell_type": "code",
   "execution_count": 1,
   "metadata": {},
   "outputs": [
    {
     "name": "stdout",
     "output_type": "stream",
     "text": [
      "Populating the interactive namespace from numpy and matplotlib\n"
     ]
    },
    {
     "name": "stderr",
     "output_type": "stream",
     "text": [
      "/home/makrai/tool/python/miniconda3/lib/python3.7/site-packages/IPython/core/magics/pylab.py:160: UserWarning: pylab import has clobbered these variables: ['random']\n",
      "`%matplotlib` prevents importing * from pylab and numpy\n",
      "  \"\\n`%matplotlib` prevents importing * from pylab and numpy\"\n"
     ]
    }
   ],
   "source": [
    "from collections import defaultdict\n",
    "import glob\n",
    "from itertools import groupby\n",
    "import operator\n",
    "import os\n",
    "import re\n",
    "\n",
    "import numpy as np\n",
    "import pandas as pd\n",
    "import pickle\n",
    "import random\n",
    "import sparse\n",
    "#import tensorly as tl\n",
    "#import tensorly.decomposition as decomp\n",
    "import sktensor\n",
    "import urllib3\n",
    "#import wget\n",
    "\n",
    "import matplotlib.pyplot as plt\n",
    "%pylab inline\n",
    "pylab.rcParams['figure.figsize'] = (10, 6)\n",
    "\n",
    "import logging\n",
    "logging.basicConfig(level=logging.INFO, \n",
    "                    format='%(msecs)d %(levelname)-8s [%(lineno)d] %(message)s')\n",
    "\n",
    "if not os.path.exists('cp_orth.py'):\n",
    "    wget.download('http://web.stanford.edu/~vsharan/cp_orth.py')\n",
    "from cp_orth import orth_als"
   ]
  },
  {
   "cell_type": "code",
   "execution_count": 2,
   "metadata": {},
   "outputs": [],
   "source": [
    "def show_expers(sepatate_preverb=False, feature='exectimes'):\n",
    "    projdir = '/mnt/permanent/home/makrai/project/verb-tensor//'\n",
    "    tabular = []\n",
    "    mx = []\n",
    "    for filen in glob.glob(os.path.join(projdir, '{}/decomp_*.pkl').format(\n",
    "        'prev_sep' if sepatate_preverb else 'sktensor')):\n",
    "        _, cutoff, dim = os.path.splitext(filen)[0].rsplit('_', 2)\n",
    "        cutoff, dim = map(int, (cutoff, dim))\n",
    "        ktensor, fit, n_iterations, exectimes = pickle.load(open(filen, mode='rb'))\n",
    "        tabular.append((cutoff, dim, ktensor.shape))\n",
    "        mx.append([cutoff, dim, sum(exectimes)/60/60])\n",
    "    mx = np.array(mx)\n",
    "    print('\\n'.join(map(str, sorted(tabular, reverse=True))))\n",
    "    plt.scatter(np.array(mx).T[0], mx.T[1], c=mx.T[2], norm=matplotlib.colors.LogNorm())\n",
    "    plt.colorbar()\n",
    "    plt.xscale('log')"
   ]
  },
  {
   "cell_type": "code",
   "execution_count": 3,
   "metadata": {},
   "outputs": [
    {
     "name": "stdout",
     "output_type": "stream",
     "text": [
      "(131072, 3, (3, 11, 5))\n",
      "(32768, 10, (24, 85, 16))\n",
      "(16384, 25, (87, 185, 43))\n",
      "(16384, 20, (87, 185, 43))\n",
      "(16384, 10, (87, 185, 43))\n",
      "(16384, 5, (87, 185, 43))\n",
      "(16384, 4, (87, 185, 43))\n",
      "(16384, 3, (87, 185, 43))\n",
      "(8192, 100, (278, 414, 101))\n",
      "(8192, 5, (278, 414, 101))\n",
      "(8192, 4, (278, 414, 101))\n",
      "(8192, 3, (278, 414, 101))\n",
      "(4096, 100, (622, 773, 243))\n",
      "(4096, 10, (622, 773, 243))\n",
      "(4096, 5, (622, 773, 243))\n",
      "(4096, 4, (622, 773, 243))\n",
      "(4096, 3, (622, 773, 243))\n",
      "(2048, 100, (1251, 1293, 579))\n",
      "(2048, 50, (1251, 1293, 579))\n",
      "(2048, 10, (1251, 1293, 579))\n",
      "(2048, 6, (1251, 1293, 579))\n",
      "(2048, 5, (1251, 1293, 579))\n",
      "(2048, 4, (1251, 1293, 579))\n",
      "(2048, 3, (1251, 1293, 579))\n",
      "(1024, 100, (2489, 2084, 1196))\n",
      "(1024, 50, (2489, 2084, 1196))\n",
      "(1024, 5, (2489, 2084, 1196))\n",
      "(1024, 4, (2489, 2084, 1196))\n",
      "(1024, 3, (2489, 2084, 1196))\n",
      "(512, 100, (4598, 3269, 2183))\n",
      "(512, 50, (4598, 3269, 2183))\n",
      "(512, 4, (4598, 3269, 2183))\n",
      "(512, 3, (4598, 3269, 2183))\n",
      "(256, 100, (7957, 5054, 3740))\n",
      "(256, 50, (7957, 5054, 3740))\n",
      "(256, 4, (7957, 5054, 3740))\n",
      "(256, 3, (7957, 5054, 3740))\n",
      "(128, 100, (13093, 7345, 6116))\n",
      "(128, 50, (13093, 7345, 6116))\n",
      "(128, 4, (13093, 7345, 6116))\n",
      "(128, 3, (13093, 7345, 6116))\n",
      "(64, 100, (21033, 10294, 9874))\n",
      "(64, 50, (21033, 10294, 9874))\n",
      "(64, 4, (21033, 10294, 9874))\n",
      "(64, 3, (21033, 10294, 9874))\n",
      "(32, 50, (32708, 13951, 15740))\n",
      "(32, 4, (32708, 13951, 15740))\n",
      "(32, 3, (32708, 13951, 15740))\n",
      "(16, 50, (49356, 19025, 24551))\n",
      "(16, 4, (49356, 19025, 24551))\n",
      "(16, 3, (49356, 19025, 24551))\n",
      "(16, 2, (49356, 19026, 24551))\n",
      "(15, 2, (51178, 19617, 25566))\n",
      "(10, 2, (64677, 23683, 32896))\n",
      "(8, 50, (73531, 26420, 37784))\n",
      "(4, 50, (111839, 38261, 58839))\n"
     ]
    },
    {
     "data": {
      "image/png": "[encoded data removed]",
      "text/plain": [
       "<Figure size 432x288 with 2 Axes>"
      ]
     },
     "metadata": {
      "needs_background": "light"
     },
     "output_type": "display_data"
    }
   ],
   "source": [
    "_ = show_expers()"
   ]
  },
  {
   "cell_type": "code",
   "execution_count": 4,
   "metadata": {},
   "outputs": [
    {
     "name": "stdout",
     "output_type": "stream",
     "text": [
      "(131072, 3, (3, 9, 19, 5))\n",
      "(131072, 2, (3, 9, 19, 5))\n",
      "(65536, 5, (10, 15, 48, 9))\n",
      "(65536, 4, (10, 15, 48, 9))\n",
      "(65536, 3, (10, 15, 48, 9))\n",
      "(65536, 2, (10, 15, 48, 9))\n",
      "(32768, 10, (24, 16, 120, 16))\n",
      "(32768, 5, (24, 16, 120, 16))\n",
      "(32768, 3, (24, 16, 120, 16))\n",
      "(32768, 2, (24, 16, 120, 16))\n",
      "(16384, 2, (87, 25, 219, 43))\n",
      "(8192, 2, (278, 33, 384, 101))\n",
      "(4096, 2, (622, 48, 616, 243))\n",
      "(2048, 50, (1251, 58, 898, 579))\n",
      "(2048, 25, (1251, 58, 898, 579))\n",
      "(2048, 10, (1251, 58, 898, 579))\n",
      "(2048, 5, (1251, 58, 898, 579))\n",
      "(2048, 3, (1251, 58, 898, 579))\n",
      "(2048, 2, (1251, 58, 898, 579))\n",
      "(1024, 50, (2489, 67, 1358, 1196))\n"
     ]
    },
    {
     "data": {
      "image/png": "[encoded data removed]",
      "text/plain": [
       "<Figure size 432x288 with 2 Axes>"
      ]
     },
     "metadata": {
      "needs_background": "light"
     },
     "output_type": "display_data"
    }
   ],
   "source": [
    "_ = show_expers(sepatate_preverb=True)"
   ]
  }
 ],
 "metadata": {
  "kernelspec": {
   "display_name": "Python 3",
   "language": "python",
   "name": "python3"
  },
  "language_info": {
   "codemirror_mode": {
    "name": "ipython",
    "version": 3
   },
   "file_extension": ".py",
   "mimetype": "text/x-python",
   "name": "python",
   "nbconvert_exporter": "python",
   "pygments_lexer": "ipython3",
   "version": "3.7.1"
  }
 },
 "nbformat": 4,
 "nbformat_minor": 2
}
